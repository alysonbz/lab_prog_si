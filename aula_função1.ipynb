{
  "nbformat": 4,
  "nbformat_minor": 0,
  "metadata": {
    "colab": {
      "provenance": [],
      "authorship_tag": "ABX9TyPuA5dNa5znWq90DLoPkIbd",
      "include_colab_link": true
    },
    "kernelspec": {
      "name": "python3",
      "display_name": "Python 3"
    },
    "language_info": {
      "name": "python"
    }
  },
  "cells": [
    {
      "cell_type": "markdown",
      "metadata": {
        "id": "view-in-github",
        "colab_type": "text"
      },
      "source": [
        "<a href=\"https://colab.research.google.com/github/alysonbz/lab_prog_si/blob/antonio_erick/aula_fun%C3%A7%C3%A3o1.ipynb\" target=\"_parent\"><img src=\"https://colab.research.google.com/assets/colab-badge.svg\" alt=\"Open In Colab\"/></a>"
      ]
    },
    {
      "cell_type": "code",
      "source": [
        "# maior da lista\n",
        "list_num=[1,5,8,10,2]\n",
        "def max_valor_lista (list_num):\n",
        "    maior_valor = None\n",
        "    for numero in list_num:\n",
        "      if maior_valor == None:\n",
        "          maior_valor=numero\n",
        "      if numero > maior_valor:\n",
        "           maior_valor=numero\n",
        "    return maior_valor\n",
        "print(max_valor_lista(list_num))"
      ],
      "metadata": {
        "colab": {
          "base_uri": "https://localhost:8080/"
        },
        "id": "KVvyw5oJ_6T-",
        "outputId": "5b7c95bd-c31c-4df1-bde1-dd18161974a0"
      },
      "execution_count": null,
      "outputs": [
        {
          "output_type": "stream",
          "name": "stdout",
          "text": [
            "10\n"
          ]
        }
      ]
    },
    {
      "cell_type": "code",
      "source": [
        "\n",
        "#sua função aqui, contar a quantidade de elementos numa lista\n",
        "lista=[0,1,2,3,4,5,6,7,8]\n",
        "def quantidade_de_elementos(lista):\n",
        "    quantidade= 0\n",
        "    for elemento in lista:\n",
        "        quantidade +=1\n",
        "    return quantidade\n",
        "print(quantidade_de_elementos(lista))"
      ],
      "metadata": {
        "colab": {
          "base_uri": "https://localhost:8080/"
        },
        "id": "CCg6HZ4pA6ts",
        "outputId": "633fb644-05cd-4602-9823-23421ce9b459"
      },
      "execution_count": null,
      "outputs": [
        {
          "output_type": "stream",
          "name": "stdout",
          "text": [
            "9\n"
          ]
        }
      ]
    },
    {
      "cell_type": "code",
      "source": [
        "# valor máximo usado a função max\n",
        "lista_qualquer= [2,6,7,8,7,5,89]\n",
        "def max_valor_lista(lista_qualquer):\n",
        "  maior_valor= 0\n",
        "  return"
      ],
      "metadata": {
        "colab": {
          "base_uri": "https://localhost:8080/",
          "height": 106
        },
        "id": "IFdcRzGCA6kF",
        "outputId": "9611162b-5725-42ff-9f0d-357205326770"
      },
      "execution_count": null,
      "outputs": [
        {
          "output_type": "error",
          "ename": "SyntaxError",
          "evalue": "invalid syntax (<ipython-input-13-97627d129987>, line 4)",
          "traceback": [
            "\u001b[0;36m  File \u001b[0;32m\"<ipython-input-13-97627d129987>\"\u001b[0;36m, line \u001b[0;32m4\u001b[0m\n\u001b[0;31m    return max(lista_qualquer):\u001b[0m\n\u001b[0m                              ^\u001b[0m\n\u001b[0;31mSyntaxError\u001b[0m\u001b[0;31m:\u001b[0m invalid syntax\n"
          ]
        }
      ]
    },
    {
      "cell_type": "code",
      "source": [
        "list_num = [2,3,5,10,20]\n",
        "maior_valor = None\n",
        "for numero in list_num:\n",
        "  if maior_valor == None:\n",
        "      maior_valor = numero\n",
        "  if numero > maior_valor:\n",
        "      maior_valor = numero\n",
        "  print('Durante o loop: ', maior_valor)\n",
        "\n",
        "print('Resultado final: ', maior_valor)\n",
        ""
      ],
      "metadata": {
        "id": "1jsGAE7zHiOI"
      },
      "execution_count": null,
      "outputs": []
    },
    {
      "cell_type": "code",
      "source": [
        "#printando o maior valor dentro de uma lista\n",
        "list_num = [3,5,7,9]\n",
        "num=max(list_num)\n",
        "print(num)"
      ],
      "metadata": {
        "colab": {
          "base_uri": "https://localhost:8080/"
        },
        "id": "JV1r52TgsdOz",
        "outputId": "24d1cbb0-2aa7-43af-b4bd-c690f0231148"
      },
      "execution_count": 1,
      "outputs": [
        {
          "output_type": "stream",
          "name": "stdout",
          "text": [
            "9\n"
          ]
        }
      ]
    },
    {
      "cell_type": "code",
      "source": [
        "def quantidade_de_elementos(lista):\n",
        "  quantidade_de_elementos = 0\n",
        "  for elemento in lista:\n",
        "    quantidade_de_elementos= quantidade_de_elementos +1\n",
        "  return quantidade_de_elementos"
      ],
      "metadata": {
        "colab": {
          "base_uri": "https://localhost:8080/"
        },
        "id": "6LZJj8ALtl6t",
        "outputId": "94c6e06c-bb01-465e-fdeb-7bc1905cd3df"
      },
      "execution_count": 14,
      "outputs": [
        {
          "output_type": "stream",
          "name": "stdout",
          "text": [
            "5\n"
          ]
        }
      ]
    },
    {
      "cell_type": "code",
      "source": [
        "#quantidade de elementos na lista\n",
        "lista=[4,6,2,10,8]\n",
        "def quantidade_de_elementos(lista):\n",
        "    quantidade_de_elementos = 0\n",
        "    for elemento in lista:\n",
        "        quantidade_de_elementos = quantidade_de_elementos + 1\n",
        "    return quantidade_de_elementos\n",
        "print(quantidade_de_elementos(lista))"
      ],
      "metadata": {
        "colab": {
          "base_uri": "https://localhost:8080/"
        },
        "id": "-7A7ZtAOxWTB",
        "outputId": "d2d1cb97-b13f-4c88-f8b5-83a81e8615c5"
      },
      "execution_count": 12,
      "outputs": [
        {
          "output_type": "stream",
          "name": "stdout",
          "text": [
            "5\n"
          ]
        }
      ]
    },
    {
      "cell_type": "code",
      "source": [
        "#maximo valor na lista\n",
        "lista=[4,6,2,10,8]\n",
        "print(max(lista))"
      ],
      "metadata": {
        "id": "8UnBdl7H4WO4"
      },
      "execution_count": null,
      "outputs": []
    },
    {
      "cell_type": "code",
      "source": [
        "#arredondando um valor p/máximo\n",
        "round(1.79)"
      ],
      "metadata": {
        "colab": {
          "base_uri": "https://localhost:8080/"
        },
        "id": "j75v06EZ44cp",
        "outputId": "ff8d3f9e-983f-468b-e283-beeb21045e78"
      },
      "execution_count": 15,
      "outputs": [
        {
          "output_type": "execute_result",
          "data": {
            "text/plain": [
              "2"
            ]
          },
          "metadata": {},
          "execution_count": 15
        }
      ]
    },
    {
      "cell_type": "code",
      "source": [
        "#arredondando um valor p/mínimo\n",
        "round(1.79,1)"
      ],
      "metadata": {
        "colab": {
          "base_uri": "https://localhost:8080/"
        },
        "id": "e6ekPWZQ5ElD",
        "outputId": "3fa2bcd2-c54b-46ab-ed56-4981749de060"
      },
      "execution_count": 16,
      "outputs": [
        {
          "output_type": "execute_result",
          "data": {
            "text/plain": [
              "1.8"
            ]
          },
          "metadata": {},
          "execution_count": 16
        }
      ]
    }
  ]
}