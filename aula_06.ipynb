{
  "nbformat": 4,
  "nbformat_minor": 0,
  "metadata": {
    "colab": {
      "provenance": [],
      "authorship_tag": "ABX9TyNiQpItyzkHaox/PCoNw/vH",
      "include_colab_link": true
    },
    "kernelspec": {
      "name": "python3",
      "display_name": "Python 3"
    },
    "language_info": {
      "name": "python"
    }
  },
  "cells": [
    {
      "cell_type": "markdown",
      "metadata": {
        "id": "view-in-github",
        "colab_type": "text"
      },
      "source": [
        "<a href=\"https://colab.research.google.com/github/alysonbz/lab_prog_si/blob/laisa_gomes/aula_06.ipynb\" target=\"_parent\"><img src=\"https://colab.research.google.com/assets/colab-badge.svg\" alt=\"Open In Colab\"/></a>"
      ]
    },
    {
      "cell_type": "code",
      "execution_count": 1,
      "metadata": {
        "colab": {
          "base_uri": "https://localhost:8080/"
        },
        "id": "2uxDdxGAJkBi",
        "outputId": "9810221e-6e28-4895-b4af-2a7c9c8ce4a1"
      },
      "outputs": [
        {
          "output_type": "stream",
          "name": "stdout",
          "text": [
            "[210.   98.5]\n"
          ]
        }
      ],
      "source": [
        "baseball = [[180, 78.4],\n",
        "            [215, 102.7],\n",
        "            [210, 98.5],\n",
        "            [188, 75.2]]\n",
        "import numpy as np\n",
        "np_baseball = np.array(baseball)\n",
        "\n",
        "#Print a terceira linha de np_baseball na linha 14 do código.\n",
        "print(np_baseball[2])"
      ]
    },
    {
      "cell_type": "code",
      "source": [
        "#Crie uma nova variável np_weight_lb que recebe toda a segunda coluna de np_baseball.\n",
        "np_weight_lb = np_baseball[:,1]\n",
        "print(np_weight_lb)"
      ],
      "metadata": {
        "id": "q4mS0BiHUoHO",
        "colab": {
          "base_uri": "https://localhost:8080/"
        },
        "outputId": "264fda65-c545-4087-c42c-858379477cd8"
      },
      "execution_count": 3,
      "outputs": [
        {
          "output_type": "stream",
          "name": "stdout",
          "text": [
            "[ 78.4 102.7  98.5  75.2]\n"
          ]
        }
      ]
    },
    {
      "cell_type": "code",
      "source": [
        "#Print a primeira coluna da segunda linha de Np_baseball na linha  do código.\n",
        "print(np_baseball[1,0])"
      ],
      "metadata": {
        "colab": {
          "base_uri": "https://localhost:8080/"
        },
        "id": "64diAGI6jJoY",
        "outputId": "f715b9ac-7476-41b2-fee9-7705f8de44b4"
      },
      "execution_count": 4,
      "outputs": [
        {
          "output_type": "stream",
          "name": "stdout",
          "text": [
            "215.0\n"
          ]
        }
      ]
    },
    {
      "cell_type": "code",
      "source": [
        "#Calcule e exiba a média da primeira coluna de np_baseball.\n",
        "mean = np.mean(np_baseball[:,0])\n",
        "print(\"Média: \" + str(mean))"
      ],
      "metadata": {
        "colab": {
          "base_uri": "https://localhost:8080/"
        },
        "id": "C2nDygXejX0d",
        "outputId": "37fb2cff-03ff-4e75-ec34-90f7874d4845"
      },
      "execution_count": 5,
      "outputs": [
        {
          "output_type": "stream",
          "name": "stdout",
          "text": [
            "Média: 198.25\n"
          ]
        }
      ]
    },
    {
      "cell_type": "code",
      "source": [
        "#Calcule e exiba a mediana da segunda linha de np_baseball.\n",
        "print(np.median(np_baseball[1]))"
      ],
      "metadata": {
        "colab": {
          "base_uri": "https://localhost:8080/"
        },
        "id": "N9_UnHRvj82N",
        "outputId": "3cd43a02-a707-47bf-8c18-514c01d609af"
      },
      "execution_count": 6,
      "outputs": [
        {
          "output_type": "stream",
          "name": "stdout",
          "text": [
            "158.85\n"
          ]
        }
      ]
    }
  ]
}