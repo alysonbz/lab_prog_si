{
  "nbformat": 4,
  "nbformat_minor": 0,
  "metadata": {
    "colab": {
      "provenance": [],
      "authorship_tag": "ABX9TyN56uzjioJk4N1P3aax+Ewl",
      "include_colab_link": true
    },
    "kernelspec": {
      "name": "python3",
      "display_name": "Python 3"
    },
    "language_info": {
      "name": "python"
    }
  },
  "cells": [
    {
      "cell_type": "markdown",
      "metadata": {
        "id": "view-in-github",
        "colab_type": "text"
      },
      "source": [
        "<a href=\"https://colab.research.google.com/github/alysonbz/lab_prog_si/blob/laisa_gomes/aula02.ipynb\" target=\"_parent\"><img src=\"https://colab.research.google.com/assets/colab-badge.svg\" alt=\"Open In Colab\"/></a>"
      ]
    },
    {
      "cell_type": "code",
      "execution_count": null,
      "metadata": {
        "id": "jwseRs4WyPKo",
        "colab": {
          "base_uri": "https://localhost:8080/"
        },
        "outputId": "b2f736ff-145d-4714-bae1-d16149e2a4c4"
      },
      "outputs": [
        {
          "output_type": "stream",
          "name": "stdout",
          "text": [
            "[1.73, 1.68, 1.72, 1.89]\n"
          ]
        }
      ],
      "source": [
        "altura= [1.73, 1.68, 1.72, 1.89]\n",
        "print(altura)"
      ]
    },
    {
      "cell_type": "code",
      "source": [
        "# Adicionando elemento na lista\n",
        "\n",
        "alunos= [\"Levi\",  \"Gabi\", \"Cauã\"]\n",
        "alunos.append(\"Laísa\")\n",
        "print(alunos)"
      ],
      "metadata": {
        "colab": {
          "base_uri": "https://localhost:8080/"
        },
        "id": "_Ee3O1Rl7OaJ",
        "outputId": "74046ab9-ace7-4ba0-c322-7f4aa7cceebd"
      },
      "execution_count": null,
      "outputs": [
        {
          "output_type": "stream",
          "name": "stdout",
          "text": [
            "['Levi', 'Gabi', 'Cauã', 'Laísa']\n"
          ]
        }
      ]
    },
    {
      "cell_type": "code",
      "source": [
        "# Adicionando listas a uma lista\n",
        "\n",
        "alunos_notas=[[\"Levi\", 9],[\"Gabi\", 8], [\"Cauã\", 7], [\"Laísa\", 6]]\n",
        "alunos_notas"
      ],
      "metadata": {
        "colab": {
          "base_uri": "https://localhost:8080/"
        },
        "id": "9kSovBQu72VI",
        "outputId": "ffbdaad1-4e61-4d4c-98c0-19f61ffee059"
      },
      "execution_count": null,
      "outputs": [
        {
          "output_type": "execute_result",
          "data": {
            "text/plain": [
              "[['Levi', 9], ['Gabi', 8], ['Cauã', 7], ['Laísa', 6]]"
            ]
          },
          "metadata": {},
          "execution_count": 7
        }
      ]
    }
  ]
}