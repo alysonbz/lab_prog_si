{
  "nbformat": 4,
  "nbformat_minor": 0,
  "metadata": {
    "colab": {
      "provenance": [],
      "authorship_tag": "ABX9TyMU3ueXuS+0jXfwS4y8c7sc",
      "include_colab_link": true
    },
    "kernelspec": {
      "name": "python3",
      "display_name": "Python 3"
    },
    "language_info": {
      "name": "python"
    }
  },
  "cells": [
    {
      "cell_type": "markdown",
      "metadata": {
        "id": "view-in-github",
        "colab_type": "text"
      },
      "source": [
        "<a href=\"https://colab.research.google.com/github/alysonbz/lab_prog_si/blob/laisa_gomes/aula02.ipynb\" target=\"_parent\"><img src=\"https://colab.research.google.com/assets/colab-badge.svg\" alt=\"Open In Colab\"/></a>"
      ]
    },
    {
      "cell_type": "code",
      "execution_count": null,
      "metadata": {
        "id": "jwseRs4WyPKo",
        "colab": {
          "base_uri": "https://localhost:8080/"
        },
        "outputId": "b2f736ff-145d-4714-bae1-d16149e2a4c4"
      },
      "outputs": [
        {
          "output_type": "stream",
          "name": "stdout",
          "text": [
            "[1.73, 1.68, 1.72, 1.89]\n"
          ]
        }
      ],
      "source": [
        "altura= [1.73, 1.68, 1.72, 1.89]\n",
        "print(altura)"
      ]
    },
    {
      "cell_type": "code",
      "source": [
        "# Adicionando elemento na lista\n",
        "\n",
        "alunos= [\"Levi\",  \"Gabi\", \"Cauã\"]\n",
        "alunos.append(\"Laísa\")\n",
        "print(alunos)"
      ],
      "metadata": {
        "colab": {
          "base_uri": "https://localhost:8080/"
        },
        "id": "_Ee3O1Rl7OaJ",
        "outputId": "74046ab9-ace7-4ba0-c322-7f4aa7cceebd"
      },
      "execution_count": null,
      "outputs": [
        {
          "output_type": "stream",
          "name": "stdout",
          "text": [
            "['Levi', 'Gabi', 'Cauã', 'Laísa']\n"
          ]
        }
      ]
    },
    {
      "cell_type": "code",
      "source": [
        "# Adicionando listas a uma lista\n",
        "\n",
        "alunos_notas=[[\"Levi\", 9],[\"Gabi\", 8], [\"Cauã\", 7], [\"Laísa\", 6]]\n",
        "alunos_notas"
      ],
      "metadata": {
        "colab": {
          "base_uri": "https://localhost:8080/"
        },
        "id": "9kSovBQu72VI",
        "outputId": "ffbdaad1-4e61-4d4c-98c0-19f61ffee059"
      },
      "execution_count": null,
      "outputs": [
        {
          "output_type": "execute_result",
          "data": {
            "text/plain": [
              "[['Levi', 9], ['Gabi', 8], ['Cauã', 7], ['Laísa', 6]]"
            ]
          },
          "metadata": {},
          "execution_count": 7
        }
      ]
    },
    {
      "cell_type": "code",
      "source": [
        "#area variables (in square meters)\n",
        "hall = 11.25\n",
        "kit = 18.0\n",
        "liv = 20.0\n",
        "bed = 10.75\n",
        "bath = 9.50\n",
        "\n",
        "# House information as list of lists\n",
        "house = [[\"hallway\", hall],\n",
        "         [\"kitchen\", kit],\n",
        "         [\"living room\", liv],\n",
        "         [\"bedroom\", bed],\n",
        "         [\"bathroom\", bath]]\n",
        "\n",
        "# Print out house\n",
        "print(house)\n",
        "\n",
        "# Print out the type of house\n",
        "print(type(house))"
      ],
      "metadata": {
        "colab": {
          "base_uri": "https://localhost:8080/"
        },
        "id": "wjjCZ1_YH1wZ",
        "outputId": "6b826c8a-4c61-4dea-e61b-7364133425ad"
      },
      "execution_count": null,
      "outputs": [
        {
          "output_type": "stream",
          "name": "stdout",
          "text": [
            "[['hallway', 11.25], ['kitchen', 18.0], ['living room', 20.0], ['bedroom', 10.75], ['bathroom', 9.5]]\n",
            "<class 'list'>\n"
          ]
        }
      ]
    },
    {
      "cell_type": "code",
      "source": [
        "from google.colab import drive\n",
        "drive.mount('/content/drive')"
      ],
      "metadata": {
        "id": "NU_Q7F1BXfwP"
      },
      "execution_count": null,
      "outputs": []
    },
    {
      "cell_type": "code",
      "source": [
        "print(house[-1][1])"
      ],
      "metadata": {
        "colab": {
          "base_uri": "https://localhost:8080/"
        },
        "id": "ZJ-Zls0-WRqB",
        "outputId": "6fa20a83-02ec-41c4-c119-c10f80786762"
      },
      "execution_count": null,
      "outputs": [
        {
          "output_type": "stream",
          "name": "stdout",
          "text": [
            "9.5\n"
          ]
        }
      ]
    },
    {
      "cell_type": "code",
      "source": [
        "#Acessando elemntos da lista\n",
        "fam= ['Laísa', 1.56, 'Mãe', 1.48, 'Larissa', 1.57, 'Pai', 1.73]\n",
        "print(fam)\n",
        "fam[6]"
      ],
      "metadata": {
        "colab": {
          "base_uri": "https://localhost:8080/",
          "height": 53
        },
        "id": "kMt-xTFoJYX9",
        "outputId": "b1d3e851-9057-445c-c410-6cd98f106d89"
      },
      "execution_count": null,
      "outputs": [
        {
          "output_type": "stream",
          "name": "stdout",
          "text": [
            "['Laísa', 1.56, 'Mãe', 1.48, 'Larissa', 1.57, 'Pai', 1.73]\n"
          ]
        },
        {
          "output_type": "execute_result",
          "data": {
            "text/plain": [
              "'Pai'"
            ],
            "application/vnd.google.colaboratory.intrinsic+json": {
              "type": "string"
            }
          },
          "metadata": {},
          "execution_count": 9
        }
      ]
    },
    {
      "cell_type": "code",
      "source": [
        "#Tamanho da lista\n",
        "print(f'O tamanho da lista é {len(fam)}')"
      ],
      "metadata": {
        "colab": {
          "base_uri": "https://localhost:8080/"
        },
        "id": "oNh9ba-eLHSv",
        "outputId": "bc4a3dbe-477a-49b7-9192-860181a7be5f"
      },
      "execution_count": null,
      "outputs": [
        {
          "output_type": "stream",
          "name": "stdout",
          "text": [
            "O tamanho da lista é 8\n"
          ]
        }
      ]
    },
    {
      "cell_type": "code",
      "source": [
        "#Slice\n",
        "\n",
        "fam[3:5]"
      ],
      "metadata": {
        "colab": {
          "base_uri": "https://localhost:8080/"
        },
        "id": "Ywp2nliaLp2s",
        "outputId": "472ff886-1284-4b76-b884-378fb5488568"
      },
      "execution_count": null,
      "outputs": [
        {
          "output_type": "execute_result",
          "data": {
            "text/plain": [
              "[1.48, 'Larissa']"
            ]
          },
          "metadata": {},
          "execution_count": 12
        }
      ]
    },
    {
      "cell_type": "code",
      "source": [
        "# Create the areas list\n",
        "areas = [\"hallway\", 11.25, \"kitchen\", 18.0, \"living room\", 20.0, \"bedroom\", 10.75, \"bathroom\", 9.50]\n",
        "\n",
        "# Print out second element from areas\n",
        "print(areas[1])\n",
        "\n",
        "# Print out last element from areas\n",
        "print(areas[-1])\n",
        "\n",
        "# Print out the area of the living room\n",
        "print(areas[5])\n"
      ],
      "metadata": {
        "colab": {
          "base_uri": "https://localhost:8080/"
        },
        "id": "omets0VhK6xM",
        "outputId": "b8a1e759-ec11-477d-bc3f-c7a602d10bbe"
      },
      "execution_count": null,
      "outputs": [
        {
          "output_type": "stream",
          "name": "stdout",
          "text": [
            "11.25\n",
            "9.5\n",
            "20.0\n"
          ]
        }
      ]
    },
    {
      "cell_type": "code",
      "source": [
        "# Soma de elementos da lista\n",
        "areas = [\"hallway\", 11.25, \"kitchen\", 18.0, \"living room\", 20.0, \"bedroom\", 10.75, \"bathroom\", 9.50]\n",
        "\n",
        "# Sum of kitchen and bedroom area: eat_slepp_area\n",
        "eat_sleep_area= areas[3] + areas[5]\n",
        "\n",
        "# Print the variable eat_sleep_area\n",
        "print(eat_sleep_area)"
      ],
      "metadata": {
        "colab": {
          "base_uri": "https://localhost:8080/"
        },
        "id": "BtouA1u3LPT6",
        "outputId": "092a6f7e-e26a-4893-b869-7d1cc69a444c"
      },
      "execution_count": null,
      "outputs": [
        {
          "output_type": "stream",
          "name": "stdout",
          "text": [
            "38.0\n"
          ]
        }
      ]
    },
    {
      "cell_type": "code",
      "source": [
        "#Acessar elementos da lista e atribuir a uma nova lista\n",
        "downstairs= areas[0:5]\n",
        "uptairs= areas[6:10]\n",
        "print(downstairs)\n",
        "print(uptairs)"
      ],
      "metadata": {
        "id": "pA9qhDe_O-TK",
        "colab": {
          "base_uri": "https://localhost:8080/"
        },
        "outputId": "9bcd18ad-9af3-462d-ce39-19e1a74e053b"
      },
      "execution_count": null,
      "outputs": [
        {
          "output_type": "stream",
          "name": "stdout",
          "text": [
            "['hallway', 11.25, 'kitchen', 18.0, 'living room']\n",
            "['bedroom', 10.75, 'bathroom', 9.5]\n"
          ]
        }
      ]
    },
    {
      "cell_type": "code",
      "source": [
        "# Faça lista da sua família ex: [[fulano, altura]]\n",
        "familia= [['laísa', 1.56],['ky',1.65], ['teus', 1.90], ['jane', 1.48],['pai', 1.75]]\n",
        "print(familia[2])\n",
        "print(familia[1][1])"
      ],
      "metadata": {
        "colab": {
          "base_uri": "https://localhost:8080/"
        },
        "id": "RQEt0FPHSh2X",
        "outputId": "2bf236a4-f4bd-4d88-96d2-60826fc6cee2"
      },
      "execution_count": null,
      "outputs": [
        {
          "output_type": "stream",
          "name": "stdout",
          "text": [
            "['teus', 1.9]\n",
            "1.65\n"
          ]
        }
      ]
    },
    {
      "cell_type": "code",
      "source": [
        "#Soma de listas\n",
        "\n",
        "familia= [['laísa', 1.56],['ky',1.65], ['teus', 1.90], ['jane', 1.48],['pai', 1.75]]\n",
        "\n",
        "lista_soma= familia[0][0]+ familia[2][0]\n",
        "print(lista_soma)\n",
        "\n",
        "#deletando elemnto da lista\n",
        "\n",
        "del(familia[0])\n",
        "print(familia)"
      ],
      "metadata": {
        "colab": {
          "base_uri": "https://localhost:8080/"
        },
        "id": "bnb04qro0WdU",
        "outputId": "31aa2c52-47e8-451b-c11c-3112ec069ea7"
      },
      "execution_count": null,
      "outputs": [
        {
          "output_type": "stream",
          "name": "stdout",
          "text": [
            "laísateus\n",
            "[['ky', 1.65], ['teus', 1.9], ['jane', 1.48], ['pai', 1.75]]\n"
          ]
        }
      ]
    },
    {
      "cell_type": "code",
      "source": [
        "#copiando lista e subistituindo elementos\n",
        "x = ['a', 'b', 'c']\n",
        "y = x\n",
        "y[1] = 'z'\n",
        "y"
      ],
      "metadata": {
        "colab": {
          "base_uri": "https://localhost:8080/"
        },
        "id": "DjRFsRGS1w3M",
        "outputId": "895326a3-f352-493f-9798-9d35b074f217"
      },
      "execution_count": null,
      "outputs": [
        {
          "output_type": "stream",
          "name": "stdout",
          "text": [
            "['a', 'z', 'c']\n"
          ]
        }
      ]
    },
    {
      "cell_type": "code",
      "source": [
        "#copiando lista e subistituindo elementos\n",
        "x = [\"a\", \"b\", \"c\"]\n",
        "y = x.copy()\n",
        "y[1] = \"z\"\n",
        "print(y)\n",
        "print(x)"
      ],
      "metadata": {
        "id": "ajQcmvnu6iRU"
      },
      "execution_count": null,
      "outputs": []
    },
    {
      "cell_type": "code",
      "source": [
        "#copiando lista e subistituindo elementos\n",
        "x = [\"a\", \"b\", \"c\"]\n",
        "y = list(x)\n",
        "y = x[:]\n",
        "y[1] = \"z\"\n",
        "print(x)\n",
        "print(y)"
      ],
      "metadata": {
        "id": "iGpRgjs26qXj"
      },
      "execution_count": null,
      "outputs": []
    },
    {
      "cell_type": "code",
      "source": [
        "#Troque o valor de bathroom de 9.50 para 10.50\n",
        "areas = [\"hallway\", 11.25,\n",
        "         \"kitchen\", 18.0,\n",
        "         \"living room\", 20.0,\n",
        "         \"bedroom\", 10.75,\n",
        "         \"bathroom\", 9.50]\n",
        "y = list(areas)\n",
        "y[9] = 10.50\n",
        "print(areas)\n",
        "print(y)"
      ],
      "metadata": {
        "id": "cAIdtFyw6_LB"
      },
      "execution_count": null,
      "outputs": []
    },
    {
      "cell_type": "code",
      "source": [
        "#Substitua a string “Living room” por “chill zone\n",
        "areas = [\"hallway\", 11.25,\n",
        "         \"kitchen\", 18.0,\n",
        "         \"living room\", 20.0,\n",
        "         \"bedroom\", 10.75,\n",
        "         \"bathroom\", 10.50]\n",
        "y = list(areas)\n",
        "y[4] = \"Chill Zone\"\n",
        "print(areas)\n",
        "print(y)"
      ],
      "metadata": {
        "id": "ErENosZy6_Cb"
      },
      "execution_count": null,
      "outputs": []
    },
    {
      "cell_type": "code",
      "source": [
        "#Adicione [\"poolhouse\", 24.5] no fim da lista  e atribua em uma nova lista chamada de areas_1\n",
        "#Adicione [\"garage\", 15.5] no fim da lista areas_1  e atribua em uma nova lista chamada de areas_2\n",
        "#Exiba areas_2\n",
        "\n",
        "areas = [\"hallway\", 11.25,\n",
        "         \"kitchen\", 18.0,\n",
        "         \"living room\", 20.0,\n",
        "         \"bedroom\", 10.75,\n",
        "         \"bathroom\", 10.50]\n",
        "areas[-1] = 10.5\n",
        "areas_1= areas + [\"poolhouse\", 24.5]\n",
        "print(areas_1)\n",
        "\n",
        "areas_2= areas_1 + [\"garage\", 15.45]\n",
        "print(areas_2)"
      ],
      "metadata": {
        "id": "uNwN4lvZ8tNU"
      },
      "execution_count": null,
      "outputs": []
    },
    {
      "cell_type": "code",
      "source": [
        "#Execute o código e observe que a modificação realizada em areas_copy afetou areas. Corrija esse código e exiba areas e areas_copy no fim do código.\n",
        "areas = [11.25, 18.0, 20.0, 10.75, 9.50]\n",
        "areas_copy = areas.copy()\n",
        "areas_copy[0] = 5.0\n",
        "print(areas)\n",
        "print(areas_copy)"
      ],
      "metadata": {
        "id": "nrPlNPR-A_O1"
      },
      "execution_count": null,
      "outputs": []
    }
  ]
}