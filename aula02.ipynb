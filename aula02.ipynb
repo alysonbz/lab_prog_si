{
  "nbformat": 4,
  "nbformat_minor": 0,
  "metadata": {
    "colab": {
      "provenance": [],
      "authorship_tag": "ABX9TyP86owYo2KtaLQYJR13d1yx",
      "include_colab_link": true
    },
    "kernelspec": {
      "name": "python3",
      "display_name": "Python 3"
    },
    "language_info": {
      "name": "python"
    }
  },
  "cells": [
    {
      "cell_type": "markdown",
      "metadata": {
        "id": "view-in-github",
        "colab_type": "text"
      },
      "source": [
        "<a href=\"https://colab.research.google.com/github/alysonbz/lab_prog_si/blob/laisa_gomes/aula02.ipynb\" target=\"_parent\"><img src=\"https://colab.research.google.com/assets/colab-badge.svg\" alt=\"Open In Colab\"/></a>"
      ]
    },
    {
      "cell_type": "code",
      "execution_count": null,
      "metadata": {
        "id": "jwseRs4WyPKo",
        "colab": {
          "base_uri": "https://localhost:8080/"
        },
        "outputId": "b2f736ff-145d-4714-bae1-d16149e2a4c4"
      },
      "outputs": [
        {
          "output_type": "stream",
          "name": "stdout",
          "text": [
            "[1.73, 1.68, 1.72, 1.89]\n"
          ]
        }
      ],
      "source": [
        "altura= [1.73, 1.68, 1.72, 1.89]\n",
        "print(altura)"
      ]
    },
    {
      "cell_type": "code",
      "source": [
        "# Adicionando elemento na lista\n",
        "\n",
        "alunos= [\"Levi\",  \"Gabi\", \"Cauã\"]\n",
        "alunos.append(\"Laísa\")\n",
        "print(alunos)"
      ],
      "metadata": {
        "colab": {
          "base_uri": "https://localhost:8080/"
        },
        "id": "_Ee3O1Rl7OaJ",
        "outputId": "74046ab9-ace7-4ba0-c322-7f4aa7cceebd"
      },
      "execution_count": null,
      "outputs": [
        {
          "output_type": "stream",
          "name": "stdout",
          "text": [
            "['Levi', 'Gabi', 'Cauã', 'Laísa']\n"
          ]
        }
      ]
    },
    {
      "cell_type": "code",
      "source": [
        "# Adicionando listas a uma lista\n",
        "\n",
        "alunos_notas=[[\"Levi\", 9],[\"Gabi\", 8], [\"Cauã\", 7], [\"Laísa\", 6]]\n",
        "alunos_notas"
      ],
      "metadata": {
        "colab": {
          "base_uri": "https://localhost:8080/"
        },
        "id": "9kSovBQu72VI",
        "outputId": "ffbdaad1-4e61-4d4c-98c0-19f61ffee059"
      },
      "execution_count": null,
      "outputs": [
        {
          "output_type": "execute_result",
          "data": {
            "text/plain": [
              "[['Levi', 9], ['Gabi', 8], ['Cauã', 7], ['Laísa', 6]]"
            ]
          },
          "metadata": {},
          "execution_count": 7
        }
      ]
    },
    {
      "cell_type": "code",
      "source": [
        "#area variables (in square meters)\n",
        "hall = 11.25\n",
        "kit = 18.0\n",
        "liv = 20.0\n",
        "bed = 10.75\n",
        "bath = 9.50\n",
        "\n",
        "# House information as list of lists\n",
        "house = [[\"hallway\", hall],\n",
        "         [\"kitchen\", kit],\n",
        "         [\"living room\", liv],\n",
        "         [\"bedroom\", bed],\n",
        "         [\"bathroom\", bath]]\n",
        "\n",
        "# Print out house\n",
        "print(house)\n",
        "\n",
        "# Print out the type of house\n",
        "print(type(house))"
      ],
      "metadata": {
        "colab": {
          "base_uri": "https://localhost:8080/"
        },
        "id": "wjjCZ1_YH1wZ",
        "outputId": "6b826c8a-4c61-4dea-e61b-7364133425ad"
      },
      "execution_count": null,
      "outputs": [
        {
          "output_type": "stream",
          "name": "stdout",
          "text": [
            "[['hallway', 11.25], ['kitchen', 18.0], ['living room', 20.0], ['bedroom', 10.75], ['bathroom', 9.5]]\n",
            "<class 'list'>\n"
          ]
        }
      ]
    },
    {
      "cell_type": "code",
      "source": [
        "from google.colab import drive\n",
        "drive.mount('/content/drive')"
      ],
      "metadata": {
        "id": "NU_Q7F1BXfwP"
      },
      "execution_count": null,
      "outputs": []
    },
    {
      "cell_type": "code",
      "source": [
        "print(house[-1][1])"
      ],
      "metadata": {
        "colab": {
          "base_uri": "https://localhost:8080/"
        },
        "id": "ZJ-Zls0-WRqB",
        "outputId": "6fa20a83-02ec-41c4-c119-c10f80786762"
      },
      "execution_count": null,
      "outputs": [
        {
          "output_type": "stream",
          "name": "stdout",
          "text": [
            "9.5\n"
          ]
        }
      ]
    },
    {
      "cell_type": "code",
      "source": [
        "#Acessando elemntos da lista\n",
        "fam= ['Laísa', 1.56, 'Mãe', 1.48, 'Larissa', 1.57, 'Pai', 1.73]\n",
        "print(fam)\n",
        "fam[6]"
      ],
      "metadata": {
        "colab": {
          "base_uri": "https://localhost:8080/",
          "height": 53
        },
        "id": "kMt-xTFoJYX9",
        "outputId": "b1d3e851-9057-445c-c410-6cd98f106d89"
      },
      "execution_count": null,
      "outputs": [
        {
          "output_type": "stream",
          "name": "stdout",
          "text": [
            "['Laísa', 1.56, 'Mãe', 1.48, 'Larissa', 1.57, 'Pai', 1.73]\n"
          ]
        },
        {
          "output_type": "execute_result",
          "data": {
            "text/plain": [
              "'Pai'"
            ],
            "application/vnd.google.colaboratory.intrinsic+json": {
              "type": "string"
            }
          },
          "metadata": {},
          "execution_count": 9
        }
      ]
    },
    {
      "cell_type": "code",
      "source": [
        "#Tamanho da lista\n",
        "print(f'O tamanho da lista é {len(fam)}')"
      ],
      "metadata": {
        "colab": {
          "base_uri": "https://localhost:8080/"
        },
        "id": "oNh9ba-eLHSv",
        "outputId": "bc4a3dbe-477a-49b7-9192-860181a7be5f"
      },
      "execution_count": null,
      "outputs": [
        {
          "output_type": "stream",
          "name": "stdout",
          "text": [
            "O tamanho da lista é 8\n"
          ]
        }
      ]
    },
    {
      "cell_type": "code",
      "source": [
        "#Slice\n",
        "\n",
        "fam[3:5]"
      ],
      "metadata": {
        "colab": {
          "base_uri": "https://localhost:8080/"
        },
        "id": "Ywp2nliaLp2s",
        "outputId": "472ff886-1284-4b76-b884-378fb5488568"
      },
      "execution_count": null,
      "outputs": [
        {
          "output_type": "execute_result",
          "data": {
            "text/plain": [
              "[1.48, 'Larissa']"
            ]
          },
          "metadata": {},
          "execution_count": 12
        }
      ]
    },
    {
      "cell_type": "code",
      "source": [
        "# Create the areas list\n",
        "areas = [\"hallway\", 11.25, \"kitchen\", 18.0, \"living room\", 20.0, \"bedroom\", 10.75, \"bathroom\", 9.50]\n",
        "\n",
        "# Print out second element from areas\n",
        "print(areas[1])\n",
        "\n",
        "# Print out last element from areas\n",
        "print(areas[-1])\n",
        "\n",
        "# Print out the area of the living room\n",
        "print(areas[5])\n"
      ],
      "metadata": {
        "colab": {
          "base_uri": "https://localhost:8080/"
        },
        "id": "omets0VhK6xM",
        "outputId": "b8a1e759-ec11-477d-bc3f-c7a602d10bbe"
      },
      "execution_count": null,
      "outputs": [
        {
          "output_type": "stream",
          "name": "stdout",
          "text": [
            "11.25\n",
            "9.5\n",
            "20.0\n"
          ]
        }
      ]
    },
    {
      "cell_type": "code",
      "source": [
        "# Soma de elementos da lista\n",
        "areas = [\"hallway\", 11.25, \"kitchen\", 18.0, \"living room\", 20.0, \"bedroom\", 10.75, \"bathroom\", 9.50]\n",
        "\n",
        "# Sum of kitchen and bedroom area: eat_slepp_area\n",
        "eat_sleep_area= areas[3] + areas[5]\n",
        "\n",
        "# Print the variable eat_sleep_area\n",
        "print(eat_sleep_area)"
      ],
      "metadata": {
        "colab": {
          "base_uri": "https://localhost:8080/"
        },
        "id": "BtouA1u3LPT6",
        "outputId": "092a6f7e-e26a-4893-b869-7d1cc69a444c"
      },
      "execution_count": null,
      "outputs": [
        {
          "output_type": "stream",
          "name": "stdout",
          "text": [
            "38.0\n"
          ]
        }
      ]
    },
    {
      "cell_type": "code",
      "source": [
        "downstairs= areas[0:5]\n",
        "uptairs= areas[6:10]\n",
        "print(downstairs)\n",
        "print(uptairs)"
      ],
      "metadata": {
        "id": "pA9qhDe_O-TK",
        "colab": {
          "base_uri": "https://localhost:8080/"
        },
        "outputId": "9bcd18ad-9af3-462d-ce39-19e1a74e053b"
      },
      "execution_count": null,
      "outputs": [
        {
          "output_type": "stream",
          "name": "stdout",
          "text": [
            "['hallway', 11.25, 'kitchen', 18.0, 'living room']\n",
            "['bedroom', 10.75, 'bathroom', 9.5]\n"
          ]
        }
      ]
    },
    {
      "cell_type": "code",
      "source": [
        "# Faça lista da sua família ex: [[fulano, altura]]\n",
        "familia= [['laísa', 1.56],['ky',1.65], ['teus', 1.90], ['jane', 1.48],['pai', 1.75]]\n",
        "print(familia[2])\n",
        "print(familia[1][1])"
      ],
      "metadata": {
        "colab": {
          "base_uri": "https://localhost:8080/"
        },
        "id": "RQEt0FPHSh2X",
        "outputId": "2bf236a4-f4bd-4d88-96d2-60826fc6cee2"
      },
      "execution_count": null,
      "outputs": [
        {
          "output_type": "stream",
          "name": "stdout",
          "text": [
            "['teus', 1.9]\n",
            "1.65\n"
          ]
        }
      ]
    }
  ]
}