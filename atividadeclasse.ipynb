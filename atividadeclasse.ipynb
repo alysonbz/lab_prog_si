{
  "nbformat": 4,
  "nbformat_minor": 0,
  "metadata": {
    "colab": {
      "provenance": [],
      "authorship_tag": "ABX9TyO5ZVBcBPxF5MT564KlTsLP",
      "include_colab_link": true
    },
    "kernelspec": {
      "name": "python3",
      "display_name": "Python 3"
    },
    "language_info": {
      "name": "python"
    }
  },
  "cells": [
    {
      "cell_type": "markdown",
      "metadata": {
        "id": "view-in-github",
        "colab_type": "text"
      },
      "source": [
        "<a href=\"https://colab.research.google.com/github/alysonbz/lab_prog_si/blob/kauan_lima/atividadeclasse.ipynb\" target=\"_parent\"><img src=\"https://colab.research.google.com/assets/colab-badge.svg\" alt=\"Open In Colab\"/></a>"
      ]
    },
    {
      "cell_type": "markdown",
      "source": [
        "Exemplo"
      ],
      "metadata": {
        "id": "x1fXkF8oViSp"
      }
    },
    {
      "cell_type": "code",
      "execution_count": null,
      "metadata": {
        "id": "Y5sEXkimSnLl"
      },
      "outputs": [],
      "source": [
        "x=[[\"a\", \"b\", \"c\"],\n",
        "  [\"d\", \"e\", \"f\"],\n",
        "  [\"g\", \"h\", \"i\"]]\n",
        "x[2][0]\n",
        "x[2][:2]"
      ]
    },
    {
      "cell_type": "code",
      "source": [
        "fam=[['pedro', 1.70], ['janaina', 1.80], ['mae', 1.90], ['pai', 1.95], ['clairo', 2.0]]\n",
        "fam[2]"
      ],
      "metadata": {
        "colab": {
          "base_uri": "https://localhost:8080/"
        },
        "id": "tUna_e_NS3Au",
        "outputId": "c4b17b5f-b1ec-4ab7-e823-d9de00fa03ad"
      },
      "execution_count": 3,
      "outputs": [
        {
          "output_type": "execute_result",
          "data": {
            "text/plain": [
              "['mae', 1.9]"
            ]
          },
          "metadata": {},
          "execution_count": 3
        }
      ]
    },
    {
      "cell_type": "code",
      "source": [
        "fam[1][1]"
      ],
      "metadata": {
        "colab": {
          "base_uri": "https://localhost:8080/"
        },
        "id": "A3vEfXWSUda_",
        "outputId": "efb21f16-1acd-426d-9ca1-d27a49b0e051"
      },
      "execution_count": 4,
      "outputs": [
        {
          "output_type": "execute_result",
          "data": {
            "text/plain": [
              "1.8"
            ]
          },
          "metadata": {},
          "execution_count": 4
        }
      ]
    },
    {
      "cell_type": "code",
      "source": [
        "hall=11.25\n",
        "kit=18.0\n",
        "liv=20.0\n",
        "bed=10.75\n",
        "bath=9.50\n",
        "areas=['hallway', hall, 'kitchen',kit, 'living room', liv, 'bedroom', bed, 'bathroom', bath]\n",
        "\n",
        "house = [['hallway', hall],\n",
        "       ['kitchen', kit],\n",
        "      ['living room', liv],\n",
        "      ['bedroom', bed],\n",
        "         ['bathroom', bath]]\n",
        "\n",
        "print(areas)\n",
        "print(house)"
      ],
      "metadata": {
        "colab": {
          "base_uri": "https://localhost:8080/"
        },
        "id": "8iglTgQ6XWVJ",
        "outputId": "1c778305-423e-46d2-9b28-07b488d6c1ab"
      },
      "execution_count": 9,
      "outputs": [
        {
          "output_type": "stream",
          "name": "stdout",
          "text": [
            "['hallway', 11.25, 'kitchen', 18.0, 'living room', 20.0, 'bedroom', 10.75, 'bathroom', 9.5]\n",
            "[['hallway', 11.25], ['kitchen', 18.0], ['living room', 20.0], ['bedroom', 10.75], ['bathroom', 9.5]]\n"
          ]
        }
      ]
    },
    {
      "cell_type": "markdown",
      "source": [
        "Atividade de sala\n",
        "\n",
        "item c) a float: the bathroom area"
      ],
      "metadata": {
        "id": "NUxMJ3vtXMEZ"
      }
    },
    {
      "cell_type": "code",
      "source": [
        "house[-1][1]"
      ],
      "metadata": {
        "colab": {
          "base_uri": "https://localhost:8080/"
        },
        "id": "5fGY4AxHXVKR",
        "outputId": "003dface-e62f-4f85-8e06-d7b6d11f5d31"
      },
      "execution_count": 10,
      "outputs": [
        {
          "output_type": "execute_result",
          "data": {
            "text/plain": [
              "9.5"
            ]
          },
          "metadata": {},
          "execution_count": 10
        }
      ]
    }
  ]
}