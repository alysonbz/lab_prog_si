{
  "nbformat": 4,
  "nbformat_minor": 0,
  "metadata": {
    "colab": {
      "provenance": [],
      "authorship_tag": "ABX9TyOIG65XxCB8s3kIr7H2SQUy",
      "include_colab_link": true
    },
    "kernelspec": {
      "name": "python3",
      "display_name": "Python 3"
    },
    "language_info": {
      "name": "python"
    }
  },
  "cells": [
    {
      "cell_type": "markdown",
      "metadata": {
        "id": "view-in-github",
        "colab_type": "text"
      },
      "source": [
        "<a href=\"https://colab.research.google.com/github/alysonbz/lab_prog_si/blob/Thiago_Gomes/Aula06.ipynb\" target=\"_parent\"><img src=\"https://colab.research.google.com/assets/colab-badge.svg\" alt=\"Open In Colab\"/></a>"
      ]
    },
    {
      "cell_type": "markdown",
      "source": [
        "Exemplos da aula 06"
      ],
      "metadata": {
        "id": "ttEhnA6cR91X"
      }
    },
    {
      "cell_type": "code",
      "execution_count": null,
      "metadata": {
        "colab": {
          "base_uri": "https://localhost:8080/"
        },
        "id": "vwUQq-W_R5G9",
        "outputId": "b8f97995-7e44-4200-e1d0-b291277f640f"
      },
      "outputs": [
        {
          "output_type": "stream",
          "name": "stdout",
          "text": [
            "['liz', 1.73, 'emma', 1.68, 'mom', 1.71, 'dad', 1.89]\n",
            "4\n",
            "1\n"
          ]
        }
      ],
      "source": [
        "sister = \"liz\"\n",
        "height = 1.73\n",
        "\n",
        "fam = [\"liz\", 1.73, \"emma\", 1.68, \"mom\", 1.71, \"dad\", 1.89]\n",
        "print (fam)\n",
        "\n",
        "print(fam.index(\"mom\"))\n",
        "print(fam.count(1.73))"
      ]
    },
    {
      "cell_type": "code",
      "source": [
        "fam.append(\"me\")\n",
        "fam.append(1.79)\n",
        "fam"
      ],
      "metadata": {
        "colab": {
          "base_uri": "https://localhost:8080/"
        },
        "id": "BJRCHSOEWBFK",
        "outputId": "365e8dd7-3608-43b5-ab5d-92964d8891e6"
      },
      "execution_count": null,
      "outputs": [
        {
          "output_type": "execute_result",
          "data": {
            "text/plain": [
              "['liz', 1.73, 'emma', 1.68, 'mom', 1.71, 'dad', 1.89, 'me', 1.79]"
            ]
          },
          "metadata": {},
          "execution_count": 8
        }
      ]
    },
    {
      "cell_type": "code",
      "source": [
        "sister = \"liz\"\n",
        "print(sister.capitalize())\n",
        "\n",
        "print(sister.upper())\n",
        "\n",
        "print(sister.replace(\"z\", \"sa\"))"
      ],
      "metadata": {
        "colab": {
          "base_uri": "https://localhost:8080/"
        },
        "id": "t37MbruYW4QF",
        "outputId": "e5098921-bdb3-48d0-ef14-a47ba7c77430"
      },
      "execution_count": null,
      "outputs": [
        {
          "output_type": "stream",
          "name": "stdout",
          "text": [
            "Liz\n",
            "LIZ\n",
            "lisa\n"
          ]
        }
      ]
    },
    {
      "cell_type": "markdown",
      "source": [
        "Atividade de funções aula 06"
      ],
      "metadata": {
        "id": "Ei2goTSSYVxU"
      }
    },
    {
      "cell_type": "code",
      "source": [
        "#1) use o metodo upper() assecivel pela variavel place na linha 5 e armazene a saida do metodo em uma nova variavel place_upper\n",
        "place = \"poolhouse\"\n",
        "place_upper = place.upper()\n",
        "\n",
        "#2) Print place_upper\n",
        "print(place_upper)\n",
        "\n",
        "#3)usando o metodo count, realize a contagem de quantas letras O tem na variavel place\n",
        "print(place.count(\"O\"))\n",
        "\n"
      ],
      "metadata": {
        "id": "bGlgeJqPYUyM",
        "colab": {
          "base_uri": "https://localhost:8080/"
        },
        "outputId": "be2a86b7-c9a1-4ec9-c1f9-70862156d1fb"
      },
      "execution_count": null,
      "outputs": [
        {
          "output_type": "stream",
          "name": "stdout",
          "text": [
            "POOLHOUSE\n",
            "0\n"
          ]
        }
      ]
    },
    {
      "cell_type": "code",
      "source": [
        "#4)na linha 5 print o index que conte numero 20 com o metodo index()\n",
        "numbers = [11.35, 20.0, 18.0, 10, 47]\n",
        "print(numbers.index(20))\n",
        "\n",
        "#5)Usando o método count(), mostre via print o numero de vezes que 9.5 aparece na lista.\n",
        "print(numbers.count(9.5))\n",
        "\n",
        "#6) Na linha 7 use o método append() duas vezes para incluir os números 24.5 e 15.25 no fim da lista.\n",
        "numbers.append(24.5)\n",
        "numbers.append(15.25)\n",
        "\n",
        "#7) print a lista areas na Linha 8\n",
        "print(numbers)\n",
        "\n",
        "#8) Use o método reverse() da lista para trocar a ordem dos elementos da lista.\n",
        "numbers.reverse()\n",
        "print(numbers)\n",
        "\n",
        "#9) Print novamente a ista areas\n",
        "print(numbers)"
      ],
      "metadata": {
        "id": "bAvMWUun8xOU"
      },
      "execution_count": null,
      "outputs": []
    },
    {
      "cell_type": "code",
      "source": [],
      "metadata": {
        "id": "DpdUEvAa92tR"
      },
      "execution_count": null,
      "outputs": []
    }
  ]
}