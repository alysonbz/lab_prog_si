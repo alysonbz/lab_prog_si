{
  "nbformat": 4,
  "nbformat_minor": 0,
  "metadata": {
    "colab": {
      "provenance": [],
      "authorship_tag": "ABX9TyPXIMFXY5bTSf33FDmGQ8ji",
      "include_colab_link": true
    },
    "kernelspec": {
      "name": "python3",
      "display_name": "Python 3"
    },
    "language_info": {
      "name": "python"
    }
  },
  "cells": [
    {
      "cell_type": "markdown",
      "metadata": {
        "id": "view-in-github",
        "colab_type": "text"
      },
      "source": [
        "<a href=\"https://colab.research.google.com/github/alysonbz/lab_prog_si/blob/joao_pedro/Aula8.ipynb\" target=\"_parent\"><img src=\"https://colab.research.google.com/assets/colab-badge.svg\" alt=\"Open In Colab\"/></a>"
      ]
    },
    {
      "cell_type": "code",
      "execution_count": null,
      "metadata": {
        "id": "Ii9BzE4hO4eH"
      },
      "outputs": [],
      "source": [
        "import random as rd\n",
        "import numpy as np"
      ]
    },
    {
      "cell_type": "code",
      "source": [
        "height = range(150, 210)\n",
        "weight = range(50, 150)"
      ],
      "metadata": {
        "id": "EKdIvB-2Pcaf"
      },
      "execution_count": null,
      "outputs": []
    },
    {
      "cell_type": "code",
      "source": [
        "height = rd.sample(height, 20)\n",
        "weight = rd.sample(weight, 20)"
      ],
      "metadata": {
        "id": "6cAESIN7RgN2"
      },
      "execution_count": null,
      "outputs": []
    },
    {
      "cell_type": "code",
      "source": [
        "height_array = np.array(height) * 0.01\n",
        "weight_array = np.array(weight)"
      ],
      "metadata": {
        "id": "rHKhLjc7R8jU"
      },
      "execution_count": null,
      "outputs": []
    },
    {
      "cell_type": "code",
      "source": [
        "bmi = weight_array / (height_array ** 2)\n",
        "print(bmi)"
      ],
      "metadata": {
        "colab": {
          "base_uri": "https://localhost:8080/"
        },
        "id": "N20_jvy2SC9B",
        "outputId": "cc7a020f-7e31-405e-f24c-cdb6702ed7f4"
      },
      "execution_count": null,
      "outputs": [
        {
          "output_type": "stream",
          "name": "stdout",
          "text": [
            "[15.67705271 36.49376417 32.96398892 41.64514463 27.26800554 33.83752936\n",
            " 61.98347107 24.0333135  30.92843103 34.18553689 39.89361702 56.56421819\n",
            " 19.95728441 40.60739512 23.80897873 33.49738463 14.0291807  38.19632234\n",
            " 38.3407801  54.95125899]\n"
          ]
        }
      ]
    },
    {
      "cell_type": "code",
      "source": [
        "light = bmi < 21\n",
        "print(light)"
      ],
      "metadata": {
        "colab": {
          "base_uri": "https://localhost:8080/"
        },
        "id": "_D1AgrgBTS28",
        "outputId": "3ba2745c-86eb-4c59-b06b-6d02f5bfcf96"
      },
      "execution_count": null,
      "outputs": [
        {
          "output_type": "stream",
          "name": "stdout",
          "text": [
            "[ True False False False False False False False False False False False\n",
            "  True False False False  True False False False]\n"
          ]
        }
      ]
    },
    {
      "cell_type": "code",
      "source": [
        "print(bmi[light])\n",
        "print(weight_array[8:16])\n",
        "print(height_array[11:20])"
      ],
      "metadata": {
        "colab": {
          "base_uri": "https://localhost:8080/"
        },
        "id": "JFi2C8DqTmhD",
        "outputId": "7d01f761-a9fd-4c6c-c592-6e72a2b78f82"
      },
      "execution_count": null,
      "outputs": [
        {
          "output_type": "stream",
          "name": "stdout",
          "text": [
            "[15.67705271 19.95728441 14.0291807 ]\n",
            "[107 117 141 143  57 142 104 130]\n",
            "[1.59 1.69 1.87 2.09 1.97 1.98 1.72 1.82 1.63]\n"
          ]
        }
      ]
    }
  ]
}