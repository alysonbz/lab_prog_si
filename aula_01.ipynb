{
  "nbformat": 4,
  "nbformat_minor": 0,
  "metadata": {
    "colab": {
      "provenance": [],
      "authorship_tag": "ABX9TyOE6zEmO0dV1NSqcTlmjP/k",
      "include_colab_link": true
    },
    "kernelspec": {
      "name": "python3",
      "display_name": "Python 3"
    },
    "language_info": {
      "name": "python"
    }
  },
  "cells": [
    {
      "cell_type": "markdown",
      "metadata": {
        "id": "view-in-github",
        "colab_type": "text"
      },
      "source": [
        "<a href=\"https://colab.research.google.com/github/alysonbz/lab_prog_si/blob/laisa_gomes/C%C3%B3pia_de_aula_01.ipynb\" target=\"_parent\"><img src=\"https://colab.research.google.com/assets/colab-badge.svg\" alt=\"Open In Colab\"/></a>"
      ]
    },
    {
      "cell_type": "code",
      "execution_count": null,
      "metadata": {
        "colab": {
          "base_uri": "https://localhost:8080/"
        },
        "id": "ctXs3mrXAuMG",
        "outputId": "be930ffc-cc43-4377-c320-ab148b61b936"
      },
      "outputs": [
        {
          "output_type": "stream",
          "name": "stdout",
          "text": [
            "18.49112426035503\n"
          ]
        }
      ],
      "source": [
        "altura= 1.56\n",
        "peso= 45\n",
        "imc= peso/altura**2\n",
        "print(imc)"
      ]
    },
    {
      "cell_type": "code",
      "source": [
        "nome= 'Laísa'\n",
        "altura= 1.56\n",
        "peso= 45\n",
        "idade= 18\n",
        "\n",
        "#tipos de variaveis\n",
        "\n",
        "print (type(nome))\n",
        "print (type(altura))\n",
        "print (type(peso))\n",
        "print (type(idade))"
      ],
      "metadata": {
        "colab": {
          "base_uri": "https://localhost:8080/"
        },
        "id": "899wiHqtDab9",
        "outputId": "fa27f4f5-ee4e-4101-bb11-7e3d420e56cb"
      },
      "execution_count": null,
      "outputs": [
        {
          "output_type": "stream",
          "name": "stdout",
          "text": [
            "<class 'str'>\n",
            "<class 'float'>\n",
            "<class 'int'>\n",
            "<class 'int'>\n"
          ]
        }
      ]
    },
    {
      "cell_type": "code",
      "source": [
        "nome= 'Laísa'\n",
        "sobrenome= ' Gomes'\n",
        "\n",
        "print(nome+sobrenome)\n"
      ],
      "metadata": {
        "colab": {
          "base_uri": "https://localhost:8080/"
        },
        "id": "_ZyxtwJjGSzB",
        "outputId": "2a52cd72-bc2c-4e1c-cebe-4cfedf2597ef"
      },
      "execution_count": null,
      "outputs": [
        {
          "output_type": "stream",
          "name": "stdout",
          "text": [
            "Laísa Gomes\n"
          ]
        }
      ]
    },
    {
      "cell_type": "code",
      "source": [
        "#Exemplo\n",
        "\n",
        "print(7+8)"
      ],
      "metadata": {
        "colab": {
          "base_uri": "https://localhost:8080/"
        },
        "id": "Ay35b-4tITqU",
        "outputId": "ec03bc51-5fb0-4041-e157-206cebbcb451"
      },
      "execution_count": null,
      "outputs": [
        {
          "output_type": "stream",
          "name": "stdout",
          "text": [
            "15\n"
          ]
        }
      ]
    },
    {
      "cell_type": "code",
      "source": [
        "#operação de print da soma\n",
        "print(5+3)"
      ],
      "metadata": {
        "colab": {
          "base_uri": "https://localhost:8080/"
        },
        "id": "vZT0SkHxKpO2",
        "outputId": "f408c65d-84fa-4afb-c14f-42c669c2ff15"
      },
      "execution_count": null,
      "outputs": [
        {
          "output_type": "stream",
          "name": "stdout",
          "text": [
            "8\n"
          ]
        }
      ]
    },
    {
      "cell_type": "code",
      "source": [
        "#operações\n",
        "\n",
        "print(5**3)\n",
        "print(5*3)\n",
        "print(5%3)"
      ],
      "metadata": {
        "colab": {
          "base_uri": "https://localhost:8080/"
        },
        "id": "rqQXX0LLK9RH",
        "outputId": "db8bca0a-9883-4295-c530-8d6fe75e392d"
      },
      "execution_count": null,
      "outputs": [
        {
          "output_type": "stream",
          "name": "stdout",
          "text": [
            "125\n",
            "15\n",
            "2\n"
          ]
        }
      ]
    },
    {
      "cell_type": "code",
      "source": [
        "capital= 100\n",
        "taxa= 0.011\n",
        "tempo= 7\n",
        "juros= capital*taxa*tempo\n",
        "print(juros)"
      ],
      "metadata": {
        "colab": {
          "base_uri": "https://localhost:8080/"
        },
        "id": "y0V45JFjMMkT",
        "outputId": "dc71ea32-7b91-41ab-ca80-12f8add35d0d"
      },
      "execution_count": null,
      "outputs": [
        {
          "output_type": "stream",
          "name": "stdout",
          "text": [
            "7.699999999999999\n"
          ]
        }
      ]
    }
  ]
}
