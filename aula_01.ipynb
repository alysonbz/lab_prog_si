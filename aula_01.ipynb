{
  "nbformat": 4,
  "nbformat_minor": 0,
  "metadata": {
    "colab": {
      "provenance": [],
      "authorship_tag": "ABX9TyMuQWgbNbjirDQhaIEauVyA",
      "include_colab_link": true
    },
    "kernelspec": {
      "name": "python3",
      "display_name": "Python 3"
    },
    "language_info": {
      "name": "python"
    }
  },
  "cells": [
    {
      "cell_type": "markdown",
      "metadata": {
        "id": "view-in-github",
        "colab_type": "text"
      },
      "source": [
        "<a href=\"https://colab.research.google.com/github/alysonbz/lab_prog_si/blob/laisa_gomes/aula_01.ipynb\" target=\"_parent\"><img src=\"https://colab.research.google.com/assets/colab-badge.svg\" alt=\"Open In Colab\"/></a>"
      ]
    },
    {
      "cell_type": "code",
      "execution_count": null,
      "metadata": {
        "colab": {
          "base_uri": "https://localhost:8080/"
        },
        "id": "ctXs3mrXAuMG",
        "outputId": "be930ffc-cc43-4377-c320-ab148b61b936"
      },
      "outputs": [
        {
          "output_type": "stream",
          "name": "stdout",
          "text": [
            "18.49112426035503\n"
          ]
        }
      ],
      "source": [
        "altura= 1.56\n",
        "peso= 45\n",
        "imc= peso/altura**2\n",
        "print(imc)"
      ]
    },
    {
      "cell_type": "code",
      "source": [
        "nome= 'Laísa'\n",
        "altura= 1.56\n",
        "peso= 45\n",
        "idade= 18\n",
        "\n",
        "#tipos de variaveis\n",
        "\n",
        "print (type(nome))\n",
        "print (type(altura))\n",
        "print (type(peso))\n",
        "print (type(idade))"
      ],
      "metadata": {
        "colab": {
          "base_uri": "https://localhost:8080/"
        },
        "id": "899wiHqtDab9",
        "outputId": "fa27f4f5-ee4e-4101-bb11-7e3d420e56cb"
      },
      "execution_count": null,
      "outputs": [
        {
          "output_type": "stream",
          "name": "stdout",
          "text": [
            "<class 'str'>\n",
            "<class 'float'>\n",
            "<class 'int'>\n",
            "<class 'int'>\n"
          ]
        }
      ]
    },
    {
      "cell_type": "code",
      "source": [
        "nome= 'Laísa'\n",
        "sobrenome= ' Gomes'\n",
        "\n",
        "print(nome+sobrenome)\n"
      ],
      "metadata": {
        "colab": {
          "base_uri": "https://localhost:8080/"
        },
        "id": "_ZyxtwJjGSzB",
        "outputId": "2a52cd72-bc2c-4e1c-cebe-4cfedf2597ef"
      },
      "execution_count": null,
      "outputs": [
        {
          "output_type": "stream",
          "name": "stdout",
          "text": [
            "Laísa Gomes\n"
          ]
        }
      ]
    },
    {
      "cell_type": "code",
      "source": [
        "#Exemplo\n",
        "\n",
        "print(7+8)"
      ],
      "metadata": {
        "colab": {
          "base_uri": "https://localhost:8080/"
        },
        "id": "Ay35b-4tITqU",
        "outputId": "ec03bc51-5fb0-4041-e157-206cebbcb451"
      },
      "execution_count": null,
      "outputs": [
        {
          "output_type": "stream",
          "name": "stdout",
          "text": [
            "15\n"
          ]
        }
      ]
    },
    {
      "cell_type": "code",
      "source": [
        "#operação de print da soma\n",
        "print(5+3)"
      ],
      "metadata": {
        "colab": {
          "base_uri": "https://localhost:8080/"
        },
        "id": "vZT0SkHxKpO2",
        "outputId": "f408c65d-84fa-4afb-c14f-42c669c2ff15"
      },
      "execution_count": null,
      "outputs": [
        {
          "output_type": "stream",
          "name": "stdout",
          "text": [
            "8\n"
          ]
        }
      ]
    },
    {
      "cell_type": "code",
      "source": [
        "#operações\n",
        "\n",
        "print(5**3)\n",
        "print(5*3)\n",
        "print(5%3)"
      ],
      "metadata": {
        "colab": {
          "base_uri": "https://localhost:8080/"
        },
        "id": "rqQXX0LLK9RH",
        "outputId": "db8bca0a-9883-4295-c530-8d6fe75e392d"
      },
      "execution_count": null,
      "outputs": [
        {
          "output_type": "stream",
          "name": "stdout",
          "text": [
            "125\n",
            "15\n",
            "2\n"
          ]
        }
      ]
    },
    {
      "cell_type": "code",
      "source": [
        "capital= 100\n",
        "taxa= 0.011\n",
        "tempo= 7\n",
        "juros= capital*taxa*tempo\n",
        "print(juros)"
      ],
      "metadata": {
        "colab": {
          "base_uri": "https://localhost:8080/"
        },
        "id": "y0V45JFjMMkT",
        "outputId": "dc71ea32-7b91-41ab-ca80-12f8add35d0d"
      },
      "execution_count": null,
      "outputs": [
        {
          "output_type": "stream",
          "name": "stdout",
          "text": [
            "7.699999999999999\n"
          ]
        }
      ]
    },
    {
      "cell_type": "code",
      "source": [
        "savings= 100\n",
        "growth_multiplier= 1.1\n",
        "desc= \"compound interest\"\n",
        "\n",
        "# Assign product of growth_multiplier and savings to year1\n",
        "year1= savings*growth_multiplier\n",
        "\n",
        "# Print the type of year1\n",
        "print(type(year1))\n",
        "\n",
        "# Assign sum of desc and desc to doubledesc\n",
        "doubledesc= desc+desc\n",
        "\n",
        "# Print out doubledesc\n",
        "print(doubledesc)"
      ],
      "metadata": {
        "colab": {
          "base_uri": "https://localhost:8080/"
        },
        "id": "YwQpc1Ja2Meh",
        "outputId": "7e0dd4a0-b479-4110-e4da-cfd9229a294d"
      },
      "execution_count": null,
      "outputs": [
        {
          "output_type": "stream",
          "name": "stdout",
          "text": [
            "<class 'float'>\n",
            "compound interestcompound interest\n"
          ]
        }
      ]
    },
    {
      "cell_type": "code",
      "source": [
        "# Definition od pi_string\n",
        "pi_string= \"3.1415926\"\n",
        "\n",
        "# Convert pi_string into float: pi_float\n",
        "pi_float= float(pi_string)\n",
        "print(pi_float)\n",
        "\n",
        "print(type(pi_string))\n",
        "print(type(pi_float))"
      ],
      "metadata": {
        "colab": {
          "base_uri": "https://localhost:8080/"
        },
        "id": "AXPt__KO2FuM",
        "outputId": "a820cc81-ccac-4474-e5e4-5728826a2bbc"
      },
      "execution_count": null,
      "outputs": [
        {
          "output_type": "stream",
          "name": "stdout",
          "text": [
            "3.1415926\n",
            "<class 'str'>\n",
            "<class 'float'>\n"
          ]
        }
      ]
    },
    {
      "cell_type": "code",
      "source": [
        "# Definition of saving and result\n",
        "savings= 100\n",
        "result= 100 * 1.10**7\n",
        "\n",
        "# Fix the printout\n",
        "print(\"I started with $\" + str(savings) + \" and now have $\" + str(result) + \". Awesome!\")"
      ],
      "metadata": {
        "id": "LYYz8hlC2_7R",
        "colab": {
          "base_uri": "https://localhost:8080/"
        },
        "outputId": "378ccd2d-4899-4f25-c500-af511feb28ff"
      },
      "execution_count": null,
      "outputs": [
        {
          "output_type": "stream",
          "name": "stdout",
          "text": [
            "I started with $100 and now have $194.87171000000012. Awesome!\n"
          ]
        }
      ]
    },
    {
      "cell_type": "code",
      "source": [
        "print('The correct answer to this multiple choice exercise is answer number' + 2)\n",
        "\n",
        "# Não é possível somar str com int"
      ],
      "metadata": {
        "id": "tgMhKmTv-4ZK",
        "colab": {
          "base_uri": "https://localhost:8080/",
          "height": 158
        },
        "outputId": "e61ecc8c-fe94-4160-96d6-00c305bbed75"
      },
      "execution_count": null,
      "outputs": [
        {
          "output_type": "error",
          "ename": "TypeError",
          "evalue": "can only concatenate str (not \"int\") to str",
          "traceback": [
            "\u001b[0;31m---------------------------------------------------------------------------\u001b[0m",
            "\u001b[0;31mTypeError\u001b[0m                                 Traceback (most recent call last)",
            "\u001b[0;32m<ipython-input-4-ef2fc177f265>\u001b[0m in \u001b[0;36m<cell line: 0>\u001b[0;34m()\u001b[0m\n\u001b[0;32m----> 1\u001b[0;31m \u001b[0mprint\u001b[0m\u001b[0;34m(\u001b[0m\u001b[0;34m'The correct answer to this multiple choice exercise is answer number'\u001b[0m \u001b[0;34m+\u001b[0m \u001b[0;36m2\u001b[0m\u001b[0;34m)\u001b[0m\u001b[0;34m\u001b[0m\u001b[0;34m\u001b[0m\u001b[0m\n\u001b[0m",
            "\u001b[0;31mTypeError\u001b[0m: can only concatenate str (not \"int\") to str"
          ]
        }
      ]
    }
  ]
}