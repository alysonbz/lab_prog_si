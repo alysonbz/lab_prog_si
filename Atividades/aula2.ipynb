{
  "nbformat": 4,
  "nbformat_minor": 0,
  "metadata": {
    "colab": {
      "provenance": []
    },
    "kernelspec": {
      "name": "python3",
      "display_name": "Python 3"
    },
    "language_info": {
      "name": "python"
    }
  },
  "cells": [
    {
      "cell_type": "markdown",
      "source": [
        "Listas em python"
      ],
      "metadata": {
        "id": "lblD9vjP7ZdU"
      }
    },
    {
      "cell_type": "code",
      "execution_count": 3,
      "metadata": {
        "colab": {
          "base_uri": "https://localhost:8080/"
        },
        "id": "hO1lrBtF7UER",
        "outputId": "8dc7153d-8fd3-4cf1-b837-e333c0ca015e"
      },
      "outputs": [
        {
          "output_type": "stream",
          "name": "stdout",
          "text": [
            "['Amanda', 'Ana', 'Bruno', 'João', 'Cauan']\n"
          ]
        }
      ],
      "source": [
        "alunos = ['Amanda', 'Ana', 'Bruno', 'João', 'Cauan']\n",
        "print(alunos)"
      ]
    },
    {
      "cell_type": "code",
      "source": [
        "type(alunos)"
      ],
      "metadata": {
        "colab": {
          "base_uri": "https://localhost:8080/"
        },
        "id": "81_2jUxo7_Fn",
        "outputId": "7e9ef3e5-a72e-43ea-900d-34ff9bab1d73"
      },
      "execution_count": 4,
      "outputs": [
        {
          "output_type": "execute_result",
          "data": {
            "text/plain": [
              "list"
            ]
          },
          "metadata": {},
          "execution_count": 4
        }
      ]
    },
    {
      "cell_type": "code",
      "source": [
        "alunos_com_notas = [['Amanda', 10], ['Ana', 8], ['Bruno', 7.5], ['João', 9], ['Cauan', 6]]\n",
        "print(alunos_com_notas)"
      ],
      "metadata": {
        "colab": {
          "base_uri": "https://localhost:8080/"
        },
        "id": "xl9ggFTl8Lp8",
        "outputId": "fe4ad2b5-93e9-4af5-e35a-b175cccc59fa"
      },
      "execution_count": 5,
      "outputs": [
        {
          "output_type": "stream",
          "name": "stdout",
          "text": [
            "[['Amanda', 10], ['Ana', 8], ['Bruno', 7.5], ['João', 9], ['Cauan', 6]]\n"
          ]
        }
      ]
    }
  ]
}