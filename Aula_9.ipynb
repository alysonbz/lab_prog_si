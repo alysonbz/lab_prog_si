{
  "nbformat": 4,
  "nbformat_minor": 0,
  "metadata": {
    "colab": {
      "provenance": [],
      "authorship_tag": "ABX9TyP/c4vYy67ARpovEFqHlgQb",
      "include_colab_link": true
    },
    "kernelspec": {
      "name": "python3",
      "display_name": "Python 3"
    },
    "language_info": {
      "name": "python"
    }
  },
  "cells": [
    {
      "cell_type": "markdown",
      "metadata": {
        "id": "view-in-github",
        "colab_type": "text"
      },
      "source": [
        "<a href=\"https://colab.research.google.com/github/alysonbz/lab_prog_si/blob/levi_nascimento/Aula_9.ipynb\" target=\"_parent\"><img src=\"https://colab.research.google.com/assets/colab-badge.svg\" alt=\"Open In Colab\"/></a>"
      ]
    },
    {
      "cell_type": "markdown",
      "source": [
        "OPERADORES DE COMPARAÇÃO"
      ],
      "metadata": {
        "id": "ee0PiOdvJjF7"
      }
    },
    {
      "cell_type": "code",
      "execution_count": 8,
      "metadata": {
        "colab": {
          "base_uri": "https://localhost:8080/"
        },
        "id": "pcM5FJSuI3c2",
        "outputId": "d691e418-b5ac-4ab5-d066-ea950dfa18d5"
      },
      "outputs": [
        {
          "output_type": "execute_result",
          "data": {
            "text/plain": [
              "array([21.85171573, 20.97505669, 21.75028214, 24.7473475 , 21.44127836])"
            ]
          },
          "metadata": {},
          "execution_count": 8
        }
      ],
      "source": [
        "import numpy as np\n",
        "np_height = np.array([1.73, 1.68, 1.71, 1.89, 1.79])\n",
        "np_weight = np.array([65.4, 59.2, 63.6, 88.4, 68.7])\n",
        "bmi = np_weight / np_height**2\n",
        "bmi"
      ]
    },
    {
      "cell_type": "code",
      "source": [
        "import numpy as np\n",
        "np_height = np.array([1.73, 1.68, 1.71, 1.89, 1.79])\n",
        "np_weight = np.array([65.4, 59.2, 63.6, 88.4, 68.7])\n",
        "bmi = np_weight / np_height**2\n",
        "bmi\n",
        "\n",
        "#Para 1 valor de peso e um valor de altura, print na tela: Você está com sobrepeso se bmi > 30, caso contrário, você esta com peso adequado.\n",
        "for valor in bmi:\n",
        "  if valor > 30:\n",
        "    print(valor, \" Você está com sobrepeso\")\n",
        "  else:\n",
        "    print(valor, \" Você está com peso adequado\")"
      ],
      "metadata": {
        "colab": {
          "base_uri": "https://localhost:8080/"
        },
        "id": "0agRkP0eKUUT",
        "outputId": "0786cfec-bfcd-4807-d3a8-1384c201e69e"
      },
      "execution_count": 14,
      "outputs": [
        {
          "output_type": "stream",
          "name": "stdout",
          "text": [
            "21.85171572722109  Você está com peso adequado\n",
            "20.97505668934241  Você está com peso adequado\n",
            "21.750282138093777  Você está com peso adequado\n",
            "24.74734749867025  Você está com peso adequado\n",
            "21.44127836209856  Você está com peso adequado\n"
          ]
        }
      ]
    },
    {
      "cell_type": "code",
      "source": [
        "#Para o Array resposta do exemplo ao lado print, usando operador lógico, onde bmi é menor que 23.\n",
        "bmi[bmi < 23]"
      ],
      "metadata": {
        "colab": {
          "base_uri": "https://localhost:8080/"
        },
        "id": "9if14Y66KjiL",
        "outputId": "024ac0b5-b099-4466-a821-9beae1d709a4"
      },
      "execution_count": 16,
      "outputs": [
        {
          "output_type": "execute_result",
          "data": {
            "text/plain": [
              "array([21.85171573, 20.97505669, 21.75028214, 21.44127836])"
            ]
          },
          "metadata": {},
          "execution_count": 16
        }
      ]
    },
    {
      "cell_type": "markdown",
      "source": [
        "PRATIQUE"
      ],
      "metadata": {
        "id": "AZNnkNQHNQ5J"
      }
    },
    {
      "cell_type": "code",
      "source": [
        "#verifique a igualdade entre duas variáveis booleanas. Nesse caso, True e False.\n",
        "verdade = True\n",
        "mentira = False\n",
        "print( verdade == mentira)\n",
        "\n",
        "#Verifique se a multiplicação -5 * 15 é igual a 75\n",
        "print(-5 * 15 == 75)\n",
        "\n",
        "#Verifique se as strings \"pyscript\" e  \"PyScript\"  são iguais.\n",
        "print(\"pyscript\" == \"PyScript\")\n",
        "\n",
        "#Verifique se a variaável booleana True é igual a 1.\n",
        "print(True == 1)"
      ],
      "metadata": {
        "colab": {
          "base_uri": "https://localhost:8080/"
        },
        "id": "fErYrHdPMwBk",
        "outputId": "cdc2b651-f02e-40a8-ed09-b8d7d731e0da"
      },
      "execution_count": 22,
      "outputs": [
        {
          "output_type": "stream",
          "name": "stdout",
          "text": [
            "False\n",
            "False\n",
            "False\n",
            "True\n"
          ]
        }
      ]
    },
    {
      "cell_type": "code",
      "source": [
        "import numpy as np\n",
        "my_house = np.array([18.0, 20.0, 10.75, 9.50])\n",
        "your_house = np.array([14.0, 24.0, 14.25, 9.0])\n",
        "\n",
        "#Print a verificação de quais elementos são maiores que 18 no array my_house.\n",
        "my_house[my_house > 18]\n",
        "\n",
        "#Print  a verificação de quais elementos em my_house são menores que no arrray your_house.\n",
        "print(my_house[my_house < your_house])"
      ],
      "metadata": {
        "colab": {
          "base_uri": "https://localhost:8080/"
        },
        "id": "HCXabayIOkdE",
        "outputId": "99352c9e-b8b3-4a59-c90a-c585f8682da0"
      },
      "execution_count": 27,
      "outputs": [
        {
          "output_type": "stream",
          "name": "stdout",
          "text": [
            "[20.   10.75]\n"
          ]
        }
      ]
    },
    {
      "cell_type": "markdown",
      "source": [
        "OPERADORES BOOLEANOS"
      ],
      "metadata": {
        "id": "M0NZGv6NRyAS"
      }
    },
    {
      "cell_type": "code",
      "source": [
        "x = 12\n",
        "x > 5 and x < 11"
      ],
      "metadata": {
        "colab": {
          "base_uri": "https://localhost:8080/"
        },
        "id": "hqnKD_S_P6ET",
        "outputId": "a02e50a9-13c2-46e2-d744-8ba8c0c41af5"
      },
      "execution_count": 28,
      "outputs": [
        {
          "output_type": "execute_result",
          "data": {
            "text/plain": [
              "False"
            ]
          },
          "metadata": {},
          "execution_count": 28
        }
      ]
    },
    {
      "cell_type": "code",
      "source": [
        "y = 5\n",
        "y < 4 or y > 6"
      ],
      "metadata": {
        "colab": {
          "base_uri": "https://localhost:8080/"
        },
        "id": "zVAiTWESR0dx",
        "outputId": "baa1a8c2-6609-43b8-cc71-df747577b592"
      },
      "execution_count": 29,
      "outputs": [
        {
          "output_type": "execute_result",
          "data": {
            "text/plain": [
              "False"
            ]
          },
          "metadata": {},
          "execution_count": 29
        }
      ]
    },
    {
      "cell_type": "code",
      "source": [
        "#logical_and()\n",
        "#logical_or()\n",
        "#logical_not()\n",
        "\n",
        "np.logical_and(bmi > 21, bmi < 22)"
      ],
      "metadata": {
        "colab": {
          "base_uri": "https://localhost:8080/"
        },
        "id": "jIgxmzauTecy",
        "outputId": "62f0c215-158e-4345-ba22-1eef9a30b8d4"
      },
      "execution_count": 30,
      "outputs": [
        {
          "output_type": "execute_result",
          "data": {
            "text/plain": [
              "array([ True, False,  True, False,  True])"
            ]
          },
          "metadata": {},
          "execution_count": 30
        }
      ]
    },
    {
      "cell_type": "code",
      "source": [
        "bmi[np.logical_and(bmi > 21, bmi < 22)]"
      ],
      "metadata": {
        "colab": {
          "base_uri": "https://localhost:8080/"
        },
        "id": "K9RvV-lWTsvK",
        "outputId": "cdf72def-0689-4582-da5f-4a9a1a92a914"
      },
      "execution_count": 31,
      "outputs": [
        {
          "output_type": "execute_result",
          "data": {
            "text/plain": [
              "array([21.85171573, 21.75028214, 21.44127836])"
            ]
          },
          "metadata": {},
          "execution_count": 31
        }
      ]
    },
    {
      "cell_type": "markdown",
      "source": [
        "PRATIQUE\n"
      ],
      "metadata": {
        "id": "DLSSppeET9qY"
      }
    },
    {
      "cell_type": "code",
      "source": [
        "my_kitchen = 18.0\n",
        "your_kitchen = 14.0\n",
        "\n",
        "#verifique se my_kitchen é maior que 10 e menor que 18.\n",
        "print(np.logical_and(my_kitchen > 10, my_kitchen <18))\n",
        "\n",
        "#verifique se my_kitchen é menor que 14 e menor que 17.\n",
        "print(np.logical_and(my_kitchen < 14, my_kitchen < 17))\n",
        "\n",
        "#Verifique se o dobro de my_kitchen é menor que o triplo de your_kitchen.\n",
        "print(my_kitchen*2 < your_kitchen*3)\n"
      ],
      "metadata": {
        "colab": {
          "base_uri": "https://localhost:8080/"
        },
        "id": "gwc0xSI8T_i0",
        "outputId": "4c3ca944-cda4-4e84-e79c-59d82a893a57"
      },
      "execution_count": 35,
      "outputs": [
        {
          "output_type": "stream",
          "name": "stdout",
          "text": [
            "False\n",
            "False\n",
            "True\n"
          ]
        }
      ]
    },
    {
      "cell_type": "code",
      "source": [
        "import numpy as np\n",
        "my_house = np.array([18.0, 20.0, 10.75, 9.50])\n",
        "your_house = np.array([14.0, 24.0, 14.25, 9.0])\n",
        "\n",
        "#verifique quais elementos de my_house são maiores que 18.5 ou menores que 10.\n",
        "print(my_house[np.logical_or(my_house > 18.5, my_house < 10.0)])\n",
        "\n",
        "#Verifique quais elementos das mesmas posições dos arrays possuem valor menor que 11.\n",
        "np.logical_and(my_house < 11, your_house < 11)\n"
      ],
      "metadata": {
        "colab": {
          "base_uri": "https://localhost:8080/"
        },
        "id": "03FAEztzUzr5",
        "outputId": "65036ffc-9098-43a4-afb5-fa0e212e80ea"
      },
      "execution_count": 46,
      "outputs": [
        {
          "output_type": "stream",
          "name": "stdout",
          "text": [
            "[20.   9.5]\n"
          ]
        },
        {
          "output_type": "execute_result",
          "data": {
            "text/plain": [
              "array([False, False, False,  True])"
            ]
          },
          "metadata": {},
          "execution_count": 46
        }
      ]
    },
    {
      "cell_type": "markdown",
      "source": [
        "CONDICIONAL"
      ],
      "metadata": {
        "id": "qtP4ml9XYYzC"
      }
    },
    {
      "cell_type": "code",
      "source": [
        "z = 10\n",
        "if z % 2 == 0:\n",
        "  print(\"Z é par\")\n",
        "else:\n",
        "  print(\"Z é ímpar\")"
      ],
      "metadata": {
        "colab": {
          "base_uri": "https://localhost:8080/"
        },
        "id": "PL_ZvaQvYaYB",
        "outputId": "b64b268d-a5f0-4582-8716-2d2691d4c730"
      },
      "execution_count": 50,
      "outputs": [
        {
          "output_type": "stream",
          "name": "stdout",
          "text": [
            "Z é par\n"
          ]
        }
      ]
    },
    {
      "cell_type": "code",
      "source": [
        "z = 7\n",
        "if z % 2 == 0:\n",
        "  print(\"Z é divisível por 2\")\n",
        "elif z % 3 == 0:\n",
        "  print(\"Z é divisível por 3\")\n",
        "else:\n",
        "  print(\"Z não é divisível nem por 2 nem por 3\")"
      ],
      "metadata": {
        "colab": {
          "base_uri": "https://localhost:8080/"
        },
        "id": "DXegjpg_Zj_Y",
        "outputId": "5c40e031-914b-421f-a33e-70d8cf8b84e3"
      },
      "execution_count": 54,
      "outputs": [
        {
          "output_type": "stream",
          "name": "stdout",
          "text": [
            "Z não é divisível nem por 2 nem por 3\n"
          ]
        }
      ]
    },
    {
      "cell_type": "markdown",
      "source": [
        "PRATIQUE"
      ],
      "metadata": {
        "id": "zOPI4GEaZ-Q_"
      }
    },
    {
      "cell_type": "code",
      "source": [
        "room = 'kit'\n",
        "area = 14.0\n",
        "\n",
        "#verifique que se area for maior que 15 print a mensage : “Big PLace”\n",
        "#Apos á verificação, utilize o comando else para informar que se caso contrário, print “pretty small”.\n",
        "if area > 15:\n",
        "  print(\"Big Place\")\n",
        "else:\n",
        "  print(\"pretty small\")"
      ],
      "metadata": {
        "id": "PNzHAnbMZ7mh"
      },
      "execution_count": null,
      "outputs": []
    }
  ]
}