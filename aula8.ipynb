{
  "nbformat": 4,
  "nbformat_minor": 0,
  "metadata": {
    "colab": {
      "provenance": [],
      "authorship_tag": "ABX9TyPyeI4yWwQvIUL6ly3nrMn9",
      "include_colab_link": true
    },
    "kernelspec": {
      "name": "python3",
      "display_name": "Python 3"
    },
    "language_info": {
      "name": "python"
    }
  },
  "cells": [
    {
      "cell_type": "markdown",
      "metadata": {
        "id": "view-in-github",
        "colab_type": "text"
      },
      "source": [
        "<a href=\"https://colab.research.google.com/github/alysonbz/lab_prog_si/blob/Emanuel_Oliveira/aula8.ipynb\" target=\"_parent\"><img src=\"https://colab.research.google.com/assets/colab-badge.svg\" alt=\"Open In Colab\"/></a>"
      ]
    },
    {
      "cell_type": "markdown",
      "source": [
        "Lâmina 68:"
      ],
      "metadata": {
        "id": "RFstMXXjXD1a"
      }
    },
    {
      "cell_type": "code",
      "execution_count": 23,
      "metadata": {
        "colab": {
          "base_uri": "https://localhost:8080/"
        },
        "id": "IbrjDt3pOhqq",
        "outputId": "aad02ae5-463a-4d36-da2c-73a5548fa87c"
      },
      "outputs": [
        {
          "output_type": "stream",
          "name": "stdout",
          "text": [
            "range(150, 210)\n",
            "range(50, 150)\n",
            "[[1.94 1.75 1.79 1.64 1.56 2.01 1.76 1.86 1.9  1.6  2.07 2.09 1.61 1.65\n",
            "  2.02 2.03 2.08 1.66 1.5  1.83]]\n",
            "[[148 147  64  52  50  69 138 145 128 122  77 140  81  54 115  89  82 116\n",
            "  129  84]]\n",
            "[[39.32405144 48.         19.97440779 19.33372992 20.54569362 17.07878518\n",
            "  44.55061983 41.91235981 35.45706371 47.65625    17.97008098 32.05054829\n",
            "  31.24879441 19.83471074 28.18351142 21.59722391 18.95340237 42.09609522\n",
            "  57.33333333 25.08286303]]\n",
            "[[False False  True  True  True  True False False False False  True False\n",
            "  False  True False False  True False False False]]\n",
            "[19.97440779 19.33372992 20.54569362 17.07878518 17.97008098 19.83471074\n",
            " 18.95340237]\n",
            "[]\n",
            "[]\n"
          ]
        }
      ],
      "source": [
        "import random as rd\n",
        "import numpy as np\n",
        "#geração de numeros entre 150 e 209\n",
        "height = range(150,210)\n",
        "print(height)\n",
        "#geração de numeros entre 50 e 149\n",
        "weight = range(50,150)\n",
        "print(weight)\n",
        "#amostra randomica de 20 numeros de height\n",
        "height = rd.sample(height,20)\n",
        "#amostra randomica de 20 numeros de weight\n",
        "weight = rd.sample(weight,20)\n",
        "#converter height em array e normalizar multiplicando por 0.01\n",
        "height_array = np.array([height])*0.01\n",
        "print(height_array)\n",
        "#conversor de weight em array\n",
        "weight_array = np.array([weight])\n",
        "print(weight_array)\n",
        "#calculo do BMI\n",
        "bmi = (weight_array/(height_array**2))\n",
        "print(bmi)\n",
        "#verificação onde BMI é menor que 21\n",
        "light = bmi < 21\n",
        "#print light\n",
        "print(light)\n",
        "#exibiçao dos valores de bmi com valor menor que 21\n",
        "print(bmi[light])\n",
        "#Print o elementos de weight_array do index 8 até o index 15, incluindo o index 15\n",
        "print(weight_array[8:16])\n",
        "#Print os elementos height_arra do index 11 até o index 19, incluindo o index 19\n",
        "print(height_array[11:20])"
      ]
    },
    {
      "cell_type": "markdown",
      "source": [
        "Lâmina 69 e 70:"
      ],
      "metadata": {
        "id": "OiH2zq0uaFnV"
      }
    },
    {
      "cell_type": "code",
      "source": [
        "import random as rd\n",
        "import numpy as np\n",
        "city1 = [5,10]\n",
        "city2 = [8,20]\n",
        "city3 = [4,15]\n",
        "np_city = np.array([city1,city2,city3])"
      ],
      "metadata": {
        "id": "C_XrswOPaQxC"
      },
      "execution_count": 31,
      "outputs": []
    },
    {
      "cell_type": "code",
      "source": [
        "np.mean(np_city[:, 0])"
      ],
      "metadata": {
        "colab": {
          "base_uri": "https://localhost:8080/"
        },
        "id": "OXOvze2VbZkE",
        "outputId": "841ee284-da15-4d53-c197-d60c6937c30d"
      },
      "execution_count": 32,
      "outputs": [
        {
          "output_type": "execute_result",
          "data": {
            "text/plain": [
              "np.float64(5.666666666666667)"
            ]
          },
          "metadata": {},
          "execution_count": 32
        }
      ]
    },
    {
      "cell_type": "code",
      "source": [
        "np.median(np_city[:, 0])"
      ],
      "metadata": {
        "colab": {
          "base_uri": "https://localhost:8080/"
        },
        "id": "41GY9e_Cb0UT",
        "outputId": "9249bb53-3ab0-450a-d77f-1eda426dc34c"
      },
      "execution_count": 33,
      "outputs": [
        {
          "output_type": "execute_result",
          "data": {
            "text/plain": [
              "np.float64(5.0)"
            ]
          },
          "metadata": {},
          "execution_count": 33
        }
      ]
    },
    {
      "cell_type": "code",
      "source": [
        "np.corrcoef(np_city[:, 0], np_city[:, 1])"
      ],
      "metadata": {
        "colab": {
          "base_uri": "https://localhost:8080/"
        },
        "id": "g8L3cvDib_JC",
        "outputId": "1d21eecb-d15d-4b55-b4df-4b2187a8f9d6"
      },
      "execution_count": 34,
      "outputs": [
        {
          "output_type": "execute_result",
          "data": {
            "text/plain": [
              "array([[1.        , 0.72057669],\n",
              "       [0.72057669, 1.        ]])"
            ]
          },
          "metadata": {},
          "execution_count": 34
        }
      ]
    },
    {
      "cell_type": "code",
      "source": [
        "np.std(np_city[:, 0])"
      ],
      "metadata": {
        "colab": {
          "base_uri": "https://localhost:8080/"
        },
        "id": "KEIs-V0bcyJW",
        "outputId": "49f3d61e-7029-41b7-bb1a-18cef57c1ebb"
      },
      "execution_count": 35,
      "outputs": [
        {
          "output_type": "execute_result",
          "data": {
            "text/plain": [
              "np.float64(1.699673171197595)"
            ]
          },
          "metadata": {},
          "execution_count": 35
        }
      ]
    },
    {
      "cell_type": "markdown",
      "source": [
        "Geração de um array randômico"
      ],
      "metadata": {
        "id": "pnvIL_U8JlDX"
      }
    },
    {
      "cell_type": "code",
      "source": [
        "height = np.round(np.random.normal(1.75, 0.20, 5000), 2)\n",
        "weight = np.round(np.random.normal(60.32, 15, 5000), 2)\n",
        "np_city = np.column_stack((height, weight))"
      ],
      "metadata": {
        "id": "cLH6HPyrJn_f"
      },
      "execution_count": 36,
      "outputs": []
    },
    {
      "cell_type": "markdown",
      "source": [
        "1)Print a terceira linha de np_baseball na linha 14 do código.\n",
        "\n",
        "2)Crie uma nova variável np_weight_lb que recebe toda a segunda coluna de np_baseball.\n",
        "\n",
        "3)Print a primeira coluna da segunda linha de Np_baseball na linha  do código.\n",
        "\n",
        "4)Calcule e exiba a média da primeira coluna de np_baseball.\n",
        "\n",
        "5)Calcule e exiba a mediana da segunda linha de np_baseball.\n"
      ],
      "metadata": {
        "id": "mhIQRyX6MtWg"
      }
    },
    {
      "cell_type": "code",
      "source": [
        "# Create baseball, a list of lists\n",
        "baseball = [[180, 78.4],\n",
        "            [215, 102.7],\n",
        "            [210, 98.5],\n",
        "            [188, 75.2]]\n",
        "# Import numpy package\n",
        "import numpy as np\n",
        "# Create np_baseball (2 cols)\n",
        "np_baseball = np.array (baseball)\n",
        "# Print out the 50th row of np_baseball\n",
        "print(np_baseball[2])\n",
        "# Select the entire second column of np_baseball: np_weight_lb\n",
        "np_weight_lb = np_baseball[:,1]\n",
        "# Print out height of 124th player\n",
        "print(np_baseball[1,0])\n",
        "#Calcule e exiba a média da primeira coluna de np_baseball.\n",
        "media = np.mean(np_baseball[:,0])\n",
        "print(media)\n",
        "#Calcule e exiba a mediana da segunda linha de np_baseball.\n",
        "mediana = np.median(np_baseball[1])\n",
        "print(mediana)"
      ],
      "metadata": {
        "colab": {
          "base_uri": "https://localhost:8080/"
        },
        "id": "qaO_nVmuM7Yf",
        "outputId": "ab98c85c-2dd7-4589-8d58-0cedd32a4fd6"
      },
      "execution_count": 46,
      "outputs": [
        {
          "output_type": "stream",
          "name": "stdout",
          "text": [
            "[210.   98.5]\n",
            "215.0\n",
            "198.25\n",
            "158.85\n"
          ]
        }
      ]
    },
    {
      "cell_type": "markdown",
      "source": [
        "1) Qual linha de comando exibe a documentação da função len()\n"
      ],
      "metadata": {
        "id": "mzugUyjyTzQ4"
      }
    },
    {
      "cell_type": "code",
      "source": [
        "help(len)"
      ],
      "metadata": {
        "colab": {
          "base_uri": "https://localhost:8080/"
        },
        "id": "0YQIAb8JT1cJ",
        "outputId": "eab77b88-fa5d-4683-daab-8a30d4182acc"
      },
      "execution_count": 48,
      "outputs": [
        {
          "output_type": "stream",
          "name": "stdout",
          "text": [
            "Help on built-in function len in module builtins:\n",
            "\n",
            "len(obj, /)\n",
            "    Return the number of items in a container.\n",
            "\n"
          ]
        }
      ]
    },
    {
      "cell_type": "markdown",
      "source": [
        "2) Qual dos 3 códigos printa o número 8?\n"
      ],
      "metadata": {
        "id": "2D_wYo71T7HW"
      }
    },
    {
      "cell_type": "code",
      "source": [
        "import numpy as np\n",
        "z = np.array([[9, 9, 3],\n",
        "              [8, 5, 4]])\n",
        "print(z[1, 0])"
      ],
      "metadata": {
        "colab": {
          "base_uri": "https://localhost:8080/"
        },
        "id": "FAHsCdYPT-lS",
        "outputId": "1fff4dc5-47de-428a-b686-441fbca49f68"
      },
      "execution_count": 49,
      "outputs": [
        {
          "output_type": "stream",
          "name": "stdout",
          "text": [
            "8\n"
          ]
        }
      ]
    },
    {
      "cell_type": "markdown",
      "source": [
        "Lâmina 75:"
      ],
      "metadata": {
        "id": "8Nh7eDh3VLYA"
      }
    },
    {
      "cell_type": "code",
      "source": [
        "foo = [0.2, 1.7, \"A\", \"Wed\", \"1.5\"]\n",
        "foo[0:2] = [2.75, -1.5]\n",
        "print(foo)"
      ],
      "metadata": {
        "colab": {
          "base_uri": "https://localhost:8080/"
        },
        "id": "8_EEsnIOVOCa",
        "outputId": "c433b43b-4c1e-432c-e227-fc69fbb4d906"
      },
      "execution_count": 50,
      "outputs": [
        {
          "output_type": "stream",
          "name": "stdout",
          "text": [
            "[2.75, -1.5, 'A', 'Wed', '1.5']\n"
          ]
        }
      ]
    },
    {
      "cell_type": "markdown",
      "source": [
        "Lâmina 76:"
      ],
      "metadata": {
        "id": "eS1jdyYBVTGf"
      }
    },
    {
      "cell_type": "code",
      "source": [
        "\"datascience\".replace(\"science\",\"camp\")"
      ],
      "metadata": {
        "colab": {
          "base_uri": "https://localhost:8080/",
          "height": 36
        },
        "id": "Z3gfskDyVVab",
        "outputId": "b4def021-0dc2-4874-edf5-fb26188b689e"
      },
      "execution_count": 51,
      "outputs": [
        {
          "output_type": "execute_result",
          "data": {
            "text/plain": [
              "'datacamp'"
            ],
            "application/vnd.google.colaboratory.intrinsic+json": {
              "type": "string"
            }
          },
          "metadata": {},
          "execution_count": 51
        }
      ]
    },
    {
      "cell_type": "markdown",
      "source": [
        "5) Qual linha de código apresenta erro ?\n"
      ],
      "metadata": {
        "id": "foDVZJ0FVkKw"
      }
    },
    {
      "cell_type": "code",
      "source": [
        "\"python\" * \"2\""
      ],
      "metadata": {
        "colab": {
          "base_uri": "https://localhost:8080/",
          "height": 141
        },
        "id": "zpgwnlpzVmno",
        "outputId": "805b0b8b-e934-42c9-e7bd-45c1f90866d6"
      },
      "execution_count": 52,
      "outputs": [
        {
          "output_type": "error",
          "ename": "TypeError",
          "evalue": "can't multiply sequence by non-int of type 'str'",
          "traceback": [
            "\u001b[0;31m---------------------------------------------------------------------------\u001b[0m",
            "\u001b[0;31mTypeError\u001b[0m                                 Traceback (most recent call last)",
            "\u001b[0;32m<ipython-input-52-d2ace24d3a54>\u001b[0m in \u001b[0;36m<cell line: 0>\u001b[0;34m()\u001b[0m\n\u001b[0;32m----> 1\u001b[0;31m \u001b[0;34m\"python\"\u001b[0m \u001b[0;34m*\u001b[0m \u001b[0;34m\"2\"\u001b[0m\u001b[0;34m\u001b[0m\u001b[0;34m\u001b[0m\u001b[0m\n\u001b[0m",
            "\u001b[0;31mTypeError\u001b[0m: can't multiply sequence by non-int of type 'str'"
          ]
        }
      ]
    },
    {
      "cell_type": "markdown",
      "source": [
        "6) Qual código retorna o texto:\n",
        " python data"
      ],
      "metadata": {
        "id": "1R7-CbdOWFW7"
      }
    },
    {
      "cell_type": "code",
      "source": [
        "x = \"python\"\n",
        "print(x + \" data\")"
      ],
      "metadata": {
        "colab": {
          "base_uri": "https://localhost:8080/"
        },
        "id": "B_DuuN3SWH5y",
        "outputId": "afe2e087-2a00-4a68-cdab-163d7fb75e5c"
      },
      "execution_count": 54,
      "outputs": [
        {
          "output_type": "stream",
          "name": "stdout",
          "text": [
            "python data\n"
          ]
        }
      ]
    },
    {
      "cell_type": "markdown",
      "source": [
        "7) Considerando esse código\n",
        "np_2d = np.array\n",
        "                   ([[1.5, 6.4, 7.8, 2.2],\n",
        "\n",
        "                    [4,3, 8,7, 1,9, 3,4],\n",
        "\n",
        "                    [5.3, 7.3, 9.4, 2.5]])\n",
        "\n",
        ":Qual opção ao lado representa o comando:\n",
        "\n",
        "np_2d[2:,2:]\n",
        "\n",
        "5.3\n",
        "\n",
        "4.3\n",
        "\n",
        "array([[9.4, 2.5]])"
      ],
      "metadata": {
        "id": "tsSDaEbFWWQR"
      }
    },
    {
      "cell_type": "code",
      "source": [
        "import numpy as np\n",
        "np_2d = np.array ([\n",
        "                  [1.5, 6.4, 7.8, 2.2],\n",
        "                  [4.3, 8.7, 1.9, 3.4],\n",
        "                  [5.3, 7.3, 9.4, 2.5]\n",
        "                  ])"
      ],
      "metadata": {
        "id": "JFM6P1-IW375"
      },
      "execution_count": 62,
      "outputs": []
    },
    {
      "cell_type": "code",
      "source": [
        "np_2d[2:,2:]"
      ],
      "metadata": {
        "colab": {
          "base_uri": "https://localhost:8080/"
        },
        "id": "flTwcmb3Xw0Y",
        "outputId": "ca955adf-be17-4b9d-965d-79b0b1755bd4"
      },
      "execution_count": 63,
      "outputs": [
        {
          "output_type": "execute_result",
          "data": {
            "text/plain": [
              "array([[9.4, 2.5]])"
            ]
          },
          "metadata": {},
          "execution_count": 63
        }
      ]
    },
    {
      "cell_type": "markdown",
      "source": [
        "8) Complete o código para a saída 6666\n"
      ],
      "metadata": {
        "id": "5Ab7kxCFYhOM"
      }
    },
    {
      "cell_type": "code",
      "source": [
        "print(\"6\"*(2 ** 2))"
      ],
      "metadata": {
        "colab": {
          "base_uri": "https://localhost:8080/"
        },
        "id": "BoxnTkgNYiMR",
        "outputId": "1927bbf3-f7dc-4335-b17a-9f3ae514a843"
      },
      "execution_count": 67,
      "outputs": [
        {
          "output_type": "stream",
          "name": "stdout",
          "text": [
            "6666\n"
          ]
        }
      ]
    }
  ]
}