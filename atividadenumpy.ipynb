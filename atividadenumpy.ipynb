{
  "nbformat": 4,
  "nbformat_minor": 0,
  "metadata": {
    "colab": {
      "provenance": [],
      "authorship_tag": "ABX9TyM1D2bdwt5hW+nZtSxNYrAU",
      "include_colab_link": true
    },
    "kernelspec": {
      "name": "python3",
      "display_name": "Python 3"
    },
    "language_info": {
      "name": "python"
    }
  },
  "cells": [
    {
      "cell_type": "markdown",
      "metadata": {
        "id": "view-in-github",
        "colab_type": "text"
      },
      "source": [
        "<a href=\"https://colab.research.google.com/github/alysonbz/lab_prog_si/blob/Kemilly_Mota/atividadenumpy.ipynb\" target=\"_parent\"><img src=\"https://colab.research.google.com/assets/colab-badge.svg\" alt=\"Open In Colab\"/></a>"
      ]
    },
    {
      "cell_type": "code",
      "execution_count": null,
      "metadata": {
        "colab": {
          "base_uri": "https://localhost:8080/"
        },
        "id": "wjB2s5S3E0Ih",
        "outputId": "8cc43a6d-b08f-4093-9951-c06e1a267a94"
      },
      "outputs": [
        {
          "output_type": "stream",
          "name": "stdout",
          "text": [
            "Array a:\n",
            " [[ 0  1  2  3  4]\n",
            " [ 5  6  7  8  9]\n",
            " [10 11 12 13 14]]\n",
            "Shape: (3, 5)\n",
            "Número de dimensões (ndim): 2\n",
            "Tipo de dado (dtype.name): int64\n",
            "Tamanho de cada item (bytes): 8\n",
            "Número total de elementos: 15\n",
            "Tipo do objeto: <class 'numpy.ndarray'>\n",
            "\n",
            "Array b: [6 7 8]\n",
            "Tipo de b: <class 'numpy.ndarray'>\n"
          ]
        }
      ],
      "source": [
        "#exemplo 1. Propriedades de Arrays\n",
        "\n",
        "import numpy as np\n",
        "\n",
        "a = np.arange(15).reshape(3, 5)\n",
        "print(\"Array a:\\n\", a)\n",
        "print(\"Shape:\", a.shape)\n",
        "print(\"Número de dimensões (ndim):\", a.ndim)\n",
        "print(\"Tipo de dado (dtype.name):\", a.dtype.name)\n",
        "print(\"Tamanho de cada item (bytes):\", a.itemsize)\n",
        "print(\"Número total de elementos:\", a.size)\n",
        "print(\"Tipo do objeto:\", type(a))\n",
        "\n",
        "b = np.array([6, 7, 8])\n",
        "print(\"\\nArray b:\", b)\n",
        "print(\"Tipo de b:\", type(b))"
      ]
    },
    {
      "cell_type": "code",
      "source": [
        "#exemplo 2. Tipos de Dados\n",
        "\n",
        "import numpy as np\n",
        "\n",
        "a = np.array([2, 3, 4])\n",
        "print(\"Array a:\", a)\n",
        "print(\"Tipo de dados de a:\", a.dtype)\n",
        "\n",
        "b = np.array([1.2, 3.5, 5.1])\n",
        "print(\"Array b:\", b)\n",
        "print(\"Tipo de dados de b:\", b.dtype)\n"
      ],
      "metadata": {
        "colab": {
          "base_uri": "https://localhost:8080/"
        },
        "id": "taSLlT5yJpLu",
        "outputId": "631a87df-6606-4e12-b518-3b34d554129c"
      },
      "execution_count": null,
      "outputs": [
        {
          "output_type": "stream",
          "name": "stdout",
          "text": [
            "Array a: [2 3 4]\n",
            "Tipo de dados de a: int64\n",
            "Array b: [1.2 3.5 5.1]\n",
            "Tipo de dados de b: float64\n"
          ]
        }
      ]
    },
    {
      "cell_type": "code",
      "source": [
        "#exemplo 3. Criação de Arrays e Tipagem Explícita\n",
        "\n",
        "import numpy as np\n",
        "\n",
        "# a = np.array(1, 2, 3, 4)  # ERRADO\n",
        "\n",
        "# Exemplo correto\n",
        "a = np.array([1, 2, 3, 4])\n",
        "print(\"Array a:\", a)\n",
        "\n",
        "b = np.array([(1.5, 2, 3), (4, 5, 6)])\n",
        "print(\"\\nArray b:\\n\", b)\n",
        "\n",
        "c = np.array([[1, 2], [3, 4]], dtype=complex)\n",
        "print(\"\\nArray c (complexo):\\n\", c)\n"
      ],
      "metadata": {
        "colab": {
          "base_uri": "https://localhost:8080/"
        },
        "id": "3BSz7x-EJ1hC",
        "outputId": "58389ed2-4598-4b15-8ed2-5bc987015387"
      },
      "execution_count": null,
      "outputs": [
        {
          "output_type": "stream",
          "name": "stdout",
          "text": [
            "Array a: [1 2 3 4]\n",
            "\n",
            "Array b:\n",
            " [[1.5 2.  3. ]\n",
            " [4.  5.  6. ]]\n",
            "\n",
            "Array c (complexo):\n",
            " [[1.+0.j 2.+0.j]\n",
            " [3.+0.j 4.+0.j]]\n"
          ]
        }
      ]
    },
    {
      "cell_type": "code",
      "source": [
        "#exemplo 4. Criação de Arrays com Formas e Tipos Específicos\n",
        "\n",
        "import numpy as np\n",
        "from numpy import pi\n",
        "\n",
        "a = np.zeros((3, 4))\n",
        "print(\"zeros:\\n\", a)\n",
        "\n",
        "b = np.ones((2, 3, 4), dtype=np.int16)\n",
        "print(\"\\nones (int16):\\n\", b)\n",
        "\n",
        "c = np.empty((2, 3))\n",
        "print(\"\\nempty (valores aleatórios):\\n\", c)"
      ],
      "metadata": {
        "colab": {
          "base_uri": "https://localhost:8080/"
        },
        "id": "nMORnqNgJ3Rq",
        "outputId": "8e0c6a84-ed7d-43ed-890f-8e4664577e3f"
      },
      "execution_count": null,
      "outputs": [
        {
          "output_type": "stream",
          "name": "stdout",
          "text": [
            "zeros:\n",
            " [[0. 0. 0. 0.]\n",
            " [0. 0. 0. 0.]\n",
            " [0. 0. 0. 0.]]\n",
            "\n",
            "ones (int16):\n",
            " [[[1 1 1 1]\n",
            "  [1 1 1 1]\n",
            "  [1 1 1 1]]\n",
            "\n",
            " [[1 1 1 1]\n",
            "  [1 1 1 1]\n",
            "  [1 1 1 1]]]\n",
            "\n",
            "empty (valores aleatórios):\n",
            " [[1.5 2.  3. ]\n",
            " [4.  5.  6. ]]\n"
          ]
        }
      ]
    },
    {
      "cell_type": "code",
      "source": [
        "#exemplo 5.Impressão de Arrays: 1D, 2D e 3D\n",
        "\n",
        "# Sequência de 10 a 30 com passo 5\n",
        "seq1 = np.arange(10, 30, 5)\n",
        "print(\"\\narange(10, 30, 5):\", seq1)\n",
        "\n",
        "seq2 = np.arange(0, 2, 0.3)\n",
        "print(\"\\narange(0, 2, 0.3):\", seq2)\n",
        "\n",
        "lin = np.linspace(0, 2, 9)\n",
        "print(\"\\nlinspace(0, 2, 9):\", lin)\n",
        "\n",
        "x = np.linspace(0, 2 * pi, 100)\n",
        "f = np.sin(x)\n",
        "print(\"\\nPrimeiros 5 valores de sin(x):\", f[:5])\n"
      ],
      "metadata": {
        "colab": {
          "base_uri": "https://localhost:8080/"
        },
        "id": "I43-AXcIKVIa",
        "outputId": "91862b49-d337-4bc4-bf75-d7f32e473a03"
      },
      "execution_count": null,
      "outputs": [
        {
          "output_type": "stream",
          "name": "stdout",
          "text": [
            "\n",
            "arange(10, 30, 5): [10 15 20 25]\n",
            "\n",
            "arange(0, 2, 0.3): [0.  0.3 0.6 0.9 1.2 1.5 1.8]\n",
            "\n",
            "linspace(0, 2, 9): [0.   0.25 0.5  0.75 1.   1.25 1.5  1.75 2.  ]\n",
            "\n",
            "Primeiros 5 valores de sin(x): [0.         0.06342392 0.12659245 0.18925124 0.25114799]\n"
          ]
        }
      ]
    },
    {
      "cell_type": "code",
      "source": [
        "#exemplo 6. Impressão de Arrays Grandes (completa)\n",
        "\n",
        "# 1D\n",
        "a = np.arange(6)\n",
        "print(\"\\nArray 1D:\", a)\n",
        "\n",
        "# 2D\n",
        "b = np.arange(12).reshape(4, 3)\n",
        "print(\"\\nArray 2D:\\n\", b)\n",
        "\n",
        "# 3D\n",
        "c = np.arange(24).reshape(2, 3, 4)\n",
        "print(\"\\nArray 3D:\\n\", c)\n"
      ],
      "metadata": {
        "colab": {
          "base_uri": "https://localhost:8080/"
        },
        "id": "zXaawwCwLbL9",
        "outputId": "72824187-4342-4062-ab31-17bef80de720"
      },
      "execution_count": null,
      "outputs": [
        {
          "output_type": "stream",
          "name": "stdout",
          "text": [
            "\n",
            "Array 1D: [0 1 2 3 4 5]\n",
            "\n",
            "Array 2D:\n",
            " [[ 0  1  2]\n",
            " [ 3  4  5]\n",
            " [ 6  7  8]\n",
            " [ 9 10 11]]\n",
            "\n",
            "Array 3D:\n",
            " [[[ 0  1  2  3]\n",
            "  [ 4  5  6  7]\n",
            "  [ 8  9 10 11]]\n",
            "\n",
            " [[12 13 14 15]\n",
            "  [16 17 18 19]\n",
            "  [20 21 22 23]]]\n"
          ]
        }
      ]
    },
    {
      "cell_type": "code",
      "source": [
        "#exemplo 7\n",
        "\n",
        "import sys\n",
        "\n",
        "big = np.arange(10000).reshape(100, 100)\n",
        "print(\"\\nArray grande (forma reduzida):\\n\", big)\n",
        "\n",
        "np.set_printoptions(threshold=sys.maxsize)\n"
      ],
      "metadata": {
        "colab": {
          "base_uri": "https://localhost:8080/"
        },
        "id": "b7ppi-VULiyx",
        "outputId": "19cf0b98-fe4d-49af-bc3b-e1eac5c198d8"
      },
      "execution_count": null,
      "outputs": [
        {
          "output_type": "stream",
          "name": "stdout",
          "text": [
            "\n",
            "Array grande (forma reduzida):\n",
            " [[   0    1    2 ...   97   98   99]\n",
            " [ 100  101  102 ...  197  198  199]\n",
            " [ 200  201  202 ...  297  298  299]\n",
            " ...\n",
            " [9700 9701 9702 ... 9797 9798 9799]\n",
            " [9800 9801 9802 ... 9897 9898 9899]\n",
            " [9900 9901 9902 ... 9997 9998 9999]]\n"
          ]
        }
      ]
    },
    {
      "cell_type": "code",
      "source": [
        "#exemplo 8. Operações Aritméticas com Arrays\n",
        "\n",
        "import numpy as np\n",
        "\n",
        "a = np.array([20, 30, 40, 50])\n",
        "b = np.arange(4)\n",
        "print(\"a - b:\", a - b)\n",
        "print(\"b ** 2:\", b**2)\n",
        "print(\"10 * np.sin(a):\", 10 * np.sin(a))\n",
        "print(\"a < 35:\", a < 35)\n"
      ],
      "metadata": {
        "colab": {
          "base_uri": "https://localhost:8080/"
        },
        "id": "wIFBMZVxLpy5",
        "outputId": "f267e9aa-234f-4a3d-ef51-27632feacbe0"
      },
      "execution_count": null,
      "outputs": [
        {
          "output_type": "stream",
          "name": "stdout",
          "text": [
            "a - b: [20 29 38 47]\n",
            "b ** 2: [0 1 4 9]\n",
            "10 * np.sin(a): [ 9.12945251 -9.88031624  7.4511316  -2.62374854]\n",
            "a < 35: [ True  True False False]\n"
          ]
        }
      ]
    },
    {
      "cell_type": "code",
      "source": [
        "#exemplo 9. Produto de Matrizes vs Produto Elementwise\n",
        "\n",
        "A = np.array([[1, 1], [0, 1]])\n",
        "B = np.array([[2, 0], [3, 4]])\n",
        "\n",
        "print(\"Produto elementwise A * B:\\n\", A * B)\n",
        "print(\"Produto matricial A @ B:\\n\", A @ B)\n",
        "print(\"Produto com .dot():\\n\", A.dot(B))"
      ],
      "metadata": {
        "colab": {
          "base_uri": "https://localhost:8080/"
        },
        "id": "E9ZIU2TfMgtI",
        "outputId": "cf57b8f4-b4a1-4a46-f209-4d3b8e43adb7"
      },
      "execution_count": null,
      "outputs": [
        {
          "output_type": "stream",
          "name": "stdout",
          "text": [
            "Produto elementwise A * B:\n",
            " [[2 0]\n",
            " [0 4]]\n",
            "Produto matricial A @ B:\n",
            " [[5 4]\n",
            " [3 4]]\n",
            "Produto com .dot():\n",
            " [[5 4]\n",
            " [3 4]]\n"
          ]
        }
      ]
    },
    {
      "cell_type": "code",
      "source": [
        "#exemplo 10. Operações In-Place e Upcasting\n",
        "\n",
        "rg = np.random.default_rng(1)\n",
        "a = np.ones((2, 3), dtype=int)\n",
        "b = rg.random((2, 3))\n",
        "\n",
        "a *= 3\n",
        "print(\"a após *= 3:\\n\", a)\n",
        "\n",
        "b += a\n",
        "print(\"b após b += a:\\n\", b)\n",
        "\n"
      ],
      "metadata": {
        "colab": {
          "base_uri": "https://localhost:8080/"
        },
        "id": "CmracXisM2fj",
        "outputId": "21d22c4b-ae4c-4671-bf4f-a6aa44ffce02"
      },
      "execution_count": null,
      "outputs": [
        {
          "output_type": "stream",
          "name": "stdout",
          "text": [
            "a após *= 3:\n",
            " [[3 3 3]\n",
            " [3 3 3]]\n",
            "b após b += a:\n",
            " [[3.51182162 3.9504637  3.14415961]\n",
            " [3.94864945 3.31183145 3.42332645]]\n"
          ]
        }
      ]
    },
    {
      "cell_type": "code",
      "source": [
        "#exemplo 11. Upcasting e Operações com Tipos Diferentes\n",
        "\n",
        "from numpy import pi\n",
        "\n",
        "a = np.ones(3, dtype=np.int32)\n",
        "b = np.linspace(0, pi, 3)\n",
        "\n",
        "print(\"b.dtype:\", b.dtype.name)\n",
        "c = a + b\n",
        "print(\"c:\", c)\n",
        "print(\"c.dtype:\", c.dtype.name)\n",
        "\n",
        "d = np.exp(c * 1j)\n",
        "print(\"d (números complexos):\", d)\n",
        "print(\"d.dtype:\", d.dtype.name)\n"
      ],
      "metadata": {
        "colab": {
          "base_uri": "https://localhost:8080/"
        },
        "id": "m1NEDbXQNiyu",
        "outputId": "89f93961-f65c-4fd8-ad71-910e8e28726c"
      },
      "execution_count": null,
      "outputs": [
        {
          "output_type": "stream",
          "name": "stdout",
          "text": [
            "b.dtype: float64\n",
            "c: [1.         2.57079633 4.14159265]\n",
            "c.dtype: float64\n",
            "d (números complexos): [ 0.54030231+0.84147098j -0.84147098+0.54030231j -0.54030231-0.84147098j]\n",
            "d.dtype: complex128\n"
          ]
        }
      ]
    },
    {
      "cell_type": "code",
      "source": [
        "#exemplo 12. Operações Estatísticas com Arrays\n",
        "\n",
        "a = rg.random((2, 3))\n",
        "print(\"Array aleatório:\\n\", a)\n",
        "print(\"Soma:\", a.sum())\n",
        "print(\"Mínimo:\", a.min())\n",
        "print(\"Máximo:\", a.max())\n"
      ],
      "metadata": {
        "colab": {
          "base_uri": "https://localhost:8080/"
        },
        "id": "Su1TK1TnNy-r",
        "outputId": "b0180fa7-9454-4560-d8b5-ab29954fed83"
      },
      "execution_count": null,
      "outputs": [
        {
          "output_type": "stream",
          "name": "stdout",
          "text": [
            "Array aleatório:\n",
            " [[0.82770259 0.40919914 0.54959369]\n",
            " [0.02755911 0.75351311 0.53814331]]\n",
            "Soma: 3.1057109529998157\n",
            "Mínimo: 0.027559113243068367\n",
            "Máximo: 0.8277025938204418\n"
          ]
        }
      ]
    },
    {
      "cell_type": "code",
      "source": [
        "#exemplo 13.  Operações por Eixo\n",
        "\n",
        "b = np.arange(12).reshape(3, 4)\n",
        "print(\"Array b:\\n\", b)\n",
        "\n",
        "print(\"Soma por coluna (axis=0):\", b.sum(axis=0))\n",
        "print(\"Mínimo por linha (axis=1):\", b.min(axis=1))\n",
        "print(\"Soma cumulativa por linha:\", b.cumsum(axis=1))\n"
      ],
      "metadata": {
        "colab": {
          "base_uri": "https://localhost:8080/"
        },
        "id": "v_R-o0A1Oax3",
        "outputId": "6483386b-5769-4408-a4bd-6d01a57508d2"
      },
      "execution_count": null,
      "outputs": [
        {
          "output_type": "stream",
          "name": "stdout",
          "text": [
            "Array b:\n",
            " [[ 0  1  2  3]\n",
            " [ 4  5  6  7]\n",
            " [ 8  9 10 11]]\n",
            "Soma por coluna (axis=0): [12 15 18 21]\n",
            "Mínimo por linha (axis=1): [0 4 8]\n",
            "Soma cumulativa por linha: [[ 0  1  3  6]\n",
            " [ 4  9 15 22]\n",
            " [ 8 17 27 38]]\n"
          ]
        }
      ]
    },
    {
      "cell_type": "code",
      "source": [
        "#exemplo 14. Funções Universais\n",
        "\n",
        "B = np.arange(3)\n",
        "C = np.array([2., -1., 4.])\n",
        "\n",
        "print(\"exp(B):\", np.exp(B))\n",
        "print(\"sqrt(B):\", np.sqrt(B))\n",
        "print(\"add(B, C):\", np.add(B, C))\n"
      ],
      "metadata": {
        "colab": {
          "base_uri": "https://localhost:8080/"
        },
        "id": "BeMhkPUxPNy3",
        "outputId": "eeeac7af-f2a3-4229-a0cf-353d92bc3650"
      },
      "execution_count": null,
      "outputs": [
        {
          "output_type": "stream",
          "name": "stdout",
          "text": [
            "exp(B): [1.         2.71828183 7.3890561 ]\n",
            "sqrt(B): [0.         1.         1.41421356]\n",
            "add(B, C): [2. 0. 6.]\n"
          ]
        }
      ]
    },
    {
      "cell_type": "code",
      "source": [
        "#exemplo 15.Indexação, Fatiamento e Iteração\n",
        "\n",
        "a = np.arange(10) ** 3\n",
        "print(\"a:\", a)\n",
        "print(\"a[2]:\", a[2])\n",
        "print(\"a[2:5]:\", a[2:5])\n",
        "\n",
        "a[:6:2] = 1000\n",
        "print(\"a após atribuição:\", a)\n",
        "\n",
        "print(\"a[::-1] (reverso):\", a[::-1])\n",
        "\n",
        "# Iterando com raiz cúbica\n",
        "for i in a:\n",
        "    print(i ** (1/3.))"
      ],
      "metadata": {
        "colab": {
          "base_uri": "https://localhost:8080/"
        },
        "id": "bjZ9_eL_PNpr",
        "outputId": "7b2eee04-d563-4d8f-db5c-f51d848f6fa8"
      },
      "execution_count": null,
      "outputs": [
        {
          "output_type": "stream",
          "name": "stdout",
          "text": [
            "a: [  0   1   8  27  64 125 216 343 512 729]\n",
            "a[2]: 8\n",
            "a[2:5]: [ 8 27 64]\n",
            "a após atribuição: [1000    1 1000   27 1000  125  216  343  512  729]\n",
            "a[::-1] (reverso): [ 729  512  343  216  125 1000   27 1000    1 1000]\n",
            "9.999999999999998\n",
            "1.0\n",
            "9.999999999999998\n",
            "3.0\n",
            "9.999999999999998\n",
            "4.999999999999999\n",
            "5.999999999999999\n",
            "6.999999999999999\n",
            "7.999999999999999\n",
            "8.999999999999998\n"
          ]
        }
      ]
    },
    {
      "cell_type": "code",
      "source": [
        "#exemplo 16. Multidimensionais com 'fromfunction' e Indexação Avançada\n",
        "\n",
        "def f(x, y):\n",
        "    return 10 * x + y\n",
        "\n",
        "b = np.fromfunction(f, (5, 4), dtype=int)\n",
        "print(\"fromfunction:\\n\", b)\n",
        "\n",
        "print(\"Elemento [2, 3]:\", b[2, 3])\n",
        "print(\"Coluna 1:\", b[:, 1])\n",
        "print(\"Linhas 1 a 2:\\n\", b[1:3, :])\n",
        "print(\"Última linha:\", b[-1])"
      ],
      "metadata": {
        "colab": {
          "base_uri": "https://localhost:8080/"
        },
        "id": "s_-UO3uoPdLR",
        "outputId": "a127ee69-4011-437b-95c9-a03ef5972fe9"
      },
      "execution_count": null,
      "outputs": [
        {
          "output_type": "stream",
          "name": "stdout",
          "text": [
            "fromfunction:\n",
            " [[ 0  1  2  3]\n",
            " [10 11 12 13]\n",
            " [20 21 22 23]\n",
            " [30 31 32 33]\n",
            " [40 41 42 43]]\n",
            "Elemento [2, 3]: 23\n",
            "Coluna 1: [ 1 11 21 31 41]\n",
            "Linhas 1 a 2:\n",
            " [[10 11 12 13]\n",
            " [20 21 22 23]]\n",
            "Última linha: [40 41 42 43]\n"
          ]
        }
      ]
    },
    {
      "cell_type": "code",
      "source": [
        "#exemplo 17. Indexação com reticências\n",
        "\n",
        "c = np.array([\n",
        "    [[0, 1, 2], [10, 12, 13]],\n",
        "    [[100, 101, 102], [110, 112, 113]]\n",
        "])\n",
        "\n",
        "print(c[1, ...])\n",
        "print(c[..., 2])"
      ],
      "metadata": {
        "colab": {
          "base_uri": "https://localhost:8080/"
        },
        "id": "SF-igP0dPdDO",
        "outputId": "fc2785c7-c7d8-43d7-ee49-8ecb14a4ff0b"
      },
      "execution_count": null,
      "outputs": [
        {
          "output_type": "stream",
          "name": "stdout",
          "text": [
            "[[100 101 102]\n",
            " [110 112 113]]\n",
            "[[  2  13]\n",
            " [102 113]]\n"
          ]
        }
      ]
    },
    {
      "cell_type": "code",
      "source": [
        "#exemplo 18. Iteração em arrays multidimensionais\n",
        "\n",
        "for row in c:\n",
        "    print(row)  # Itera sobre o primeiro eixo (linhas)\n",
        "\n",
        "for element in c.flat:\n",
        "    print(element)  # Itera sobre todos os elementos"
      ],
      "metadata": {
        "colab": {
          "base_uri": "https://localhost:8080/"
        },
        "id": "XNrI8uhzPc89",
        "outputId": "d7a94bd2-6247-4d5f-c443-2695835f210e"
      },
      "execution_count": null,
      "outputs": [
        {
          "output_type": "stream",
          "name": "stdout",
          "text": [
            "[[ 0  1  2]\n",
            " [10 12 13]]\n",
            "[[100 101 102]\n",
            " [110 112 113]]\n",
            "0\n",
            "1\n",
            "2\n",
            "10\n",
            "12\n",
            "13\n",
            "100\n",
            "101\n",
            "102\n",
            "110\n",
            "112\n",
            "113\n"
          ]
        }
      ]
    },
    {
      "cell_type": "code",
      "source": [
        "#exemplo 19. Manipulação de Forma (Shape)\n",
        "\n",
        "a = np.floor(10 * np.random.default_rng().random((3, 4)))\n",
        "\n",
        "print(a.shape)\n",
        "print(a.ravel())\n",
        "print(a.reshape(6, 2))\n",
        "print(a.T)\n",
        "a.resize((2, 6))\n",
        "print(a.reshape(3, -1))"
      ],
      "metadata": {
        "colab": {
          "base_uri": "https://localhost:8080/"
        },
        "id": "ZbUoGSiMP7qF",
        "outputId": "5abbce51-e2bb-4641-d33a-c27afc5b1755"
      },
      "execution_count": null,
      "outputs": [
        {
          "output_type": "stream",
          "name": "stdout",
          "text": [
            "(3, 4)\n",
            "[9. 5. 4. 9. 3. 5. 4. 8. 1. 7. 9. 7.]\n",
            "[[9. 5.]\n",
            " [4. 9.]\n",
            " [3. 5.]\n",
            " [4. 8.]\n",
            " [1. 7.]\n",
            " [9. 7.]]\n",
            "[[9. 3. 1.]\n",
            " [5. 5. 7.]\n",
            " [4. 4. 9.]\n",
            " [9. 8. 7.]]\n",
            "[[9. 5. 4. 9.]\n",
            " [3. 5. 4. 8.]\n",
            " [1. 7. 9. 7.]]\n"
          ]
        }
      ]
    },
    {
      "cell_type": "code",
      "source": [
        "#exemplo 20.  Empilhamento de arrays\n",
        "\n",
        "a = np.floor(10 * np.random.random((2, 2)))\n",
        "b = np.floor(10 * np.random.random((2, 2)))\n",
        "\n",
        "print(np.vstack((a, b)))  # Empilha verticalmente\n",
        "print(np.hstack((a, b)))  # Empilha horizontalmente\n",
        "\n",
        "a1 = np.array([4., 2.])\n",
        "b1 = np.array([3., 8.])\n",
        "print(np.column_stack((a1, b1)))\n",
        "print(np.hstack((a1, b1)))\n",
        "\n",
        "from numpy import newaxis\n",
        "print(np.column_stack((a1[:, newaxis], b1[:, newaxis])))"
      ],
      "metadata": {
        "id": "AiPB2p9tP7lC"
      },
      "execution_count": null,
      "outputs": []
    },
    {
      "cell_type": "code",
      "source": [
        "#exemplo 21. Dividindo arrays\n",
        "\n",
        "a = np.floor(10 * np.random.random((2, 12)))\n",
        "\n",
        "print(np.hsplit(a, 3))         # Divide em 3 partes iguais\n",
        "print(np.hsplit(a, (3, 4)))    # Divide após as colunas 3 e 4"
      ],
      "metadata": {
        "colab": {
          "base_uri": "https://localhost:8080/"
        },
        "id": "p16Wc3N9P7fc",
        "outputId": "04cac0ab-069e-4b21-86ac-0e65cf636ae6"
      },
      "execution_count": null,
      "outputs": [
        {
          "output_type": "stream",
          "name": "stdout",
          "text": [
            "[array([[6., 3., 9., 8.],\n",
            "       [7., 0., 5., 8.]]), array([[2., 0., 2., 5.],\n",
            "       [3., 8., 5., 9.]]), array([[4., 7., 1., 4.],\n",
            "       [7., 4., 2., 2.]])]\n",
            "[array([[6., 3., 9.],\n",
            "       [7., 0., 5.]]), array([[8.],\n",
            "       [8.]]), array([[2., 0., 2., 5., 4., 7., 1., 4.],\n",
            "       [3., 8., 5., 9., 7., 4., 2., 2.]])]\n"
          ]
        }
      ]
    },
    {
      "cell_type": "markdown",
      "source": [
        "Copias e visões"
      ],
      "metadata": {
        "id": "1dZz7HcgQ8XE"
      }
    },
    {
      "cell_type": "code",
      "source": [
        "#exemplo 22. Sem cópia (atribuição direta)\n",
        "\n",
        "a = np.arange(12).reshape(3, 4)\n",
        "b = a\n",
        "print(b is a)  # True"
      ],
      "metadata": {
        "colab": {
          "base_uri": "https://localhost:8080/"
        },
        "id": "8YRDmMrEP7ZY",
        "outputId": "d997eb4c-ac9b-4f42-9a7b-5705361c88c2"
      },
      "execution_count": null,
      "outputs": [
        {
          "output_type": "stream",
          "name": "stdout",
          "text": [
            "True\n"
          ]
        }
      ]
    },
    {
      "cell_type": "code",
      "source": [
        "#exemplo 23. Visão\n",
        "c = a.view()\n",
        "c[0, 1] = 1234\n",
        "print(a)  # Muda também o original\n"
      ],
      "metadata": {
        "colab": {
          "base_uri": "https://localhost:8080/"
        },
        "id": "gbdHantcP7T1",
        "outputId": "8c6319c6-6e80-4097-f7f1-c01792bc2952"
      },
      "execution_count": null,
      "outputs": [
        {
          "output_type": "stream",
          "name": "stdout",
          "text": [
            "[[   0 1234    2    3]\n",
            " [   4    5    6    7]\n",
            " [   8    9   10   11]]\n"
          ]
        }
      ]
    },
    {
      "cell_type": "code",
      "source": [
        "#exemplo 24. Copia profunda\n",
        "d = a.copy()\n",
        "d[0, 0] = 9999\n",
        "print(a)  # Não muda\n"
      ],
      "metadata": {
        "colab": {
          "base_uri": "https://localhost:8080/"
        },
        "id": "W_5NoZMQP7N_",
        "outputId": "da1903b0-6427-41d6-af84-93f0ab0ddf55"
      },
      "execution_count": null,
      "outputs": [
        {
          "output_type": "stream",
          "name": "stdout",
          "text": [
            "[[   0 1234    2    3]\n",
            " [   4    5    6    7]\n",
            " [   8    9   10   11]]\n"
          ]
        }
      ]
    }
  ]
}