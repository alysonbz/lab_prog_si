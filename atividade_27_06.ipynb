{
  "nbformat": 4,
  "nbformat_minor": 0,
  "metadata": {
    "colab": {
      "provenance": [],
      "authorship_tag": "ABX9TyNFAvXL0z2OjytQvhdXiTiW",
      "include_colab_link": true
    },
    "kernelspec": {
      "name": "python3",
      "display_name": "Python 3"
    },
    "language_info": {
      "name": "python"
    }
  },
  "cells": [
    {
      "cell_type": "markdown",
      "metadata": {
        "id": "view-in-github",
        "colab_type": "text"
      },
      "source": [
        "<a href=\"https://colab.research.google.com/github/alysonbz/lab_prog_si/blob/Francisco_Gomes/atividade_27_06.ipynb\" target=\"_parent\"><img src=\"https://colab.research.google.com/assets/colab-badge.svg\" alt=\"Open In Colab\"/></a>"
      ]
    },
    {
      "cell_type": "code",
      "execution_count": null,
      "metadata": {
        "colab": {
          "base_uri": "https://localhost:8080/"
        },
        "id": "iXslPIA1NQQR",
        "outputId": "1d64b289-66e8-4f5c-eca9-a77a333dc8f1"
      },
      "outputs": [
        {
          "output_type": "execute_result",
          "data": {
            "text/plain": [
              "2.77"
            ]
          },
          "metadata": {},
          "execution_count": 1
        }
      ],
      "source": [
        "#criando um dicionário\n",
        "pop = [30.55, 2.77, 39.21]\n",
        "países = ['afghanistan', 'albania', 'algeria']\n",
        "\n",
        "world = {\"afghanistan\": 30.55, 'albania': 2.77, \"algeria\": 39.21}\n",
        "world[\"albania\"]"
      ]
    },
    {
      "cell_type": "code",
      "source": [
        "#adicionando elementos no dicionário\n",
        "world['sealand'] = 0.000027\n",
        "world"
      ],
      "metadata": {
        "colab": {
          "base_uri": "https://localhost:8080/"
        },
        "id": "GxLjT5w3OLgr",
        "outputId": "424898d2-c415-4ba6-e944-6b081aef3424"
      },
      "execution_count": null,
      "outputs": [
        {
          "output_type": "execute_result",
          "data": {
            "text/plain": [
              "{'afghanistan': 30.55, 'albania': 2.77, 'algeria': 39.21, 'sealand': 2.7e-05}"
            ]
          },
          "metadata": {},
          "execution_count": 2
        }
      ]
    },
    {
      "cell_type": "code",
      "source": [
        "#saber se está incluso no dicionário\n",
        "'sealand' in world"
      ],
      "metadata": {
        "colab": {
          "base_uri": "https://localhost:8080/"
        },
        "id": "gDz_KblwQGQe",
        "outputId": "198f8b52-a16c-4970-a8d5-e2f10faa31b5"
      },
      "execution_count": null,
      "outputs": [
        {
          "output_type": "execute_result",
          "data": {
            "text/plain": [
              "True"
            ]
          },
          "metadata": {},
          "execution_count": 3
        }
      ]
    },
    {
      "cell_type": "code",
      "source": [
        "#deletando um elemento\n",
        "world = {\"afghanistan\": 30.55, 'albania': 2.77, \"algeria\": 39.21, \"sealand\": 40.32}\n",
        "del(world[\"sealand\"])\n",
        "world"
      ],
      "metadata": {
        "colab": {
          "base_uri": "https://localhost:8080/"
        },
        "id": "LDEloHJTwR0G",
        "outputId": "f1b20392-0c65-44fc-f247-867a44fdd6f2"
      },
      "execution_count": 26,
      "outputs": [
        {
          "output_type": "execute_result",
          "data": {
            "text/plain": [
              "{'afghanistan': 30.55, 'albania': 2.77, 'algeria': 39.21}"
            ]
          },
          "metadata": {},
          "execution_count": 26
        }
      ]
    },
    {
      "cell_type": "code",
      "source": [
        "europe = {\"espanha\":\"madri\",\n",
        "          \"frança\":\"paris\",\n",
        "          \"germany\":\"berlin\",\n",
        "          \"norway\":\"oslo\"}\n",
        "\n",
        "print(europe)\n",
        "\n",
        "europe[\"italy\"] = \"rome\"\n",
        "europe[\"poland\"] = \"warsaw\"\n",
        "print(europe)\n",
        "\n",
        "print('italy' in europe)\n",
        "print(\"poland\" in europe)\n"
      ],
      "metadata": {
        "id": "QeYEG12TpDTi",
        "colab": {
          "base_uri": "https://localhost:8080/"
        },
        "outputId": "186e1d3d-20c2-4ad0-e768-c1ad04a1e882"
      },
      "execution_count": 13,
      "outputs": [
        {
          "output_type": "stream",
          "name": "stdout",
          "text": [
            "{'espanha': 'madri', 'frança': 'paris', 'germany': 'berlin', 'norway': 'oslo'}\n",
            "{'espanha': 'madri', 'frança': 'paris', 'germany': 'berlin', 'norway': 'oslo', 'italy': 'rome', 'poland': 'warsaw'}\n",
            "True\n",
            "True\n"
          ]
        }
      ]
    },
    {
      "cell_type": "code",
      "source": [
        "#definição do dicionário\n",
        "europe = {\"spain\": \"madrid\",\n",
        "          \"france\": \"paris\",\n",
        "          \"germany\": \"bonn\",\n",
        "          \"norway\": \"oslo\",\n",
        "          \"italy\": \"rome\",\n",
        "          \"poland\": \"warsaw\",\n",
        "          \"australia\" : \"vienna\"}\n",
        "\n",
        "europe[\"germany\"] = \"berlim\"\n",
        "print(europe)\n",
        "\n"
      ],
      "metadata": {
        "colab": {
          "base_uri": "https://localhost:8080/"
        },
        "id": "0J1OLzznuMJ8",
        "outputId": "11b534b9-af46-4c16-c1e6-3afb30625f18"
      },
      "execution_count": 17,
      "outputs": [
        {
          "output_type": "stream",
          "name": "stdout",
          "text": [
            "{'spain': 'madrid', 'france': 'paris', 'germany': 'berlim', 'norway': 'oslo', 'italy': 'rome', 'poland': 'warsaw', 'australia': 'vienna'}\n"
          ]
        }
      ]
    },
    {
      "cell_type": "code",
      "source": [
        "#deletando o elemento \"austrália\"\n",
        "del(europe[\"australia\"])\n",
        "print(europe)"
      ],
      "metadata": {
        "colab": {
          "base_uri": "https://localhost:8080/"
        },
        "id": "XC5YfnM6vm_A",
        "outputId": "6360684f-e094-48e2-b14b-5ced193d3e28"
      },
      "execution_count": 19,
      "outputs": [
        {
          "output_type": "stream",
          "name": "stdout",
          "text": [
            "{'spain': 'madrid', 'france': 'paris', 'germany': 'berlim', 'norway': 'oslo', 'italy': 'rome', 'poland': 'warsaw'}\n"
          ]
        }
      ]
    }
  ]
}