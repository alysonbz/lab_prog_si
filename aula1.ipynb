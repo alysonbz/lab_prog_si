{
  "nbformat": 4,
  "nbformat_minor": 0,
  "metadata": {
    "colab": {
      "provenance": [],
      "mount_file_id": "1OHYEkOuWm3wDshLtcTfG01vG7X-wZCHG",
      "authorship_tag": "ABX9TyORTgggn1dUPLD64pYpzV1Z",
      "include_colab_link": true
    },
    "kernelspec": {
      "name": "python3",
      "display_name": "Python 3"
    },
    "language_info": {
      "name": "python"
    }
  },
  "cells": [
    {
      "cell_type": "markdown",
      "metadata": {
        "id": "view-in-github",
        "colab_type": "text"
      },
      "source": [
        "<a href=\"https://colab.research.google.com/github/alysonbz/lab_prog_si/blob/Kemilly_Mota/aula1.ipynb\" target=\"_parent\"><img src=\"https://colab.research.google.com/assets/colab-badge.svg\" alt=\"Open In Colab\"/></a>"
      ]
    },
    {
      "cell_type": "markdown",
      "source": [
        "Primeira aula de lab de programação"
      ],
      "metadata": {
        "id": "xKKt86uS7xlx"
      }
    },
    {
      "cell_type": "markdown",
      "source": [
        "índice de massa do corpo"
      ],
      "metadata": {
        "id": "4GXLIM2rB8nO"
      }
    },
    {
      "cell_type": "code",
      "execution_count": null,
      "metadata": {
        "id": "1GbuRD7Q7tHa"
      },
      "outputs": [],
      "source": [
        "altura = 1.65\n",
        "peso = 65.4\n",
        "nome = 'kemilly'\n",
        "aluno = True\n",
        "professor = False\n"
      ]
    },
    {
      "cell_type": "code",
      "source": [
        "imc = peso / altura **2"
      ],
      "metadata": {
        "id": "PfmLhy4zAwWG"
      },
      "execution_count": null,
      "outputs": []
    },
    {
      "cell_type": "code",
      "source": [
        "imc"
      ],
      "metadata": {
        "colab": {
          "base_uri": "https://localhost:8080/"
        },
        "id": "9Qh8mzSQCxFe",
        "outputId": "284de30c-a900-4884-a442-73efdba1def4"
      },
      "execution_count": null,
      "outputs": [
        {
          "output_type": "execute_result",
          "data": {
            "text/plain": [
              "24.02203856749312"
            ]
          },
          "metadata": {},
          "execution_count": 10
        }
      ]
    },
    {
      "cell_type": "code",
      "source": [
        "65.4 / 1.65 **2"
      ],
      "metadata": {
        "colab": {
          "base_uri": "https://localhost:8080/"
        },
        "id": "oiTVI_DlBzPm",
        "outputId": "bafa521f-2712-4a36-bd98-0aa9b1827706"
      },
      "execution_count": null,
      "outputs": [
        {
          "output_type": "execute_result",
          "data": {
            "text/plain": [
              "24.02203856749312"
            ]
          },
          "metadata": {},
          "execution_count": 7
        }
      ]
    },
    {
      "cell_type": "code",
      "source": [
        "type (altura)"
      ],
      "metadata": {
        "colab": {
          "base_uri": "https://localhost:8080/"
        },
        "id": "T6FfMDatDA9G",
        "outputId": "33b2dfbe-68b3-44e0-8518-8b2f37b0a8c4"
      },
      "execution_count": null,
      "outputs": [
        {
          "output_type": "execute_result",
          "data": {
            "text/plain": [
              "float"
            ]
          },
          "metadata": {},
          "execution_count": 11
        }
      ]
    },
    {
      "cell_type": "code",
      "source": [
        "type (peso)"
      ],
      "metadata": {
        "colab": {
          "base_uri": "https://localhost:8080/"
        },
        "id": "jIU5CRB8DRkP",
        "outputId": "a8a74bec-a2f9-4e17-e268-41cfafceb72e"
      },
      "execution_count": null,
      "outputs": [
        {
          "output_type": "execute_result",
          "data": {
            "text/plain": [
              "float"
            ]
          },
          "metadata": {},
          "execution_count": 12
        }
      ]
    },
    {
      "cell_type": "code",
      "source": [
        "type (nome)"
      ],
      "metadata": {
        "colab": {
          "base_uri": "https://localhost:8080/"
        },
        "id": "A9SywLQJEJWm",
        "outputId": "091fc068-ac6c-4675-c57c-bd21033a1d8a"
      },
      "execution_count": null,
      "outputs": [
        {
          "output_type": "execute_result",
          "data": {
            "text/plain": [
              "str"
            ]
          },
          "metadata": {},
          "execution_count": 21
        }
      ]
    },
    {
      "cell_type": "code",
      "source": [
        "type (aluno)"
      ],
      "metadata": {
        "colab": {
          "base_uri": "https://localhost:8080/"
        },
        "id": "U_XT1HgzEeUP",
        "outputId": "5fdf744a-ce4c-4898-8c33-240afff03474"
      },
      "execution_count": null,
      "outputs": [
        {
          "output_type": "execute_result",
          "data": {
            "text/plain": [
              "bool"
            ]
          },
          "metadata": {},
          "execution_count": 23
        }
      ]
    },
    {
      "cell_type": "code",
      "source": [
        "type(professor)"
      ],
      "metadata": {
        "colab": {
          "base_uri": "https://localhost:8080/"
        },
        "id": "J_mLL9S4EibG",
        "outputId": "bf7a7cec-7101-467a-ad01-a884cd153bd4"
      },
      "execution_count": null,
      "outputs": [
        {
          "output_type": "execute_result",
          "data": {
            "text/plain": [
              "bool"
            ]
          },
          "metadata": {},
          "execution_count": 24
        }
      ]
    },
    {
      "cell_type": "code",
      "source": [
        "2 + 4"
      ],
      "metadata": {
        "colab": {
          "base_uri": "https://localhost:8080/"
        },
        "id": "DLzyhZJyGUqX",
        "outputId": "fe508cb0-6fbb-412f-b1b6-2030e6c677ab"
      },
      "execution_count": null,
      "outputs": [
        {
          "output_type": "execute_result",
          "data": {
            "text/plain": [
              "6"
            ]
          },
          "metadata": {},
          "execution_count": 27
        }
      ]
    },
    {
      "cell_type": "code",
      "source": [
        "'ab'+'cd'\n",
        "type ('ab'+'cd')\n"
      ],
      "metadata": {
        "colab": {
          "base_uri": "https://localhost:8080/"
        },
        "id": "TbyvT0SsGWYe",
        "outputId": "572d36bd-2b2d-4cc9-cf36-6358f3546f98"
      },
      "execution_count": null,
      "outputs": [
        {
          "output_type": "execute_result",
          "data": {
            "text/plain": [
              "str"
            ]
          },
          "metadata": {},
          "execution_count": 38
        }
      ]
    },
    {
      "cell_type": "code",
      "source": [
        "#example\n",
        "print (5/8)"
      ],
      "metadata": {
        "colab": {
          "base_uri": "https://localhost:8080/"
        },
        "id": "v9RhfIBAKUQP",
        "outputId": "cf49dba6-3fc4-4870-db92-89fd58aae64f"
      },
      "execution_count": null,
      "outputs": [
        {
          "output_type": "stream",
          "name": "stdout",
          "text": [
            "0.625\n"
          ]
        }
      ]
    },
    {
      "cell_type": "code",
      "source": [
        "#questão 2 - somar 7 + 8\n",
        "7 + 8"
      ],
      "metadata": {
        "colab": {
          "base_uri": "https://localhost:8080/"
        },
        "id": "SjV_ce7CIPWn",
        "outputId": "d44636da-73eb-4e4f-c810-1a952c371942"
      },
      "execution_count": null,
      "outputs": [
        {
          "output_type": "execute_result",
          "data": {
            "text/plain": [
              "15"
            ]
          },
          "metadata": {},
          "execution_count": 41
        }
      ]
    },
    {
      "cell_type": "code",
      "source": [
        "# potência  **\n",
        "# % ver o resto da divisão"
      ],
      "metadata": {
        "id": "-NsiBv7LKK-v"
      },
      "execution_count": null,
      "outputs": []
    },
    {
      "cell_type": "code",
      "source": [
        "# q_3 soma e subtração\n",
        "print (5 + 3)\n",
        "print (5 - 3)"
      ],
      "metadata": {
        "colab": {
          "base_uri": "https://localhost:8080/"
        },
        "id": "A7-u4DqsKnpf",
        "outputId": "422d18ef-ea69-4f64-ebec-47622ac84c1a"
      },
      "execution_count": null,
      "outputs": [
        {
          "output_type": "stream",
          "name": "stdout",
          "text": [
            "8\n",
            "2\n"
          ]
        }
      ]
    },
    {
      "cell_type": "code",
      "source": [
        "#q_4 potenciação, divisão e multiplicação\n",
        "print ( 5 ** 3)\n",
        "print ( 5 / 3)\n",
        "print ( 5 % 3)\n"
      ],
      "metadata": {
        "colab": {
          "base_uri": "https://localhost:8080/"
        },
        "id": "rm1mZTngK4CH",
        "outputId": "941009ba-c00c-47be-c1f2-719ae6809c00"
      },
      "execution_count": null,
      "outputs": [
        {
          "output_type": "stream",
          "name": "stdout",
          "text": [
            "125\n",
            "1.6666666666666667\n",
            "2\n"
          ]
        }
      ]
    },
    {
      "cell_type": "code",
      "source": [
        "#q_5 rendimento j = s.i.n\n",
        "print (100 * 1.1 * 7)\n",
        "print (\"o rendimento é\", 100 * 1.1 * 7)\n"
      ],
      "metadata": {
        "colab": {
          "base_uri": "https://localhost:8080/"
        },
        "id": "wlHYzWIXLK6X",
        "outputId": "92fcf115-76c9-4193-ba59-c8c48afb6acd"
      },
      "execution_count": null,
      "outputs": [
        {
          "output_type": "stream",
          "name": "stdout",
          "text": [
            "770.0000000000001\n",
            "o rendimento é 770.0000000000001\n"
          ]
        }
      ]
    },
    {
      "cell_type": "code",
      "source": [
        "#q_6\n",
        "saving = 100\n",
        "growth_multiplier = 1.1\n",
        "desc = \"compound interest\"\n",
        "year1 = saving * growth_multiplier\n",
        "print (type(year1))\n",
        "doubledesc = desc + desc\n",
        "print (doubledesc)\n"
      ],
      "metadata": {
        "id": "AiAH_1BBs_FR",
        "colab": {
          "base_uri": "https://localhost:8080/"
        },
        "outputId": "f1d30c0c-ac73-4659-f0bc-fc94b6eb78ad"
      },
      "execution_count": null,
      "outputs": [
        {
          "output_type": "stream",
          "name": "stdout",
          "text": [
            "<class 'float'>\n",
            "doubledesc\n"
          ]
        }
      ]
    },
    {
      "cell_type": "markdown",
      "source": [],
      "metadata": {
        "id": "RaXpwvxItqm8"
      }
    },
    {
      "cell_type": "code",
      "source": [
        "#q_7\n",
        "pi_float='3.1415926'\n",
        "pi_float=float(pi_float)\n",
        "type (pi_float)"
      ],
      "metadata": {
        "colab": {
          "base_uri": "https://localhost:8080/"
        },
        "id": "JcxkkvN-gmCT",
        "outputId": "3238f524-640e-41bc-cd4a-43b1844964a0"
      },
      "execution_count": null,
      "outputs": [
        {
          "output_type": "execute_result",
          "data": {
            "text/plain": [
              "float"
            ]
          },
          "metadata": {},
          "execution_count": 7
        }
      ]
    },
    {
      "cell_type": "code",
      "source": [
        "#q_8\n",
        "poupança = 100\n",
        "resultado = poupança * 1.1 ** 7\n",
        "print (\"eu comecei com $\", poupança, \"e agora tenho\", resultado, \"reais\")"
      ],
      "metadata": {
        "colab": {
          "base_uri": "https://localhost:8080/"
        },
        "id": "Q71tLaRSkRfe",
        "outputId": "2eb4ea10-adcc-4caf-d07f-ac535bf3ba99"
      },
      "execution_count": null,
      "outputs": [
        {
          "output_type": "stream",
          "name": "stdout",
          "text": [
            "eu comecei com $ 100 e agora tenho 194.87171000000012 reais\n"
          ]
        }
      ]
    },
    {
      "cell_type": "code",
      "source": [
        "#q_9\n",
        "poupança = '100'\n",
        "resultado = 100 * 1.1 ** 7\n",
        "print (f\"eu comecei com $\", poupança, \"e agora tenho\", resultado,\"reais\")"
      ],
      "metadata": {
        "colab": {
          "base_uri": "https://localhost:8080/"
        },
        "id": "yjIz2Q69lRVy",
        "outputId": "b2ce8e01-c895-4a13-9100-b810f807e76c"
      },
      "execution_count": null,
      "outputs": [
        {
          "output_type": "stream",
          "name": "stdout",
          "text": [
            "eu comecei com $ 100 e agora tenho 194.87171000000012 reais\n"
          ]
        }
      ]
    },
    {
      "cell_type": "code",
      "source": [
        "#q_10\n",
        "print (true + false) #não roda porque em todo print precisa de aspas"
      ],
      "metadata": {
        "colab": {
          "base_uri": "https://localhost:8080/",
          "height": 164
        },
        "id": "O9eVsESwnTeq",
        "outputId": "387d4f87-4e5a-4805-fbf7-12d94e5f99cb"
      },
      "execution_count": null,
      "outputs": [
        {
          "output_type": "error",
          "ename": "NameError",
          "evalue": "name 'true' is not defined",
          "traceback": [
            "\u001b[0;31m---------------------------------------------------------------------------\u001b[0m",
            "\u001b[0;31mNameError\u001b[0m                                 Traceback (most recent call last)",
            "\u001b[0;32m<ipython-input-24-c960870d9726>\u001b[0m in \u001b[0;36m<cell line: 0>\u001b[0;34m()\u001b[0m\n\u001b[1;32m      1\u001b[0m \u001b[0;31m#q_10\u001b[0m\u001b[0;34m\u001b[0m\u001b[0;34m\u001b[0m\u001b[0m\n\u001b[0;32m----> 2\u001b[0;31m \u001b[0mprint\u001b[0m \u001b[0;34m(\u001b[0m\u001b[0mtrue\u001b[0m \u001b[0;34m+\u001b[0m \u001b[0mfalse\u001b[0m\u001b[0;34m)\u001b[0m \u001b[0;31m#não roda porque em todo print precisa de aspas\u001b[0m\u001b[0;34m\u001b[0m\u001b[0;34m\u001b[0m\u001b[0m\n\u001b[0m",
            "\u001b[0;31mNameError\u001b[0m: name 'true' is not defined"
          ]
        }
      ]
    }
  ]
}