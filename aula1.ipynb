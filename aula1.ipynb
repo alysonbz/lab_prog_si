{
  "nbformat": 4,
  "nbformat_minor": 0,
  "metadata": {
    "colab": {
      "provenance": [],
      "authorship_tag": "ABX9TyM1yIL7FvPdAUYdiKPqFH2y",
      "include_colab_link": true
    },
    "kernelspec": {
      "name": "python3",
      "display_name": "Python 3"
    },
    "language_info": {
      "name": "python"
    }
  },
  "cells": [
    {
      "cell_type": "markdown",
      "metadata": {
        "id": "view-in-github",
        "colab_type": "text"
      },
      "source": [
        "<a href=\"https://colab.research.google.com/github/alysonbz/lab_prog_si/blob/habacuquidoglas/aula1.ipynb\" target=\"_parent\"><img src=\"https://colab.research.google.com/assets/colab-badge.svg\" alt=\"Open In Colab\"/></a>"
      ]
    },
    {
      "cell_type": "markdown",
      "source": [
        "esse é meu primeiro codigo"
      ],
      "metadata": {
        "id": "_SvJ5WLp8CGl"
      }
    },
    {
      "cell_type": "code",
      "source": [
        "altura = 1.80\n",
        "peso = 99.00\n",
        "peso/altura**2\n",
        "nome = 'Habacuqui'\n",
        "aluno = True\n",
        "professor = False\n",
        "print(nome)"
      ],
      "metadata": {
        "colab": {
          "base_uri": "https://localhost:8080/"
        },
        "id": "nuUlPH3Y8Zv8",
        "outputId": "e0b177cd-c133-4f74-9ad2-b97b7b5a2690"
      },
      "execution_count": null,
      "outputs": [
        {
          "output_type": "stream",
          "name": "stdout",
          "text": [
            "Habacuqui\n"
          ]
        }
      ]
    },
    {
      "cell_type": "code",
      "source": [
        "type(altura)"
      ],
      "metadata": {
        "colab": {
          "base_uri": "https://localhost:8080/"
        },
        "id": "nXbGWXwdDcf0",
        "outputId": "875ae00e-6bab-4260-9059-58945d03e211"
      },
      "execution_count": null,
      "outputs": [
        {
          "output_type": "execute_result",
          "data": {
            "text/plain": [
              "float"
            ]
          },
          "metadata": {},
          "execution_count": 8
        }
      ]
    },
    {
      "cell_type": "code",
      "source": [
        "type(peso)"
      ],
      "metadata": {
        "colab": {
          "base_uri": "https://localhost:8080/"
        },
        "id": "6hUccvOTEA0G",
        "outputId": "ae8518af-b97a-4576-91a7-dffac31fbf30"
      },
      "execution_count": null,
      "outputs": [
        {
          "output_type": "execute_result",
          "data": {
            "text/plain": [
              "float"
            ]
          },
          "metadata": {},
          "execution_count": 9
        }
      ]
    },
    {
      "cell_type": "code",
      "source": [
        "type('Habacuqui')"
      ],
      "metadata": {
        "colab": {
          "base_uri": "https://localhost:8080/"
        },
        "id": "ehEq3yEaERfO",
        "outputId": "6f5687c3-6988-42bd-d0d5-5ee304624bd7"
      },
      "execution_count": null,
      "outputs": [
        {
          "output_type": "execute_result",
          "data": {
            "text/plain": [
              "str"
            ]
          },
          "metadata": {},
          "execution_count": 12
        }
      ]
    },
    {
      "cell_type": "code",
      "source": [
        "type(True)"
      ],
      "metadata": {
        "colab": {
          "base_uri": "https://localhost:8080/"
        },
        "id": "L9IS-TxgEoEC",
        "outputId": "f0565f20-8a76-4e8a-956d-094f27fe5368"
      },
      "execution_count": null,
      "outputs": [
        {
          "output_type": "execute_result",
          "data": {
            "text/plain": [
              "bool"
            ]
          },
          "metadata": {},
          "execution_count": 15
        }
      ]
    },
    {
      "cell_type": "code",
      "source": [
        "type(False)"
      ],
      "metadata": {
        "colab": {
          "base_uri": "https://localhost:8080/"
        },
        "id": "f1AGXu6TFlOX",
        "outputId": "ee0515b2-df4f-46ed-a5f0-c762d69fe98e"
      },
      "execution_count": null,
      "outputs": [
        {
          "output_type": "execute_result",
          "data": {
            "text/plain": [
              "bool"
            ]
          },
          "metadata": {},
          "execution_count": 18
        }
      ]
    },
    {
      "cell_type": "code",
      "source": [
        "'ab'+ 'cd'"
      ],
      "metadata": {
        "colab": {
          "base_uri": "https://localhost:8080/",
          "height": 35
        },
        "id": "BmMYMR-nGVgc",
        "outputId": "4beba585-027a-4a78-f52f-fb3d0065e1f4"
      },
      "execution_count": null,
      "outputs": [
        {
          "output_type": "execute_result",
          "data": {
            "text/plain": [
              "'abcd'"
            ],
            "application/vnd.google.colaboratory.intrinsic+json": {
              "type": "string"
            }
          },
          "metadata": {},
          "execution_count": 28
        }
      ]
    },
    {
      "cell_type": "code",
      "source": [
        "5+9"
      ],
      "metadata": {
        "colab": {
          "base_uri": "https://localhost:8080/"
        },
        "id": "nOHWCf_CIEp4",
        "outputId": "615f947c-7710-46cd-fb5d-1fec20d03017"
      },
      "execution_count": null,
      "outputs": [
        {
          "output_type": "execute_result",
          "data": {
            "text/plain": [
              "14"
            ]
          },
          "metadata": {},
          "execution_count": 29
        }
      ]
    },
    {
      "cell_type": "code",
      "source": [
        "#exemple 1\n",
        "print(7+8)\n",
        "#exemple 2\n",
        "print(9**2/6)\n"
      ],
      "metadata": {
        "colab": {
          "base_uri": "https://localhost:8080/"
        },
        "id": "smu-q6bfIQCu",
        "outputId": "ea119f6b-20dd-4a34-f32d-01fd73297dc3"
      },
      "execution_count": null,
      "outputs": [
        {
          "output_type": "stream",
          "name": "stdout",
          "text": [
            "15\n",
            "13.5\n"
          ]
        }
      ]
    },
    {
      "cell_type": "code",
      "source": [
        "# questão 3\n",
        "print(5+3)\n",
        "print(5-3)"
      ],
      "metadata": {
        "colab": {
          "base_uri": "https://localhost:8080/"
        },
        "id": "Q0vRQMrdJgQH",
        "outputId": "d85862dc-c0a6-4cdc-e3a6-3ae0419be3dd"
      },
      "execution_count": null,
      "outputs": [
        {
          "output_type": "stream",
          "name": "stdout",
          "text": [
            "8\n",
            "2\n"
          ]
        }
      ]
    },
    {
      "cell_type": "code",
      "source": [
        "#questão 4\n",
        "multiplicação = 5*3\n",
        "divisão = 5/3\n",
        "resto_da_divisão = 5%3\n",
        "potencia = 5**3\n",
        "print(multiplicação)\n",
        "print(resto_da_divisão)\n",
        "print(potencia)\n"
      ],
      "metadata": {
        "colab": {
          "base_uri": "https://localhost:8080/"
        },
        "id": "0rtkx-brLMXR",
        "outputId": "a9448090-39a9-4f0f-c54e-df0d4066a7e8"
      },
      "execution_count": null,
      "outputs": [
        {
          "output_type": "stream",
          "name": "stdout",
          "text": [
            "15\n",
            "2\n",
            "125\n"
          ]
        }
      ]
    },
    {
      "cell_type": "code",
      "source": [
        "#questão 5\n",
        "juros = 100*1.1**7\n",
        "print(juros)\n"
      ],
      "metadata": {
        "colab": {
          "base_uri": "https://localhost:8080/"
        },
        "id": "LoP8sYvYOBVS",
        "outputId": "a33458df-dab9-4472-f4e6-369191ba2725"
      },
      "execution_count": null,
      "outputs": [
        {
          "output_type": "stream",
          "name": "stdout",
          "text": [
            "194.87171000000012\n"
          ]
        }
      ]
    },
    {
      "cell_type": "code",
      "source": [
        "#questãop 6\n",
        "saviings=100\n",
        "growth_multiplier=1.1\n",
        "desc= 'compound interest'\n",
        "year1=saviings*growth_multiplier\n",
        "print(type(year1))\n",
        "doubledesc=desc+desc\n",
        "print(doubledesc)"
      ],
      "metadata": {
        "colab": {
          "base_uri": "https://localhost:8080/"
        },
        "id": "0fnFdoLSyGHT",
        "outputId": "99185aad-3b95-4ecd-c456-363dd9b37b0e"
      },
      "execution_count": 1,
      "outputs": [
        {
          "output_type": "stream",
          "name": "stdout",
          "text": [
            "<class 'float'>\n",
            "compound interestcompound interest\n"
          ]
        }
      ]
    },
    {
      "cell_type": "code",
      "source": [
        "#questão 7\n",
        "pi_string = \"3.1415926\"\n",
        "pi_float = float(pi_string)\n",
        "print(pi_float)"
      ],
      "metadata": {
        "colab": {
          "base_uri": "https://localhost:8080/"
        },
        "id": "T7AsA8tl18xS",
        "outputId": "5051be42-b34a-4bdf-e8a8-b2c24cc5925b"
      },
      "execution_count": 2,
      "outputs": [
        {
          "output_type": "stream",
          "name": "stdout",
          "text": [
            "3.1415926\n"
          ]
        }
      ]
    },
    {
      "cell_type": "code",
      "source": [
        "#questao 8,9\n",
        "savings=100\n",
        "result=100*1.10**7\n",
        "print(\"I started with $\" + str(savings) + \" and now have $\" + str(result) + \". Awesome!\")\n",
        "#"
      ],
      "metadata": {
        "colab": {
          "base_uri": "https://localhost:8080/"
        },
        "id": "llpYEen521v4",
        "outputId": "e41cf547-2e11-47bc-c5b7-0cbab6d01d39"
      },
      "execution_count": 4,
      "outputs": [
        {
          "output_type": "stream",
          "name": "stdout",
          "text": [
            "I started with $100 and now have $194.87171000000012. Awesome!\n"
          ]
        }
      ]
    },
    {
      "cell_type": "code",
      "source": [
        "#questao 10\n",
        "print('the correct answer to this multiple choice exercise is answer number + 2.')\n",
        "# por que o codigo estava somando string com int"
      ],
      "metadata": {
        "colab": {
          "base_uri": "https://localhost:8080/"
        },
        "id": "06l1PrxP-7oC",
        "outputId": "1178e29a-a61f-4185-fe8a-fdeee3d955de"
      },
      "execution_count": 10,
      "outputs": [
        {
          "output_type": "stream",
          "name": "stdout",
          "text": [
            "the correct answer to this multiple choice exercise is answer number + 2.\n"
          ]
        }
      ]
    },
    {
      "cell_type": "markdown",
      "source": [],
      "metadata": {
        "id": "J5z8FTk6AKCB"
      }
    },
    {
      "cell_type": "code",
      "source": [],
      "metadata": {
        "id": "zP8qdfvH-7Ty"
      },
      "execution_count": null,
      "outputs": []
    }
  ]
}