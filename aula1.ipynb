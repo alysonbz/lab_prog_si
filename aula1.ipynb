{
  "nbformat": 4,
  "nbformat_minor": 0,
  "metadata": {
    "colab": {
      "provenance": [],
      "authorship_tag": "ABX9TyMkAfWndBtSav2dWut90VqL",
      "include_colab_link": true
    },
    "kernelspec": {
      "name": "python3",
      "display_name": "Python 3"
    },
    "language_info": {
      "name": "python"
    }
  },
  "cells": [
    {
      "cell_type": "markdown",
      "metadata": {
        "id": "view-in-github",
        "colab_type": "text"
      },
      "source": [
        "<a href=\"https://colab.research.google.com/github/alysonbz/lab_prog_si/blob/gabriel_coelho/labdeprog.ipynb\" target=\"_parent\"><img src=\"https://colab.research.google.com/assets/colab-badge.svg\" alt=\"Open In Colab\"/></a>"
      ]
    },
    {
      "cell_type": "markdown",
      "source": [
        "1) Usando o COLAB cole o comando seguinte na célula:\n"
      ],
      "metadata": {
        "id": "LJ1ape5I4yfZ"
      }
    },
    {
      "cell_type": "code",
      "source": [
        "#EXAMPLO\n",
        "print(5/8)"
      ],
      "metadata": {
        "colab": {
          "base_uri": "https://localhost:8080/"
        },
        "id": "TukZVotV5iC6",
        "outputId": "bd376441-c1f2-447c-8ae7-234dbb57e30d"
      },
      "execution_count": null,
      "outputs": [
        {
          "output_type": "stream",
          "name": "stdout",
          "text": [
            "0.625\n"
          ]
        }
      ]
    },
    {
      "cell_type": "markdown",
      "source": [
        "2) Em outra célula, realize o print da soma de 7 com 8. Coloque uma linha de comentário no código, tal como a questão 1, informando que realiza uma soma."
      ],
      "metadata": {
        "id": "MkbSFQ0n6XBx"
      }
    },
    {
      "cell_type": "code",
      "source": [
        "#SOMA\n",
        "n1=7\n",
        "n2=8\n",
        "soma=n1+n2\n",
        "print(f'A soma de {n1} e {n2} é igual a {soma}')"
      ],
      "metadata": {
        "colab": {
          "base_uri": "https://localhost:8080/"
        },
        "id": "qnc_ZfFK6eWv",
        "outputId": "987946e6-1420-4153-8455-24a727f2fb12"
      },
      "execution_count": null,
      "outputs": [
        {
          "output_type": "stream",
          "name": "stdout",
          "text": [
            "A soma de 7 e 8 é igual a 15\n"
          ]
        }
      ]
    },
    {
      "cell_type": "markdown",
      "source": [
        "3) Em uma célula, realize a operação de  print da soma do número 5 e 3. Logo abaixo do código, na mesma célula faça a operação de subtração destes números."
      ],
      "metadata": {
        "id": "Zu-fh_0M62RZ"
      }
    },
    {
      "cell_type": "code",
      "source": [
        "#SOMA\n",
        "n1=5\n",
        "n2=3\n",
        "soma=n1+n2\n",
        "print(f'A soma de {n1} e {n2} é igual a {soma}')\n",
        "\n",
        "#SUBTRAÇÃO\n",
        "subtração=n1-n2\n",
        "print(f'A subtração de {n1} e {n2} é igual a {subtração}')"
      ],
      "metadata": {
        "colab": {
          "base_uri": "https://localhost:8080/"
        },
        "id": "JGWxAWkC654W",
        "outputId": "d6501030-8918-4022-e196-4aff2714f2d1"
      },
      "execution_count": null,
      "outputs": [
        {
          "output_type": "stream",
          "name": "stdout",
          "text": [
            "A soma de 5 e 3 é igual a 8\n",
            "A subtração de 5 e 3 é igual a 2\n"
          ]
        }
      ]
    },
    {
      "cell_type": "markdown",
      "source": [
        "4) Em uma célula realize os prints das operações de potência, multiplicação, resto da divisão entre os números 5 e 3."
      ],
      "metadata": {
        "id": "0__6wyVh7n7v"
      }
    },
    {
      "cell_type": "code",
      "source": [
        "#POTÊNCIA\n",
        "n1=5\n",
        "n2=3\n",
        "potência=n1**n2\n",
        "print(f'A potência de {n1} elevado {n2} é igual a {potência}')\n",
        "\n",
        "#MULTIPLICAÇÃO\n",
        "multiplicação=n1*n2\n",
        "print(f'A multiplicação de {n1} por {n2} é igual a {multiplicação}')\n",
        "\n",
        "#RESTO DA DIVISÃO\n",
        "resto=n1%n2\n",
        "print(f'O resto da divisão de {n1} por {n2} é igual a {resto}')"
      ],
      "metadata": {
        "colab": {
          "base_uri": "https://localhost:8080/"
        },
        "id": "o0j7hMTd7rDI",
        "outputId": "2f07d22f-8c0c-4179-b298-870d966970ff"
      },
      "execution_count": null,
      "outputs": [
        {
          "output_type": "stream",
          "name": "stdout",
          "text": [
            "A potência de 5 elevado 3 é igual a 125\n",
            "A multiplicação de 5 por 3 é igual a 15\n",
            "O resto da divisão de 5 por 3 é igual a 2\n"
          ]
        }
      ]
    },
    {
      "cell_type": "markdown",
      "source": [
        "5) Suponha que você tem 100 reais e esse dinheiro rende 1.1% ao ano. Quanto de dinheiro você terá acumulado em 7 anos ?"
      ],
      "metadata": {
        "id": "MXiWPRTt8nwW"
      }
    },
    {
      "cell_type": "code",
      "source": [
        "c=100 #CAPITAL INICIAL\n",
        "i=0.011 #TAXA DE JUROS\n",
        "t=7 #TEMPO\n",
        "\n",
        "#CÁLCULO DO MONTANTE\n",
        "m=c*(1+i)**t\n",
        "m=100*(1+0.011)**7\n",
        "print(f'O montante final após {t} anos, será de R$ {m:.2f}')"
      ],
      "metadata": {
        "colab": {
          "base_uri": "https://localhost:8080/"
        },
        "id": "4yHPix6l8s2m",
        "outputId": "f9ac703b-5842-43ee-87da-dccf23aef38c"
      },
      "execution_count": null,
      "outputs": [
        {
          "output_type": "stream",
          "name": "stdout",
          "text": [
            "O montante final após 7 anos, será de R$ 107.96\n"
          ]
        }
      ]
    },
    {
      "cell_type": "markdown",
      "source": [
        "6) Complete o seguinte código e rode em uma célula."
      ],
      "metadata": {
        "id": "_z6IpnFW-j0y"
      }
    },
    {
      "cell_type": "code",
      "source": [
        "economias=100\n",
        "multiplicador_de_crescimento=1.1\n",
        "desc=\"juros compostos\"\n",
        "\n",
        "#ATRIBUIR PRODUTO DO MULTIPLICADOR DE CRESCIMENTO\n",
        "ano1=100*1.1\n",
        "\n",
        "#IMPRIMA O TIPO DE ANO 1\n",
        "print('O tipo de ano1 é:', type(ano1))\n",
        "\n",
        "#ATRIBUIR SOMA DE DESC E DESC DE DOUBLEDESC\n",
        "doubledesc=desc + desc\n",
        "\n",
        "#IMPRIMA DOUBLEDESC\n",
        "print('doubledesc:', desc+desc)"
      ],
      "metadata": {
        "colab": {
          "base_uri": "https://localhost:8080/"
        },
        "id": "3SKcxledE9NX",
        "outputId": "68ec2b02-ad75-4d65-9a37-ed82689ad6b7"
      },
      "execution_count": null,
      "outputs": [
        {
          "output_type": "stream",
          "name": "stdout",
          "text": [
            "O tipo de ano1 é: <class 'float'>\n",
            "doubledesc: juros compostosjuros compostos\n"
          ]
        }
      ]
    },
    {
      "cell_type": "markdown",
      "source": [
        "7) Complete o código seguinte convertendo a variável pi_string para float. Ao final faça o print das variáveis e seus tipos."
      ],
      "metadata": {
        "id": "d6h7QVJSLLDS"
      }
    },
    {
      "cell_type": "code",
      "source": [
        "#DEFINIÇÃO DE PI_STRING\n",
        "pi_string='3.1415926'\n",
        "\n",
        "#CONVERTER PI_STRING EM FLOAT: PI_FLOAT\n",
        "pi_float=float(pi_string.replace(',','.'))\n",
        "\n",
        "#PRINT DAS VARIÁVEIS E SEUS TIPOS\n",
        "print(pi_float)"
      ],
      "metadata": {
        "colab": {
          "base_uri": "https://localhost:8080/"
        },
        "id": "hVdC9pPWLStI",
        "outputId": "44141363-cb37-4a57-c454-ee6f44bf245b"
      },
      "execution_count": null,
      "outputs": [
        {
          "output_type": "stream",
          "name": "stdout",
          "text": [
            "3.1415926\n"
          ]
        }
      ]
    },
    {
      "cell_type": "markdown",
      "source": [
        "8) Rode o código abaixo em uma célula do colab e informe descubra qual erro está havendo."
      ],
      "metadata": {
        "id": "gSumqHjwQDq5"
      }
    },
    {
      "cell_type": "code",
      "source": [
        "#DEFINIÇÃO DE ECONOMIAS E RESULTADO\n",
        "economias=100\n",
        "resultado=100*1.1**7\n",
        "\n",
        "#CORRIGIR A IMPRESSÃO\n",
        "print(f'Eu comecei com ${economias} e agora tenho ${resultado}. Incrível!')\n",
        "\n",
        "#O código em questão não estava rodando pois print() deveria conter o format e as chaves{} nas respectivas variáveis, sem o sinal de +."
      ],
      "metadata": {
        "colab": {
          "base_uri": "https://localhost:8080/"
        },
        "id": "mjBrA2kIQJLh",
        "outputId": "dbf6696f-6c57-4e93-ac85-29c5aae9ef34"
      },
      "execution_count": null,
      "outputs": [
        {
          "output_type": "stream",
          "name": "stdout",
          "text": [
            "Eu comecei com $100 e agora tenho $194.87171000000012. Incrível!\n"
          ]
        }
      ]
    },
    {
      "cell_type": "markdown",
      "source": [
        "9) Use a função str() para corrigir o erro, convertendo as variáveis numéricas para string.\n"
      ],
      "metadata": {
        "id": "UPt9YDnyVcwn"
      }
    },
    {
      "cell_type": "code",
      "source": [
        "#DEFINIÇÃO DE ECONOMIAS E RESULTADO\n",
        "economias=100\n",
        "resultado=100*1.1**7\n",
        "\n",
        "#CORRIGIR A IMPRESSÃO\n",
        "print('Eu comecei com $' + str(economias) + ' e agora tenho $' + str(resultado) + '. Incrível!')"
      ],
      "metadata": {
        "colab": {
          "base_uri": "https://localhost:8080/"
        },
        "id": "ttWUoKiXYKKz",
        "outputId": "a80cb075-7588-4132-814d-3ac9ddacdaff"
      },
      "execution_count": null,
      "outputs": [
        {
          "output_type": "stream",
          "name": "stdout",
          "text": [
            "Eu comecei com $100 e agora tenho $194.87171000000012. Incrível!\n"
          ]
        }
      ]
    },
    {
      "cell_type": "markdown",
      "source": [
        "10)  Qual dos textos seguintes apresenta erro se for executado em um comando print? Porque?\n",
        "\n",
        "a) \"i can add integers, like \" + str(5) + \" to strings.\"\n",
        "\n",
        "b) \"i said \" + (\"hey \" * 2) + \"hey!\"\n",
        "\n",
        "c) \"the correct answer to this multiple choice exercise is answer number\" + 2\n",
        "\n",
        "d) True + False\n",
        "\n",
        "RESP: O item C está errado, pois não se pode somar uma string com um número inteiro em Python. O correto seria usar + str(2)"
      ],
      "metadata": {
        "id": "muhZDO8gavqr"
      }
    }
  ]
}
