{
  "nbformat": 4,
  "nbformat_minor": 0,
  "metadata": {
    "colab": {
      "provenance": [],
      "authorship_tag": "ABX9TyM5bhRhLIgW3OOvAW3Y/I60",
      "include_colab_link": true
    },
    "kernelspec": {
      "name": "python3",
      "display_name": "Python 3"
    },
    "language_info": {
      "name": "python"
    }
  },
  "cells": [
    {
      "cell_type": "markdown",
      "metadata": {
        "id": "view-in-github",
        "colab_type": "text"
      },
      "source": [
        "<a href=\"https://colab.research.google.com/github/alysonbz/lab_prog_si/blob/Emanuel_Oliveira/aula1.ipynb\" target=\"_parent\"><img src=\"https://colab.research.google.com/assets/colab-badge.svg\" alt=\"Open In Colab\"/></a>"
      ]
    },
    {
      "cell_type": "markdown",
      "source": [
        "questão 2"
      ],
      "metadata": {
        "id": "PvuUBlC_ITKg"
      }
    },
    {
      "cell_type": "code",
      "source": [
        "#questão 1\n",
        "n1 = 7\n",
        "n2 = 8\n",
        "soma = (n1+n2)\n",
        "print(soma)"
      ],
      "metadata": {
        "colab": {
          "base_uri": "https://localhost:8080/"
        },
        "id": "zLaT1taZIO9w",
        "outputId": "94dffc14-bd73-4e4c-b526-3903c5c5b911"
      },
      "execution_count": null,
      "outputs": [
        {
          "output_type": "stream",
          "name": "stdout",
          "text": [
            "15\n"
          ]
        }
      ]
    },
    {
      "cell_type": "markdown",
      "source": [
        "3) Em uma célula, realize a operação de  print da soma do número 5 e 3. Logo abaixo do código, na mesma célula faça a operação de subtração destes números.\n"
      ],
      "metadata": {
        "id": "KMnaV0s0Kl2K"
      }
    },
    {
      "cell_type": "code",
      "source": [
        "#valores atribuidos\n",
        "n1 = 5\n",
        "n2 = 3\n",
        "#soma e subtração\n",
        "soma = (n1+n2)\n",
        "sub = (n1-n2)\n",
        "#exibição da soma e subtração\n",
        "print(soma)\n",
        "print(sub)"
      ],
      "metadata": {
        "colab": {
          "base_uri": "https://localhost:8080/"
        },
        "id": "-7FWBDZFKnl4",
        "outputId": "f1d9801e-668c-4663-fbd1-5d405552d7ec"
      },
      "execution_count": null,
      "outputs": [
        {
          "output_type": "stream",
          "name": "stdout",
          "text": [
            "8\n",
            "2\n"
          ]
        }
      ]
    },
    {
      "cell_type": "markdown",
      "source": [
        "4) Em uma célula realize os prints das operações de potência, multiplicação, resto da divisão entre os números 5 e 3."
      ],
      "metadata": {
        "id": "ZIUewO_oLRBQ"
      }
    },
    {
      "cell_type": "code",
      "source": [
        "#valores atribuidos\n",
        "n1 = 5\n",
        "n2 = 3\n",
        "#potenciação, resto da divisão e multiplicação\n",
        "pot = (5**3), (3**2), (5**2)\n",
        "rest = (5%3)\n",
        "mult = (5*3)\n",
        "#exibição\n",
        "print(f\" a potenciação é {pot}, a multiplicação é {mult} e o resto da divisão é {rest}\")"
      ],
      "metadata": {
        "colab": {
          "base_uri": "https://localhost:8080/"
        },
        "id": "E0wfM-NhLVFZ",
        "outputId": "c08e904b-5872-4228-ae8b-a24f920e6f19"
      },
      "execution_count": null,
      "outputs": [
        {
          "output_type": "stream",
          "name": "stdout",
          "text": [
            " a potenciação é (125, 9, 25), a multiplicação é 15 e o resto da divisão é 2\n"
          ]
        }
      ]
    },
    {
      "cell_type": "markdown",
      "source": [
        "5) Suponha que você tem 100 reais e esse dinheiro rende 1.1% ao ano. Quanto de dinheiro você terá acumulado em 7 anos ?"
      ],
      "metadata": {
        "id": "QmmqGtat6oFn"
      }
    },
    {
      "cell_type": "code",
      "source": [
        "#valores atribuidos\n",
        "c = 100\n",
        "i = 1.1/100\n",
        "t = 7\n",
        "#calculo do juros\n",
        "j = (c*i*t)\n",
        "print(j)\n",
        "#calculo do montante\n",
        "m = (c + j)\n",
        "print(m)"
      ],
      "metadata": {
        "colab": {
          "base_uri": "https://localhost:8080/"
        },
        "id": "eTvlaZ5Z6pD9",
        "outputId": "ded0a464-6806-4fc8-fd03-5447e171d3ae"
      },
      "execution_count": null,
      "outputs": [
        {
          "output_type": "stream",
          "name": "stdout",
          "text": [
            "7.700000000000001\n",
            "107.7\n"
          ]
        }
      ]
    },
    {
      "cell_type": "markdown",
      "source": [
        "6) Complete o seguinte código e rode em uma célula."
      ],
      "metadata": {
        "id": "2WONjLcYXnAk"
      }
    },
    {
      "cell_type": "code",
      "source": [
        "#valores atribuidos\n",
        "economia = 100\n",
        "multiplicador_de_crescimento = 1.1\n",
        "desc = \"juros compostos\"\n",
        "# Atribuir produto do multiplicador de crescimento e economia ao ano1\n",
        "ano1 = 7\n",
        "prod = (multiplicador_de_crescimento * economia)/ano1\n",
        "# Imprima o tipo de ano1\n",
        "print(type(ano1))\n",
        "# Atribuir soma de desc e desc para doubledesc\n",
        "doubledesc = (desc + desc)\n",
        "# Imprime doubledesc\n",
        "print(doubledesc)\n",
        "#resultado\n",
        "print(prod)"
      ],
      "metadata": {
        "colab": {
          "base_uri": "https://localhost:8080/"
        },
        "id": "SwO1ZM2OXoNI",
        "outputId": "efce6e0a-b6ce-4737-f717-ad22ec90a47f"
      },
      "execution_count": null,
      "outputs": [
        {
          "output_type": "stream",
          "name": "stdout",
          "text": [
            "<class 'int'>\n",
            "juros compostosjuros compostos\n",
            "15.714285714285717\n"
          ]
        }
      ]
    },
    {
      "cell_type": "markdown",
      "source": [
        "7) complete o código seguinte convertendo a variável pi_string para float. Ao final faça o print das variáveis e seus tipos.  "
      ],
      "metadata": {
        "id": "Eah3RBzVZ0iP"
      }
    },
    {
      "cell_type": "code",
      "source": [
        "# Definição de pi_string\n",
        "pi_string = \"3,1415926\"\n",
        "# Converter pi_string em float: pi_float\n",
        "pi_float = float(pi_string.replace(',','.'))\n",
        "print(pi_float)"
      ],
      "metadata": {
        "colab": {
          "base_uri": "https://localhost:8080/"
        },
        "id": "P4y5lebYZ1hG",
        "outputId": "6b8faec9-db2c-4484-c3d9-f142eb4d5c17"
      },
      "execution_count": null,
      "outputs": [
        {
          "output_type": "stream",
          "name": "stdout",
          "text": [
            "3.1415926\n"
          ]
        }
      ]
    },
    {
      "cell_type": "markdown",
      "source": [
        "8) Rode o código abaixo em uma célula do colab e informe descubra qual erro está havendo.\n",
        "\n",
        "9) Use a função str() para corrigir o erro, convertendo as variáveis numéricas para string."
      ],
      "metadata": {
        "id": "mIRZ3zzTcTfg"
      }
    },
    {
      "cell_type": "code",
      "source": [
        "#8)\n",
        "# Definição de economia e resultado\n",
        "economia = 100\n",
        "resultado = 100 * 1.10 ** 7\n",
        "# Corrija a impressão\n",
        "print(\"Comecei com $\" + economia + e agora tenho $\" + resultado + \"Incrível!\")\n",
        "## está dando erro no print() pois deveria estar em format contendo as \"{}\" com as variaveis dentro e deve-se remover esses sinais de adição"
      ],
      "metadata": {
        "colab": {
          "base_uri": "https://localhost:8080/",
          "height": 106
        },
        "id": "7nZKlJbkX5ZZ",
        "outputId": "2eca1b67-68c2-4166-c2fa-2f328c615a47"
      },
      "execution_count": null,
      "outputs": [
        {
          "output_type": "error",
          "ename": "SyntaxError",
          "evalue": "unterminated string literal (detected at line 6) (<ipython-input-40-5786980ba0aa>, line 6)",
          "traceback": [
            "\u001b[0;36m  File \u001b[0;32m\"<ipython-input-40-5786980ba0aa>\"\u001b[0;36m, line \u001b[0;32m6\u001b[0m\n\u001b[0;31m    print(\"Comecei com $\" + poupança + e agora tenho $\" + resultado + \"Incrível!\")\u001b[0m\n\u001b[0m                                                                                ^\u001b[0m\n\u001b[0;31mSyntaxError\u001b[0m\u001b[0;31m:\u001b[0m unterminated string literal (detected at line 6)\n"
          ]
        }
      ]
    },
    {
      "cell_type": "code",
      "source": [
        "#9)\n",
        "#Definição de economia e resultado\n",
        "economia = 100\n",
        "resultado = 100 * 1.10 ** 7\n",
        "# Corrija a impressão\n",
        "print(f\"Comecei com ${economia} e agora tenho ${resultado}. Incrível!\")"
      ],
      "metadata": {
        "colab": {
          "base_uri": "https://localhost:8080/"
        },
        "id": "-adlAyTzcXDO",
        "outputId": "a8bfee28-517b-4daf-de7f-3c9d0e676752"
      },
      "execution_count": null,
      "outputs": [
        {
          "output_type": "stream",
          "name": "stdout",
          "text": [
            "Comecei com $100 e agora tenho $194.87171000000012. Incrível!\n"
          ]
        }
      ]
    },
    {
      "cell_type": "markdown",
      "source": [
        "10)  Qual dos textos seguintes apresenta erro se for executado em um comando print ? Porque?\n",
        "\n",
        "a)\"Posso adicionar números inteiros, \"como + str(5) +\" a strings.\"\n",
        "\n",
        "\n",
        "b)\"Eu disse\" + (\"Ei\" * 2) + \"Ei!\"\n",
        "\n",
        "c)\"A resposta correta para este exercício de múltipla escolha é a resposta número + 2\"\n",
        "\n",
        "e)Verdadeiro + Falso"
      ],
      "metadata": {
        "id": "gLEJXCOtqbSK"
      }
    },
    {
      "cell_type": "code",
      "source": [],
      "metadata": {
        "id": "b9xje5nmrKfd"
      },
      "execution_count": null,
      "outputs": []
    }
  ]
}