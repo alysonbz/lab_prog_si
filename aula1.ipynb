{
  "nbformat": 4,
  "nbformat_minor": 0,
  "metadata": {
    "colab": {
      "provenance": [],
      "authorship_tag": "ABX9TyNoZ7fR67kmABE1C54C/H/t",
      "include_colab_link": true
    },
    "kernelspec": {
      "name": "python3",
      "display_name": "Python 3"
    },
    "language_info": {
      "name": "python"
    }
  },
  "cells": [
    {
      "cell_type": "markdown",
      "metadata": {
        "id": "view-in-github",
        "colab_type": "text"
      },
      "source": [
        "<a href=\"https://colab.research.google.com/github/alysonbz/lab_prog_si/blob/cauanrodrigues/aula1.ipynb\" target=\"_parent\"><img src=\"https://colab.research.google.com/assets/colab-badge.svg\" alt=\"Open In Colab\"/></a>"
      ]
    },
    {
      "cell_type": "markdown",
      "source": [
        "Atribuição de valores a variáveis em Python"
      ],
      "metadata": {
        "id": "k8fIFzjGAs7k"
      }
    },
    {
      "cell_type": "code",
      "execution_count": null,
      "metadata": {
        "id": "9Ut76uWk738S",
        "colab": {
          "base_uri": "https://localhost:8080/"
        },
        "outputId": "46cde80c-0c4e-41eb-ab31-76110f15df41"
      },
      "outputs": [
        {
          "output_type": "stream",
          "name": "stdout",
          "text": [
            "1.6\n"
          ]
        }
      ],
      "source": [
        "height = 1.6\n",
        "weight = 6.5\n",
        "print(height)\n",
        "nome = \"cauan\"\n",
        "idade = 18"
      ]
    },
    {
      "cell_type": "markdown",
      "source": [
        "Cálculo de massa corporea (IMC)\n"
      ],
      "metadata": {
        "id": "Fq6lbRirBByL"
      }
    },
    {
      "cell_type": "code",
      "source": [
        "altura = 1.79\n",
        "peso = 68.7\n",
        "imc = peso / altura ** 2\n",
        "print(imc)"
      ],
      "metadata": {
        "colab": {
          "base_uri": "https://localhost:8080/"
        },
        "id": "8trhqO72BI-L",
        "outputId": "cd048608-082e-4c25-a8ed-6656bf2650dd"
      },
      "execution_count": null,
      "outputs": [
        {
          "output_type": "stream",
          "name": "stdout",
          "text": [
            "21.44127836209856\n"
          ]
        }
      ]
    },
    {
      "cell_type": "markdown",
      "source": [
        "Verificar tipo de variavel"
      ],
      "metadata": {
        "id": "awidJB5PC8uF"
      }
    },
    {
      "cell_type": "code",
      "source": [
        "type(nome)"
      ],
      "metadata": {
        "colab": {
          "base_uri": "https://localhost:8080/"
        },
        "id": "hUq-9QCVDAHz",
        "outputId": "39aed063-f0a8-4f39-860c-5847fc36f857"
      },
      "execution_count": null,
      "outputs": [
        {
          "output_type": "execute_result",
          "data": {
            "text/plain": [
              "str"
            ]
          },
          "metadata": {},
          "execution_count": 37
        }
      ]
    },
    {
      "cell_type": "markdown",
      "source": [
        "Operções entre números e strings"
      ],
      "metadata": {
        "id": "lsvGyLnxGPRl"
      }
    },
    {
      "cell_type": "code",
      "source": [
        "print('ab' + 'cd')\n",
        "print(2 + 3)\n",
        "print('2' + '3')"
      ],
      "metadata": {
        "colab": {
          "base_uri": "https://localhost:8080/"
        },
        "id": "e-4S9KVSGW6z",
        "outputId": "d2e4e82e-d49a-40de-8ba3-8bc9b3960929"
      },
      "execution_count": null,
      "outputs": [
        {
          "output_type": "stream",
          "name": "stdout",
          "text": [
            "abcd\n",
            "5\n",
            "23\n"
          ]
        }
      ]
    },
    {
      "cell_type": "markdown",
      "source": [
        "*Operação*"
      ],
      "metadata": {
        "id": "tf0Xkw8eJqul"
      }
    },
    {
      "cell_type": "markdown",
      "source": [
        "QUESTÕES"
      ],
      "metadata": {
        "id": "57ipuTMlLFk0"
      }
    },
    {
      "cell_type": "code",
      "source": [
        "#comentário\n",
        "print(7+8)"
      ],
      "metadata": {
        "colab": {
          "base_uri": "https://localhost:8080/"
        },
        "id": "bFpFSha9Jsns",
        "outputId": "49b3007a-10fb-4087-c0df-d29d7b2a2e99"
      },
      "execution_count": null,
      "outputs": [
        {
          "output_type": "stream",
          "name": "stdout",
          "text": [
            "15\n"
          ]
        }
      ]
    },
    {
      "cell_type": "code",
      "source": [
        "#Questão 3\n",
        "print(5+3)\n",
        "print(5-3)"
      ],
      "metadata": {
        "colab": {
          "base_uri": "https://localhost:8080/"
        },
        "id": "cEDx5G8KKmLd",
        "outputId": "d43d81e1-3dd9-4e64-831f-15e96e39e24a"
      },
      "execution_count": null,
      "outputs": [
        {
          "output_type": "stream",
          "name": "stdout",
          "text": [
            "8\n",
            "2\n"
          ]
        }
      ]
    },
    {
      "cell_type": "code",
      "source": [
        "#Questão 4\n",
        "print(5**3)\n",
        "print(5*3)\n",
        "print(5%3)"
      ],
      "metadata": {
        "colab": {
          "base_uri": "https://localhost:8080/"
        },
        "id": "n5uTK0hBLItU",
        "outputId": "702550df-9ad7-4634-f669-c4bd2df0c9ac"
      },
      "execution_count": null,
      "outputs": [
        {
          "output_type": "stream",
          "name": "stdout",
          "text": [
            "125\n",
            "15\n",
            "2\n"
          ]
        }
      ]
    },
    {
      "cell_type": "code",
      "source": [
        "#Questão 5\n",
        "cap = 100\n",
        "jur = 1.1\n",
        "temp = 7\n",
        "\n",
        "m = cap *(1 + jur) ** temp\n",
        "print(\"Montante:\",m)"
      ],
      "metadata": {
        "colab": {
          "base_uri": "https://localhost:8080/"
        },
        "id": "AWnw9uXJLZ-8",
        "outputId": "3f06a63c-7e69-4ea1-e037-2eafad82608c"
      },
      "execution_count": null,
      "outputs": [
        {
          "output_type": "stream",
          "name": "stdout",
          "text": [
            "Montante: 18010.885410000006\n"
          ]
        }
      ]
    }
  ]
}