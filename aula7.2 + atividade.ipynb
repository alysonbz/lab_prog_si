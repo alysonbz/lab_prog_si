{
  "nbformat": 4,
  "nbformat_minor": 0,
  "metadata": {
    "colab": {
      "provenance": [],
      "authorship_tag": "ABX9TyOx/wc8aMpEfy+BEQUFmtAb",
      "include_colab_link": true
    },
    "kernelspec": {
      "name": "python3",
      "display_name": "Python 3"
    },
    "language_info": {
      "name": "python"
    }
  },
  "cells": [
    {
      "cell_type": "markdown",
      "metadata": {
        "id": "view-in-github",
        "colab_type": "text"
      },
      "source": [
        "<a href=\"https://colab.research.google.com/github/alysonbz/lab_prog_si/blob/gabriel_coelho/aula7.2%20%2B%20atividade%20-%20LdP.ipynb\" target=\"_parent\"><img src=\"https://colab.research.google.com/assets/colab-badge.svg\" alt=\"Open In Colab\"/></a>"
      ]
    },
    {
      "cell_type": "markdown",
      "source": [
        "#PRATIQUE p. 68"
      ],
      "metadata": {
        "id": "-NZny1vpjheP"
      }
    },
    {
      "cell_type": "code",
      "execution_count": null,
      "metadata": {
        "colab": {
          "base_uri": "https://localhost:8080/"
        },
        "id": "nvAs_Qo_O9V5",
        "outputId": "0f93fdf4-dba7-4f5b-906f-0784bb0e8cb4"
      },
      "outputs": [
        {
          "output_type": "stream",
          "name": "stdout",
          "text": [
            "[1.71 1.57 1.6  1.64 2.03 2.04 2.02 1.92 1.63 1.74 1.56 1.79 1.77 1.89\n",
            " 1.82 1.98 1.51 2.07 1.99 2.06]\n",
            "[114  64 138 115 124  92 141 118  68  55  61 108  70 145  82 131  86  77\n",
            " 139 135]\n",
            "[False False False False False False False False False  True False False\n",
            " False False False False False  True False False]\n",
            "[18.16620425 17.97008098]\n",
            "[ 68  55  61 108  70 145  82 131]\n",
            "[1.79 1.77 1.89 1.82 1.98 1.51 2.07 1.99 2.06]\n"
          ]
        }
      ],
      "source": [
        "import random as rd\n",
        "import numpy as np\n",
        "\n",
        "#GERAÇÃO DE NÚMEROS ENTRE 150 E 209\n",
        "height = range(150, 210)\n",
        "\n",
        "#GERAÇÃO DE NÚMEROS ENTRE 50 E 149\n",
        "weight = range(50, 150)\n",
        "\n",
        "#AMOSTRA RANDOMICA DE 20 NÚMEROS DE HEIGHT\n",
        "height = rd.sample(height, 20)\n",
        "\n",
        "#AMOSTRA RANDOMICA DE 20 NÚMEROS DE WEIGHT\n",
        "weight = rd.sample(weight, 20)\n",
        "\n",
        "#CONVERTER HEIGHT EM ARRAY E NORMALIZAR MULTIPLICANDO POR 0.01\n",
        "height_array = np.array(height)*0.01\n",
        "print(height_array)\n",
        "\n",
        "#CONVERTER WEIGHT EM ARRAY\n",
        "weight_array = np.array(weight)\n",
        "print(weight_array)\n",
        "\n",
        "#CÁLCULO DO BMI\n",
        "bmi = weight_array/height_array**2\n",
        "\n",
        "#VERIFICAÇÃO ONDE BMI É MENOR QUE 21\n",
        "light = bmi < 21\n",
        "\n",
        "#PRINT LIGHT\n",
        "print(light)\n",
        "\n",
        "#EXIBIÇÃO DOS VALORES DE BMI COM VALOR MENOR QUE 21\n",
        "print(bmi[bmi < 21])\n",
        "\n",
        "#PRINT O ELEMENTO DE WEIGHT_ARRAY DO INDEX 8 ATÉ O INDEX 15, INCLUINDO O INDEX 15\n",
        "print(weight_array[8:16])\n",
        "\n",
        "#PRINT O ELEMENTO HEIGHT_ARRAY DO INDEX 11 ATÉ O INDEX 19, INCLUINDO O INDEX 19\n",
        "print(height_array[11:20])"
      ]
    },
    {
      "cell_type": "markdown",
      "source": [
        "#NUMPY"
      ],
      "metadata": {
        "id": "dMEbDTVyjkcL"
      }
    },
    {
      "cell_type": "code",
      "source": [
        "import random as rd\n",
        "import numpy as np\n",
        "\n",
        "city1 = [5,10]\n",
        "city2 = [8,20]\n",
        "city3 = [4,15]\n",
        "np_city = np.array([city1, city2, city3])"
      ],
      "metadata": {
        "id": "w58C9Wrmjn6d"
      },
      "execution_count": null,
      "outputs": []
    },
    {
      "cell_type": "code",
      "source": [
        "np.mean(np_city[:, 0])"
      ],
      "metadata": {
        "colab": {
          "base_uri": "https://localhost:8080/"
        },
        "id": "41j992LVlNqV",
        "outputId": "65d74045-4d58-44f9-96b7-adeb5a1c4708"
      },
      "execution_count": null,
      "outputs": [
        {
          "output_type": "execute_result",
          "data": {
            "text/plain": [
              "np.float64(1.745756)"
            ]
          },
          "metadata": {},
          "execution_count": 22
        }
      ]
    },
    {
      "cell_type": "code",
      "source": [
        "np.median(np_city[:, 0])"
      ],
      "metadata": {
        "colab": {
          "base_uri": "https://localhost:8080/"
        },
        "id": "yxjnR7IJlMSP",
        "outputId": "978758e1-6b64-4cce-988e-e6cd79d6fa7f"
      },
      "execution_count": null,
      "outputs": [
        {
          "output_type": "execute_result",
          "data": {
            "text/plain": [
              "np.float64(5.0)"
            ]
          },
          "metadata": {},
          "execution_count": 13
        }
      ]
    },
    {
      "cell_type": "code",
      "source": [
        "np.corrcoef(np_city[:, 0], np_city[:, 1])"
      ],
      "metadata": {
        "colab": {
          "base_uri": "https://localhost:8080/"
        },
        "id": "pHShIzqulcGV",
        "outputId": "0dde795a-3de1-4d8b-9c4e-1bce8a6e2cd1"
      },
      "execution_count": null,
      "outputs": [
        {
          "output_type": "execute_result",
          "data": {
            "text/plain": [
              "array([[1.        , 0.72057669],\n",
              "       [0.72057669, 1.        ]])"
            ]
          },
          "metadata": {},
          "execution_count": 14
        }
      ]
    },
    {
      "cell_type": "code",
      "source": [
        "np.std(np_city[:, 0])"
      ],
      "metadata": {
        "colab": {
          "base_uri": "https://localhost:8080/"
        },
        "id": "CLiFelrbloc2",
        "outputId": "163cb963-3bc1-4e3a-9778-f7952bf767e6"
      },
      "execution_count": null,
      "outputs": [
        {
          "output_type": "execute_result",
          "data": {
            "text/plain": [
              "np.float64(1.699673171197595)"
            ]
          },
          "metadata": {},
          "execution_count": 15
        }
      ]
    },
    {
      "cell_type": "markdown",
      "source": [
        "#GERAÇÃO DE UM ARRAY RANDÔMICO"
      ],
      "metadata": {
        "id": "UkI9IsmZly-F"
      }
    },
    {
      "cell_type": "code",
      "source": [
        "height = np.round(np.random.normal(1.75, 0.20, 5000), 2)\n",
        "weight = np.round(np.random.normal(60.32, 15, 5000), 2)\n",
        "np_city = np.column_stack((height, weight))\n",
        "print(np_city)"
      ],
      "metadata": {
        "colab": {
          "base_uri": "https://localhost:8080/"
        },
        "id": "UaW6bR3Xl2dk",
        "outputId": "f6d99553-c7a9-44f8-d406-256190198afb"
      },
      "execution_count": null,
      "outputs": [
        {
          "output_type": "stream",
          "name": "stdout",
          "text": [
            "[[ 1.79 75.51]\n",
            " [ 1.66 55.59]\n",
            " [ 1.41 65.03]\n",
            " ...\n",
            " [ 2.26 83.71]\n",
            " [ 1.52 63.82]\n",
            " [ 1.9  78.73]]\n"
          ]
        }
      ]
    },
    {
      "cell_type": "markdown",
      "source": [
        "#PRATIQUE p. 72"
      ],
      "metadata": {
        "id": "GInufZeDpxjx"
      }
    },
    {
      "cell_type": "markdown",
      "source": [
        "1) Print a terceira linha de np_baseball na linha 14 do código.\n",
        "\n",
        "2) Crie uma nova variável np_weight_lb que recebe toda a segunda coluna de np_baseball.\n",
        "\n",
        "3) Print a primeira coluna da segunda linha de Np_baseball na linha  do código.\n",
        "\n",
        "4) Calcule e exiba a média da primeira coluna de np_baseball.\n",
        "\n",
        "5) Calcule e exiba a mediana da segunda linha de np_baseball."
      ],
      "metadata": {
        "id": "_9ZsbuMJqJxl"
      }
    },
    {
      "cell_type": "code",
      "source": [
        "#CREATE BASEBALL, A LIST OF LISTS\n",
        "baseball = [[180, 78.4],\n",
        "            [215, 102.7],\n",
        "            [210, 98.5],\n",
        "            [188, 75.2]]\n",
        "\n",
        "#IMPORT NUMPY PACKAGE\n",
        "import numpy as np\n",
        "\n",
        "#CREATE NP_BASEBALL (2COLS)\n",
        "np_baseball = np.array(baseball)\n",
        "\n",
        "#1\n",
        "print(np_baseball[2])\n",
        "\n",
        "#2\n",
        "np_weight_lb = np_baseball[:, 1]\n",
        "print(np_weight_lb)\n",
        "\n",
        "#3\n",
        "print(np_baseball[1, 0])\n",
        "\n",
        "#4\n",
        "print(np.mean(np_baseball[:, 0]))\n",
        "\n",
        "#5\n",
        "print(np.median(np_baseball[1]))"
      ],
      "metadata": {
        "id": "ZM4NdM3lpwza",
        "colab": {
          "base_uri": "https://localhost:8080/"
        },
        "outputId": "80d53602-e491-4063-96a5-a2070272a3ed"
      },
      "execution_count": null,
      "outputs": [
        {
          "output_type": "stream",
          "name": "stdout",
          "text": [
            "[210.   98.5]\n",
            "[ 78.4 102.7  98.5  75.2]\n",
            "215.0\n",
            "198.25\n",
            "158.85\n"
          ]
        }
      ]
    },
    {
      "cell_type": "markdown",
      "source": [
        "#EXERCÍCIO"
      ],
      "metadata": {
        "id": "Crsht-nZCcGs"
      }
    },
    {
      "cell_type": "markdown",
      "source": [
        "1) Qual linha de comando exibe a documentação da função len()"
      ],
      "metadata": {
        "id": "yhZAT2rvCfU7"
      }
    },
    {
      "cell_type": "code",
      "source": [
        "a - help(len) #correto. help(função) exibe o que a função faz.\n",
        "b - doc(len) #incorreto. não existe em python.\n",
        "c - doc(len()) #incorreto. não é possível rodar len() sem nenhum valor.\n",
        "d - find(len) #incorreto. não é uma função padrão."
      ],
      "metadata": {
        "id": "OxjMo0HhDnOn"
      },
      "execution_count": null,
      "outputs": []
    },
    {
      "cell_type": "markdown",
      "source": [
        "2) Qual dos 3 códigos printa o número 8?"
      ],
      "metadata": {
        "id": "8silQKwrEtZs"
      }
    },
    {
      "cell_type": "code",
      "source": [
        "import numpy as np\n",
        "z = np.array([[9, 9, 2],\n",
        "              [8, 5, 4]])\n",
        "print(z[1, 0]) #correto. primeiro se acessa a linha, depois a coluna.\n",
        "\n",
        "import numpy as np\n",
        "z = np.array([[9, 9, 2],\n",
        "              [8, 5, 4]])\n",
        "print(z[0, 2]) #incorreto. irá retornar o número 2.\n",
        "\n",
        "import numpy as np\n",
        "z = np.array([[9, 9, 2],\n",
        "              [8, 5, 4]])\n",
        "print(z[0, 1]) #incorreto. irá retornar o número 9."
      ],
      "metadata": {
        "id": "5yxBZDrMFDRM"
      },
      "execution_count": null,
      "outputs": []
    },
    {
      "cell_type": "code",
      "source": [
        "#3 - substituição por fatiamento.\n",
        "foo = [0.2, 1.7, 'a', 'wed', '1.5']\n",
        "foo[0:2] = [2.75, -1.5]\n",
        "print(foo)"
      ],
      "metadata": {
        "colab": {
          "base_uri": "https://localhost:8080/"
        },
        "id": "t6Gz9KgqHEgP",
        "outputId": "51e6b2fa-46e7-4456-936b-7fce6cb595ce"
      },
      "execution_count": 1,
      "outputs": [
        {
          "output_type": "stream",
          "name": "stdout",
          "text": [
            "[2.75, -1.5, 'a', 'wed', '1.5']\n"
          ]
        }
      ]
    },
    {
      "cell_type": "code",
      "source": [
        "#4 - a função REPLACE é usada para substituir uma string por outra.\n",
        "'datascience'.replace('science', 'camp')"
      ],
      "metadata": {
        "colab": {
          "base_uri": "https://localhost:8080/",
          "height": 36
        },
        "id": "2sqkkvD82Gxn",
        "outputId": "0717049b-6e2c-478e-91ee-955582400ec9"
      },
      "execution_count": 3,
      "outputs": [
        {
          "output_type": "execute_result",
          "data": {
            "text/plain": [
              "'datacamp'"
            ],
            "application/vnd.google.colaboratory.intrinsic+json": {
              "type": "string"
            }
          },
          "metadata": {},
          "execution_count": 3
        }
      ]
    },
    {
      "cell_type": "markdown",
      "source": [
        "5) Qual linha de código apresenta erro?"
      ],
      "metadata": {
        "id": "sIZllsp44OLu"
      }
    },
    {
      "cell_type": "code",
      "source": [
        "a - 'Python' * int('2') #correto. reetirá a string 2 vezes.\n",
        "b - 'Python' * 2 #correto. multiplicação da string por um número inteiro.\n",
        "c - 'Python' * '2' #incorreto. não é possível multiplicar uma string por outra.\n",
        "d - 'Python * 2' #correto. não é uma operação, mas uma frase. não há erro."
      ],
      "metadata": {
        "id": "yabCqm_E4Nt4"
      },
      "execution_count": null,
      "outputs": []
    },
    {
      "cell_type": "markdown",
      "source": [
        "6) Qual código retorna o texto:\n",
        " python data?"
      ],
      "metadata": {
        "id": "sfqY31yq50a6"
      }
    },
    {
      "cell_type": "code",
      "source": [
        "a - x = 'python'\n",
        "print(x + ' data') #correto. retorna 'python data'.\n",
        "\n",
        "b - x = 'r'\n",
        "print(x + ' data') #incorreto. retorna 'r data'.\n",
        "\n",
        "c - x = 'sql'\n",
        "print(x + ' data') #incorreto. retorna 'sql data'."
      ],
      "metadata": {
        "id": "Q_Ym4va354eB"
      },
      "execution_count": null,
      "outputs": []
    },
    {
      "cell_type": "markdown",
      "source": [
        "7) Considerando esse código:"
      ],
      "metadata": {
        "id": "IeuvxfrO6uHP"
      }
    },
    {
      "cell_type": "code",
      "source": [
        "np_2d = np.array([[1.5, 6.4, 7.8, 2.2],\n",
        "                  [4.3, 8.7, 1.9, 3.4],\n",
        "                  [5.3, 7.3, 9.4, 2.5]])"
      ],
      "metadata": {
        "id": "n8Xdt0kH6-xq"
      },
      "execution_count": null,
      "outputs": []
    },
    {
      "cell_type": "markdown",
      "source": [
        "Qual opção abaixo representa o comando:"
      ],
      "metadata": {
        "id": "2uCFixtb7XxN"
      }
    },
    {
      "cell_type": "code",
      "source": [
        "np_2d[2:, 2:]"
      ],
      "metadata": {
        "id": "BZPW8CzT7b6N"
      },
      "execution_count": null,
      "outputs": []
    },
    {
      "cell_type": "code",
      "source": [
        "a - 5.3 #incorreto.\n",
        "b - 4.3 #incorreto.\n",
        "c - array([[9.4, 2.5]]) #correto."
      ],
      "metadata": {
        "id": "hCSy48sS7gWs"
      },
      "execution_count": null,
      "outputs": []
    },
    {
      "cell_type": "markdown",
      "source": [
        "8) Complete o código para a saída 6666"
      ],
      "metadata": {
        "id": "vR_KkvIg8XtG"
      }
    },
    {
      "cell_type": "code",
      "source": [
        "print('6' * (2 ** 2))"
      ],
      "metadata": {
        "colab": {
          "base_uri": "https://localhost:8080/"
        },
        "id": "ttHKS03p8Zv8",
        "outputId": "f1b9e700-e4c7-43b8-f1d1-d24d49e72483"
      },
      "execution_count": 4,
      "outputs": [
        {
          "output_type": "stream",
          "name": "stdout",
          "text": [
            "6666\n"
          ]
        }
      ]
    },
    {
      "cell_type": "markdown",
      "source": [
        "9) Qual a saída do código abaixo?"
      ],
      "metadata": {
        "id": "Al_74eyW9nhK"
      }
    },
    {
      "cell_type": "code",
      "source": [
        "import numpy as np\n",
        "m = np.array([2, 6, 4])\n",
        "n = np.array([2, 1, 1])\n",
        "print(m * n)"
      ],
      "metadata": {
        "colab": {
          "base_uri": "https://localhost:8080/"
        },
        "id": "cGwxV0XW9qSe",
        "outputId": "042d027b-7640-4af8-f577-26337704533e"
      },
      "execution_count": 7,
      "outputs": [
        {
          "output_type": "stream",
          "name": "stdout",
          "text": [
            "[4 6 4]\n"
          ]
        }
      ]
    }
  ]
}
