{
  "nbformat": 4,
  "nbformat_minor": 0,
  "metadata": {
    "colab": {
      "provenance": [],
      "authorship_tag": "ABX9TyMx87MNPBf3l9KpVenQmjdg",
      "include_colab_link": true
    },
    "kernelspec": {
      "name": "python3",
      "display_name": "Python 3"
    },
    "language_info": {
      "name": "python"
    }
  },
  "cells": [
    {
      "cell_type": "markdown",
      "metadata": {
        "id": "view-in-github",
        "colab_type": "text"
      },
      "source": [
        "<a href=\"https://colab.research.google.com/github/alysonbz/lab_prog_si/blob/cauanrodrigues/aula6.ipynb\" target=\"_parent\"><img src=\"https://colab.research.google.com/assets/colab-badge.svg\" alt=\"Open In Colab\"/></a>"
      ]
    },
    {
      "cell_type": "markdown",
      "source": [
        "Importando bibliotecas no python"
      ],
      "metadata": {
        "id": "H0QuBnZ3DI7n"
      }
    },
    {
      "cell_type": "code",
      "execution_count": null,
      "metadata": {
        "colab": {
          "base_uri": "https://localhost:8080/"
        },
        "id": "5MYVaLWKDCwq",
        "outputId": "df677b61-1cd6-4286-ca60-14e6fda5d446"
      },
      "outputs": [
        {
          "output_type": "stream",
          "name": "stdout",
          "text": [
            "Collecting pydicom\n",
            "  Downloading pydicom-3.0.1-py3-none-any.whl.metadata (9.4 kB)\n",
            "Downloading pydicom-3.0.1-py3-none-any.whl (2.4 MB)\n",
            "\u001b[2K   \u001b[90m━━━━━━━━━━━━━━━━━━━━━━━━━━━━━━━━━━━━━━━━\u001b[0m \u001b[32m2.4/2.4 MB\u001b[0m \u001b[31m13.0 MB/s\u001b[0m eta \u001b[36m0:00:00\u001b[0m\n",
            "\u001b[?25hInstalling collected packages: pydicom\n",
            "Successfully installed pydicom-3.0.1\n"
          ]
        }
      ],
      "source": [
        "pip install pydicom"
      ]
    },
    {
      "cell_type": "code",
      "source": [
        "pip install numpy"
      ],
      "metadata": {
        "colab": {
          "base_uri": "https://localhost:8080/"
        },
        "id": "2dun1yb2DYBX",
        "outputId": "e4010dad-d965-425c-d8d8-62c19ae843f7"
      },
      "execution_count": null,
      "outputs": [
        {
          "output_type": "stream",
          "name": "stdout",
          "text": [
            "Requirement already satisfied: numpy in /usr/local/lib/python3.11/dist-packages (2.0.2)\n"
          ]
        }
      ]
    },
    {
      "cell_type": "code",
      "source": [
        "import numpy\n",
        "array([1,2,3])"
      ],
      "metadata": {
        "id": "BaxijIr5Dh62"
      },
      "execution_count": null,
      "outputs": []
    },
    {
      "cell_type": "code",
      "source": [
        "import numpy as np\n",
        "np.array([1,2,3])"
      ],
      "metadata": {
        "colab": {
          "base_uri": "https://localhost:8080/"
        },
        "id": "krlEQWIfDmPQ",
        "outputId": "4eac3249-ac33-4889-d560-78e39682019a"
      },
      "execution_count": null,
      "outputs": [
        {
          "output_type": "execute_result",
          "data": {
            "text/plain": [
              "array([1, 2, 3])"
            ]
          },
          "metadata": {},
          "execution_count": 5
        }
      ]
    },
    {
      "cell_type": "code",
      "source": [
        "numpy.array([1,2,3])"
      ],
      "metadata": {
        "id": "vkdl-h3lD3T4"
      },
      "execution_count": null,
      "outputs": []
    },
    {
      "cell_type": "code",
      "source": [
        "from numpy import array\n",
        "array([1,2,3])"
      ],
      "metadata": {
        "colab": {
          "base_uri": "https://localhost:8080/"
        },
        "id": "9-HFm6y2D7zr",
        "outputId": "d45c02d0-96bf-4106-89a6-0eda5e4a6da3"
      },
      "execution_count": null,
      "outputs": [
        {
          "output_type": "execute_result",
          "data": {
            "text/plain": [
              "array([1, 2, 3])"
            ]
          },
          "metadata": {},
          "execution_count": 6
        }
      ]
    },
    {
      "cell_type": "markdown",
      "source": [
        "QUESTÕES 1,2 e 3"
      ],
      "metadata": {
        "id": "gt08Ga5LFTV_"
      }
    },
    {
      "cell_type": "code",
      "source": [
        "#Definition of radius\n",
        "r = 0.43\n",
        "\n",
        "#Import the math package\n",
        "import math\n",
        "\n",
        "#Calculate C\n",
        "p = math.pi\n",
        "C = 2 * p * r\n",
        "print(C)\n",
        "\n",
        "#Calculate A\n",
        "A = p * r**2\n",
        "print(A)"
      ],
      "metadata": {
        "id": "EhfemAi2FS5v",
        "colab": {
          "base_uri": "https://localhost:8080/"
        },
        "outputId": "8d052881-b756-4b5d-a1a6-686123a2b887"
      },
      "execution_count": 9,
      "outputs": [
        {
          "output_type": "stream",
          "name": "stdout",
          "text": [
            "2.701769682087222\n",
            "0.5808804816487527\n"
          ]
        }
      ]
    },
    {
      "cell_type": "markdown",
      "source": [
        "Utilizando a biblioteca numpy"
      ],
      "metadata": {
        "id": "c5AhRiVqIOJ9"
      }
    },
    {
      "cell_type": "code",
      "source": [
        "height = [1.73, 1.68, 1.71, 1.89, 1.79]\n",
        "height"
      ],
      "metadata": {
        "id": "ycImajX-IL49"
      },
      "execution_count": null,
      "outputs": []
    },
    {
      "cell_type": "code",
      "source": [
        "weight = [65.4, 58.2, 63.6, 88.4, 68.7]\n",
        "weight"
      ],
      "metadata": {
        "id": "KNAvIizUIdoG"
      },
      "execution_count": null,
      "outputs": []
    },
    {
      "cell_type": "code",
      "source": [
        "weight / height ** 2"
      ],
      "metadata": {
        "id": "S_jj2zeBImjd"
      },
      "execution_count": null,
      "outputs": []
    },
    {
      "cell_type": "code",
      "source": [
        "import numpy as np\n",
        "np_height = np.array(height)\n",
        "np_height"
      ],
      "metadata": {
        "id": "Ej_8DWAxIrol"
      },
      "execution_count": null,
      "outputs": []
    },
    {
      "cell_type": "code",
      "source": [
        "np_weight = np.array(weight)\n",
        "np_weight"
      ],
      "metadata": {
        "id": "WNYdhYMpIzud"
      },
      "execution_count": null,
      "outputs": []
    },
    {
      "cell_type": "code",
      "source": [
        "bmi = np_weight / np_height ** 2\n",
        "bmi"
      ],
      "metadata": {
        "id": "BJ3HVlqNI5zl"
      },
      "execution_count": null,
      "outputs": []
    },
    {
      "cell_type": "markdown",
      "source": [
        "Operador soma em array e listas"
      ],
      "metadata": {
        "id": "VyRT-9KyJFlN"
      }
    },
    {
      "cell_type": "code",
      "source": [
        "python_list = [1, 2, 3]\n",
        "numpy_array = np.array([1, 2, 3])"
      ],
      "metadata": {
        "id": "AT3SyvPVI_jV"
      },
      "execution_count": null,
      "outputs": []
    },
    {
      "cell_type": "code",
      "source": [
        "python_list = python_list"
      ],
      "metadata": {
        "id": "1qCRa3edJUqN"
      },
      "execution_count": null,
      "outputs": []
    },
    {
      "cell_type": "code",
      "source": [
        "numpy_array + numpy_array"
      ],
      "metadata": {
        "id": "sF1aK9y-JXBV"
      },
      "execution_count": null,
      "outputs": []
    },
    {
      "cell_type": "markdown",
      "source": [
        "Analisando Arrays"
      ],
      "metadata": {
        "id": "ILQw3UhbJcBF"
      }
    },
    {
      "cell_type": "code",
      "source": [
        "bmi"
      ],
      "metadata": {
        "id": "1ebevayMJd-G"
      },
      "execution_count": null,
      "outputs": []
    },
    {
      "cell_type": "code",
      "source": [
        "bmi[1]"
      ],
      "metadata": {
        "id": "rBQ429RKJfaQ"
      },
      "execution_count": null,
      "outputs": []
    },
    {
      "cell_type": "code",
      "source": [
        "bmi > 23"
      ],
      "metadata": {
        "id": "WM7gRVphJmS2"
      },
      "execution_count": null,
      "outputs": []
    },
    {
      "cell_type": "code",
      "source": [
        "bmi[bmi > 23]"
      ],
      "metadata": {
        "id": "18_--gswJoYl"
      },
      "execution_count": null,
      "outputs": []
    },
    {
      "cell_type": "markdown",
      "source": [
        "Modificando arrays"
      ],
      "metadata": {
        "id": "wplF-ZgLJy31"
      }
    },
    {
      "cell_type": "code",
      "source": [
        "np_2d = np.array([[1.73, 1.68, 1.71, 1.89, 1.79],\n",
        "                 [65.4, 59.2, 63.6, 88.4, 68.7]])\n",
        "np_2d"
      ],
      "metadata": {
        "id": "1MgCmnqfJ3vQ"
      },
      "execution_count": null,
      "outputs": []
    },
    {
      "cell_type": "code",
      "source": [
        "np_2d.shape"
      ],
      "metadata": {
        "colab": {
          "base_uri": "https://localhost:8080/"
        },
        "id": "RjYrwkANKZI1",
        "outputId": "8b4500e1-2905-49dc-d804-4ca65f56bae5"
      },
      "execution_count": 31,
      "outputs": [
        {
          "output_type": "execute_result",
          "data": {
            "text/plain": [
              "(1, 5)"
            ]
          },
          "metadata": {},
          "execution_count": 31
        }
      ]
    },
    {
      "cell_type": "markdown",
      "source": [
        "Testes"
      ],
      "metadata": {
        "id": "VdYS9beHKydV"
      }
    },
    {
      "cell_type": "code",
      "source": [
        "np_2d = np.array([[1.73, 1.68, 1.71, 1.89, 1.79]])\n",
        "np_2d"
      ],
      "metadata": {
        "colab": {
          "base_uri": "https://localhost:8080/"
        },
        "id": "bRakHvczLhiN",
        "outputId": "3948d216-178f-4637-ef95-6542993e4356"
      },
      "execution_count": 22,
      "outputs": [
        {
          "output_type": "execute_result",
          "data": {
            "text/plain": [
              "array([[1.73, 1.68, 1.71, 1.89, 1.79]])"
            ]
          },
          "metadata": {},
          "execution_count": 22
        }
      ]
    },
    {
      "cell_type": "code",
      "source": [
        "np_2d = np.array([[1.73, 1.68, 1.71, 1.89, 1.79],\n",
        "                 [65.4, 59.2, 63.6, 88.4, 68.7],\n",
        "                  [1.09]])\n",
        "np_2d.shape\n",
        "#Não é possivel pois o programa requer uma sequencia que é definida na primeiralinha e ele não interpreta apenas um numero como linha\n",
        "#Forma correta:\n",
        "np_2d = np.array([[1.73, 1.68, 1.71, 1.89, 1.79],\n",
        "                 [65.4, 59.2, 63.6, 88.4, 68.7],\n",
        "                  [1.09, 10, 1, 2 ,3]])"
      ],
      "metadata": {
        "colab": {
          "base_uri": "https://localhost:8080/"
        },
        "id": "T12aiFcXKb5l",
        "outputId": "56d56db8-00d2-4c9a-b962-fa9c5da81092"
      },
      "execution_count": 18,
      "outputs": [
        {
          "output_type": "execute_result",
          "data": {
            "text/plain": [
              "(3, 5)"
            ]
          },
          "metadata": {},
          "execution_count": 18
        }
      ]
    },
    {
      "cell_type": "markdown",
      "source": [
        "Acessando os elementos de um array"
      ],
      "metadata": {
        "id": "cftaCv6MMKvc"
      }
    },
    {
      "cell_type": "code",
      "source": [
        "np_2d[0]\n",
        "np_2d[2]"
      ],
      "metadata": {
        "colab": {
          "base_uri": "https://localhost:8080/"
        },
        "id": "OXuS4MO9MJ3-",
        "outputId": "08c1f9d0-18ad-4f02-93fb-bd3de716aaa3"
      },
      "execution_count": 23,
      "outputs": [
        {
          "output_type": "execute_result",
          "data": {
            "text/plain": [
              "array([1.73, 1.68, 1.71, 1.89, 1.79])"
            ]
          },
          "metadata": {},
          "execution_count": 23
        }
      ]
    },
    {
      "cell_type": "code",
      "source": [
        "np_2d[0][2]\n",
        "np_2d[1][2]"
      ],
      "metadata": {
        "id": "cni6Kdl9MTBN"
      },
      "execution_count": null,
      "outputs": []
    },
    {
      "cell_type": "code",
      "source": [
        "np_2d[0, 2]\n",
        "np_2d[1, 4]"
      ],
      "metadata": {
        "colab": {
          "base_uri": "https://localhost:8080/"
        },
        "id": "0SOfUBcUMUxc",
        "outputId": "2bcf2a81-46a2-4c5b-c2a9-6160aedc5f77"
      },
      "execution_count": 24,
      "outputs": [
        {
          "output_type": "execute_result",
          "data": {
            "text/plain": [
              "np.float64(1.71)"
            ]
          },
          "metadata": {},
          "execution_count": 24
        }
      ]
    },
    {
      "cell_type": "code",
      "source": [
        "np_2d[:, 1:3]"
      ],
      "metadata": {
        "colab": {
          "base_uri": "https://localhost:8080/"
        },
        "id": "LwUXmvZLMnTU",
        "outputId": "b6251948-90ff-4ccc-d19a-d26ebadb9105"
      },
      "execution_count": 26,
      "outputs": [
        {
          "output_type": "execute_result",
          "data": {
            "text/plain": [
              "array([[1.68, 1.71]])"
            ]
          },
          "metadata": {},
          "execution_count": 26
        }
      ]
    },
    {
      "cell_type": "code",
      "source": [
        "np_2d[0, :]"
      ],
      "metadata": {
        "colab": {
          "base_uri": "https://localhost:8080/"
        },
        "id": "f6ieem4JMwkM",
        "outputId": "338ac7ba-48e4-451a-85e1-4e89b1646b1f"
      },
      "execution_count": 30,
      "outputs": [
        {
          "output_type": "execute_result",
          "data": {
            "text/plain": [
              "array([1.73, 1.68, 1.71, 1.89, 1.79])"
            ]
          },
          "metadata": {},
          "execution_count": 30
        }
      ]
    },
    {
      "cell_type": "markdown",
      "source": [
        "QUESTÕES 1,2,3 e 4"
      ],
      "metadata": {
        "id": "iKGdyEPSG-Yt"
      }
    },
    {
      "cell_type": "code",
      "source": [
        "#Create list baseball\n",
        "baseball = [180, 215, 210, 210, 188, 176, 209, 200]\n",
        "\n",
        "#Import the numpy package as np\n",
        "import numpy as np\n",
        "\n",
        "#Create a numpy array from baseball:\n",
        "#np_baseball\n",
        "np_baseball = np.array([baseball])\n",
        "\n",
        "#Print out type of np_baseball\n",
        "type(np_baseball)\n"
      ],
      "metadata": {
        "colab": {
          "base_uri": "https://localhost:8080/"
        },
        "id": "CRdv9G_fG97d",
        "outputId": "dbcc1321-4fdc-40c4-b840-e605103dbaf8"
      },
      "execution_count": 10,
      "outputs": [
        {
          "output_type": "execute_result",
          "data": {
            "text/plain": [
              "numpy.ndarray"
            ]
          },
          "metadata": {},
          "execution_count": 10
        }
      ]
    }
  ]
}