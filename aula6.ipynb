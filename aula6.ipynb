{
  "nbformat": 4,
  "nbformat_minor": 0,
  "metadata": {
    "colab": {
      "provenance": [],
      "authorship_tag": "ABX9TyPGosZnEETbPs3q3vb1SfK2",
      "include_colab_link": true
    },
    "kernelspec": {
      "name": "python3",
      "display_name": "Python 3"
    },
    "language_info": {
      "name": "python"
    }
  },
  "cells": [
    {
      "cell_type": "markdown",
      "metadata": {
        "id": "view-in-github",
        "colab_type": "text"
      },
      "source": [
        "<a href=\"https://colab.research.google.com/github/alysonbz/lab_prog_si/blob/gabriel_coelho/aula6.ipynb\" target=\"_parent\"><img src=\"https://colab.research.google.com/assets/colab-badge.svg\" alt=\"Open In Colab\"/></a>"
      ]
    },
    {
      "cell_type": "markdown",
      "source": [
        "#MÉTODOS DE LISTAS"
      ],
      "metadata": {
        "id": "vFGQOozeNOc1"
      }
    },
    {
      "cell_type": "code",
      "source": [
        "fam = ['Gabriel', 19, 'Lilian', 45, 'Francisco', 31, 'Abel', 4]\n",
        "fam"
      ],
      "metadata": {
        "colab": {
          "base_uri": "https://localhost:8080/"
        },
        "id": "bjLN55AGNXmn",
        "outputId": "a87290f6-eecf-4d34-f11c-ce0b073b1c33"
      },
      "execution_count": null,
      "outputs": [
        {
          "output_type": "execute_result",
          "data": {
            "text/plain": [
              "['Gabriel', 19, 'Lilian', 45, 'Francisco', 31, 'Abel', 4]"
            ]
          },
          "metadata": {},
          "execution_count": 4
        }
      ]
    },
    {
      "cell_type": "code",
      "source": [
        "#ACHANDO A POSIÇÃO DE UM ELEMENTO DENTRO DA LISTA\n",
        "fam.index('Abel')"
      ],
      "metadata": {
        "colab": {
          "base_uri": "https://localhost:8080/"
        },
        "id": "9Y9u-pXzNyaj",
        "outputId": "94824344-39dc-411e-f4c1-c921708aebb4"
      },
      "execution_count": null,
      "outputs": [
        {
          "output_type": "execute_result",
          "data": {
            "text/plain": [
              "6"
            ]
          },
          "metadata": {},
          "execution_count": 5
        }
      ]
    },
    {
      "cell_type": "code",
      "source": [
        "#ACHANDO A POSIÇÃO DA IDADE DO MEU ELEMENTO\n",
        "fam.count(4)"
      ],
      "metadata": {
        "colab": {
          "base_uri": "https://localhost:8080/"
        },
        "id": "u4lSaVAqOAIx",
        "outputId": "111ee77d-67b8-4822-8c26-076d38565dc7"
      },
      "execution_count": null,
      "outputs": [
        {
          "output_type": "execute_result",
          "data": {
            "text/plain": [
              "1"
            ]
          },
          "metadata": {},
          "execution_count": 10
        }
      ]
    },
    {
      "cell_type": "code",
      "source": [
        "#ADICIONANDO ELEMENTO NA LISTA\n",
        "fam.append('Felipe')\n",
        "fam"
      ],
      "metadata": {
        "colab": {
          "base_uri": "https://localhost:8080/"
        },
        "id": "1qDiwN54Onhv",
        "outputId": "89ba6df8-cc5c-421f-9859-74a12c01d3aa"
      },
      "execution_count": null,
      "outputs": [
        {
          "output_type": "execute_result",
          "data": {
            "text/plain": [
              "['Gabriel', 19, 'Lilian', 45, 'Francisco', 31, 'Abel', 4, 'Felipe']"
            ]
          },
          "metadata": {},
          "execution_count": 11
        }
      ]
    },
    {
      "cell_type": "code",
      "source": [
        "#ADICIONANDO A IDADE DO ELEMENTO ADICIONADO\n",
        "fam.append(5)\n",
        "fam"
      ],
      "metadata": {
        "colab": {
          "base_uri": "https://localhost:8080/"
        },
        "id": "PrWYts7oOyyN",
        "outputId": "58c27f1d-3af6-4be7-aac6-b9b83975d44b"
      },
      "execution_count": null,
      "outputs": [
        {
          "output_type": "execute_result",
          "data": {
            "text/plain": [
              "['Gabriel', 19, 'Lilian', 45, 'Francisco', 31, 'Abel', 4, 'Felipe', 5]"
            ]
          },
          "metadata": {},
          "execution_count": 12
        }
      ]
    },
    {
      "cell_type": "code",
      "source": [
        "#REESCREVENDO O ELEMENTO EM LETRA MAIÚSCULA\n",
        "mom = 'lilian'\n",
        "mom.capitalize()"
      ],
      "metadata": {
        "colab": {
          "base_uri": "https://localhost:8080/",
          "height": 35
        },
        "id": "5EfSc24yO-zq",
        "outputId": "2dc8d215-6ad4-4917-81d2-91259b743442"
      },
      "execution_count": null,
      "outputs": [
        {
          "output_type": "execute_result",
          "data": {
            "text/plain": [
              "'Lilian'"
            ],
            "application/vnd.google.colaboratory.intrinsic+json": {
              "type": "string"
            }
          },
          "metadata": {},
          "execution_count": 14
        }
      ]
    },
    {
      "cell_type": "code",
      "source": [
        "#MODIFICANDO ALGUMA LETRA DO MEU ELEMENTO\n",
        "mom.replace('n', 'm')"
      ],
      "metadata": {
        "colab": {
          "base_uri": "https://localhost:8080/",
          "height": 35
        },
        "id": "JMwRqTMgPT-p",
        "outputId": "2d4fbc79-c320-4ceb-d8c8-977be1d57c1d"
      },
      "execution_count": null,
      "outputs": [
        {
          "output_type": "execute_result",
          "data": {
            "text/plain": [
              "'liliam'"
            ],
            "application/vnd.google.colaboratory.intrinsic+json": {
              "type": "string"
            }
          },
          "metadata": {},
          "execution_count": 17
        }
      ]
    }
  ]
}