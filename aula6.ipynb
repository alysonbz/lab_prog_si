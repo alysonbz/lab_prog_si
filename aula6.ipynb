{
  "nbformat": 4,
  "nbformat_minor": 0,
  "metadata": {
    "colab": {
      "provenance": [],
      "authorship_tag": "ABX9TyMPd2TU+oa8M1XzKKII0rRG",
      "include_colab_link": true
    },
    "kernelspec": {
      "name": "python3",
      "display_name": "Python 3"
    },
    "language_info": {
      "name": "python"
    }
  },
  "cells": [
    {
      "cell_type": "markdown",
      "metadata": {
        "id": "view-in-github",
        "colab_type": "text"
      },
      "source": [
        "<a href=\"https://colab.research.google.com/github/alysonbz/lab_prog_si/blob/Emanuel_Oliveira/aula6.ipynb\" target=\"_parent\"><img src=\"https://colab.research.google.com/assets/colab-badge.svg\" alt=\"Open In Colab\"/></a>"
      ]
    },
    {
      "cell_type": "markdown",
      "source": [
        "Métodos: Funções que pertencem a objetos\n"
      ],
      "metadata": {
        "id": "RjlvOmQNNK2T"
      }
    },
    {
      "cell_type": "markdown",
      "source": [
        "Métodos de listas"
      ],
      "metadata": {
        "id": "iD7v0TYeQa7B"
      }
    },
    {
      "cell_type": "code",
      "source": [
        "sister = \"liz\""
      ],
      "metadata": {
        "id": "Cg-vw_L-NOY6"
      },
      "execution_count": 1,
      "outputs": []
    },
    {
      "cell_type": "code",
      "source": [
        "height = 1.73"
      ],
      "metadata": {
        "id": "8xpBAQ8mOAjJ"
      },
      "execution_count": 2,
      "outputs": []
    },
    {
      "cell_type": "code",
      "source": [
        "fam = [\"liz\",1.73, \"emma\", 1.68, \"mom\", 1.71, \"dad\", 1.89]"
      ],
      "metadata": {
        "id": "GL4-VrymOIPx"
      },
      "execution_count": 18,
      "outputs": []
    },
    {
      "cell_type": "code",
      "source": [
        "fam"
      ],
      "metadata": {
        "colab": {
          "base_uri": "https://localhost:8080/"
        },
        "id": "wIG3odpmOZTB",
        "outputId": "09e583c9-1620-4000-acad-b525f2619da5"
      },
      "execution_count": 4,
      "outputs": [
        {
          "output_type": "execute_result",
          "data": {
            "text/plain": [
              "['liz', 1.73, 'emma', 1.68, 'mom', 1.71, 'dad', 1.89]"
            ]
          },
          "metadata": {},
          "execution_count": 4
        }
      ]
    },
    {
      "cell_type": "code",
      "source": [
        "fam.index(\"mom\")"
      ],
      "metadata": {
        "colab": {
          "base_uri": "https://localhost:8080/"
        },
        "id": "xfE8rsgvOhNz",
        "outputId": "97507895-ea72-4ffb-ee25-095b07999229"
      },
      "execution_count": 5,
      "outputs": [
        {
          "output_type": "execute_result",
          "data": {
            "text/plain": [
              "4"
            ]
          },
          "metadata": {},
          "execution_count": 5
        }
      ]
    },
    {
      "cell_type": "code",
      "source": [
        "fam.count(1.73)"
      ],
      "metadata": {
        "colab": {
          "base_uri": "https://localhost:8080/"
        },
        "id": "0rmHRb6BOngB",
        "outputId": "11dd33b6-1467-4f73-faf9-73e183d41bb5"
      },
      "execution_count": 10,
      "outputs": [
        {
          "output_type": "execute_result",
          "data": {
            "text/plain": [
              "1"
            ]
          },
          "metadata": {},
          "execution_count": 10
        }
      ]
    },
    {
      "cell_type": "code",
      "source": [
        "fam.append(\"me\")"
      ],
      "metadata": {
        "id": "d0Aq0EGEPHsz"
      },
      "execution_count": 23,
      "outputs": []
    },
    {
      "cell_type": "code",
      "source": [
        "fam.append(1.79)"
      ],
      "metadata": {
        "id": "OE6MGEf1PM-J"
      },
      "execution_count": 24,
      "outputs": []
    },
    {
      "cell_type": "code",
      "source": [
        "fam"
      ],
      "metadata": {
        "colab": {
          "base_uri": "https://localhost:8080/"
        },
        "id": "MgomT1yAPRLJ",
        "outputId": "e143e6c5-f67b-47fa-9e40-f57e1599f768"
      },
      "execution_count": 25,
      "outputs": [
        {
          "output_type": "execute_result",
          "data": {
            "text/plain": [
              "['liz', 1.73, 'emma', 1.68, 'mom', 1.71, 'dad', 1.89, 'me', 1.79, 'me', 1.79]"
            ]
          },
          "metadata": {},
          "execution_count": 25
        }
      ]
    },
    {
      "cell_type": "markdown",
      "source": [
        "Métodos de string\n"
      ],
      "metadata": {
        "id": "WKKuO9ecQi3s"
      }
    },
    {
      "cell_type": "code",
      "source": [
        "sister"
      ],
      "metadata": {
        "colab": {
          "base_uri": "https://localhost:8080/",
          "height": 36
        },
        "id": "8Dq-QpX5Qlaq",
        "outputId": "025584df-2e85-45e2-d5a3-e40d8eb208b3"
      },
      "execution_count": 26,
      "outputs": [
        {
          "output_type": "execute_result",
          "data": {
            "text/plain": [
              "'liz'"
            ],
            "application/vnd.google.colaboratory.intrinsic+json": {
              "type": "string"
            }
          },
          "metadata": {},
          "execution_count": 26
        }
      ]
    },
    {
      "cell_type": "code",
      "source": [
        "sister.capitalize()"
      ],
      "metadata": {
        "colab": {
          "base_uri": "https://localhost:8080/",
          "height": 36
        },
        "id": "54o3Nl59QpAJ",
        "outputId": "9b2b7d81-ed4c-4364-aef0-3d4784369300"
      },
      "execution_count": 27,
      "outputs": [
        {
          "output_type": "execute_result",
          "data": {
            "text/plain": [
              "'Liz'"
            ],
            "application/vnd.google.colaboratory.intrinsic+json": {
              "type": "string"
            }
          },
          "metadata": {},
          "execution_count": 27
        }
      ]
    },
    {
      "cell_type": "code",
      "source": [
        "sister.upper()"
      ],
      "metadata": {
        "colab": {
          "base_uri": "https://localhost:8080/",
          "height": 36
        },
        "id": "ZubTXY70Rxsy",
        "outputId": "0b2b343c-f4f9-4575-ba51-242c3dfc7a8f"
      },
      "execution_count": 29,
      "outputs": [
        {
          "output_type": "execute_result",
          "data": {
            "text/plain": [
              "'LIZ'"
            ],
            "application/vnd.google.colaboratory.intrinsic+json": {
              "type": "string"
            }
          },
          "metadata": {},
          "execution_count": 29
        }
      ]
    },
    {
      "cell_type": "code",
      "source": [
        "sister.replace(\"z\",\"sa\")"
      ],
      "metadata": {
        "colab": {
          "base_uri": "https://localhost:8080/",
          "height": 36
        },
        "id": "qFEOFikWQvGw",
        "outputId": "4af292dc-7e97-4d07-fac2-79f63a6a94b7"
      },
      "execution_count": 28,
      "outputs": [
        {
          "output_type": "execute_result",
          "data": {
            "text/plain": [
              "'lisa'"
            ],
            "application/vnd.google.colaboratory.intrinsic+json": {
              "type": "string"
            }
          },
          "metadata": {},
          "execution_count": 28
        }
      ]
    },
    {
      "cell_type": "markdown",
      "source": [
        "1). Use o método upper() acessível pela variável place na linha 5 e armazene a saída do método em uma nova variável, place_up\n",
        "\n",
        "2). Realize o print de place e place_up nas linhas 8 e 9\n",
        "\n",
        "3). Usando o método count, realize a contagem de quantas letras \"o\" tem na variável place."
      ],
      "metadata": {
        "id": "zmqPYhJsLuWb"
      }
    },
    {
      "cell_type": "code",
      "execution_count": 32,
      "metadata": {
        "colab": {
          "base_uri": "https://localhost:8080/"
        },
        "id": "D10aAM1NKgE4",
        "outputId": "37d028a3-e050-45b7-d94d-b91fcf4a1a8d"
      },
      "outputs": [
        {
          "output_type": "stream",
          "name": "stdout",
          "text": [
            "POOLHOUSE\n"
          ]
        },
        {
          "output_type": "execute_result",
          "data": {
            "text/plain": [
              "3"
            ]
          },
          "metadata": {},
          "execution_count": 32
        }
      ],
      "source": [
        "#string to experiment with: place\n",
        "place = \"poolhouse\"\n",
        "#use upper() on place: place_up\n",
        "place.upper()\n",
        "place_up = place.upper()\n",
        "#print out place and place_up\n",
        "print(place_up)\n",
        "#print out the number of o´s in place\n",
        "place.count(\"o\")"
      ]
    },
    {
      "cell_type": "markdown",
      "source": [
        "4) Na linha 5 print o index que contem o numero 20 com o método index().\n",
        "\n",
        "5)Usando o método count(), mostre via print o numero de vezes que 9.5 aparece na lista.\n"
      ],
      "metadata": {
        "id": "B4X-EK6xTBGK"
      }
    },
    {
      "cell_type": "code",
      "source": [
        "#cerate list areas\n",
        "areas = [11.25, 18.0, 20.0, 10.75, 9.50]\n",
        "#print out the index of the element 20.0\n",
        "print(areas.index(20.0))\n",
        "#print out how often 9.50 appers in areas\n",
        "print(areas.count(9.50))"
      ],
      "metadata": {
        "colab": {
          "base_uri": "https://localhost:8080/"
        },
        "id": "ekFWk2KyTDYZ",
        "outputId": "fd737ea8-3e17-42f7-9a40-494ef7f6a346"
      },
      "execution_count": 38,
      "outputs": [
        {
          "output_type": "stream",
          "name": "stdout",
          "text": [
            "2\n",
            "1\n"
          ]
        }
      ]
    },
    {
      "cell_type": "markdown",
      "source": [
        "6) Na linha 7 use o método append() duas vezes para incluir os números 24.5 e 15.25 no fim da lista.\n",
        "\n",
        "7) print a lista areas na Linha 8\n",
        "\n",
        "8) Use o método reverse() da lista para trocar a ordem dos elementos da lista.\n",
        "\n",
        "9)  Print novamente a ista areas\n"
      ],
      "metadata": {
        "id": "zRKeDBCDXBA3"
      }
    },
    {
      "cell_type": "code",
      "source": [
        "#cerate list areas\n",
        "areas = [11.25, 18.0, 20.0, 10.75, 9.50]\n",
        "#use append twice to add poolhouse and garage size\n",
        "areas.append(24.5)\n",
        "areas.append(15.25)\n",
        "#print out areas\n",
        "print(areas)\n",
        "#reverse the orders of the elements in areas\n",
        "areas.reverse()\n",
        "#print out areas\n",
        "print(areas)"
      ],
      "metadata": {
        "colab": {
          "base_uri": "https://localhost:8080/"
        },
        "id": "sVaOsuNbXEA_",
        "outputId": "a3b5e337-9f04-4385-ca55-5d02ebf4cc04"
      },
      "execution_count": 9,
      "outputs": [
        {
          "output_type": "stream",
          "name": "stdout",
          "text": [
            "[11.25, 18.0, 20.0, 10.75, 9.5, 24.5, 15.25]\n",
            "[15.25, 24.5, 9.5, 10.75, 20.0, 18.0, 11.25]\n"
          ]
        }
      ]
    }
  ]
}