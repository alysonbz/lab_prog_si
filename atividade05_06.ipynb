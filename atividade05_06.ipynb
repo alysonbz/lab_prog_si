{
  "nbformat": 4,
  "nbformat_minor": 0,
  "metadata": {
    "colab": {
      "provenance": [],
      "authorship_tag": "ABX9TyOeTqEo63TsQqY1ZKAz9YlF",
      "include_colab_link": true
    },
    "kernelspec": {
      "name": "python3",
      "display_name": "Python 3"
    },
    "language_info": {
      "name": "python"
    }
  },
  "cells": [
    {
      "cell_type": "markdown",
      "metadata": {
        "id": "view-in-github",
        "colab_type": "text"
      },
      "source": [
        "<a href=\"https://colab.research.google.com/github/alysonbz/lab_prog_si/blob/kauan_lima/atividade05_06.ipynb\" target=\"_parent\"><img src=\"https://colab.research.google.com/assets/colab-badge.svg\" alt=\"Open In Colab\"/></a>"
      ]
    },
    {
      "cell_type": "markdown",
      "source": [
        "Pratique"
      ],
      "metadata": {
        "id": "S4mICEF8awdY"
      }
    },
    {
      "cell_type": "code",
      "source": [
        "#pratique\n",
        "baseball= [[180, 78.4],\n",
        "          [215, 102.7],\n",
        "          [210, 98.5],\n",
        "          [188, 75.2]]\n",
        "import numpy as np\n",
        "np_baseball= np.array(baseball)"
      ],
      "metadata": {
        "id": "ATsJyyqoReXU"
      },
      "execution_count": 23,
      "outputs": []
    },
    {
      "cell_type": "code",
      "source": [
        "#1\n",
        "print(np_baseball[2])"
      ],
      "metadata": {
        "colab": {
          "base_uri": "https://localhost:8080/"
        },
        "id": "vNJF43oRTf6G",
        "outputId": "a4a58540-fdea-4047-dde1-e15683024954"
      },
      "execution_count": 21,
      "outputs": [
        {
          "output_type": "stream",
          "name": "stdout",
          "text": [
            "[210.   98.5]\n"
          ]
        }
      ]
    },
    {
      "cell_type": "code",
      "source": [
        "#2\n",
        "np_weight_lb=np_baseball[:,1]\n",
        "print(np_weight_lb)"
      ],
      "metadata": {
        "colab": {
          "base_uri": "https://localhost:8080/"
        },
        "id": "3P3dPdnjXR2b",
        "outputId": "9fc45615-6e22-4b77-982e-d25756d1c880"
      },
      "execution_count": 22,
      "outputs": [
        {
          "output_type": "stream",
          "name": "stdout",
          "text": [
            "[ 78.4 102.7  98.5  75.2]\n"
          ]
        }
      ]
    },
    {
      "cell_type": "code",
      "source": [
        "#3\n",
        "heights = np_baseball[:, 0]\n",
        "print(heights)"
      ],
      "metadata": {
        "colab": {
          "base_uri": "https://localhost:8080/"
        },
        "id": "WZ1K6CUVX1bK",
        "outputId": "22a9caed-c2b5-4f8b-870e-bb37b6b704b4"
      },
      "execution_count": 26,
      "outputs": [
        {
          "output_type": "stream",
          "name": "stdout",
          "text": [
            "[180. 215. 210. 188.]\n"
          ]
        }
      ]
    },
    {
      "cell_type": "code",
      "source": [
        "#4\n",
        "np.average(np_baseball[:,0])"
      ],
      "metadata": {
        "colab": {
          "base_uri": "https://localhost:8080/"
        },
        "id": "awbBs_iUYylC",
        "outputId": "c2529cbc-9615-4779-9a6d-1bc045adefec"
      },
      "execution_count": 28,
      "outputs": [
        {
          "output_type": "execute_result",
          "data": {
            "text/plain": [
              "np.float64(198.25)"
            ]
          },
          "metadata": {},
          "execution_count": 28
        }
      ]
    },
    {
      "cell_type": "code",
      "source": [
        "#5\n",
        "np.median(np_baseball[:,1])"
      ],
      "metadata": {
        "colab": {
          "base_uri": "https://localhost:8080/"
        },
        "id": "O62ktxEOZRH6",
        "outputId": "7adccd65-ed40-42e5-c1e6-55c78aeeeaff"
      },
      "execution_count": 29,
      "outputs": [
        {
          "output_type": "execute_result",
          "data": {
            "text/plain": [
              "np.float64(88.45)"
            ]
          },
          "metadata": {},
          "execution_count": 29
        }
      ]
    }
  ]
}