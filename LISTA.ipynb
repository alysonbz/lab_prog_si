{
  "nbformat": 4,
  "nbformat_minor": 0,
  "metadata": {
    "colab": {
      "provenance": [],
      "authorship_tag": "ABX9TyPvZLVUuU+kSsXHDVFlTSK2",
      "include_colab_link": true
    },
    "kernelspec": {
      "name": "python3",
      "display_name": "Python 3"
    },
    "language_info": {
      "name": "python"
    }
  },
  "cells": [
    {
      "cell_type": "markdown",
      "metadata": {
        "id": "view-in-github",
        "colab_type": "text"
      },
      "source": [
        "<a href=\"https://colab.research.google.com/github/alysonbz/lab_prog_si/blob/joao_victor/LISTA.ipynb\" target=\"_parent\"><img src=\"https://colab.research.google.com/assets/colab-badge.svg\" alt=\"Open In Colab\"/></a>"
      ]
    },
    {
      "cell_type": "code",
      "execution_count": null,
      "metadata": {
        "colab": {
          "base_uri": "https://localhost:8080/"
        },
        "id": "9zm25EWG0Luw",
        "outputId": "0932c3ec-ebfa-47ce-d827-4895eeabc13e"
      },
      "outputs": [
        {
          "output_type": "execute_result",
          "data": {
            "text/plain": [
              "[1.73, 1.68, 1.71, 1.89]"
            ]
          },
          "metadata": {},
          "execution_count": 3
        }
      ],
      "source": [
        "fam = [h1, h2, h3, h4]\n",
        "fam"
      ]
    },
    {
      "cell_type": "code",
      "source": [
        "fam = ['Liz', 1.73, 'emma', 1.68, 'mom', 1.71, 'dad', 1.89]\n",
        "fam"
      ],
      "metadata": {
        "colab": {
          "base_uri": "https://localhost:8080/"
        },
        "id": "DejGECGE1WpJ",
        "outputId": "e22aa514-09c2-4f61-b22e-61a0c2da3c0f"
      },
      "execution_count": null,
      "outputs": [
        {
          "output_type": "execute_result",
          "data": {
            "text/plain": [
              "['Liz', 1.73, 'emma', 1.68, 'mom', 1.71, 'dad', 1.89]"
            ]
          },
          "metadata": {},
          "execution_count": 4
        }
      ]
    },
    {
      "cell_type": "code",
      "source": [
        "fam2 = [['Liz', 1.73],\n",
        " ['emma', 1.68],\n",
        "  ['mom', 1.71],\n",
        "   ['dad', 1.89]]\n",
        "fam2"
      ],
      "metadata": {
        "colab": {
          "base_uri": "https://localhost:8080/"
        },
        "id": "Q3k4hELP2Flw",
        "outputId": "2d1f4d00-4d8e-4d64-8aa2-0cc28e646571"
      },
      "execution_count": null,
      "outputs": [
        {
          "output_type": "execute_result",
          "data": {
            "text/plain": [
              "[['Liz', 1.73], ['emma', 1.68], ['mom', 1.71], ['dad', 1.89]]"
            ]
          },
          "metadata": {},
          "execution_count": 6
        }
      ]
    },
    {
      "cell_type": "code",
      "source": [
        "#pratica 1\n",
        "hall = 11.25\n",
        "kit = 18.0\n",
        "liv = 20.0\n",
        "bed = 10.75\n",
        "bath = 9.50\n",
        "\n",
        "areas = [ hall, kit, liv, bed, bath]\n",
        "print(areas)"
      ],
      "metadata": {
        "colab": {
          "base_uri": "https://localhost:8080/"
        },
        "id": "V6X6Q1rD2feW",
        "outputId": "04d2718e-1e08-493c-b5a9-336c082d5d43"
      },
      "execution_count": null,
      "outputs": [
        {
          "output_type": "stream",
          "name": "stdout",
          "text": [
            "[11.25, 18.0, 20.0, 10.75, 9.5]\n"
          ]
        }
      ]
    },
    {
      "cell_type": "code",
      "source": [
        "#todas estão certas\n",
        "#estam entre colchetes\n",
        "# possuem\n",
        "fam = [1 + 2, \"a\" * 5, 3]\n",
        "fam"
      ],
      "metadata": {
        "colab": {
          "base_uri": "https://localhost:8080/"
        },
        "id": "6Scb3lxI3MlG",
        "outputId": "2cb9349f-b863-485e-99b1-4cab0bb93668"
      },
      "execution_count": null,
      "outputs": [
        {
          "output_type": "execute_result",
          "data": {
            "text/plain": [
              "[3, 'aaaaa', 3]"
            ]
          },
          "metadata": {},
          "execution_count": 2
        }
      ]
    },
    {
      "cell_type": "code",
      "source": [
        "hall = 11.25\n",
        "kit = 18.0\n",
        "liv = 20.0\n",
        "bed = 10.75\n",
        "bath = 9.50\n",
        "\n",
        "house = [[\"hallway\", hall],\n",
        "         [\"kitchen\", kit],\n",
        "         [\"living room\", liv]]\n",
        "print(house)\n",
        "\n",
        "print(type(house))"
      ],
      "metadata": {
        "colab": {
          "base_uri": "https://localhost:8080/"
        },
        "id": "bH-f6pRT7MUH",
        "outputId": "f3fd448b-4fbf-4a92-a6c6-4439aec3d34c"
      },
      "execution_count": null,
      "outputs": [
        {
          "output_type": "stream",
          "name": "stdout",
          "text": [
            "[['hallway', 11.25], ['kitchen', 18.0], ['living room', 20.0]]\n",
            "<class 'list'>\n"
          ]
        }
      ]
    },
    {
      "cell_type": "code",
      "source": [
        "fam = ['Liz', 1.73, 'emma', 1.68, 'mom', 1.71, 'dad', 1.89]\n",
        "fam [3]"
      ],
      "metadata": {
        "colab": {
          "base_uri": "https://localhost:8080/"
        },
        "id": "MCJUcEJC7xl1",
        "outputId": "8c70013d-5a2f-495f-b690-8f60b6e4bd66"
      },
      "execution_count": null,
      "outputs": [
        {
          "output_type": "execute_result",
          "data": {
            "text/plain": [
              "1.68"
            ]
          },
          "metadata": {},
          "execution_count": 14
        }
      ]
    },
    {
      "cell_type": "code",
      "source": [
        "fam = ['Liz', 1.73, 'emma', 1.68, 'mom', 1.71, 'dad', 1.89]\n",
        "fam [-2]"
      ],
      "metadata": {
        "colab": {
          "base_uri": "https://localhost:8080/",
          "height": 35
        },
        "id": "QIL1cc5G9Gmi",
        "outputId": "990f0e87-20fe-44b1-b914-45d82e7c4765"
      },
      "execution_count": null,
      "outputs": [
        {
          "output_type": "execute_result",
          "data": {
            "text/plain": [
              "'dad'"
            ],
            "application/vnd.google.colaboratory.intrinsic+json": {
              "type": "string"
            }
          },
          "metadata": {},
          "execution_count": 16
        }
      ]
    },
    {
      "cell_type": "code",
      "source": [
        "fam = ['Liz', 1.73, 'emma', 1.68, 'mom', 1.71, 'dad', 1.89]\n",
        "fam [4:]"
      ],
      "metadata": {
        "colab": {
          "base_uri": "https://localhost:8080/"
        },
        "id": "f_TkYsXI9TyK",
        "outputId": "773a4824-2e89-4d4b-f6a8-68d3485db859"
      },
      "execution_count": null,
      "outputs": [
        {
          "output_type": "execute_result",
          "data": {
            "text/plain": [
              "['mom', 1.71, 'dad', 1.89]"
            ]
          },
          "metadata": {},
          "execution_count": 17
        }
      ]
    },
    {
      "cell_type": "code",
      "source": [
        "alunos = ['victor', 'erick', 'gustavo']\n",
        "alunos.append ('victor')\n",
        "alunos\n"
      ],
      "metadata": {
        "colab": {
          "base_uri": "https://localhost:8080/"
        },
        "id": "k3mtVb4H7671",
        "outputId": "bf4ad309-ddb9-4539-cd14-e9b922195010"
      },
      "execution_count": null,
      "outputs": [
        {
          "output_type": "execute_result",
          "data": {
            "text/plain": [
              "['victor', 'erick', 'gustavo', 'victor']"
            ]
          },
          "metadata": {},
          "execution_count": 10
        }
      ]
    },
    {
      "cell_type": "code",
      "source": [
        "alunos_com_notas = ['victor',7, 'erick', 8, 'gustavo',8,9]\n",
        "alunos_com_notas [1]"
      ],
      "metadata": {
        "colab": {
          "base_uri": "https://localhost:8080/"
        },
        "id": "FwMhFEN18o30",
        "outputId": "11b00425-6cff-48ec-aa8b-866b0c0e82e0"
      },
      "execution_count": null,
      "outputs": [
        {
          "output_type": "execute_result",
          "data": {
            "text/plain": [
              "7"
            ]
          },
          "metadata": {},
          "execution_count": 13
        }
      ]
    },
    {
      "cell_type": "code",
      "source": [
        "\n",
        "\n",
        "areas = [\"hallway\", 11.25,\n",
        "         \"kitchen\", 18.0,\n",
        "         \"living room\", 20.0,\n",
        "         \"bedroom\", 10.75, \"bathroom\", 9.50]\n",
        "print(areas[2])\n",
        "print(areas[-1])\n",
        "print(areas[3])\n",
        "\n"
      ],
      "metadata": {
        "colab": {
          "base_uri": "https://localhost:8080/"
        },
        "id": "a0DlH-dn9BBT",
        "outputId": "6ffaa617-bfa8-4d9e-e541-26fee2ff62c0"
      },
      "execution_count": null,
      "outputs": [
        {
          "output_type": "stream",
          "name": "stdout",
          "text": [
            "kitchen\n",
            "9.5\n",
            "18.0\n"
          ]
        }
      ]
    },
    {
      "cell_type": "code",
      "source": [
        "fam = [\"alci\", 1.70, \"val\", 1.63, \"vinicius\", 1.78]\n",
        "fam[3]\n",
        "fam[-1]\n",
        "len(fam)\n",
        "print(\"o tamanho da lista é de \"+str(len(fam)))\n",
        "fam[2:6]"
      ],
      "metadata": {
        "colab": {
          "base_uri": "https://localhost:8080/"
        },
        "id": "s8jN46DzOVLl",
        "outputId": "824b66eb-092f-481c-fd1c-3a3e7e67b84d"
      },
      "execution_count": 4,
      "outputs": [
        {
          "output_type": "stream",
          "name": "stdout",
          "text": [
            "o tamanho da lista é de 6\n"
          ]
        },
        {
          "output_type": "execute_result",
          "data": {
            "text/plain": [
              "['val', 1.63, 'vinicius', 1.78]"
            ]
          },
          "metadata": {},
          "execution_count": 4
        }
      ]
    },
    {
      "cell_type": "code",
      "source": [
        "areas = [\"hallway\", 11.25, \"kitchen\", 18.0, \"living room\", 20.0, \"bedroom\", 10.75, \"bathroom\", 9.50]\n",
        "areas[0:6]\n",
        "eat_sleep_area = areas[3] + areas[5]\n",
        "print(eat_sleep_area)"
      ],
      "metadata": {
        "colab": {
          "base_uri": "https://localhost:8080/"
        },
        "id": "XPhu6M3GP-Va",
        "outputId": "4cea833d-9dd8-4749-db28-3efe5849344a"
      },
      "execution_count": 8,
      "outputs": [
        {
          "output_type": "stream",
          "name": "stdout",
          "text": [
            "38.0\n"
          ]
        }
      ]
    },
    {
      "cell_type": "code",
      "source": [
        "areas = [\"hallway\", 11.25, \"kitchen\", 18.0, \"living room\", 20.0, \"bedroom\", 10.75, \"bathroom\", 9.50]\n",
        "downstairs = areas[0:6]\n",
        "upstairs = areas[6:10]\n",
        "print(downstairs)\n",
        "print(upstairs)"
      ],
      "metadata": {
        "colab": {
          "base_uri": "https://localhost:8080/"
        },
        "id": "Wiic0WnVQmM5",
        "outputId": "c28846bb-a198-4c7c-c894-2451da2d3df3"
      },
      "execution_count": 9,
      "outputs": [
        {
          "output_type": "stream",
          "name": "stdout",
          "text": [
            "['hallway', 11.25, 'kitchen', 18.0, 'living room', 20.0]\n",
            "['bedroom', 10.75, 'bathroom', 9.5]\n"
          ]
        }
      ]
    },
    {
      "cell_type": "code",
      "source": [
        "familia = [['val','1.62'],['joão', '1.75'],['alci','1.72'],['vinicius', '1.78']]\n",
        "print(familia)\n",
        "print(familia[2][0])\n",
        "familia[1][1]\n"
      ],
      "metadata": {
        "colab": {
          "base_uri": "https://localhost:8080/",
          "height": 70
        },
        "id": "sA-sq6olSG14",
        "outputId": "e3d01d04-8993-4008-cae0-4a37ae26e55a"
      },
      "execution_count": 28,
      "outputs": [
        {
          "output_type": "stream",
          "name": "stdout",
          "text": [
            "[['val', '1.62'], ['joão', '1.75'], ['alci', '1.72'], ['vinicius', '1.78']]\n",
            "alci\n"
          ]
        },
        {
          "output_type": "execute_result",
          "data": {
            "text/plain": [
              "'1.75'"
            ],
            "application/vnd.google.colaboratory.intrinsic+json": {
              "type": "string"
            }
          },
          "metadata": {},
          "execution_count": 28
        }
      ]
    },
    {
      "cell_type": "code",
      "source": [
        "hall = 11.25\n",
        "kit = 18.0\n",
        "liv = 20.0\n",
        "bed = 10.75\n",
        "bath = 9.50\n",
        "\n",
        "x = [\"hallway\", hall,],[\"kitchen\", kit,],[\"living room\", liv], [bed,'bathroom']\n",
        "#aparece uma string\n",
        "x[2][0]\n",
        "x[2][:2]"
      ],
      "metadata": {
        "colab": {
          "base_uri": "https://localhost:8080/"
        },
        "id": "-1Th1FELVrWt",
        "outputId": "18649071-dded-48a1-d518-90b929f59fc2"
      },
      "execution_count": 37,
      "outputs": [
        {
          "output_type": "execute_result",
          "data": {
            "text/plain": [
              "['living room', 20.0]"
            ]
          },
          "metadata": {},
          "execution_count": 37
        }
      ]
    }
  ]
}