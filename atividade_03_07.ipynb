{
  "nbformat": 4,
  "nbformat_minor": 0,
  "metadata": {
    "colab": {
      "provenance": [],
      "authorship_tag": "ABX9TyPAFx4aKXGeUcpQyRBI0L60",
      "include_colab_link": true
    },
    "kernelspec": {
      "name": "python3",
      "display_name": "Python 3"
    },
    "language_info": {
      "name": "python"
    }
  },
  "cells": [
    {
      "cell_type": "markdown",
      "metadata": {
        "id": "view-in-github",
        "colab_type": "text"
      },
      "source": [
        "<a href=\"https://colab.research.google.com/github/alysonbz/lab_prog_si/blob/kauan_lima/atividade_03_07.ipynb\" target=\"_parent\"><img src=\"https://colab.research.google.com/assets/colab-badge.svg\" alt=\"Open In Colab\"/></a>"
      ]
    },
    {
      "cell_type": "code",
      "execution_count": 5,
      "metadata": {
        "colab": {
          "base_uri": "https://localhost:8080/"
        },
        "id": "S_rv1Cz0dkei",
        "outputId": "4ecb4738-6065-4b26-dd6b-064b6684dedc"
      },
      "outputs": [
        {
          "output_type": "stream",
          "name": "stdout",
          "text": [
            "         country  drives_right  cars_per_cap\n",
            "0  United States          True           809\n",
            "1      Australia         False           731\n",
            "2          Japan         False           588\n",
            "3          India         False            18\n",
            "4         Russia          True           200\n",
            "5        Morroco          True            70\n",
            "6          Egypt          True            45\n"
          ]
        }
      ],
      "source": [
        "#Questões 1, 2, 3 e 4 do slide 121.\n",
        "import pandas as pd\n",
        "names = ['United States', 'Australia', 'Japan', 'India', 'Russia', 'Morroco', 'Egypt'  ]\n",
        "dr = [True, False, False, False, True, True, True]\n",
        "cpc = [809, 731, 588, 18, 200, 70, 45]\n",
        "my_dict = {'country': names, 'drives_right': dr, 'cars_per_cap': cpc}\n",
        "cars = pd.DataFrame(my_dict)\n",
        "print(cars)"
      ]
    },
    {
      "cell_type": "code",
      "source": [
        "#Questões 1 e 2 do slide 122\n",
        "cars.index=['US', 'AUS', 'JPN', 'IN', 'RU', 'MOR', 'EG']\n",
        "print(cars)"
      ],
      "metadata": {
        "colab": {
          "base_uri": "https://localhost:8080/"
        },
        "id": "68r8xfcsfJ58",
        "outputId": "e825b2bb-00a8-4514-d9a7-4ce62f08f195"
      },
      "execution_count": 6,
      "outputs": [
        {
          "output_type": "stream",
          "name": "stdout",
          "text": [
            "           country  drives_right  cars_per_cap\n",
            "US   United States          True           809\n",
            "AUS      Australia         False           731\n",
            "JPN          Japan         False           588\n",
            "IN           India         False            18\n",
            "RU          Russia          True           200\n",
            "MOR        Morroco          True            70\n",
            "EG           Egypt          True            45\n"
          ]
        }
      ]
    },
    {
      "cell_type": "code",
      "source": [
        "#Questões 1, 2, 3 e 4 do slide 123\n",
        "import pandas as pd\n",
        "cars=pd.read_csv('cars.csv')\n",
        "print(cars)"
      ],
      "metadata": {
        "colab": {
          "base_uri": "https://localhost:8080/"
        },
        "id": "415RD7sOgUvm",
        "outputId": "84a7852c-071c-4f70-e4e6-5309d762275f"
      },
      "execution_count": 14,
      "outputs": [
        {
          "output_type": "stream",
          "name": "stdout",
          "text": [
            "  country_ab  cars_per_cap        country  drives_right\n",
            "0         US           809  United States          True\n",
            "1        AUS           731      Australia         False\n",
            "2        JAP           588          Japan         False\n",
            "3         IN            18          India         False\n",
            "4         RU           200         Russia          True\n",
            "5        MOR            70        Morocco          True\n",
            "6         EG            45          Egypt          True\n"
          ]
        }
      ]
    },
    {
      "cell_type": "code",
      "source": [
        "#Questão 1 do slide 124\n",
        "cars=pd.read_csv('cars.csv', index_col=0)\n",
        "print(cars)"
      ],
      "metadata": {
        "colab": {
          "base_uri": "https://localhost:8080/"
        },
        "id": "cQXsitMziqZD",
        "outputId": "ca09c961-b247-405f-feb8-3d81c6f7fc23"
      },
      "execution_count": 15,
      "outputs": [
        {
          "output_type": "stream",
          "name": "stdout",
          "text": [
            "            cars_per_cap        country  drives_right\n",
            "country_ab                                           \n",
            "US                   809  United States          True\n",
            "AUS                  731      Australia         False\n",
            "JAP                  588          Japan         False\n",
            "IN                    18          India         False\n",
            "RU                   200         Russia          True\n",
            "MOR                   70        Morocco          True\n",
            "EG                    45          Egypt          True\n"
          ]
        }
      ]
    },
    {
      "cell_type": "code",
      "source": [],
      "metadata": {
        "id": "DbsvhjSLnbsC"
      },
      "execution_count": null,
      "outputs": []
    }
  ]
}