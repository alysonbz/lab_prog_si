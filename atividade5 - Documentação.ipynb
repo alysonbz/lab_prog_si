{
  "nbformat": 4,
  "nbformat_minor": 0,
  "metadata": {
    "colab": {
      "provenance": [],
      "authorship_tag": "ABX9TyPD7vtmp5hyqJGRzep2D0Ri",
      "include_colab_link": true
    },
    "kernelspec": {
      "name": "python3",
      "display_name": "Python 3"
    },
    "language_info": {
      "name": "python"
    }
  },
  "cells": [
    {
      "cell_type": "markdown",
      "metadata": {
        "id": "view-in-github",
        "colab_type": "text"
      },
      "source": [
        "<a href=\"https://colab.research.google.com/github/alysonbz/lab_prog_si/blob/gabriel_coelho/atividade5%20-%20Documenta%C3%A7%C3%A3o.ipynb\" target=\"_parent\"><img src=\"https://colab.research.google.com/assets/colab-badge.svg\" alt=\"Open In Colab\"/></a>"
      ]
    },
    {
      "cell_type": "markdown",
      "source": [
        "#ATIVIDADE P/ CASA"
      ],
      "metadata": {
        "id": "o-pR52WjZBov"
      }
    },
    {
      "cell_type": "markdown",
      "source": [
        "#2.2 O BÁSICO"
      ],
      "metadata": {
        "id": "1mEc6AGSmtp8"
      }
    },
    {
      "cell_type": "markdown",
      "source": [
        "**2.2.1 UM EXEMPLO**\n"
      ],
      "metadata": {
        "id": "ZhEb_EUPZIR0"
      }
    },
    {
      "cell_type": "code",
      "source": [
        "#criando um array 'a' de 0 a 14 organizado em uma matriz 3x5\n",
        "import numpy as np\n",
        "a = np.arange(15).reshape(3, 5)\n",
        "a"
      ],
      "metadata": {
        "colab": {
          "base_uri": "https://localhost:8080/"
        },
        "id": "Ko-DBOUrV7hh",
        "outputId": "a6fdbbe2-e3ab-4155-ec42-1a590d11303c"
      },
      "execution_count": 140,
      "outputs": [
        {
          "output_type": "execute_result",
          "data": {
            "text/plain": [
              "array([[ 0,  1,  2,  3,  4],\n",
              "       [ 5,  6,  7,  8,  9],\n",
              "       [10, 11, 12, 13, 14]])"
            ]
          },
          "metadata": {},
          "execution_count": 140
        }
      ]
    },
    {
      "cell_type": "code",
      "source": [
        "#atributos de 'a'\n",
        "print(a.shape)\n",
        "print(a.ndim)\n",
        "print(a.dtype.name)\n",
        "print(a.itemsize)\n",
        "print(a.size)"
      ],
      "metadata": {
        "colab": {
          "base_uri": "https://localhost:8080/"
        },
        "id": "kGo24lA65VTs",
        "outputId": "e6b17a2e-c74e-440e-e92b-d5d5b63c7abe"
      },
      "execution_count": 149,
      "outputs": [
        {
          "output_type": "stream",
          "name": "stdout",
          "text": [
            "(3, 5)\n",
            "2\n",
            "int64\n",
            "8\n",
            "15\n"
          ]
        }
      ]
    },
    {
      "cell_type": "code",
      "source": [
        "#tipo de 'a'\n",
        "print(type(a))"
      ],
      "metadata": {
        "colab": {
          "base_uri": "https://localhost:8080/"
        },
        "id": "MSkn_xOj6SdB",
        "outputId": "a685187f-eebf-4e7d-9ffb-f34081575fc0"
      },
      "execution_count": 148,
      "outputs": [
        {
          "output_type": "stream",
          "name": "stdout",
          "text": [
            "<class 'numpy.ndarray'>\n"
          ]
        }
      ]
    },
    {
      "cell_type": "code",
      "source": [
        "#criando um array 'b'\n",
        "b = np.array([6, 7, 8])\n",
        "b"
      ],
      "metadata": {
        "colab": {
          "base_uri": "https://localhost:8080/"
        },
        "id": "yBB7Tr056GJ6",
        "outputId": "e123b411-824a-4bad-a8b4-df4407a3cbd0"
      },
      "execution_count": 153,
      "outputs": [
        {
          "output_type": "execute_result",
          "data": {
            "text/plain": [
              "array([6, 7, 8])"
            ]
          },
          "metadata": {},
          "execution_count": 153
        }
      ]
    },
    {
      "cell_type": "code",
      "source": [
        "#tipo de 'b'\n",
        "print(type(b))"
      ],
      "metadata": {
        "colab": {
          "base_uri": "https://localhost:8080/"
        },
        "id": "XPRrnGeM6bIZ",
        "outputId": "a41df67c-3466-4973-8f4c-c393af536b3c"
      },
      "execution_count": 151,
      "outputs": [
        {
          "output_type": "stream",
          "name": "stdout",
          "text": [
            "<class 'numpy.ndarray'>\n"
          ]
        }
      ]
    },
    {
      "cell_type": "markdown",
      "source": [
        "**2.2.2 CRIAÇÃO DE ARRAY**"
      ],
      "metadata": {
        "id": "KxMEalqeafx5"
      }
    },
    {
      "cell_type": "code",
      "source": [
        "import numpy as np\n",
        "\n",
        "#criando um array 'a'\n",
        "a = np.array([2, 3, 4])\n",
        "a\n",
        "\n",
        "#printando o tipo de dado do array 'a'\n",
        "print(a.dtype)\n",
        "\n",
        "#criando um array 'b'\n",
        "b = np.array([1.2, 3.5, 5.1])\n",
        "b\n",
        "\n",
        "#printando o tipo de dado do array 'b'\n",
        "print(b.dtype)"
      ],
      "metadata": {
        "colab": {
          "base_uri": "https://localhost:8080/"
        },
        "id": "n4vYdpbfajkn",
        "outputId": "ee6ddb4c-bf96-4dc2-bc9b-7ba4dcfe1843"
      },
      "execution_count": 154,
      "outputs": [
        {
          "output_type": "stream",
          "name": "stdout",
          "text": [
            "int64\n",
            "float64\n"
          ]
        }
      ]
    },
    {
      "cell_type": "markdown",
      "source": [
        "*Um erro frequente consiste em chamar array com vários argumentos, em vez de fornecer uma única sequência como\n",
        "argumento:"
      ],
      "metadata": {
        "id": "ta040BPfd0Zm"
      }
    },
    {
      "cell_type": "code",
      "source": [
        "a = np.array(1, 2, 3, 4) #WRONG\n",
        "a = np.array([1, 2, 3, 4]) #RIGHT"
      ],
      "metadata": {
        "id": "7EXndi99dYV7"
      },
      "execution_count": null,
      "outputs": []
    },
    {
      "cell_type": "markdown",
      "source": [
        "*O tipo da matriz também pode ser especificado explicitamente no momento da criação:"
      ],
      "metadata": {
        "id": "Ui-o1nnOh9bY"
      }
    },
    {
      "cell_type": "code",
      "source": [
        "c = np.array([[1, 2], [3, 4]], dtype=complex)\n",
        "c"
      ],
      "metadata": {
        "colab": {
          "base_uri": "https://localhost:8080/"
        },
        "id": "5Q4He55Zh_VB",
        "outputId": "f9a2f3cb-0323-4fb9-ae9c-dda35980215f"
      },
      "execution_count": null,
      "outputs": [
        {
          "output_type": "execute_result",
          "data": {
            "text/plain": [
              "array([[1.+0.j, 2.+0.j],\n",
              "       [3.+0.j, 4.+0.j]])"
            ]
          },
          "metadata": {},
          "execution_count": 32
        }
      ]
    },
    {
      "cell_type": "markdown",
      "source": [
        "*A função ZEROS cria uma matriz cheia de 0s, a função ONES cria uma matriz cheia de 1s e a função EMPTY cria uma matriz cujo conteúdo inicial é aleatório e depende do estado da memória:"
      ],
      "metadata": {
        "id": "Mto5v_X7iWku"
      }
    },
    {
      "cell_type": "code",
      "source": [
        "#função ZEROS\n",
        "zeros = np.zeros((3, 4))\n",
        "zeros"
      ],
      "metadata": {
        "colab": {
          "base_uri": "https://localhost:8080/"
        },
        "id": "EFvkbVM5iWDt",
        "outputId": "4533d1ed-9da1-423b-a41a-c5411965de71"
      },
      "execution_count": 156,
      "outputs": [
        {
          "output_type": "execute_result",
          "data": {
            "text/plain": [
              "array([[0., 0., 0., 0.],\n",
              "       [0., 0., 0., 0.],\n",
              "       [0., 0., 0., 0.]])"
            ]
          },
          "metadata": {},
          "execution_count": 156
        }
      ]
    },
    {
      "cell_type": "code",
      "source": [
        "#função ONES\n",
        "ones = np.ones((2, 3, 4), dtype=np.int16)\n",
        "ones"
      ],
      "metadata": {
        "colab": {
          "base_uri": "https://localhost:8080/"
        },
        "id": "yJncabJ78ZYt",
        "outputId": "ca9bdcda-e0fe-4394-d24a-0d095b15259f"
      },
      "execution_count": 157,
      "outputs": [
        {
          "output_type": "execute_result",
          "data": {
            "text/plain": [
              "array([[[1, 1, 1, 1],\n",
              "        [1, 1, 1, 1],\n",
              "        [1, 1, 1, 1]],\n",
              "\n",
              "       [[1, 1, 1, 1],\n",
              "        [1, 1, 1, 1],\n",
              "        [1, 1, 1, 1]]], dtype=int16)"
            ]
          },
          "metadata": {},
          "execution_count": 157
        }
      ]
    },
    {
      "cell_type": "code",
      "source": [
        "#função EMPTY\n",
        "empty = np.empty((2, 3))\n",
        "empty"
      ],
      "metadata": {
        "colab": {
          "base_uri": "https://localhost:8080/"
        },
        "id": "EGjgJqPM8k0s",
        "outputId": "7049eb53-b45c-4708-b69d-c4ea6c010211"
      },
      "execution_count": 162,
      "outputs": [
        {
          "output_type": "execute_result",
          "data": {
            "text/plain": [
              "array([[1., 6., 5.],\n",
              "       [1., 1., 5.]])"
            ]
          },
          "metadata": {},
          "execution_count": 162
        }
      ]
    },
    {
      "cell_type": "markdown",
      "source": [
        "*Para criar sequências de números, o NumPy fornece a função ARANGE que é análoga ao intervalo interno do Python, mas retorna uma matriz."
      ],
      "metadata": {
        "id": "jjZVOzKflEI_"
      }
    },
    {
      "cell_type": "code",
      "source": [
        "a = np.arange(10, 30, 5)\n",
        "a"
      ],
      "metadata": {
        "colab": {
          "base_uri": "https://localhost:8080/"
        },
        "id": "T_oMcZYrlHl-",
        "outputId": "90c0164c-0887-422b-dede-9e5b1d979f83"
      },
      "execution_count": 164,
      "outputs": [
        {
          "output_type": "execute_result",
          "data": {
            "text/plain": [
              "array([10, 15, 20, 25])"
            ]
          },
          "metadata": {},
          "execution_count": 164
        }
      ]
    },
    {
      "cell_type": "code",
      "source": [
        "b = np.arange(0, 2, 0.3) #aceita argumentos float\n",
        "b"
      ],
      "metadata": {
        "colab": {
          "base_uri": "https://localhost:8080/"
        },
        "id": "dycXFVD78-s2",
        "outputId": "39f908c4-58c5-4271-c59c-e05e469f2776"
      },
      "execution_count": 165,
      "outputs": [
        {
          "output_type": "execute_result",
          "data": {
            "text/plain": [
              "array([0. , 0.3, 0.6, 0.9, 1.2, 1.5, 1.8])"
            ]
          },
          "metadata": {},
          "execution_count": 165
        }
      ]
    },
    {
      "cell_type": "markdown",
      "source": [
        "*Quando um intervalo é usado com argumentos de ponto flutuante, geralmente não é possível prever o número de\n",
        "elementos obtidos, devido à precisão finita do ponto flutuante. Por esse motivo, geralmente é melhor usar a função\n",
        "linspace que recebe como argumento o número de elementos que queremos, em vez da etapa:"
      ],
      "metadata": {
        "id": "TO8zAWCKnCpX"
      }
    },
    {
      "cell_type": "code",
      "source": [
        "#gerando 9 números igualmente espaçados entre 0 e 2\n",
        "linspace = np.linspace(0, 2, 9)\n",
        "linspace"
      ],
      "metadata": {
        "colab": {
          "base_uri": "https://localhost:8080/"
        },
        "id": "I-bMNJdhnRnX",
        "outputId": "1b7b7782-eb02-4595-8255-def57ada64ad"
      },
      "execution_count": 167,
      "outputs": [
        {
          "output_type": "execute_result",
          "data": {
            "text/plain": [
              "array([0.  , 0.25, 0.5 , 0.75, 1.  , 1.25, 1.5 , 1.75, 2.  ])"
            ]
          },
          "metadata": {},
          "execution_count": 167
        }
      ]
    },
    {
      "cell_type": "code",
      "source": [
        "from numpy import pi\n",
        "\n",
        "#cria 100 valores igualmente espaçados entre 0 e 2pi\n",
        "x = np.linspace(0, 2 * pi, 100)\n",
        "x"
      ],
      "metadata": {
        "colab": {
          "base_uri": "https://localhost:8080/"
        },
        "id": "Al5yORsV9T1r",
        "outputId": "1c57cf5b-a749-40e8-8178-4235aba498d9"
      },
      "execution_count": 170,
      "outputs": [
        {
          "output_type": "execute_result",
          "data": {
            "text/plain": [
              "array([0.        , 0.06346652, 0.12693304, 0.19039955, 0.25386607,\n",
              "       0.31733259, 0.38079911, 0.44426563, 0.50773215, 0.57119866,\n",
              "       0.63466518, 0.6981317 , 0.76159822, 0.82506474, 0.88853126,\n",
              "       0.95199777, 1.01546429, 1.07893081, 1.14239733, 1.20586385,\n",
              "       1.26933037, 1.33279688, 1.3962634 , 1.45972992, 1.52319644,\n",
              "       1.58666296, 1.65012947, 1.71359599, 1.77706251, 1.84052903,\n",
              "       1.90399555, 1.96746207, 2.03092858, 2.0943951 , 2.15786162,\n",
              "       2.22132814, 2.28479466, 2.34826118, 2.41172769, 2.47519421,\n",
              "       2.53866073, 2.60212725, 2.66559377, 2.72906028, 2.7925268 ,\n",
              "       2.85599332, 2.91945984, 2.98292636, 3.04639288, 3.10985939,\n",
              "       3.17332591, 3.23679243, 3.30025895, 3.36372547, 3.42719199,\n",
              "       3.4906585 , 3.55412502, 3.61759154, 3.68105806, 3.74452458,\n",
              "       3.8079911 , 3.87145761, 3.93492413, 3.99839065, 4.06185717,\n",
              "       4.12532369, 4.1887902 , 4.25225672, 4.31572324, 4.37918976,\n",
              "       4.44265628, 4.5061228 , 4.56958931, 4.63305583, 4.69652235,\n",
              "       4.75998887, 4.82345539, 4.88692191, 4.95038842, 5.01385494,\n",
              "       5.07732146, 5.14078798, 5.2042545 , 5.26772102, 5.33118753,\n",
              "       5.39465405, 5.45812057, 5.52158709, 5.58505361, 5.64852012,\n",
              "       5.71198664, 5.77545316, 5.83891968, 5.9023862 , 5.96585272,\n",
              "       6.02931923, 6.09278575, 6.15625227, 6.21971879, 6.28318531])"
            ]
          },
          "metadata": {},
          "execution_count": 170
        }
      ]
    },
    {
      "cell_type": "code",
      "source": [
        "#calculando o seno de todos os valores de x\n",
        "f = np.sin(x)\n",
        "f"
      ],
      "metadata": {
        "colab": {
          "base_uri": "https://localhost:8080/"
        },
        "id": "pjQXMI1--V3g",
        "outputId": "f6356517-f776-489a-f53c-0f28a5e74984"
      },
      "execution_count": 171,
      "outputs": [
        {
          "output_type": "execute_result",
          "data": {
            "text/plain": [
              "array([ 0.00000000e+00,  6.34239197e-02,  1.26592454e-01,  1.89251244e-01,\n",
              "        2.51147987e-01,  3.12033446e-01,  3.71662456e-01,  4.29794912e-01,\n",
              "        4.86196736e-01,  5.40640817e-01,  5.92907929e-01,  6.42787610e-01,\n",
              "        6.90079011e-01,  7.34591709e-01,  7.76146464e-01,  8.14575952e-01,\n",
              "        8.49725430e-01,  8.81453363e-01,  9.09631995e-01,  9.34147860e-01,\n",
              "        9.54902241e-01,  9.71811568e-01,  9.84807753e-01,  9.93838464e-01,\n",
              "        9.98867339e-01,  9.99874128e-01,  9.96854776e-01,  9.89821442e-01,\n",
              "        9.78802446e-01,  9.63842159e-01,  9.45000819e-01,  9.22354294e-01,\n",
              "        8.95993774e-01,  8.66025404e-01,  8.32569855e-01,  7.95761841e-01,\n",
              "        7.55749574e-01,  7.12694171e-01,  6.66769001e-01,  6.18158986e-01,\n",
              "        5.67059864e-01,  5.13677392e-01,  4.58226522e-01,  4.00930535e-01,\n",
              "        3.42020143e-01,  2.81732557e-01,  2.20310533e-01,  1.58001396e-01,\n",
              "        9.50560433e-02,  3.17279335e-02, -3.17279335e-02, -9.50560433e-02,\n",
              "       -1.58001396e-01, -2.20310533e-01, -2.81732557e-01, -3.42020143e-01,\n",
              "       -4.00930535e-01, -4.58226522e-01, -5.13677392e-01, -5.67059864e-01,\n",
              "       -6.18158986e-01, -6.66769001e-01, -7.12694171e-01, -7.55749574e-01,\n",
              "       -7.95761841e-01, -8.32569855e-01, -8.66025404e-01, -8.95993774e-01,\n",
              "       -9.22354294e-01, -9.45000819e-01, -9.63842159e-01, -9.78802446e-01,\n",
              "       -9.89821442e-01, -9.96854776e-01, -9.99874128e-01, -9.98867339e-01,\n",
              "       -9.93838464e-01, -9.84807753e-01, -9.71811568e-01, -9.54902241e-01,\n",
              "       -9.34147860e-01, -9.09631995e-01, -8.81453363e-01, -8.49725430e-01,\n",
              "       -8.14575952e-01, -7.76146464e-01, -7.34591709e-01, -6.90079011e-01,\n",
              "       -6.42787610e-01, -5.92907929e-01, -5.40640817e-01, -4.86196736e-01,\n",
              "       -4.29794912e-01, -3.71662456e-01, -3.12033446e-01, -2.51147987e-01,\n",
              "       -1.89251244e-01, -1.26592454e-01, -6.34239197e-02, -2.44929360e-16])"
            ]
          },
          "metadata": {},
          "execution_count": 171
        }
      ]
    },
    {
      "cell_type": "markdown",
      "source": [
        "**2.2.3 IMPRIMINDO MATRIZES**"
      ],
      "metadata": {
        "id": "UkxpE7kIpuIl"
      }
    },
    {
      "cell_type": "markdown",
      "source": [
        "Quando você imprime uma matriz, o NumPy a exibe de maneira semelhante às listas aninhadas, mas com o seguinte layout:\n",
        "\n",
        "• o último eixo é impresso da esquerda para a direita,\n",
        "\n",
        "• o penúltimo é impresso de cima para baixo,\n",
        "\n",
        "• O restante também é impresso de cima para baixo, com cada fatia separada da próxima por uma linha vazia.\n",
        "\n",
        "As matrizes unidimensionais são então impressas como linhas, as bidimensionais como matrizes e as tridimensionais como listas de matrizes."
      ],
      "metadata": {
        "id": "AZ5qwFna-wNd"
      }
    },
    {
      "cell_type": "code",
      "source": [
        "#matriz 1d (linha)\n",
        "a = np.arange(6)\n",
        "a"
      ],
      "metadata": {
        "colab": {
          "base_uri": "https://localhost:8080/"
        },
        "id": "w5Z_OwsXpx5c",
        "outputId": "4498cb8b-4dcb-4437-a71b-bf8ee0e8791c"
      },
      "execution_count": 172,
      "outputs": [
        {
          "output_type": "execute_result",
          "data": {
            "text/plain": [
              "array([0, 1, 2, 3, 4, 5])"
            ]
          },
          "metadata": {},
          "execution_count": 172
        }
      ]
    },
    {
      "cell_type": "code",
      "source": [
        "#matriz 2d (matriz)\n",
        "b = np.arange(12).reshape(4, 3)\n",
        "b"
      ],
      "metadata": {
        "colab": {
          "base_uri": "https://localhost:8080/"
        },
        "id": "tyzVYvp4_Scb",
        "outputId": "3e57ab8b-9413-4d20-e94a-d3b6dd70d325"
      },
      "execution_count": 173,
      "outputs": [
        {
          "output_type": "execute_result",
          "data": {
            "text/plain": [
              "array([[ 0,  1,  2],\n",
              "       [ 3,  4,  5],\n",
              "       [ 6,  7,  8],\n",
              "       [ 9, 10, 11]])"
            ]
          },
          "metadata": {},
          "execution_count": 173
        }
      ]
    },
    {
      "cell_type": "code",
      "source": [
        "#matriz 3d (listas de matrizes)\n",
        "c = np.arange(24).reshape(2, 3, 4)\n",
        "c"
      ],
      "metadata": {
        "colab": {
          "base_uri": "https://localhost:8080/"
        },
        "id": "i6TwsC4Y_V93",
        "outputId": "bf2afbc8-3952-478e-f301-e4dbd6b93231"
      },
      "execution_count": 174,
      "outputs": [
        {
          "output_type": "execute_result",
          "data": {
            "text/plain": [
              "array([[[ 0,  1,  2,  3],\n",
              "        [ 4,  5,  6,  7],\n",
              "        [ 8,  9, 10, 11]],\n",
              "\n",
              "       [[12, 13, 14, 15],\n",
              "        [16, 17, 18, 19],\n",
              "        [20, 21, 22, 23]]])"
            ]
          },
          "metadata": {},
          "execution_count": 174
        }
      ]
    },
    {
      "cell_type": "markdown",
      "source": [
        "*Se uma matriz for muito grande para ser impressa, o\n",
        "NumPy ignorará automaticamente a parte central da matriz e imprimirá apenas os cantos."
      ],
      "metadata": {
        "id": "5Ovd3hZXsYfy"
      }
    },
    {
      "cell_type": "code",
      "source": [
        "print(np.arange(10000))\n",
        "print(np.arange(10000).reshape(100, 100))"
      ],
      "metadata": {
        "colab": {
          "base_uri": "https://localhost:8080/"
        },
        "id": "2--wWkYR_64n",
        "outputId": "28d1484d-9a1a-445f-d921-2fc7e14b1d56"
      },
      "execution_count": 177,
      "outputs": [
        {
          "output_type": "stream",
          "name": "stdout",
          "text": [
            "[   0    1    2 ... 9997 9998 9999]\n",
            "[[   0    1    2 ...   97   98   99]\n",
            " [ 100  101  102 ...  197  198  199]\n",
            " [ 200  201  202 ...  297  298  299]\n",
            " ...\n",
            " [9700 9701 9702 ... 9797 9798 9799]\n",
            " [9800 9801 9802 ... 9897 9898 9899]\n",
            " [9900 9901 9902 ... 9997 9998 9999]]\n"
          ]
        }
      ]
    },
    {
      "cell_type": "markdown",
      "source": [
        "*Para desativar esse comportamento e forçar o NumPy a imprimir toda a matriz, você pode alterar as opções de\n",
        "impressão usingset_printoptions."
      ],
      "metadata": {
        "id": "rXoZbpONAGaR"
      }
    },
    {
      "cell_type": "code",
      "source": [
        "import numpy as np\n",
        "import sys\n",
        "np.set_printoptions(threshold=sys.maxsize) #o módulo sys deve ser importado"
      ],
      "metadata": {
        "id": "2rqRsd6bsECX"
      },
      "execution_count": 178,
      "outputs": []
    },
    {
      "cell_type": "markdown",
      "source": [
        "**2.2.4 OPERAÇÕES BÁSICAS**"
      ],
      "metadata": {
        "id": "cdX-pjBtoW8U"
      }
    },
    {
      "cell_type": "markdown",
      "source": [
        "*Operadores aritméticos em matrizes se aplicam elementarmente. Uma nova matriz é criada e preenchida com o resultado."
      ],
      "metadata": {
        "id": "PDze8x7LAgPV"
      }
    },
    {
      "cell_type": "code",
      "source": [
        "a = np.array([20, 30, 40, 50])\n",
        "b = np.arange(4)\n",
        "b"
      ],
      "metadata": {
        "colab": {
          "base_uri": "https://localhost:8080/"
        },
        "id": "bdRAvERTsmHm",
        "outputId": "37678d09-40b1-4690-a002-5fb7a7e5abac"
      },
      "execution_count": 179,
      "outputs": [
        {
          "output_type": "execute_result",
          "data": {
            "text/plain": [
              "array([0, 1, 2, 3])"
            ]
          },
          "metadata": {},
          "execution_count": 179
        }
      ]
    },
    {
      "cell_type": "code",
      "source": [
        "c = a - b\n",
        "c"
      ],
      "metadata": {
        "colab": {
          "base_uri": "https://localhost:8080/"
        },
        "id": "P4pcOllvAnQg",
        "outputId": "385b7f3e-6624-434d-d13b-4a5c09c92353"
      },
      "execution_count": 180,
      "outputs": [
        {
          "output_type": "execute_result",
          "data": {
            "text/plain": [
              "array([20, 29, 38, 47])"
            ]
          },
          "metadata": {},
          "execution_count": 180
        }
      ]
    },
    {
      "cell_type": "code",
      "source": [
        "b**2"
      ],
      "metadata": {
        "colab": {
          "base_uri": "https://localhost:8080/"
        },
        "id": "BoW1CD8AAttB",
        "outputId": "74add943-b62d-4c54-df66-7057693ddac9"
      },
      "execution_count": 181,
      "outputs": [
        {
          "output_type": "execute_result",
          "data": {
            "text/plain": [
              "array([0, 1, 4, 9])"
            ]
          },
          "metadata": {},
          "execution_count": 181
        }
      ]
    },
    {
      "cell_type": "code",
      "source": [
        "10 * np.sin(a)"
      ],
      "metadata": {
        "colab": {
          "base_uri": "https://localhost:8080/"
        },
        "id": "Wa2vUnYLAzkp",
        "outputId": "774844f5-cea3-46d7-f2c5-f41bffbfc419"
      },
      "execution_count": 182,
      "outputs": [
        {
          "output_type": "execute_result",
          "data": {
            "text/plain": [
              "array([ 9.12945251, -9.88031624,  7.4511316 , -2.62374854])"
            ]
          },
          "metadata": {},
          "execution_count": 182
        }
      ]
    },
    {
      "cell_type": "code",
      "source": [
        "a < 35"
      ],
      "metadata": {
        "colab": {
          "base_uri": "https://localhost:8080/"
        },
        "id": "Aez0y2RVA3jv",
        "outputId": "54fc86d2-bb18-4117-9411-133afec69c05"
      },
      "execution_count": 183,
      "outputs": [
        {
          "output_type": "execute_result",
          "data": {
            "text/plain": [
              "array([ True,  True, False, False])"
            ]
          },
          "metadata": {},
          "execution_count": 183
        }
      ]
    },
    {
      "cell_type": "markdown",
      "source": [
        "*Ao contrário de muitas linguagens de matriz, o operador do produto * opera elementar em matrizes NumPy. O\n",
        "produto da matriz pode ser executado usando o operador @ (em python >=3.5) ou a função ou método de .dot:"
      ],
      "metadata": {
        "id": "ZXrNMnEsyRvB"
      }
    },
    {
      "cell_type": "code",
      "source": [
        "A = np.array([[1, 1],\n",
        "              [0, 1]])\n",
        "B = np.array([[2, 0],\n",
        "              [3, 4]])\n",
        "\n",
        "A * B #produto elementar (multiplica elemento por elemento)"
      ],
      "metadata": {
        "colab": {
          "base_uri": "https://localhost:8080/"
        },
        "id": "gqDGvxCKyVLu",
        "outputId": "01420862-7242-46b5-9334-62004fe7dbcd"
      },
      "execution_count": 184,
      "outputs": [
        {
          "output_type": "execute_result",
          "data": {
            "text/plain": [
              "array([[2, 0],\n",
              "       [0, 4]])"
            ]
          },
          "metadata": {},
          "execution_count": 184
        }
      ]
    },
    {
      "cell_type": "code",
      "source": [
        "A @ B or A.dot(B) #produto matricial (multiplica linhas de A por colunas de B)"
      ],
      "metadata": {
        "colab": {
          "base_uri": "https://localhost:8080/"
        },
        "id": "fe1Tw1gsBqSW",
        "outputId": "99816f6d-7d53-431c-fd72-0a6e96b55d12"
      },
      "execution_count": 189,
      "outputs": [
        {
          "output_type": "execute_result",
          "data": {
            "text/plain": [
              "array([[5, 4],\n",
              "       [3, 4]])"
            ]
          },
          "metadata": {},
          "execution_count": 189
        }
      ]
    },
    {
      "cell_type": "markdown",
      "source": [
        "*Algumas operações, como += e *=, atuam no local para modificar uma matriz existente em vez de criar uma nova."
      ],
      "metadata": {
        "id": "muWIHrXaXzYa"
      }
    },
    {
      "cell_type": "code",
      "source": [
        "import numpy as np\n",
        "\n",
        "rg = np.random.default_rng(1) #cria uma instância do número aleatório padrão gerador.\n",
        "a = np.ones((2, 3), dtype=int)\n",
        "b = rg.random((2, 3))\n",
        "a *= 3\n",
        "a"
      ],
      "metadata": {
        "colab": {
          "base_uri": "https://localhost:8080/"
        },
        "id": "c2bZFFJeXy09",
        "outputId": "d6e33bbe-5fc7-4c62-d628-32279ea87e72"
      },
      "execution_count": 190,
      "outputs": [
        {
          "output_type": "execute_result",
          "data": {
            "text/plain": [
              "array([[3, 3, 3],\n",
              "       [3, 3, 3]])"
            ]
          },
          "metadata": {},
          "execution_count": 190
        }
      ]
    },
    {
      "cell_type": "code",
      "source": [
        "b += a\n",
        "b"
      ],
      "metadata": {
        "colab": {
          "base_uri": "https://localhost:8080/"
        },
        "id": "gz9paMnpDXMJ",
        "outputId": "e732f759-b0bd-4c64-def4-ab48b040f1b3"
      },
      "execution_count": 191,
      "outputs": [
        {
          "output_type": "execute_result",
          "data": {
            "text/plain": [
              "array([[3.51182162, 3.9504637 , 3.14415961],\n",
              "       [3.94864945, 3.31183145, 3.42332645]])"
            ]
          },
          "metadata": {},
          "execution_count": 191
        }
      ]
    },
    {
      "cell_type": "code",
      "source": [
        "a += b #b não é convertido automaticamente para o tipo inteiro (irá apresentar erro)"
      ],
      "metadata": {
        "id": "tOy7w0bVDiT_"
      },
      "execution_count": null,
      "outputs": []
    },
    {
      "cell_type": "markdown",
      "source": [
        "*Ao operar com matrizes de tipos diferentes, o tipo da matriz resultante corresponde ao mais geral ou preciso (um\n",
        "comportamento conhecido como upcasting)."
      ],
      "metadata": {
        "id": "0wfR6kAraxn6"
      }
    },
    {
      "cell_type": "code",
      "source": [
        "import math as mt\n",
        "a = np.ones(3, dtype=np.int32)\n",
        "b = np.linspace(0, mt.pi, 3)\n",
        "b.dtype.name"
      ],
      "metadata": {
        "colab": {
          "base_uri": "https://localhost:8080/",
          "height": 36
        },
        "id": "NeVZgAewbGro",
        "outputId": "8dfc2792-5d0e-4f87-b03d-4a05844e293d"
      },
      "execution_count": 192,
      "outputs": [
        {
          "output_type": "execute_result",
          "data": {
            "text/plain": [
              "'float64'"
            ],
            "application/vnd.google.colaboratory.intrinsic+json": {
              "type": "string"
            }
          },
          "metadata": {},
          "execution_count": 192
        }
      ]
    },
    {
      "cell_type": "code",
      "source": [
        "c = a + b\n",
        "c"
      ],
      "metadata": {
        "colab": {
          "base_uri": "https://localhost:8080/"
        },
        "id": "PeIHfyTYD3g3",
        "outputId": "4db59e0a-e551-4052-d37c-074efd6102e2"
      },
      "execution_count": 196,
      "outputs": [
        {
          "output_type": "execute_result",
          "data": {
            "text/plain": [
              "array([1.        , 2.57079633, 4.14159265])"
            ]
          },
          "metadata": {},
          "execution_count": 196
        }
      ]
    },
    {
      "cell_type": "code",
      "source": [
        "c.dtype.name"
      ],
      "metadata": {
        "colab": {
          "base_uri": "https://localhost:8080/",
          "height": 36
        },
        "id": "FcUNeiM6EFgm",
        "outputId": "47efa2a4-0da1-461f-cebc-940ce4081bb3"
      },
      "execution_count": 197,
      "outputs": [
        {
          "output_type": "execute_result",
          "data": {
            "text/plain": [
              "'float64'"
            ],
            "application/vnd.google.colaboratory.intrinsic+json": {
              "type": "string"
            }
          },
          "metadata": {},
          "execution_count": 197
        }
      ]
    },
    {
      "cell_type": "code",
      "source": [
        "d = np.exp(c * 1j)\n",
        "d"
      ],
      "metadata": {
        "colab": {
          "base_uri": "https://localhost:8080/"
        },
        "id": "CrEXcq6gEI-l",
        "outputId": "72490e26-8acd-4ff0-fcdc-4b9876c1f840"
      },
      "execution_count": 198,
      "outputs": [
        {
          "output_type": "execute_result",
          "data": {
            "text/plain": [
              "array([ 0.54030231+0.84147098j, -0.84147098+0.54030231j,\n",
              "       -0.54030231-0.84147098j])"
            ]
          },
          "metadata": {},
          "execution_count": 198
        }
      ]
    },
    {
      "cell_type": "code",
      "source": [
        "d.dtype.name"
      ],
      "metadata": {
        "colab": {
          "base_uri": "https://localhost:8080/",
          "height": 36
        },
        "id": "48yHfKfeEOZJ",
        "outputId": "79368049-3c64-4968-e13e-9f6b93a4fc48"
      },
      "execution_count": 199,
      "outputs": [
        {
          "output_type": "execute_result",
          "data": {
            "text/plain": [
              "'complex128'"
            ],
            "application/vnd.google.colaboratory.intrinsic+json": {
              "type": "string"
            }
          },
          "metadata": {},
          "execution_count": 199
        }
      ]
    },
    {
      "cell_type": "markdown",
      "source": [
        "*Muitas operações unárias, como calcular a soma de todos os elementos na matriz, são implementadas como métodos\n",
        "da classe ndarray"
      ],
      "metadata": {
        "id": "lCyv_8jyeeVA"
      }
    },
    {
      "cell_type": "code",
      "source": [
        "a = rg.random((2, 3))\n",
        "a"
      ],
      "metadata": {
        "colab": {
          "base_uri": "https://localhost:8080/"
        },
        "id": "VGr5dDhGelDv",
        "outputId": "8ca41291-7a05-4211-b854-f43e12b3e3be"
      },
      "execution_count": 200,
      "outputs": [
        {
          "output_type": "execute_result",
          "data": {
            "text/plain": [
              "array([[0.82770259, 0.40919914, 0.54959369],\n",
              "       [0.02755911, 0.75351311, 0.53814331]])"
            ]
          },
          "metadata": {},
          "execution_count": 200
        }
      ]
    },
    {
      "cell_type": "code",
      "source": [
        "a.sum() #soma total."
      ],
      "metadata": {
        "colab": {
          "base_uri": "https://localhost:8080/"
        },
        "id": "7IaXOnTdEVhm",
        "outputId": "347c3dbd-8b55-4b20-9446-92ddc2cf2a87"
      },
      "execution_count": 201,
      "outputs": [
        {
          "output_type": "execute_result",
          "data": {
            "text/plain": [
              "np.float64(3.1057109529998157)"
            ]
          },
          "metadata": {},
          "execution_count": 201
        }
      ]
    },
    {
      "cell_type": "code",
      "source": [
        "a.min() #mínimo."
      ],
      "metadata": {
        "colab": {
          "base_uri": "https://localhost:8080/"
        },
        "id": "09shPHqUEa91",
        "outputId": "ed809c93-1a11-42ec-a38b-6e556eb69b9d"
      },
      "execution_count": 202,
      "outputs": [
        {
          "output_type": "execute_result",
          "data": {
            "text/plain": [
              "np.float64(0.027559113243068367)"
            ]
          },
          "metadata": {},
          "execution_count": 202
        }
      ]
    },
    {
      "cell_type": "code",
      "source": [
        "a.max() #máximo."
      ],
      "metadata": {
        "colab": {
          "base_uri": "https://localhost:8080/"
        },
        "id": "hgBVfEp4EdhG",
        "outputId": "0fdd13fe-9b71-40b2-d1b5-95ec946125e0"
      },
      "execution_count": 203,
      "outputs": [
        {
          "output_type": "execute_result",
          "data": {
            "text/plain": [
              "np.float64(0.8277025938204418)"
            ]
          },
          "metadata": {},
          "execution_count": 203
        }
      ]
    },
    {
      "cell_type": "markdown",
      "source": [
        "*Por padrão, essas operações se aplicam à matriz como se fosse uma lista de números, independentemente de sua forma.\n",
        "No entanto, especificando o parâmetro axis, você pode aplicar uma operação ao longo do eixo especificado de uma matriz:"
      ],
      "metadata": {
        "id": "_PiVcnEdfRLA"
      }
    },
    {
      "cell_type": "code",
      "source": [
        "b = np.arange(12).reshape(3, 4)\n",
        "b"
      ],
      "metadata": {
        "colab": {
          "base_uri": "https://localhost:8080/"
        },
        "id": "q0BmdWbVfdRd",
        "outputId": "d934a55b-0cf6-4a76-e6bd-0744d7df7c44"
      },
      "execution_count": 204,
      "outputs": [
        {
          "output_type": "execute_result",
          "data": {
            "text/plain": [
              "array([[ 0,  1,  2,  3],\n",
              "       [ 4,  5,  6,  7],\n",
              "       [ 8,  9, 10, 11]])"
            ]
          },
          "metadata": {},
          "execution_count": 204
        }
      ]
    },
    {
      "cell_type": "code",
      "source": [
        "b.sum(axis=0) #soma de cada coluna"
      ],
      "metadata": {
        "colab": {
          "base_uri": "https://localhost:8080/"
        },
        "id": "8HbQhSiWE2ts",
        "outputId": "bf8b3f6f-d94b-419a-c5d3-7109352476c8"
      },
      "execution_count": 205,
      "outputs": [
        {
          "output_type": "execute_result",
          "data": {
            "text/plain": [
              "array([12, 15, 18, 21])"
            ]
          },
          "metadata": {},
          "execution_count": 205
        }
      ]
    },
    {
      "cell_type": "code",
      "source": [
        "b.min(axis=1) #valor mínimo de cada linha"
      ],
      "metadata": {
        "colab": {
          "base_uri": "https://localhost:8080/"
        },
        "id": "puJEK9EnE9ZL",
        "outputId": "8e3074ce-8de7-4b1a-f568-55c21f667b6a"
      },
      "execution_count": 206,
      "outputs": [
        {
          "output_type": "execute_result",
          "data": {
            "text/plain": [
              "array([0, 4, 8])"
            ]
          },
          "metadata": {},
          "execution_count": 206
        }
      ]
    },
    {
      "cell_type": "code",
      "source": [
        "b.cumsum(axis=1) #soma acumulativa (linha por linha)"
      ],
      "metadata": {
        "colab": {
          "base_uri": "https://localhost:8080/"
        },
        "id": "6RsM34xbFMPs",
        "outputId": "9aa775fe-5486-421a-9046-f6e459ae6289"
      },
      "execution_count": 207,
      "outputs": [
        {
          "output_type": "execute_result",
          "data": {
            "text/plain": [
              "array([[ 0,  1,  3,  6],\n",
              "       [ 4,  9, 15, 22],\n",
              "       [ 8, 17, 27, 38]])"
            ]
          },
          "metadata": {},
          "execution_count": 207
        }
      ]
    },
    {
      "cell_type": "markdown",
      "source": [
        "**2.2.5 FUNÇÕES UNIVERSAIS**"
      ],
      "metadata": {
        "id": "OlF9pAKog90w"
      }
    },
    {
      "cell_type": "markdown",
      "source": [
        "*O NumPy fornece funções matemáticas familiares, como sin, cos e exp. No NumPy, elas são chamadas de \"funções\n",
        "universais\" (ufunc). Dentro do NumPy, essas funções operam elementar em uma matriz, produzindo uma matriz como saída."
      ],
      "metadata": {
        "id": "6iIQNRZ_hF6Z"
      }
    },
    {
      "cell_type": "code",
      "source": [
        "B = np.arange(3)\n",
        "B"
      ],
      "metadata": {
        "colab": {
          "base_uri": "https://localhost:8080/"
        },
        "id": "bohkvznVhNwf",
        "outputId": "a0c67056-ee30-4a0d-9460-38a0c0b152b4"
      },
      "execution_count": 208,
      "outputs": [
        {
          "output_type": "execute_result",
          "data": {
            "text/plain": [
              "array([0, 1, 2])"
            ]
          },
          "metadata": {},
          "execution_count": 208
        }
      ]
    },
    {
      "cell_type": "code",
      "source": [
        "#calcula a função exponencial p/ cada elemento de 'B'\n",
        "np.exp(B)"
      ],
      "metadata": {
        "colab": {
          "base_uri": "https://localhost:8080/"
        },
        "id": "RCiCRL_EGAYI",
        "outputId": "596bda0f-d45f-4b89-d90f-468c556e0d2f"
      },
      "execution_count": 209,
      "outputs": [
        {
          "output_type": "execute_result",
          "data": {
            "text/plain": [
              "array([1.        , 2.71828183, 7.3890561 ])"
            ]
          },
          "metadata": {},
          "execution_count": 209
        }
      ]
    },
    {
      "cell_type": "code",
      "source": [
        "#calculando a raiz quadrada de cada elemento de 'B'\n",
        "np.sqrt(B)"
      ],
      "metadata": {
        "colab": {
          "base_uri": "https://localhost:8080/"
        },
        "id": "-7C7EtscGD3T",
        "outputId": "783459d0-04cd-43cb-dfd5-23570a1aa804"
      },
      "execution_count": 210,
      "outputs": [
        {
          "output_type": "execute_result",
          "data": {
            "text/plain": [
              "array([0.        , 1.        , 1.41421356])"
            ]
          },
          "metadata": {},
          "execution_count": 210
        }
      ]
    },
    {
      "cell_type": "code",
      "source": [
        "C = np.array([2., -1., 4.])\n",
        "\n",
        "#somando 'B' e 'C'\n",
        "np.add(B, C)"
      ],
      "metadata": {
        "colab": {
          "base_uri": "https://localhost:8080/"
        },
        "id": "L66x585-GOs4",
        "outputId": "34c46ca9-93b1-4c6e-8346-f71f0eb5fdd8"
      },
      "execution_count": 212,
      "outputs": [
        {
          "output_type": "execute_result",
          "data": {
            "text/plain": [
              "array([2., 0., 6.])"
            ]
          },
          "metadata": {},
          "execution_count": 212
        }
      ]
    },
    {
      "cell_type": "markdown",
      "source": [
        "**2.2.6 INDEXAÇÃO, FATIAMENTO E ITERAÇÃO**"
      ],
      "metadata": {
        "id": "zPLDhtvFhzYO"
      }
    },
    {
      "cell_type": "markdown",
      "source": [
        "*Matrizes unidimensionais podem ser indexadas, fatiadas e iteradas, assim como listas e outras sequências Python."
      ],
      "metadata": {
        "id": "1-Kn-qPQh79V"
      }
    },
    {
      "cell_type": "code",
      "source": [
        "a = np.arange(10)**3\n",
        "a"
      ],
      "metadata": {
        "colab": {
          "base_uri": "https://localhost:8080/"
        },
        "id": "1Cnb89G8h9no",
        "outputId": "4df61726-0d33-4cbd-bf4c-231bfccf3020"
      },
      "execution_count": 213,
      "outputs": [
        {
          "output_type": "execute_result",
          "data": {
            "text/plain": [
              "array([  0,   1,   8,  27,  64, 125, 216, 343, 512, 729])"
            ]
          },
          "metadata": {},
          "execution_count": 213
        }
      ]
    },
    {
      "cell_type": "code",
      "source": [
        "#terceiro elemento do array\n",
        "a[2]"
      ],
      "metadata": {
        "colab": {
          "base_uri": "https://localhost:8080/"
        },
        "id": "TEh2ZilhH7RU",
        "outputId": "94161225-dbbb-4eda-bff8-8144df69c92c"
      },
      "execution_count": 214,
      "outputs": [
        {
          "output_type": "execute_result",
          "data": {
            "text/plain": [
              "np.int64(8)"
            ]
          },
          "metadata": {},
          "execution_count": 214
        }
      ]
    },
    {
      "cell_type": "code",
      "source": [
        "#slice do índice 2 até o 4 (o índice 5 não é incluído)\n",
        "a[2:5]"
      ],
      "metadata": {
        "colab": {
          "base_uri": "https://localhost:8080/"
        },
        "id": "12GQ_lOQH_e7",
        "outputId": "d0c63746-4fac-4ed9-ace9-7cfc466bc445"
      },
      "execution_count": 215,
      "outputs": [
        {
          "output_type": "execute_result",
          "data": {
            "text/plain": [
              "array([ 8, 27, 64])"
            ]
          },
          "metadata": {},
          "execution_count": 215
        }
      ]
    },
    {
      "cell_type": "code",
      "source": [
        "#atribuindo 100 aos índices 0, 2 e 4\n",
        "a[:6:2] = 1000\n",
        "a"
      ],
      "metadata": {
        "colab": {
          "base_uri": "https://localhost:8080/"
        },
        "id": "Z9C0a--uIJ_q",
        "outputId": "a93b5002-b24e-4461-8d1b-878d7f329dc7"
      },
      "execution_count": 216,
      "outputs": [
        {
          "output_type": "execute_result",
          "data": {
            "text/plain": [
              "array([1000,    1, 1000,   27, 1000,  125,  216,  343,  512,  729])"
            ]
          },
          "metadata": {},
          "execution_count": 216
        }
      ]
    },
    {
      "cell_type": "code",
      "source": [
        "#inversão\n",
        "a[::-1]"
      ],
      "metadata": {
        "colab": {
          "base_uri": "https://localhost:8080/"
        },
        "id": "7-ldQ0gOINMC",
        "outputId": "7cb110e0-46aa-4199-ca72-a6ab841b1220"
      },
      "execution_count": 218,
      "outputs": [
        {
          "output_type": "execute_result",
          "data": {
            "text/plain": [
              "array([ 729,  512,  343,  216,  125, 1000,   27, 1000,    1, 1000])"
            ]
          },
          "metadata": {},
          "execution_count": 218
        }
      ]
    },
    {
      "cell_type": "code",
      "source": [
        "#calculando a raiz cúbica dos elementos de 'a'\n",
        "for i in a:\n",
        "  print(i**(1 / 3.))"
      ],
      "metadata": {
        "colab": {
          "base_uri": "https://localhost:8080/"
        },
        "id": "e-Keqg9hIX5y",
        "outputId": "c769c124-92c1-48b0-fb7a-7e72e31dd383"
      },
      "execution_count": 219,
      "outputs": [
        {
          "output_type": "stream",
          "name": "stdout",
          "text": [
            "9.999999999999998\n",
            "1.0\n",
            "9.999999999999998\n",
            "3.0\n",
            "9.999999999999998\n",
            "4.999999999999999\n",
            "5.999999999999999\n",
            "6.999999999999999\n",
            "7.999999999999999\n",
            "8.999999999999998\n"
          ]
        }
      ]
    },
    {
      "cell_type": "markdown",
      "source": [
        "*As matrizes multidimensionais podem ter um índice por eixo. Esses índices são dados em uma tupla separada por vírgulas:"
      ],
      "metadata": {
        "id": "V5E4ERvujF3F"
      }
    },
    {
      "cell_type": "code",
      "source": [
        "def f(x, y):\n",
        "  return 10 * x + y\n",
        "b = np.fromfunction(f, (5, 4), dtype=int)\n",
        "b"
      ],
      "metadata": {
        "colab": {
          "base_uri": "https://localhost:8080/"
        },
        "id": "J055x8VTjFg8",
        "outputId": "140df937-8856-4d0b-de9a-34dc8f9c8163"
      },
      "execution_count": 220,
      "outputs": [
        {
          "output_type": "execute_result",
          "data": {
            "text/plain": [
              "array([[ 0,  1,  2,  3],\n",
              "       [10, 11, 12, 13],\n",
              "       [20, 21, 22, 23],\n",
              "       [30, 31, 32, 33],\n",
              "       [40, 41, 42, 43]])"
            ]
          },
          "metadata": {},
          "execution_count": 220
        }
      ]
    },
    {
      "cell_type": "code",
      "source": [
        "#elemento presente na quarta coluna da terceira linha de 'b'\n",
        "b[2, 3]"
      ],
      "metadata": {
        "colab": {
          "base_uri": "https://localhost:8080/"
        },
        "id": "jickUI4AMZ90",
        "outputId": "5ee2cadf-b5d8-481e-f9cc-e8f6a43981e4"
      },
      "execution_count": 221,
      "outputs": [
        {
          "output_type": "execute_result",
          "data": {
            "text/plain": [
              "np.int64(23)"
            ]
          },
          "metadata": {},
          "execution_count": 221
        }
      ]
    },
    {
      "cell_type": "code",
      "source": [
        "#cada linha na segunda coluna de 'b'\n",
        "b[0:5, 1] or b[:, 1]"
      ],
      "metadata": {
        "colab": {
          "base_uri": "https://localhost:8080/"
        },
        "id": "ji6Ni41RMlWv",
        "outputId": "c25aae5e-7716-4067-a337-53107dd710df"
      },
      "execution_count": 222,
      "outputs": [
        {
          "output_type": "execute_result",
          "data": {
            "text/plain": [
              "array([ 1, 11, 21, 31, 41])"
            ]
          },
          "metadata": {},
          "execution_count": 222
        }
      ]
    },
    {
      "cell_type": "code",
      "source": [
        "#cada coluna na segunda e terceira linha de 'b'\n",
        "b[1:3, :]"
      ],
      "metadata": {
        "colab": {
          "base_uri": "https://localhost:8080/"
        },
        "id": "mXCbOmCYM0Gf",
        "outputId": "61dc8d96-ff7c-4034-8353-a70a1ad4ec7f"
      },
      "execution_count": 223,
      "outputs": [
        {
          "output_type": "execute_result",
          "data": {
            "text/plain": [
              "array([[10, 11, 12, 13],\n",
              "       [20, 21, 22, 23]])"
            ]
          },
          "metadata": {},
          "execution_count": 223
        }
      ]
    },
    {
      "cell_type": "markdown",
      "source": [
        "*Quando menos índices são fornecidos do que o número de eixos, os índices ausentes são considerados fatias\n",
        "completas:"
      ],
      "metadata": {
        "id": "gVWtDW0LkksP"
      }
    },
    {
      "cell_type": "code",
      "source": [
        "#elementos presentes na última linha de 'b'\n",
        "b[-1] or b[-1, :]"
      ],
      "metadata": {
        "colab": {
          "base_uri": "https://localhost:8080/"
        },
        "id": "mMJMsgY-kmXg",
        "outputId": "fbd1d996-a5e3-4a57-893e-bf816bc10a09"
      },
      "execution_count": 46,
      "outputs": [
        {
          "output_type": "execute_result",
          "data": {
            "text/plain": [
              "array([40, 41, 42, 43])"
            ]
          },
          "metadata": {},
          "execution_count": 46
        }
      ]
    },
    {
      "cell_type": "code",
      "source": [
        "c = np.array([[[ 0, 1, 2], [ 10, 12, 13]],\n",
        "              [[100, 101, 102], [110, 112, 113]]])\n",
        "\n",
        "c.shape"
      ],
      "metadata": {
        "colab": {
          "base_uri": "https://localhost:8080/"
        },
        "id": "gqec4PEFlNb0",
        "outputId": "7de50c84-73f9-4f3e-e820-b39c3043ed89"
      },
      "execution_count": 225,
      "outputs": [
        {
          "output_type": "execute_result",
          "data": {
            "text/plain": [
              "(2, 2, 3)"
            ]
          },
          "metadata": {},
          "execution_count": 225
        }
      ]
    },
    {
      "cell_type": "code",
      "source": [
        "#acessando o segundo bloco de 'c'\n",
        "c[1, ...] or c[1, :, :] or c[1]"
      ],
      "metadata": {
        "colab": {
          "base_uri": "https://localhost:8080/"
        },
        "id": "QARtf2OXO10Y",
        "outputId": "0c6dadd6-c8dc-4e94-ea2f-f478e0d4ba6b"
      },
      "execution_count": 226,
      "outputs": [
        {
          "output_type": "execute_result",
          "data": {
            "text/plain": [
              "array([[100, 101, 102],\n",
              "       [110, 112, 113]])"
            ]
          },
          "metadata": {},
          "execution_count": 226
        }
      ]
    },
    {
      "cell_type": "code",
      "source": [
        "#acessando somente os últimos elementos das últimas colunas de cada linha\n",
        "c[..., 2] or c[:, :, 2]"
      ],
      "metadata": {
        "colab": {
          "base_uri": "https://localhost:8080/"
        },
        "id": "btXadr2mPJEZ",
        "outputId": "57dd4439-7828-407c-d8c7-374f96b741f7"
      },
      "execution_count": 227,
      "outputs": [
        {
          "output_type": "execute_result",
          "data": {
            "text/plain": [
              "array([[  2,  13],\n",
              "       [102, 113]])"
            ]
          },
          "metadata": {},
          "execution_count": 227
        }
      ]
    },
    {
      "cell_type": "markdown",
      "source": [
        "*A iteração em matrizes multidimensionais é feita em relação ao primeiro eixo:"
      ],
      "metadata": {
        "id": "GOWDiwL7mBA8"
      }
    },
    {
      "cell_type": "code",
      "source": [
        "for row in b:\n",
        "  print(row)"
      ],
      "metadata": {
        "colab": {
          "base_uri": "https://localhost:8080/"
        },
        "id": "cYR0yI5xmCv5",
        "outputId": "8a68e55d-0217-45d3-beeb-1d32f7721f05"
      },
      "execution_count": 49,
      "outputs": [
        {
          "output_type": "stream",
          "name": "stdout",
          "text": [
            "[0 1 2 3]\n",
            "[10 11 12 13]\n",
            "[20 21 22 23]\n",
            "[30 31 32 33]\n",
            "[40 41 42 43]\n"
          ]
        }
      ]
    },
    {
      "cell_type": "markdown",
      "source": [
        "*No entanto, se alguém quiser realizar uma operação em cada elemento da matriz, pode-se usar o atributo flat que é\n",
        "aniterator sobre todos os elementos da matriz:"
      ],
      "metadata": {
        "id": "D1MxtbzqmMQT"
      }
    },
    {
      "cell_type": "code",
      "source": [
        "for element in b.flat:\n",
        "  print(element)"
      ],
      "metadata": {
        "colab": {
          "base_uri": "https://localhost:8080/"
        },
        "id": "c-imOOtjmOEh",
        "outputId": "548ee52a-bfce-435a-eb43-b73b79b6b385"
      },
      "execution_count": 50,
      "outputs": [
        {
          "output_type": "stream",
          "name": "stdout",
          "text": [
            "0\n",
            "1\n",
            "2\n",
            "3\n",
            "10\n",
            "11\n",
            "12\n",
            "13\n",
            "20\n",
            "21\n",
            "22\n",
            "23\n",
            "30\n",
            "31\n",
            "32\n",
            "33\n",
            "40\n",
            "41\n",
            "42\n",
            "43\n"
          ]
        }
      ]
    },
    {
      "cell_type": "markdown",
      "source": [
        "#2.3 MANIPULAÇÃO DE FORMAS"
      ],
      "metadata": {
        "id": "vIB-11SEmcdR"
      }
    },
    {
      "cell_type": "markdown",
      "source": [
        "**2.3.1 MODIFICANDO A FORMA DE UMA MATRIZ**"
      ],
      "metadata": {
        "id": "pUhssUDPnP2_"
      }
    },
    {
      "cell_type": "markdown",
      "source": [
        "*Uma matriz tem uma forma dada pelo número de elementos ao longo de cada eixo:"
      ],
      "metadata": {
        "id": "HsprYaNMpNF1"
      }
    },
    {
      "cell_type": "code",
      "source": [
        "a = np.floor(10 * rg.random((3, 4)))\n",
        "a"
      ],
      "metadata": {
        "colab": {
          "base_uri": "https://localhost:8080/"
        },
        "id": "YNNvAgpipJMS",
        "outputId": "3091f149-cb49-4ee9-f5af-4ec5f6b6c5c6"
      },
      "execution_count": 131,
      "outputs": [
        {
          "output_type": "execute_result",
          "data": {
            "text/plain": [
              "array([[4., 9., 9., 7.],\n",
              "       [6., 8., 9., 0.],\n",
              "       [1., 3., 0., 5.]])"
            ]
          },
          "metadata": {},
          "execution_count": 131
        }
      ]
    },
    {
      "cell_type": "code",
      "source": [
        "a.shape"
      ],
      "metadata": {
        "colab": {
          "base_uri": "https://localhost:8080/"
        },
        "id": "4UZvZJGo2gtj",
        "outputId": "b4a3dda9-bab2-48bb-ab75-d522b2141144"
      },
      "execution_count": 132,
      "outputs": [
        {
          "output_type": "execute_result",
          "data": {
            "text/plain": [
              "(3, 4)"
            ]
          },
          "metadata": {},
          "execution_count": 132
        }
      ]
    },
    {
      "cell_type": "markdown",
      "source": [
        "*A forma de uma matriz pode ser alterada com vários comandos. Observe que os três comandos a seguir retornam um\n",
        "array modificado, mas não alteram o array original:"
      ],
      "metadata": {
        "id": "irNFd4plprQI"
      }
    },
    {
      "cell_type": "code",
      "source": [
        "#retorna o array achatado\n",
        "a.ravel()"
      ],
      "metadata": {
        "colab": {
          "base_uri": "https://localhost:8080/"
        },
        "id": "1ig_R6OkptMH",
        "outputId": "accac53b-018a-45bc-bc1a-cf69fa4e30d7"
      },
      "execution_count": 133,
      "outputs": [
        {
          "output_type": "execute_result",
          "data": {
            "text/plain": [
              "array([4., 9., 9., 7., 6., 8., 9., 0., 1., 3., 0., 5.])"
            ]
          },
          "metadata": {},
          "execution_count": 133
        }
      ]
    },
    {
      "cell_type": "code",
      "source": [
        "#retorna o array com forma modificada\n",
        "a.reshape(6, 2)"
      ],
      "metadata": {
        "colab": {
          "base_uri": "https://localhost:8080/"
        },
        "id": "OkpPXqoq2_TC",
        "outputId": "e165d313-e9ba-4879-8ac0-9d97feba05c7"
      },
      "execution_count": 134,
      "outputs": [
        {
          "output_type": "execute_result",
          "data": {
            "text/plain": [
              "array([[4., 9.],\n",
              "       [9., 7.],\n",
              "       [6., 8.],\n",
              "       [9., 0.],\n",
              "       [1., 3.],\n",
              "       [0., 5.]])"
            ]
          },
          "metadata": {},
          "execution_count": 134
        }
      ]
    },
    {
      "cell_type": "code",
      "source": [
        "#retorna o array transposto\n",
        "a.T"
      ],
      "metadata": {
        "colab": {
          "base_uri": "https://localhost:8080/"
        },
        "id": "3GEcy_oF3Hdz",
        "outputId": "cb035bb4-b644-4d85-daf5-42adbabad3b5"
      },
      "execution_count": 135,
      "outputs": [
        {
          "output_type": "execute_result",
          "data": {
            "text/plain": [
              "array([[4., 6., 1.],\n",
              "       [9., 8., 3.],\n",
              "       [9., 9., 0.],\n",
              "       [7., 0., 5.]])"
            ]
          },
          "metadata": {},
          "execution_count": 135
        }
      ]
    },
    {
      "cell_type": "code",
      "source": [
        "#dimensões de 'a'\n",
        "a.shape"
      ],
      "metadata": {
        "colab": {
          "base_uri": "https://localhost:8080/"
        },
        "id": "-wTsxAAL3TPC",
        "outputId": "e127cc14-b1d8-4f6e-845e-667588a603f1"
      },
      "execution_count": 136,
      "outputs": [
        {
          "output_type": "execute_result",
          "data": {
            "text/plain": [
              "(3, 4)"
            ]
          },
          "metadata": {},
          "execution_count": 136
        }
      ]
    },
    {
      "cell_type": "code",
      "source": [
        "#dimensões de 'a.T'\n",
        "a.T.shape"
      ],
      "metadata": {
        "colab": {
          "base_uri": "https://localhost:8080/"
        },
        "id": "CubOufnM3334",
        "outputId": "275e2867-a0b8-44e1-f5da-ff71bc7357d4"
      },
      "execution_count": 137,
      "outputs": [
        {
          "output_type": "execute_result",
          "data": {
            "text/plain": [
              "(4, 3)"
            ]
          },
          "metadata": {},
          "execution_count": 137
        }
      ]
    },
    {
      "cell_type": "markdown",
      "source": [
        "*A função reshape retorna seu argumento com uma forma modificada, enquanto o método\n",
        "ndarray.resize modifica o próprio array:"
      ],
      "metadata": {
        "id": "jgnr2sBIs0j3"
      }
    },
    {
      "cell_type": "code",
      "source": [
        "a"
      ],
      "metadata": {
        "colab": {
          "base_uri": "https://localhost:8080/"
        },
        "id": "JcDVHO6cvmRQ",
        "outputId": "73e20efc-b898-40a4-8858-134cb0fb0f3a"
      },
      "execution_count": 138,
      "outputs": [
        {
          "output_type": "execute_result",
          "data": {
            "text/plain": [
              "array([[4., 9., 9., 7.],\n",
              "       [6., 8., 9., 0.],\n",
              "       [1., 3., 0., 5.]])"
            ]
          },
          "metadata": {},
          "execution_count": 138
        }
      ]
    },
    {
      "cell_type": "code",
      "source": [
        "a.resize((2, 6))\n",
        "a"
      ],
      "metadata": {
        "colab": {
          "base_uri": "https://localhost:8080/"
        },
        "id": "xK7jnF_b4K3u",
        "outputId": "6b8c2327-f44d-45ff-caf6-57f8603586b7"
      },
      "execution_count": 139,
      "outputs": [
        {
          "output_type": "execute_result",
          "data": {
            "text/plain": [
              "array([[4., 9., 9., 7., 6., 8.],\n",
              "       [9., 0., 1., 3., 0., 5.]])"
            ]
          },
          "metadata": {},
          "execution_count": 139
        }
      ]
    },
    {
      "cell_type": "markdown",
      "source": [
        "*Se uma dimensão for dada como -1 em uma operação de remodelação, as outras dimensões serão calculadas automaticamente:"
      ],
      "metadata": {
        "id": "k2_3RoG9wHw6"
      }
    },
    {
      "cell_type": "code",
      "source": [
        "a.reshape(3, -1)"
      ],
      "metadata": {
        "colab": {
          "base_uri": "https://localhost:8080/"
        },
        "id": "QzMNIO_rwItW",
        "outputId": "eca89feb-2cbe-4e9f-dc01-2c2ddbbad940"
      },
      "execution_count": 97,
      "outputs": [
        {
          "output_type": "execute_result",
          "data": {
            "text/plain": [
              "array([[1., 6., 3., 7.],\n",
              "       [6., 4., 8., 6.],\n",
              "       [8., 3., 5., 1.]])"
            ]
          },
          "metadata": {},
          "execution_count": 97
        }
      ]
    },
    {
      "cell_type": "markdown",
      "source": [
        "**2.3.2 EMPILHANDO DIFERENTES MATRIZES**"
      ],
      "metadata": {
        "id": "JS4NZ4pxwX91"
      }
    },
    {
      "cell_type": "markdown",
      "source": [
        "*Várias matrizes podem ser empilhadas juntas ao longo de diferentes eixos:"
      ],
      "metadata": {
        "id": "sgwR-TeewhMm"
      }
    },
    {
      "cell_type": "code",
      "source": [
        "#criando array 'a'\n",
        "a = np.floor(10 * rg.random((2, 2)))\n",
        "a"
      ],
      "metadata": {
        "colab": {
          "base_uri": "https://localhost:8080/"
        },
        "id": "GKdp7T10wkB3",
        "outputId": "facb3f93-a386-436b-f7db-78c679653467"
      },
      "execution_count": 111,
      "outputs": [
        {
          "output_type": "execute_result",
          "data": {
            "text/plain": [
              "array([[8., 7.],\n",
              "       [6., 2.]])"
            ]
          },
          "metadata": {},
          "execution_count": 111
        }
      ]
    },
    {
      "cell_type": "code",
      "source": [
        "#criando array 'b'\n",
        "b = np.floor(10 * rg.random((2, 2)))\n",
        "b"
      ],
      "metadata": {
        "colab": {
          "base_uri": "https://localhost:8080/"
        },
        "id": "Lj6EW4HDxzaQ",
        "outputId": "c2aa3f90-b180-49cf-fc1b-a6ec132901f3"
      },
      "execution_count": 110,
      "outputs": [
        {
          "output_type": "execute_result",
          "data": {
            "text/plain": [
              "array([[5., 3.],\n",
              "       [7., 6.]])"
            ]
          },
          "metadata": {},
          "execution_count": 110
        }
      ]
    },
    {
      "cell_type": "code",
      "source": [
        "#empilhando os arrays verticalmente\n",
        "np.vstack((a, b))"
      ],
      "metadata": {
        "colab": {
          "base_uri": "https://localhost:8080/"
        },
        "id": "KImamhRrx4c8",
        "outputId": "9fecdc3b-8e55-400f-e7a0-8620aec18bee"
      },
      "execution_count": 113,
      "outputs": [
        {
          "output_type": "execute_result",
          "data": {
            "text/plain": [
              "array([[8., 7.],\n",
              "       [6., 2.],\n",
              "       [5., 3.],\n",
              "       [7., 6.]])"
            ]
          },
          "metadata": {},
          "execution_count": 113
        }
      ]
    },
    {
      "cell_type": "code",
      "source": [
        "#empilhando os arrays horizontalmente\n",
        "np.hstack((a, b))"
      ],
      "metadata": {
        "colab": {
          "base_uri": "https://localhost:8080/"
        },
        "id": "VMjoZMfKy8nO",
        "outputId": "423ad8ae-82d1-42db-ecd4-c1c003369255"
      },
      "execution_count": 115,
      "outputs": [
        {
          "output_type": "execute_result",
          "data": {
            "text/plain": [
              "array([[8., 7., 5., 3.],\n",
              "       [6., 2., 7., 6.]])"
            ]
          },
          "metadata": {},
          "execution_count": 115
        }
      ]
    },
    {
      "cell_type": "markdown",
      "source": [
        "*A função column_stack empilha matrizes 1D como colunas em uma matriz 2D. É equivalente a hstack apenas para\n",
        "matrizes 2D:"
      ],
      "metadata": {
        "id": "swZhX-6UzbsZ"
      }
    },
    {
      "cell_type": "code",
      "source": [
        "from numpy import newaxis\n",
        "np.column_stack((a, b)) #com matriz 2D"
      ],
      "metadata": {
        "colab": {
          "base_uri": "https://localhost:8080/"
        },
        "id": "9eGFjBCpzdoU",
        "outputId": "b1fec496-2b4b-423b-e3bf-dacafee4bb5f"
      },
      "execution_count": 119,
      "outputs": [
        {
          "output_type": "execute_result",
          "data": {
            "text/plain": [
              "array([[8., 7., 5., 3.],\n",
              "       [6., 2., 7., 6.]])"
            ]
          },
          "metadata": {},
          "execution_count": 119
        }
      ]
    },
    {
      "cell_type": "code",
      "source": [
        "a = np.array([4., 2.])\n",
        "b = np.array([3., 8.])\n",
        "np.column_stack((a, b)) #retorna uma matriz 2D"
      ],
      "metadata": {
        "colab": {
          "base_uri": "https://localhost:8080/"
        },
        "id": "64NOn5q_z_MC",
        "outputId": "32e2ac0e-bb2c-4ba3-bd4c-165e2a11b14f"
      },
      "execution_count": 120,
      "outputs": [
        {
          "output_type": "execute_result",
          "data": {
            "text/plain": [
              "array([[4., 3.],\n",
              "       [2., 8.]])"
            ]
          },
          "metadata": {},
          "execution_count": 120
        }
      ]
    },
    {
      "cell_type": "code",
      "source": [
        "np.hstack((a, b)) #o resultado é diferente"
      ],
      "metadata": {
        "colab": {
          "base_uri": "https://localhost:8080/"
        },
        "id": "M7gGoBLK0TqS",
        "outputId": "b4295d84-5b94-407a-f438-5bd1b81c1ead"
      },
      "execution_count": 121,
      "outputs": [
        {
          "output_type": "execute_result",
          "data": {
            "text/plain": [
              "array([4., 2., 3., 8.])"
            ]
          },
          "metadata": {},
          "execution_count": 121
        }
      ]
    },
    {
      "cell_type": "code",
      "source": [
        "a[:, newaxis] #veja 'a' como um vetor de coluna 2D"
      ],
      "metadata": {
        "colab": {
          "base_uri": "https://localhost:8080/"
        },
        "id": "CIx53dgI0cPX",
        "outputId": "64340c08-7c9e-4f18-b518-fb127268645f"
      },
      "execution_count": 123,
      "outputs": [
        {
          "output_type": "execute_result",
          "data": {
            "text/plain": [
              "array([[4.],\n",
              "       [2.]])"
            ]
          },
          "metadata": {},
          "execution_count": 123
        }
      ]
    },
    {
      "cell_type": "code",
      "source": [
        "np.column_stack((a[:, newaxis], b[:, newaxis]))"
      ],
      "metadata": {
        "colab": {
          "base_uri": "https://localhost:8080/"
        },
        "id": "FXcQIZes085-",
        "outputId": "9d344647-1aba-4797-9e50-0a9f34527793"
      },
      "execution_count": 124,
      "outputs": [
        {
          "output_type": "execute_result",
          "data": {
            "text/plain": [
              "array([[4., 3.],\n",
              "       [2., 8.]])"
            ]
          },
          "metadata": {},
          "execution_count": 124
        }
      ]
    },
    {
      "cell_type": "code",
      "source": [
        "np.hstack((a[:, newaxis], b[:, newaxis])) #o resultado é o mesmo"
      ],
      "metadata": {
        "colab": {
          "base_uri": "https://localhost:8080/"
        },
        "id": "SpDA4Xnl1JYE",
        "outputId": "7e511c74-61b2-4112-b84d-0c38b4daac00"
      },
      "execution_count": 125,
      "outputs": [
        {
          "output_type": "execute_result",
          "data": {
            "text/plain": [
              "array([[4., 3.],\n",
              "       [2., 8.]])"
            ]
          },
          "metadata": {},
          "execution_count": 125
        }
      ]
    },
    {
      "cell_type": "markdown",
      "source": [
        "***2.3.3 DIVIDINDO UM ARRAY EM VÁRIOS MENORES***"
      ],
      "metadata": {
        "id": "9zVUXa-c1YvF"
      }
    },
    {
      "cell_type": "markdown",
      "source": [
        "*Usando hsplit, você pode dividir uma matriz ao longo de seu eixo horizontal, especificando o número de matrizes de\n",
        "formato igual para retornar ou especificando as colunas após as quais a divisão deve ocorrer:"
      ],
      "metadata": {
        "id": "_jspl8fi1i3e"
      }
    },
    {
      "cell_type": "code",
      "source": [
        "a = np.floor(10 * rg.random((2, 12)))\n",
        "a"
      ],
      "metadata": {
        "colab": {
          "base_uri": "https://localhost:8080/"
        },
        "id": "hKYKKdly1g79",
        "outputId": "7e645819-993f-4b61-bed3-f4299ae48d4b"
      },
      "execution_count": 126,
      "outputs": [
        {
          "output_type": "execute_result",
          "data": {
            "text/plain": [
              "array([[7., 2., 0., 9., 5., 7., 5., 6., 0., 1., 6., 5.],\n",
              "       [1., 9., 1., 5., 1., 7., 2., 1., 0., 1., 1., 5.]])"
            ]
          },
          "metadata": {},
          "execution_count": 126
        }
      ]
    },
    {
      "cell_type": "code",
      "source": [
        "#dividindo 'a' em 3\n",
        "np.hsplit(a, 3)"
      ],
      "metadata": {
        "colab": {
          "base_uri": "https://localhost:8080/"
        },
        "id": "M5XysWEg1vZu",
        "outputId": "faf6600a-d272-4497-9388-8f3fe621caee"
      },
      "execution_count": 129,
      "outputs": [
        {
          "output_type": "execute_result",
          "data": {
            "text/plain": [
              "[array([[7., 2., 0., 9.],\n",
              "        [1., 9., 1., 5.]]),\n",
              " array([[5., 7., 5., 6.],\n",
              "        [1., 7., 2., 1.]]),\n",
              " array([[0., 1., 6., 5.],\n",
              "        [0., 1., 1., 5.]])]"
            ]
          },
          "metadata": {},
          "execution_count": 129
        }
      ]
    },
    {
      "cell_type": "code",
      "source": [
        "#dividindo 'a' após a terceira e a quarta coluna\n",
        "np.hsplit(a, (3, 4))"
      ],
      "metadata": {
        "colab": {
          "base_uri": "https://localhost:8080/"
        },
        "id": "MZyM9xRt18wY",
        "outputId": "7fc25460-c7d2-424c-ca4a-85454638af67"
      },
      "execution_count": 130,
      "outputs": [
        {
          "output_type": "execute_result",
          "data": {
            "text/plain": [
              "[array([[7., 2., 0.],\n",
              "        [1., 9., 1.]]),\n",
              " array([[9.],\n",
              "        [5.]]),\n",
              " array([[5., 7., 5., 6., 0., 1., 6., 5.],\n",
              "        [1., 7., 2., 1., 0., 1., 1., 5.]])]"
            ]
          },
          "metadata": {},
          "execution_count": 130
        }
      ]
    }
  ]
}