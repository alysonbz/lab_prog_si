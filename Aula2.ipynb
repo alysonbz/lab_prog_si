{
  "nbformat": 4,
  "nbformat_minor": 0,
  "metadata": {
    "colab": {
      "provenance": [],
      "authorship_tag": "ABX9TyNbuyoiQPZGlRnSs39QpCL/"
    },
    "kernelspec": {
      "name": "python3",
      "display_name": "Python 3"
    },
    "language_info": {
      "name": "python"
    }
  },
  "cells": [
    {
      "cell_type": "code",
      "execution_count": 1,
      "metadata": {
        "colab": {
          "base_uri": "https://localhost:8080/"
        },
        "id": "0nMo2uND6dLy",
        "outputId": "a82b723a-47d7-4cbe-998f-0c5d4628eb09"
      },
      "outputs": [
        {
          "output_type": "execute_result",
          "data": {
            "text/plain": [
              "[1.8, 1.75, 1, 64, 1.74]"
            ]
          },
          "metadata": {},
          "execution_count": 1
        }
      ],
      "source": [
        "fam = [1.80, 1.75, 1,64, 1.74]\n",
        "fam"
      ]
    },
    {
      "cell_type": "code",
      "source": [
        "alunos = ['Kauan, Habacuqui, Erick']"
      ],
      "metadata": {
        "id": "RAXIZ-cZ7KCN"
      },
      "execution_count": 8,
      "outputs": []
    },
    {
      "cell_type": "code",
      "source": [
        "alunos"
      ],
      "metadata": {
        "colab": {
          "base_uri": "https://localhost:8080/"
        },
        "id": "zBdehbph7SK7",
        "outputId": "bd5c0e7f-5a5d-44bd-fa1c-11c125bd1335"
      },
      "execution_count": 11,
      "outputs": [
        {
          "output_type": "execute_result",
          "data": {
            "text/plain": [
              "['Kauan, Habacuque, Emanuel', 'João Pedro']"
            ]
          },
          "metadata": {},
          "execution_count": 11
        }
      ]
    },
    {
      "cell_type": "code",
      "source": [
        "alunos.append('João Pedro')"
      ],
      "metadata": {
        "id": "vt-fc13i7TzT"
      },
      "execution_count": 10,
      "outputs": []
    },
    {
      "cell_type": "code",
      "source": [
        "alunos_com_notas = [['Kauan, 8'], ['Habacuqui, 8'],['Erick, 9'],['João Pedro, 10']]\n",
        "alunos_com_notas"
      ],
      "metadata": {
        "colab": {
          "base_uri": "https://localhost:8080/"
        },
        "id": "u-AIXn2J7ZEb",
        "outputId": "9a0223bd-33a3-4d6d-8f81-33ebfcb04477"
      },
      "execution_count": 16,
      "outputs": [
        {
          "output_type": "execute_result",
          "data": {
            "text/plain": [
              "[['Kauan, 8'], ['Habacuqui, 8'], ['Emanuel, 9'], ['João Pedro, 10']]"
            ]
          },
          "metadata": {},
          "execution_count": 16
        }
      ]
    }
  ]
}