{
  "nbformat": 4,
  "nbformat_minor": 0,
  "metadata": {
    "colab": {
      "provenance": [],
      "authorship_tag": "ABX9TyPavv97uTJOgpfMylEvb35y",
      "include_colab_link": true
    },
    "kernelspec": {
      "name": "python3",
      "display_name": "Python 3"
    },
    "language_info": {
      "name": "python"
    }
  },
  "cells": [
    {
      "cell_type": "markdown",
      "metadata": {
        "id": "view-in-github",
        "colab_type": "text"
      },
      "source": [
        "<a href=\"https://colab.research.google.com/github/alysonbz/lab_prog_si/blob/luis_fernando/Aula2.ipynb\" target=\"_parent\"><img src=\"https://colab.research.google.com/assets/colab-badge.svg\" alt=\"Open In Colab\"/></a>"
      ]
    },
    {
      "cell_type": "markdown",
      "source": [
        "Aula 2 - Laboratorio de Programação"
      ],
      "metadata": {
        "id": "Xki6irbU1nN1"
      }
    },
    {
      "cell_type": "code",
      "source": [
        "alunos = [\"luis\", \"cauan\", \"hugo\"]\n",
        "print(alunos)"
      ],
      "metadata": {
        "colab": {
          "base_uri": "https://localhost:8080/"
        },
        "id": "C2bl9UVr1pU-",
        "outputId": "3b1d8658-ef35-48dc-b458-7ab0f54add81"
      },
      "execution_count": 21,
      "outputs": [
        {
          "output_type": "stream",
          "name": "stdout",
          "text": [
            "['luis', 'cauan', 'hugo']\n"
          ]
        }
      ]
    },
    {
      "cell_type": "code",
      "source": [
        "alunos_com_notas = [[\"luis\", 10],[\"cauan\", 0], [\"hugo\", 9.9]]\n",
        "print(alunos_com_notas)"
      ],
      "metadata": {
        "colab": {
          "base_uri": "https://localhost:8080/"
        },
        "id": "4wiF8eK59PGT",
        "outputId": "a78c679c-22ba-4b74-b864-3269a971b307"
      },
      "execution_count": 27,
      "outputs": [
        {
          "output_type": "stream",
          "name": "stdout",
          "text": [
            "[['luis', 10], ['cauan', 0], ['hugo', 9.9]]\n"
          ]
        }
      ]
    }
  ]
}