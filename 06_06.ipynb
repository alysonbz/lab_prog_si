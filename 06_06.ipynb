{
  "nbformat": 4,
  "nbformat_minor": 0,
  "metadata": {
    "colab": {
      "provenance": [],
      "authorship_tag": "ABX9TyOxkIsLfLp3iU0h8mXthhuy",
      "include_colab_link": true
    },
    "kernelspec": {
      "name": "python3",
      "display_name": "Python 3"
    },
    "language_info": {
      "name": "python"
    }
  },
  "cells": [
    {
      "cell_type": "markdown",
      "metadata": {
        "id": "view-in-github",
        "colab_type": "text"
      },
      "source": [
        "<a href=\"https://colab.research.google.com/github/alysonbz/lab_prog_si/blob/joao_victor/06_06.ipynb\" target=\"_parent\"><img src=\"https://colab.research.google.com/assets/colab-badge.svg\" alt=\"Open In Colab\"/></a>"
      ]
    },
    {
      "cell_type": "code",
      "execution_count": 5,
      "metadata": {
        "colab": {
          "base_uri": "https://localhost:8080/"
        },
        "id": "dRjyFCumEAjd",
        "outputId": "9a911c58-57f0-4443-f7b3-bb063b127666"
      },
      "outputs": [
        {
          "output_type": "execute_result",
          "data": {
            "text/plain": [
              "array([ 8.45849152, 11.60046472, 10.48263063, 12.04462218, 10.73252861,\n",
              "       10.28644069,  9.27722791,  9.33320215,  9.99535273, 10.01429009,\n",
              "       10.83145694, 10.06932084,  9.42788404,  8.34199115, 10.09306303,\n",
              "        9.78284283,  9.87347044,  8.15550248,  9.7961115 ,  8.05227738,\n",
              "        9.99604065, 10.96266355, 11.00983175,  8.13276785, 11.27395056,\n",
              "        9.81300485, 10.03846176, 10.52332971, 11.33529503,  9.82910058,\n",
              "       10.92105447,  9.3665127 ,  9.87292978, 10.07089105, 12.17747626,\n",
              "        9.53499258,  8.60853456,  9.7181753 ,  9.91462669,  9.2227474 ,\n",
              "        9.68424492,  9.06309404, 10.36833944,  8.83453525, 11.6322213 ,\n",
              "        9.67640485, 10.64313548,  9.72548115,  8.26192961, 10.39274434,\n",
              "       10.10148655, 10.8265781 ,  9.15724979, 10.33309772,  8.91602772,\n",
              "       10.32518862, 11.07968343,  8.10165169, 10.90997996,  8.87319161,\n",
              "        8.40978681, 10.47592248, 10.5914791 ,  8.81302987,  8.68622693,\n",
              "        9.84312127,  9.3005693 , 10.3276842 ,  9.89707214,  9.81401214,\n",
              "       10.05459874, 10.96148163,  9.97546618,  9.49099201, 11.4237716 ,\n",
              "       10.33650945, 11.29527451, 10.24775342,  9.53290412,  9.54293582,\n",
              "        9.20004526, 10.26242103,  9.10941243,  9.42183224, 11.04558668,\n",
              "       12.38795414, 10.23091461,  9.01347993,  9.71095064,  9.11895651,\n",
              "        9.94890409,  9.23365029, 11.93332915,  9.40044811, 11.45185108,\n",
              "       10.44144883,  7.85681204,  8.34784227,  8.81011582, 10.80629327])"
            ]
          },
          "metadata": {},
          "execution_count": 5
        }
      ],
      "source": [
        "import numpy as np\n",
        "import matplotlib.pyplot as plt\n",
        "dados = np.random.normal(10,1,100)\n",
        "dados"
      ]
    },
    {
      "cell_type": "code",
      "source": [
        "plt.hist(dados)"
      ],
      "metadata": {
        "colab": {
          "base_uri": "https://localhost:8080/",
          "height": 517
        },
        "id": "jGyYaHoLEZbL",
        "outputId": "de1778e7-675f-4fcf-96de-88834d9e16df"
      },
      "execution_count": 7,
      "outputs": [
        {
          "output_type": "execute_result",
          "data": {
            "text/plain": [
              "(array([ 6.,  6., 11., 13., 26., 14., 11.,  7.,  3.,  3.]),\n",
              " array([ 7.85681204,  8.30992625,  8.76304046,  9.21615467,  9.66926888,\n",
              "        10.12238309, 10.5754973 , 11.02861151, 11.48172572, 11.93483993,\n",
              "        12.38795414]),\n",
              " <BarContainer object of 10 artists>)"
            ]
          },
          "metadata": {},
          "execution_count": 7
        },
        {
          "output_type": "display_data",
          "data": {
            "text/plain": [
              "<Figure size 640x480 with 1 Axes>"
            ],
            "image/png": "[encoded data removed]"
          },
          "metadata": {}
        }
      ]
    },
    {
      "cell_type": "code",
      "source": [
        "dados2 = np.random.randint(20,50,500)\n",
        "dados2"
      ],
      "metadata": {
        "colab": {
          "base_uri": "https://localhost:8080/"
        },
        "id": "L7yMg61nEH20",
        "outputId": "b9dfd945-7f7d-48f2-b946-5db010b2d5b9"
      },
      "execution_count": 12,
      "outputs": [
        {
          "output_type": "execute_result",
          "data": {
            "text/plain": [
              "array([20, 24, 41, 28, 47, 20, 21, 20, 30, 43, 47, 27, 48, 33, 25, 32, 20,\n",
              "       44, 36, 38, 22, 26, 44, 34, 37, 47, 43, 47, 43, 29, 28, 26, 27, 29,\n",
              "       35, 40, 43, 32, 49, 39, 37, 49, 38, 33, 25, 36, 27, 39, 28, 24, 25,\n",
              "       45, 43, 21, 45, 39, 47, 37, 48, 36, 48, 36, 41, 42, 35, 20, 23, 25,\n",
              "       21, 40, 43, 38, 28, 21, 47, 33, 29, 28, 49, 46, 30, 31, 44, 39, 43,\n",
              "       22, 26, 43, 39, 20, 39, 39, 25, 40, 26, 45, 47, 41, 41, 41, 29, 21,\n",
              "       28, 27, 46, 37, 35, 27, 24, 25, 49, 23, 22, 29, 37, 39, 26, 46, 48,\n",
              "       24, 39, 25, 41, 38, 25, 48, 45, 26, 39, 39, 38, 29, 39, 30, 34, 35,\n",
              "       27, 48, 25, 48, 24, 27, 34, 41, 26, 49, 26, 40, 27, 47, 20, 45, 38,\n",
              "       20, 45, 21, 42, 23, 41, 48, 32, 41, 20, 27, 44, 22, 42, 37, 21, 44,\n",
              "       45, 43, 20, 20, 22, 38, 36, 46, 31, 42, 26, 36, 32, 48, 27, 20, 34,\n",
              "       40, 31, 30, 34, 20, 31, 24, 42, 23, 39, 20, 27, 21, 41, 35, 22, 25,\n",
              "       29, 25, 45, 27, 45, 47, 36, 29, 20, 45, 46, 36, 32, 46, 39, 37, 22,\n",
              "       42, 32, 47, 40, 22, 41, 42, 21, 30, 44, 35, 32, 34, 21, 42, 46, 23,\n",
              "       37, 46, 23, 36, 34, 33, 20, 40, 49, 43, 38, 25, 48, 45, 24, 34, 35,\n",
              "       40, 31, 38, 25, 38, 23, 25, 46, 47, 48, 20, 49, 28, 29, 41, 27, 22,\n",
              "       30, 24, 37, 45, 25, 25, 41, 33, 30, 28, 26, 42, 21, 49, 45, 47, 22,\n",
              "       28, 36, 35, 23, 33, 44, 37, 25, 34, 20, 25, 34, 21, 44, 44, 29, 35,\n",
              "       46, 28, 46, 22, 24, 27, 28, 46, 41, 45, 26, 37, 42, 21, 31, 35, 22,\n",
              "       49, 39, 39, 32, 26, 38, 42, 27, 45, 37, 45, 40, 31, 47, 34, 20, 44,\n",
              "       38, 34, 28, 36, 46, 42, 30, 47, 32, 24, 30, 23, 34, 22, 27, 21, 30,\n",
              "       46, 34, 39, 21, 24, 30, 23, 42, 21, 36, 45, 45, 23, 29, 48, 26, 45,\n",
              "       47, 22, 26, 46, 27, 47, 25, 29, 27, 42, 33, 39, 21, 44, 44, 38, 49,\n",
              "       27, 36, 41, 31, 20, 29, 28, 24, 22, 32, 46, 47, 43, 20, 33, 36, 26,\n",
              "       46, 47, 47, 36, 22, 29, 31, 39, 28, 41, 20, 26, 30, 44, 41, 34, 43,\n",
              "       45, 29, 41, 31, 30, 43, 32, 32, 26, 42, 29, 24, 40, 43, 20, 22, 48,\n",
              "       36, 33, 37, 47, 32, 26, 38, 44, 29, 25, 49, 41, 23, 43, 25, 37, 35,\n",
              "       43, 38, 30, 32, 36, 47, 26, 36, 31, 46, 47, 48, 24, 39, 38, 30, 37,\n",
              "       20, 49, 20, 25, 34, 28, 34, 29, 38, 35, 25, 45, 33, 43, 22, 33, 20,\n",
              "       35, 47, 42, 35, 26, 36, 31])"
            ]
          },
          "metadata": {},
          "execution_count": 12
        }
      ]
    },
    {
      "cell_type": "code",
      "source": [
        "plt.hist(dados2)"
      ],
      "metadata": {
        "colab": {
          "base_uri": "https://localhost:8080/",
          "height": 482
        },
        "id": "KpIAqwsGEXKr",
        "outputId": "a89b5ff1-714a-4055-e681-768d90a66280"
      },
      "execution_count": 13,
      "outputs": [
        {
          "output_type": "execute_result",
          "data": {
            "text/plain": [
              "(array([61., 49., 54., 45., 42., 48., 47., 52., 53., 49.]),\n",
              " array([20. , 22.9, 25.8, 28.7, 31.6, 34.5, 37.4, 40.3, 43.2, 46.1, 49. ]),\n",
              " <BarContainer object of 10 artists>)"
            ]
          },
          "metadata": {},
          "execution_count": 13
        },
        {
          "output_type": "display_data",
          "data": {
            "text/plain": [
              "<Figure size 640x480 with 1 Axes>"
            ],
            "image/png": "[encoded data removed]"
          },
          "metadata": {}
        }
      ]
    },
    {
      "cell_type": "code",
      "source": [],
      "metadata": {
        "id": "vZLwu0SvE8QI"
      },
      "execution_count": null,
      "outputs": []
    }
  ]
}