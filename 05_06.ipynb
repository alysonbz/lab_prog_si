{
  "nbformat": 4,
  "nbformat_minor": 0,
  "metadata": {
    "colab": {
      "provenance": [],
      "authorship_tag": "ABX9TyM8TXS4WREumzaNu+FQo2Pw",
      "include_colab_link": true
    },
    "kernelspec": {
      "name": "python3",
      "display_name": "Python 3"
    },
    "language_info": {
      "name": "python"
    }
  },
  "cells": [
    {
      "cell_type": "markdown",
      "metadata": {
        "id": "view-in-github",
        "colab_type": "text"
      },
      "source": [
        "<a href=\"https://colab.research.google.com/github/alysonbz/lab_prog_si/blob/joao_victor/05_06.ipynb\" target=\"_parent\"><img src=\"https://colab.research.google.com/assets/colab-badge.svg\" alt=\"Open In Colab\"/></a>"
      ]
    },
    {
      "cell_type": "code",
      "execution_count": 40,
      "metadata": {
        "colab": {
          "base_uri": "https://localhost:8080/"
        },
        "id": "nvf1Xop9PhuH",
        "outputId": "a274185e-d706-4664-b6a8-2ddcfad4aaa9"
      },
      "outputs": [
        {
          "output_type": "stream",
          "name": "stdout",
          "text": [
            "[210.   98.5]\n",
            "[]\n"
          ]
        }
      ],
      "source": [
        "#questao 1\n",
        "baseball = [[180, 78.4],\n",
        "            [215, 182.2],\n",
        "            [210, 98.5],\n",
        "            [188, 75.2]]\n",
        "import numpy as np\n",
        "\n",
        "np_baseball = np.array(baseball)\n",
        "print (np_baseball[2])\n",
        "print(np_baseball[4:])"
      ]
    },
    {
      "cell_type": "code",
      "source": [
        "#questao 2 e 3\n",
        "np_weight_lb = np_baseball[:,1]\n",
        "print(np_weight_lb)"
      ],
      "metadata": {
        "colab": {
          "base_uri": "https://localhost:8080/"
        },
        "id": "PJGpPr2hRE7W",
        "outputId": "50bf5775-932f-4e19-ed24-94bbaf9314e4"
      },
      "execution_count": 24,
      "outputs": [
        {
          "output_type": "stream",
          "name": "stdout",
          "text": [
            "[ 78.4 182.2  98.5  75.2]\n"
          ]
        }
      ]
    },
    {
      "cell_type": "code",
      "source": [
        "#questao 4\n",
        "np_cm_lb = np_baseball[:,0]\n",
        "media = np.mean(np_cm_lb)\n",
        "print(media)\n"
      ],
      "metadata": {
        "colab": {
          "base_uri": "https://localhost:8080/"
        },
        "id": "jYwwS9WDXdNs",
        "outputId": "8f294793-aa22-498b-edc3-5674c34c6014"
      },
      "execution_count": 28,
      "outputs": [
        {
          "output_type": "stream",
          "name": "stdout",
          "text": [
            "198.25\n"
          ]
        }
      ]
    },
    {
      "cell_type": "code",
      "source": [
        "#questao 5\n",
        "np_weight_lb = np_baseball[:,1]\n",
        "mediana = np.median(np_weight_lb)\n",
        "print(mediana)"
      ],
      "metadata": {
        "colab": {
          "base_uri": "https://localhost:8080/"
        },
        "id": "1Cr6L9kjYfSf",
        "outputId": "c6c00b0b-ae99-4e18-e44b-579a526e1e9c"
      },
      "execution_count": 29,
      "outputs": [
        {
          "output_type": "stream",
          "name": "stdout",
          "text": [
            "88.45\n"
          ]
        }
      ]
    },
    {
      "cell_type": "code",
      "source": [
        "#ex 1"
      ],
      "metadata": {
        "id": "-TiEasrkZGvo"
      },
      "execution_count": 40,
      "outputs": []
    },
    {
      "cell_type": "code",
      "source": [
        "#ex 2\n",
        "# a primeira opcão\n",
        "import numpy as np\n",
        "z = np.array([[9, 9, 3],[8, 5, 4]])\n",
        "print(z[1, 0])"
      ],
      "metadata": {
        "colab": {
          "base_uri": "https://localhost:8080/"
        },
        "id": "X9BbF2LeaIHv",
        "outputId": "91c06beb-a9d7-4d2d-8c5f-8b1ad7f543cc"
      },
      "execution_count": 44,
      "outputs": [
        {
          "output_type": "stream",
          "name": "stdout",
          "text": [
            "8\n"
          ]
        }
      ]
    },
    {
      "cell_type": "code",
      "source": [
        "import numpy as np\n",
        "m = np.array([2, 6, 4])\n",
        "n = np.array([2, 1, 1])\n",
        "print(m * n)"
      ],
      "metadata": {
        "colab": {
          "base_uri": "https://localhost:8080/"
        },
        "id": "XnaTKvWQa9f4",
        "outputId": "c43440a8-0dc9-4f63-cab3-674a23a6438f"
      },
      "execution_count": 45,
      "outputs": [
        {
          "output_type": "stream",
          "name": "stdout",
          "text": [
            "[4 6 4]\n"
          ]
        }
      ]
    }
  ]
}