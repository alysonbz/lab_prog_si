{
  "nbformat": 4,
  "nbformat_minor": 0,
  "metadata": {
    "colab": {
      "provenance": [],
      "authorship_tag": "ABX9TyNK1xXUo3gJFrre4LiT2UUS",
      "include_colab_link": true
    },
    "kernelspec": {
      "name": "python3",
      "display_name": "Python 3"
    },
    "language_info": {
      "name": "python"
    }
  },
  "cells": [
    {
      "cell_type": "markdown",
      "metadata": {
        "id": "view-in-github",
        "colab_type": "text"
      },
      "source": [
        "<a href=\"https://colab.research.google.com/github/alysonbz/lab_prog_si/blob/habacuquidoglas/dia29_05.ipynb\" target=\"_parent\"><img src=\"https://colab.research.google.com/assets/colab-badge.svg\" alt=\"Open In Colab\"/></a>"
      ]
    },
    {
      "cell_type": "markdown",
      "source": [
        "#Classe\n"
      ],
      "metadata": {
        "id": "Tlpj92mmF2B5"
      }
    },
    {
      "cell_type": "code",
      "execution_count": 1,
      "metadata": {
        "id": "V3BDXrilFuCv",
        "colab": {
          "base_uri": "https://localhost:8080/"
        },
        "outputId": "ef2f9f0b-71ee-407d-99be-0143b610ecbf"
      },
      "outputs": [
        {
          "output_type": "stream",
          "name": "stdout",
          "text": [
            "<class 'list'>\n"
          ]
        }
      ],
      "source": [
        "#questão1\n",
        "var1=[1,2,3,4]\n",
        "var2=True\n",
        "\n",
        "type(var1)\n",
        "print(type(var1))"
      ]
    },
    {
      "cell_type": "code",
      "source": [
        "#questão2\n",
        "print(\"a quantidade de elementos é \",len(var1))\n"
      ],
      "metadata": {
        "colab": {
          "base_uri": "https://localhost:8080/"
        },
        "id": "0j-68s9IIZ67",
        "outputId": "dc9cfbea-0518-495b-caa8-a51726ed7169"
      },
      "execution_count": 2,
      "outputs": [
        {
          "output_type": "stream",
          "name": "stdout",
          "text": [
            "a quantidade de elementos é  4\n"
          ]
        }
      ]
    },
    {
      "cell_type": "code",
      "source": [
        "#questão3\n",
        "out2=int(var2)\n",
        "print(type(out2))"
      ],
      "metadata": {
        "colab": {
          "base_uri": "https://localhost:8080/"
        },
        "id": "mRA1Z_VeIhV5",
        "outputId": "ea34bdd6-ab18-4224-b7eb-064f2d1fba23"
      },
      "execution_count": 3,
      "outputs": [
        {
          "output_type": "stream",
          "name": "stdout",
          "text": [
            "<class 'int'>\n"
          ]
        }
      ]
    },
    {
      "cell_type": "markdown",
      "source": [
        "#Casa"
      ],
      "metadata": {
        "id": "aUGS9FflLoja"
      }
    },
    {
      "cell_type": "code",
      "source": [
        "#questão 4\n",
        "frist = [11.25,18.0,20.0]\n",
        "second = [10.75,9.50]\n",
        "full = frist + second\n",
        "print(full)"
      ],
      "metadata": {
        "colab": {
          "base_uri": "https://localhost:8080/"
        },
        "id": "1ipp7IoVKs4X",
        "outputId": "1697d8e2-0ecd-4354-9db9-7e753dd9e54f"
      },
      "execution_count": 10,
      "outputs": [
        {
          "output_type": "stream",
          "name": "stdout",
          "text": [
            "[11.25, 18.0, 20.0, 10.75, 9.5]\n"
          ]
        }
      ]
    },
    {
      "cell_type": "code",
      "source": [
        "#questão 5\n",
        "full =[11.25, 18.0, 20.0, 10.75, 9.5]\n",
        "full_sorted = sorted(full,reverse=True)\n",
        "print(full_sorted)\n",
        "\n"
      ],
      "metadata": {
        "colab": {
          "base_uri": "https://localhost:8080/"
        },
        "id": "Dxr7P1qdQN6f",
        "outputId": "faa8ec52-2f86-44c7-9b29-92a199594656"
      },
      "execution_count": 11,
      "outputs": [
        {
          "output_type": "stream",
          "name": "stdout",
          "text": [
            "[20.0, 18.0, 11.25, 10.75, 9.5]\n"
          ]
        }
      ]
    },
    {
      "cell_type": "code",
      "source": [
        "#questão 6\n",
        "print(full_sorted)"
      ],
      "metadata": {
        "colab": {
          "base_uri": "https://localhost:8080/"
        },
        "id": "fkxPaJ0ZRBW8",
        "outputId": "cdfb1125-55e9-4d28-f1be-cdb1a80e4280"
      },
      "execution_count": 12,
      "outputs": [
        {
          "output_type": "stream",
          "name": "stdout",
          "text": [
            "[20.0, 18.0, 11.25, 10.75, 9.5]\n"
          ]
        }
      ]
    }
  ]
}