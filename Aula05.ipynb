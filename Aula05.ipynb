{
  "nbformat": 4,
  "nbformat_minor": 0,
  "metadata": {
    "colab": {
      "provenance": [],
      "authorship_tag": "ABX9TyPVfbtU6scly6Xbpna/hNN+",
      "include_colab_link": true
    },
    "kernelspec": {
      "name": "python3",
      "display_name": "Python 3"
    },
    "language_info": {
      "name": "python"
    }
  },
  "cells": [
    {
      "cell_type": "markdown",
      "metadata": {
        "id": "view-in-github",
        "colab_type": "text"
      },
      "source": [
        "<a href=\"https://colab.research.google.com/github/alysonbz/lab_prog_si/blob/Thiago_Gomes/Aula05.ipynb\" target=\"_parent\"><img src=\"https://colab.research.google.com/assets/colab-badge.svg\" alt=\"Open In Colab\"/></a>"
      ]
    },
    {
      "cell_type": "markdown",
      "source": [
        "Exemplos de funções"
      ],
      "metadata": {
        "id": "Qv-mO7st7Rlc"
      }
    },
    {
      "cell_type": "code",
      "execution_count": null,
      "metadata": {
        "id": "y-FvrXmjyf_B"
      },
      "outputs": [],
      "source": [
        "#lista que retorna o maior valor de uma lista\n",
        "lista_num = [3, 1, 6, 9, 5]\n",
        "def max_valor_lista(lista_num):\n",
        "    maior_valor = None\n",
        "    for numero in lista_num:\n",
        "     if maior_valor == None:\n",
        "        maior_valor = numero\n",
        "     if numero > maior_valor:\n",
        "        maior_valor = numero\n",
        "    return maior_valor\n"
      ]
    },
    {
      "cell_type": "code",
      "source": [
        "lista_qualquer = [2,4,5,9,7,3,8]\n",
        "x = max_valor_lista(lista_qualquer)\n",
        "print (x)"
      ],
      "metadata": {
        "colab": {
          "base_uri": "https://localhost:8080/"
        },
        "id": "MlT9IRYUEo6M",
        "outputId": "af06ce95-7c0a-4dd8-d02f-075fa09b3ed6"
      },
      "execution_count": null,
      "outputs": [
        {
          "output_type": "stream",
          "name": "stdout",
          "text": [
            "9\n"
          ]
        }
      ]
    },
    {
      "cell_type": "code",
      "source": [
        "max(lista_qualquer)\n",
        "print(max(lista_qualquer))\n",
        "round(1.77,1)\n",
        "print(round(1.77,1))\n",
        "round(1.77)"
      ],
      "metadata": {
        "colab": {
          "base_uri": "https://localhost:8080/"
        },
        "id": "p-MxbWa6H0oF",
        "outputId": "4805c89b-cb00-443d-d8d4-fd6b921aa5b5"
      },
      "execution_count": null,
      "outputs": [
        {
          "output_type": "stream",
          "name": "stdout",
          "text": [
            "9\n",
            "1.8\n"
          ]
        },
        {
          "output_type": "execute_result",
          "data": {
            "text/plain": [
              "2"
            ]
          },
          "metadata": {},
          "execution_count": 23
        }
      ]
    },
    {
      "cell_type": "markdown",
      "source": [
        "Atividade 01 de funções"
      ],
      "metadata": {
        "id": "nomVIHQlGwKw"
      }
    },
    {
      "cell_type": "code",
      "source": [
        "var1 = [1,2,3,4]\n",
        "var2 = True\n",
        "#1) na linha 6 realise o print do tipo de var1 usando a função tipe()\n",
        "print(type(var1))\n",
        "\n",
        "#2) na linha 9 print o tamanho de var1 com a função len()\n",
        "print(len(var1))\n",
        "\n",
        "#3) na linha 12 converta var2 para inteiro com a função int e armazene em out2 em seguida print out2\n",
        "out2 = int(var2)\n",
        "print(out2)"
      ],
      "metadata": {
        "colab": {
          "base_uri": "https://localhost:8080/"
        },
        "id": "-dTRXYEDHLm-",
        "outputId": "dbd75ce9-582e-4576-e0e3-f0221ab5899c"
      },
      "execution_count": null,
      "outputs": [
        {
          "output_type": "stream",
          "name": "stdout",
          "text": [
            "<class 'list'>\n",
            "4\n",
            "1\n"
          ]
        }
      ]
    },
    {
      "cell_type": "markdown",
      "source": [
        "Teste Funções"
      ],
      "metadata": {
        "id": "80Oo5vIaNN08"
      }
    },
    {
      "cell_type": "code",
      "source": [],
      "metadata": {
        "id": "Y--lOMYKNTYs"
      },
      "execution_count": null,
      "outputs": []
    },
    {
      "cell_type": "markdown",
      "source": [
        "Atividade da Aula 05 de funções"
      ],
      "metadata": {
        "id": "HZQ_fDqjLtE2"
      }
    },
    {
      "cell_type": "code",
      "source": [
        "#4)Na linha 6 concatene as listas first e second usando o operador e armazene em uma nova lista chamada full. print a lista full na linha 7\n",
        "first = [11.25, 18.0, 20.0]\n",
        "second = [10.75, 9.50]\n",
        "\n",
        "full = first + second\n",
        "print (full)\n",
        "\n",
        "#5)na linha 9 use a função sorted() para ordenar os elementos da lista full e armazene a resposta da função em uma nova lista, full_sorted. a função sorted recebe 2 argumentos full e outro padrão da função: reverse, que indica o tipo ordenado nesse caso faça reverce = true\n",
        "sorted (full, reverse = True)\n",
        "full_sorted = sorted(full, reverse = True)\n",
        "\n",
        "#6) print full_sorted\n",
        "print (full_sorted)"
      ],
      "metadata": {
        "colab": {
          "base_uri": "https://localhost:8080/"
        },
        "id": "dPuWsRzTL979",
        "outputId": "44ebccc1-3f68-4262-f76c-c99b07e3ce99"
      },
      "execution_count": null,
      "outputs": [
        {
          "output_type": "stream",
          "name": "stdout",
          "text": [
            "[11.25, 18.0, 20.0, 10.75, 9.5]\n",
            "[20.0, 18.0, 11.25, 10.75, 9.5]\n"
          ]
        }
      ]
    }
  ]
}