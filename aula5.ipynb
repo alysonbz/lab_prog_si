{
  "nbformat": 4,
  "nbformat_minor": 0,
  "metadata": {
    "colab": {
      "provenance": [],
      "authorship_tag": "ABX9TyMDdIaBBp1XiMQJIbIKrgOW",
      "include_colab_link": true
    },
    "kernelspec": {
      "name": "python3",
      "display_name": "Python 3"
    },
    "language_info": {
      "name": "python"
    }
  },
  "cells": [
    {
      "cell_type": "markdown",
      "metadata": {
        "id": "view-in-github",
        "colab_type": "text"
      },
      "source": [
        "<a href=\"https://colab.research.google.com/github/alysonbz/lab_prog_si/blob/gabriel_coelho/aula5.ipynb\" target=\"_parent\"><img src=\"https://colab.research.google.com/assets/colab-badge.svg\" alt=\"Open In Colab\"/></a>"
      ]
    },
    {
      "cell_type": "markdown",
      "source": [
        "#FUNÇÕES"
      ],
      "metadata": {
        "id": "A-HkRmHkPZ66"
      }
    },
    {
      "cell_type": "code",
      "source": [
        "list_num = [2,3,5,10,20]\n",
        "maior_valor = None\n",
        "for numero in list_num:\n",
        "  if maior_valor == None:\n",
        "      maior_valor = numero\n",
        "  if numero > maior_valor:\n",
        "      maior_valor = numero\n",
        "  print('Durante o loop: ', maior_valor)\n",
        "\n",
        "print('Resultado final: ', maior_valor)"
      ],
      "metadata": {
        "colab": {
          "base_uri": "https://localhost:8080/"
        },
        "id": "FF5YToYLQJzG",
        "outputId": "5d3709ee-43bb-4659-dc73-810c33d96988"
      },
      "execution_count": 123,
      "outputs": [
        {
          "output_type": "stream",
          "name": "stdout",
          "text": [
            "Durante o loop:  2\n",
            "Durante o loop:  3\n",
            "Durante o loop:  5\n",
            "Durante o loop:  10\n",
            "Durante o loop:  20\n",
            "Resultado final:  20\n"
          ]
        }
      ]
    },
    {
      "cell_type": "code",
      "source": [
        "#PRINTANDO O MAIOR VALOR DENTRO DE UMA LISTA\n",
        "lista_qualquer = [1,3,5,7,9]\n",
        "num = max_valor_lista(lista_qualquer)\n",
        "print(num)"
      ],
      "metadata": {
        "colab": {
          "base_uri": "https://localhost:8080/"
        },
        "id": "NgUnoM39U3kl",
        "outputId": "8c7a412b-92a6-4bdf-b935-16f584fa4873"
      },
      "execution_count": 98,
      "outputs": [
        {
          "output_type": "stream",
          "name": "stdout",
          "text": [
            "9\n"
          ]
        }
      ]
    },
    {
      "cell_type": "code",
      "source": [
        "def quantidade_de_elementos(lista):\n",
        "  quantidade_de_elementos = 0\n",
        "  for elemento in lista:\n",
        "    quantidade_de_elementos = quantidade_de_elementos +1\n",
        "  return quantidade_de_elementos"
      ],
      "metadata": {
        "id": "9pgFHWeQXl8W"
      },
      "execution_count": 122,
      "outputs": []
    },
    {
      "cell_type": "code",
      "source": [
        "#CONTANDO A QUANTIDADE DE ELEMENTOS NA LISTA\n",
        "lista = [4,6,2,10,8]\n",
        "print(quantidade_de_elementos(lista))"
      ],
      "metadata": {
        "colab": {
          "base_uri": "https://localhost:8080/"
        },
        "id": "LmcyBYJHU_Ed",
        "outputId": "63296034-d162-4839-993b-4fb04aa931a6"
      },
      "execution_count": 112,
      "outputs": [
        {
          "output_type": "stream",
          "name": "stdout",
          "text": [
            "5\n"
          ]
        }
      ]
    },
    {
      "cell_type": "code",
      "source": [
        "#MÁXIMO VALOR NA LISTA\n",
        "lista = [4,6,2,10,8]\n",
        "max(lista)"
      ],
      "metadata": {
        "colab": {
          "base_uri": "https://localhost:8080/"
        },
        "id": "WvsrtUumWfKK",
        "outputId": "f17f3590-229f-4b2a-e04d-047e12564883"
      },
      "execution_count": 115,
      "outputs": [
        {
          "output_type": "execute_result",
          "data": {
            "text/plain": [
              "10"
            ]
          },
          "metadata": {},
          "execution_count": 115
        }
      ]
    },
    {
      "cell_type": "code",
      "source": [
        "#ARREDONDANDO UM VALOR P/ MÁXIMO\n",
        "round(1.79)"
      ],
      "metadata": {
        "colab": {
          "base_uri": "https://localhost:8080/"
        },
        "id": "rUDarwFbWjwQ",
        "outputId": "67e9c58a-51ff-4ee4-924e-2d5cf73c346a"
      },
      "execution_count": 120,
      "outputs": [
        {
          "output_type": "execute_result",
          "data": {
            "text/plain": [
              "2"
            ]
          },
          "metadata": {},
          "execution_count": 120
        }
      ]
    },
    {
      "cell_type": "code",
      "source": [
        "#ARREDONDANDO UM VALOR P/ MÍNIMO\n",
        "round(1.79, 1)"
      ],
      "metadata": {
        "colab": {
          "base_uri": "https://localhost:8080/"
        },
        "id": "c_6A8o1RW3RH",
        "outputId": "84fa6b4e-cafa-48d4-a0fc-86f927887703"
      },
      "execution_count": 121,
      "outputs": [
        {
          "output_type": "execute_result",
          "data": {
            "text/plain": [
              "1.8"
            ]
          },
          "metadata": {},
          "execution_count": 121
        }
      ]
    }
  ]
}