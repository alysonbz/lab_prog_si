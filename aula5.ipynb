{
  "nbformat": 4,
  "nbformat_minor": 0,
  "metadata": {
    "colab": {
      "provenance": [],
      "authorship_tag": "ABX9TyMyWPdBIut5elF7Q8NAanIe",
      "include_colab_link": true
    },
    "kernelspec": {
      "name": "python3",
      "display_name": "Python 3"
    },
    "language_info": {
      "name": "python"
    }
  },
  "cells": [
    {
      "cell_type": "markdown",
      "metadata": {
        "id": "view-in-github",
        "colab_type": "text"
      },
      "source": [
        "<a href=\"https://colab.research.google.com/github/alysonbz/lab_prog_si/blob/Emanuel_Oliveira/aula5.ipynb\" target=\"_parent\"><img src=\"https://colab.research.google.com/assets/colab-badge.svg\" alt=\"Open In Colab\"/></a>"
      ]
    },
    {
      "cell_type": "markdown",
      "source": [
        "função que retorna o maior valor de uma lista"
      ],
      "metadata": {
        "id": "4ZBZ5PeiA5OC"
      }
    },
    {
      "cell_type": "code",
      "execution_count": null,
      "metadata": {
        "id": "TwRMgI9e79A3"
      },
      "outputs": [],
      "source": [
        "def max_valor_lista(list_num):\n",
        "  maior_valor = None\n",
        "  for numero in list_num:\n",
        "    if maior_valor == None:\n",
        "      maior_valor = numero\n",
        "    if numero > maior_valor:\n",
        "      maior_valor = numero\n",
        "  return maior_valor"
      ]
    },
    {
      "cell_type": "code",
      "source": [
        "lista_qualquer = [2,6,7,8,7,5,89]\n",
        "num = max_valor_lista(lista_qualquer)\n",
        "print(num)"
      ],
      "metadata": {
        "colab": {
          "base_uri": "https://localhost:8080/"
        },
        "id": "fLtcCLqyBTwH",
        "outputId": "21c5cb5d-db24-4961-e48c-be6a1564edfd"
      },
      "execution_count": null,
      "outputs": [
        {
          "output_type": "stream",
          "name": "stdout",
          "text": [
            "89\n"
          ]
        }
      ]
    },
    {
      "cell_type": "markdown",
      "source": [
        "faça uma função que retorne a quantidade de elementos de uma lista"
      ],
      "metadata": {
        "id": "cdkSxrhlBMFG"
      }
    },
    {
      "cell_type": "code",
      "source": [
        "def quant_element(lista_element):\n",
        "  quant_element_list = 0\n",
        "  for elemento in lista_element:\n",
        "   quant_element_list = quant_element_list + 1"
      ],
      "metadata": {
        "id": "08MO-pE1BY8v"
      },
      "execution_count": null,
      "outputs": []
    },
    {
      "cell_type": "code",
      "source": [
        "lista_qualquer = [2,6,7,8,7,5,89]\n",
        "print(quant_element(lista_qualquer))"
      ],
      "metadata": {
        "colab": {
          "base_uri": "https://localhost:8080/"
        },
        "id": "ieQdCFJ1FQUA",
        "outputId": "07207f44-0714-40b0-be1a-9e8895584e82"
      },
      "execution_count": null,
      "outputs": [
        {
          "output_type": "stream",
          "name": "stdout",
          "text": [
            "None\n"
          ]
        }
      ]
    },
    {
      "cell_type": "markdown",
      "source": [
        "funções"
      ],
      "metadata": {
        "id": "Ah9KeIa0H0VV"
      }
    },
    {
      "cell_type": "code",
      "source": [
        "fam = [1.78,1.60,1.55,1.90,2.0,2.45]\n",
        "max(fam)"
      ],
      "metadata": {
        "colab": {
          "base_uri": "https://localhost:8080/"
        },
        "id": "fcFV_4lWH3Pm",
        "outputId": "1be119d9-ebaa-4e42-9c60-ac30aeabec33"
      },
      "execution_count": null,
      "outputs": [
        {
          "output_type": "execute_result",
          "data": {
            "text/plain": [
              "2.45"
            ]
          },
          "metadata": {},
          "execution_count": 25
        }
      ]
    },
    {
      "cell_type": "code",
      "source": [
        "round(1.78,1)"
      ],
      "metadata": {
        "colab": {
          "base_uri": "https://localhost:8080/"
        },
        "id": "QXy4yDKuIJxN",
        "outputId": "6818bb7a-d326-4ca8-edb2-7f379d5d82d0"
      },
      "execution_count": null,
      "outputs": [
        {
          "output_type": "execute_result",
          "data": {
            "text/plain": [
              "1.8"
            ]
          },
          "metadata": {},
          "execution_count": 26
        }
      ]
    },
    {
      "cell_type": "markdown",
      "source": [
        "1) Na linha 6 realize o print do tipo de var1 usando a função type().\n"
      ],
      "metadata": {
        "id": "eQQ0FcEAIfb4"
      }
    },
    {
      "cell_type": "code",
      "source": [
        "#Create variables var1 and var2\n",
        "var1 = [1,2,3,4]\n",
        "var2 = True\n",
        "#print out type of var1\n",
        "print(type(var1))\n",
        "#print out length of var1\n",
        "\n",
        "#convert var2 to an integer: out2"
      ],
      "metadata": {
        "colab": {
          "base_uri": "https://localhost:8080/"
        },
        "id": "mqrLKeKfImfm",
        "outputId": "6116a080-0bfc-4bbd-e3d0-407b6f01a1a0"
      },
      "execution_count": null,
      "outputs": [
        {
          "output_type": "stream",
          "name": "stdout",
          "text": [
            "<class 'list'>\n"
          ]
        }
      ]
    },
    {
      "cell_type": "markdown",
      "source": [
        "2) Na linha 9 print o tamanho de var1 com a função len()"
      ],
      "metadata": {
        "id": "6vP-h9G1JhFu"
      }
    },
    {
      "cell_type": "code",
      "source": [
        "#Create variables var1 and var2\n",
        "var1 = [1,2,3,4]\n",
        "var2 = True\n",
        "#print out type of var1\n",
        "print(type(var1))\n",
        "#print out length of var1\n",
        "print(len(var1))\n",
        "#convert var2 to an integer: out2"
      ],
      "metadata": {
        "colab": {
          "base_uri": "https://localhost:8080/"
        },
        "id": "Hmo0yWi4JimX",
        "outputId": "2a933281-366b-4977-a79e-66ae27ca5063"
      },
      "execution_count": null,
      "outputs": [
        {
          "output_type": "stream",
          "name": "stdout",
          "text": [
            "<class 'list'>\n",
            "4\n"
          ]
        }
      ]
    },
    {
      "cell_type": "markdown",
      "source": [
        "3) Na linha 12 converta var2 para inteiro com a função int e armazene em out2. Em seguida realize o print de out2.\n"
      ],
      "metadata": {
        "id": "zQOTqwQjJi8V"
      }
    },
    {
      "cell_type": "code",
      "source": [
        "#Create variables var1 and var2\n",
        "var1 = [1,2,3,4]\n",
        "var2 = True\n",
        "#print out type of var1\n",
        "print(type(var1))\n",
        "#print out length of var1\n",
        "print(len(var1))\n",
        "#convert var2 to an integer: out2\n",
        "out = int(var2)\n",
        "print(out)"
      ],
      "metadata": {
        "colab": {
          "base_uri": "https://localhost:8080/"
        },
        "id": "-Wgg-5wTKXNv",
        "outputId": "6c645971-8e4f-4daa-e305-163f9b0aed90"
      },
      "execution_count": null,
      "outputs": [
        {
          "output_type": "stream",
          "name": "stdout",
          "text": [
            "<class 'list'>\n",
            "4\n",
            "1\n"
          ]
        }
      ]
    },
    {
      "cell_type": "markdown",
      "source": [
        "4) Na linha 6 concatenar as listas first e second usando o operado + e armazene em uma nova lista chamada full. Print a lista full na linha 7.\n",
        "\n",
        "5)  Na linha 9 use a função sorted() para  ordenar os elementos da lista full e armazene a reposta da função em uma nova lista, full_sorted. A função sorted recebe 2 argumentos: full e outro padrão da função: reverse,  que indica o tipo ordenamento. Neste caso, faça reverse = True.\n",
        "\n",
        "6) Print a lista full_sorted"
      ],
      "metadata": {
        "id": "OnSZeA_YMFD-"
      }
    },
    {
      "cell_type": "code",
      "source": [
        "#create lists first and second\n",
        "first = [11.25,18.0,20.0]\n",
        "second =[10.75,9.50]\n",
        "#paste together first and second: full\n",
        "full = first + second\n",
        "print(f\"Lista concatena: {full}\")\n",
        "#sort full in descending order: full_sorted\n",
        "full_sorted = sorted(full, reverse=True)\n",
        "#print out full_sorted\n",
        "print(f\"lista ordenada: {full_sorted}\")"
      ],
      "metadata": {
        "id": "ijhXAWwnAltz"
      },
      "execution_count": null,
      "outputs": []
    }
  ]
}