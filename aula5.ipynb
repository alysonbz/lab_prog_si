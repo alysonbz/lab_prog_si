{
  "nbformat": 4,
  "nbformat_minor": 0,
  "metadata": {
    "colab": {
      "provenance": [],
      "authorship_tag": "ABX9TyNLApeFWICUPLRK/Yna/Mzu",
      "include_colab_link": true
    },
    "kernelspec": {
      "name": "python3",
      "display_name": "Python 3"
    },
    "language_info": {
      "name": "python"
    }
  },
  "cells": [
    {
      "cell_type": "markdown",
      "metadata": {
        "id": "view-in-github",
        "colab_type": "text"
      },
      "source": [
        "<a href=\"https://colab.research.google.com/github/alysonbz/lab_prog_si/blob/hugo_alexandre/aula5.ipynb\" target=\"_parent\"><img src=\"https://colab.research.google.com/assets/colab-badge.svg\" alt=\"Open In Colab\"/></a>"
      ]
    },
    {
      "cell_type": "markdown",
      "source": [
        "# Metodos de listas"
      ],
      "metadata": {
        "id": "tujpLRoMO0vF"
      }
    },
    {
      "cell_type": "code",
      "source": [
        "sister = 'liz'\n",
        "height = 1.73"
      ],
      "metadata": {
        "id": "q-ukcJgnQXTq"
      },
      "execution_count": null,
      "outputs": []
    },
    {
      "cell_type": "code",
      "execution_count": null,
      "metadata": {
        "colab": {
          "base_uri": "https://localhost:8080/"
        },
        "id": "CvDLm1rzNTVf",
        "outputId": "6f7675ef-ce6f-452f-e6b5-b649c604bd99"
      },
      "outputs": [
        {
          "output_type": "execute_result",
          "data": {
            "text/plain": [
              "4"
            ]
          },
          "metadata": {},
          "execution_count": 7
        }
      ],
      "source": [
        "fam = ['liz',1.73, 'emma', 1.68, 'mom',1.71, 'dad',1.89]\n",
        "fam.index(\"mom\") # call method index () on fam\n"
      ]
    },
    {
      "cell_type": "code",
      "source": [
        "fam.count(1.73)"
      ],
      "metadata": {
        "colab": {
          "base_uri": "https://localhost:8080/"
        },
        "id": "Rf_WrphjOng4",
        "outputId": "2d7d6c01-5d2a-47cf-9b4a-3cd311e66f16"
      },
      "execution_count": null,
      "outputs": [
        {
          "output_type": "execute_result",
          "data": {
            "text/plain": [
              "1"
            ]
          },
          "metadata": {},
          "execution_count": 6
        }
      ]
    },
    {
      "cell_type": "code",
      "source": [
        "fam = ['liz',1.73, 'emma', 1.68, 'mom',1.71, 'dad',1.89]\n",
        "fam.append(\"me\")\n",
        "fam"
      ],
      "metadata": {
        "colab": {
          "base_uri": "https://localhost:8080/"
        },
        "id": "mNgACCkrOqj5",
        "outputId": "ed9d2f03-f3b6-4850-a4dd-5c8769dd47e0"
      },
      "execution_count": null,
      "outputs": [
        {
          "output_type": "execute_result",
          "data": {
            "text/plain": [
              "['liz', 1.73, 'emma', 1.68, 'mom', 1.71, 'dad', 1.89, 'me']"
            ]
          },
          "metadata": {},
          "execution_count": 13
        }
      ]
    },
    {
      "cell_type": "code",
      "source": [
        "fam.append(1.79)\n",
        "fam"
      ],
      "metadata": {
        "colab": {
          "base_uri": "https://localhost:8080/"
        },
        "id": "K6z0OA29Px6q",
        "outputId": "841051b0-ef26-4544-a044-50ba6e4a7bd6"
      },
      "execution_count": null,
      "outputs": [
        {
          "output_type": "execute_result",
          "data": {
            "text/plain": [
              "['liz', 1.73, 'emma', 1.68, 'mom', 1.71, 'dad', 1.89, 'me', 1.79]"
            ]
          },
          "metadata": {},
          "execution_count": 14
        }
      ]
    },
    {
      "cell_type": "code",
      "source": [
        "sister"
      ],
      "metadata": {
        "colab": {
          "base_uri": "https://localhost:8080/",
          "height": 35
        },
        "id": "bv_dX8UuP6u0",
        "outputId": "2326c7ac-78be-48db-ed69-b21e09ada4fa"
      },
      "execution_count": null,
      "outputs": [
        {
          "output_type": "execute_result",
          "data": {
            "text/plain": [
              "'liz'"
            ],
            "application/vnd.google.colaboratory.intrinsic+json": {
              "type": "string"
            }
          },
          "metadata": {},
          "execution_count": 19
        }
      ]
    },
    {
      "cell_type": "code",
      "source": [
        "sister.capitalize()"
      ],
      "metadata": {
        "colab": {
          "base_uri": "https://localhost:8080/",
          "height": 35
        },
        "id": "bXVf9VddQ8t-",
        "outputId": "cd3d9455-dee6-4b3d-9896-96247304f999"
      },
      "execution_count": null,
      "outputs": [
        {
          "output_type": "execute_result",
          "data": {
            "text/plain": [
              "'Liz'"
            ],
            "application/vnd.google.colaboratory.intrinsic+json": {
              "type": "string"
            }
          },
          "metadata": {},
          "execution_count": 21
        }
      ]
    },
    {
      "cell_type": "code",
      "source": [
        "sister.replace(\"z\", \"sa\")"
      ],
      "metadata": {
        "colab": {
          "base_uri": "https://localhost:8080/",
          "height": 35
        },
        "id": "hygBC7EaREDc",
        "outputId": "b3b9d970-62ef-4542-88a2-574eac25e248"
      },
      "execution_count": null,
      "outputs": [
        {
          "output_type": "execute_result",
          "data": {
            "text/plain": [
              "'lisa'"
            ],
            "application/vnd.google.colaboratory.intrinsic+json": {
              "type": "string"
            }
          },
          "metadata": {},
          "execution_count": 22
        }
      ]
    },
    {
      "cell_type": "code",
      "source": [
        "# questao 1\n",
        "\n",
        "#string to experiment with: place\n",
        "place = \"poolhouse\"\n",
        "\n",
        "#use upper () on place: place_up\n",
        "place_up = place.upper()\n"
      ],
      "metadata": {
        "id": "WkiqqxHNRUVM"
      },
      "execution_count": null,
      "outputs": []
    },
    {
      "cell_type": "code",
      "source": [
        "# questao 2\n",
        "print (place)\n",
        "print (place_up)"
      ],
      "metadata": {
        "colab": {
          "base_uri": "https://localhost:8080/"
        },
        "id": "e-tawlDpWFDw",
        "outputId": "de41c9e4-b81b-457e-ff63-59a9b6ecafe1"
      },
      "execution_count": null,
      "outputs": [
        {
          "output_type": "stream",
          "name": "stdout",
          "text": [
            "poolhouse\n",
            "POOLHOUSE\n"
          ]
        }
      ]
    },
    {
      "cell_type": "code",
      "source": [
        "#questao 3\n",
        "place.count('o')"
      ],
      "metadata": {
        "colab": {
          "base_uri": "https://localhost:8080/"
        },
        "id": "YUWvF2HAWSiz",
        "outputId": "2d40e545-9cad-43f6-85ff-cdb95de4749d"
      },
      "execution_count": null,
      "outputs": [
        {
          "output_type": "execute_result",
          "data": {
            "text/plain": [
              "3"
            ]
          },
          "metadata": {},
          "execution_count": 26
        }
      ]
    },
    {
      "cell_type": "code",
      "source": [
        "# questao 4\n",
        "areas = [11.25, 18.0, 20.0, 10.75, 9.50]\n",
        "# print out the Index of the element 20.0\n",
        "areas.index(20)"
      ],
      "metadata": {
        "colab": {
          "base_uri": "https://localhost:8080/"
        },
        "id": "xdHyIKcUW5FU",
        "outputId": "28d28d85-e052-49c2-f362-9272e0e66d66"
      },
      "execution_count": null,
      "outputs": [
        {
          "output_type": "execute_result",
          "data": {
            "text/plain": [
              "2"
            ]
          },
          "metadata": {},
          "execution_count": 2
        }
      ]
    },
    {
      "cell_type": "code",
      "source": [
        "# questao 5\n",
        "# Usando o método count(), mostre via print o numero de vezes que 9.5 aparece na lista.\n",
        "areas.count(9.5)"
      ],
      "metadata": {
        "colab": {
          "base_uri": "https://localhost:8080/"
        },
        "id": "idDGAQwiX66B",
        "outputId": "daa64358-8342-4441-e757-9a37f3122435"
      },
      "execution_count": null,
      "outputs": [
        {
          "output_type": "execute_result",
          "data": {
            "text/plain": [
              "1"
            ]
          },
          "metadata": {},
          "execution_count": 28
        }
      ]
    },
    {
      "cell_type": "code",
      "source": [
        "# questao 6\n",
        "#use o método append() duas vezes para incluir os números 24.5 e 15.25 no fim da lista.\n",
        "areas.append(24.5)\n",
        "areas.append(15.25)\n",
        "# questao 7\n",
        "#print a lista areas\n",
        "print(areas)"
      ],
      "metadata": {
        "colab": {
          "base_uri": "https://localhost:8080/"
        },
        "id": "jM5hxwEVYeyT",
        "outputId": "a3ec8c1f-962d-4fdd-c3aa-35de16d19ac6"
      },
      "execution_count": null,
      "outputs": [
        {
          "output_type": "stream",
          "name": "stdout",
          "text": [
            "[11.25, 18.0, 20.0, 10.75, 9.5, 24.5, 15.25, 24.5, 15.25, 24.5, 15.25]\n"
          ]
        }
      ]
    },
    {
      "cell_type": "code",
      "source": [
        "#questao 8\n",
        "# Use o método reverse() da lista para trocar a ordem dos elementos da lista.\n",
        "areas.reverse()\n",
        "\n",
        "#questao 9\n",
        "#Print novamente a ista areas\n",
        "print(areas)"
      ],
      "metadata": {
        "id": "ZfCTRsc3ZZur",
        "colab": {
          "base_uri": "https://localhost:8080/"
        },
        "outputId": "96489db6-3243-488e-c879-ae5e8aad3064"
      },
      "execution_count": null,
      "outputs": [
        {
          "output_type": "stream",
          "name": "stdout",
          "text": [
            "[15.25, 24.5, 15.25, 24.5, 15.25, 24.5, 9.5, 10.75, 20.0, 18.0, 11.25]\n"
          ]
        }
      ]
    },
    {
      "cell_type": "code",
      "source": [],
      "metadata": {
        "id": "4HcyQAoq6ka2"
      },
      "execution_count": null,
      "outputs": []
    }
  ]
}