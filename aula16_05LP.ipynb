{
  "nbformat": 4,
  "nbformat_minor": 0,
  "metadata": {
    "colab": {
      "provenance": [],
      "authorship_tag": "ABX9TyMO2r8aj3dc2sIHX+ENpbhS",
      "include_colab_link": true
    },
    "kernelspec": {
      "name": "python3",
      "display_name": "Python 3"
    },
    "language_info": {
      "name": "python"
    }
  },
  "cells": [
    {
      "cell_type": "markdown",
      "metadata": {
        "id": "view-in-github",
        "colab_type": "text"
      },
      "source": [
        "<a href=\"https://colab.research.google.com/github/alysonbz/lab_prog_si/blob/Francisco_Gomes/aula16_05LP.ipynb\" target=\"_parent\"><img src=\"https://colab.research.google.com/assets/colab-badge.svg\" alt=\"Open In Colab\"/></a>"
      ]
    },
    {
      "cell_type": "code",
      "execution_count": 7,
      "metadata": {
        "colab": {
          "base_uri": "https://localhost:8080/"
        },
        "id": "3XR3TYAiUAg9",
        "outputId": "e583e96d-b92f-4e67-ff31-fa76f6f14aef"
      },
      "outputs": [
        {
          "output_type": "execute_result",
          "data": {
            "text/plain": [
              "[['camila', 1.6],\n",
              " ['malco', 1.9],\n",
              " ['carol', 1.65],\n",
              " ['douglas', 1.9],\n",
              " 'gato',\n",
              " 0.64]"
            ]
          },
          "metadata": {},
          "execution_count": 7
        }
      ],
      "source": [
        "family = [['elenilce', 1.60], ['chaga', 1.90], ['gomes', 1.70], ['rosalia', 1.65], ['rosalice', 1.64]]\n",
        "car = ['gato', 0.64]\n",
        "\n",
        "fami + car"
      ]
    },
    {
      "cell_type": "code",
      "source": [
        "family = [['elenilce', 1.60], ['chaga', 1.90], ['gomes', 1.70], ['rosalia', 1.65], ['rosalice', 1.64]]\n",
        "\n",
        "fam_ext = family + ['cami', 1.60]\n",
        "del(family[1])\n",
        "fam_ext"
      ],
      "metadata": {
        "colab": {
          "base_uri": "https://localhost:8080/"
        },
        "id": "JgW6fMGEUYMr",
        "outputId": "1ded2c27-0cf7-45b7-f740-50fde435d46d"
      },
      "execution_count": 16,
      "outputs": [
        {
          "output_type": "execute_result",
          "data": {
            "text/plain": [
              "[['elenilce', 1.6],\n",
              " ['chaga', 1.9],\n",
              " ['gomes', 1.7],\n",
              " ['rosalia', 1.65],\n",
              " ['rosalice', 1.64],\n",
              " 'cami',\n",
              " 1.6]"
            ]
          },
          "metadata": {},
          "execution_count": 16
        }
      ]
    },
    {
      "cell_type": "code",
      "source": [
        "x = ['a', 'b', 'c']\n",
        "\n",
        "y = x.copy()\n",
        "y[1] = 'z'\n",
        "y"
      ],
      "metadata": {
        "colab": {
          "base_uri": "https://localhost:8080/"
        },
        "id": "O5QUCC-QUdX3",
        "outputId": "76bd2c98-6b72-4afe-da6e-a18429525ae4"
      },
      "execution_count": 14,
      "outputs": [
        {
          "output_type": "execute_result",
          "data": {
            "text/plain": [
              "['a', 'z', 'c']"
            ]
          },
          "metadata": {},
          "execution_count": 14
        }
      ]
    },
    {
      "cell_type": "code",
      "source": [
        "areas = [\"hallway\", 11.25, \"kitchen\", 18.0, \"living room\", 20.0, 'bedroom', 10.75, 'bathroom', 9.50]\n",
        "areas[9] = 10.50\n",
        "areas[4] = 'Chill zone'\n",
        "print(areas)"
      ],
      "metadata": {
        "colab": {
          "base_uri": "https://localhost:8080/"
        },
        "id": "NoeHuZxkUfmd",
        "outputId": "df14ad93-7adf-464f-ba8c-8d1ada9eab7c"
      },
      "execution_count": 4,
      "outputs": [
        {
          "output_type": "stream",
          "name": "stdout",
          "text": [
            "['hallway', 11.25, 'kitchen', 18.0, 'Chill zone', 20.0, 'bedroom', 10.75, 'bathroom', 10.5]\n"
          ]
        }
      ]
    },
    {
      "cell_type": "code",
      "source": [
        "areas = [\"hallway\", 11.25, \"kitchen\", 18.0, \"living room\", 20.0, 'bedroom', 10.75, 'bathroom', 9.50]\n",
        "areas_1 = areas + ['poolhouse', 24.5]\n",
        "areas_2 = areas_1 + ['Garage', 15.5]\n",
        "print(areas_2)"
      ],
      "metadata": {
        "colab": {
          "base_uri": "https://localhost:8080/"
        },
        "id": "NPlOMC4BUiYJ",
        "outputId": "d88d835b-cd59-424c-b701-30ba3501cf05"
      },
      "execution_count": 5,
      "outputs": [
        {
          "output_type": "stream",
          "name": "stdout",
          "text": [
            "['hallway', 11.25, 'kitchen', 18.0, 'living room', 20.0, 'bedroom', 10.75, 'bathroom', 9.5, 'poolhouse', 24.5, 'Garage', 15.5]\n"
          ]
        }
      ]
    },
    {
      "cell_type": "code",
      "source": [
        "areas = [11.25, 18.0, 20.0, 10.75, 9.50]\n",
        "areas_copy = areas\n",
        "areas_copy[0] = 5.0\n",
        "print(areas)"
      ],
      "metadata": {
        "colab": {
          "base_uri": "https://localhost:8080/"
        },
        "id": "n5LwpMuBUkon",
        "outputId": "00276b2a-937c-4247-bcfd-ccfb76455520"
      },
      "execution_count": 6,
      "outputs": [
        {
          "output_type": "stream",
          "name": "stdout",
          "text": [
            "[5.0, 18.0, 20.0, 10.75, 9.5]\n"
          ]
        }
      ]
    }
  ]
}