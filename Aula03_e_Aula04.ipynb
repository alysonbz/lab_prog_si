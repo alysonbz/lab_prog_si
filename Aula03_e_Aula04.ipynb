{
  "nbformat": 4,
  "nbformat_minor": 0,
  "metadata": {
    "colab": {
      "provenance": [],
      "authorship_tag": "ABX9TyMv+IWBdjd7Dx+26yRxWrFI",
      "include_colab_link": true
    },
    "kernelspec": {
      "name": "python3",
      "display_name": "Python 3"
    },
    "language_info": {
      "name": "python"
    }
  },
  "cells": [
    {
      "cell_type": "markdown",
      "metadata": {
        "id": "view-in-github",
        "colab_type": "text"
      },
      "source": [
        "<a href=\"https://colab.research.google.com/github/alysonbz/lab_prog_si/blob/Thiago_Gomes/Aula03_e_Aula04.ipynb\" target=\"_parent\"><img src=\"https://colab.research.google.com/assets/colab-badge.svg\" alt=\"Open In Colab\"/></a>"
      ]
    },
    {
      "cell_type": "markdown",
      "source": [
        "Aula 03 Exemplos: criar uma lista com os nomes dos membros da família e selecionar um em especifico"
      ],
      "metadata": {
        "id": "hSjdz9I9L5-d"
      }
    },
    {
      "cell_type": "code",
      "execution_count": null,
      "metadata": {
        "colab": {
          "base_uri": "https://localhost:8080/"
        },
        "id": "gUaJD0wvIamh",
        "outputId": "2729b243-1b8f-4f4f-d8c4-b14da3b60d6f"
      },
      "outputs": [
        {
          "output_type": "stream",
          "name": "stdout",
          "text": [
            "['Thais', 1.25, 'Thiago', 1.85, 'Elizabete', 1.68, 'Antônio', 1.79]\n",
            "Elizabete\n"
          ]
        }
      ],
      "source": [
        "fam = [\"Thais\", 1.25, \"Thiago\", 1.85, \"Elizabete\", 1.68, \"Antônio\", 1.79]\n",
        "print (fam)\n",
        "print (fam[4])"
      ]
    },
    {
      "cell_type": "markdown",
      "source": [
        "Questão 04 de listas"
      ],
      "metadata": {
        "id": "MajEqmg0MnX7"
      }
    },
    {
      "cell_type": "code",
      "source": [
        "#4)exibir o segundo elemento da lista\n",
        "areas = [\"Hallway\", 11.25 , \"Kitchen\", 18.0, \"living room\", 20.0, \"badroom\", 10.75, \"bathroom\", 9.50]\n",
        "print (areas[2])\n",
        "\n",
        "#4.1)exiba o ultimo elemento da lista usando index negativo\n",
        "print (areas[-9])\n",
        "\n",
        "#4.2)exiba o elemento que indica o valor da area do living room\n",
        "print(areas[5])"
      ],
      "metadata": {
        "colab": {
          "base_uri": "https://localhost:8080/"
        },
        "id": "U-kU_z_JM2jT",
        "outputId": "1cabd5fc-0914-4edd-d220-25ac2f5ae76b"
      },
      "execution_count": null,
      "outputs": [
        {
          "output_type": "stream",
          "name": "stdout",
          "text": [
            "Kitchen\n",
            "11.25\n",
            "20.0\n"
          ]
        }
      ]
    },
    {
      "cell_type": "markdown",
      "source": [
        "Questão 05 de listas"
      ],
      "metadata": {
        "id": "T1sAp6PDP-Rw"
      }
    },
    {
      "cell_type": "code",
      "source": [
        "#5)Na linha 7 acessando os elementos da lista, realize a soma dos valores de kitchen e living room.\n",
        "eat_sleep_area = areas[3] + areas[5]\n",
        "\n",
        "#5.1)exiba a variavel eat_sleep_area.\n",
        "print (eat_sleep_area)"
      ],
      "metadata": {
        "colab": {
          "base_uri": "https://localhost:8080/"
        },
        "id": "bZgHbG-GQDps",
        "outputId": "689d352a-fb3b-405d-8c25-281c3f17a3c4"
      },
      "execution_count": null,
      "outputs": [
        {
          "output_type": "stream",
          "name": "stdout",
          "text": [
            "38.0\n"
          ]
        }
      ]
    },
    {
      "cell_type": "markdown",
      "source": [
        "Questão 06 de listas"
      ],
      "metadata": {
        "id": "WALhTMDWSePH"
      }
    },
    {
      "cell_type": "code",
      "source": [
        "#6)Acesse os 6 primeiros elementos de areas e atribua-os a uma nova lista: downstairs\n",
        "downstairs = areas[0:6]\n",
        "\n",
        "#6.1)Acesse os 4 ultimos elementos de areas e atribua-os a uma nova lista: downstairs\n",
        "upstairs = areas[6:10]\n",
        "\n",
        "#6.2)Exiba downstairs e downstairs\n",
        "print(downstairs)\n",
        "print(upstairs)"
      ],
      "metadata": {
        "colab": {
          "base_uri": "https://localhost:8080/"
        },
        "id": "sZACz3KVS1V2",
        "outputId": "8a9f44b5-ab21-4982-bf34-efab8d46b988"
      },
      "execution_count": null,
      "outputs": [
        {
          "output_type": "stream",
          "name": "stdout",
          "text": [
            "['Hallway', 11.25, 'Kitchen', 18.0, 'living room', 20.0]\n",
            "['badroom', 10.75, 'bathroom', 9.5]\n"
          ]
        }
      ]
    },
    {
      "cell_type": "markdown",
      "source": [
        "Aula 04: Exemplo de manipulações de listas"
      ],
      "metadata": {
        "id": "r1IKGPFBzcpN"
      }
    },
    {
      "cell_type": "code",
      "source": [
        "fam = [\"Thais\", \"Thiago\", \"Elizabete\", \"Antônio\"]\n",
        "fri = [\"levi\", \"Rich\", \"Matheus\", \"Kaiky\"]\n",
        "\n",
        "soma = fam + fri\n",
        "print (soma)\n",
        "\n",
        "\n",
        "x = [\"a\", \"b\", \"c\"]\n",
        "y = x.copy()\n",
        "y[1] = \"z\"\n",
        "print (y)\n",
        "print (x)\n"
      ],
      "metadata": {
        "colab": {
          "base_uri": "https://localhost:8080/"
        },
        "id": "as_0W3kpzsh8",
        "outputId": "64b84e34-7b22-48a3-9941-a22beae5ae84"
      },
      "execution_count": null,
      "outputs": [
        {
          "output_type": "stream",
          "name": "stdout",
          "text": [
            "['Thais', 'Thiago', 'Elizabete', 'Antônio', 'levi', 'Rich', 'Matheus', 'Kaiky']\n",
            "['a', 'z', 'c']\n",
            "['a', 'b', 'c']\n"
          ]
        }
      ]
    },
    {
      "cell_type": "markdown",
      "source": [
        "Questão 07 de listas"
      ],
      "metadata": {
        "id": "H8s_WH6X62aV"
      }
    },
    {
      "cell_type": "code",
      "source": [
        "#7) troque o valor de bathroom de 9.50 para 10.50\n",
        "areas = [\"Hallway\", 11.25 , \"Kitchen\", 18.0, \"living room\", 20.0, \"badroom\", 10.75, \"bathroom\", 9.50]\n",
        "novas_areas = areas.copy()\n",
        "novas_areas[9] = 10.50\n",
        "\n",
        "#7.1) substitua a string \"livingroom\" por \"chill zone\"\n",
        "novas_areas[4] = \"chill zone\"\n",
        "print (novas_areas)"
      ],
      "metadata": {
        "colab": {
          "base_uri": "https://localhost:8080/"
        },
        "id": "YC22fS-26-nj",
        "outputId": "fca0dca1-3306-4270-e062-fdbd27e696f0"
      },
      "execution_count": null,
      "outputs": [
        {
          "output_type": "stream",
          "name": "stdout",
          "text": [
            "['Hallway', 11.25, 'Kitchen', 18.0, 'chill zone', 20.0, 'badroom', 10.75, 'bathroom', 10.5]\n"
          ]
        }
      ]
    },
    {
      "cell_type": "markdown",
      "source": [
        "Questão 08 de listas"
      ],
      "metadata": {
        "id": "qJaEN1US9MxX"
      }
    },
    {
      "cell_type": "code",
      "source": [
        "#8) Adicione \"poolhouse, 24.5\" e atribua a uma nova lista chamada areas_1\n",
        "areas = [\"Hallway\", 11.25 , \"Kitchen\", 18.0, \"living room\", 20.0, \"badroom\", 10.75, \"bathroom\", 9.50]\n",
        "areas_1 = areas + [\"poolhouse\" , 24.50]\n",
        "\n",
        "#8.1) Adicione \"garage, 15.5\" e atribua a uma nova lista chamada areas_2\n",
        "areas_2 = areas + [\"poolhouse\" , 24.50] + [\"garage\", 15.5]\n",
        "\n",
        "#8.2) printe area_1 e area_2\n",
        "print(areas_1)\n",
        "print(areas_2)"
      ],
      "metadata": {
        "colab": {
          "base_uri": "https://localhost:8080/"
        },
        "id": "4Vkpu8dK9Ucm",
        "outputId": "4b9e7aeb-31da-4563-c933-5c6e53520576"
      },
      "execution_count": null,
      "outputs": [
        {
          "output_type": "stream",
          "name": "stdout",
          "text": [
            "['Hallway', 11.25, 'Kitchen', 18.0, 'living room', 20.0, 'badroom', 10.75, 'bathroom', 9.5, 'poolhouse', 24.5]\n",
            "['Hallway', 11.25, 'Kitchen', 18.0, 'living room', 20.0, 'badroom', 10.75, 'bathroom', 9.5, 'poolhouse', 24.5, 'garage', 15.5]\n"
          ]
        }
      ]
    },
    {
      "cell_type": "markdown",
      "source": [
        "Questão 09 de listas"
      ],
      "metadata": {
        "id": "SRtiOXOGAWl4"
      }
    },
    {
      "cell_type": "code",
      "source": [
        "#9) execute o código e observe o que a modificação  realizada em areas_copy afetou areas, corriga esse codigo e exiba areas e areas_copy\n",
        "areas = [11.25 , 18.0, 20.0, 10.75, 9.50]\n",
        "areas_copy = areas.copy()\n",
        "areas_copy[0] = 5.0\n",
        "\n",
        "\n",
        "print(areas_copy)\n",
        "print(areas)"
      ],
      "metadata": {
        "colab": {
          "base_uri": "https://localhost:8080/"
        },
        "id": "7IVqWWFsAeWf",
        "outputId": "67c70d11-48af-44cb-aca9-d061a156484d"
      },
      "execution_count": null,
      "outputs": [
        {
          "output_type": "stream",
          "name": "stdout",
          "text": [
            "[5.0, 18.0, 20.0, 10.75, 9.5]\n",
            "[11.25, 18.0, 20.0, 10.75, 9.5]\n"
          ]
        }
      ]
    }
  ]
}