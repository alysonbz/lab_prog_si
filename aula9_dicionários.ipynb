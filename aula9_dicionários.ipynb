{
  "nbformat": 4,
  "nbformat_minor": 0,
  "metadata": {
    "colab": {
      "provenance": [],
      "authorship_tag": "ABX9TyMqawh83y0NjbZq7Cpdfkg4",
      "include_colab_link": true
    },
    "kernelspec": {
      "name": "python3",
      "display_name": "Python 3"
    },
    "language_info": {
      "name": "python"
    }
  },
  "cells": [
    {
      "cell_type": "markdown",
      "metadata": {
        "id": "view-in-github",
        "colab_type": "text"
      },
      "source": [
        "<a href=\"https://colab.research.google.com/github/alysonbz/lab_prog_si/blob/antonio_erick/aula9_dicion%C3%A1rios.ipynb\" target=\"_parent\"><img src=\"https://colab.research.google.com/assets/colab-badge.svg\" alt=\"Open In Colab\"/></a>"
      ]
    },
    {
      "cell_type": "code",
      "execution_count": null,
      "metadata": {
        "id": "T0zWbOFQcpvu"
      },
      "outputs": [],
      "source": [
        "#criar um dicinário\n",
        "pop=[30.55,2.77,39.21]\n",
        "countries=['afghanistan','albania','algeria']\n",
        "##################\n",
        "\n",
        "word={'afghanistan':30.55,'albania':2.77,'algeria':39.21}\n",
        "print(word['albania'])"
      ]
    },
    {
      "cell_type": "code",
      "source": [
        "#my house\n",
        "\n",
        "house={'sala':['televisão','sofá','poltrona'],'cozinha':['fogão','mesa','cadeiras','armário']}\n",
        "print(house['sala'])\n"
      ],
      "metadata": {
        "colab": {
          "base_uri": "https://localhost:8080/"
        },
        "collapsed": true,
        "id": "rx3N09g1c2X-",
        "outputId": "3fda7de5-801a-42f6-c75e-f89011197fd7"
      },
      "execution_count": 1,
      "outputs": [
        {
          "output_type": "stream",
          "name": "stdout",
          "text": [
            "['televisão', 'sofá', 'poltrona']\n",
            "{'spain': 'madrid', 'france': 'paris', 'germany': 'berlin', 'norway': 'oslo'}\n"
          ]
        }
      ]
    },
    {
      "cell_type": "code",
      "source": [
        "countries=['spain','france','germany','norway']\n",
        "capitals=['madrid','paris','berlin','oslo']\n",
        "\n",
        "europe={'spain':'madrid','france':'paris','germany':'berlin','norway':'oslo'}\n",
        "print(europe)"
      ],
      "metadata": {
        "id": "05wlfH5mezAq"
      },
      "execution_count": null,
      "outputs": []
    },
    {
      "cell_type": "code",
      "source": [
        "#Utilizando o método keys() de europe, print as chaves do dicionário.\n",
        "europe={'spain':'madrid',\n",
        "        'france':'paris',\n",
        "        'germany':'bonn',\n",
        "        'norway':'oslo',}\n",
        "print(europe['germany'])\n",
        "#Print o valor contido em norway.\n",
        "print(europe['norway'])\n",
        "#verificação se o conteúdo está presente.\n",
        "europe['sealand']=0.000027\n",
        "print(europe)\n",
        "print('sealand' in europe)\n",
        "#apagando conteúdos\n",
        "del (europe['sealand'])\n",
        "print(europe)\n",
        "#Crie uma nova chave para o dicionário europe chamada ‘italy’ e inclua o valor ‘rome’. Na linha 7\n",
        "europe['italy']='rome'\n",
        "#verifique se ‘italy’ está presente em europe e print a análise.Na linha 10.\n",
        "print('italy' in europe)\n",
        "#Crie uma nova chave para o dicionário europe chamada ‘poland’ e inclua o valor ‘warsaw’. Na linha 13.\n",
        "europe['poland']='warsaw'\n",
        "# print o dicionário europe completo.\n",
        "print(europe)"
      ],
      "metadata": {
        "colab": {
          "base_uri": "https://localhost:8080/"
        },
        "collapsed": true,
        "id": "Vd9ZGOgdc3Dh",
        "outputId": "dd4b75ac-491e-44e8-8228-ace697454ef7"
      },
      "execution_count": 2,
      "outputs": [
        {
          "output_type": "stream",
          "name": "stdout",
          "text": [
            "bonn\n",
            "oslo\n",
            "{'spain': 'madrid', 'france': 'paris', 'germany': 'bonn', 'norway': 'oslo', 'sealand': 2.7e-05}\n",
            "True\n",
            "{'spain': 'madrid', 'france': 'paris', 'germany': 'bonn', 'norway': 'oslo'}\n",
            "True\n",
            "{'spain': 'madrid', 'france': 'paris', 'germany': 'bonn', 'norway': 'oslo', 'italy': 'rome', 'poland': 'warsaw'}\n"
          ]
        }
      ]
    },
    {
      "cell_type": "code",
      "source": [
        "europe={'spain':'madrid',\n",
        "        'france':'paris',\n",
        "        'germany':'bonn',\n",
        "        'norway':'oslo',\n",
        "        'poland': 'warsaw',\n",
        "        'austrália':'vienna'}\n",
        "\n",
        "#Corrija o valor contido em ‘germany’ na linha 9. Atribua o valor correto, que é ‘berlim’ .\n",
        "europe['germany']='berlim'\n",
        "#Delete a chave ‘australia’ que está indevidamente inclusa no dicionário.\n",
        "del(europe['austrália'])\n",
        "#Print o dicionário completo.\n",
        "print(europe)"
      ],
      "metadata": {
        "colab": {
          "base_uri": "https://localhost:8080/"
        },
        "collapsed": true,
        "id": "RM5sfm01dCP5",
        "outputId": "7cecbe43-030a-4423-b4b6-6148f5c18c6b"
      },
      "execution_count": 8,
      "outputs": [
        {
          "output_type": "stream",
          "name": "stdout",
          "text": [
            "{'spain': 'madrid', 'france': 'paris', 'germany': 'berlim', 'norway': 'oslo', 'poland': 'warsaw'}\n",
            "s\n"
          ]
        }
      ]
    },
    {
      "cell_type": "code",
      "source": [
        "europe={'spain':{'capital':'madrid', 'population':46.77},\n",
        "        'france':{'capital':'paris', 'population':66.03},\n",
        "        'germany':{'capital':'berlim', 'population':88.62},\n",
        "        'normay':{'capital':'oslo', 'population':5.084 } }\n",
        "#Acessando os elementos do dicionário europe, print ‘paris’ que pertece ao subdicionário ‘france’.\n",
        "print(europe['france']['capital'])\n",
        "#Crie um novo dicionário chamado data e inclua neste 'capital' e 'population'. Atribua, respectivamente 'rome' e 59.83.\n",
        "europe['data']={'capital':'rome', 'population':59.83}\n",
        "print(europe)\n",
        "#Crie uma nova chave ‘Italy’ para europe e inclua data dentro da chave.\n",
        "europe['italy']=europe['data']\n",
        "#Print europe.\n",
        "print(europe)"
      ],
      "metadata": {
        "colab": {
          "base_uri": "https://localhost:8080/"
        },
        "collapsed": true,
        "id": "diJmXwYajZ1T",
        "outputId": "9a3f67d2-4795-4737-e5c4-5a7356d72710"
      },
      "execution_count": 21,
      "outputs": [
        {
          "output_type": "stream",
          "name": "stdout",
          "text": [
            "paris\n",
            "{'spain': {'capital': 'madrid', 'population': 46.77}, 'france': {'capital': 'paris', 'population': 66.03}, 'germany': {'capital': 'berlim', 'population': 88.62}, 'normay': {'capital': 'oslo', 'population': 5.084}, 'data': {'capital': 'rome', 'population': 59.83}}\n",
            "{'spain': {'capital': 'madrid', 'population': 46.77}, 'france': {'capital': 'paris', 'population': 66.03}, 'germany': {'capital': 'berlim', 'population': 88.62}, 'normay': {'capital': 'oslo', 'population': 5.084}, 'data': {'capital': 'rome', 'population': 59.83}, 'italy': {'capital': 'rome', 'population': 59.83}}\n"
          ]
        }
      ]
    }
  ]
}