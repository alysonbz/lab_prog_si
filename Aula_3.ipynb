{
  "nbformat": 4,
  "nbformat_minor": 0,
  "metadata": {
    "colab": {
      "provenance": [],
      "authorship_tag": "ABX9TyM1LH5xOc0cF6jEv5x8htUg",
      "include_colab_link": true
    },
    "kernelspec": {
      "name": "python3",
      "display_name": "Python 3"
    },
    "language_info": {
      "name": "python"
    }
  },
  "cells": [
    {
      "cell_type": "markdown",
      "metadata": {
        "id": "view-in-github",
        "colab_type": "text"
      },
      "source": [
        "<a href=\"https://colab.research.google.com/github/alysonbz/lab_prog_si/blob/levi_nascimento/Aula_3.ipynb\" target=\"_parent\"><img src=\"https://colab.research.google.com/assets/colab-badge.svg\" alt=\"Open In Colab\"/></a>"
      ]
    },
    {
      "cell_type": "markdown",
      "source": [
        "FUNÇÕES"
      ],
      "metadata": {
        "id": "4uiYyluwKp-l"
      }
    },
    {
      "cell_type": "code",
      "execution_count": null,
      "metadata": {
        "id": "Qn-1OAuhKm59"
      },
      "outputs": [],
      "source": [
        "def max_valor_lista(list_num):\n",
        "  maior_valor = None\n",
        "  for numero in list_num:\n",
        "    if maior_valor == None:\n",
        "      maior_valor = numero\n",
        "    if numero > maior_valor:\n",
        "      maior_valor = numero\n",
        "\n",
        "  return maior_valor"
      ]
    },
    {
      "cell_type": "code",
      "source": [
        "lista_qualquer = [2, 6, 7, 8, 7, 5, 89]\n",
        "\n",
        "num = max_valor_lista(lista_qualquer)\n",
        "print(\"Maior Valor\", num)"
      ],
      "metadata": {
        "colab": {
          "base_uri": "https://localhost:8080/"
        },
        "id": "FCAGMVElKvnT",
        "outputId": "7c652af8-550a-43aa-de77-599f94935225"
      },
      "execution_count": null,
      "outputs": [
        {
          "output_type": "stream",
          "name": "stdout",
          "text": [
            "Maior Valor 89\n"
          ]
        }
      ]
    },
    {
      "cell_type": "markdown",
      "source": [
        "Faça uma função que retorne a quantidade de elementos em uma lista"
      ],
      "metadata": {
        "id": "xBr8KZ4EK473"
      }
    },
    {
      "cell_type": "code",
      "source": [
        "def qtd_elementos_lista(list_num):\n",
        "  qtd_elementos = 0\n",
        "  for elementos in list_num:\n",
        "        qtd_elementos = qtd_elementos + 1\n",
        "\n",
        "  return qtd_elementos"
      ],
      "metadata": {
        "id": "TdMA1EvHK5mH"
      },
      "execution_count": null,
      "outputs": []
    },
    {
      "cell_type": "code",
      "source": [
        "lista = [2, 4, 8, 6]\n",
        "qtd_elementos_lista(lista)"
      ],
      "metadata": {
        "colab": {
          "base_uri": "https://localhost:8080/"
        },
        "id": "MkE2wu4nK8aG",
        "outputId": "6f34621a-001c-490c-f7b9-9e355de01f0e"
      },
      "execution_count": null,
      "outputs": [
        {
          "output_type": "execute_result",
          "data": {
            "text/plain": [
              "4"
            ]
          },
          "metadata": {},
          "execution_count": 4
        }
      ]
    },
    {
      "cell_type": "code",
      "source": [
        "#max() mostra o maior valor da lista\n",
        "print(max(lista))\n",
        "\n",
        "#round() retorna valor inteiro ou arredonda\n",
        "round(1.68, 1)"
      ],
      "metadata": {
        "colab": {
          "base_uri": "https://localhost:8080/"
        },
        "id": "mdPlTE9hLCac",
        "outputId": "4525341d-010d-4c1c-fd2e-94298698ef91"
      },
      "execution_count": null,
      "outputs": [
        {
          "output_type": "stream",
          "name": "stdout",
          "text": [
            "8\n"
          ]
        },
        {
          "output_type": "execute_result",
          "data": {
            "text/plain": [
              "1.7"
            ]
          },
          "metadata": {},
          "execution_count": 5
        }
      ]
    },
    {
      "cell_type": "markdown",
      "source": [
        "PRATIQUE"
      ],
      "metadata": {
        "id": "NgEctE-LK_X9"
      }
    },
    {
      "cell_type": "code",
      "source": [
        "var1 = [1, 2, 3, 4]\n",
        "var2 = True\n",
        "\n",
        "#1) print o tipo de var 1\n",
        "print(type(var1))\n",
        "\n",
        "#2) Print o tamanho de var1 com a função Len()\n",
        "print(len(var1))\n",
        "\n",
        "#3)Converta var2 para inteiro com a função int e armazene em out2. Em seguida realize o print de out2\n",
        "out2 = int(var2)\n",
        "print(out2)"
      ],
      "metadata": {
        "colab": {
          "base_uri": "https://localhost:8080/"
        },
        "id": "VUIQT114LJAj",
        "outputId": "8b92db53-1f3f-4c48-f052-c3cb6853eb56"
      },
      "execution_count": null,
      "outputs": [
        {
          "output_type": "stream",
          "name": "stdout",
          "text": [
            "<class 'list'>\n",
            "4\n",
            "1\n"
          ]
        }
      ]
    },
    {
      "cell_type": "code",
      "source": [
        "#4)concatenar as listas first e second usando o operador + e armazene em uma nova lista chamada full. Print a lista full.\n",
        "first = [11.25, 18.0, 20.0]\n",
        "second = [10.75, 9.50]\n",
        "\n",
        "full = first + second\n",
        "print(full)\n",
        "\n",
        "#5) Use a função sorted() para  ordenar os elementos da lista full e armazene a reposta da função em uma nova lista, full_sorted.\n",
        "# A função sorted recebe 2 argumentos: full e outro padrão da função: reverse,  que indica o tipo ordenamento. Neste caso, faça reverse = True.\n",
        "\n",
        "full_sorted = sorted(full, reverse = True)\n",
        "\n",
        "#6) Print a lista full_sorted\n",
        "print(full_sorted)\n",
        "\n",
        "\n"
      ],
      "metadata": {
        "colab": {
          "base_uri": "https://localhost:8080/"
        },
        "id": "M2-BIuU7jlTl",
        "outputId": "f3a9e5c7-e6bd-4949-f4e2-b77c9aed7a31"
      },
      "execution_count": 6,
      "outputs": [
        {
          "output_type": "stream",
          "name": "stdout",
          "text": [
            "[11.25, 18.0, 20.0, 10.75, 9.5]\n",
            "[20.0, 18.0, 11.25, 10.75, 9.5]\n"
          ]
        }
      ]
    }
  ]
}