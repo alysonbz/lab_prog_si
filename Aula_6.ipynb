{
  "nbformat": 4,
  "nbformat_minor": 0,
  "metadata": {
    "colab": {
      "provenance": [],
      "authorship_tag": "ABX9TyOshktU6jYG0JFNPbyDQ999",
      "include_colab_link": true
    },
    "kernelspec": {
      "name": "python3",
      "display_name": "Python 3"
    },
    "language_info": {
      "name": "python"
    }
  },
  "cells": [
    {
      "cell_type": "markdown",
      "metadata": {
        "id": "view-in-github",
        "colab_type": "text"
      },
      "source": [
        "<a href=\"https://colab.research.google.com/github/alysonbz/lab_prog_si/blob/levi_nascimento/Aula_6.ipynb\" target=\"_parent\"><img src=\"https://colab.research.google.com/assets/colab-badge.svg\" alt=\"Open In Colab\"/></a>"
      ]
    },
    {
      "cell_type": "markdown",
      "source": [
        "PRATIQUE"
      ],
      "metadata": {
        "id": "4NrDtTR7PVFI"
      }
    },
    {
      "cell_type": "code",
      "execution_count": null,
      "metadata": {
        "id": "1ziLHU6BOm_k"
      },
      "outputs": [],
      "source": [
        "import random as rd\n",
        "import numpy as np\n",
        "\n",
        "#geração de números entre 150 e 209\n",
        "heigth = range(150,210)\n",
        "\n",
        "#geração de números entre 50 e 149\n",
        "weight = range(50,150)"
      ]
    },
    {
      "cell_type": "code",
      "source": [
        "#amostra randomica de 20 números de heigth\n",
        "heigth = rd.sample(heigth,20)\n",
        "\n",
        "#amostra randomica de 20 números de weigth\n",
        "weigth = rd.sample(weight,20)"
      ],
      "metadata": {
        "id": "vB6QSLL4UIVP"
      },
      "execution_count": null,
      "outputs": []
    },
    {
      "cell_type": "code",
      "source": [
        "#converter heigth em array e normalizar multiplicando por 0.01\n",
        "heigth_array = np.array(heigth) * 0.01\n",
        "#converter weigth em array\n",
        "weigth_array = np.array(weigth)\n",
        "\n",
        "print(heigth_array)\n",
        "print(weigth_array)"
      ],
      "metadata": {
        "colab": {
          "base_uri": "https://localhost:8080/"
        },
        "id": "5gw_QfvwSsFP",
        "outputId": "d6d675da-248b-4d74-ee26-78f05484b9e7"
      },
      "execution_count": null,
      "outputs": [
        {
          "output_type": "stream",
          "name": "stdout",
          "text": [
            "[1.91 1.51 2.03 1.57 1.97 1.73 1.59 1.89 1.76 1.78 1.69 1.93 2.09 1.99\n",
            " 1.77 1.79 1.94 1.62 1.6  1.86]\n",
            "[130  96  92 148  65  85 104 136  98 129  73 103 107  61 140 100 116  83\n",
            "  86  55]\n"
          ]
        }
      ]
    },
    {
      "cell_type": "code",
      "source": [
        "#calculo do bmi\n",
        "bmi = weigth_array / heigth_array ** 2\n",
        "print(bmi)"
      ],
      "metadata": {
        "colab": {
          "base_uri": "https://localhost:8080/"
        },
        "id": "TjleUnwvSxeT",
        "outputId": "6489f5d0-54bf-4f22-aa2c-c4f1b0ecbdde"
      },
      "execution_count": null,
      "outputs": [
        {
          "output_type": "stream",
          "name": "stdout",
          "text": [
            "[35.63498808 42.10341652 22.32522022 60.04300377 16.74869231 28.40054796\n",
            " 41.13761323 38.07284231 31.63739669 40.71455624 25.55932916 27.65174904\n",
            " 24.4957762  15.40365142 44.68703119 31.21001217 30.82155383 31.62627648\n",
            " 33.59375    15.89779165]\n"
          ]
        }
      ]
    },
    {
      "cell_type": "code",
      "source": [
        "#verificação onde BMI menor que 21\n",
        "light =  bmi < 21\n",
        "#print light\n",
        "print(light)"
      ],
      "metadata": {
        "colab": {
          "base_uri": "https://localhost:8080/"
        },
        "id": "5cGnlOhEUMwC",
        "outputId": "0c69682e-c4ca-476a-ab51-1ce5b19f42e9"
      },
      "execution_count": null,
      "outputs": [
        {
          "output_type": "stream",
          "name": "stdout",
          "text": [
            "[False False False False  True False False False False False False False\n",
            " False  True False False False False False  True]\n"
          ]
        }
      ]
    },
    {
      "cell_type": "code",
      "source": [
        "#exibição dos valores de bmi menor que 21\n",
        "print(bmi[light])"
      ],
      "metadata": {
        "colab": {
          "base_uri": "https://localhost:8080/"
        },
        "id": "IXEiqGBhV43d",
        "outputId": "90a1a869-5e48-4d0a-8d40-ff9f1312172e"
      },
      "execution_count": null,
      "outputs": [
        {
          "output_type": "stream",
          "name": "stdout",
          "text": [
            "[16.74869231 15.40365142 15.89779165]\n"
          ]
        }
      ]
    },
    {
      "cell_type": "code",
      "source": [
        "#print o elementos de weight_array do index 8 até o index 15,\n",
        "#incluindo o index 15\n",
        "print(weigth_array[8:16])"
      ],
      "metadata": {
        "colab": {
          "base_uri": "https://localhost:8080/"
        },
        "id": "uOT-szEMX0gb",
        "outputId": "2a9f0dcd-e1e4-4b91-d543-75e60998e9bb"
      },
      "execution_count": null,
      "outputs": [
        {
          "output_type": "stream",
          "name": "stdout",
          "text": [
            "[ 98 129  73 103 107  61 140 100]\n"
          ]
        }
      ]
    },
    {
      "cell_type": "code",
      "source": [
        "#print os elementos height_array do index 11 até o index 19,\n",
        "#incluindo o index 19\n",
        "print(heigth_array[11:20])"
      ],
      "metadata": {
        "colab": {
          "base_uri": "https://localhost:8080/"
        },
        "id": "NZ48mhqPYIab",
        "outputId": "9ec02a2f-ee96-45ae-84df-d6580221fdca"
      },
      "execution_count": null,
      "outputs": [
        {
          "output_type": "stream",
          "name": "stdout",
          "text": [
            "[1.93 2.09 1.99 1.77 1.79 1.94 1.62 1.6  1.86]\n"
          ]
        }
      ]
    },
    {
      "cell_type": "markdown",
      "source": [
        "GERAR GRÁFICO NORMAL E UNIFORME"
      ],
      "metadata": {
        "id": "x3ByG-o2CnPV"
      }
    },
    {
      "cell_type": "code",
      "source": [
        "dados = np.random.normal(1, 100, 1000)"
      ],
      "metadata": {
        "id": "BM9oGWW4Csbb"
      },
      "execution_count": null,
      "outputs": []
    },
    {
      "cell_type": "code",
      "source": [
        "import matplotlib.pyplot as plt\n",
        "plt.hist(dados)"
      ],
      "metadata": {
        "colab": {
          "base_uri": "https://localhost:8080/",
          "height": 517
        },
        "id": "Dg_nnet8C42w",
        "outputId": "fa03e1dc-e125-41b6-f430-9206adeac950"
      },
      "execution_count": null,
      "outputs": [
        {
          "output_type": "execute_result",
          "data": {
            "text/plain": [
              "(array([  5.,  26.,  78., 152., 220., 248., 153.,  87.,  26.,   5.]),\n",
              " array([-306.30746292, -244.21853526, -182.12960761, -120.04067996,\n",
              "         -57.9517523 ,    4.13717535,   66.226103  ,  128.31503065,\n",
              "         190.40395831,  252.49288596,  314.58181361]),\n",
              " <BarContainer object of 10 artists>)"
            ]
          },
          "metadata": {},
          "execution_count": 18
        },
        {
          "output_type": "display_data",
          "data": {
            "text/plain": [
              "<Figure size 640x480 with 1 Axes>"
            ],
            "image/png": "[encoded data removed]"
          },
          "metadata": {}
        }
      ]
    },
    {
      "cell_type": "code",
      "source": [
        "dados = np.random.randint(1, 100, 100)\n",
        "dados"
      ],
      "metadata": {
        "colab": {
          "base_uri": "https://localhost:8080/"
        },
        "id": "rA_RdnDrCyYI",
        "outputId": "443b2ec9-0f31-48dc-d4b3-63a50b09b206"
      },
      "execution_count": null,
      "outputs": [
        {
          "output_type": "execute_result",
          "data": {
            "text/plain": [
              "array([96, 49, 12, 43, 73, 34, 63, 46, 53, 34, 74, 21, 84,  2, 70, 16, 86,\n",
              "       81, 56, 64, 14, 83, 23, 44, 49, 80,  5, 40, 32, 66, 75, 21, 26, 13,\n",
              "       59, 66, 30,  4, 86, 83, 41, 67, 42, 28, 20, 23, 17, 65, 39, 65, 72,\n",
              "       15, 24, 67, 52, 86, 57,  2, 66, 39, 10, 82,  8, 84, 66, 87, 20, 47,\n",
              "       27, 77, 79, 88, 97, 32, 20, 10, 51, 81, 95, 16, 39, 29, 63, 98, 40,\n",
              "       41, 74, 22, 83, 87, 89, 70, 95, 83, 78,  8, 22, 49, 20,  1])"
            ]
          },
          "metadata": {},
          "execution_count": 20
        }
      ]
    },
    {
      "cell_type": "code",
      "source": [
        "import matplotlib.pyplot as plt\n",
        "plt.hist(dados)"
      ],
      "metadata": {
        "colab": {
          "base_uri": "https://localhost:8080/",
          "height": 482
        },
        "id": "QnnJMtKEDOJi",
        "outputId": "b76e409e-de28-4a99-c77f-1a567da01a84"
      },
      "execution_count": null,
      "outputs": [
        {
          "output_type": "execute_result",
          "data": {
            "text/plain": [
              "(array([ 9., 11., 12.,  7., 12.,  6., 11.,  9., 17.,  6.]),\n",
              " array([ 1. , 10.7, 20.4, 30.1, 39.8, 49.5, 59.2, 68.9, 78.6, 88.3, 98. ]),\n",
              " <BarContainer object of 10 artists>)"
            ]
          },
          "metadata": {},
          "execution_count": 21
        },
        {
          "output_type": "display_data",
          "data": {
            "text/plain": [
              "<Figure size 640x480 with 1 Axes>"
            ],
            "image/png": "[encoded data removed]"
          },
          "metadata": {}
        }
      ]
    },
    {
      "cell_type": "code",
      "source": [
        "help(len)"
      ],
      "metadata": {
        "colab": {
          "base_uri": "https://localhost:8080/"
        },
        "id": "i0XiC4ptEwAL",
        "outputId": "67879632-26cf-4d31-e38c-a4739682ba8a"
      },
      "execution_count": null,
      "outputs": [
        {
          "output_type": "stream",
          "name": "stdout",
          "text": [
            "Help on built-in function len in module builtins:\n",
            "\n",
            "len(obj, /)\n",
            "    Return the number of items in a container.\n",
            "\n"
          ]
        }
      ]
    },
    {
      "cell_type": "markdown",
      "source": [
        "NUMPY"
      ],
      "metadata": {
        "id": "2N3lctdj0_Oz"
      }
    },
    {
      "cell_type": "code",
      "source": [
        "import random as rd\n",
        "import numpy as np\n",
        "\n",
        "city1 = [5, 10]\n",
        "city2 = [8, 20]\n",
        "city3 = [4, 15]\n",
        "np_city = np.array([city1,city2,city3])\n",
        "print(np_city)\n",
        "#Array só funciona se os elementos tiverem as mesmas dimensões"
      ],
      "metadata": {
        "colab": {
          "base_uri": "https://localhost:8080/"
        },
        "id": "PQY4u1mZ1SdA",
        "outputId": "bdb77c26-2bfc-4186-b3d5-03b3e86f4b8f"
      },
      "execution_count": null,
      "outputs": [
        {
          "output_type": "stream",
          "name": "stdout",
          "text": [
            "[[ 5 10]\n",
            " [ 8 20]\n",
            " [ 4 15]]\n"
          ]
        }
      ]
    },
    {
      "cell_type": "code",
      "source": [
        "np_city.shape\n",
        "#Mostra dimensões da array"
      ],
      "metadata": {
        "colab": {
          "base_uri": "https://localhost:8080/"
        },
        "id": "VicB4MntAq4j",
        "outputId": "20f9e4e8-34ac-4c15-ec06-e638879f1dbd"
      },
      "execution_count": null,
      "outputs": [
        {
          "output_type": "execute_result",
          "data": {
            "text/plain": [
              "(3, 2)"
            ]
          },
          "metadata": {},
          "execution_count": 3
        }
      ]
    },
    {
      "cell_type": "code",
      "source": [
        "np_city[1,:]\n",
        "# : - todas as linhas da primeira coluna ou todas as colunas (linha, coluna)"
      ],
      "metadata": {
        "colab": {
          "base_uri": "https://localhost:8080/"
        },
        "id": "vReOHp1ZBFCZ",
        "outputId": "71352900-59a0-4f1a-a8fe-b33401fc6f04"
      },
      "execution_count": null,
      "outputs": [
        {
          "output_type": "execute_result",
          "data": {
            "text/plain": [
              "array([ 8, 20])"
            ]
          },
          "metadata": {},
          "execution_count": 10
        }
      ]
    },
    {
      "cell_type": "code",
      "source": [
        "np.mean(np_city[:,0])\n",
        "#média de todos os dados do array"
      ],
      "metadata": {
        "colab": {
          "base_uri": "https://localhost:8080/"
        },
        "id": "kgz-nQ6E2QI8",
        "outputId": "13743bca-e073-417d-f6ae-722a9e16b212"
      },
      "execution_count": null,
      "outputs": [
        {
          "output_type": "execute_result",
          "data": {
            "text/plain": [
              "np.float64(5.666666666666667)"
            ]
          },
          "metadata": {},
          "execution_count": 5
        }
      ]
    },
    {
      "cell_type": "code",
      "source": [
        "np.median(np.city[:, 0])\n",
        "#Mediana"
      ],
      "metadata": {
        "colab": {
          "base_uri": "https://localhost:8080/"
        },
        "id": "KuUlglEc2cb9",
        "outputId": "94445039-4b38-4e5d-ba21-bbba4f01d1ed"
      },
      "execution_count": null,
      "outputs": [
        {
          "output_type": "execute_result",
          "data": {
            "text/plain": [
              "np.float64(5.0)"
            ]
          },
          "metadata": {},
          "execution_count": 6
        }
      ]
    },
    {
      "cell_type": "code",
      "source": [
        "np.corrcoef(np_city[:, 0], np_city[:, 1])"
      ],
      "metadata": {
        "colab": {
          "base_uri": "https://localhost:8080/"
        },
        "id": "6AcfsiKL7bA7",
        "outputId": "24c09afc-1ad3-4f28-dbc2-d3f26c147da3"
      },
      "execution_count": null,
      "outputs": [
        {
          "output_type": "execute_result",
          "data": {
            "text/plain": [
              "array([[1.        , 0.72057669],\n",
              "       [0.72057669, 1.        ]])"
            ]
          },
          "metadata": {},
          "execution_count": 3
        }
      ]
    },
    {
      "cell_type": "code",
      "source": [
        "np.std(np_city[:, 0])\n"
      ],
      "metadata": {
        "colab": {
          "base_uri": "https://localhost:8080/"
        },
        "id": "vw7G3LmG7nOD",
        "outputId": "59dcb832-8f4a-4037-ce84-3f703915d5eb"
      },
      "execution_count": null,
      "outputs": [
        {
          "output_type": "execute_result",
          "data": {
            "text/plain": [
              "np.float64(1.699673171197595)"
            ]
          },
          "metadata": {},
          "execution_count": 4
        }
      ]
    },
    {
      "cell_type": "markdown",
      "source": [
        "Geração de um array randômico"
      ],
      "metadata": {
        "id": "H8htnV5O8C8S"
      }
    },
    {
      "cell_type": "code",
      "source": [
        "height = np.round(np.random.normal(1.75, 0.20, 5000), 2)\n",
        "weight = np.round(np.random.normal(60.32, 15, 5000), 2)\n",
        "np_city = np.column_stack((height, weight))"
      ],
      "metadata": {
        "id": "x5As9LBB8ARd"
      },
      "execution_count": null,
      "outputs": []
    },
    {
      "cell_type": "markdown",
      "source": [
        "PRATIQUE"
      ],
      "metadata": {
        "id": "NWZWTliH8fVn"
      }
    },
    {
      "cell_type": "code",
      "source": [
        "#criar baseball, lista de listas\n",
        "baseball = [[180, 78.4],\n",
        "            [215, 102.7],\n",
        "            [210, 98.5],\n",
        "            [188, 75.2]]\n",
        "\n",
        "#Importar numpy packge\n",
        "import numpy as np\n",
        "\n",
        "#Criar np.baseball, 2 colunas\n",
        "np_baseball = np.array(baseball)\n",
        "\n",
        "#Print a terceira linha de np_baseball\n",
        "print(np_baseball[2,:])\n",
        "\n",
        "#Calcule e exiba a média da primeira coluna de np_baseball\n",
        "print(np.mean(np_baseball[:,0]))\n",
        "\n",
        "#Calcule a mediana da segunda linha de np_baseball\n",
        "print(np.median(np_baseball[1,:]))"
      ],
      "metadata": {
        "id": "le6aNvrm8kMm",
        "colab": {
          "base_uri": "https://localhost:8080/"
        },
        "outputId": "c1deed4c-fa27-46f5-acc2-6edb8639a551"
      },
      "execution_count": 3,
      "outputs": [
        {
          "output_type": "stream",
          "name": "stdout",
          "text": [
            "[210.   98.5]\n",
            "198.25\n",
            "158.85\n"
          ]
        }
      ]
    }
  ]
}