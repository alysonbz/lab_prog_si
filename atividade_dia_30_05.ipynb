{
  "nbformat": 4,
  "nbformat_minor": 0,
  "metadata": {
    "colab": {
      "provenance": [],
      "authorship_tag": "ABX9TyPoSREcW0Aa5JaSMgn1uYPz",
      "include_colab_link": true
    },
    "kernelspec": {
      "name": "python3",
      "display_name": "Python 3"
    },
    "language_info": {
      "name": "python"
    }
  },
  "cells": [
    {
      "cell_type": "markdown",
      "metadata": {
        "id": "view-in-github",
        "colab_type": "text"
      },
      "source": [
        "<a href=\"https://colab.research.google.com/github/alysonbz/lab_prog_si/blob/kauan_lima/atividade_dia_30_05.ipynb\" target=\"_parent\"><img src=\"https://colab.research.google.com/assets/colab-badge.svg\" alt=\"Open In Colab\"/></a>"
      ]
    },
    {
      "cell_type": "code",
      "source": [
        "#Questões 1,2,3\n",
        "\n",
        "import math\n",
        "r = 0.43\n",
        "#calculo da circunferência\n",
        "c = 2 * math.pi * r\n",
        "print(c)\n",
        "#calcular area\n",
        "area = math.pi * r**2\n",
        "print(area)"
      ],
      "metadata": {
        "colab": {
          "base_uri": "https://localhost:8080/"
        },
        "id": "lbJcZnpAroOC",
        "outputId": "4a49d930-1268-4a12-81c4-57f820e5b472"
      },
      "execution_count": 4,
      "outputs": [
        {
          "output_type": "stream",
          "name": "stdout",
          "text": [
            "2.701769682087222\n",
            "0.5808804816487527\n"
          ]
        }
      ]
    },
    {
      "cell_type": "code",
      "source": [
        "#pratique\n",
        "#Questões 1, 2, 3, 4\n",
        "import numpy as np\n",
        "\n",
        "baseball = [180, 215, 210, 210, 188, 176, 209, 200]\n",
        "np_baseball = np.array(baseball)\n",
        "np_baseball\n",
        "print(type(np_baseball))\n",
        "print(np_baseball.ndim)\n",
        "print(np_baseball.size)"
      ],
      "metadata": {
        "colab": {
          "base_uri": "https://localhost:8080/"
        },
        "id": "-ApfLf9OsK9Z",
        "outputId": "8e441533-1e4e-4b18-e714-f91d40973fe9"
      },
      "execution_count": 9,
      "outputs": [
        {
          "output_type": "stream",
          "name": "stdout",
          "text": [
            "<class 'numpy.ndarray'>\n",
            "1\n",
            "8\n"
          ]
        }
      ]
    }
  ]
}