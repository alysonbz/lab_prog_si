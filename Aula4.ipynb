{
  "nbformat": 4,
  "nbformat_minor": 0,
  "metadata": {
    "colab": {
      "provenance": [],
      "authorship_tag": "ABX9TyOeh0vLEzAEYD1FOkvkRKiW"
    },
    "kernelspec": {
      "name": "python3",
      "display_name": "Python 3"
    },
    "language_info": {
      "name": "python"
    }
  },
  "cells": [
    {
      "cell_type": "code",
      "execution_count": 1,
      "metadata": {
        "id": "AwY4uUPE2f8M"
      },
      "outputs": [],
      "source": [
        "fam = [\"humano\", 1.75, \"orc\", 2.05, \"anão\", 1.40, \"elfo\", 1.80, \"gnomo\", 1.20]"
      ]
    },
    {
      "cell_type": "code",
      "source": [
        "fam.index('orc')"
      ],
      "metadata": {
        "colab": {
          "base_uri": "https://localhost:8080/"
        },
        "id": "BzOu7TxC3AKl",
        "outputId": "1c6fcbc0-62f3-42c3-ee5e-6280a83924e6"
      },
      "execution_count": 2,
      "outputs": [
        {
          "output_type": "execute_result",
          "data": {
            "text/plain": [
              "2"
            ]
          },
          "metadata": {},
          "execution_count": 2
        }
      ]
    },
    {
      "cell_type": "code",
      "source": [
        "fam.count('orc')"
      ],
      "metadata": {
        "colab": {
          "base_uri": "https://localhost:8080/"
        },
        "id": "8TwMwQPy3ETE",
        "outputId": "66c8091a-ee9f-4e47-f375-294bea002a05"
      },
      "execution_count": 5,
      "outputs": [
        {
          "output_type": "execute_result",
          "data": {
            "text/plain": [
              "1"
            ]
          },
          "metadata": {},
          "execution_count": 5
        }
      ]
    },
    {
      "cell_type": "code",
      "source": [
        "fam.append(\"hobbit\")\n",
        "fam"
      ],
      "metadata": {
        "colab": {
          "base_uri": "https://localhost:8080/"
        },
        "id": "ss5TCaKO3Qf1",
        "outputId": "77b23965-4eec-4746-beeb-da1014b26f1e"
      },
      "execution_count": 11,
      "outputs": [
        {
          "output_type": "execute_result",
          "data": {
            "text/plain": [
              "['humano',\n",
              " 1.75,\n",
              " 'orc',\n",
              " 2.05,\n",
              " 'anão',\n",
              " 1.4,\n",
              " 'elfo',\n",
              " 1.8,\n",
              " 'gnomo',\n",
              " 1.2,\n",
              " 'hobbit',\n",
              " 'hobbit',\n",
              " 'hobbit',\n",
              " 'hobbit',\n",
              " 'hobbit',\n",
              " 'hobbit']"
            ]
          },
          "metadata": {},
          "execution_count": 11
        }
      ]
    },
    {
      "cell_type": "code",
      "source": [
        "fam.append(1.50)"
      ],
      "metadata": {
        "id": "F1GDs21Z3Ya8"
      },
      "execution_count": 14,
      "outputs": []
    },
    {
      "cell_type": "code",
      "source": [
        "fam.remove(\"hobbit\")\n",
        "fam"
      ],
      "metadata": {
        "colab": {
          "base_uri": "https://localhost:8080/"
        },
        "id": "qwongn4L3nOc",
        "outputId": "aea99680-b82a-4419-8af0-94619e8cc843"
      },
      "execution_count": 20,
      "outputs": [
        {
          "output_type": "execute_result",
          "data": {
            "text/plain": [
              "['humano',\n",
              " 1.75,\n",
              " 'orc',\n",
              " 2.05,\n",
              " 'anão',\n",
              " 1.4,\n",
              " 'elfo',\n",
              " 1.8,\n",
              " 'gnomo',\n",
              " 1.2,\n",
              " 'hobbit',\n",
              " 1.5]"
            ]
          },
          "metadata": {},
          "execution_count": 20
        }
      ]
    },
    {
      "cell_type": "code",
      "source": [
        "fam"
      ],
      "metadata": {
        "colab": {
          "base_uri": "https://localhost:8080/"
        },
        "id": "Q76tDO3R32Bk",
        "outputId": "9ebdce2d-179a-4996-b78d-e7ef70bbddb8"
      },
      "execution_count": 21,
      "outputs": [
        {
          "output_type": "execute_result",
          "data": {
            "text/plain": [
              "['humano',\n",
              " 1.75,\n",
              " 'orc',\n",
              " 2.05,\n",
              " 'anão',\n",
              " 1.4,\n",
              " 'elfo',\n",
              " 1.8,\n",
              " 'gnomo',\n",
              " 1.2,\n",
              " 'hobbit',\n",
              " 1.5]"
            ]
          },
          "metadata": {},
          "execution_count": 21
        }
      ]
    },
    {
      "cell_type": "code",
      "source": [
        "boneca = \"irelia\"\n",
        "boneca"
      ],
      "metadata": {
        "colab": {
          "base_uri": "https://localhost:8080/",
          "height": 35
        },
        "id": "dEIPu96e34ZD",
        "outputId": "9620564f-4d47-47b8-9756-c1d7c6da7944"
      },
      "execution_count": 23,
      "outputs": [
        {
          "output_type": "execute_result",
          "data": {
            "text/plain": [
              "'irelia'"
            ],
            "application/vnd.google.colaboratory.intrinsic+json": {
              "type": "string"
            }
          },
          "metadata": {},
          "execution_count": 23
        }
      ]
    },
    {
      "cell_type": "code",
      "source": [
        "boneca.capitalize()"
      ],
      "metadata": {
        "colab": {
          "base_uri": "https://localhost:8080/",
          "height": 35
        },
        "id": "0kLdzexc37bs",
        "outputId": "9f2599ac-accc-44df-adc6-da1f99b7f933"
      },
      "execution_count": 24,
      "outputs": [
        {
          "output_type": "execute_result",
          "data": {
            "text/plain": [
              "'Irelia'"
            ],
            "application/vnd.google.colaboratory.intrinsic+json": {
              "type": "string"
            }
          },
          "metadata": {},
          "execution_count": 24
        }
      ]
    },
    {
      "cell_type": "code",
      "source": [
        "boneca.replace(\"elia\", \"ineu\")"
      ],
      "metadata": {
        "colab": {
          "base_uri": "https://localhost:8080/",
          "height": 35
        },
        "id": "8DfQB7604AJT",
        "outputId": "9e347b31-c593-4a91-a229-250c7acb637d"
      },
      "execution_count": 27,
      "outputs": [
        {
          "output_type": "execute_result",
          "data": {
            "text/plain": [
              "'irineu'"
            ],
            "application/vnd.google.colaboratory.intrinsic+json": {
              "type": "string"
            }
          },
          "metadata": {},
          "execution_count": 27
        }
      ]
    },
    {
      "cell_type": "code",
      "source": [
        "# Armazena uma palavra\n",
        "place = \"poolhouse\"\n",
        "\n",
        "# Coloca em CAPSLOCK a palavra armazenada na variável place\n",
        "place_up = place.upper()\n",
        "\n",
        "# Print das variáveis\n",
        "print(place)\n",
        "print(place_up)\n",
        "\n",
        "# Print de quantas letras \"o\" tem na palavra \"poolhouse\"\n",
        "place.count(\"o\")"
      ],
      "metadata": {
        "colab": {
          "base_uri": "https://localhost:8080/"
        },
        "id": "PQGIU2bP4So7",
        "outputId": "1abb76a2-fbbe-43fd-b0c9-2a381c76b71e"
      },
      "execution_count": 30,
      "outputs": [
        {
          "output_type": "stream",
          "name": "stdout",
          "text": [
            "poolhouse\n",
            "POOLHOUSE\n"
          ]
        },
        {
          "output_type": "execute_result",
          "data": {
            "text/plain": [
              "3"
            ]
          },
          "metadata": {},
          "execution_count": 30
        }
      ]
    },
    {
      "cell_type": "code",
      "source": [
        "# Cria uma lista de áreas\n",
        "areas = [11.25, 18.0, 20.0, 10.75, 9.50]\n",
        "\n",
        "# Print do do index que contem o número 20\n",
        "print(areas.index(20))\n",
        "\n",
        "# Print do número de vezes que 9.5 aparece na lista\n",
        "print(areas.count(9.5))"
      ],
      "metadata": {
        "colab": {
          "base_uri": "https://localhost:8080/"
        },
        "id": "120f66iz5PoP",
        "outputId": "9ade14ec-b45c-43d3-d059-34d36d99161d"
      },
      "execution_count": 40,
      "outputs": [
        {
          "output_type": "stream",
          "name": "stdout",
          "text": [
            "2\n",
            "1\n"
          ]
        }
      ]
    },
    {
      "cell_type": "code",
      "source": [
        "# Criação de uma lista de areas\n",
        "areas2 = [11.25, 18.0, 20.0, 10.75, 9.50]\n",
        "\n",
        "# Uso do método append para adicionar mais dois valores a lista\n",
        "areas2.append(24.5)\n",
        "areas2.append(15.25)\n",
        "\n",
        "# Print da lista das áreas\n",
        "print(areas2)\n",
        "\n",
        "# Uso do método reverse para inverter a ordem dos elementos da lista\n",
        "areas2.reverse()\n",
        "\n",
        "# Print da lista das áreas\n",
        "print(areas2)"
      ],
      "metadata": {
        "colab": {
          "base_uri": "https://localhost:8080/"
        },
        "id": "k-r_Dn4e5O2z",
        "outputId": "83c413cc-bc4b-45fd-e2d7-942ca72b566a"
      },
      "execution_count": 42,
      "outputs": [
        {
          "output_type": "stream",
          "name": "stdout",
          "text": [
            "[11.25, 18.0, 20.0, 10.75, 9.5, 24.5, 15.25]\n",
            "[15.25, 24.5, 9.5, 10.75, 20.0, 18.0, 11.25]\n"
          ]
        }
      ]
    }
  ]
}