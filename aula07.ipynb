{
  "nbformat": 4,
  "nbformat_minor": 0,
  "metadata": {
    "colab": {
      "provenance": [],
      "authorship_tag": "ABX9TyNegq742jC3YxYR78EWmfYh",
      "include_colab_link": true
    },
    "kernelspec": {
      "name": "python3",
      "display_name": "Python 3"
    },
    "language_info": {
      "name": "python"
    }
  },
  "cells": [
    {
      "cell_type": "markdown",
      "metadata": {
        "id": "view-in-github",
        "colab_type": "text"
      },
      "source": [
        "<a href=\"https://colab.research.google.com/github/alysonbz/lab_prog_si/blob/hugo_alexandre/aula07.ipynb\" target=\"_parent\"><img src=\"https://colab.research.google.com/assets/colab-badge.svg\" alt=\"Open In Colab\"/></a>"
      ]
    },
    {
      "cell_type": "code",
      "execution_count": null,
      "metadata": {
        "colab": {
          "base_uri": "https://localhost:8080/"
        },
        "id": "RvmPIEvdO3b_",
        "outputId": "6a0a184a-0fd2-4e12-b0b5-5a66b68d1d4a"
      },
      "outputs": [
        {
          "output_type": "stream",
          "name": "stdout",
          "text": [
            "[2.01 1.5  1.7  1.67 1.95 1.58 1.57 1.63 1.85 1.64 1.96 1.8  2.04 1.79\n",
            " 1.55 1.94 2.06 1.97 2.02 2.09]\n",
            "[81, 89, 103, 123, 134, 90, 63, 132, 52, 84, 101, 98, 51, 66, 128, 142, 58, 102, 147, 125]\n",
            "[ True False False False False False False False  True False False False\n",
            "  True  True False False  True False False False]\n",
            "[20.04900869 15.19357195 12.25490196 20.59860803 13.66764068]\n",
            "[ 52  84 101  98  51  66 128 142]\n"
          ]
        }
      ],
      "source": [
        "import random as rd\n",
        "import numpy as np\n",
        "#geração de números entre 150 e 209\n",
        "height = range(150,210)\n",
        "\n",
        "#geração de numeros entre 50 e 149\n",
        "weight = range(50,150)\n",
        "\n",
        "#amostra randonica de 20 numeros de height\n",
        "height = rd.sample(height,20)\n",
        "\n",
        "#amostra randonica de 20 numeros de weight\n",
        "weight = rd.sample(weight,20)\n",
        "\n",
        "#converter height em array e normalizar multiplicando por 0.01\n",
        "height_array = np.array(height)*0.01\n",
        "print(height_array)\n",
        "#converter weight em array\n",
        "weight_array = np.array(weight)\n",
        "print(weight)\n",
        "#calculo do BMI\n",
        "bmi = weight_array/height_array**2\n",
        "\n",
        "#verificacao onde bmi é menor que 21\n",
        "light = bmi<21\n",
        "\n",
        "#print light\n",
        "print(light)\n",
        "#exibicao dos valores de bmi com valor menor que 21\n",
        "print(bmi[bmi<21])\n",
        "#print o elementos de weight_array do index 8 ate o index 15,\n",
        "#incluindo o 15\n",
        "print(weight_array[8:16])\n",
        "\n",
        "#print os elemntos height_arra do index 11 ate o index 19,\n",
        "#incluindo o index 19"
      ]
    },
    {
      "cell_type": "code",
      "source": [],
      "metadata": {
        "id": "mjnRDMZQWiYx"
      },
      "execution_count": null,
      "outputs": []
    },
    {
      "cell_type": "code",
      "source": [
        "import random as rd\n",
        "import numpy as np\n",
        "\n",
        "city1 = [5,10]\n",
        "city2 = [8,20]\n",
        "city3 = [4,15]\n",
        "np_city = np.array([city1,city2,city3])\n",
        "np_city\n",
        "\n",
        "np.mean(np_city[:, 0])\n"
      ],
      "metadata": {
        "colab": {
          "base_uri": "https://localhost:8080/"
        },
        "id": "8e2ZsIOdNlS7",
        "outputId": "e89cdf40-35f5-44e1-a3be-84d363a0df96"
      },
      "execution_count": null,
      "outputs": [
        {
          "output_type": "execute_result",
          "data": {
            "text/plain": [
              "np.float64(5.666666666666667)"
            ]
          },
          "metadata": {},
          "execution_count": 1
        }
      ]
    },
    {
      "cell_type": "code",
      "source": [
        "np.median(np_city[:, 0])"
      ],
      "metadata": {
        "colab": {
          "base_uri": "https://localhost:8080/"
        },
        "id": "eAwIIU-INw5C",
        "outputId": "34824cb0-7b0d-4fe8-f18f-9d1a06433072"
      },
      "execution_count": null,
      "outputs": [
        {
          "output_type": "execute_result",
          "data": {
            "text/plain": [
              "np.float64(5.0)"
            ]
          },
          "metadata": {},
          "execution_count": 2
        }
      ]
    },
    {
      "cell_type": "code",
      "source": [
        "np.corrcoef(np_city[:, 0], np_city[:, 1])"
      ],
      "metadata": {
        "colab": {
          "base_uri": "https://localhost:8080/"
        },
        "id": "kf21Mq2CN0kL",
        "outputId": "3bc3b2c9-52de-41fc-e7dd-4cdefbdf7ed5"
      },
      "execution_count": null,
      "outputs": [
        {
          "output_type": "execute_result",
          "data": {
            "text/plain": [
              "array([[1.        , 0.72057669],\n",
              "       [0.72057669, 1.        ]])"
            ]
          },
          "metadata": {},
          "execution_count": 3
        }
      ]
    },
    {
      "cell_type": "code",
      "source": [
        "np.std(np_city[:, 0])"
      ],
      "metadata": {
        "colab": {
          "base_uri": "https://localhost:8080/"
        },
        "id": "Tn8xtK8TN2TL",
        "outputId": "edf4fb55-3a7a-4f42-da12-cd910d3f2faf"
      },
      "execution_count": null,
      "outputs": [
        {
          "output_type": "execute_result",
          "data": {
            "text/plain": [
              "np.float64(1.699673171197595)"
            ]
          },
          "metadata": {},
          "execution_count": 4
        }
      ]
    },
    {
      "cell_type": "code",
      "source": [
        "height = np.round(np.random.normal(1.75,0.20,5000), 2)\n",
        "weight = np.round(np.random.normal(60.32, 15, 5000), 2)\n",
        "\n",
        "np_city = np.column_stack((height, weight))\n",
        "np_city"
      ],
      "metadata": {
        "colab": {
          "base_uri": "https://localhost:8080/"
        },
        "id": "pbf9Qt24N7Na",
        "outputId": "de2661e6-50e2-4ee6-ab3e-b4bb81bca495"
      },
      "execution_count": null,
      "outputs": [
        {
          "output_type": "execute_result",
          "data": {
            "text/plain": [
              "array([[ 1.76, 54.94],\n",
              "       [ 1.85, 44.76],\n",
              "       [ 1.67, 50.34],\n",
              "       ...,\n",
              "       [ 2.28, 49.71],\n",
              "       [ 1.78, 55.53],\n",
              "       [ 2.01, 72.14]])"
            ]
          },
          "metadata": {},
          "execution_count": 5
        }
      ]
    },
    {
      "cell_type": "code",
      "source": [
        "#create baseball, a list of lists\n",
        "baseball = [[180, 78.4],\n",
        "            [215, 102.7],\n",
        "            [210, 98.5],\n",
        "            [188, 75.2]]\n",
        "\n",
        "# import numpy package\n",
        "import numpy as np\n",
        "\n",
        "#create np_baseball (2 couls)\n",
        "np_baseball = np.array(baseball)\n",
        "\n",
        "# print out the 50th row of np_baseball\n",
        "print(np_baseball[2])\n",
        "# select the entire second column\n",
        "#of np_baseball: np_weight_lb\n",
        "np_weight_lb = np_baseball[:,1]\n",
        "print(np_weight_lb)\n",
        "#print out height of 124th player\n",
        "print(np_baseball[1,0])\n",
        "media = np.mean(np_baseball[:,0])\n",
        "print(media)\n",
        "mediana = np.median(np_baseball[2])\n",
        "print(mediana)"
      ],
      "metadata": {
        "id": "31fdIpF1OMq6",
        "colab": {
          "base_uri": "https://localhost:8080/"
        },
        "outputId": "caf99b22-34ef-4038-cde5-dc6e7106fec2"
      },
      "execution_count": null,
      "outputs": [
        {
          "output_type": "stream",
          "name": "stdout",
          "text": [
            "[210.   98.5]\n",
            "[ 78.4 102.7  98.5  75.2]\n",
            "215.0\n",
            "198.25\n",
            "154.25\n"
          ]
        }
      ]
    },
    {
      "cell_type": "code",
      "source": [
        "# Qual linha de comando exibe a documentação da função len()?\n",
        "# resposta: help(len)"
      ],
      "metadata": {
        "id": "oqu6TgX_WkIo"
      },
      "execution_count": null,
      "outputs": []
    },
    {
      "cell_type": "code",
      "source": [
        "# Qual dos 3 códigos printa o número 8?\n",
        "\n",
        "z= np.array ([[9, 9, 3 ],\n",
        "              [8, 5, 4 ]])\n",
        "print(z[1,0])"
      ],
      "metadata": {
        "colab": {
          "base_uri": "https://localhost:8080/"
        },
        "id": "5XXNo1WKWuNf",
        "outputId": "107cb1f3-b1f5-43d3-ed38-134d2e83fad5"
      },
      "execution_count": null,
      "outputs": [
        {
          "output_type": "stream",
          "name": "stdout",
          "text": [
            "8\n"
          ]
        }
      ]
    },
    {
      "cell_type": "code",
      "source": [
        "foo = [8.2, 1.7, \"A\", \"Wed\", \"1.5\"]\n",
        "foo [0:2] = 2.75, -1.5\n",
        "\n",
        "print(foo)"
      ],
      "metadata": {
        "colab": {
          "base_uri": "https://localhost:8080/"
        },
        "id": "bGaj8dn0Xk9H",
        "outputId": "d9316eda-535b-4f7e-d5ee-28c870e023aa"
      },
      "execution_count": null,
      "outputs": [
        {
          "output_type": "stream",
          "name": "stdout",
          "text": [
            "[2.75, -1.5, 'A', 'Wed', '1.5']\n"
          ]
        }
      ]
    },
    {
      "cell_type": "code",
      "source": [
        "\n",
        "datascience = \"datascience\"\n",
        "datascience.replace(\"science\", \"camp\")"
      ],
      "metadata": {
        "id": "VRBtKhG9fM7W",
        "colab": {
          "base_uri": "https://localhost:8080/",
          "height": 35
        },
        "outputId": "bced4054-384f-446b-c291-b3c276809457"
      },
      "execution_count": null,
      "outputs": [
        {
          "output_type": "execute_result",
          "data": {
            "text/plain": [
              "'datacamp'"
            ],
            "application/vnd.google.colaboratory.intrinsic+json": {
              "type": "string"
            }
          },
          "metadata": {},
          "execution_count": 16
        }
      ]
    },
    {
      "cell_type": "code",
      "source": [
        "\n",
        "# esse é o código que dá erro\n",
        "\"python\" * \"2\""
      ],
      "metadata": {
        "id": "SsFX_OENiS8w",
        "colab": {
          "base_uri": "https://localhost:8080/",
          "height": 228
        },
        "outputId": "5e0dfdad-82b6-42a3-877e-8344d3ce4d0f"
      },
      "execution_count": null,
      "outputs": [
        {
          "output_type": "error",
          "ename": "TypeError",
          "evalue": "can't multiply sequence by non-int of type 'str'",
          "traceback": [
            "\u001b[0;31m---------------------------------------------------------------------------\u001b[0m",
            "\u001b[0;31mTypeError\u001b[0m                                 Traceback (most recent call last)",
            "\u001b[0;32m<ipython-input-3-ecbf48b1077f>\u001b[0m in \u001b[0;36m<cell line: 0>\u001b[0;34m()\u001b[0m\n\u001b[1;32m      1\u001b[0m \u001b[0;31m# esse é o código que dá erro\u001b[0m\u001b[0;34m\u001b[0m\u001b[0;34m\u001b[0m\u001b[0m\n\u001b[0;32m----> 2\u001b[0;31m \u001b[0;34m\"python\"\u001b[0m \u001b[0;34m*\u001b[0m \u001b[0;34m\"2\"\u001b[0m\u001b[0;34m\u001b[0m\u001b[0;34m\u001b[0m\u001b[0m\n\u001b[0m",
            "\u001b[0;31mTypeError\u001b[0m: can't multiply sequence by non-int of type 'str'"
          ]
        }
      ]
    },
    {
      "cell_type": "code",
      "source": [
        "# retorna python data\n",
        "x = \"python\"\n",
        "print( x + \" data\")"
      ],
      "metadata": {
        "colab": {
          "base_uri": "https://localhost:8080/"
        },
        "id": "rr3JG0j_zkfD",
        "outputId": "5b29d160-d950-4008-9009-89f94e09ca99"
      },
      "execution_count": null,
      "outputs": [
        {
          "output_type": "stream",
          "name": "stdout",
          "text": [
            "python data\n"
          ]
        }
      ]
    },
    {
      "cell_type": "code",
      "source": [
        "\n",
        "import numpy as np\n",
        "np_2d = np.array([[1.5, 6.4, 7.8, 2.2],\n",
        "\n",
        "[4.3, 8.7, 1.9, 3.4],\n",
        "\n",
        "[5.3, 7.3, 9.4, 2.5]])\n",
        "\n",
        "np_2d[2:,2:]"
      ],
      "metadata": {
        "id": "1e2_tauB0Dt5",
        "colab": {
          "base_uri": "https://localhost:8080/"
        },
        "outputId": "497beb30-a0d3-4e95-9644-e416f6546cb8"
      },
      "execution_count": null,
      "outputs": [
        {
          "output_type": "execute_result",
          "data": {
            "text/plain": [
              "array([[9.4, 2.5]])"
            ]
          },
          "metadata": {},
          "execution_count": 12
        }
      ]
    },
    {
      "cell_type": "code",
      "source": [
        "print( \"6\" * (2**2))"
      ],
      "metadata": {
        "colab": {
          "base_uri": "https://localhost:8080/"
        },
        "id": "ENM0Qeiz3LmC",
        "outputId": "1ea4fc6a-7566-4d12-bbff-8ef5769e3db5"
      },
      "execution_count": null,
      "outputs": [
        {
          "output_type": "stream",
          "name": "stdout",
          "text": [
            "6666\n"
          ]
        }
      ]
    },
    {
      "cell_type": "code",
      "source": [
        "m = np.array([2, 6, 4])\n",
        "\n",
        "n = np.array([2, 1, 1])\n",
        "\n",
        "print(m * n)"
      ],
      "metadata": {
        "id": "PaVDPpoB36ZE",
        "outputId": "c27844b3-bb3e-40d0-c277-5082b638309e",
        "colab": {
          "base_uri": "https://localhost:8080/"
        }
      },
      "execution_count": null,
      "outputs": [
        {
          "output_type": "stream",
          "name": "stdout",
          "text": [
            "[4 6 4]\n"
          ]
        }
      ]
    }
  ]
}