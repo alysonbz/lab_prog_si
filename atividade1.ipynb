{
  "nbformat": 4,
  "nbformat_minor": 0,
  "metadata": {
    "colab": {
      "provenance": [],
      "authorship_tag": "ABX9TyP2VHpsFnM22wsvGyfe/sWB",
      "include_colab_link": true
    },
    "kernelspec": {
      "name": "python3",
      "display_name": "Python 3"
    },
    "language_info": {
      "name": "python"
    }
  },
  "cells": [
    {
      "cell_type": "markdown",
      "metadata": {
        "id": "view-in-github",
        "colab_type": "text"
      },
      "source": [
        "<a href=\"https://colab.research.google.com/github/alysonbz/lab_prog_si/blob/saulo_brito/atividade1.ipynb\" target=\"_parent\"><img src=\"https://colab.research.google.com/assets/colab-badge.svg\" alt=\"Open In Colab\"/></a>"
      ]
    },
    {
      "cell_type": "code",
      "execution_count": 19,
      "metadata": {
        "colab": {
          "base_uri": "https://localhost:8080/"
        },
        "id": "g4hqE3V0xaUl",
        "outputId": "e9a2e085-323d-48c9-c1df-9fbe8f29c45d"
      },
      "outputs": [
        {
          "output_type": "stream",
          "name": "stdout",
          "text": [
            "0.625\n"
          ]
        }
      ],
      "source": [
        "# Questao 1\n",
        "print(5 / 8)"
      ]
    },
    {
      "cell_type": "code",
      "source": [
        "# Questão 2\n",
        "print(7 + 8)\n"
      ],
      "metadata": {
        "colab": {
          "base_uri": "https://localhost:8080/"
        },
        "id": "iM1-0WsTyBcC",
        "outputId": "7e785029-efc5-4ead-ca4d-331045d6bee7"
      },
      "execution_count": 20,
      "outputs": [
        {
          "output_type": "stream",
          "name": "stdout",
          "text": [
            "15\n"
          ]
        }
      ]
    },
    {
      "cell_type": "code",
      "source": [
        "# Questão 3\n",
        "print(5 + 3)\n",
        "print(5 - 3)"
      ],
      "metadata": {
        "colab": {
          "base_uri": "https://localhost:8080/"
        },
        "id": "i2eoAKjSyQVn",
        "outputId": "b342dcc1-1cf9-4e8a-9d44-a1c6028de7bd"
      },
      "execution_count": 21,
      "outputs": [
        {
          "output_type": "stream",
          "name": "stdout",
          "text": [
            "8\n",
            "2\n"
          ]
        }
      ]
    },
    {
      "cell_type": "code",
      "source": [
        "# Questão 4\n",
        "print(5 % 3)\n",
        "print(5 / 3)\n",
        "print(5 * 3)"
      ],
      "metadata": {
        "colab": {
          "base_uri": "https://localhost:8080/"
        },
        "id": "8MyT5SxIycNW",
        "outputId": "b7db8846-2ed3-4d87-c93e-a6b4d48aca60"
      },
      "execution_count": 22,
      "outputs": [
        {
          "output_type": "stream",
          "name": "stdout",
          "text": [
            "2\n",
            "1.6666666666666667\n",
            "15\n"
          ]
        }
      ]
    },
    {
      "cell_type": "code",
      "source": [
        "# Questão 5\n",
        "a = 1.1\n",
        "v = 100\n",
        "print(v * a **7)"
      ],
      "metadata": {
        "colab": {
          "base_uri": "https://localhost:8080/"
        },
        "id": "Zp7JcyWnyyqZ",
        "outputId": "dc0f1381-82b4-4447-efe1-b4aea6b2c66f"
      },
      "execution_count": 23,
      "outputs": [
        {
          "output_type": "stream",
          "name": "stdout",
          "text": [
            "194.87171000000012\n"
          ]
        }
      ]
    },
    {
      "cell_type": "code",
      "source": [
        "# Questão 6\n",
        "a = 1.1\n",
        "v = 100\n",
        "print(v * a **7)"
      ],
      "metadata": {
        "colab": {
          "base_uri": "https://localhost:8080/"
        },
        "id": "dP1-wd9O4VFo",
        "outputId": "8fc45f7a-0ee4-4421-baaa-c078a7509f2f"
      },
      "execution_count": 25,
      "outputs": [
        {
          "output_type": "stream",
          "name": "stdout",
          "text": [
            "194.87171000000012\n"
          ]
        }
      ]
    },
    {
      "cell_type": "code",
      "source": [
        "# Questão 7\n",
        "# Definition of pi_string\n",
        "pi_string = '3.1415926'\n",
        "\n",
        "# convert pi_string into float: pi_float\n",
        "pi_float = float(pi_string)\n",
        "print(pi_float)\n",
        "type(pi_float)"
      ],
      "metadata": {
        "colab": {
          "base_uri": "https://localhost:8080/"
        },
        "id": "d0zfvGd2zcB2",
        "outputId": "62284e57-cf8c-46f4-a56c-5cd4cd5559bc"
      },
      "execution_count": 26,
      "outputs": [
        {
          "output_type": "stream",
          "name": "stdout",
          "text": [
            "3.1415926\n"
          ]
        },
        {
          "output_type": "execute_result",
          "data": {
            "text/plain": [
              "float"
            ]
          },
          "metadata": {},
          "execution_count": 26
        }
      ]
    },
    {
      "cell_type": "code",
      "source": [
        "# Questao 8 com a Questão 9\n",
        "savings = 100\n",
        "result = 100 * 1.10 ** 7\n",
        "# Convert savings and result to strings before concatenation\n",
        "print(\"i started with $\" + str(savings) + \" and now have $\" + str(result) + \" awesome!\")\n",
        "# estava dando erro por causa que tinha que transforma em \"str\""
      ],
      "metadata": {
        "colab": {
          "base_uri": "https://localhost:8080/"
        },
        "id": "sAjjHGUf136K",
        "outputId": "24b43880-7c0b-4627-985c-a66c436bb043"
      },
      "execution_count": 30,
      "outputs": [
        {
          "output_type": "stream",
          "name": "stdout",
          "text": [
            "i started with $100 and now have $194.87171000000012 awesome!\n"
          ]
        }
      ]
    }
  ]
}