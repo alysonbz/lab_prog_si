{
  "nbformat": 4,
  "nbformat_minor": 0,
  "metadata": {
    "colab": {
      "provenance": [],
      "authorship_tag": "ABX9TyPegHbSUSwtNHox6Tw9k8Cs",
      "include_colab_link": true
    },
    "kernelspec": {
      "name": "python3",
      "display_name": "Python 3"
    },
    "language_info": {
      "name": "python"
    }
  },
  "cells": [
    {
      "cell_type": "markdown",
      "metadata": {
        "id": "view-in-github",
        "colab_type": "text"
      },
      "source": [
        "<a href=\"https://colab.research.google.com/github/alysonbz/lab_prog_si/blob/kauan_lima/atividade1.ipynb\" target=\"_parent\"><img src=\"https://colab.research.google.com/assets/colab-badge.svg\" alt=\"Open In Colab\"/></a>"
      ]
    },
    {
      "cell_type": "markdown",
      "source": [
        "Questão 1"
      ],
      "metadata": {
        "id": "75Kbup2NPVFC"
      }
    },
    {
      "cell_type": "code",
      "source": [
        "#exemplo 1: divisão de 5 por 8\n",
        "print(5/8)"
      ],
      "metadata": {
        "id": "gERVf8ehPXgb",
        "colab": {
          "base_uri": "https://localhost:8080/"
        },
        "outputId": "cb0d2d17-3fae-41aa-e7e9-9cf2a0e296d8"
      },
      "execution_count": null,
      "outputs": [
        {
          "output_type": "stream",
          "name": "stdout",
          "text": [
            "0.625\n"
          ]
        }
      ]
    },
    {
      "cell_type": "markdown",
      "source": [
        "Questão 2"
      ],
      "metadata": {
        "id": "WWdrGgPGl6u7"
      }
    },
    {
      "cell_type": "code",
      "source": [
        "#exemplo 2: Soma de 7+8\n",
        "print(7+8)"
      ],
      "metadata": {
        "colab": {
          "base_uri": "https://localhost:8080/"
        },
        "id": "1CA4kdI8l8sW",
        "outputId": "bc7e0329-b042-469e-8f85-f317ef8d5a86"
      },
      "execution_count": null,
      "outputs": [
        {
          "output_type": "stream",
          "name": "stdout",
          "text": [
            "15\n"
          ]
        }
      ]
    },
    {
      "cell_type": "markdown",
      "source": [
        "Questão 3"
      ],
      "metadata": {
        "id": "Glc7hVljLym0"
      }
    },
    {
      "cell_type": "code",
      "source": [
        "soma=5+3\n",
        "subtração=5-3\n",
        "print('Resultado: ', soma)\n",
        "print('Resultado: ', subtração)"
      ],
      "metadata": {
        "colab": {
          "base_uri": "https://localhost:8080/"
        },
        "id": "-478a7RNLWiV",
        "outputId": "7a78383b-d970-489e-8d38-099e2ebe61a0"
      },
      "execution_count": null,
      "outputs": [
        {
          "output_type": "stream",
          "name": "stdout",
          "text": [
            "Resultado:  8\n",
            "Resultado:  2\n"
          ]
        }
      ]
    },
    {
      "cell_type": "markdown",
      "source": [
        "Questão 4"
      ],
      "metadata": {
        "id": "q28rjdBxL2UU"
      }
    },
    {
      "cell_type": "code",
      "source": [
        "potencia=5**3\n",
        "multiplicação=5*3\n",
        "resto_divisao=5%3\n",
        "print('Resultado: ', potencia)\n",
        "print('Resultado: ', multiplicação)\n",
        "print('Resultado: ', resto_divisao)\n"
      ],
      "metadata": {
        "colab": {
          "base_uri": "https://localhost:8080/"
        },
        "id": "Tp_Tbp_QLxXG",
        "outputId": "ae62fdc6-54f1-41f0-cf5f-9146a168086d"
      },
      "execution_count": null,
      "outputs": [
        {
          "output_type": "stream",
          "name": "stdout",
          "text": [
            "Resultado:  125\n",
            "Resultado:  15\n",
            "Resultado:  2\n"
          ]
        }
      ]
    },
    {
      "cell_type": "markdown",
      "source": [
        "Questão 5"
      ],
      "metadata": {
        "id": "fOf13wygMfgM"
      }
    },
    {
      "cell_type": "code",
      "source": [
        "rendimento=100*(1.1**7)\n",
        "print('Resultado: ', rendimento)"
      ],
      "metadata": {
        "colab": {
          "base_uri": "https://localhost:8080/"
        },
        "id": "NZcKZpqBMouM",
        "outputId": "6efd2818-5da8-4968-8e7e-2409ed7ea370"
      },
      "execution_count": null,
      "outputs": [
        {
          "output_type": "stream",
          "name": "stdout",
          "text": [
            "Resultado:  194.87171000000012\n"
          ]
        }
      ]
    },
    {
      "cell_type": "markdown",
      "source": [
        "Questão 6"
      ],
      "metadata": {
        "id": "Lbs7FR1hkb3H"
      }
    },
    {
      "cell_type": "code",
      "source": [
        "economia=100\n",
        "crescimento=1.1\n",
        "desc='juros compostos'\n",
        "ano1=economia*crescimento**1\n",
        "print('ano1: ', ano1)\n",
        "print(type(ano1))\n",
        "doubledesc=desc+desc\n",
        "print(doubledesc)\n",
        "\n"
      ],
      "metadata": {
        "colab": {
          "base_uri": "https://localhost:8080/"
        },
        "id": "U6TQDNl8keSB",
        "outputId": "7cd71fc7-5fb2-480c-d461-a3fb41b7a7e9"
      },
      "execution_count": null,
      "outputs": [
        {
          "output_type": "stream",
          "name": "stdout",
          "text": [
            "ano1:  110.00000000000001\n",
            "<class 'float'>\n",
            "juros compostosjuros compostos\n"
          ]
        }
      ]
    },
    {
      "cell_type": "markdown",
      "source": [
        "Questão 7"
      ],
      "metadata": {
        "id": "31SQ2-_G4nRe"
      }
    },
    {
      "cell_type": "code",
      "source": [
        "pi_string = \"3.1415926\"\n",
        "pi_float = float(pi_string)\n",
        "print(pi_float)\n",
        "print(pi_string)\n"
      ],
      "metadata": {
        "colab": {
          "base_uri": "https://localhost:8080/"
        },
        "id": "ms4CkehC4sLa",
        "outputId": "6570805b-13c5-4159-9178-ce6021379b90"
      },
      "execution_count": null,
      "outputs": [
        {
          "output_type": "stream",
          "name": "stdout",
          "text": [
            "3.1415926\n",
            "3.1415926\n"
          ]
        }
      ]
    },
    {
      "cell_type": "markdown",
      "source": [
        "Questão 8/9"
      ],
      "metadata": {
        "id": "_sJKlrkb6oig"
      }
    },
    {
      "cell_type": "code",
      "source": [
        "savings=100\n",
        "result=100*(1.10**7)\n",
        "print('Comecei com $' + str(savings) + ' e agora tenho $' + str(result) + '. Incrível!')"
      ],
      "metadata": {
        "colab": {
          "base_uri": "https://localhost:8080/"
        },
        "id": "eXFdafQp6qY5",
        "outputId": "78a72d9a-5d7a-4d39-a49d-bafc7cafdeb4"
      },
      "execution_count": null,
      "outputs": [
        {
          "output_type": "stream",
          "name": "stdout",
          "text": [
            "Comecei com $100 e agora tenho $194.87171000000012. Incrível!\n"
          ]
        }
      ]
    },
    {
      "cell_type": "markdown",
      "source": [
        "Questão 10\n",
        "item-C"
      ],
      "metadata": {
        "id": "S6nnpuje8SPU"
      }
    },
    {
      "cell_type": "code",
      "source": [
        "print(\"The correct answer to this mutiple choice exercise is answer number\"+2)"
      ],
      "metadata": {
        "colab": {
          "base_uri": "https://localhost:8080/",
          "height": 141
        },
        "id": "7uIhWmkz8T8p",
        "outputId": "7a434a59-5d50-420d-e715-b8134b3d1a83"
      },
      "execution_count": null,
      "outputs": [
        {
          "output_type": "error",
          "ename": "TypeError",
          "evalue": "can only concatenate str (not \"int\") to str",
          "traceback": [
            "\u001b[0;31m---------------------------------------------------------------------------\u001b[0m",
            "\u001b[0;31mTypeError\u001b[0m                                 Traceback (most recent call last)",
            "\u001b[0;32m<ipython-input-18-5eefe62bff21>\u001b[0m in \u001b[0;36m<cell line: 0>\u001b[0;34m()\u001b[0m\n\u001b[0;32m----> 1\u001b[0;31m \u001b[0mprint\u001b[0m\u001b[0;34m(\u001b[0m\u001b[0;34m\"The correct answer to this mutiple choice exercise is answer number\"\u001b[0m\u001b[0;34m+\u001b[0m\u001b[0;36m2\u001b[0m\u001b[0;34m)\u001b[0m\u001b[0;34m\u001b[0m\u001b[0;34m\u001b[0m\u001b[0m\n\u001b[0m",
            "\u001b[0;31mTypeError\u001b[0m: can only concatenate str (not \"int\") to str"
          ]
        }
      ]
    }
  ]
}