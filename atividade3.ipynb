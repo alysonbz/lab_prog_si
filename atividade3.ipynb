{
  "nbformat": 4,
  "nbformat_minor": 0,
  "metadata": {
    "colab": {
      "provenance": [],
      "authorship_tag": "ABX9TyMCWKf4z2XBVmgScsGjfGIq",
      "include_colab_link": true
    },
    "kernelspec": {
      "name": "python3",
      "display_name": "Python 3"
    },
    "language_info": {
      "name": "python"
    }
  },
  "cells": [
    {
      "cell_type": "markdown",
      "metadata": {
        "id": "view-in-github",
        "colab_type": "text"
      },
      "source": [
        "<a href=\"https://colab.research.google.com/github/alysonbz/lab_prog_si/blob/gabriel_coelho/atividade3.ipynb\" target=\"_parent\"><img src=\"https://colab.research.google.com/assets/colab-badge.svg\" alt=\"Open In Colab\"/></a>"
      ]
    },
    {
      "cell_type": "markdown",
      "source": [
        "#ATIVIDADE DE CLASSE/CASA"
      ],
      "metadata": {
        "id": "5yGnx7h-9j4D"
      }
    },
    {
      "cell_type": "code",
      "source": [
        "#CREATE VARIABLES VAR1 AND VAR2\n",
        "var1 = [1,2,3,4,5]\n",
        "var2 = True\n",
        "\n",
        "#PRINT OUT TYPE OF VAR1\n",
        "print(type(var1))\n",
        "\n",
        "#PRINT OUT LENGTH OD VAR1\n",
        "print(len(var1))\n",
        "\n",
        "#CONVERT VAR2 TO AN INTENGER: OUT2\n",
        "out2 = int(var2)\n",
        "print(out2)"
      ],
      "metadata": {
        "colab": {
          "base_uri": "https://localhost:8080/"
        },
        "id": "-MZ-S0JIJTr-",
        "outputId": "269a7f0f-57f2-40bc-f9f3-829cdc8660e2"
      },
      "execution_count": null,
      "outputs": [
        {
          "output_type": "stream",
          "name": "stdout",
          "text": [
            "<class 'list'>\n",
            "5\n",
            "1\n"
          ]
        }
      ]
    },
    {
      "cell_type": "markdown",
      "source": [
        "4) Na linha 6 concatenar as listas first e second usando o operado + e armazene em uma nova lista chamada full. Print a lista full na linha 7.\n",
        "\n",
        "5)  Na linha 9 use a função sorted() para  ordenar os elementos da lista full e armazene a reposta da função em uma nova lista, full_sorted. A função sorted recebe 2 argumentos: full e outro padrão da função: reverse,  que indica o tipo ordenamento. Neste caso, faça reverse = True.\n",
        "\n",
        "6) Print a lista full_sorted"
      ],
      "metadata": {
        "id": "uTCu8ELnK4EG"
      }
    },
    {
      "cell_type": "code",
      "source": [
        "#CREATE LISTS FIRST AND SECOND\n",
        "first = [11.25, 18.0, 20.0]\n",
        "second = [10.75, 9.50]\n",
        "\n",
        "#PASTE TOGETHER FIRST AND SECOND: FULL\n",
        "full = first + second\n",
        "print(full)\n",
        "\n",
        "#SORT FULL IN DESCENDING ORDER: #FULL_SORTED\n",
        "full_sorted = sorted(full)\n",
        "sorted(full, reverse = True)\n",
        "\n",
        "#PRINT OUT FULL_SORTED\n",
        "print(full_sorted)"
      ],
      "metadata": {
        "colab": {
          "base_uri": "https://localhost:8080/"
        },
        "id": "TtB40CYaK3NZ",
        "outputId": "18936c1a-eb96-4879-9804-d43447bed974"
      },
      "execution_count": 32,
      "outputs": [
        {
          "output_type": "stream",
          "name": "stdout",
          "text": [
            "[11.25, 18.0, 20.0, 10.75, 9.5]\n",
            "[9.5, 10.75, 11.25, 18.0, 20.0]\n"
          ]
        }
      ]
    }
  ]
}