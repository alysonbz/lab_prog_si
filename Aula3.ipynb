{
  "nbformat": 4,
  "nbformat_minor": 0,
  "metadata": {
    "colab": {
      "provenance": [],
      "authorship_tag": "ABX9TyNMm87fPa9IfCk/g4OBqOGS"
    },
    "kernelspec": {
      "name": "python3",
      "display_name": "Python 3"
    },
    "language_info": {
      "name": "python"
    }
  },
  "cells": [
    {
      "cell_type": "code",
      "execution_count": null,
      "metadata": {
        "id": "sFYtwpKPwzp9"
      },
      "outputs": [],
      "source": [
        "hall = 11.25\n",
        "kit = 18.0\n",
        "liv = 20.0\n",
        "bed = 10.75\n",
        "bath = 9.50"
      ]
    },
    {
      "cell_type": "code",
      "source": [
        "house = [[\"hallway\", hall],\n",
        "         [\"kitchen\", kit],\n",
        "         [\"living room\", liv],\n",
        "         [\"bedroom\", bed],\n",
        "         [\"bathroom\", bath]]\n",
        "\n",
        "print(house)\n",
        "print(type(house))"
      ],
      "metadata": {
        "colab": {
          "base_uri": "https://localhost:8080/"
        },
        "id": "hprdB7i2xDxc",
        "outputId": "d6639202-ee37-4cb0-d3e2-a7563202ed68"
      },
      "execution_count": null,
      "outputs": [
        {
          "output_type": "stream",
          "name": "stdout",
          "text": [
            "[['hallway', 11.25], ['kitchen', 18.0], ['living room', 20.0], ['bedroom', 10.75], ['bathroom', 9.5]]\n",
            "<class 'list'>\n"
          ]
        }
      ]
    },
    {
      "cell_type": "code",
      "source": [
        "fam = [\"humano\", 1.75, \"orc\", 2.05, \"anão\", 1.40, \"elfo\", 1.80, \"gnomo\", 1.20]\n",
        "fam[0]"
      ],
      "metadata": {
        "colab": {
          "base_uri": "https://localhost:8080/",
          "height": 35
        },
        "id": "Yjh3yL-Yyifp",
        "outputId": "69c3d044-f1d7-49ea-8566-225f170f3878"
      },
      "execution_count": null,
      "outputs": [
        {
          "output_type": "execute_result",
          "data": {
            "text/plain": [
              "'humano'"
            ],
            "application/vnd.google.colaboratory.intrinsic+json": {
              "type": "string"
            }
          },
          "metadata": {},
          "execution_count": 33
        }
      ]
    },
    {
      "cell_type": "code",
      "source": [
        "print(\"O tamanho dallista é:\", len(fam))"
      ],
      "metadata": {
        "colab": {
          "base_uri": "https://localhost:8080/"
        },
        "id": "ua8-TGDgz3mA",
        "outputId": "fb9bb501-a425-4bf3-8b17-ff2175ec9376"
      },
      "execution_count": null,
      "outputs": [
        {
          "output_type": "stream",
          "name": "stdout",
          "text": [
            "O tamanho dallista é: 10\n"
          ]
        }
      ]
    },
    {
      "cell_type": "markdown",
      "source": [
        "Acessando o terceiro elemento da lista\n"
      ],
      "metadata": {
        "id": "AwnFltCO0Dr_"
      }
    },
    {
      "cell_type": "code",
      "source": [
        "t = fam[2]\n",
        "t"
      ],
      "metadata": {
        "colab": {
          "base_uri": "https://localhost:8080/",
          "height": 35
        },
        "id": "10PjQQNT0G4X",
        "outputId": "f9226183-f5e4-4488-d8ce-68260717ee5c"
      },
      "execution_count": null,
      "outputs": [
        {
          "output_type": "execute_result",
          "data": {
            "text/plain": [
              "'orc'"
            ],
            "application/vnd.google.colaboratory.intrinsic+json": {
              "type": "string"
            }
          },
          "metadata": {},
          "execution_count": 37
        }
      ]
    },
    {
      "cell_type": "code",
      "source": [
        "fam[-8]"
      ],
      "metadata": {
        "colab": {
          "base_uri": "https://localhost:8080/",
          "height": 35
        },
        "id": "uc_iLTLy0PiH",
        "outputId": "da83fb2a-778a-49ee-b81d-59949ebf1912"
      },
      "execution_count": null,
      "outputs": [
        {
          "output_type": "execute_result",
          "data": {
            "text/plain": [
              "'orc'"
            ],
            "application/vnd.google.colaboratory.intrinsic+json": {
              "type": "string"
            }
          },
          "metadata": {},
          "execution_count": 39
        }
      ]
    },
    {
      "cell_type": "markdown",
      "source": [
        "Fazendo um SLICE na lista"
      ],
      "metadata": {
        "id": "w-TkUUu00vAG"
      }
    },
    {
      "cell_type": "code",
      "source": [
        "fam[:6]"
      ],
      "metadata": {
        "colab": {
          "base_uri": "https://localhost:8080/"
        },
        "id": "GIJe7OiH0xhm",
        "outputId": "a14762b0-5998-459e-8ff4-9b484cde8e59"
      },
      "execution_count": null,
      "outputs": [
        {
          "output_type": "execute_result",
          "data": {
            "text/plain": [
              "['humano', 1.75, 'orc', 2.05, 'anão', 1.4]"
            ]
          },
          "metadata": {},
          "execution_count": 40
        }
      ]
    },
    {
      "cell_type": "code",
      "source": [
        "fam[2:6]"
      ],
      "metadata": {
        "colab": {
          "base_uri": "https://localhost:8080/"
        },
        "id": "jfru-VND08L-",
        "outputId": "a353966d-c573-4c1f-aa0a-634486b3476d"
      },
      "execution_count": null,
      "outputs": [
        {
          "output_type": "execute_result",
          "data": {
            "text/plain": [
              "['orc', 2.05, 'anão', 1.4]"
            ]
          },
          "metadata": {},
          "execution_count": 45
        }
      ]
    },
    {
      "cell_type": "markdown",
      "source": [
        "Pratique\n"
      ],
      "metadata": {
        "id": "B--iww8R1Nee"
      }
    },
    {
      "cell_type": "code",
      "source": [
        "# Criação de uma lista de áreas\n",
        "areas = [\"hallway\", 11.25, \"kitchen\", 18.0, \"living room\", 20.0, \"bedroom\", 10.75, \"bathroom\", 9.50]\n",
        "\n",
        "# Print do segundo elemento da lista\n",
        "print(areas[1])\n",
        "\n",
        "# Print do ultimo elemento da lista usando index negativo\n",
        "print(areas[-1])\n",
        "\n",
        "# Print do elemento que indica o valor da área de Living Room\n",
        "print(areas[5])"
      ],
      "metadata": {
        "colab": {
          "base_uri": "https://localhost:8080/"
        },
        "id": "1-sFYRGB1PI3",
        "outputId": "734e7e8f-17a6-45fd-e141-a46873304a8c"
      },
      "execution_count": null,
      "outputs": [
        {
          "output_type": "stream",
          "name": "stdout",
          "text": [
            "11.25\n",
            "9.5\n",
            "20.0\n"
          ]
        }
      ]
    },
    {
      "cell_type": "code",
      "source": [
        "# Criação de uma lista de áreas\n",
        "areas = [\"hallway\", 11.25, \"kitchen\", 18.0, \"livinng room\", 20.0, \"bedroom\", 10.75, \"bathroom\", 9.50]\n",
        "\n",
        "# Soma dos valores de Kitchen e Living Room sendo atribuida em uma varíavel\n",
        "eat_sleep_area = areas[3] + areas[5]\n",
        "\n",
        "# Print da varíavel\n",
        "print(eat_sleep_area)"
      ],
      "metadata": {
        "colab": {
          "base_uri": "https://localhost:8080/"
        },
        "id": "vfR2fK6121Sl",
        "outputId": "e3732c17-eb7a-4f41-d972-5dad8c9a1ccb"
      },
      "execution_count": null,
      "outputs": [
        {
          "output_type": "stream",
          "name": "stdout",
          "text": [
            "38.0\n"
          ]
        }
      ]
    },
    {
      "cell_type": "code",
      "source": [
        "# Criação de uma lista de áreas\n",
        "areas = [\"hallway\", 11.25, \"kitchen\", 18.0, \"living room\", 20.0, \"bedroom\", 10.75, \"bathroom\", 9.50]\n",
        "\n",
        "# Slicing para criar uma lista de downstairs e upstairs\n",
        "downstairs = areas[:6]\n",
        "upstairs = areas[6:10]\n",
        "\n",
        "# Print das duas novas listas\n",
        "print(downstairs)\n",
        "print(upstairs)"
      ],
      "metadata": {
        "colab": {
          "base_uri": "https://localhost:8080/"
        },
        "id": "pHaimIpt51kT",
        "outputId": "167582ae-26e0-4ef5-d8fe-c47cea0e0ebf"
      },
      "execution_count": 2,
      "outputs": [
        {
          "output_type": "stream",
          "name": "stdout",
          "text": [
            "['hallway', 11.25, 'kitchen', 18.0, 'living room', 20.0]\n",
            "['bedroom', 10.75, 'bathroom', 9.5]\n"
          ]
        }
      ]
    },
    {
      "cell_type": "code",
      "source": [
        "# Criação de uma lista de áreas\n",
        "areas = [\"hallway\", 11.25, \"kitchen\", 18.0, \"chill zone\", 20.0, \"bedroom\", 10.75, \"bathroom\", 10.50]\n",
        "\n",
        "# Adicione \"poolhouse\" e o valor de sua área a lista e armazene em uma nova variável de lista\n",
        "areas1 = areas + [\"poolhouse\", 24.5]\n",
        "\n",
        "# Adicione \"garage\" e o valor de sua área a lista e armazene em uma nova variável de lista e faça o print da nova lista\n",
        "areas2 = areas1 + [\"garage\", 15.5]\n",
        "print(areas2)"
      ],
      "metadata": {
        "colab": {
          "base_uri": "https://localhost:8080/"
        },
        "id": "RFzDObUb7Wfp",
        "outputId": "8f41b772-972d-4a43-dacc-8f465c4b7d76"
      },
      "execution_count": 12,
      "outputs": [
        {
          "output_type": "stream",
          "name": "stdout",
          "text": [
            "['hallway', 11.25, 'kitchen', 18.0, 'chill zone', 20.0, 'bedroom', 10.75, 'bathroom', 10.5, 'poolhouse', 24.5, 'garage', 15.5]\n"
          ]
        }
      ]
    },
    {
      "cell_type": "code",
      "source": [
        "# Criação de uma lista de áreas\n",
        "areas = [11.25, 18.0, 20.0, 10.75, 9.50]\n",
        "\n",
        "# Criação de uma areas_copy\n",
        "areas_copy = list(areas)\n",
        "\n",
        "# Mudança em areas_copy\n",
        "areas_copy[0] = 5.0\n",
        "\n",
        "# Print de areas e areas_copy\n",
        "print(areas)\n",
        "print(areas_copy)"
      ],
      "metadata": {
        "colab": {
          "base_uri": "https://localhost:8080/"
        },
        "id": "q_9zrTY29swf",
        "outputId": "8173b888-e221-44be-c54c-a2755175763f"
      },
      "execution_count": 18,
      "outputs": [
        {
          "output_type": "stream",
          "name": "stdout",
          "text": [
            "[11.25, 18.0, 20.0, 10.75, 9.5]\n",
            "[5.0, 18.0, 20.0, 10.75, 9.5]\n"
          ]
        }
      ]
    },
    {
      "cell_type": "code",
      "source": [
        "# Atividade: Faça lista da lista da sua família, EX: [[fulano, altura], [sicrano, altura]]\n",
        "fml = [[\"Walter White\", 1.70], [\"Skyler White\", 1.60], [\"Walter Jr.\", 1.75], [\"Hank Schrader\", 1.80], [\"Marie Schrader\", 1.65]]"
      ],
      "metadata": {
        "id": "DuY_IqNl7JAJ"
      },
      "execution_count": null,
      "outputs": []
    },
    {
      "cell_type": "code",
      "source": [
        "# Acesse o terceiro elemento da lista\n",
        "fml[2][0]"
      ],
      "metadata": {
        "colab": {
          "base_uri": "https://localhost:8080/",
          "height": 35
        },
        "id": "yauksiTf8HUA",
        "outputId": "28bf4164-299a-4ddc-9259-31252635ba3f"
      },
      "execution_count": null,
      "outputs": [
        {
          "output_type": "execute_result",
          "data": {
            "text/plain": [
              "'Walter Jr.'"
            ],
            "application/vnd.google.colaboratory.intrinsic+json": {
              "type": "string"
            }
          },
          "metadata": {},
          "execution_count": 69
        }
      ]
    },
    {
      "cell_type": "code",
      "source": [
        "# Acessar a altura do segundo elemento da lista\n",
        "fml[1][1]"
      ],
      "metadata": {
        "colab": {
          "base_uri": "https://localhost:8080/"
        },
        "id": "BoMP5xqK9PZg",
        "outputId": "fad8b2b9-7237-431d-ae44-f20ef5e0d54d"
      },
      "execution_count": null,
      "outputs": [
        {
          "output_type": "execute_result",
          "data": {
            "text/plain": [
              "1.6"
            ]
          },
          "metadata": {},
          "execution_count": 70
        }
      ]
    },
    {
      "cell_type": "code",
      "source": [
        "house[-1][1]"
      ],
      "metadata": {
        "colab": {
          "base_uri": "https://localhost:8080/"
        },
        "id": "KOKumguK-rd_",
        "outputId": "a93b5785-480c-484b-e338-883bd07f0190"
      },
      "execution_count": null,
      "outputs": [
        {
          "output_type": "execute_result",
          "data": {
            "text/plain": [
              "9.5"
            ]
          },
          "metadata": {},
          "execution_count": 78
        }
      ]
    }
  ]
}