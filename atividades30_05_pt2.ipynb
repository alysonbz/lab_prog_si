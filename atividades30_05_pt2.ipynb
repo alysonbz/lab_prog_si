{
  "nbformat": 4,
  "nbformat_minor": 0,
  "metadata": {
    "colab": {
      "provenance": [],
      "authorship_tag": "ABX9TyNcShfT+d9Cj7IbgwYf9yBi",
      "include_colab_link": true
    },
    "kernelspec": {
      "name": "python3",
      "display_name": "Python 3"
    },
    "language_info": {
      "name": "python"
    }
  },
  "cells": [
    {
      "cell_type": "markdown",
      "metadata": {
        "id": "view-in-github",
        "colab_type": "text"
      },
      "source": [
        "<a href=\"https://colab.research.google.com/github/alysonbz/lab_prog_si/blob/kauan_lima/atividades30_05_pt2.ipynb\" target=\"_parent\"><img src=\"https://colab.research.google.com/assets/colab-badge.svg\" alt=\"Open In Colab\"/></a>"
      ]
    },
    {
      "cell_type": "markdown",
      "source": [
        "Pratique"
      ],
      "metadata": {
        "id": "aConHoFLxV-e"
      }
    },
    {
      "cell_type": "code",
      "execution_count": 1,
      "metadata": {
        "colab": {
          "base_uri": "https://localhost:8080/"
        },
        "id": "aIFfxVxuxKXs",
        "outputId": "cb207dde-1b23-4061-c17b-a625bd7bade3"
      },
      "outputs": [
        {
          "output_type": "execute_result",
          "data": {
            "text/plain": [
              "range(150, 210)"
            ]
          },
          "metadata": {},
          "execution_count": 1
        }
      ],
      "source": [
        "import random as rd\n",
        "import numpy as np\n",
        "\n",
        "height = range(150,210)\n",
        "height"
      ]
    },
    {
      "cell_type": "code",
      "source": [
        "weight = range(50,100)\n",
        "weight"
      ],
      "metadata": {
        "colab": {
          "base_uri": "https://localhost:8080/"
        },
        "id": "5OfRLQHbxjRV",
        "outputId": "ddcd00d0-9800-401c-a7ac-71605f214014"
      },
      "execution_count": 2,
      "outputs": [
        {
          "output_type": "execute_result",
          "data": {
            "text/plain": [
              "range(50, 100)"
            ]
          },
          "metadata": {},
          "execution_count": 2
        }
      ]
    },
    {
      "cell_type": "code",
      "source": [
        "height = rd.sample(height,20)\n",
        "height"
      ],
      "metadata": {
        "colab": {
          "base_uri": "https://localhost:8080/"
        },
        "id": "w-re7izyxnzg",
        "outputId": "6551a743-bb8d-4235-f5a9-5bff4c48d518"
      },
      "execution_count": 3,
      "outputs": [
        {
          "output_type": "execute_result",
          "data": {
            "text/plain": [
              "[160,\n",
              " 156,\n",
              " 169,\n",
              " 206,\n",
              " 189,\n",
              " 207,\n",
              " 174,\n",
              " 192,\n",
              " 208,\n",
              " 165,\n",
              " 186,\n",
              " 163,\n",
              " 193,\n",
              " 209,\n",
              " 171,\n",
              " 196,\n",
              " 200,\n",
              " 183,\n",
              " 199,\n",
              " 204]"
            ]
          },
          "metadata": {},
          "execution_count": 3
        }
      ]
    },
    {
      "cell_type": "code",
      "source": [
        "weight = rd.sample(weight,20)\n",
        "weight"
      ],
      "metadata": {
        "colab": {
          "base_uri": "https://localhost:8080/"
        },
        "id": "5yruJpvJxs1U",
        "outputId": "1a2ffdf4-1333-48c9-a7a2-352b51bcd309"
      },
      "execution_count": 4,
      "outputs": [
        {
          "output_type": "execute_result",
          "data": {
            "text/plain": [
              "[50,\n",
              " 73,\n",
              " 85,\n",
              " 60,\n",
              " 75,\n",
              " 72,\n",
              " 94,\n",
              " 61,\n",
              " 89,\n",
              " 93,\n",
              " 86,\n",
              " 76,\n",
              " 97,\n",
              " 82,\n",
              " 69,\n",
              " 65,\n",
              " 78,\n",
              " 83,\n",
              " 77,\n",
              " 70]"
            ]
          },
          "metadata": {},
          "execution_count": 4
        }
      ]
    },
    {
      "cell_type": "code",
      "source": [
        "height_array = np.array(height)*0.01\n",
        "height_array"
      ],
      "metadata": {
        "colab": {
          "base_uri": "https://localhost:8080/"
        },
        "id": "D67fyczbx5MF",
        "outputId": "5eced4ca-da1e-409a-ca6d-b710fb62522c"
      },
      "execution_count": 5,
      "outputs": [
        {
          "output_type": "execute_result",
          "data": {
            "text/plain": [
              "array([1.6 , 1.56, 1.69, 2.06, 1.89, 2.07, 1.74, 1.92, 2.08, 1.65, 1.86,\n",
              "       1.63, 1.93, 2.09, 1.71, 1.96, 2.  , 1.83, 1.99, 2.04])"
            ]
          },
          "metadata": {},
          "execution_count": 5
        }
      ]
    },
    {
      "cell_type": "code",
      "source": [
        "weight_array = np.array(weight)*0.01\n",
        "weight_array"
      ],
      "metadata": {
        "colab": {
          "base_uri": "https://localhost:8080/"
        },
        "id": "HryafBznx6h7",
        "outputId": "68246ac4-2b56-4286-a858-8f70484532e1"
      },
      "execution_count": 6,
      "outputs": [
        {
          "output_type": "execute_result",
          "data": {
            "text/plain": [
              "array([0.5 , 0.73, 0.85, 0.6 , 0.75, 0.72, 0.94, 0.61, 0.89, 0.93, 0.86,\n",
              "       0.76, 0.97, 0.82, 0.69, 0.65, 0.78, 0.83, 0.77, 0.7 ])"
            ]
          },
          "metadata": {},
          "execution_count": 6
        }
      ]
    },
    {
      "cell_type": "code",
      "source": [
        "#calculo bmi\n",
        "import random as rd\n",
        "import numpy as np\n",
        "\n",
        "height = (1.73, 1.68, 1.71, 1.89, 1.79)\n",
        "weight = (65.4, 59.2, 63.6, 88.4, 68.7)\n",
        "\n",
        "np_height = np.array(height)\n",
        "np_weight = np.array(weight)\n",
        "\n",
        "bmi = np_weight / (np_height**2)\n",
        "bmi"
      ],
      "metadata": {
        "colab": {
          "base_uri": "https://localhost:8080/"
        },
        "id": "uJT5ZjwCyN0n",
        "outputId": "34a0891d-4019-48ac-f7d8-152673353c4d"
      },
      "execution_count": 7,
      "outputs": [
        {
          "output_type": "execute_result",
          "data": {
            "text/plain": [
              "array([21.85171573, 20.97505669, 21.75028214, 24.7473475 , 21.44127836])"
            ]
          },
          "metadata": {},
          "execution_count": 7
        }
      ]
    },
    {
      "cell_type": "code",
      "source": [
        "import numpy as np\n",
        "\n",
        "height = [1.73, 1.68, 1.71, 1.89, 1.79]\n",
        "weight = [65.4, 59.2, 63.6, 88.4, 68.7]\n",
        "\n",
        "\n",
        "np_height = np.array(height)\n",
        "np_weight = np.array(weight)\n",
        "\n",
        "# Calculando BMI\n",
        "bmi = np_weight / (np_height ** 2)\n",
        "\n",
        "# Verificando quais valores são menores que 21\n",
        "light = bmi < 21\n",
        "light\n",
        "# Mostrando resultado\n",
        "for i in range(len(bmi)):\n",
        "     print(f\"Pessoa {i+1}: BMI = {bmi[i]:.2f} {light[i]}\")"
      ],
      "metadata": {
        "colab": {
          "base_uri": "https://localhost:8080/"
        },
        "id": "J_Xd6QPfyRiR",
        "outputId": "3a275c5f-858a-4e99-f971-f2f79fac6404"
      },
      "execution_count": 11,
      "outputs": [
        {
          "output_type": "stream",
          "name": "stdout",
          "text": [
            "Pessoa 1: BMI = 21.85 False\n",
            "Pessoa 2: BMI = 20.98 True\n",
            "Pessoa 3: BMI = 21.75 False\n",
            "Pessoa 4: BMI = 24.75 False\n",
            "Pessoa 5: BMI = 21.44 False\n"
          ]
        }
      ]
    },
    {
      "cell_type": "code",
      "source": [
        "import random as rd\n",
        "import numpy as np\n",
        "\n",
        "height = (1.73, 1.68, 1.71, 1.89, 1.79)\n",
        "weight = (65.4, 59.2, 63.6, 88.4, 68.7)\n",
        "\n",
        "np_height = np.array(height)\n",
        "np_weight = np.array(weight)\n",
        "\n",
        "print(np_height[8:15])\n",
        "print(np_weight[11:19])"
      ],
      "metadata": {
        "colab": {
          "base_uri": "https://localhost:8080/"
        },
        "id": "GUaOnnw2y5Bn",
        "outputId": "83b8f6df-b4fd-45b8-e159-06e38224f510"
      },
      "execution_count": 12,
      "outputs": [
        {
          "output_type": "stream",
          "name": "stdout",
          "text": [
            "[]\n",
            "[]\n"
          ]
        }
      ]
    },
    {
      "cell_type": "code",
      "source": [
        "import numpy as np\n",
        "height = (1.73, 1.68, 1.71, 1.89, 1.79)\n",
        "weight = (65.4, 59.2, 63.6, 88.4, 68.7)\n",
        "\n",
        "weight_array = weight\n",
        "\n",
        "print(weight_array[8:16])\n",
        "\n",
        "height_array = height\n",
        "print(height_array[11:19])"
      ],
      "metadata": {
        "colab": {
          "base_uri": "https://localhost:8080/"
        },
        "id": "WISD0dcty9S1",
        "outputId": "6fb371eb-ad6b-405c-93fe-1193d395bddc"
      },
      "execution_count": 13,
      "outputs": [
        {
          "output_type": "stream",
          "name": "stdout",
          "text": [
            "()\n",
            "()\n"
          ]
        }
      ]
    }
  ]
}