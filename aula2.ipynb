{
  "nbformat": 4,
  "nbformat_minor": 0,
  "metadata": {
    "colab": {
      "provenance": [],
      "authorship_tag": "ABX9TyMyPrSY2IoJxB1mNh0mGQ27",
      "include_colab_link": true
    },
    "kernelspec": {
      "name": "python3",
      "display_name": "Python 3"
    },
    "language_info": {
      "name": "python"
    }
  },
  "cells": [
    {
      "cell_type": "markdown",
      "metadata": {
        "id": "view-in-github",
        "colab_type": "text"
      },
      "source": [
        "<a href=\"https://colab.research.google.com/github/alysonbz/lab_prog_si/blob/antonio_erick/aula2.ipynb\" target=\"_parent\"><img src=\"https://colab.research.google.com/assets/colab-badge.svg\" alt=\"Open In Colab\"/></a>"
      ]
    },
    {
      "cell_type": "code",
      "execution_count": 5,
      "metadata": {
        "colab": {
          "base_uri": "https://localhost:8080/"
        },
        "id": "98ayKwyV6W5y",
        "outputId": "b940b95f-6dd3-43a5-8e37-3f0250781625"
      },
      "outputs": [
        {
          "output_type": "stream",
          "name": "stdout",
          "text": [
            "['antonio']\n",
            "[['antonio', 9], ['kauan', 9], ['joao vitor', 9], ['gustavo', 9]]\n"
          ]
        }
      ],
      "source": [
        "fam=[]\n",
        "type(fam)\n",
        "fam.append('antonio')\n",
        "print(fam)\n",
        "alunos_com_notas=[['antonio',9],['kauan',9],['joao vitor',9],['gustavo',9]]\n",
        "print(alunos_com_notas)"
      ]
    }
  ]
}