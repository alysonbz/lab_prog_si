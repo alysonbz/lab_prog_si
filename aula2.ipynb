{
  "nbformat": 4,
  "nbformat_minor": 0,
  "metadata": {
    "colab": {
      "provenance": [],
      "authorship_tag": "ABX9TyPokImY2E4eR+0QNgUkUaWV",
      "include_colab_link": true
    },
    "kernelspec": {
      "name": "python3",
      "display_name": "Python 3"
    },
    "language_info": {
      "name": "python"
    }
  },
  "cells": [
    {
      "cell_type": "markdown",
      "metadata": {
        "id": "view-in-github",
        "colab_type": "text"
      },
      "source": [
        "<a href=\"https://colab.research.google.com/github/alysonbz/lab_prog_si/blob/gabriel_coelho/aula2.ipynb\" target=\"_parent\"><img src=\"https://colab.research.google.com/assets/colab-badge.svg\" alt=\"Open In Colab\"/></a>"
      ]
    },
    {
      "cell_type": "code",
      "source": [
        "#LISTA DE NÚMEROS\n",
        "\n",
        "[1.75, 1.68, 1.71, 1.89]\n",
        "fam=[1.75, 1.68, 1.71, 1.89]\n",
        "fam"
      ],
      "metadata": {
        "colab": {
          "base_uri": "https://localhost:8080/"
        },
        "id": "RXezKONNpreJ",
        "outputId": "6055cdac-e5cf-49f3-d438-de2360c1b728"
      },
      "execution_count": 5,
      "outputs": [
        {
          "output_type": "execute_result",
          "data": {
            "text/plain": [
              "[1.75, 1.68, 1.71, 1.89]"
            ]
          },
          "metadata": {},
          "execution_count": 5
        }
      ]
    },
    {
      "cell_type": "code",
      "source": [
        "#LISTA DE NOMES\n",
        "\n",
        "nomes=['Magnus', 'Alex', 'Samirah']\n",
        "nomes\n",
        "\n",
        "#ADICIONAR MAIS UM NOME NA LISTA\n",
        "\n",
        "nomes.append('Gabriel')\n",
        "nomes"
      ],
      "metadata": {
        "colab": {
          "base_uri": "https://localhost:8080/"
        },
        "id": "QRyi6IITqO-3",
        "outputId": "c665427a-b0af-454b-9744-1a742617a802"
      },
      "execution_count": 43,
      "outputs": [
        {
          "output_type": "execute_result",
          "data": {
            "text/plain": [
              "['Magnus', 'Alex', 'Samirah', 'Gabriel']"
            ]
          },
          "metadata": {},
          "execution_count": 43
        }
      ]
    },
    {
      "cell_type": "code",
      "source": [
        "#RELACIONAR NOMES E NOTAS\n",
        "\n",
        "nomes_com_notas=[['Magnus', 7], ['Alex', 8], ['Samirah', 9]]\n",
        "nomes_com_notas\n",
        "\n",
        "#ADIIONAR MAIS UM NOME E NOTA\n",
        "\n",
        "nomes_com_notas.append(('Gabriel, 10'))\n",
        "nomes_com_notas"
      ],
      "metadata": {
        "colab": {
          "base_uri": "https://localhost:8080/"
        },
        "id": "lkO-yIC6sqd5",
        "outputId": "73a49108-35d9-4353-ff28-fe5e63aa5397"
      },
      "execution_count": 41,
      "outputs": [
        {
          "output_type": "execute_result",
          "data": {
            "text/plain": [
              "[['Magnus', 7], ['Alex', 8], ['Samirah', 9], 'Gabriel, 10']"
            ]
          },
          "metadata": {},
          "execution_count": 41
        }
      ]
    }
  ]
}