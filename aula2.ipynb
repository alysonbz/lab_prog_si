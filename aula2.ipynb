{
  "nbformat": 4,
  "nbformat_minor": 0,
  "metadata": {
    "colab": {
      "provenance": [],
      "toc_visible": true,
      "authorship_tag": "ABX9TyNsr35WNBqE13+ZWkAG/mXE",
      "include_colab_link": true
    },
    "kernelspec": {
      "name": "python3",
      "display_name": "Python 3"
    },
    "language_info": {
      "name": "python"
    }
  },
  "cells": [
    {
      "cell_type": "markdown",
      "metadata": {
        "id": "view-in-github",
        "colab_type": "text"
      },
      "source": [
        "<a href=\"https://colab.research.google.com/github/alysonbz/lab_prog_si/blob/habacuquidoglas/aula2.ipynb\" target=\"_parent\"><img src=\"https://colab.research.google.com/assets/colab-badge.svg\" alt=\"Open In Colab\"/></a>"
      ]
    },
    {
      "cell_type": "markdown",
      "source": [
        "aula 02\n"
      ],
      "metadata": {
        "id": "cE1tES6S6Qd0"
      }
    },
    {
      "cell_type": "code",
      "execution_count": 1,
      "metadata": {
        "colab": {
          "base_uri": "https://localhost:8080/"
        },
        "id": "vAGXk0C8uUzR",
        "outputId": "6c7b3b4e-14b1-442f-dd20-4f16b3decb2c"
      },
      "outputs": [
        {
          "output_type": "execute_result",
          "data": {
            "text/plain": [
              "list"
            ]
          },
          "metadata": {},
          "execution_count": 1
        }
      ],
      "source": [
        "alunos =[]\n",
        "type(alunos)"
      ]
    },
    {
      "cell_type": "code",
      "source": [
        "alunos=['Habacuqui, Joao,kaua']\n",
        "alunos.append('Habacuqui')"
      ],
      "metadata": {
        "id": "J2uCd1Y47xHP"
      },
      "execution_count": 8,
      "outputs": []
    },
    {
      "cell_type": "code",
      "source": [
        "alunos"
      ],
      "metadata": {
        "colab": {
          "base_uri": "https://localhost:8080/"
        },
        "id": "EQLxMVSC7w7X",
        "outputId": "b17d845c-db51-48a0-f12a-b52d8fc40b57"
      },
      "execution_count": 9,
      "outputs": [
        {
          "output_type": "execute_result",
          "data": {
            "text/plain": [
              "['Habacuqui, Joao,kaua', 'Habacuqui']"
            ]
          },
          "metadata": {},
          "execution_count": 9
        }
      ]
    },
    {
      "cell_type": "code",
      "source": [
        "alunos_com_notas = [['habacuqui', 9.0], ['Joao', 8.0], ['ivan', 3.0]]\n",
        "alunos_com_notas"
      ],
      "metadata": {
        "colab": {
          "base_uri": "https://localhost:8080/"
        },
        "id": "NtDTDYq18zbn",
        "outputId": "4f5c3fad-6796-44b7-c107-ad0fa3981d0e"
      },
      "execution_count": 12,
      "outputs": [
        {
          "output_type": "execute_result",
          "data": {
            "text/plain": [
              "[['habacuqui', 9.0], ['Joao', 8.0], ['ivan', 3.0]]"
            ]
          },
          "metadata": {},
          "execution_count": 12
        }
      ]
    }
  ]
}