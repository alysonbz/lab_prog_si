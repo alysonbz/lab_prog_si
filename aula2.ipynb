{
  "nbformat": 4,
  "nbformat_minor": 0,
  "metadata": {
    "colab": {
      "provenance": [],
      "authorship_tag": "ABX9TyPqNsmnaX4Ey25s07iqaOf0",
      "include_colab_link": true
    },
    "kernelspec": {
      "name": "python3",
      "display_name": "Python 3"
    },
    "language_info": {
      "name": "python"
    }
  },
  "cells": [
    {
      "cell_type": "markdown",
      "metadata": {
        "id": "view-in-github",
        "colab_type": "text"
      },
      "source": [
        "<a href=\"https://colab.research.google.com/github/alysonbz/lab_prog_si/blob/gabriel_coelho/aula2.ipynb\" target=\"_parent\"><img src=\"https://colab.research.google.com/assets/colab-badge.svg\" alt=\"Open In Colab\"/></a>"
      ]
    },
    {
      "cell_type": "code",
      "source": [
        "#LISTA\n",
        "\n",
        "[1,75, 1,68, 1,71, 1, 89]\n",
        "fam=[1,75, 1,68, 1,71, 1, 89]\n",
        "fam"
      ],
      "metadata": {
        "colab": {
          "base_uri": "https://localhost:8080/"
        },
        "id": "LrszSiNJ6VS2",
        "outputId": "8f8642de-ba01-457c-ba73-748917eae766"
      },
      "execution_count": 9,
      "outputs": [
        {
          "output_type": "execute_result",
          "data": {
            "text/plain": [
              "[1, 75, 1, 68, 1, 71, 1, 89]"
            ]
          },
          "metadata": {},
          "execution_count": 9
        }
      ]
    },
    {
      "cell_type": "code",
      "source": [
        "\n",
        "alunos=['marcelo', 'nicolas']\n",
        "type(alunos)\n",
        "\n",
        "alunos.append('gabriel')\n",
        "alunos"
      ],
      "metadata": {
        "colab": {
          "base_uri": "https://localhost:8080/"
        },
        "id": "rQfZJHFn69m4",
        "outputId": "d0953e4d-6393-4327-cefd-e42da8e14175"
      },
      "execution_count": 28,
      "outputs": [
        {
          "output_type": "execute_result",
          "data": {
            "text/plain": [
              "['marcelo', 'nicolas', 'gabriel']"
            ]
          },
          "metadata": {},
          "execution_count": 28
        }
      ]
    },
    {
      "cell_type": "code",
      "source": [
        "alunos_com_notas=[['marcelo',1], ['nicolas',2]]\n",
        "alunos_com_notas\n",
        "\n",
        "alunos_com_notas.append(['gabriel',10])\n",
        "alunos_com_notas"
      ],
      "metadata": {
        "colab": {
          "base_uri": "https://localhost:8080/"
        },
        "id": "XTGVBlHS7V2C",
        "outputId": "47345ac4-4436-4e3d-e8f1-ab6ce681d720"
      },
      "execution_count": 26,
      "outputs": [
        {
          "output_type": "execute_result",
          "data": {
            "text/plain": [
              "[['marcelo', 1], ['nicolas', 2], ['gabriel', 10]]"
            ]
          },
          "metadata": {},
          "execution_count": 26
        }
      ]
    }
  ]
}