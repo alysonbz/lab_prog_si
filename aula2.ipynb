{
  "nbformat": 4,
  "nbformat_minor": 0,
  "metadata": {
    "colab": {
      "provenance": [],
      "authorship_tag": "ABX9TyNRL8fVwshk5JUbeR9E+8BU",
      "include_colab_link": true
    },
    "kernelspec": {
      "name": "python3",
      "display_name": "Python 3"
    },
    "language_info": {
      "name": "python"
    }
  },
  "cells": [
    {
      "cell_type": "markdown",
      "metadata": {
        "id": "view-in-github",
        "colab_type": "text"
      },
      "source": [
        "<a href=\"https://colab.research.google.com/github/alysonbz/lab_prog_si/blob/Emanuel_Oliveira/aula2.ipynb\" target=\"_parent\"><img src=\"https://colab.research.google.com/assets/colab-badge.svg\" alt=\"Open In Colab\"/></a>"
      ]
    },
    {
      "cell_type": "markdown",
      "source": [
        "Suponha que deseja ser conhecido um conjunto de alturas, qual a forma mais conveniente ?"
      ],
      "metadata": {
        "id": "dBetBqU-xVeU"
      }
    },
    {
      "cell_type": "code",
      "execution_count": null,
      "metadata": {
        "colab": {
          "base_uri": "https://localhost:8080/"
        },
        "id": "g5tytH62w919",
        "outputId": "ec01bffd-3bdd-4e00-f908-1d8824ee8df3"
      },
      "outputs": [
        {
          "output_type": "stream",
          "name": "stdout",
          "text": [
            "[1.81, 1.6, 3.5] <class 'list'>\n"
          ]
        }
      ],
      "source": [
        "altura1 = 1.81\n",
        "altura2 = 1.60\n",
        "altura3 = 3.50\n",
        "a = [altura1, altura2, altura3]\n",
        "print(f\"{a}\", type(a))"
      ]
    },
    {
      "cell_type": "markdown",
      "source": [
        "Pratique"
      ],
      "metadata": {
        "id": "ICGGKbFZzMAD"
      }
    },
    {
      "cell_type": "code",
      "source": [
        "# variáveis ​​de área (em metros quadrados)\n",
        "corredor = 11.25\n",
        "kit = 18.0\n",
        "vida = 20.0\n",
        "cama = 10.75\n",
        "banho = 9.50\n",
        "# Cria áreas de lista\n",
        "a = [corredor, kit, vida, cama, banho]\n",
        "# Áreas de impressão\n",
        "print(a)"
      ],
      "metadata": {
        "colab": {
          "base_uri": "https://localhost:8080/"
        },
        "id": "JwXmTyswzNGJ",
        "outputId": "83f85c8c-34c0-4a8a-eaeb-b128e324fef1"
      },
      "execution_count": null,
      "outputs": [
        {
          "output_type": "stream",
          "name": "stdout",
          "text": [
            "[11.25, 18.0, 20.0, 10.75, 9.5]\n"
          ]
        }
      ]
    },
    {
      "cell_type": "markdown",
      "source": [
        "1) Complete o código. Observe que a variável bath (float) é precedida por uma string “bathroom”. O mesmo acontece com liv. Complete atribuindo as strings \"hallway\", \"kitchen\" e \"bedroom\" na lista nos locais apropriados.\n",
        "\n",
        "1.1 ) Print a areas na linha 11."
      ],
      "metadata": {
        "id": "rhLRxjge1ZsC"
      }
    },
    {
      "cell_type": "code",
      "source": [
        "# variáveis ​​de área (em metros quadrados)\n",
        "corredor = 11.25\n",
        "kit = 18.0\n",
        "vida = 20.0\n",
        "cama = 10.75\n",
        "banho = 9.50\n",
        "# Adapte as áreas da lista\n",
        "a = [corredor, kit, \"sala de estar\", vida, cama, \"banheiro\", banho]\n",
        "# Áreas de impressão\n",
        "print(a)"
      ],
      "metadata": {
        "colab": {
          "base_uri": "https://localhost:8080/"
        },
        "id": "pKwC0-RK1dyq",
        "outputId": "8ca96fa6-48a5-4604-a572-1108f3c6f387"
      },
      "execution_count": null,
      "outputs": [
        {
          "output_type": "stream",
          "name": "stdout",
          "text": [
            "[11.25, 18.0, 'sala de estar', 20.0, 10.75, 'banheiro', 9.5]\n"
          ]
        }
      ]
    },
    {
      "cell_type": "markdown",
      "source": [
        "2) suponha que as seguintes listas foram criadas.\n",
        "\n",
        "A.[1,3,4,2] B.[1,2,3],[4,5,7] C.[1+2, \"a\" * 5, 3]\n",
        "\n",
        "Qual forma de criação de lista está correta ? Descreva o que contém nas listas definidas corretamente.\n"
      ],
      "metadata": {
        "id": "V1BN6JFD2sm5"
      }
    },
    {
      "cell_type": "code",
      "source": [
        "#valores\n",
        "a = 1\n",
        "b = 2\n",
        "c = 3\n",
        "d = 4\n",
        "e = 5\n",
        "f = 7\n",
        "#lista A\n",
        "listaA = [1,3,4,2]\n",
        "print(listaA)\n",
        "#lista B\n",
        "listaB = [1,2,3],[4,5,7]\n",
        "print(listaB)\n",
        "#lista C\n",
        "listaC = [1+2, \"a\" * 5, 3]\n",
        "print(listaC)\n",
        "#todas estão corretas!"
      ],
      "metadata": {
        "colab": {
          "base_uri": "https://localhost:8080/"
        },
        "id": "lY9XTjsA3QXz",
        "outputId": "e19cb615-48a8-4af4-d370-e4db8811ff3a"
      },
      "execution_count": null,
      "outputs": [
        {
          "output_type": "stream",
          "name": "stdout",
          "text": [
            "[1, 3, 4, 2]\n",
            "([1, 2, 3], [4, 5, 7])\n",
            "[3, 'aaaaa', 3]\n"
          ]
        }
      ]
    },
    {
      "cell_type": "markdown",
      "source": [
        "lista dentro de uma lista"
      ],
      "metadata": {
        "id": "PQAXWW7r74dR"
      }
    },
    {
      "cell_type": "code",
      "source": [
        "alunos_notas = [[\"Emanuel,10\"], [\"Clara,10\"], [\"Nonatinho,10\"]]\n",
        "print(alunos_notas)"
      ],
      "metadata": {
        "colab": {
          "base_uri": "https://localhost:8080/"
        },
        "id": "JT00QcTT77w5",
        "outputId": "114f360f-1bc5-4762-faf5-2f4e78a86eca"
      },
      "execution_count": null,
      "outputs": [
        {
          "output_type": "stream",
          "name": "stdout",
          "text": [
            "[['Emanuel,10'], ['Clara,10'], ['Nonatinho,10']]\n"
          ]
        }
      ]
    },
    {
      "cell_type": "markdown",
      "source": [
        "3) Complete a lista de listas com as informações de  bedroom e bathroom.\n",
        "\n",
        "3.1) Mostre a variável house.\n",
        "\n",
        "3.2) Print o tipo da variável house.\n"
      ],
      "metadata": {
        "id": "va5gljPrGwh6"
      }
    },
    {
      "cell_type": "code",
      "source": [
        "# variáveis ​​de área (em metros quadrados)\n",
        "corredor = 11.25\n",
        "kit = 18.0\n",
        "vida = 20.0\n",
        "cama = 10.75\n",
        "banho = 9.50\n",
        "# informações da casa como lista de listas\n",
        "casa = [[\"corredor\", corredor],\n",
        "        [\"cozinha\", kit],\n",
        "        [\"sala de estar\", vida]]\n",
        "# Imprimir casa\n",
        "print(casa)\n",
        "# Imprima o tipo de casa\n",
        "print(type(casa))\n",
        "#\n",
        "print(casa[-1][1])"
      ],
      "metadata": {
        "colab": {
          "base_uri": "https://localhost:8080/"
        },
        "id": "Q1jPW_a3GyHI",
        "outputId": "c0d4b92f-6075-4e2d-e786-d496cb18f532"
      },
      "execution_count": null,
      "outputs": [
        {
          "output_type": "stream",
          "name": "stdout",
          "text": [
            "[['corredor', 11.25], ['cozinha', 18.0], ['sala de estar', 20.0]]\n",
            "<class 'list'>\n",
            "20.0\n"
          ]
        }
      ]
    },
    {
      "cell_type": "markdown",
      "source": [
        "4) Exiba o segundo elemento da lista\n",
        "\n",
        "4.1) Exiba o último elemento da lista usando index negativo.\n",
        "\n",
        "4.2) Exiba o elemento que indica o valor da área de Livin room.\n"
      ],
      "metadata": {
        "id": "HK3PkX_xMSwH"
      }
    },
    {
      "cell_type": "code",
      "source": [
        "# Cria a lista de áreas\n",
        "áreas = [\"corredor\", 11.25, \"cozinha\", 18.0, \"sala de estar\", 20.0, \"quarto\", 10.75, \"banheiro\", 9.50]\n",
        "# Imprima o segundo elemento das áreas\n",
        "print(áreas[1])\n",
        "# Imprima o último elemento das áreas\n",
        "print(áreas[-1])\n",
        "# Imprima a área da sala de estar\n",
        "print(áreas[5])"
      ],
      "metadata": {
        "colab": {
          "base_uri": "https://localhost:8080/"
        },
        "id": "bpJnwk6jMSH-",
        "outputId": "a3c828f9-013a-4db4-cf49-9c23f05cf879"
      },
      "execution_count": null,
      "outputs": [
        {
          "output_type": "stream",
          "name": "stdout",
          "text": [
            "11.25\n",
            "9.5\n",
            "20.0\n"
          ]
        }
      ]
    },
    {
      "cell_type": "markdown",
      "source": [
        "5) Na linha 7, acessando os elementos da lista, realize a soma dos valores de Kitchen e living room e atribua em eat_sleep_area.\n",
        "\n",
        "5.1) Exiba a variável eat_sleep_area."
      ],
      "metadata": {
        "id": "l1RZjmqIfKZB"
      }
    },
    {
      "cell_type": "code",
      "source": [
        "# Cria a lista de áreas\n",
        "áreas = [\"corredor\", 11.25, \"cozinha\", 18.0, \"sala de estar\", 20.0, \"quarto\", 10.75, \"banheiro\", 9.50]\n",
        "# Soma da área da cozinha e do quarto: eat_sleep_area\n",
        "eat_sleep_area = (11.25 + 18)\n",
        "# Imprima a variável eat_sleep_area\n",
        "print(eat_sleep_area)"
      ],
      "metadata": {
        "colab": {
          "base_uri": "https://localhost:8080/"
        },
        "id": "p3XuUy1yfNRJ",
        "outputId": "414ccc2f-6c99-487b-c9df-f754e14ebef2"
      },
      "execution_count": null,
      "outputs": [
        {
          "output_type": "stream",
          "name": "stdout",
          "text": [
            "29.25\n"
          ]
        }
      ]
    },
    {
      "cell_type": "markdown",
      "source": [
        "6) Acesse os 6 primeiros elemento de areas e atribua a uma nova lista: downstairs.\n",
        "\n",
        "6.1) Acesse os 4 últimos elemento de areas e atribua a uma nova lista: upstairs.\n",
        "\n",
        "6.2) Exiba downstairs e upstairs.\n"
      ],
      "metadata": {
        "id": "OlWWh6aOlaYy"
      }
    },
    {
      "cell_type": "code",
      "source": [
        "# Cria a lista de áreas\n",
        "areas = [\"corredor\", 11.25, \"cozinha\", 18.0, \"sala de estar\", 20.0, \"quarto\", 10.75, \"banheiro\", 9.50]\n",
        "# Use o fatiamento para criar o andar de baixo\n",
        "andar_de_baixo = areas[:6]\n",
        "# Use o fatiamento para criar o andar de cima\n",
        "andar_de_cima = areas[-4:]\n",
        "# Imprima o andar de baixo e o de cima\n",
        "print(f\"andar_de_baixo: {andar_de_baixo}\")\n",
        "print(f\"andar_de_cima: {andar_de_cima}\")"
      ],
      "metadata": {
        "colab": {
          "base_uri": "https://localhost:8080/"
        },
        "id": "1XgmHf3GldcD",
        "outputId": "e7498df3-8c34-45b9-908f-05f933a89f6e"
      },
      "execution_count": null,
      "outputs": [
        {
          "output_type": "stream",
          "name": "stdout",
          "text": [
            "andar_de_baixo: ['corredor', 11.25, 'cozinha', 18.0, 'sala de estar', 20.0]\n",
            "andar_de_cima: ['quarto', 10.75, 'banheiro', 9.5]\n"
          ]
        }
      ]
    },
    {
      "cell_type": "markdown",
      "source": [
        "sabendo que a lista seguinte pode ser ter seus elementos acessados desta forma:\n",
        "\n",
        "x = [[\"a\", \"b\", \"c\"],\n",
        "\n",
        "    [\"d\", \"e\", \"f\"],\n",
        "\n",
        "    [\"g\", \"h\", \"i\"]]\n",
        "\n",
        "\n",
        "x[2] [0]\n",
        "\n",
        "x[2][:2]\n",
        "\n",
        "O que será retornado se você exibir casa[-1][1] da lista completa que você implementou na questão 3?\n",
        "\n",
        "a) Um flutuador: a área da cozinha\n",
        "\n",
        "b) Uma string: \"cozinha\"\n",
        "\n",
        "c) Um flutuador: a área do banheiro\n",
        "\n",
        "d) Uma string: \"banheiro\""
      ],
      "metadata": {
        "id": "LufnV7uIK64b"
      }
    },
    {
      "cell_type": "code",
      "source": [],
      "metadata": {
        "id": "W0Ak12p6K6aa"
      },
      "execution_count": null,
      "outputs": []
    },
    {
      "cell_type": "markdown",
      "source": [
        "7) Troque o valor de bathroom de 9.50 para 10.50.\n",
        "\n",
        "7.1) Substitua a string “Living room” por “chill zone”"
      ],
      "metadata": {
        "id": "-RTz4TsLlnsA"
      }
    },
    {
      "cell_type": "code",
      "source": [
        "# Create the areas list\n",
        "areas = [\"hallway\", 11.25,\"kitchen\", 18.0,\"living room\",20.0, \"bedroom\", 10.75,\"bathroom\", 9.50]\n",
        "# Correct the bathroom area\n",
        "areas [-1] = 10.50\n",
        "# Change \"living room\" to \"chill zone\"\n",
        "areas [4] = \"chill zone\"\n",
        "#printar\n",
        "print(areas)"
      ],
      "metadata": {
        "colab": {
          "base_uri": "https://localhost:8080/"
        },
        "id": "IMI9-8SDloOO",
        "outputId": "3ac69f5c-5053-4171-e102-ba43c0a4f0b8"
      },
      "execution_count": null,
      "outputs": [
        {
          "output_type": "stream",
          "name": "stdout",
          "text": [
            "['hallway', 11.25, 'kitchen', 18.0, 'chill zone', 20.0, 'bedroom', 10.75, 'bathroom', 10.5]\n"
          ]
        }
      ]
    },
    {
      "cell_type": "markdown",
      "source": [
        "8) Adicione [\"poolhouse\", 24.5] no fim da lista  e atribua em uma nova lista chamada de areas_1\n",
        "\n",
        "8.1) 8) Adicione [\"garage\", 15.5] no fim da lista areas_1  e atribua em uma nova lista chamada de areas_2\n",
        "\n",
        "8.2) Exiba areas_2\n"
      ],
      "metadata": {
        "id": "YIlnxGpaoIqv"
      }
    },
    {
      "cell_type": "code",
      "source": [
        "# Create the areas list and make some changes\n",
        "areas = [\"hallway\", 11.25, \"kitchen\", 18.0, \"chill zone\", 20.0,\"bedroom\", 10.75, \"bathroom\", 10.50]\n",
        "# Add poolhouse data to areas, new list is areas_1\n",
        "areas_1 = areas + [\"poolhouse\", 24.5]\n",
        "# Add garage data to areas_1, new list is areas_2\n",
        "areas_2 = areas_1 + [\"garage\", 15.5]\n",
        "#printar\n",
        "print(areas_2)"
      ],
      "metadata": {
        "id": "s8P5Lu89oJ-m",
        "colab": {
          "base_uri": "https://localhost:8080/"
        },
        "outputId": "e05af79c-f463-4132-e855-d6b2f7356115"
      },
      "execution_count": 12,
      "outputs": [
        {
          "output_type": "stream",
          "name": "stdout",
          "text": [
            "['hallway', 11.25, 'kitchen', 18.0, 'chill zone', 20.0, 'bedroom', 10.75, 'bathroom', 10.5, 'poolhouse', 24.5, 'garage', 15.5]\n"
          ]
        }
      ]
    },
    {
      "cell_type": "markdown",
      "source": [
        "9) Execute o código e observe que a modificação realizada em areas_copy afetou areas. Corrija esse código e exiba areas e areas_copy no fim do código.\n"
      ],
      "metadata": {
        "id": "fz2eyblafhpA"
      }
    },
    {
      "cell_type": "code",
      "source": [
        "# Create list areas\n",
        "areas = [11.25, 18.0, 20.0, 10.75, 9.50]\n",
        "# Create areas_copy\n",
        "areas_copy = areas\n",
        "#Change areas_copy\n",
        "areas_copy[0] = 5.0\n",
        "# Print areas\n",
        "print(areas)"
      ],
      "metadata": {
        "colab": {
          "base_uri": "https://localhost:8080/"
        },
        "id": "kKFjyKrzfrCy",
        "outputId": "8d7fa535-854d-4636-d2f3-79c0042da838"
      },
      "execution_count": 13,
      "outputs": [
        {
          "output_type": "stream",
          "name": "stdout",
          "text": [
            "[5.0, 18.0, 20.0, 10.75, 9.5]\n"
          ]
        }
      ]
    },
    {
      "cell_type": "code",
      "source": [
        "#CÓDIGO CORRIGIDO:\n",
        "# Create list areas\n",
        "areas = [11.25, 18.0, 20.0, 10.75, 9.50]\n",
        "# Create areas_copy\n",
        "areas_copy = areas\n",
        "#Change areas_copy\n",
        "areas_copy = areas + [5.0]\n",
        "# Print areas\n",
        "print(f\"{areas}, {areas_copy}\")"
      ],
      "metadata": {
        "colab": {
          "base_uri": "https://localhost:8080/"
        },
        "id": "e7GtoewAgCSy",
        "outputId": "35304f12-bfa5-469e-f41b-fa2c4b930a00"
      },
      "execution_count": 14,
      "outputs": [
        {
          "output_type": "stream",
          "name": "stdout",
          "text": [
            "[11.25, 18.0, 20.0, 10.75, 9.5], [11.25, 18.0, 20.0, 10.75, 9.5, 5.0]\n"
          ]
        }
      ]
    }
  ]
}