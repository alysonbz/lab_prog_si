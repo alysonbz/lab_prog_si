{
  "nbformat": 4,
  "nbformat_minor": 0,
  "metadata": {
    "colab": {
      "provenance": [],
      "authorship_tag": "ABX9TyOyznndCarCCNrBuhNPxEfK",
      "include_colab_link": true
    },
    "kernelspec": {
      "name": "python3",
      "display_name": "Python 3"
    },
    "language_info": {
      "name": "python"
    }
  },
  "cells": [
    {
      "cell_type": "markdown",
      "metadata": {
        "id": "view-in-github",
        "colab_type": "text"
      },
      "source": [
        "<a href=\"https://colab.research.google.com/github/alysonbz/lab_prog_si/blob/joao_victor/atv24_04.ipynb\" target=\"_parent\"><img src=\"https://colab.research.google.com/assets/colab-badge.svg\" alt=\"Open In Colab\"/></a>"
      ]
    },
    {
      "cell_type": "code",
      "source": [
        "#atv1-2\n",
        "\n",
        "#example\n",
        "print(7/8)\n",
        "#realizando soma\n",
        "print(7+8)"
      ],
      "metadata": {
        "id": "90jOHzoPzhT1"
      },
      "execution_count": null,
      "outputs": []
    },
    {
      "cell_type": "code",
      "execution_count": null,
      "metadata": {
        "id": "EDTBaRFoy6WJ"
      },
      "outputs": [],
      "source": [
        "#atv3-4\n",
        "x = 2\n",
        "y = 3\n",
        "soma = x+y\n",
        "sub = x-y\n",
        "print (soma)\n",
        "print (sub)"
      ]
    },
    {
      "cell_type": "code",
      "source": [
        "#atv2\n",
        "print(5**2)\n",
        "print(5*3)\n",
        "print(5%3)"
      ],
      "metadata": {
        "id": "vAGZqZsWzG9t"
      },
      "execution_count": null,
      "outputs": []
    },
    {
      "cell_type": "code",
      "source": [
        "#atv6\n",
        "cont = 100*1.10 **7\n",
        "print(cont)"
      ],
      "metadata": {
        "id": "SLKXewjczLDt"
      },
      "execution_count": null,
      "outputs": []
    },
    {
      "cell_type": "code",
      "source": [
        "#questao 7\n",
        "pi_string = \"3,1415926\"\n",
        "#conversão de str para float\n",
        "pi_float = float(pi_string.replace(',', '.'))\n",
        "\n",
        "#exibição do resultado\n",
        "print(pi_float)"
      ],
      "metadata": {
        "id": "p7aTT4LpzNwN"
      },
      "execution_count": null,
      "outputs": []
    },
    {
      "cell_type": "code",
      "source": [
        "#questa 8-9\n",
        "\n",
        "savings = 100\n",
        "result = 100 * 1.10 ** 7\n",
        "print(\"I started with $\" + str(savings) + \" and now have $\" + str(result) + \". Awesome!\")"
      ],
      "metadata": {
        "id": "sXDICbjqzQSt"
      },
      "execution_count": null,
      "outputs": []
    },
    {
      "cell_type": "code",
      "source": [
        "#questao 10\n",
        "#alternativa B é a incorreta\n",
        "print\"i said\" (\"Hey\"*2)+\"hey!\""
      ],
      "metadata": {
        "id": "jNlA7MG4zSiV"
      },
      "execution_count": null,
      "outputs": []
    }
  ]
}