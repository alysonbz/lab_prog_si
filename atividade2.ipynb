{
  "nbformat": 4,
  "nbformat_minor": 0,
  "metadata": {
    "colab": {
      "provenance": [],
      "authorship_tag": "ABX9TyP6J75JMKdtHUzWjGHq/PZ7",
      "include_colab_link": true
    },
    "kernelspec": {
      "name": "python3",
      "display_name": "Python 3"
    },
    "language_info": {
      "name": "python"
    }
  },
  "cells": [
    {
      "cell_type": "markdown",
      "metadata": {
        "id": "view-in-github",
        "colab_type": "text"
      },
      "source": [
        "<a href=\"https://colab.research.google.com/github/alysonbz/lab_prog_si/blob/gabriel_coelho/atividade2.ipynb\" target=\"_parent\"><img src=\"https://colab.research.google.com/assets/colab-badge.svg\" alt=\"Open In Colab\"/></a>"
      ]
    },
    {
      "cell_type": "markdown",
      "source": [
        "1) Complete o código. Observe que a variável bath (float) é precedida por uma string “bathroom”. O mesmo acontece com liv. Complete atribuindo as strings \"hallway\", \"kitchen\" e \"bedroom\" na lista nos locais apropriados.\n",
        "\n",
        "1.1 ) Print a areas na linha 11."
      ],
      "metadata": {
        "id": "EoRm6fjHYC7J"
      }
    },
    {
      "cell_type": "code",
      "execution_count": null,
      "metadata": {
        "colab": {
          "base_uri": "https://localhost:8080/"
        },
        "id": "yDCUYHVLX7Xv",
        "outputId": "343c00aa-cdeb-402c-a831-b44adf604aa0"
      },
      "outputs": [
        {
          "output_type": "stream",
          "name": "stdout",
          "text": [
            "['hallway', 11.25, 'kitchen', 18.0, 'living room', 20.0, 'bedroom', 10.75, 'bathroom', 9.5]\n"
          ]
        }
      ],
      "source": [
        "#AREA VARIABLES (IN SQUARE METERS)\n",
        "hall=11.25\n",
        "kit=18.0\n",
        "liv=20.0\n",
        "bed=10.75\n",
        "bath=9.5\n",
        "\n",
        "#ADAPT LIST AREAS\n",
        "areas=[\"hallway\",hall,\"kitchen\",kit,\"living room\",liv,\"bedroom\",bed,\"bathroom\",bath]\n",
        "\n",
        "#PRINT AREAS\n",
        "print(areas)"
      ]
    },
    {
      "cell_type": "markdown",
      "source": [
        "2) Suponha que as seguintes listas foram criadas.\n",
        "\n",
        "A. [1, 3, 4, 2] B. [[1, 2, 3], [4, 5, 7]] C. [1 + 2, 'a' * 5, 3]\n",
        "\n",
        "Qual forma de criação de lista está correta? Descreva o que contém nas listas definidas corretamente.\n",
        "\n",
        "*RESP:*\n",
        "\n",
        "A. - lista está correta, pois apresenta números inteiros.\n",
        "\n",
        "B. - lista está correta, pois representa uma lista com outra lista dentro e cada uma delas apresenta números inteiros.\n",
        "\n",
        "C. - lista está correta, pois contém uma expressão. seu resultado final, se executada, será: [3, \"aaaaa\", 3]."
      ],
      "metadata": {
        "id": "8hE5kyX0d42X"
      }
    },
    {
      "cell_type": "markdown",
      "source": [
        "3) Complete a lista de listas com as informações de  bedroom e bathroom.\n",
        "\n",
        "3.1) Mostre a variável house.\n",
        "\n",
        "3.2) Print o tipo da variável house.\n"
      ],
      "metadata": {
        "id": "UiSsDc1cJuj7"
      }
    },
    {
      "cell_type": "code",
      "source": [
        "#AREA VARIABLES (IN SQUARE METERS)\n",
        "hall=11.25\n",
        "kit=18.0\n",
        "liv=20.0\n",
        "bed=10.75\n",
        "bath=9.5\n",
        "\n",
        "#HOUSE INFORMATION AS LIST OF LISTS\n",
        "house=[[\"hallway\",hall],\n",
        "       [\"kitchen\",kit],\n",
        "       [\"living room\",liv],\n",
        "       [\"bedroom\",bed],\n",
        "       [\"bathroom\",bath]]\n",
        "\n",
        "#PRINT HOUSE\n",
        "print(house)\n",
        "\n",
        "#PRINT TYPE HOUSE\n",
        "print(type(house))"
      ],
      "metadata": {
        "colab": {
          "base_uri": "https://localhost:8080/"
        },
        "id": "ESkwAStnJ26b",
        "outputId": "e7451c6a-5268-4004-d334-064083eeb4bb"
      },
      "execution_count": 1,
      "outputs": [
        {
          "output_type": "stream",
          "name": "stdout",
          "text": [
            "[['hallway', 11.25], ['kitchen', 18.0], ['living room', 20.0], ['bedroom', 10.75], ['bathroom', 9.5]]\n",
            "<class 'list'>\n"
          ]
        }
      ]
    },
    {
      "cell_type": "markdown",
      "source": [
        "4) Exiba o segundo elemento da lista\n",
        "\n",
        "4.1) Exiba o último elemento da lista usando index negativo.\n",
        "\n",
        "4.2) Exiba o elemento que indica o valor da área de Livin room."
      ],
      "metadata": {
        "id": "xE449HREK_cp"
      }
    },
    {
      "cell_type": "code",
      "source": [
        "#CREATE THE AREAS LIST\n",
        "areas=[\"hallway\",11.25,\"kitchen\",18.0,\"living room\",20.0,\"bedroom\",10.75,\"bathroom\",9.5]\n",
        "\n",
        "#PRINT OUT SECOND ELEMENT FROM AREAS\n",
        "print(areas[1])\n",
        "\n",
        "#PRINT OUT LAST ELEMENT FROM AREAS\n",
        "print(areas[5])\n",
        "\n",
        "#PRINT OUT THE AREA OF THE LIVING ROOM\n",
        "print(areas[3])"
      ],
      "metadata": {
        "colab": {
          "base_uri": "https://localhost:8080/"
        },
        "id": "L5-kmZvmLPl1",
        "outputId": "6952ecea-1166-4007-cc60-f859077cd7cc"
      },
      "execution_count": 3,
      "outputs": [
        {
          "output_type": "stream",
          "name": "stdout",
          "text": [
            "11.25\n",
            "20.0\n",
            "18.0\n"
          ]
        }
      ]
    },
    {
      "cell_type": "markdown",
      "source": [
        "5) Na linha 7, acessando os elementos da lista, realize a soma dos valores de Kitchen e living room e atribua em eat_sleep_area.\n",
        "\n",
        "5.1) Exiba a variável eat_sleep_area."
      ],
      "metadata": {
        "id": "rk7XOuWhNkKP"
      }
    },
    {
      "cell_type": "code",
      "source": [
        "#CREATE THE AREAS LIST\n",
        "areas=[\"hallway\",11.25,\"kitchen\",18.0,\"living room\",20.0,\"bedroom\",10.75,\"bathroom\",9.5]\n",
        "\n",
        "#SUM OF KITCHEN AND BEDROOM AREA: EAT_SLEEP_AREA\n",
        "eat_sleep_area=areas[3]+areas[7]\n",
        "\n",
        "#PRINT THE VARIABLE EAT_SLEEP_AREA\n",
        "print(eat_sleep_area)"
      ],
      "metadata": {
        "colab": {
          "base_uri": "https://localhost:8080/"
        },
        "id": "6fA48q2ONpEW",
        "outputId": "1d22b56a-b1c5-4376-cd3a-ba00f1ed43bf"
      },
      "execution_count": 4,
      "outputs": [
        {
          "output_type": "stream",
          "name": "stdout",
          "text": [
            "28.75\n"
          ]
        }
      ]
    },
    {
      "cell_type": "markdown",
      "source": [
        "6) Acesse os 6 primeiros elemento de areas e atribua a uma nova lista: downstairs.\n",
        "\n",
        "6.1) Acesse os 4 últimos elemento de areas e atribua a uma nova lista: upstairs.\n",
        "\n",
        "6.2) Exiba downstairs e upstairs."
      ],
      "metadata": {
        "id": "hjnfmXLfPri4"
      }
    },
    {
      "cell_type": "code",
      "source": [
        "#CREATE THE AREAS LIST\n",
        "areas=[\"hallway\",11.25,\"kitchen\",18.0,\"living room\",20.0,\"bedroom\",10.75,\"bathroom\",9.5]\n",
        "\n",
        "#USE SLICING TO CREAT DOWNSTAIRS\n",
        "downstairs=areas[0:6]\n",
        "\n",
        "#USE SLICING TO CREAT UPSTAIRS\n",
        "upstairs=areas[6:10]\n",
        "\n",
        "#PRINT DOWNSTAIRS AND UPSTAIRS\n",
        "print(downstairs)\n",
        "print(upstairs)"
      ],
      "metadata": {
        "colab": {
          "base_uri": "https://localhost:8080/"
        },
        "id": "ZgmG-mn8Pvin",
        "outputId": "07998441-f77c-4484-dc1c-6eb48f190a8b"
      },
      "execution_count": 5,
      "outputs": [
        {
          "output_type": "stream",
          "name": "stdout",
          "text": [
            "['hallway', 11.25, 'kitchen', 18.0, 'living room', 20.0]\n",
            "['bedroom', 10.75, 'bathroom', 9.5]\n"
          ]
        }
      ]
    },
    {
      "cell_type": "markdown",
      "source": [
        "7) Troque o valor de bathroom de 9.50 para 10.50.\n",
        "\n",
        "7.1) Substitua a string “Living room” por “chill zone”"
      ],
      "metadata": {
        "id": "PoFR9-RVQWHu"
      }
    },
    {
      "cell_type": "code",
      "source": [
        "#CREATE THE AREAS LIST\n",
        "areas=[\"hallway\",11.25,\"kitchen\",18.0,\"living room\",20.0,\"bedroom\",10.75,\"bathroom\",9.5]\n",
        "\n",
        "#CORRECT THE BATHROOM AREA\n",
        "areas[9]=10.50\n",
        "areas\n",
        "\n",
        "#CHANGE \"LIVING ROOM\" TO \"CHILL ZONE\"\n",
        "areas[4]='chill zone'\n",
        "areas"
      ],
      "metadata": {
        "colab": {
          "base_uri": "https://localhost:8080/"
        },
        "id": "CUaCQllpQc-F",
        "outputId": "d0dbbef6-28d7-4196-c608-91f3c69c6e86"
      },
      "execution_count": 24,
      "outputs": [
        {
          "output_type": "execute_result",
          "data": {
            "text/plain": [
              "['hallway',\n",
              " 11.25,\n",
              " 'kitchen',\n",
              " 18.0,\n",
              " 'chill zone',\n",
              " 20.0,\n",
              " 'bedroom',\n",
              " 10.75,\n",
              " 'bathroom',\n",
              " 10.5]"
            ]
          },
          "metadata": {},
          "execution_count": 24
        }
      ]
    },
    {
      "cell_type": "markdown",
      "source": [
        "8) Adicione [\"poolhouse\", 24.5] no fim da lista  e atribua em uma nova lista chamada de areas_1\n",
        "\n",
        "8.1) 8) Adicione [\"garage\", 15.5] no fim da lista areas_1  e atribua em uma nova lista chamada de areas_2\n",
        "\n",
        "8.2) Exiba areas_2"
      ],
      "metadata": {
        "id": "UCMx6EtSUtlh"
      }
    },
    {
      "cell_type": "code",
      "source": [
        "#CREATE THE AREAS LIST\n",
        "areas=['hallway',11.25,'kitchen',18.0,'chill zone',20.0,'bedroom',10.75,'bathroom',10.5]\n",
        "\n",
        "#ADD POOLHOUSE DATA TO AREAS, NEW LIST IS AREAS_1\n",
        "areas_1=areas+['poolhouse',24.5]\n",
        "areas_1\n",
        "\n",
        "#ADD GARAGE DATA TO AREAS_1, NEW LIST IS AREA_2\n",
        "areas_2=areas_1+['garage',15.5]\n",
        "areas_2"
      ],
      "metadata": {
        "colab": {
          "base_uri": "https://localhost:8080/"
        },
        "id": "9SL-kLlBVBcz",
        "outputId": "dfb9f388-9acf-4282-bb1a-49afef42bf4b"
      },
      "execution_count": 33,
      "outputs": [
        {
          "output_type": "execute_result",
          "data": {
            "text/plain": [
              "['hallway',\n",
              " 11.25,\n",
              " 'kitchen',\n",
              " 18.0,\n",
              " 'chill zone',\n",
              " 20.0,\n",
              " 'bedroom',\n",
              " 10.75,\n",
              " 'bathroom',\n",
              " 10.5,\n",
              " 'poolhouse',\n",
              " 24.5,\n",
              " 'garage',\n",
              " 15.5]"
            ]
          },
          "metadata": {},
          "execution_count": 33
        }
      ]
    },
    {
      "cell_type": "markdown",
      "source": [
        "9) Execute o código e observe que a modificação realizada em areas_copy afetou areas. Corrija esse código e exiba areas e areas_copy no fim do código."
      ],
      "metadata": {
        "id": "J4mkgjLNXRn5"
      }
    },
    {
      "cell_type": "code",
      "source": [
        "#CREATE THE AREAS LIST\n",
        "areas=[11.25, 18.0, 20.0, 10.75, 9.5]\n",
        "\n",
        "#CREATE AREAS_COPY\n",
        "areas_copy=areas\n",
        "\n",
        "#CHANGE AREAS_COPY\n",
        "areas_copy=areas+[5.0]\n",
        "\n",
        "#PRINT AREAS\n",
        "print(areas)\n",
        "print(areas_copy)"
      ],
      "metadata": {
        "colab": {
          "base_uri": "https://localhost:8080/"
        },
        "id": "E78wHNqQXd6H",
        "outputId": "55319222-64c6-45d7-8caf-c97c96d2a9f1"
      },
      "execution_count": 37,
      "outputs": [
        {
          "output_type": "stream",
          "name": "stdout",
          "text": [
            "[11.25, 18.0, 20.0, 10.75, 9.5]\n",
            "[11.25, 18.0, 20.0, 10.75, 9.5, 5.0]\n"
          ]
        }
      ]
    }
  ]
}