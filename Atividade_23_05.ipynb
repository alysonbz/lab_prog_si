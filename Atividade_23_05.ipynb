{
  "nbformat": 4,
  "nbformat_minor": 0,
  "metadata": {
    "colab": {
      "provenance": [],
      "authorship_tag": "ABX9TyPcMrB6HhdUCUejZV9cbNdY",
      "include_colab_link": true
    },
    "kernelspec": {
      "name": "python3",
      "display_name": "Python 3"
    },
    "language_info": {
      "name": "python"
    }
  },
  "cells": [
    {
      "cell_type": "markdown",
      "metadata": {
        "id": "view-in-github",
        "colab_type": "text"
      },
      "source": [
        "<a href=\"https://colab.research.google.com/github/alysonbz/lab_prog_si/blob/david_lucasgs/Atividade_23_05.ipynb\" target=\"_parent\"><img src=\"https://colab.research.google.com/assets/colab-badge.svg\" alt=\"Open In Colab\"/></a>"
      ]
    },
    {
      "cell_type": "code",
      "execution_count": 5,
      "metadata": {
        "colab": {
          "base_uri": "https://localhost:8080/"
        },
        "id": "J8FCzff7Kx5l",
        "outputId": "416cfa14-1f4b-44ee-b805-ceb8116dab41"
      },
      "outputs": [
        {
          "output_type": "stream",
          "name": "stdout",
          "text": [
            "[1.73, 1.68, 1.71, 1.89]\n",
            "1.89\n"
          ]
        }
      ],
      "source": [
        "fam = [1.73, 1.68, 1.71, 1.89]\n",
        "max(fam)\n",
        "print(fam)\n",
        "print(max(fam))"
      ]
    },
    {
      "cell_type": "code",
      "source": [
        "list_num = [2, 1, 5, 10, 5 ,20]\n",
        "maior_valor = None\n",
        "for numero in list_num:\n",
        "  if maior_valor == None:\n",
        "    maior_valor = numero\n",
        "  if numero > maior_valor:\n",
        "    maior_valor = numero\n",
        "  print(\"Durante o loop: \", maior_valor)\n",
        "  print(\"Resultado final: \", maior_valor)"
      ],
      "metadata": {
        "colab": {
          "base_uri": "https://localhost:8080/"
        },
        "id": "pqPInEuKMFyK",
        "outputId": "788212f1-73bb-46b6-cc60-36233ecfb55f"
      },
      "execution_count": 9,
      "outputs": [
        {
          "output_type": "stream",
          "name": "stdout",
          "text": [
            "Durante o loop:  2\n",
            "Resultado final:  2\n",
            "Durante o loop:  2\n",
            "Resultado final:  2\n",
            "Durante o loop:  5\n",
            "Resultado final:  5\n",
            "Durante o loop:  10\n",
            "Resultado final:  10\n",
            "Durante o loop:  10\n",
            "Resultado final:  10\n",
            "Durante o loop:  20\n",
            "Resultado final:  20\n"
          ]
        }
      ]
    },
    {
      "cell_type": "code",
      "source": [
        "def max_valor_lista(list_num):\n",
        "  maior_valor == None\n",
        "  for numero in list_num:\n",
        "    if maior_valor == None:\n",
        "      maior_valor = numero\n",
        "    if numero > maior_valor:\n",
        "      maior_valor = numero\n",
        "    return maior_valor\n"
      ],
      "metadata": {
        "id": "oCi0_5B3QYKN"
      },
      "execution_count": 10,
      "outputs": []
    },
    {
      "cell_type": "code",
      "source": [
        "lista_qualquer = [2, 3, 4, 6, 7, 9, 10]"
      ],
      "metadata": {
        "id": "JLbSLeMpRcal"
      },
      "execution_count": 36,
      "outputs": []
    },
    {
      "cell_type": "markdown",
      "source": [
        "Questão 1"
      ],
      "metadata": {
        "id": "1HtloY68UTP-"
      }
    },
    {
      "cell_type": "code",
      "source": [
        "var1 = [1, 2, 3, 4]"
      ],
      "metadata": {
        "id": "hHMCIVO_Ud2-"
      },
      "execution_count": 43,
      "outputs": []
    },
    {
      "cell_type": "code",
      "source": [
        "var2 = True"
      ],
      "metadata": {
        "id": "dVsO_rDOUj2z"
      },
      "execution_count": 44,
      "outputs": []
    },
    {
      "cell_type": "code",
      "source": [
        "print(type(var1))"
      ],
      "metadata": {
        "colab": {
          "base_uri": "https://localhost:8080/"
        },
        "id": "lk18dxthUmjL",
        "outputId": "4f7b5693-439f-4d1f-e1bb-655457134687"
      },
      "execution_count": 45,
      "outputs": [
        {
          "output_type": "stream",
          "name": "stdout",
          "text": [
            "<class 'list'>\n"
          ]
        }
      ]
    },
    {
      "cell_type": "markdown",
      "source": [
        "Questão 2"
      ],
      "metadata": {
        "id": "4flEXIsmUTNu"
      }
    },
    {
      "cell_type": "code",
      "source": [
        "print(len(var1))"
      ],
      "metadata": {
        "colab": {
          "base_uri": "https://localhost:8080/"
        },
        "id": "KghAZsZrUrui",
        "outputId": "5b8fa429-4a5b-4fa8-d539-c352725fa818"
      },
      "execution_count": 46,
      "outputs": [
        {
          "output_type": "stream",
          "name": "stdout",
          "text": [
            "4\n"
          ]
        }
      ]
    },
    {
      "cell_type": "markdown",
      "source": [
        "Questão 3"
      ],
      "metadata": {
        "id": "_LSNcy8pUTLG"
      }
    },
    {
      "cell_type": "code",
      "source": [
        "out2 = int(var2)\n",
        "out2"
      ],
      "metadata": {
        "colab": {
          "base_uri": "https://localhost:8080/"
        },
        "id": "nF5r4JhjUxQ3",
        "outputId": "3f918d43-4f0e-4214-97ae-a9860bac4291"
      },
      "execution_count": 48,
      "outputs": [
        {
          "output_type": "execute_result",
          "data": {
            "text/plain": [
              "1"
            ]
          },
          "metadata": {},
          "execution_count": 48
        }
      ]
    },
    {
      "cell_type": "markdown",
      "source": [
        "Questão 4"
      ],
      "metadata": {
        "id": "jz6s4eq9UTIO"
      }
    },
    {
      "cell_type": "code",
      "source": [
        "first = [11.25, 18.0, 20.0]\n",
        "second = [10.75, 9.50]\n",
        "full = first + second\n",
        "full"
      ],
      "metadata": {
        "colab": {
          "base_uri": "https://localhost:8080/"
        },
        "id": "Aoh4CGm1U57f",
        "outputId": "0cc36af4-fa97-4a87-9f3f-41628828f1af"
      },
      "execution_count": 50,
      "outputs": [
        {
          "output_type": "execute_result",
          "data": {
            "text/plain": [
              "[11.25, 18.0, 20.0, 10.75, 9.5]"
            ]
          },
          "metadata": {},
          "execution_count": 50
        }
      ]
    },
    {
      "cell_type": "markdown",
      "source": [
        "Questão 5"
      ],
      "metadata": {
        "id": "BcWJSoyzUTCw"
      }
    },
    {
      "cell_type": "code",
      "source": [
        "full_sorted = sorted(full, reverse=True)\n"
      ],
      "metadata": {
        "id": "3g5-DA1xVUnI"
      },
      "execution_count": 52,
      "outputs": []
    },
    {
      "cell_type": "markdown",
      "source": [
        "Questão 6"
      ],
      "metadata": {
        "id": "aoxVe-nMVm1M"
      }
    },
    {
      "cell_type": "code",
      "source": [
        "full_sorted"
      ],
      "metadata": {
        "colab": {
          "base_uri": "https://localhost:8080/"
        },
        "id": "u6_Gi6uPVp1l",
        "outputId": "3d8db7ad-588f-42f1-fb17-baae5cbab9ff"
      },
      "execution_count": 53,
      "outputs": [
        {
          "output_type": "execute_result",
          "data": {
            "text/plain": [
              "[20.0, 18.0, 11.25, 10.75, 9.5]"
            ]
          },
          "metadata": {},
          "execution_count": 53
        }
      ]
    }
  ]
}