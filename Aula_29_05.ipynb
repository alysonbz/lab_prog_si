{
  "nbformat": 4,
  "nbformat_minor": 0,
  "metadata": {
    "colab": {
      "provenance": [],
      "authorship_tag": "ABX9TyMFvLU+ixE62KLj+bmCErQX",
      "include_colab_link": true
    },
    "kernelspec": {
      "name": "python3",
      "display_name": "Python 3"
    },
    "language_info": {
      "name": "python"
    }
  },
  "cells": [
    {
      "cell_type": "markdown",
      "metadata": {
        "id": "view-in-github",
        "colab_type": "text"
      },
      "source": [
        "<a href=\"https://colab.research.google.com/github/alysonbz/lab_prog_si/blob/camila_araujo/Aula_29_05.ipynb\" target=\"_parent\"><img src=\"https://colab.research.google.com/assets/colab-badge.svg\" alt=\"Open In Colab\"/></a>"
      ]
    },
    {
      "cell_type": "markdown",
      "source": [
        "Criar uma lista"
      ],
      "metadata": {
        "id": "ENbqfHlAVdeY"
      }
    },
    {
      "cell_type": "code",
      "execution_count": 3,
      "metadata": {
        "colab": {
          "base_uri": "https://localhost:8080/"
        },
        "id": "SM-vU1PsNQpg",
        "outputId": "a6f90275-03de-4f4f-8a9a-ff4c686dac30"
      },
      "outputs": [
        {
          "output_type": "execute_result",
          "data": {
            "text/plain": [
              "['liz', 1.73, 'emma', 1.68, 'mom', 1.71, 'dad', 1.89]"
            ]
          },
          "metadata": {},
          "execution_count": 3
        }
      ],
      "source": [
        "sister = 'liz'\n",
        "height = 1.73\n",
        "fam = ['liz', 1.73, 'emma', 1.68, 'mom', 1.71, 'dad', 1.89]\n",
        "fam"
      ]
    },
    {
      "cell_type": "markdown",
      "source": [
        "posição de um elemento da lista"
      ],
      "metadata": {
        "id": "dvFBh_wxVkli"
      }
    },
    {
      "cell_type": "code",
      "source": [
        "fam.index('mom')"
      ],
      "metadata": {
        "colab": {
          "base_uri": "https://localhost:8080/"
        },
        "id": "1FOZYfm0NzgZ",
        "outputId": "c8a1fdbf-6d47-47aa-bec5-d7386d7acf17"
      },
      "execution_count": 4,
      "outputs": [
        {
          "output_type": "execute_result",
          "data": {
            "text/plain": [
              "4"
            ]
          },
          "metadata": {},
          "execution_count": 4
        }
      ]
    },
    {
      "cell_type": "markdown",
      "source": [
        "posição do elemento"
      ],
      "metadata": {
        "id": "OsQdqu9SVqM1"
      }
    },
    {
      "cell_type": "code",
      "source": [
        "fam.count(1.73)"
      ],
      "metadata": {
        "colab": {
          "base_uri": "https://localhost:8080/"
        },
        "id": "brsrdNkoN6FV",
        "outputId": "474a65a4-0ade-4482-ef12-f00c0ca27d86"
      },
      "execution_count": 5,
      "outputs": [
        {
          "output_type": "execute_result",
          "data": {
            "text/plain": [
              "1"
            ]
          },
          "metadata": {},
          "execution_count": 5
        }
      ]
    },
    {
      "cell_type": "markdown",
      "source": [
        "adcionar um elemento no final da lista"
      ],
      "metadata": {
        "id": "PTFmlT3TWARN"
      }
    },
    {
      "cell_type": "code",
      "source": [
        "fam.append('me')\n",
        "fam"
      ],
      "metadata": {
        "colab": {
          "base_uri": "https://localhost:8080/"
        },
        "id": "YBocs3DPOBOc",
        "outputId": "5bdf9d78-1be5-48b9-972e-41b454fd1b67"
      },
      "execution_count": 7,
      "outputs": [
        {
          "output_type": "execute_result",
          "data": {
            "text/plain": [
              "['liz', 1.73, 'emma', 1.68, 'mom', 1.71, 'dad', 1.89, 1.79, 'me']"
            ]
          },
          "metadata": {},
          "execution_count": 7
        }
      ]
    },
    {
      "cell_type": "code",
      "source": [
        "fam.append(1.79)\n",
        "fam"
      ],
      "metadata": {
        "colab": {
          "base_uri": "https://localhost:8080/"
        },
        "id": "uGIgp-b5OR7B",
        "outputId": "4c24245b-cd13-4b74-9386-4216d588f5a4"
      },
      "execution_count": 9,
      "outputs": [
        {
          "output_type": "execute_result",
          "data": {
            "text/plain": [
              "['liz', 1.73, 'emma', 1.68, 'mom', 1.71, 'dad', 1.89, 1.79, 'me', 1.79, 1.79]"
            ]
          },
          "metadata": {},
          "execution_count": 9
        }
      ]
    },
    {
      "cell_type": "code",
      "source": [
        "sister"
      ],
      "metadata": {
        "colab": {
          "base_uri": "https://localhost:8080/",
          "height": 35
        },
        "id": "MWQICfV1Omn_",
        "outputId": "4d1d0aac-cac6-45f6-b5c7-7e737ed1b06d"
      },
      "execution_count": 10,
      "outputs": [
        {
          "output_type": "execute_result",
          "data": {
            "text/plain": [
              "'liz'"
            ],
            "application/vnd.google.colaboratory.intrinsic+json": {
              "type": "string"
            }
          },
          "metadata": {},
          "execution_count": 10
        }
      ]
    },
    {
      "cell_type": "markdown",
      "source": [
        "Primeira letra maiuscula"
      ],
      "metadata": {
        "id": "6VmtSNtDWkFv"
      }
    },
    {
      "cell_type": "code",
      "source": [
        "sister.capitalize()"
      ],
      "metadata": {
        "colab": {
          "base_uri": "https://localhost:8080/",
          "height": 35
        },
        "id": "H3QoVobSOoZl",
        "outputId": "6cf5fe40-066d-4e25-dfe0-7ef77f79ffc5"
      },
      "execution_count": 11,
      "outputs": [
        {
          "output_type": "execute_result",
          "data": {
            "text/plain": [
              "'Liz'"
            ],
            "application/vnd.google.colaboratory.intrinsic+json": {
              "type": "string"
            }
          },
          "metadata": {},
          "execution_count": 11
        }
      ]
    },
    {
      "cell_type": "markdown",
      "source": [
        "substituir um elemento por outro"
      ],
      "metadata": {
        "id": "IOQb8avqWq3n"
      }
    },
    {
      "cell_type": "code",
      "source": [
        "sister.replace('z', 'sa')"
      ],
      "metadata": {
        "colab": {
          "base_uri": "https://localhost:8080/",
          "height": 35
        },
        "id": "5Wff8ZSLOs23",
        "outputId": "43b9600f-5f10-4e5a-82c4-dcfb8683c6ff"
      },
      "execution_count": 12,
      "outputs": [
        {
          "output_type": "execute_result",
          "data": {
            "text/plain": [
              "'lisa'"
            ],
            "application/vnd.google.colaboratory.intrinsic+json": {
              "type": "string"
            }
          },
          "metadata": {},
          "execution_count": 12
        }
      ]
    },
    {
      "cell_type": "markdown",
      "source": [
        "quest1"
      ],
      "metadata": {
        "id": "5ZqhgxnfO9Dj"
      }
    },
    {
      "cell_type": "code",
      "source": [
        "place = 'poolhouse'\n",
        "place_up = place.upper()\n",
        "place_up"
      ],
      "metadata": {
        "colab": {
          "base_uri": "https://localhost:8080/",
          "height": 35
        },
        "id": "oDBgzRIwO7VD",
        "outputId": "ba18a048-c573-4359-afbe-355cd192d66f"
      },
      "execution_count": 13,
      "outputs": [
        {
          "output_type": "execute_result",
          "data": {
            "text/plain": [
              "'POOLHOUSE'"
            ],
            "application/vnd.google.colaboratory.intrinsic+json": {
              "type": "string"
            }
          },
          "metadata": {},
          "execution_count": 13
        }
      ]
    },
    {
      "cell_type": "markdown",
      "source": [
        "quest2"
      ],
      "metadata": {
        "id": "HAFbhb45PTdc"
      }
    },
    {
      "cell_type": "code",
      "source": [
        "print(place)\n",
        "print(place_up)"
      ],
      "metadata": {
        "colab": {
          "base_uri": "https://localhost:8080/"
        },
        "id": "QP001L7hPSli",
        "outputId": "3d9c3c68-5f4b-4317-ee47-f2707c399c47"
      },
      "execution_count": 14,
      "outputs": [
        {
          "output_type": "stream",
          "name": "stdout",
          "text": [
            "poolhouse\n",
            "POOLHOUSE\n"
          ]
        }
      ]
    },
    {
      "cell_type": "markdown",
      "source": [
        "quest3"
      ],
      "metadata": {
        "id": "Q7GD5qIyPn4-"
      }
    },
    {
      "cell_type": "code",
      "source": [
        "place.count('o')"
      ],
      "metadata": {
        "colab": {
          "base_uri": "https://localhost:8080/"
        },
        "id": "FNRSZ6GVPpkL",
        "outputId": "6f3022f3-4e07-4c06-d109-55650e2644f7"
      },
      "execution_count": 17,
      "outputs": [
        {
          "output_type": "execute_result",
          "data": {
            "text/plain": [
              "3"
            ]
          },
          "metadata": {},
          "execution_count": 17
        }
      ]
    },
    {
      "cell_type": "markdown",
      "source": [
        "quest4"
      ],
      "metadata": {
        "id": "0w0balisQM41"
      }
    },
    {
      "cell_type": "code",
      "source": [
        "areas = [11.25, 18.0, 20.0, 10.75, 9.50]\n",
        "print(areas.index(20.0))"
      ],
      "metadata": {
        "colab": {
          "base_uri": "https://localhost:8080/"
        },
        "id": "f0RJNSbSQMfj",
        "outputId": "6abad097-7dd6-4152-e657-f650b193927b"
      },
      "execution_count": 18,
      "outputs": [
        {
          "output_type": "stream",
          "name": "stdout",
          "text": [
            "2\n"
          ]
        }
      ]
    },
    {
      "cell_type": "markdown",
      "source": [
        "quest5"
      ],
      "metadata": {
        "id": "k7Ch4wyNQoAL"
      }
    },
    {
      "cell_type": "code",
      "source": [
        "print(areas.count(9.5))"
      ],
      "metadata": {
        "colab": {
          "base_uri": "https://localhost:8080/"
        },
        "id": "nf83O3IVQp0h",
        "outputId": "20c2551e-f8d9-42b5-94f8-76a82a6936a2"
      },
      "execution_count": 19,
      "outputs": [
        {
          "output_type": "stream",
          "name": "stdout",
          "text": [
            "1\n"
          ]
        }
      ]
    },
    {
      "cell_type": "markdown",
      "source": [
        "quest6"
      ],
      "metadata": {
        "id": "_6466OtaQ2OT"
      }
    },
    {
      "cell_type": "code",
      "source": [
        "areas.append(24.5)\n",
        "areas.append(15.25)\n",
        "areas"
      ],
      "metadata": {
        "colab": {
          "base_uri": "https://localhost:8080/"
        },
        "id": "PnOTo7FcX36o",
        "outputId": "39705efc-01d4-4966-df8a-2cbe48131e8a"
      },
      "execution_count": 29,
      "outputs": [
        {
          "output_type": "execute_result",
          "data": {
            "text/plain": [
              "[15.25,\n",
              " 24.5,\n",
              " 15.25,\n",
              " 15.25,\n",
              " 24.5,\n",
              " 15.25,\n",
              " 24.5,\n",
              " 9.5,\n",
              " 10.75,\n",
              " 20.0,\n",
              " 18.0,\n",
              " 11.25,\n",
              " 24.5,\n",
              " 15.25,\n",
              " 24.5,\n",
              " 15.25,\n",
              " 24.5,\n",
              " 15.25]"
            ]
          },
          "metadata": {},
          "execution_count": 29
        }
      ]
    },
    {
      "cell_type": "markdown",
      "source": [
        "quest7"
      ],
      "metadata": {
        "id": "GxiqNF2vRf4O"
      }
    },
    {
      "cell_type": "code",
      "source": [
        "print(areas)"
      ],
      "metadata": {
        "id": "jw7HQ3HeRhcG"
      },
      "execution_count": null,
      "outputs": []
    },
    {
      "cell_type": "markdown",
      "source": [
        "quest8"
      ],
      "metadata": {
        "id": "-YryNlt9RlEM"
      }
    },
    {
      "cell_type": "code",
      "source": [
        "areas.reverse()"
      ],
      "metadata": {
        "id": "yxVI1gJNRmW6"
      },
      "execution_count": 25,
      "outputs": []
    },
    {
      "cell_type": "markdown",
      "source": [
        "quest9"
      ],
      "metadata": {
        "id": "BB3JLVrcRuXV"
      }
    },
    {
      "cell_type": "code",
      "source": [
        "print(areas)"
      ],
      "metadata": {
        "colab": {
          "base_uri": "https://localhost:8080/"
        },
        "id": "KhEEBlUARwLo",
        "outputId": "ef4d9350-6d1e-4f7f-c8fc-2de63c45ce88"
      },
      "execution_count": 26,
      "outputs": [
        {
          "output_type": "stream",
          "name": "stdout",
          "text": [
            "[15.25, 24.5, 15.25, 15.25, 24.5, 15.25, 24.5, 9.5, 10.75, 20.0, 18.0, 11.25]\n"
          ]
        }
      ]
    }
  ]
}