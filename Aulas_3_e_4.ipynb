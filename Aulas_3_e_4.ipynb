{
  "nbformat": 4,
  "nbformat_minor": 0,
  "metadata": {
    "colab": {
      "provenance": [],
      "authorship_tag": "ABX9TyOhHw5bVwvGi9dGoh7NI3jR",
      "include_colab_link": true
    },
    "kernelspec": {
      "name": "python3",
      "display_name": "Python 3"
    },
    "language_info": {
      "name": "python"
    }
  },
  "cells": [
    {
      "cell_type": "markdown",
      "metadata": {
        "id": "view-in-github",
        "colab_type": "text"
      },
      "source": [
        "<a href=\"https://colab.research.google.com/github/alysonbz/lab_prog_si/blob/joao_pedro/Aulas_3_e_4.ipynb\" target=\"_parent\"><img src=\"https://colab.research.google.com/assets/colab-badge.svg\" alt=\"Open In Colab\"/></a>"
      ]
    },
    {
      "cell_type": "code",
      "source": [
        "#Questão 1\n",
        "hall = 11.25\n",
        "kit = 18.0\n",
        "liv = 20.0\n",
        "bed = 10.75\n",
        "bath = 9.5\n",
        "areas = [\"Hallway\",hall,\"Kitchen\", kit, \"Livingroom\", liv, \"Bedroom\", bed,\"Bathroom\",   bath]\n",
        "print(areas)"
      ],
      "metadata": {
        "id": "DI3oP28w9xI5"
      },
      "execution_count": null,
      "outputs": []
    },
    {
      "cell_type": "code",
      "source": [
        "#Questão 2\n",
        "listaA = [1,3,4,2]\n",
        "print(listaA)\n",
        "listaB = [1,2,3],[4,5,7]\n",
        "print(listaB)\n",
        "listaC = [1+2, \"a\" * 5, 3]\n",
        "print(listaC)\n",
        "#Todas as listas estão corretas; Listas comuns, e listas dentro de listas"
      ],
      "metadata": {
        "id": "upL_xQAc90cQ"
      },
      "execution_count": null,
      "outputs": []
    },
    {
      "cell_type": "code",
      "source": [
        "#Questão 3\n",
        "hall = 11.25\n",
        "kit = 18.0\n",
        "liv = 20.0\n",
        "bed = 10.75\n",
        "bath = 9.50\n",
        "house = [[\"hallway\", hall],\n",
        "         [\"kitchen\", kit],\n",
        "         [\"Living room\", liv],\n",
        "         [\"bedroom\", bed],\n",
        "         [\"bathroom\", bath]]\n",
        "print(house)\n",
        "print(type(house))"
      ],
      "metadata": {
        "id": "kfQR1FOs95mB"
      },
      "execution_count": null,
      "outputs": []
    },
    {
      "cell_type": "code",
      "source": [
        "#Questão 4\n",
        "areas = [\"hallway\", 11.25, \"kitchen\", 18.0, \"Living room\", 20.0, \"bedroom\", 10.75, \"bathroom\", 9.50]\n",
        "print(areas[1])\n",
        "print(areas[-1])\n",
        "print(areas[5])"
      ],
      "metadata": {
        "id": "djc_CdKV97xa"
      },
      "execution_count": null,
      "outputs": []
    },
    {
      "cell_type": "code",
      "source": [
        "#Questão 5\n",
        "areas = [\"hallway\", 11.25, \"kitchen\", 18.0, \"Living room\", 20.0, \"bedroom\", 10.75, \"bathroom\", 9.50]\n",
        "eat_sleep_area = areas[3] + areas[5]\n",
        "print(eat_sleep_area)"
      ],
      "metadata": {
        "id": "vEjxLNba-BQo"
      },
      "execution_count": null,
      "outputs": []
    },
    {
      "cell_type": "code",
      "source": [
        "#Questão 6\n",
        "areas = [\"hallway\", 11.25, \"kitchen\", 18.0, \"living room\", 20.0, \"bedroom\", 10.75, \"bathroom\", 9.50]\n",
        "downstairs = areas[:6]\n",
        "upstairs = areas[-4:]\n",
        "print(\"Downstairs:\", downstairs)\n",
        "print(\"Upstairs:\", upstairs)"
      ],
      "metadata": {
        "id": "f_7H32GA-D1o"
      },
      "execution_count": null,
      "outputs": []
    },
    {
      "cell_type": "code",
      "source": [
        "#Questão abcd\n",
        "house = [[\"hallway\", hall],\n",
        "         [\"kitchen\", kit],\n",
        "         [\"Living room\", liv],\n",
        "         [\"bedroom\", bed],\n",
        "         [\"bathroom\", bath]]\n",
        "print(house[-1][1])\n",
        "#c) A float: the bathroom area"
      ],
      "metadata": {
        "id": "KCyaEGfi-GaH"
      },
      "execution_count": null,
      "outputs": []
    },
    {
      "cell_type": "code",
      "source": [
        "#Questão 7\n",
        "areas = [\"hallway\", 11.25,\n",
        "         \"kitchen\", 18.0, \"Living room\",\n",
        "         20.0, \"bedroom\", 10.75,\n",
        "         \"bathroom\", 9.50]\n",
        "areas[-1] = 10.50\n",
        "areas[4] = 'Chill Zone'\n",
        "print(areas)"
      ],
      "metadata": {
        "id": "diY2qiiH-JG_"
      },
      "execution_count": null,
      "outputs": []
    },
    {
      "cell_type": "code",
      "source": [
        "#Questão 8\n",
        "areas = [\"hallway\", 11.25, \"kitchen\", 18.0,\n",
        "         \"chill zone\", 20.0,\n",
        "         \"bedroom\", 10.75, \"bathroom\", 10.50]\n",
        "areas_1 = areas + [\"poolhouse\", 24.5]\n",
        "areas_2 = areas_1 + [\"garage\", 15.5]\n",
        "print(areas_2)"
      ],
      "metadata": {
        "id": "UCWbrXS3-MR_"
      },
      "execution_count": null,
      "outputs": []
    },
    {
      "cell_type": "code",
      "source": [
        "#Questão 9\n",
        "areas = [11.25, 18.0, 20.0, 10.75, 9.50]\n",
        "areas_copy = areas.copy()  # Alternativamente, areas[:] e List(x) também funciona\n",
        "areas_copy[0] = 5.0\n",
        "print(\"Lista original:\", areas)\n",
        "print(\"Lista modificada:\", areas_copy)"
      ],
      "metadata": {
        "colab": {
          "base_uri": "https://localhost:8080/"
        },
        "id": "N3eCWsUR-SD_",
        "outputId": "eb175862-2184-46e3-d883-8cf369527af4"
      },
      "execution_count": 17,
      "outputs": [
        {
          "output_type": "stream",
          "name": "stdout",
          "text": [
            "Lista original: [11.25, 18.0, 20.0, 10.75, 9.5]\n",
            "Lista modificada: [5.0, 18.0, 20.0, 10.75, 9.5]\n"
          ]
        }
      ]
    }
  ]
}