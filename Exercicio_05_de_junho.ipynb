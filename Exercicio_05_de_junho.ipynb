{
  "nbformat": 4,
  "nbformat_minor": 0,
  "metadata": {
    "colab": {
      "provenance": [],
      "authorship_tag": "ABX9TyNxC7EcRj9floBUyWOhDZfg",
      "include_colab_link": true
    },
    "kernelspec": {
      "name": "python3",
      "display_name": "Python 3"
    },
    "language_info": {
      "name": "python"
    }
  },
  "cells": [
    {
      "cell_type": "markdown",
      "metadata": {
        "id": "view-in-github",
        "colab_type": "text"
      },
      "source": [
        "<a href=\"https://colab.research.google.com/github/alysonbz/lab_prog_si/blob/saulo_brito/Exercicio_05_de_junho.ipynb\" target=\"_parent\"><img src=\"https://colab.research.google.com/assets/colab-badge.svg\" alt=\"Open In Colab\"/></a>"
      ]
    },
    {
      "cell_type": "code",
      "execution_count": 1,
      "metadata": {
        "id": "ROjBxMucWS4W"
      },
      "outputs": [],
      "source": [
        "baseball = [[180, 78.4], [215, 102.7], [210, 98.5], [188, 75.2]]"
      ]
    },
    {
      "cell_type": "code",
      "source": [
        "import numpy as np"
      ],
      "metadata": {
        "id": "IIlRtKciWt1u"
      },
      "execution_count": 2,
      "outputs": []
    },
    {
      "cell_type": "code",
      "source": [
        "np_baseball = np.array(baseball)"
      ],
      "metadata": {
        "id": "1_8rkAZxWwag"
      },
      "execution_count": 3,
      "outputs": []
    },
    {
      "cell_type": "code",
      "source": [
        "print(\"1) Terceira linha:\", np_baseball[2])"
      ],
      "metadata": {
        "colab": {
          "base_uri": "https://localhost:8080/"
        },
        "id": "QzKW7dSXW5kn",
        "outputId": "42af629d-c34f-4240-bbb0-adacfb6b28a2"
      },
      "execution_count": 4,
      "outputs": [
        {
          "output_type": "stream",
          "name": "stdout",
          "text": [
            "1) Terceira linha: [210.   98.5]\n"
          ]
        }
      ]
    },
    {
      "cell_type": "code",
      "source": [
        "np_weight_lb = np_baseball[:, 1]\n",
        "print(\"2) np_weight_lb (segunda coluna):\", np_weight_lb)"
      ],
      "metadata": {
        "colab": {
          "base_uri": "https://localhost:8080/"
        },
        "id": "zMIiQZAbXGHs",
        "outputId": "210049d4-29c6-4e27-b40e-9fd6c9d78d0d"
      },
      "execution_count": 6,
      "outputs": [
        {
          "output_type": "stream",
          "name": "stdout",
          "text": [
            "2) np_weight_lb (segunda coluna): [ 78.4 102.7  98.5  75.2]\n"
          ]
        }
      ]
    },
    {
      "cell_type": "code",
      "source": [
        "print(\"3) Primeira coluna da segunda linha:\", np_baseball[1, 0])"
      ],
      "metadata": {
        "colab": {
          "base_uri": "https://localhost:8080/"
        },
        "id": "o6RA22naXk2p",
        "outputId": "e51ca5e7-b8b7-483b-afd3-2073a1e56c3f"
      },
      "execution_count": 7,
      "outputs": [
        {
          "output_type": "stream",
          "name": "stdout",
          "text": [
            "3) Primeira coluna da segunda linha: 215.0\n"
          ]
        }
      ]
    },
    {
      "cell_type": "code",
      "source": [
        "media_altura = np.mean(np_baseball[:, 0])\n",
        "print(\"4) Média da altura:\", media_altura)"
      ],
      "metadata": {
        "colab": {
          "base_uri": "https://localhost:8080/"
        },
        "id": "r3WPndy4XzMh",
        "outputId": "ce70983e-028d-4417-cfe4-ab6239b34ef7"
      },
      "execution_count": 8,
      "outputs": [
        {
          "output_type": "stream",
          "name": "stdout",
          "text": [
            "4) Média da altura: 198.25\n"
          ]
        }
      ]
    },
    {
      "cell_type": "code",
      "source": [
        "media_peso = np.mean(np_baseball[:, 1])\n",
        "print(\"5) Média do peso:\", media_peso)\n"
      ],
      "metadata": {
        "colab": {
          "base_uri": "https://localhost:8080/"
        },
        "id": "G2adJAPLX4XG",
        "outputId": "7dfd1722-d293-470b-9c92-41058cdd8ee4"
      },
      "execution_count": 9,
      "outputs": [
        {
          "output_type": "stream",
          "name": "stdout",
          "text": [
            "5) Média do peso: 88.7\n"
          ]
        }
      ]
    }
  ]
}