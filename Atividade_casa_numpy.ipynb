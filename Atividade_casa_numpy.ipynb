{
  "nbformat": 4,
  "nbformat_minor": 0,
  "metadata": {
    "colab": {
      "provenance": [],
      "authorship_tag": "ABX9TyMzS/ls5qnI8+6a8r9VGVJR",
      "include_colab_link": true
    },
    "kernelspec": {
      "name": "python3",
      "display_name": "Python 3"
    },
    "language_info": {
      "name": "python"
    }
  },
  "cells": [
    {
      "cell_type": "markdown",
      "metadata": {
        "id": "view-in-github",
        "colab_type": "text"
      },
      "source": [
        "<a href=\"https://colab.research.google.com/github/alysonbz/lab_prog_si/blob/levi_nascimento/Atividade_casa_numpy.ipynb\" target=\"_parent\"><img src=\"https://colab.research.google.com/assets/colab-badge.svg\" alt=\"Open In Colab\"/></a>"
      ]
    },
    {
      "cell_type": "markdown",
      "source": [
        "Página 6"
      ],
      "metadata": {
        "id": "zFroy8F093GJ"
      }
    },
    {
      "cell_type": "code",
      "execution_count": 5,
      "metadata": {
        "colab": {
          "base_uri": "https://localhost:8080/"
        },
        "id": "H3SmrNZD780m",
        "outputId": "901a33ad-f455-4b3b-8192-3b5650f71066"
      },
      "outputs": [
        {
          "output_type": "stream",
          "name": "stdout",
          "text": [
            "[[ 0  1  2  3  4]\n",
            " [ 5  6  7  8  9]\n",
            " [10 11 12 13 14]]\n",
            "(3, 5)\n",
            "2\n",
            "15\n",
            "<class 'numpy.ndarray'>\n",
            "[6 7 8]\n",
            "<class 'numpy.ndarray'>\n"
          ]
        }
      ],
      "source": [
        "import numpy as np\n",
        "# a = np.arange >> cria um array com os valores de 0 a 14\n",
        "# a = a.reshape(3, 5) >> redimensiona para 3 linhas e 5 colunas\n",
        "\n",
        "a = np.arange(15).reshape(3, 5)\n",
        "print(a)\n",
        "\n",
        "#a.shape retorna uma tupla com as dimensões do array\n",
        "a.shape\n",
        "print(a.shape)\n",
        "#a.ndim retorna o número de dimensões\n",
        "a.ndim\n",
        "print(a.ndim)\n",
        "#a.size retorna o número de elementos do array\n",
        "a.size\n",
        "print(a.size)\n",
        "\n",
        "print(type(a))\n",
        "\n",
        "b = np.array([6, 7, 8])\n",
        "print(b)\n",
        "print(type(b))"
      ]
    },
    {
      "cell_type": "markdown",
      "source": [
        "Página 7"
      ],
      "metadata": {
        "id": "9kNB7M17959N"
      }
    },
    {
      "cell_type": "code",
      "source": [
        "a = np.array([2, 3, 4])\n",
        "print(a)\n",
        "\n",
        "# detecta que são inteiros e atribui tipo (int64)\n",
        "a.dtype\n",
        "print(a.dtype)\n",
        "\n",
        "# detecta float e atribui tipo (float64)\n",
        "b = np.array([1.2, 3.5, 5.1])\n",
        "print(b.dtype)\n"
      ],
      "metadata": {
        "colab": {
          "base_uri": "https://localhost:8080/"
        },
        "id": "2FFCPTkt99up",
        "outputId": "b0298da1-17eb-40de-b3c7-c8da213d1076"
      },
      "execution_count": 8,
      "outputs": [
        {
          "output_type": "stream",
          "name": "stdout",
          "text": [
            "[2 3 4]\n",
            "int64\n",
            "float64\n"
          ]
        }
      ]
    },
    {
      "cell_type": "code",
      "source": [
        "#demonstra um erro comum ao passar múltiplos argumentos separados\n",
        "# em vez de uma lista\n",
        "a = np.array(1, 2, 3, 4)"
      ],
      "metadata": {
        "colab": {
          "base_uri": "https://localhost:8080/",
          "height": 141
        },
        "id": "NbH8eRI4_JdC",
        "outputId": "14ef872c-b59a-4f7d-bc21-bcc682ceb0b5"
      },
      "execution_count": 9,
      "outputs": [
        {
          "output_type": "error",
          "ename": "TypeError",
          "evalue": "array() takes from 1 to 2 positional arguments but 4 were given",
          "traceback": [
            "\u001b[0;31m---------------------------------------------------------------------------\u001b[0m",
            "\u001b[0;31mTypeError\u001b[0m                                 Traceback (most recent call last)",
            "\u001b[0;32m<ipython-input-9-03417382e2d0>\u001b[0m in \u001b[0;36m<cell line: 0>\u001b[0;34m()\u001b[0m\n\u001b[0;32m----> 1\u001b[0;31m \u001b[0ma\u001b[0m \u001b[0;34m=\u001b[0m \u001b[0mnp\u001b[0m\u001b[0;34m.\u001b[0m\u001b[0marray\u001b[0m\u001b[0;34m(\u001b[0m\u001b[0;36m1\u001b[0m\u001b[0;34m,\u001b[0m \u001b[0;36m2\u001b[0m\u001b[0;34m,\u001b[0m \u001b[0;36m3\u001b[0m\u001b[0;34m,\u001b[0m \u001b[0;36m4\u001b[0m\u001b[0;34m)\u001b[0m\u001b[0;34m\u001b[0m\u001b[0;34m\u001b[0m\u001b[0m\n\u001b[0m",
            "\u001b[0;31mTypeError\u001b[0m: array() takes from 1 to 2 positional arguments but 4 were given"
          ]
        }
      ]
    },
    {
      "cell_type": "code",
      "source": [
        "a = np.array([1, 2, 3, 4])\n",
        "#forma certa"
      ],
      "metadata": {
        "id": "sSaTlhoJ_df6"
      },
      "execution_count": 10,
      "outputs": []
    },
    {
      "cell_type": "code",
      "source": [
        " #cria arrays multidimensionais\n",
        " b = np.array([(1.5, 2, 3), (4, 5, 6)])\n",
        " print(b)\n",
        " #uma matriz 2x3"
      ],
      "metadata": {
        "colab": {
          "base_uri": "https://localhost:8080/"
        },
        "id": "xN51w-jL_ilM",
        "outputId": "7e7a2e04-3546-46c9-9a48-625ac78e493c"
      },
      "execution_count": 12,
      "outputs": [
        {
          "output_type": "stream",
          "name": "stdout",
          "text": [
            "[[1.5 2.  3. ]\n",
            " [4.  5.  6. ]]\n"
          ]
        }
      ]
    },
    {
      "cell_type": "code",
      "source": [
        "#Definir explicitamente o tipo de dado (dtype)\n",
        "c = np.array([[1, 2], [3, 4]], dtype=complex)\n",
        "print(c)\n",
        "#array de números complexos"
      ],
      "metadata": {
        "colab": {
          "base_uri": "https://localhost:8080/"
        },
        "id": "gKhGi6rY_6Ug",
        "outputId": "28ed6fa0-a4ef-4597-fc06-d47418b3105c"
      },
      "execution_count": 13,
      "outputs": [
        {
          "output_type": "stream",
          "name": "stdout",
          "text": [
            "[[1.+0.j 2.+0.j]\n",
            " [3.+0.j 4.+0.j]]\n"
          ]
        }
      ]
    },
    {
      "cell_type": "code",
      "source": [
        "#Criar arrays com valores predefinidos\n",
        "np.zeros((3, 4))"
      ],
      "metadata": {
        "colab": {
          "base_uri": "https://localhost:8080/"
        },
        "id": "vpXH5w2FARY8",
        "outputId": "bc5f70f6-a70b-403b-a54a-87d850bb6c73"
      },
      "execution_count": 14,
      "outputs": [
        {
          "output_type": "execute_result",
          "data": {
            "text/plain": [
              "array([[0., 0., 0., 0.],\n",
              "       [0., 0., 0., 0.],\n",
              "       [0., 0., 0., 0.]])"
            ]
          },
          "metadata": {},
          "execution_count": 14
        }
      ]
    },
    {
      "cell_type": "code",
      "source": [
        "# array 3D (2 blocos de 3 linhas x 4 colunas) preenchidos com 1 e tipo int16\n",
        "np.ones((2, 3, 4), dtype=np.int16)"
      ],
      "metadata": {
        "colab": {
          "base_uri": "https://localhost:8080/"
        },
        "id": "5VrhhZluBB01",
        "outputId": "952dd453-35dc-4ed2-a346-7bc2f917c38a"
      },
      "execution_count": 15,
      "outputs": [
        {
          "output_type": "execute_result",
          "data": {
            "text/plain": [
              "array([[[1, 1, 1, 1],\n",
              "        [1, 1, 1, 1],\n",
              "        [1, 1, 1, 1]],\n",
              "\n",
              "       [[1, 1, 1, 1],\n",
              "        [1, 1, 1, 1],\n",
              "        [1, 1, 1, 1]]], dtype=int16)"
            ]
          },
          "metadata": {},
          "execution_count": 15
        }
      ]
    },
    {
      "cell_type": "code",
      "source": [
        "#Cria uma array sem inicializar os valores (fica com valores aleatórios da memória - não confiáveis)\n",
        "np.empty((2, 3))"
      ],
      "metadata": {
        "colab": {
          "base_uri": "https://localhost:8080/"
        },
        "id": "ZWaWghmhBVNr",
        "outputId": "68f32eb9-6918-4f30-ef02-67f872633079"
      },
      "execution_count": 16,
      "outputs": [
        {
          "output_type": "execute_result",
          "data": {
            "text/plain": [
              "array([[1.5, 2. , 3. ],\n",
              "       [4. , 5. , 6. ]])"
            ]
          },
          "metadata": {},
          "execution_count": 16
        }
      ]
    },
    {
      "cell_type": "markdown",
      "source": [
        "Página 8"
      ],
      "metadata": {
        "id": "gb5dEH2BBx7d"
      }
    },
    {
      "cell_type": "code",
      "source": [
        "#Início, fim, passo (Cria uma array começando de início até antes de fim, com um valor de incremento (passo))\n",
        "#Exemplo de número inteiro\n",
        "print(np.arange(10, 30, 5))\n",
        "#exemplo de número decimal\n",
        "print(np.arange(0, 2, 0.3))"
      ],
      "metadata": {
        "colab": {
          "base_uri": "https://localhost:8080/"
        },
        "id": "boXnKaVZBzsL",
        "outputId": "48663bcc-d2f1-4fdd-e8a6-6d59580819c2"
      },
      "execution_count": 19,
      "outputs": [
        {
          "output_type": "stream",
          "name": "stdout",
          "text": [
            "[10 15 20 25]\n",
            "[0.  0.3 0.6 0.9 1.2 1.5 1.8]\n"
          ]
        }
      ]
    },
    {
      "cell_type": "code",
      "source": [
        "from numpy import pi\n",
        "#Gerar número exato de valores igualmente espaçados entre dois limites np.linspace(inicio, fim, quantidade)\n",
        "np.linspace(0, 2, 9)"
      ],
      "metadata": {
        "colab": {
          "base_uri": "https://localhost:8080/"
        },
        "id": "eRnyeKxTCrDU",
        "outputId": "8231ff1e-cc32-48ac-8076-3dca04af9cd6"
      },
      "execution_count": 20,
      "outputs": [
        {
          "output_type": "execute_result",
          "data": {
            "text/plain": [
              "array([0.  , 0.25, 0.5 , 0.75, 1.  , 1.25, 1.5 , 1.75, 2.  ])"
            ]
          },
          "metadata": {},
          "execution_count": 20
        }
      ]
    },
    {
      "cell_type": "code",
      "source": [
        "# 100 pontos de 0 a 2π\n",
        "x = np.linspace(0, 2 * pi, 100)\n",
        "# calcula seno de cada ponto\n",
        "f = np.sin(x)"
      ],
      "metadata": {
        "id": "y1AEr5VVDJkc"
      },
      "execution_count": 23,
      "outputs": []
    },
    {
      "cell_type": "code",
      "source": [
        "#Exemplo array 1D\n",
        "a = np.arange(6)\n",
        "print(a)\n",
        "#Exemplo array 2D\n",
        "b = np.arange(12).reshape(4, 3)\n",
        "print(b)\n",
        "#exemplo array 3D\n",
        "c = np.arange(24).reshape(2, 3, 4)\n",
        "print(c)\n",
        "# Cada “bloco” representa a última e penúltima dimensões.\n"
      ],
      "metadata": {
        "colab": {
          "base_uri": "https://localhost:8080/"
        },
        "id": "pbBztnrDD06b",
        "outputId": "48cabba0-7a7c-4f71-8840-8506d9cb14a3"
      },
      "execution_count": 25,
      "outputs": [
        {
          "output_type": "stream",
          "name": "stdout",
          "text": [
            "[0 1 2 3 4 5]\n",
            "[[ 0  1  2]\n",
            " [ 3  4  5]\n",
            " [ 6  7  8]\n",
            " [ 9 10 11]]\n",
            "[[[ 0  1  2  3]\n",
            "  [ 4  5  6  7]\n",
            "  [ 8  9 10 11]]\n",
            "\n",
            " [[12 13 14 15]\n",
            "  [16 17 18 19]\n",
            "  [20 21 22 23]]]\n"
          ]
        }
      ]
    },
    {
      "cell_type": "markdown",
      "source": [
        "Página 9"
      ],
      "metadata": {
        "id": "RKQZYXj1EVc9"
      }
    },
    {
      "cell_type": "code",
      "source": [
        "#impressão de arrays grandes\n",
        "#Por padrão, o NumPy exibe arrays grandes de forma abreviada para não poluir o terminal.\n",
        "print(np.arange(10000))\n",
        "\n",
        "#Exemplo de array 2D\n",
        "print(np.arange(10000).reshape(100, 100))\n"
      ],
      "metadata": {
        "colab": {
          "base_uri": "https://localhost:8080/"
        },
        "id": "aR7bC-0hEVKW",
        "outputId": "add6d9f7-6562-4356-c7c6-7a768eff0d6d"
      },
      "execution_count": 29,
      "outputs": [
        {
          "output_type": "stream",
          "name": "stdout",
          "text": [
            "[   0    1    2 ... 9997 9998 9999]\n",
            "[[   0    1    2 ...   97   98   99]\n",
            " [ 100  101  102 ...  197  198  199]\n",
            " [ 200  201  202 ...  297  298  299]\n",
            " ...\n",
            " [9700 9701 9702 ... 9797 9798 9799]\n",
            " [9800 9801 9802 ... 9897 9898 9899]\n",
            " [9900 9901 9902 ... 9997 9998 9999]]\n"
          ]
        }
      ]
    },
    {
      "cell_type": "code",
      "source": [
        "#se quiser que o numpy mostre tudo\n",
        "import sys\n",
        "np.set_printoptions(threshold=sys.maxsize)"
      ],
      "metadata": {
        "id": "Ah3lb56-FSV8"
      },
      "execution_count": null,
      "outputs": []
    },
    {
      "cell_type": "code",
      "source": [
        "#Operações básicas com array\n",
        "#No NumPy, os operadores aritméticos funcionam elemento por elemento (elementwise).\n",
        "a = np.array([20, 30, 40, 50])\n",
        "b = np.arange(4)\n",
        "print(b)\n",
        "\n",
        "c = a- b\n",
        "print(c)\n",
        "#Cada elemento de b foi subtraído do correspondente de a.\n",
        "\n",
        "# Potenciação\n",
        "print(b**2)\n",
        "\n",
        "#Funções matemáticas elementwise:\n",
        "print(10 * np.sin(a))\n",
        "#Calcula o seno de cada valor de a e multiplica por 10.\n",
        "\n",
        "#Comparação elemento a elemento:\n",
        "a < 35"
      ],
      "metadata": {
        "colab": {
          "base_uri": "https://localhost:8080/"
        },
        "id": "nVNN2kqMFS5n",
        "outputId": "32b0da60-6fff-4e00-8f5e-48b924702ecb"
      },
      "execution_count": 36,
      "outputs": [
        {
          "output_type": "stream",
          "name": "stdout",
          "text": [
            "[0 1 2 3]\n",
            "[20 29 38 47]\n",
            "[0 1 4 9]\n",
            "[ 9.12945251 -9.88031624  7.4511316  -2.62374854]\n"
          ]
        },
        {
          "output_type": "execute_result",
          "data": {
            "text/plain": [
              "array([ True,  True, False, False])"
            ]
          },
          "metadata": {},
          "execution_count": 36
        }
      ]
    },
    {
      "cell_type": "code",
      "source": [
        "A = np.array([[1, 1],\n",
        " [0, 1]])\n",
        "\n",
        "\n",
        "B = np.array([[2, 0],\n",
        " [3, 4]])\n",
        "\n",
        "A * B"
      ],
      "metadata": {
        "colab": {
          "base_uri": "https://localhost:8080/"
        },
        "id": "B_Y_2NzZGeOn",
        "outputId": "17196440-556d-457a-d6bc-397edadab9e8"
      },
      "execution_count": 38,
      "outputs": [
        {
          "output_type": "execute_result",
          "data": {
            "text/plain": [
              "array([[2, 0],\n",
              "       [0, 4]])"
            ]
          },
          "metadata": {},
          "execution_count": 38
        }
      ]
    },
    {
      "cell_type": "code",
      "source": [
        "#Produto de matrizes (matricial) — com @ ou np.dot()\n",
        "\n",
        "print(A @ B)\n",
        "print(np.dot(A, B))"
      ],
      "metadata": {
        "colab": {
          "base_uri": "https://localhost:8080/"
        },
        "id": "K996Rt0BGy16",
        "outputId": "4e824e2e-aed1-480a-df4d-3559e9f4379f"
      },
      "execution_count": 39,
      "outputs": [
        {
          "output_type": "stream",
          "name": "stdout",
          "text": [
            "[[5 4]\n",
            " [3 4]]\n",
            "[[5 4]\n",
            " [3 4]]\n"
          ]
        }
      ]
    },
    {
      "cell_type": "markdown",
      "source": [
        "Página 10"
      ],
      "metadata": {
        "id": "hCQBPfGEG_g4"
      }
    },
    {
      "cell_type": "code",
      "source": [
        "#No NumPy, algumas operações como += e\n",
        "#*= modificam diretamente o array original, sem criar um novo.\n",
        "\n",
        "rg = np.random.default_rng(1)\n",
        "a = np.ones((2, 3), dtype=int)\n",
        "b = rg.random((2, 3))\n",
        "\n",
        "a *= 3\n",
        "print(a)\n",
        "\n",
        "b += a\n",
        "print(b)\n",
        "\n",
        "#b não é automaticamente  convertido para o tipo\n",
        "print(a += b)"
      ],
      "metadata": {
        "colab": {
          "base_uri": "https://localhost:8080/",
          "height": 106
        },
        "id": "5PsKZtrkHBQl",
        "outputId": "ac4ab1d1-9972-47f7-8938-18ece687a1b7"
      },
      "execution_count": 44,
      "outputs": [
        {
          "output_type": "error",
          "ename": "SyntaxError",
          "evalue": "invalid syntax (<ipython-input-44-63c11e0c6dad>, line 14)",
          "traceback": [
            "\u001b[0;36m  File \u001b[0;32m\"<ipython-input-44-63c11e0c6dad>\"\u001b[0;36m, line \u001b[0;32m14\u001b[0m\n\u001b[0;31m    print(a += b )\u001b[0m\n\u001b[0m            ^\u001b[0m\n\u001b[0;31mSyntaxError\u001b[0m\u001b[0;31m:\u001b[0m invalid syntax\n"
          ]
        }
      ]
    },
    {
      "cell_type": "code",
      "source": [
        "a = np.ones(3, dtype=np.int32)\n",
        "b = np.linspace(0, pi, 3)\n",
        "print(b.dtype.name)\n",
        "\n",
        "c = a + b\n",
        "print(c)\n",
        "#a é inteiro, b é float64, o resultado (c) será float64.\n",
        "\n",
        "\n",
        "# np.exp(c * 1j) calcula e^ix (forma de Euler).\n",
        "d = np.exp(c * 1j)\n",
        "print(d)\n",
        "d.dtype.name"
      ],
      "metadata": {
        "colab": {
          "base_uri": "https://localhost:8080/",
          "height": 88
        },
        "id": "mL7_WSz2IUq_",
        "outputId": "02c741ad-504f-417e-8ce3-195e8f103b02"
      },
      "execution_count": 49,
      "outputs": [
        {
          "output_type": "stream",
          "name": "stdout",
          "text": [
            "float64\n",
            "[1.         2.57079633 4.14159265]\n",
            "[ 0.54030231+0.84147098j -0.84147098+0.54030231j -0.54030231-0.84147098j]\n"
          ]
        },
        {
          "output_type": "execute_result",
          "data": {
            "text/plain": [
              "'complex128'"
            ],
            "application/vnd.google.colaboratory.intrinsic+json": {
              "type": "string"
            }
          },
          "metadata": {},
          "execution_count": 49
        }
      ]
    },
    {
      "cell_type": "code",
      "source": [
        "#Funções como .sum(), .min(), .max() são métodos aplicados a arrays NumPy.\n",
        "a = rg.random((2, 3))\n",
        "print(a)\n",
        "print(a.sum())\n",
        "print(a.min())\n",
        "print(a.max())"
      ],
      "metadata": {
        "colab": {
          "base_uri": "https://localhost:8080/"
        },
        "id": "gNd4EkAMJMJ7",
        "outputId": "ed4154a2-591a-4dc6-a599-79e5e6ca847b"
      },
      "execution_count": 54,
      "outputs": [
        {
          "output_type": "stream",
          "name": "stdout",
          "text": [
            "[[0.51606859 0.11586561 0.62348976]\n",
            " [0.77668311 0.6130033  0.9172977 ]]\n",
            "3.5624080737423904\n",
            "0.11586561247077032\n",
            "0.9172977047909027\n"
          ]
        }
      ]
    },
    {
      "cell_type": "markdown",
      "source": [
        "Página 11"
      ],
      "metadata": {
        "id": "8H_JCcOCJ_TM"
      }
    },
    {
      "cell_type": "code",
      "source": [
        "#Operações com o parâmetro axis\n",
        "#Por padrão, operações como sum(), min() ou max()\n",
        "#são aplicadas a todos os elementos do array, como se fosse uma lista única.\n",
        "\n",
        "#Mas, usando o argumento axis, você consegue especificar se quer operar:\n",
        "\n",
        "#por colunas (axis=0)\n",
        "\n",
        "#por linhas (axis=1)\n",
        "\n",
        "b = np.arange(12).reshape(3, 4)\n",
        "print(b)\n",
        "#Soma por coluna:\n",
        "print(b.sum(axis=0))\n",
        "#Mínimo por linha:\n",
        "print(b.min(axis=1))\n",
        "#Soma acumulada por linha:\n",
        "print(b.cumsum(axis=1))"
      ],
      "metadata": {
        "colab": {
          "base_uri": "https://localhost:8080/"
        },
        "id": "au6z_JtgKGd8",
        "outputId": "5eb31a10-fb7a-4a0f-bd45-b24aae53308c"
      },
      "execution_count": 55,
      "outputs": [
        {
          "output_type": "stream",
          "name": "stdout",
          "text": [
            "[[ 0  1  2  3]\n",
            " [ 4  5  6  7]\n",
            " [ 8  9 10 11]]\n",
            "[12 15 18 21]\n",
            "[0 4 8]\n",
            "[[ 0  1  3  6]\n",
            " [ 4  9 15 22]\n",
            " [ 8 17 27 38]]\n"
          ]
        }
      ]
    },
    {
      "cell_type": "code",
      "source": [
        "#As ufuncs são funções matemáticas prontas no NumPy\n",
        "#que operam elemento a elemento dos arrays, retornando um novo array.\n",
        "\n",
        "b = np.arange(3)\n",
        "print(b)\n",
        "#Exponencial\n",
        "print(np.exp(b))\n",
        "#Raiz Quadrada\n",
        "print(np.sqrt(b))\n",
        "\n",
        "#Soma elemento a elemento com outro array:\n",
        "c = np.array([2., -1., 4.])\n",
        "np.add(b, c)"
      ],
      "metadata": {
        "colab": {
          "base_uri": "https://localhost:8080/"
        },
        "id": "NQYxr4CBLt0g",
        "outputId": "568cbba4-d143-4ab1-d877-317cc1fc45c0"
      },
      "execution_count": 58,
      "outputs": [
        {
          "output_type": "stream",
          "name": "stdout",
          "text": [
            "[0 1 2]\n",
            "[1.         2.71828183 7.3890561 ]\n",
            "[0.         1.         1.41421356]\n"
          ]
        },
        {
          "output_type": "execute_result",
          "data": {
            "text/plain": [
              "array([2., 0., 6.])"
            ]
          },
          "metadata": {},
          "execution_count": 58
        }
      ]
    },
    {
      "cell_type": "markdown",
      "source": [
        "Página 12"
      ],
      "metadata": {
        "id": "HF6W7gUBMViA"
      }
    },
    {
      "cell_type": "markdown",
      "source": [
        "Indexação, fatiamento e iteração em arrays NumPy\n",
        "\n",
        "Arrays NumPy funcionam de forma semelhante a listas Python em termos de indexação, fatiamento e iteração — mas com alguns recursos adicionais bem interessantes."
      ],
      "metadata": {
        "id": "uW_9zaOhNBiC"
      }
    },
    {
      "cell_type": "code",
      "source": [
        "#Indexação e fatiamento em 1D\n",
        "#Um array unidimensional pode ser indexado e fatiado como uma lista:"
      ],
      "metadata": {
        "id": "jSV5BzIONHeb"
      },
      "execution_count": null,
      "outputs": []
    },
    {
      "cell_type": "code",
      "source": [
        "a = np.arange(10)**3\n",
        "print(a)\n",
        "\n",
        "#Acessar elemento:\n",
        "print(a[2])\n",
        "\n",
        "#Fatiar:\n",
        "print(a[2:5])\n",
        "\n",
        "#Alterar múltiplos valores via fatiamento:\n",
        "a[:6:2] = 1000\n",
        "print(a)\n",
        "\n",
        "#Inverter array:\n",
        "print(a[::-1])\n",
        "\n",
        "#Iterar sobre os elementos:\n",
        "\n",
        "for i in a:\n",
        "    print(i**(1/3))"
      ],
      "metadata": {
        "colab": {
          "base_uri": "https://localhost:8080/"
        },
        "id": "nw9Aibo9NKUq",
        "outputId": "363b4c6a-3319-4a20-eb71-874132c53aa6"
      },
      "execution_count": 65,
      "outputs": [
        {
          "output_type": "stream",
          "name": "stdout",
          "text": [
            "[  0   1   8  27  64 125 216 343 512 729]\n",
            "8\n",
            "[ 8 27 64]\n",
            "[1000    1 1000   27 1000  125  216  343  512  729]\n",
            "[ 729  512  343  216  125 1000   27 1000    1 1000]\n",
            "9.999999999999998\n",
            "1.0\n",
            "9.999999999999998\n",
            "3.0\n",
            "9.999999999999998\n",
            "4.999999999999999\n",
            "5.999999999999999\n",
            "6.999999999999999\n",
            "7.999999999999999\n",
            "8.999999999999998\n"
          ]
        }
      ]
    },
    {
      "cell_type": "markdown",
      "source": [
        "Indexação e fatiamento em arrays multidimensionais\n",
        "\n",
        "Em arrays multidimensionais, você pode usar uma tupla de índices:"
      ],
      "metadata": {
        "id": "pJbR2KbAN6SG"
      }
    },
    {
      "cell_type": "code",
      "source": [
        "def f(x, y):\n",
        "    return 10 * x + y\n",
        "\n",
        "b = np.fromfunction(f, (5, 4), dtype=int)\n",
        "print(b)\n",
        "\n",
        "#Acessar elemento [linha 2, coluna 3]:\n",
        "print(b[2, 3])\n",
        "\n",
        "b[0:5, 1]\n",
        "\n",
        "#Selecionar a segunda coluna inteira:\n",
        "print(b[:, 1])\n",
        "#Selecionar linhas 1 e 2, todas as colunas:\n",
        "print(b[1:3, :])\n",
        "#Última linha do array:\n",
        "print(b[-1])"
      ],
      "metadata": {
        "colab": {
          "base_uri": "https://localhost:8080/"
        },
        "id": "GZFVp9trNyZJ",
        "outputId": "45133d3b-bae6-4249-a786-234cc537af1a"
      },
      "execution_count": 72,
      "outputs": [
        {
          "output_type": "stream",
          "name": "stdout",
          "text": [
            "[[ 0  1  2  3]\n",
            " [10 11 12 13]\n",
            " [20 21 22 23]\n",
            " [30 31 32 33]\n",
            " [40 41 42 43]]\n",
            "23\n",
            "[ 1 11 21 31 41]\n",
            "[[10 11 12 13]\n",
            " [20 21 22 23]]\n",
            "[40 41 42 43]\n"
          ]
        }
      ]
    },
    {
      "cell_type": "markdown",
      "source": [
        "Página 13"
      ],
      "metadata": {
        "id": "ZRXT5huVO3u2"
      }
    },
    {
      "cell_type": "markdown",
      "source": [
        " Acessos com ... (reticências) em arrays multidimensionais NumPy\n",
        "\n",
        "Em NumPy, o operador ... (ellipsis) serve como um atalho para preencher com : todas as dimensões restantes que não foram especificadas na indexação.\n",
        "\n",
        "Como funciona:\n",
        "Se um array tem 5 eixos (dimensões), por exemplo:\n",
        "\n",
        "x[1, 2, ...] → equivale a x[1, 2, :, :, :]\n",
        "\n",
        "x[..., 3] → equivale a x[:, :, :, :, 3]\n",
        "\n",
        "x[4, ..., 5, :] → equivale a x[4, :, :, 5, :]\n",
        "\n",
        "Isso deixa o código mais compacto e legível, principalmente com arrays de alta dimensão."
      ],
      "metadata": {
        "id": "lzgQymZzPatm"
      }
    },
    {
      "cell_type": "code",
      "source": [
        "#Exemplo prático com array 3D:\n",
        "\n",
        "c = np.array([\n",
        "    [[  0,   1,   2],\n",
        "     [ 10,  12,  13]],\n",
        "\n",
        "    [[100, 101, 102],\n",
        "     [110, 112, 113]]\n",
        "])\n",
        "\n",
        "print(c.shape)\n",
        "\n",
        "#Acessos com reticências:\n",
        "print(c[1, ...]) #mesmo que c[1, :, :]\n",
        "\n",
        "c[..., 2]   # mesmo que c[:, :, 2]"
      ],
      "metadata": {
        "colab": {
          "base_uri": "https://localhost:8080/"
        },
        "id": "PfxNTlUqPMXx",
        "outputId": "4c77b056-1b85-45ed-a2c5-cb4a7e60b4e8"
      },
      "execution_count": 75,
      "outputs": [
        {
          "output_type": "stream",
          "name": "stdout",
          "text": [
            "(2, 2, 3)\n",
            "[[100 101 102]\n",
            " [110 112 113]]\n"
          ]
        },
        {
          "output_type": "execute_result",
          "data": {
            "text/plain": [
              "array([[  2,  13],\n",
              "       [102, 113]])"
            ]
          },
          "metadata": {},
          "execution_count": 75
        }
      ]
    },
    {
      "cell_type": "markdown",
      "source": [
        "Iteração em arrays multidimensionais\n",
        "Quando iteramos sobre um array multidimensional, o loop percorre a primeira dimensão (o primeiro eixo) e retorna arrays de dimensão reduzida."
      ],
      "metadata": {
        "id": "1CmX5V-nQc-L"
      }
    },
    {
      "cell_type": "code",
      "source": [
        "for row in b:\n",
        "    print(row)\n",
        "\n",
        "#Se quiser iterar sobre todos os elementos individualmente, use .flat:\n",
        "for element in b.flat:\n",
        "    print(element)"
      ],
      "metadata": {
        "colab": {
          "base_uri": "https://localhost:8080/"
        },
        "id": "uu3Y5sABQZzf",
        "outputId": "1cc4b8cf-e3cd-406d-ab0f-01936e401ea6"
      },
      "execution_count": 79,
      "outputs": [
        {
          "output_type": "stream",
          "name": "stdout",
          "text": [
            "[0 1 2 3]\n",
            "[10 11 12 13]\n",
            "[20 21 22 23]\n",
            "[30 31 32 33]\n",
            "[40 41 42 43]\n",
            "0\n",
            "1\n",
            "2\n",
            "3\n",
            "10\n",
            "11\n",
            "12\n",
            "13\n",
            "20\n",
            "21\n",
            "22\n",
            "23\n",
            "30\n",
            "31\n",
            "32\n",
            "33\n",
            "40\n",
            "41\n",
            "42\n",
            "43\n"
          ]
        }
      ]
    },
    {
      "cell_type": "markdown",
      "source": [
        "Página 14 2.3.1\n",
        "\n"
      ],
      "metadata": {
        "id": "oieAs2QlQyj0"
      }
    },
    {
      "cell_type": "markdown",
      "source": [
        " Formas e Transformações de Arrays no NumPy\n",
        "A forma (shape) de um array indica quantos elementos há em cada eixo (dimensão)."
      ],
      "metadata": {
        "id": "pZo66W4NReZr"
      }
    },
    {
      "cell_type": "code",
      "source": [
        "a = np.floor(10 * rg.random((3, 4)))\n",
        "print(a)\n",
        "print(a.shape)"
      ],
      "metadata": {
        "colab": {
          "base_uri": "https://localhost:8080/"
        },
        "id": "ZPkHOkOiQ0Pz",
        "outputId": "75451eb1-161e-449b-85ef-3d94a3e57f85"
      },
      "execution_count": 80,
      "outputs": [
        {
          "output_type": "stream",
          "name": "stdout",
          "text": [
            "[[0. 5. 4. 0.]\n",
            " [6. 8. 5. 2.]\n",
            " [8. 5. 5. 7.]]\n",
            "(3, 4)\n"
          ]
        }
      ]
    },
    {
      "cell_type": "markdown",
      "source": [
        "Mudança de forma sem alterar o conteúdo\n",
        "NumPy permite várias maneiras de reorganizar os dados:"
      ],
      "metadata": {
        "id": "boHHNbgQRnlL"
      }
    },
    {
      "cell_type": "code",
      "source": [
        "#ravel(): transforma o array em 1D (flatten)\n",
        "print(a.ravel())\n",
        "#reshape(): retorna uma nova visão do array com nova forma\n",
        "print(a.reshape(6, 2))\n",
        "#transposição (troca linhas por colunas)\n",
        "print(a.T)\n",
        "\n",
        "print(a.T.shape)\n",
        "print(a.shape)\n",
        "print(a)\n",
        "#Diferente de reshape(), resize() altera o array original:\n",
        "a.resize((2, 6))\n",
        "print(a)"
      ],
      "metadata": {
        "colab": {
          "base_uri": "https://localhost:8080/"
        },
        "id": "fNBspGidRkUA",
        "outputId": "24256f7e-077f-4022-ea4a-0e7c18575b7b"
      },
      "execution_count": 89,
      "outputs": [
        {
          "output_type": "stream",
          "name": "stdout",
          "text": [
            "[0. 5. 4. 0. 6. 8. 5. 2. 8. 5. 5. 7.]\n",
            "[[0. 5.]\n",
            " [4. 0.]\n",
            " [6. 8.]\n",
            " [5. 2.]\n",
            " [8. 5.]\n",
            " [5. 7.]]\n",
            "[[0. 5.]\n",
            " [5. 2.]\n",
            " [4. 8.]\n",
            " [0. 5.]\n",
            " [6. 5.]\n",
            " [8. 7.]]\n",
            "(6, 2)\n",
            "(2, 6)\n",
            "[[0. 5. 4. 0. 6. 8.]\n",
            " [5. 2. 8. 5. 5. 7.]]\n",
            "[[0. 5. 4. 0. 6. 8.]\n",
            " [5. 2. 8. 5. 5. 7.]]\n"
          ]
        }
      ]
    },
    {
      "cell_type": "code",
      "source": [
        "a.reshape(3,-1)"
      ],
      "metadata": {
        "colab": {
          "base_uri": "https://localhost:8080/"
        },
        "id": "FTeXwBcXTTWP",
        "outputId": "d533ed09-b645-403e-d1a4-3d4f3abd6f45"
      },
      "execution_count": 90,
      "outputs": [
        {
          "output_type": "execute_result",
          "data": {
            "text/plain": [
              "array([[0., 5., 4., 0.],\n",
              "       [6., 8., 5., 2.],\n",
              "       [8., 5., 5., 7.]])"
            ]
          },
          "metadata": {},
          "execution_count": 90
        }
      ]
    },
    {
      "cell_type": "markdown",
      "source": [
        "Página 15 2.3.2"
      ],
      "metadata": {
        "id": "f9PTDQxeTV8T"
      }
    },
    {
      "cell_type": "code",
      "source": [
        "#vstack() — empilha verticalmente (primeiro eixo)\n",
        "#Junta arrays adicionando-os como novas linhas.\n",
        "a = np.floor(10 * rg.random((2, 2)))\n",
        "b = np.floor(10 * rg.random((2, 2)))\n",
        "\n",
        "print(np.vstack((a, b)))\n",
        "\n",
        "#hstack() — empilha horizontalmente (segundo eixo)\n",
        "#Junta arrays lado a lado.\n",
        "print(np.hstack((a, b)))\n",
        "\n"
      ],
      "metadata": {
        "colab": {
          "base_uri": "https://localhost:8080/"
        },
        "id": "VPWUg9V-Td1B",
        "outputId": "743f4792-3e04-46b5-d591-66b3400f2d42"
      },
      "execution_count": 92,
      "outputs": [
        {
          "output_type": "stream",
          "name": "stdout",
          "text": [
            "[[8. 8.]\n",
            " [8. 4.]\n",
            " [2. 0.]\n",
            " [6. 7.]]\n",
            "[[8. 8. 2. 0.]\n",
            " [8. 4. 6. 7.]]\n"
          ]
        }
      ]
    },
    {
      "cell_type": "code",
      "source": [
        "#newaxis — cria nova dimensão (útil para empilhamento)\n",
        "from numpy import newaxis\n",
        "print(np.column_stack((a, b)))\n",
        "\n",
        "a = np.array([4., 2.])\n",
        "b = np.array([3., 8.])\n",
        "print(np.column_stack((a, b)) )\n",
        "\n",
        "print(np.hstack((a, b)))\n",
        "print(np.column_stack((a, b)) )\n",
        "\n",
        "print(a[:, newaxis])\n",
        "print(np.column_stack((a[:, newaxis], b[:, newaxis])))\n",
        "print(np.hstack((a[:, newaxis], b[:, newaxis])))\n"
      ],
      "metadata": {
        "colab": {
          "base_uri": "https://localhost:8080/"
        },
        "id": "-6FILmK0UAO_",
        "outputId": "7308d394-3ebf-4838-c82b-6f01d5945f25"
      },
      "execution_count": 97,
      "outputs": [
        {
          "output_type": "stream",
          "name": "stdout",
          "text": [
            "[[4. 3.]\n",
            " [2. 8.]]\n",
            "[[4. 3.]\n",
            " [2. 8.]]\n",
            "[4. 2. 3. 8.]\n",
            "[[4. 3.]\n",
            " [2. 8.]]\n",
            "[[4.]\n",
            " [2.]]\n",
            "[[4. 3.]\n",
            " [2. 8.]]\n",
            "[[4. 3.]\n",
            " [2. 8.]]\n"
          ]
        }
      ]
    },
    {
      "cell_type": "code",
      "source": [
        "#r_ e c_ — atalhos convenientes para empilhar números e arrays\n",
        "#permitem usar notação tipo fatia :\n",
        "np.r_[1:4, 0, 4]"
      ],
      "metadata": {
        "colab": {
          "base_uri": "https://localhost:8080/"
        },
        "id": "hs9X5pTzVO6J",
        "outputId": "bd307a6e-6c59-45d5-8fc4-dcb3966a46a1"
      },
      "execution_count": 98,
      "outputs": [
        {
          "output_type": "execute_result",
          "data": {
            "text/plain": [
              "array([1, 2, 3, 0, 4])"
            ]
          },
          "metadata": {},
          "execution_count": 98
        }
      ]
    },
    {
      "cell_type": "markdown",
      "source": [
        "PÁGINA 16 2.3.3"
      ],
      "metadata": {
        "id": "vmNDL631VZeb"
      }
    },
    {
      "cell_type": "markdown",
      "source": [
        "Dividindo Arrays no NumPy com hsplit()\n",
        "A função hsplit() permite dividir um array ao longo do eixo horizontal (segundo eixo).\n",
        "Você pode dividir:\n",
        "\n",
        "Em um número igual de partes\n",
        "\n",
        "Ou especificar os índices das colunas onde as divisões devem acontecer."
      ],
      "metadata": {
        "id": "rUGqhwwEV_4e"
      }
    },
    {
      "cell_type": "code",
      "source": [
        "#Dividir em partes iguais\n",
        "a = np.floor(10 * rg.random((2, 12)))\n",
        "print(a)\n",
        "\n",
        "#Dividir em 3 partes horizontais:\n",
        "print(np.hsplit(a, 3))\n",
        "\n",
        "#Dividir em posições específicas\n",
        "#Você pode informar as posições das colunas onde deseja cortar:\n",
        "print(np.hsplit(a, (3, 4)))"
      ],
      "metadata": {
        "colab": {
          "base_uri": "https://localhost:8080/"
        },
        "id": "MDVZn1C_VdjN",
        "outputId": "d67a6ca2-296c-4d9b-c70d-ef90f2546e48"
      },
      "execution_count": 99,
      "outputs": [
        {
          "output_type": "stream",
          "name": "stdout",
          "text": [
            "[[8. 2. 2. 6. 8. 9. 1. 4. 8. 4. 5. 0.]\n",
            " [6. 9. 8. 8. 6. 2. 7. 2. 8. 0. 8. 1.]]\n",
            "[array([[8., 2., 2., 6.],\n",
            "       [6., 9., 8., 8.]]), array([[8., 9., 1., 4.],\n",
            "       [6., 2., 7., 2.]]), array([[8., 4., 5., 0.],\n",
            "       [8., 0., 8., 1.]])]\n",
            "[array([[8., 2., 2.],\n",
            "       [6., 9., 8.]]), array([[6.],\n",
            "       [8.]]), array([[8., 9., 1., 4., 8., 4., 5., 0.],\n",
            "       [6., 2., 7., 2., 8., 0., 8., 1.]])]\n"
          ]
        }
      ]
    },
    {
      "cell_type": "markdown",
      "source": [
        "PÁGINA 17 2.4.1"
      ],
      "metadata": {
        "id": "VJPFfvNMWDdy"
      }
    },
    {
      "cell_type": "code",
      "source": [
        "#Simples atribuições não criam novas cópias do array nem de seus dados.\n",
        "a = np.array([[0, 1, 2, 3],\n",
        "              [4, 5, 6, 7],\n",
        "              [8, 9, 10, 11]])\n",
        "\n",
        "b = a\n",
        "print(b is a)\n",
        "#a e b são nomes diferentes para o mesmo objeto na memória."
      ],
      "metadata": {
        "colab": {
          "base_uri": "https://localhost:8080/"
        },
        "id": "-Wo86f-ZWCNw",
        "outputId": "09a20dcd-ecca-4771-8e59-49fdb6c53e45"
      },
      "execution_count": 101,
      "outputs": [
        {
          "output_type": "stream",
          "name": "stdout",
          "text": [
            "True\n"
          ]
        }
      ]
    },
    {
      "cell_type": "code",
      "source": [
        "def f(x):\n",
        "  print(id(x))\n",
        "print(id(a))\n",
        "print(f(a))"
      ],
      "metadata": {
        "colab": {
          "base_uri": "https://localhost:8080/"
        },
        "id": "Ls1WMHEcWl48",
        "outputId": "3c71d5f3-3b83-4bcc-e8b0-7b9313f5bb60"
      },
      "execution_count": 106,
      "outputs": [
        {
          "output_type": "stream",
          "name": "stdout",
          "text": [
            "135664726335312\n",
            "135664726335312\n",
            "None\n"
          ]
        }
      ]
    },
    {
      "cell_type": "markdown",
      "source": [
        "Diferentes objetos podem compartilhar os mesmos dados. A função view() cria um novo array com o mesmo conteúdo."
      ],
      "metadata": {
        "id": "zxT_rkmAXGPK"
      }
    },
    {
      "cell_type": "code",
      "source": [
        "c = a.view()\n",
        "print(c is a)\n",
        "print(c.base is a)\n",
        "print(c.flags.owndata)\n",
        "\n",
        "#Se alterar a forma de c, isso não afeta a.\n",
        "#Mas se alterar os dados, ambos são afetados.\n",
        "c = c.reshape((2, 6))\n",
        "a.shape\n",
        "\n",
        "c[0, 4] = 1234\n",
        "print(a)\n",
        "#a também terá esse valor alterado, porque compartilham os mesmos dados."
      ],
      "metadata": {
        "colab": {
          "base_uri": "https://localhost:8080/"
        },
        "id": "X-AgGHQGXG6W",
        "outputId": "dfea0eed-7b41-40e1-aeba-022c460b00df"
      },
      "execution_count": 109,
      "outputs": [
        {
          "output_type": "stream",
          "name": "stdout",
          "text": [
            "False\n",
            "True\n",
            "False\n",
            "[[   0    1    2    3]\n",
            " [1234    5    6    7]\n",
            " [   8    9   10   11]]\n"
          ]
        }
      ]
    },
    {
      "cell_type": "code",
      "source": [
        "#Fatiamentos em NumPy retornam views, não cópias.\n",
        "\n",
        "s = a[:, 1:3]\n",
        "s[:] = 10\n",
        "print(a)\n",
        "#Isso modifica a diretamente."
      ],
      "metadata": {
        "colab": {
          "base_uri": "https://localhost:8080/"
        },
        "id": "aWOEjKYPXpJc",
        "outputId": "3b30e675-8023-4a63-b13e-ac4253a69700"
      },
      "execution_count": 110,
      "outputs": [
        {
          "output_type": "stream",
          "name": "stdout",
          "text": [
            "[[   0   10   10    3]\n",
            " [1234   10   10    7]\n",
            " [   8   10   10   11]]\n"
          ]
        }
      ]
    },
    {
      "cell_type": "markdown",
      "source": [
        "Página 18 2.4.3"
      ],
      "metadata": {
        "id": "220aDlF0YIrM"
      }
    },
    {
      "cell_type": "code",
      "source": [
        "#Para garantir uma cópia independente, use copy()\n",
        "d = a.copy()\n",
        "print(d is a)\n",
        "print(d.base is a)\n",
        "print(d.flags.owndata)\n",
        "# Agora, mudanças em d não afetam a, pois os dados são independentes."
      ],
      "metadata": {
        "colab": {
          "base_uri": "https://localhost:8080/"
        },
        "id": "XL5QgZ1KXznp",
        "outputId": "37684e1f-567f-4d7d-ee04-85ee68f3ddf8"
      },
      "execution_count": 111,
      "outputs": [
        {
          "output_type": "stream",
          "name": "stdout",
          "text": [
            "False\n",
            "False\n",
            "True\n"
          ]
        }
      ]
    },
    {
      "cell_type": "code",
      "source": [
        "a = np.arange(int(1e8))   # Array grande com 100 milhões de elementos\n",
        "b = a[:100].copy()  # Apenas uma view dos primeiros 100 elementos, # Faz uma cópia independente dos dados\n",
        "del a  # Tentativa de liberar a memória # Agora a memória de `a` será liberada, pois b é independente\n"
      ],
      "metadata": {
        "id": "lI3Wwo5jYA6c"
      },
      "execution_count": 114,
      "outputs": []
    }
  ]
}