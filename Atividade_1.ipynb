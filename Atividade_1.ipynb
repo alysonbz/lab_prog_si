{
  "nbformat": 4,
  "nbformat_minor": 0,
  "metadata": {
    "colab": {
      "provenance": [],
      "authorship_tag": "ABX9TyOXUyvDtXoqLytbN/cMGDT6",
      "include_colab_link": true
    },
    "kernelspec": {
      "name": "python3",
      "display_name": "Python 3"
    },
    "language_info": {
      "name": "python"
    }
  },
  "cells": [
    {
      "cell_type": "markdown",
      "metadata": {
        "id": "view-in-github",
        "colab_type": "text"
      },
      "source": [
        "<a href=\"https://colab.research.google.com/github/alysonbz/lab_prog_si/blob/joao_pedro/Atividade_1.ipynb\" target=\"_parent\"><img src=\"https://colab.research.google.com/assets/colab-badge.svg\" alt=\"Open In Colab\"/></a>"
      ]
    },
    {
      "cell_type": "code",
      "execution_count": null,
      "metadata": {
        "id": "CRkzL_Pgx_5z"
      },
      "outputs": [],
      "source": [
        "#Questão 1\n",
        "\n",
        "# Example\n",
        "print(5 / 8)"
      ]
    },
    {
      "cell_type": "code",
      "source": [
        "#Questão 2\n",
        "\n",
        "print(5+8)"
      ],
      "metadata": {
        "colab": {
          "base_uri": "https://localhost:8080/"
        },
        "id": "QjV1gu5-yDhJ",
        "outputId": "2cf508a0-b0ea-4fee-951e-29182ed2e529"
      },
      "execution_count": 1,
      "outputs": [
        {
          "output_type": "stream",
          "name": "stdout",
          "text": [
            "13\n"
          ]
        }
      ]
    },
    {
      "cell_type": "code",
      "source": [
        "#Questão 3\n",
        "\n",
        "print('5+8')\n",
        "print(5-8)"
      ],
      "metadata": {
        "colab": {
          "base_uri": "https://localhost:8080/"
        },
        "id": "Xd0e7U_Lyhvx",
        "outputId": "f98778e5-ed47-47c0-ba65-aef711b1c38c"
      },
      "execution_count": 2,
      "outputs": [
        {
          "output_type": "stream",
          "name": "stdout",
          "text": [
            "5+8\n",
            "-3\n"
          ]
        }
      ]
    },
    {
      "cell_type": "code",
      "source": [
        "#Questão 4\n",
        "\n",
        "multiplicacao = (5*3)\n",
        "potencia = (5**3)\n",
        "R_divisao = (5%3)\n",
        "print(multiplicacao)\n",
        "print(potencia)\n",
        "print(R_divisao)"
      ],
      "metadata": {
        "id": "Py2aTQD8yq9L"
      },
      "execution_count": null,
      "outputs": []
    },
    {
      "cell_type": "code",
      "source": [
        "#Questão 5\n",
        "\n",
        "ínicio = 100\n",
        "resultado = 100*(1.1**7)\n",
        "print('dinheiro total: ',resultado)\n",
        "print('dinheiro rendido: ', resultado - ínicio)"
      ],
      "metadata": {
        "id": "qTduFWljzFAQ"
      },
      "execution_count": null,
      "outputs": []
    },
    {
      "cell_type": "code",
      "source": [
        "#Questão 6\n",
        "\n",
        "savings = 100\n",
        "growth_multiplier = 1.1\n",
        "desc = \"compound interest\"\n",
        "year1 = savings * growth_multiplier\n",
        "print(year1)\n",
        "print(type(year1))\n",
        "doubledesc = desc + desc\n",
        "print(doubledesc)"
      ],
      "metadata": {
        "colab": {
          "base_uri": "https://localhost:8080/"
        },
        "id": "k9njRbhOzQBQ",
        "outputId": "3ec6df72-d9ea-4cdf-813d-60a0f5a50d34"
      },
      "execution_count": 8,
      "outputs": [
        {
          "output_type": "stream",
          "name": "stdout",
          "text": [
            "110.00000000000001\n",
            "<class 'float'>\n",
            "compound interestcompound interest\n"
          ]
        }
      ]
    },
    {
      "cell_type": "code",
      "source": [
        "#Questão 7\n",
        "\n",
        "pi_string = \"3.1415926\"\n",
        "pi_float = float(pi_string)\n",
        "print(pi_float)\n",
        "print(pi_string)"
      ],
      "metadata": {
        "colab": {
          "base_uri": "https://localhost:8080/"
        },
        "id": "hy3H4znR1Lce",
        "outputId": "b05ba805-213e-45de-9ea4-6a792c56166f"
      },
      "execution_count": 16,
      "outputs": [
        {
          "output_type": "stream",
          "name": "stdout",
          "text": [
            "3.1415926\n",
            "3.1415926\n"
          ]
        }
      ]
    },
    {
      "cell_type": "code",
      "source": [
        "#Questão 8\n",
        "\n",
        "savings = 100\n",
        "result = 100 * 1.10 ** 7\n",
        "print(\"I started with $\" + savings + \" and now have $\" + result + \". Awesome!\")"
      ],
      "metadata": {
        "colab": {
          "base_uri": "https://localhost:8080/",
          "height": 176
        },
        "id": "-x7qbfhg1fdN",
        "outputId": "02cd2f37-0880-4127-f978-768ba63c567b"
      },
      "execution_count": 13,
      "outputs": [
        {
          "output_type": "error",
          "ename": "TypeError",
          "evalue": "can only concatenate str (not \"int\") to str",
          "traceback": [
            "\u001b[0;31m---------------------------------------------------------------------------\u001b[0m",
            "\u001b[0;31mTypeError\u001b[0m                                 Traceback (most recent call last)",
            "\u001b[0;32m<ipython-input-13-0327f4a39e5e>\u001b[0m in \u001b[0;36m<cell line: 0>\u001b[0;34m()\u001b[0m\n\u001b[1;32m      3\u001b[0m \u001b[0msavings\u001b[0m \u001b[0;34m=\u001b[0m \u001b[0;36m100\u001b[0m\u001b[0;34m\u001b[0m\u001b[0;34m\u001b[0m\u001b[0m\n\u001b[1;32m      4\u001b[0m \u001b[0mresult\u001b[0m \u001b[0;34m=\u001b[0m \u001b[0;36m100\u001b[0m \u001b[0;34m*\u001b[0m \u001b[0;36m1.10\u001b[0m \u001b[0;34m**\u001b[0m \u001b[0;36m7\u001b[0m\u001b[0;34m\u001b[0m\u001b[0;34m\u001b[0m\u001b[0m\n\u001b[0;32m----> 5\u001b[0;31m \u001b[0mprint\u001b[0m\u001b[0;34m(\u001b[0m\u001b[0;34m\"I started with $\"\u001b[0m \u001b[0;34m+\u001b[0m \u001b[0msavings\u001b[0m \u001b[0;34m+\u001b[0m \u001b[0;34m\" and now have $\"\u001b[0m \u001b[0;34m+\u001b[0m \u001b[0mresult\u001b[0m \u001b[0;34m+\u001b[0m \u001b[0;34m\". Awesome!\"\u001b[0m\u001b[0;34m)\u001b[0m\u001b[0;34m\u001b[0m\u001b[0;34m\u001b[0m\u001b[0m\n\u001b[0m",
            "\u001b[0;31mTypeError\u001b[0m: can only concatenate str (not \"int\") to str"
          ]
        }
      ]
    },
    {
      "cell_type": "code",
      "source": [
        "#Questão 9\n",
        "\n",
        "savings = 100\n",
        "result = 100 * 1.10 ** 7\n",
        "print(\"I started with $\" + str(savings) + \" and now have $\" + str(result) + \". Awesome!\")"
      ],
      "metadata": {
        "colab": {
          "base_uri": "https://localhost:8080/"
        },
        "id": "inaeJZgS2h3_",
        "outputId": "2ecae2ee-ffe9-498c-a72c-5f17e917eaed"
      },
      "execution_count": 14,
      "outputs": [
        {
          "output_type": "stream",
          "name": "stdout",
          "text": [
            "I started with $100 and now have $194.87171000000012. Awesome!\n"
          ]
        }
      ]
    },
    {
      "cell_type": "code",
      "source": [
        "#Questão 10\n",
        "#item c)\n",
        "print(\"The correct answer to this mutiple choice exercise is answer number\"+2)\n"
      ],
      "metadata": {
        "colab": {
          "base_uri": "https://localhost:8080/",
          "height": 176
        },
        "id": "Ob9QKrjS2qwV",
        "outputId": "444d994a-7a0c-426e-b6c7-0b5ec690fe1b"
      },
      "execution_count": 15,
      "outputs": [
        {
          "output_type": "error",
          "ename": "TypeError",
          "evalue": "can only concatenate str (not \"int\") to str",
          "traceback": [
            "\u001b[0;31m---------------------------------------------------------------------------\u001b[0m",
            "\u001b[0;31mTypeError\u001b[0m                                 Traceback (most recent call last)",
            "\u001b[0;32m<ipython-input-15-47c22852bbb9>\u001b[0m in \u001b[0;36m<cell line: 0>\u001b[0;34m()\u001b[0m\n\u001b[1;32m      1\u001b[0m \u001b[0;31m#Questão 10\u001b[0m\u001b[0;34m\u001b[0m\u001b[0;34m\u001b[0m\u001b[0m\n\u001b[1;32m      2\u001b[0m \u001b[0;31m#item c)\u001b[0m\u001b[0;34m\u001b[0m\u001b[0;34m\u001b[0m\u001b[0m\n\u001b[0;32m----> 3\u001b[0;31m \u001b[0mprint\u001b[0m\u001b[0;34m(\u001b[0m\u001b[0;34m\"The correct answer to this mutiple choice exercise is answer number\"\u001b[0m\u001b[0;34m+\u001b[0m\u001b[0;36m2\u001b[0m\u001b[0;34m)\u001b[0m\u001b[0;34m\u001b[0m\u001b[0;34m\u001b[0m\u001b[0m\n\u001b[0m",
            "\u001b[0;31mTypeError\u001b[0m: can only concatenate str (not \"int\") to str"
          ]
        }
      ]
    }
  ]
}