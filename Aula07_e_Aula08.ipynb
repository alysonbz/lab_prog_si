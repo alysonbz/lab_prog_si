{
  "nbformat": 4,
  "nbformat_minor": 0,
  "metadata": {
    "colab": {
      "provenance": [],
      "authorship_tag": "ABX9TyM/FPDmtToK6w5VjBYRQ0Z/",
      "include_colab_link": true
    },
    "kernelspec": {
      "name": "python3",
      "display_name": "Python 3"
    },
    "language_info": {
      "name": "python"
    }
  },
  "cells": [
    {
      "cell_type": "markdown",
      "metadata": {
        "id": "view-in-github",
        "colab_type": "text"
      },
      "source": [
        "<a href=\"https://colab.research.google.com/github/alysonbz/lab_prog_si/blob/Thiago_Gomes/Aula07_e_Aula08.ipynb\" target=\"_parent\"><img src=\"https://colab.research.google.com/assets/colab-badge.svg\" alt=\"Open In Colab\"/></a>"
      ]
    },
    {
      "cell_type": "markdown",
      "source": [
        "Exemplos de bibliotecas"
      ],
      "metadata": {
        "id": "4uvVFxOk9JHC"
      }
    },
    {
      "cell_type": "code",
      "source": [
        "#EX: 01\n",
        "import numpy\n",
        "array ([1,2,3])"
      ],
      "metadata": {
        "colab": {
          "base_uri": "https://localhost:8080/",
          "height": 176
        },
        "id": "bcrF1G0kCibB",
        "outputId": "d4efb852-9e49-4a05-8532-fb43627825f0"
      },
      "execution_count": 7,
      "outputs": [
        {
          "output_type": "error",
          "ename": "NameError",
          "evalue": "name 'array' is not defined",
          "traceback": [
            "\u001b[0;31m---------------------------------------------------------------------------\u001b[0m",
            "\u001b[0;31mNameError\u001b[0m                                 Traceback (most recent call last)",
            "\u001b[0;32m<ipython-input-7-2a88fb875887>\u001b[0m in \u001b[0;36m<cell line: 0>\u001b[0;34m()\u001b[0m\n\u001b[1;32m      1\u001b[0m \u001b[0;31m#EX: 01\u001b[0m\u001b[0;34m\u001b[0m\u001b[0;34m\u001b[0m\u001b[0m\n\u001b[1;32m      2\u001b[0m \u001b[0;32mimport\u001b[0m \u001b[0mnumpy\u001b[0m\u001b[0;34m\u001b[0m\u001b[0;34m\u001b[0m\u001b[0m\n\u001b[0;32m----> 3\u001b[0;31m \u001b[0marray\u001b[0m \u001b[0;34m(\u001b[0m\u001b[0;34m[\u001b[0m\u001b[0;36m1\u001b[0m\u001b[0;34m,\u001b[0m\u001b[0;36m2\u001b[0m\u001b[0;34m,\u001b[0m\u001b[0;36m3\u001b[0m\u001b[0;34m]\u001b[0m\u001b[0;34m)\u001b[0m\u001b[0;34m\u001b[0m\u001b[0;34m\u001b[0m\u001b[0m\n\u001b[0m",
            "\u001b[0;31mNameError\u001b[0m: name 'array' is not defined"
          ]
        }
      ]
    },
    {
      "cell_type": "code",
      "source": [
        "#EX: 02\n",
        "import numpy as np\n",
        "np.array([1,2,3])"
      ],
      "metadata": {
        "colab": {
          "base_uri": "https://localhost:8080/"
        },
        "id": "DXKNYDeGDymZ",
        "outputId": "3a4d09e5-0839-47c3-de79-adf5e501a503"
      },
      "execution_count": 8,
      "outputs": [
        {
          "output_type": "execute_result",
          "data": {
            "text/plain": [
              "array([1, 2, 3])"
            ]
          },
          "metadata": {},
          "execution_count": 8
        }
      ]
    },
    {
      "cell_type": "code",
      "source": [
        "#EX: 03\n",
        "numpy.array([1,2,3])"
      ],
      "metadata": {
        "colab": {
          "base_uri": "https://localhost:8080/"
        },
        "id": "JrTMQdUOD9mo",
        "outputId": "42b93b72-93a8-46a2-a018-576c320fdb26"
      },
      "execution_count": 9,
      "outputs": [
        {
          "output_type": "execute_result",
          "data": {
            "text/plain": [
              "array([1, 2, 3])"
            ]
          },
          "metadata": {},
          "execution_count": 9
        }
      ]
    },
    {
      "cell_type": "code",
      "source": [
        "#EX: 04\n",
        "from numpy import array\n",
        "array([1,2,3])"
      ],
      "metadata": {
        "colab": {
          "base_uri": "https://localhost:8080/"
        },
        "id": "6Oe1DLMUEORR",
        "outputId": "082d0ade-eba2-45f7-80aa-b353557f4823"
      },
      "execution_count": 10,
      "outputs": [
        {
          "output_type": "execute_result",
          "data": {
            "text/plain": [
              "array([1, 2, 3])"
            ]
          },
          "metadata": {},
          "execution_count": 10
        }
      ]
    },
    {
      "cell_type": "markdown",
      "source": [
        "Atividade de bibliotecas aula07"
      ],
      "metadata": {
        "id": "Msi8POUaFQST"
      }
    },
    {
      "cell_type": "code",
      "source": [
        "r = 0.43\n",
        "c = 0\n",
        "a = 0\n",
        "\n",
        "#1) na linha 5 importe a biblioteca math\n",
        "import math\n",
        "\n",
        "#2) calcule o comprimento de uma circunferencia e armazene o resultado em c obs c = 2*math.pi*r\n",
        "c = 2*math.pi*r\n",
        "\n",
        "#3) calcule o resultado da circunferencia e armazene em a\n",
        "a = math.pi*r**2\n",
        "\n",
        "print(c)\n",
        "print(a)\n"
      ],
      "metadata": {
        "colab": {
          "base_uri": "https://localhost:8080/"
        },
        "id": "M8L7vBcFFex7",
        "outputId": "5ef06680-c1e2-44e0-8620-0a0649677e6e"
      },
      "execution_count": 11,
      "outputs": [
        {
          "output_type": "stream",
          "name": "stdout",
          "text": [
            "2.701769682087222\n",
            "0.5808804816487527\n"
          ]
        }
      ]
    },
    {
      "cell_type": "markdown",
      "source": [
        "Exemplos de bibliotecas aula 08"
      ],
      "metadata": {
        "id": "OGgh-CSqIRUJ"
      }
    },
    {
      "cell_type": "code",
      "source": [
        "#EX: 01\n",
        "height = [1.73, 1.68, 1.71, 1.79, 1.90]\n",
        "print(height)\n",
        "\n",
        "weight = [65.4, 59.2, 63.6, 88.4, 68.7]\n",
        "print(weight)\n",
        "\n",
        "print (weight / height ** 2)\n"
      ],
      "metadata": {
        "colab": {
          "base_uri": "https://localhost:8080/",
          "height": 211
        },
        "id": "eVq5_lmcIbmw",
        "outputId": "ace1b81c-b628-429b-d9e9-483e59ea1311"
      },
      "execution_count": 28,
      "outputs": [
        {
          "output_type": "stream",
          "name": "stdout",
          "text": [
            "[1.73, 1.68, 1.71, 1.79, 1.9]\n",
            "[65.4, 59.2, 63.6, 88.4, 68.7]\n"
          ]
        },
        {
          "output_type": "error",
          "ename": "TypeError",
          "evalue": "unsupported operand type(s) for ** or pow(): 'list' and 'int'",
          "traceback": [
            "\u001b[0;31m---------------------------------------------------------------------------\u001b[0m",
            "\u001b[0;31mTypeError\u001b[0m                                 Traceback (most recent call last)",
            "\u001b[0;32m<ipython-input-28-4275aa05f182>\u001b[0m in \u001b[0;36m<cell line: 0>\u001b[0;34m()\u001b[0m\n\u001b[1;32m      6\u001b[0m \u001b[0mprint\u001b[0m\u001b[0;34m(\u001b[0m\u001b[0mweight\u001b[0m\u001b[0;34m)\u001b[0m\u001b[0;34m\u001b[0m\u001b[0;34m\u001b[0m\u001b[0m\n\u001b[1;32m      7\u001b[0m \u001b[0;34m\u001b[0m\u001b[0m\n\u001b[0;32m----> 8\u001b[0;31m \u001b[0mprint\u001b[0m \u001b[0;34m(\u001b[0m\u001b[0mweight\u001b[0m \u001b[0;34m/\u001b[0m \u001b[0mheight\u001b[0m \u001b[0;34m**\u001b[0m \u001b[0;36m2\u001b[0m\u001b[0;34m)\u001b[0m\u001b[0;34m\u001b[0m\u001b[0;34m\u001b[0m\u001b[0m\n\u001b[0m",
            "\u001b[0;31mTypeError\u001b[0m: unsupported operand type(s) for ** or pow(): 'list' and 'int'"
          ]
        }
      ]
    },
    {
      "cell_type": "code",
      "source": [
        "#EX: 02\n",
        "import numpy as np\n",
        "np_height = np.array(height)\n",
        "print (np_height)\n",
        "\n",
        "np_weight = np.array(weight)\n",
        "print (np_weight)\n",
        "np_weight + np.array(weight)\n",
        "\n",
        "bmi = np_weight / np_height ** 2\n",
        "print (bmi)\n"
      ],
      "metadata": {
        "colab": {
          "base_uri": "https://localhost:8080/"
        },
        "id": "CxwUNKyqKxso",
        "outputId": "6c26ed45-52df-4aa5-9feb-8d98d20e7133"
      },
      "execution_count": 29,
      "outputs": [
        {
          "output_type": "stream",
          "name": "stdout",
          "text": [
            "[1.73 1.68 1.71 1.79 1.9 ]\n",
            "[65.4 59.2 63.6 88.4 68.7]\n",
            "[21.85171573 20.97505669 21.75028214 27.58965076 19.03047091]\n"
          ]
        }
      ]
    },
    {
      "cell_type": "code",
      "source": [
        "#EX: 03\n",
        "python_list = [1,2,3]\n",
        "numpy_array = np.array([1,2,3])\n",
        "\n",
        "print (python_list + python_list)\n"
      ],
      "metadata": {
        "colab": {
          "base_uri": "https://localhost:8080/"
        },
        "id": "wtwl8we6L0nB",
        "outputId": "35144397-26e7-453f-8aa8-cb847ff0589a"
      },
      "execution_count": 32,
      "outputs": [
        {
          "output_type": "stream",
          "name": "stdout",
          "text": [
            "[1, 2, 3, 1, 2, 3]\n"
          ]
        }
      ]
    },
    {
      "cell_type": "code",
      "source": [
        "#EX: 04\n",
        "print (bmi)\n",
        "print (bmi[1])\n",
        "print (bmi > 23)\n",
        "print (bmi[bmi > 23])"
      ],
      "metadata": {
        "colab": {
          "base_uri": "https://localhost:8080/"
        },
        "id": "vu2AKiPDMUrZ",
        "outputId": "75f281ce-5785-4469-85f0-331ff031fb7c"
      },
      "execution_count": 30,
      "outputs": [
        {
          "output_type": "stream",
          "name": "stdout",
          "text": [
            "[21.85171573 20.97505669 21.75028214 27.58965076 19.03047091]\n",
            "20.97505668934241\n",
            "[False False False  True False]\n",
            "[27.58965076]\n"
          ]
        }
      ]
    },
    {
      "cell_type": "code",
      "source": [
        "#EX: 05\n",
        "np_2d = np.array([[1.73, 1.71, 1.79, 1.9], [65.4, 59.2, 63.6, 88.4, 68.7,]])\n",
        "print (np_2d)\n",
        "print (np_2d.shape)\n",
        "\n",
        "#so é possivel ter arrays caso as listas que o compoem tenham o mesmo numero de elementos caso contrário dará erro"
      ],
      "metadata": {
        "colab": {
          "base_uri": "https://localhost:8080/",
          "height": 193
        },
        "id": "5VP3NoMLKxEM",
        "outputId": "1b9d61eb-5d1c-467a-c29f-f6651b095a14"
      },
      "execution_count": 34,
      "outputs": [
        {
          "output_type": "error",
          "ename": "ValueError",
          "evalue": "setting an array element with a sequence. The requested array has an inhomogeneous shape after 1 dimensions. The detected shape was (2,) + inhomogeneous part.",
          "traceback": [
            "\u001b[0;31m---------------------------------------------------------------------------\u001b[0m",
            "\u001b[0;31mValueError\u001b[0m                                Traceback (most recent call last)",
            "\u001b[0;32m<ipython-input-34-f5bf0862e9e4>\u001b[0m in \u001b[0;36m<cell line: 0>\u001b[0;34m()\u001b[0m\n\u001b[1;32m      1\u001b[0m \u001b[0;31m#EX: 05\u001b[0m\u001b[0;34m\u001b[0m\u001b[0;34m\u001b[0m\u001b[0m\n\u001b[0;32m----> 2\u001b[0;31m \u001b[0mnp_2d\u001b[0m \u001b[0;34m=\u001b[0m \u001b[0mnp\u001b[0m\u001b[0;34m.\u001b[0m\u001b[0marray\u001b[0m\u001b[0;34m(\u001b[0m\u001b[0;34m[\u001b[0m\u001b[0;34m[\u001b[0m\u001b[0;36m1.73\u001b[0m\u001b[0;34m,\u001b[0m \u001b[0;36m1.71\u001b[0m\u001b[0;34m,\u001b[0m \u001b[0;36m1.79\u001b[0m\u001b[0;34m,\u001b[0m \u001b[0;36m1.9\u001b[0m\u001b[0;34m]\u001b[0m\u001b[0;34m,\u001b[0m \u001b[0;34m[\u001b[0m\u001b[0;36m65.4\u001b[0m\u001b[0;34m,\u001b[0m \u001b[0;36m59.2\u001b[0m\u001b[0;34m,\u001b[0m \u001b[0;36m63.6\u001b[0m\u001b[0;34m,\u001b[0m \u001b[0;36m88.4\u001b[0m\u001b[0;34m,\u001b[0m \u001b[0;36m68.7\u001b[0m\u001b[0;34m,\u001b[0m\u001b[0;34m]\u001b[0m\u001b[0;34m]\u001b[0m\u001b[0;34m)\u001b[0m\u001b[0;34m\u001b[0m\u001b[0;34m\u001b[0m\u001b[0m\n\u001b[0m\u001b[1;32m      3\u001b[0m \u001b[0mprint\u001b[0m \u001b[0;34m(\u001b[0m\u001b[0mnp_2d\u001b[0m\u001b[0;34m)\u001b[0m\u001b[0;34m\u001b[0m\u001b[0;34m\u001b[0m\u001b[0m\n\u001b[1;32m      4\u001b[0m \u001b[0mprint\u001b[0m \u001b[0;34m(\u001b[0m\u001b[0mnp_2d\u001b[0m\u001b[0;34m.\u001b[0m\u001b[0mshape\u001b[0m\u001b[0;34m)\u001b[0m\u001b[0;34m\u001b[0m\u001b[0;34m\u001b[0m\u001b[0m\n",
            "\u001b[0;31mValueError\u001b[0m: setting an array element with a sequence. The requested array has an inhomogeneous shape after 1 dimensions. The detected shape was (2,) + inhomogeneous part."
          ]
        }
      ]
    },
    {
      "cell_type": "code",
      "source": [
        "#EX: 06\n",
        "np_2d = np.array([[1.73, 1.71, 1.79, 1.9, 1.77], [65.4, 59.2, 63.6, 88.4, 68.7,]])\n",
        "print (np_2d)\n",
        "print (np_2d.shape)\n",
        "\n",
        "np_2d[1]\n",
        "\n"
      ],
      "metadata": {
        "colab": {
          "base_uri": "https://localhost:8080/"
        },
        "id": "jWLWrv0YNTKH",
        "outputId": "c64f7a61-c2f5-42fc-8e0f-ccc49b518770"
      },
      "execution_count": 40,
      "outputs": [
        {
          "output_type": "stream",
          "name": "stdout",
          "text": [
            "[[ 1.73  1.71  1.79  1.9   1.77]\n",
            " [65.4  59.2  63.6  88.4  68.7 ]]\n",
            "(2, 5)\n"
          ]
        },
        {
          "output_type": "execute_result",
          "data": {
            "text/plain": [
              "array([65.4, 59.2, 63.6, 88.4, 68.7])"
            ]
          },
          "metadata": {},
          "execution_count": 40
        }
      ]
    },
    {
      "cell_type": "code",
      "source": [
        "np_2d[1][2]\n",
        "np_2d[1,2:]\n",
        "np_2d[:, 1:3]"
      ],
      "metadata": {
        "colab": {
          "base_uri": "https://localhost:8080/"
        },
        "id": "AQpsS6WwN4Vx",
        "outputId": "1349bcbd-dc58-43c8-a462-a43ec1847f3d"
      },
      "execution_count": 43,
      "outputs": [
        {
          "output_type": "execute_result",
          "data": {
            "text/plain": [
              "array([[ 1.71,  1.79],\n",
              "       [59.2 , 63.6 ]])"
            ]
          },
          "metadata": {},
          "execution_count": 43
        }
      ]
    },
    {
      "cell_type": "markdown",
      "source": [
        "Atividade de bibliotecas aula 08"
      ],
      "metadata": {
        "id": "iHzjoApjP6so"
      }
    },
    {
      "cell_type": "code",
      "source": [
        "import numpy as np\n",
        "#1) importe a biblioteca numpy com o ascesso via np na linha 6\n",
        "baseball = [180, 215, 210, 210, 188, 176, 200]\n",
        "\n",
        "#2) use o np.array() para convertr a lista baseball para um array camado np_baseball\n",
        "np_baseball = np.array(baseball)\n",
        "print (np_baseball)\n",
        "\n",
        "#3) print o tipo da estrutura de dados np_baseball\n",
        "type(np_baseball)\n",
        "\n",
        "#4) printe as dimensões do array np_baseball\n",
        "print(np_baseball.shape)"
      ],
      "metadata": {
        "colab": {
          "base_uri": "https://localhost:8080/"
        },
        "id": "P_EEXNppQCJv",
        "outputId": "0eb3e066-4461-4cdc-fe0d-e7a2043abd06"
      },
      "execution_count": 48,
      "outputs": [
        {
          "output_type": "stream",
          "name": "stdout",
          "text": [
            "[180 215 210 210 188 176 200]\n",
            "(7,)\n"
          ]
        }
      ]
    }
  ]
}