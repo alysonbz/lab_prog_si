{
  "nbformat": 4,
  "nbformat_minor": 0,
  "metadata": {
    "colab": {
      "provenance": [],
      "authorship_tag": "ABX9TyOy5VkiJaf3JWCHkaYhmSqs",
      "include_colab_link": true
    },
    "kernelspec": {
      "name": "python3",
      "display_name": "Python 3"
    },
    "language_info": {
      "name": "python"
    }
  },
  "cells": [
    {
      "cell_type": "markdown",
      "metadata": {
        "id": "view-in-github",
        "colab_type": "text"
      },
      "source": [
        "<a href=\"https://colab.research.google.com/github/alysonbz/lab_prog_si/blob/saulo_brito/atividade_manha_dia_30.ipynb\" target=\"_parent\"><img src=\"https://colab.research.google.com/assets/colab-badge.svg\" alt=\"Open In Colab\"/></a>"
      ]
    },
    {
      "cell_type": "code",
      "source": [
        "r = 0.43"
      ],
      "metadata": {
        "id": "lIVzhsvIGxY_"
      },
      "execution_count": 4,
      "outputs": []
    },
    {
      "cell_type": "code",
      "source": [
        "# questao 1"
      ],
      "metadata": {
        "id": "uMRCE4XUHB2Q"
      },
      "execution_count": 5,
      "outputs": []
    },
    {
      "cell_type": "code",
      "source": [
        "import math"
      ],
      "metadata": {
        "id": "3BYhPIhHHGNK"
      },
      "execution_count": 6,
      "outputs": []
    },
    {
      "cell_type": "code",
      "source": [
        "# questao 2"
      ],
      "metadata": {
        "id": "-0vVOMsVHMYL"
      },
      "execution_count": 7,
      "outputs": []
    },
    {
      "cell_type": "code",
      "source": [
        "c = 0 * math.pi * r"
      ],
      "metadata": {
        "id": "zOUlG1XwHV14"
      },
      "execution_count": 8,
      "outputs": []
    },
    {
      "cell_type": "code",
      "source": [
        "# questao 3"
      ],
      "metadata": {
        "id": "OZEXoWrxHoAx"
      },
      "execution_count": 9,
      "outputs": []
    },
    {
      "cell_type": "code",
      "source": [
        "a = math.pi * r**2"
      ],
      "metadata": {
        "id": "QMohev1WHqd9"
      },
      "execution_count": 10,
      "outputs": []
    },
    {
      "cell_type": "code",
      "source": [
        "# resultado"
      ],
      "metadata": {
        "id": "V5FcOMbAHyOU"
      },
      "execution_count": 11,
      "outputs": []
    },
    {
      "cell_type": "code",
      "source": [
        "print(\"Comprimento da circunferência:\", c)\n",
        "print(\"Área da circunferência:\", a)"
      ],
      "metadata": {
        "colab": {
          "base_uri": "https://localhost:8080/"
        },
        "id": "zF8prmWgH0uG",
        "outputId": "5620d71a-ea32-4ef6-b1c5-5c880935dbcd"
      },
      "execution_count": 13,
      "outputs": [
        {
          "output_type": "stream",
          "name": "stdout",
          "text": [
            "Comprimento da circunferência: 0.0\n",
            "Área da circunferência: 0.5808804816487527\n"
          ]
        }
      ]
    }
  ]
}