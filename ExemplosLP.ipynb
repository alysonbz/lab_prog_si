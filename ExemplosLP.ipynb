{
  "nbformat": 4,
  "nbformat_minor": 0,
  "metadata": {
    "colab": {
      "provenance": [],
      "authorship_tag": "ABX9TyOTfqRHgFVkoWtmktUhkTsR",
      "include_colab_link": true
    },
    "kernelspec": {
      "name": "python3",
      "display_name": "Python 3"
    },
    "language_info": {
      "name": "python"
    }
  },
  "cells": [
    {
      "cell_type": "markdown",
      "metadata": {
        "id": "view-in-github",
        "colab_type": "text"
      },
      "source": [
        "<a href=\"https://colab.research.google.com/github/alysonbz/lab_prog_si/blob/yana_karen/ExemplosLP.ipynb\" target=\"_parent\"><img src=\"https://colab.research.google.com/assets/colab-badge.svg\" alt=\"Open In Colab\"/></a>"
      ]
    },
    {
      "cell_type": "code",
      "execution_count": null,
      "metadata": {
        "id": "1YVOKB6iht0O"
      },
      "outputs": [],
      "source": [
        "fam = [\"Liz\", 1.73, \"Emma\", 1.68, \"mom\", 1.71, \"dad\", 1.89]"
      ]
    },
    {
      "cell_type": "code",
      "source": [
        "fam[3]"
      ],
      "metadata": {
        "colab": {
          "base_uri": "https://localhost:8080/"
        },
        "id": "hD69jP9GiU6l",
        "outputId": "260b752c-fee5-4578-979a-55386e3ec671"
      },
      "execution_count": null,
      "outputs": [
        {
          "output_type": "execute_result",
          "data": {
            "text/plain": [
              "1.68"
            ]
          },
          "metadata": {},
          "execution_count": 2
        }
      ]
    },
    {
      "cell_type": "code",
      "source": [
        "fam[6]"
      ],
      "metadata": {
        "colab": {
          "base_uri": "https://localhost:8080/",
          "height": 35
        },
        "id": "CXShE9iAiZ5U",
        "outputId": "5d294340-754b-422a-fbde-cfbddd05026b"
      },
      "execution_count": null,
      "outputs": [
        {
          "output_type": "execute_result",
          "data": {
            "text/plain": [
              "'dad'"
            ],
            "application/vnd.google.colaboratory.intrinsic+json": {
              "type": "string"
            }
          },
          "metadata": {},
          "execution_count": 3
        }
      ]
    },
    {
      "cell_type": "code",
      "source": [
        "fam[-1]"
      ],
      "metadata": {
        "colab": {
          "base_uri": "https://localhost:8080/"
        },
        "id": "IMdWGqUpidFz",
        "outputId": "58fe6a19-a10f-473b-ca0e-825289970bbd"
      },
      "execution_count": null,
      "outputs": [
        {
          "output_type": "execute_result",
          "data": {
            "text/plain": [
              "1.89"
            ]
          },
          "metadata": {},
          "execution_count": 4
        }
      ]
    },
    {
      "cell_type": "code",
      "source": [
        "fam"
      ],
      "metadata": {
        "colab": {
          "base_uri": "https://localhost:8080/"
        },
        "id": "M9_PzfTrihNj",
        "outputId": "88fb6f71-911a-40e6-dba1-29e6f618bd05"
      },
      "execution_count": null,
      "outputs": [
        {
          "output_type": "execute_result",
          "data": {
            "text/plain": [
              "['Liz', 1.73, 'Emma', 1.68, 'mom', 1.71, 'dad', 1.89]"
            ]
          },
          "metadata": {},
          "execution_count": 5
        }
      ]
    },
    {
      "cell_type": "code",
      "source": [
        "fam[3:5]"
      ],
      "metadata": {
        "colab": {
          "base_uri": "https://localhost:8080/"
        },
        "id": "se8URKyDik_D",
        "outputId": "de720111-d71f-4d48-ac7d-4e75a361f0a5"
      },
      "execution_count": null,
      "outputs": [
        {
          "output_type": "execute_result",
          "data": {
            "text/plain": [
              "[1.68, 'mom']"
            ]
          },
          "metadata": {},
          "execution_count": 6
        }
      ]
    },
    {
      "cell_type": "code",
      "source": [
        "fam[1:4]"
      ],
      "metadata": {
        "colab": {
          "base_uri": "https://localhost:8080/"
        },
        "id": "uhXSKzbxioh6",
        "outputId": "0b451b93-9850-4b1b-92fc-e34dad13e6cb"
      },
      "execution_count": null,
      "outputs": [
        {
          "output_type": "execute_result",
          "data": {
            "text/plain": [
              "[1.73, 'Emma', 1.68]"
            ]
          },
          "metadata": {},
          "execution_count": 7
        }
      ]
    },
    {
      "cell_type": "code",
      "source": [
        "alunos = [[\"hugo\", \"UFC\"], [\"Ze Feitosa\", \"UNINTA\"]]"
      ],
      "metadata": {
        "id": "z-ufUtdbisZy"
      },
      "execution_count": 1,
      "outputs": []
    },
    {
      "cell_type": "code",
      "source": [
        "alunos[0][1]"
      ],
      "metadata": {
        "colab": {
          "base_uri": "https://localhost:8080/",
          "height": 35
        },
        "id": "ByRB6Us_pUoz",
        "outputId": "45e2c5c4-72b1-4252-aa34-127fbb6fdb48"
      },
      "execution_count": null,
      "outputs": [
        {
          "output_type": "execute_result",
          "data": {
            "text/plain": [
              "'UFC'"
            ],
            "application/vnd.google.colaboratory.intrinsic+json": {
              "type": "string"
            }
          },
          "metadata": {},
          "execution_count": 9
        }
      ]
    },
    {
      "cell_type": "markdown",
      "source": [
        "Faça lista da lista da sua família"
      ],
      "metadata": {
        "id": "HbcxCyL4pdda"
      }
    },
    {
      "cell_type": "code",
      "source": [
        "fam = [[\"julia\", 1.58], [\"roberto\", 1.89], [\"ana\", 1.67], [\"paulo\", 1.85], [\"lucas\", 1.72]]\n",
        "fam"
      ],
      "metadata": {
        "colab": {
          "base_uri": "https://localhost:8080/"
        },
        "id": "zLrPZZRxpcnC",
        "outputId": "93d25e62-3970-4bee-e8f2-45072586e7c1"
      },
      "execution_count": null,
      "outputs": [
        {
          "output_type": "execute_result",
          "data": {
            "text/plain": [
              "[['julia', 1.58],\n",
              " ['roberto', 1.89],\n",
              " ['ana', 1.67],\n",
              " ['paulo', 1.85],\n",
              " ['lucas', 1.72]]"
            ]
          },
          "metadata": {},
          "execution_count": 2
        }
      ]
    },
    {
      "cell_type": "code",
      "source": [
        "fam = [\"julia\", 1.58, \"roberto\", 1.89, \"ana\", 1.67, \"paulo\", 1.85, \"lucas\", 1.72]\n",
        "fam"
      ],
      "metadata": {
        "colab": {
          "base_uri": "https://localhost:8080/"
        },
        "id": "p_lMWR_l6Vbh",
        "outputId": "9f47ba1e-8872-400b-e4d8-2a3535e0a2c5"
      },
      "execution_count": 3,
      "outputs": [
        {
          "output_type": "execute_result",
          "data": {
            "text/plain": [
              "['julia', 1.58, 'roberto', 1.89, 'ana', 1.67, 'paulo', 1.85, 'lucas', 1.72]"
            ]
          },
          "metadata": {},
          "execution_count": 3
        }
      ]
    },
    {
      "cell_type": "code",
      "source": [
        "fam[8] = 1.64\n",
        "fam"
      ],
      "metadata": {
        "colab": {
          "base_uri": "https://localhost:8080/"
        },
        "id": "3LHk8HaS6t6Q",
        "outputId": "d0e845e6-d79d-4167-f8df-6d051cff367d"
      },
      "execution_count": null,
      "outputs": [
        {
          "output_type": "execute_result",
          "data": {
            "text/plain": [
              "['julia', 1.58, 'roberto', 1.89, 'ana', 1.67, 'paulo', 1.85, 1.64, 1.72]"
            ]
          },
          "metadata": {},
          "execution_count": 25
        }
      ]
    },
    {
      "cell_type": "code",
      "source": [
        "fam + [\"me\", 1.50]"
      ],
      "metadata": {
        "colab": {
          "base_uri": "https://localhost:8080/"
        },
        "id": "mGbQCBxF51VS",
        "outputId": "f062e6de-16b6-41dc-b105-e825bec8fd4a"
      },
      "execution_count": null,
      "outputs": [
        {
          "output_type": "execute_result",
          "data": {
            "text/plain": [
              "['julia', 1.58, 1.89, 'ana', 1.67, 'paulo', 1.85, 'lucas', 1.72, 'me', 1.5]"
            ]
          },
          "metadata": {},
          "execution_count": 22
        }
      ]
    },
    {
      "cell_type": "code",
      "source": [
        "fam_ext = fam + [\"me\", 1.50]\n",
        "del(fam[2])\n",
        "fam"
      ],
      "metadata": {
        "colab": {
          "base_uri": "https://localhost:8080/"
        },
        "id": "arzabOqO5-Qx",
        "outputId": "9c4f02be-db72-4442-8a33-6335da325986"
      },
      "execution_count": null,
      "outputs": [
        {
          "output_type": "execute_result",
          "data": {
            "text/plain": [
              "['julia', 1.58, 1.89, 'ana', 1.67, 'paulo', 1.85, 'lucas', 1.72]"
            ]
          },
          "metadata": {},
          "execution_count": 21
        }
      ]
    },
    {
      "cell_type": "markdown",
      "source": [
        "Acesse o terceiro elemento da lista"
      ],
      "metadata": {
        "id": "bm-TyahepsNl"
      }
    },
    {
      "cell_type": "code",
      "source": [
        "print(fam[2])"
      ],
      "metadata": {
        "colab": {
          "base_uri": "https://localhost:8080/"
        },
        "id": "4Kj3X9xLpyad",
        "outputId": "ce69ce9f-8dda-4b37-f5d9-c29374ad93bd"
      },
      "execution_count": 4,
      "outputs": [
        {
          "output_type": "stream",
          "name": "stdout",
          "text": [
            "roberto\n"
          ]
        }
      ]
    },
    {
      "cell_type": "markdown",
      "source": [
        "Acessar a altura do segundo elemento da lista"
      ],
      "metadata": {
        "id": "v-BU0dN5px1M"
      }
    },
    {
      "cell_type": "code",
      "source": [
        "print(fam[3])"
      ],
      "metadata": {
        "id": "Ef6pInCkp6c5",
        "colab": {
          "base_uri": "https://localhost:8080/"
        },
        "outputId": "5a09f39e-6df4-48ba-d8c7-0c7ffabb16ed"
      },
      "execution_count": 5,
      "outputs": [
        {
          "output_type": "stream",
          "name": "stdout",
          "text": [
            "1.89\n"
          ]
        }
      ]
    },
    {
      "cell_type": "markdown",
      "source": [
        "16/05"
      ],
      "metadata": {
        "id": "5etrf_KkzrpW"
      }
    },
    {
      "cell_type": "code",
      "source": [
        "x = [\"a\", \"b\", \"c\"]\n",
        "y = x\n",
        "y[1] = \"z\"\n",
        "y"
      ],
      "metadata": {
        "colab": {
          "base_uri": "https://localhost:8080/"
        },
        "id": "_i_jPFr11dgj",
        "outputId": "44c2d185-ea74-4f82-9591-8c173b94c758"
      },
      "execution_count": null,
      "outputs": [
        {
          "output_type": "execute_result",
          "data": {
            "text/plain": [
              "['a', 'z', 'c']"
            ]
          },
          "metadata": {},
          "execution_count": 12
        }
      ]
    },
    {
      "cell_type": "code",
      "source": [
        "x"
      ],
      "metadata": {
        "colab": {
          "base_uri": "https://localhost:8080/"
        },
        "id": "5gxnqDz61zVi",
        "outputId": "e170e70f-2ff5-4444-997c-60e3b8f19674"
      },
      "execution_count": null,
      "outputs": [
        {
          "output_type": "execute_result",
          "data": {
            "text/plain": [
              "['a', 'z', 'c']"
            ]
          },
          "metadata": {},
          "execution_count": 13
        }
      ]
    },
    {
      "cell_type": "code",
      "source": [
        "x = [\"a\", \"b\", \"c\"]\n",
        "y = list(x)\n",
        "y = x[:]\n",
        "y[1] = \"z\"\n",
        "x"
      ],
      "metadata": {
        "colab": {
          "base_uri": "https://localhost:8080/"
        },
        "id": "cratOljK10ty",
        "outputId": "7ca3203e-9588-4885-d029-8469114ab23e"
      },
      "execution_count": 7,
      "outputs": [
        {
          "output_type": "execute_result",
          "data": {
            "text/plain": [
              "['a', 'b', 'c']"
            ]
          },
          "metadata": {},
          "execution_count": 7
        }
      ]
    },
    {
      "cell_type": "code",
      "source": [
        "x = [\"a\", \"b\", \"c\"]\n",
        "y = x\n",
        "y[0] = \"l\"\n",
        "\n",
        "print(\"lista y:\", y)\n",
        "\n",
        "print(\"lista x:\", x)"
      ],
      "metadata": {
        "colab": {
          "base_uri": "https://localhost:8080/"
        },
        "id": "qoJAzPDs5gZL",
        "outputId": "c05c4a57-c9d8-464a-eaa4-ad7854f31a2c"
      },
      "execution_count": null,
      "outputs": [
        {
          "output_type": "stream",
          "name": "stdout",
          "text": [
            "lista y: ['l', 'b', 'c']\n",
            "lista x: ['l', 'b', 'c']\n"
          ]
        }
      ]
    }
  ]
}