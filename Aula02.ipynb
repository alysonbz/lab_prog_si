{
  "nbformat": 4,
  "nbformat_minor": 0,
  "metadata": {
    "colab": {
      "provenance": [],
      "authorship_tag": "ABX9TyMpgADVrgug8cX+EZvrQd98",
      "include_colab_link": true
    },
    "kernelspec": {
      "name": "python3",
      "display_name": "Python 3"
    },
    "language_info": {
      "name": "python"
    }
  },
  "cells": [
    {
      "cell_type": "markdown",
      "metadata": {
        "id": "view-in-github",
        "colab_type": "text"
      },
      "source": [
        "<a href=\"https://colab.research.google.com/github/alysonbz/lab_prog_si/blob/Thiago_Gomes/Aula02.ipynb\" target=\"_parent\"><img src=\"https://colab.research.google.com/assets/colab-badge.svg\" alt=\"Open In Colab\"/></a>"
      ]
    },
    {
      "cell_type": "markdown",
      "source": [
        "Questão 01 de Listas"
      ],
      "metadata": {
        "id": "XcgYlAdW9eQH"
      }
    },
    {
      "cell_type": "code",
      "execution_count": null,
      "metadata": {
        "colab": {
          "base_uri": "https://localhost:8080/"
        },
        "id": "bDvNScUo68h2",
        "outputId": "b6714b49-fe7a-4e36-aae2-138ccd516ae7"
      },
      "outputs": [
        {
          "output_type": "stream",
          "name": "stdout",
          "text": [
            "['hallway', 11.25, 'kitchen', 18.0, 'livingroom', 20.0, 'bedroom', 10.75, 'bathroom', 9.5]\n"
          ]
        }
      ],
      "source": [
        "#1)complete o código. Observe que a variável beth(float) é precedida por uma string \"bathroom\". O mesmo ocorre com liv. Complete atribuindo as strings hallway, kitchen e bedroom na lista dos locais apropriados.\n",
        "hall = 11.25\n",
        "kit  = 18.0\n",
        "liv = 20.0\n",
        "bed = 10.75\n",
        "bath = 9.50\n",
        "\n",
        "areas = [\"hallway\",  hall, \"kitchen\", kit, \"livingroom\", liv, \"bedroom\", bed, \"bathroom\", bath]\n",
        "\n",
        "#1.1) print areas\n",
        "print (areas)"
      ]
    },
    {
      "cell_type": "markdown",
      "source": [
        "Questão 02 de listas"
      ],
      "metadata": {
        "id": "BAEu7WuEDXm-"
      }
    },
    {
      "cell_type": "markdown",
      "source": [],
      "metadata": {
        "id": "O-MDtiGM9lQN"
      }
    },
    {
      "cell_type": "code",
      "source": [
        "#2) suponha que as listas a seguir foram criadas. Qual forma de criação de lista está correta? descreva o que tem nas listas corretas.\n",
        "lista1 = [1 , 3 , 4 , 2]\n",
        "lista2 = [[1 , 2 , 3] , [4 , 5 , 7]]\n",
        "lista3 = [1+2, \"a\" * 5, 3]\n",
        "\n",
        "print(lista1)\n",
        "print(lista2)\n",
        "print(lista3)\n",
        "\n",
        "#todas as listas apresentaram ser funcionai, porem acredito que a mais correta seria a primeira"
      ],
      "metadata": {
        "colab": {
          "base_uri": "https://localhost:8080/"
        },
        "id": "Q2PXLyQPDgQV",
        "outputId": "392d75b5-79e9-4731-d4ed-df37f9bd7b71"
      },
      "execution_count": null,
      "outputs": [
        {
          "output_type": "stream",
          "name": "stdout",
          "text": [
            "[1, 3, 4, 2]\n",
            "[[1, 2, 3], [4, 5, 7]]\n",
            "[3, 'aaaaa', 3]\n"
          ]
        }
      ]
    },
    {
      "cell_type": "markdown",
      "source": [
        "Questão 03 de listas"
      ],
      "metadata": {
        "id": "tyQwfs6i9vd1"
      }
    },
    {
      "cell_type": "code",
      "source": [
        "#3) complete a lista de listas com as informações de bedroom e bathroom\n",
        "hall = 11.25\n",
        "kit  = 18.0\n",
        "liv = 20.0\n",
        "bed = 10.75\n",
        "bath = 9.50\n",
        "\n",
        "house = [[\"hallway\",  hall],\n",
        "          [\"kitchen\", kit],\n",
        "          [\"livingroom\", liv],\n",
        "          [\"bedroom\", bed,],\n",
        "          [\"bathroom\", bath]]\n",
        "\n",
        "print(house)\n",
        "type(house)"
      ],
      "metadata": {
        "colab": {
          "base_uri": "https://localhost:8080/"
        },
        "id": "eRbq0s0UHwYt",
        "outputId": "0f98739f-87b0-41c5-e276-070a9fc94716"
      },
      "execution_count": null,
      "outputs": [
        {
          "output_type": "stream",
          "name": "stdout",
          "text": [
            "[['hallway', 11.25], ['kitchen', 18.0], ['livingroom', 20.0], ['bedroom', 10.75], ['bathroom', 9.5]]\n"
          ]
        },
        {
          "output_type": "execute_result",
          "data": {
            "text/plain": [
              "list"
            ]
          },
          "metadata": {},
          "execution_count": 7
        }
      ]
    }
  ]
}