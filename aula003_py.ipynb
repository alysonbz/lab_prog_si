{
  "nbformat": 4,
  "nbformat_minor": 0,
  "metadata": {
    "colab": {
      "provenance": [],
      "authorship_tag": "ABX9TyMWcpsM8S1Qduqg1Fxr62Ih",
      "include_colab_link": true
    },
    "kernelspec": {
      "name": "python3",
      "display_name": "Python 3"
    },
    "language_info": {
      "name": "python"
    }
  },
  "cells": [
    {
      "cell_type": "markdown",
      "metadata": {
        "id": "view-in-github",
        "colab_type": "text"
      },
      "source": [
        "<a href=\"https://colab.research.google.com/github/alysonbz/lab_prog_si/blob/Kemilly_Mota/aula003_py.ipynb\" target=\"_parent\"><img src=\"https://colab.research.google.com/assets/colab-badge.svg\" alt=\"Open In Colab\"/></a>"
      ]
    },
    {
      "cell_type": "code",
      "source": [
        "listnum = [1,5,8,10,2] #max"
      ],
      "metadata": {
        "id": "BnTJlawUDiCr"
      },
      "execution_count": null,
      "outputs": []
    },
    {
      "cell_type": "code",
      "source": [
        "#criando uma função pra mostrar o maior número de uma lista\n",
        "def max_valor_lista(listnum):\n",
        "    maior_valor = None\n",
        "    for numero in listnum:\n",
        "\n",
        "     if maior_valor == None:\n",
        "      maior_valor = numero\n",
        "     if numero > maior_valor:\n",
        "      maior_valor = numero\n",
        "    return maior_valor\n",
        "\n",
        "print(max_valor_lista(listnum))\n"
      ],
      "metadata": {
        "colab": {
          "base_uri": "https://localhost:8080/"
        },
        "id": "0ff7qVyWDlOU",
        "outputId": "98f87c0d-c4f9-4ef2-fb11-b4774360746d"
      },
      "execution_count": null,
      "outputs": [
        {
          "output_type": "stream",
          "name": "stdout",
          "text": [
            "10\n"
          ]
        }
      ]
    },
    {
      "cell_type": "code",
      "source": [
        "max_valor_lista([1,5,90]) #número maior dessa lista, usando a função criada"
      ],
      "metadata": {
        "colab": {
          "base_uri": "https://localhost:8080/"
        },
        "id": "g29VOM90GdYZ",
        "outputId": "6d8ec96b-1d8f-42f5-bce2-dd708e6c22f3"
      },
      "execution_count": null,
      "outputs": [
        {
          "output_type": "execute_result",
          "data": {
            "text/plain": [
              "90"
            ]
          },
          "metadata": {},
          "execution_count": 3
        }
      ]
    },
    {
      "cell_type": "code",
      "source": [
        "lista = [1,2,3,4,5]"
      ],
      "metadata": {
        "id": "3ERLJh5BDn1V"
      },
      "execution_count": null,
      "outputs": []
    },
    {
      "cell_type": "code",
      "source": [
        "#fazer uma função que retorne a quantidade de elementos de uma lista\n",
        "def quant_elementos(lista):\n",
        "  quant_elementos = 0\n",
        "  for numero in lista:\n",
        "    quant_elementos += 1\n",
        "  return quant_elementos\n",
        "print(quant_elementos(lista))"
      ],
      "metadata": {
        "colab": {
          "base_uri": "https://localhost:8080/"
        },
        "id": "TFrcZgWND2QN",
        "outputId": "a45fe41f-6070-407c-bc01-b1ca154a7886"
      },
      "execution_count": null,
      "outputs": [
        {
          "output_type": "stream",
          "name": "stdout",
          "text": [
            "5\n"
          ]
        }
      ]
    },
    {
      "cell_type": "code",
      "source": [
        "max(lista) #valor máximo de qualquer lista\n",
        "print(round(1.68,1)) #arredonda pra um inteiro ou arredonda o valor\n",
        "round(1.87)\n"
      ],
      "metadata": {
        "colab": {
          "base_uri": "https://localhost:8080/"
        },
        "id": "kO8399mJGosh",
        "outputId": "cbca2cf7-44bd-4055-ad5a-74b0d02d545a"
      },
      "execution_count": null,
      "outputs": [
        {
          "output_type": "stream",
          "name": "stdout",
          "text": [
            "1.7\n"
          ]
        },
        {
          "output_type": "execute_result",
          "data": {
            "text/plain": [
              "2"
            ]
          },
          "metadata": {},
          "execution_count": 12
        }
      ]
    },
    {
      "cell_type": "code",
      "source": [
        "#questão 1 ,2 e 3.\n",
        "var1 = [1,2,3,4]\n",
        "var2 = True\n",
        "\n",
        "print(type(var1))\n",
        "\n",
        "print(len(var1))\n",
        "\n",
        "out2 = int(var2) #redefinindo a variável str em int\n",
        "print(type(out2))"
      ],
      "metadata": {
        "colab": {
          "base_uri": "https://localhost:8080/"
        },
        "id": "dclWz8_8Uv_I",
        "outputId": "b7b8acb8-918c-4946-c483-07c8be41a4e0"
      },
      "execution_count": null,
      "outputs": [
        {
          "output_type": "stream",
          "name": "stdout",
          "text": [
            "<class 'list'>\n",
            "4\n",
            "<class 'int'>\n"
          ]
        }
      ]
    },
    {
      "cell_type": "code",
      "source": [
        "#questão 4, 5 e 6\n",
        "primeira = [11.25, 18.0, 20.0]\n",
        "segunda = [10.75, 9.50]\n",
        "\n",
        "tudo = primeira + segunda\n",
        "print(tudo)\n",
        "tudo_sorted = sorted(tudo, reverse = True)\n",
        "print(tudo_sorted)"
      ],
      "metadata": {
        "colab": {
          "base_uri": "https://localhost:8080/"
        },
        "id": "fRtlpCq_Vdnr",
        "outputId": "0f554920-db35-47fe-e7d7-7b0478ecaccc"
      },
      "execution_count": null,
      "outputs": [
        {
          "output_type": "stream",
          "name": "stdout",
          "text": [
            "[11.25, 18.0, 20.0, 10.75, 9.5]\n",
            "[20.0, 18.0, 11.25, 10.75, 9.5]\n"
          ]
        }
      ]
    },
    {
      "cell_type": "code",
      "source": [
        "#anotações\n",
        "#[outra forma\n",
        "#x = areas\n",
        "#x[-1] = 10.50\n",
        "#x[4]= 'chillzone']\n",
        "\n",
        "#q7trocar o valor de banheiro e seu tamanho, e substituir living room por chill zone\n",
        "areas = [\"Hallway\",11.25,\"kitchen\",18.0,\"living room\",20.0,\"bedroom\",10.75,\"bathroom\",9.50]\n",
        "b = areas\n",
        "b[9] = 10.50\n",
        "b[4] = 'chill zone'\n",
        "\n",
        "#q8 adicionar informações e atribuir elas a duas novas listas, chamadas de area1 e area2\n",
        "\n",
        "areas1= areas + ['poolhouse', 24.50] #add essas informações no código\n",
        "areas2 = areas1 + ['garage',15.50]\n",
        "print(areas2)\n",
        "\n"
      ],
      "metadata": {
        "id": "Ma44DC-ECP1v"
      },
      "execution_count": null,
      "outputs": []
    },
    {
      "cell_type": "code",
      "source": [
        "#9 não deixar a modificação de area.copy afetar 'areas', corrijir o código e exibir 'areas' e 'areas_copy' no fim do código\n",
        "\n",
        "areas =[11.25,18.0,20.0,10.75,9.50]\n",
        "areas_copy = areas.copy()\n",
        "areas_copy[0] = 5.0\n",
        "print(areas_copy)\n",
        "print(areas)"
      ],
      "metadata": {
        "id": "Qu-Ay_ATCazg"
      },
      "execution_count": null,
      "outputs": []
    }
  ]
}