{
  "nbformat": 4,
  "nbformat_minor": 0,
  "metadata": {
    "colab": {
      "provenance": [],
      "authorship_tag": "ABX9TyOPPl/EWm3aUdMnXjH5JrUQ",
      "include_colab_link": true
    },
    "kernelspec": {
      "name": "python3",
      "display_name": "Python 3"
    },
    "language_info": {
      "name": "python"
    }
  },
  "cells": [
    {
      "cell_type": "markdown",
      "metadata": {
        "id": "view-in-github",
        "colab_type": "text"
      },
      "source": [
        "<a href=\"https://colab.research.google.com/github/alysonbz/lab_prog_si/blob/Thiago_Gomes/Aula1.ipynb\" target=\"_parent\"><img src=\"https://colab.research.google.com/assets/colab-badge.svg\" alt=\"Open In Colab\"/></a>"
      ]
    },
    {
      "cell_type": "markdown",
      "source": [
        "Exemplos"
      ],
      "metadata": {
        "id": "ln6vt86TI2Di"
      }
    },
    {
      "cell_type": "code",
      "execution_count": 22,
      "metadata": {
        "id": "CNj668P68s9t",
        "colab": {
          "base_uri": "https://localhost:8080/",
          "height": 36
        },
        "outputId": "d732ed01-719e-43c5-f62e-8a6656331d0d"
      },
      "outputs": [
        {
          "output_type": "execute_result",
          "data": {
            "text/plain": [
              "'hellomoto'"
            ],
            "application/vnd.google.colaboratory.intrinsic+json": {
              "type": "string"
            }
          },
          "metadata": {},
          "execution_count": 22
        }
      ],
      "source": [
        "altura = 1.80\n",
        "peso = 80\n",
        "nome = 'Thiago'\n",
        "aluno = True\n",
        "professor = False\n",
        "\n",
        "BML= peso/altura ** 2\n",
        "BML\n",
        "\n",
        "type (altura)\n",
        "type (peso)\n",
        "type (nome)\n",
        "type (aluno)\n",
        "type (professor)\n",
        "\n",
        "conta1 = 3+4\n",
        "conta1\n",
        "\n",
        "conta2 = '3' + '4'\n",
        "conta2\n",
        "\n",
        "conta3 = 'hello' +  'moto'\n",
        "conta3\n",
        "\n"
      ]
    },
    {
      "cell_type": "markdown",
      "source": [
        "Questão01"
      ],
      "metadata": {
        "id": "JLouC-z1I8Bg"
      }
    },
    {
      "cell_type": "code",
      "source": [
        "#Usando o COLAB cole o comando seguinte na célula\n",
        "# Example\n",
        "print(5 / 8)\n"
      ],
      "metadata": {
        "colab": {
          "base_uri": "https://localhost:8080/"
        },
        "id": "jBwxmZc5JGRv",
        "outputId": "e3416063-dce5-461f-a04d-a1963aa7a5b6"
      },
      "execution_count": null,
      "outputs": [
        {
          "output_type": "stream",
          "name": "stdout",
          "text": [
            "10\n"
          ]
        }
      ]
    },
    {
      "cell_type": "markdown",
      "source": [
        "Questão02  "
      ],
      "metadata": {
        "id": "yg3prgg4Kp3G"
      }
    },
    {
      "cell_type": "code",
      "source": [
        "#Em outra célula, realize o print da soma de 7 com 8. Coloque uma linha de comentário no código, tal como a questão 1, informando que realiza uma soma.\n",
        "n1 = 7\n",
        "n2 = 8\n",
        "soma = n1+n2\n",
        "print (\"valor da soma é\" ,soma)\n",
        "#soma efetuada"
      ],
      "metadata": {
        "colab": {
          "base_uri": "https://localhost:8080/"
        },
        "id": "2dn4yPB2K0MJ",
        "outputId": "56c0fb1a-4ee3-4b87-e199-bcdc53feaf3b"
      },
      "execution_count": 23,
      "outputs": [
        {
          "output_type": "stream",
          "name": "stdout",
          "text": [
            "valor da soma é 15\n"
          ]
        }
      ]
    },
    {
      "cell_type": "markdown",
      "source": [
        "Questão03"
      ],
      "metadata": {
        "id": "IZMhhirKLsMA"
      }
    },
    {
      "cell_type": "code",
      "source": [
        "#Em uma célula, realize a operação de  print da soma do número 5 e 3. Logo abaixo do código, na mesma célula faça a operação de subtração destes números.\n",
        "n1 = 5\n",
        "n2 = 3\n",
        "\n",
        "#soma\n",
        "soma = n1+n2\n",
        "print (soma)\n",
        "\n",
        "#subtração\n",
        "subtração = n1-n2\n",
        "print (subtração)"
      ],
      "metadata": {
        "colab": {
          "base_uri": "https://localhost:8080/"
        },
        "id": "njV40VcSLwba",
        "outputId": "fe330c65-3495-4383-c0de-bdae6cd8db0e"
      },
      "execution_count": null,
      "outputs": [
        {
          "output_type": "stream",
          "name": "stdout",
          "text": [
            "8\n",
            "2\n"
          ]
        }
      ]
    },
    {
      "cell_type": "markdown",
      "source": [
        "Questão04"
      ],
      "metadata": {
        "id": "t_FCGrObMIqL"
      }
    },
    {
      "cell_type": "code",
      "source": [
        "#Em uma célula realize os prints das operações de potência, multiplicação, resto da divisão entre os números 5 e 3.\n",
        "n1 = 5\n",
        "n2 = 3\n",
        "\n",
        "#potência\n",
        "potência = n1**n2\n",
        "print (potência)\n",
        "\n",
        "#multiplicação\n",
        "multiplicação = n1*n2\n",
        "print (multiplicação)\n",
        "\n",
        "#resto da divisão\n",
        "resto = n1 % n2\n",
        "print (resto)"
      ],
      "metadata": {
        "id": "TBdt2eVuMLF3",
        "colab": {
          "base_uri": "https://localhost:8080/"
        },
        "outputId": "f5df22f4-dd06-4d7d-9de4-1ca8e46eb3f8"
      },
      "execution_count": null,
      "outputs": [
        {
          "output_type": "stream",
          "name": "stdout",
          "text": [
            "125\n",
            "15\n",
            "2\n"
          ]
        }
      ]
    },
    {
      "cell_type": "markdown",
      "source": [
        "Questão05"
      ],
      "metadata": {
        "id": "jUDhkmUm4VK1"
      }
    },
    {
      "cell_type": "code",
      "source": [
        "#Suponha que você tem 100 reais e esse dinheiro rende 1.1% ao ano. Quanto de dinheiro você terá acumulado em 7 anos ?\n",
        "capital = 100\n",
        "taxa = 0.011\n",
        "anos = 7\n",
        "montante = capital * (1 + taxa)**anos\n",
        "print (montante)"
      ],
      "metadata": {
        "id": "rDC2Y24m4bNA",
        "colab": {
          "base_uri": "https://localhost:8080/"
        },
        "outputId": "e4348fcc-2832-4bfa-e48d-9ee773ade2df"
      },
      "execution_count": 29,
      "outputs": [
        {
          "output_type": "stream",
          "name": "stdout",
          "text": [
            "107.95881008294907\n"
          ]
        }
      ]
    },
    {
      "cell_type": "markdown",
      "source": [
        "Questão06"
      ],
      "metadata": {
        "id": "4ieLJ-Fc5DOG"
      }
    },
    {
      "cell_type": "code",
      "source": [
        "#Complete o seguinte código e rode em uma célula.\n",
        "poupança = 100\n",
        "multiplicador = 1,1\n",
        "desc = \"juros compostos\"\n",
        "ano1 = poupança * multiplicador\n",
        "\n",
        "print (type(ano1))\n",
        "\n",
        "print (desc + desc)"
      ],
      "metadata": {
        "colab": {
          "base_uri": "https://localhost:8080/"
        },
        "id": "PO4liXsF5GeG",
        "outputId": "d6df7587-7559-4d4f-c8d6-ba97eabb134d"
      },
      "execution_count": null,
      "outputs": [
        {
          "output_type": "stream",
          "name": "stdout",
          "text": [
            "<class 'tuple'>\n",
            "juros compostosjuros compostos\n"
          ]
        }
      ]
    },
    {
      "cell_type": "markdown",
      "source": [
        "Questão07"
      ],
      "metadata": {
        "id": "OMs4T_bM8GFW"
      }
    },
    {
      "cell_type": "code",
      "source": [
        "#complete o código seguinte convertendo a variável pi_string para float. Ao final faça o print das variáveis e seus tipos.\n",
        "pi_string = \"3.14159\"\n",
        "pi_float = float(pi_string)\n",
        "\n",
        "print(\"valor do pi_fload =\", pi_float, \"tipo do pi_float =\" , type(pi_float))"
      ],
      "metadata": {
        "id": "KctYYutCAn13",
        "colab": {
          "base_uri": "https://localhost:8080/"
        },
        "outputId": "e8bb456e-d381-47cb-d26d-1eeeec671d65"
      },
      "execution_count": 18,
      "outputs": [
        {
          "output_type": "stream",
          "name": "stdout",
          "text": [
            "valor do pi_fload = 3.14159 tipo do pi_float = <class 'float'>\n"
          ]
        }
      ]
    },
    {
      "cell_type": "markdown",
      "source": [
        "Questão08"
      ],
      "metadata": {
        "id": "jJDyoy6ZCipH"
      }
    },
    {
      "cell_type": "code",
      "source": [
        "#Rode o código abaixo em uma célula do colab e informe descubra qual erro está havendo.\n",
        "savings = 100\n",
        "results = 100 * 1,10 ** 7\n",
        "\n",
        "print(\"i started with $\" + savings + \"and now have $\" + results)\n",
        "\n",
        "#o print da erro pois esta tentando juntas duas strings com dois floats\n"
      ],
      "metadata": {
        "id": "rr2I8z97Cn6P"
      },
      "execution_count": null,
      "outputs": []
    },
    {
      "cell_type": "markdown",
      "source": [
        "Questão09\n"
      ],
      "metadata": {
        "id": "WgDXRPutF3cH"
      }
    },
    {
      "cell_type": "code",
      "source": [
        "#Use a função str() para corrigir o erro, convertendo as variáveis numéricas para string.\n",
        "savings = 100\n",
        "results = 100 * 1,10 ** 7\n",
        "savings = str(savings)\n",
        "results = str(results)\n",
        "print(\"i started with $\" + savings + \" and now have $ \" + results)\n",
        "\n"
      ],
      "metadata": {
        "colab": {
          "base_uri": "https://localhost:8080/"
        },
        "id": "mi0qaXRVF7iv",
        "outputId": "9973def4-e023-4365-cdd8-0880e3d48947"
      },
      "execution_count": 21,
      "outputs": [
        {
          "output_type": "stream",
          "name": "stdout",
          "text": [
            "i started with $100 and now have $ (100, 10000000)\n"
          ]
        }
      ]
    },
    {
      "cell_type": "markdown",
      "source": [
        "Questão10"
      ],
      "metadata": {
        "id": "PhfzLImIGuXP"
      }
    },
    {
      "cell_type": "code",
      "source": [
        "#Qual dos textos seguintes apresenta erro se for executado em um comando print ? Porque?\n",
        "#resposta C\n",
        "print (\"answer to this multiple choice exercise is answer number\" + 2)\n",
        "#o print da erro pois esta tentando juntas uma string com um float\n"
      ],
      "metadata": {
        "colab": {
          "base_uri": "https://localhost:8080/",
          "height": 201
        },
        "id": "iLIRU5xbG08v",
        "outputId": "4e5024bc-b0a4-4e67-dde6-8f0038fbad10"
      },
      "execution_count": 25,
      "outputs": [
        {
          "output_type": "error",
          "ename": "TypeError",
          "evalue": "can only concatenate str (not \"int\") to str",
          "traceback": [
            "\u001b[0;31m---------------------------------------------------------------------------\u001b[0m",
            "\u001b[0;31mTypeError\u001b[0m                                 Traceback (most recent call last)",
            "\u001b[0;32m<ipython-input-25-ef00a454d159>\u001b[0m in \u001b[0;36m<cell line: 0>\u001b[0;34m()\u001b[0m\n\u001b[1;32m      1\u001b[0m \u001b[0;31m#Qual dos textos seguintes apresenta erro se for executado em um comando print ? Porque?\u001b[0m\u001b[0;34m\u001b[0m\u001b[0;34m\u001b[0m\u001b[0m\n\u001b[1;32m      2\u001b[0m \u001b[0;31m#resposta C\u001b[0m\u001b[0;34m\u001b[0m\u001b[0;34m\u001b[0m\u001b[0m\n\u001b[0;32m----> 3\u001b[0;31m \u001b[0mprint\u001b[0m \u001b[0;34m(\u001b[0m\u001b[0;34m\"answer to this multiple choice exercise is answer number\"\u001b[0m \u001b[0;34m+\u001b[0m \u001b[0;36m2\u001b[0m\u001b[0;34m)\u001b[0m\u001b[0;34m\u001b[0m\u001b[0;34m\u001b[0m\u001b[0m\n\u001b[0m\u001b[1;32m      4\u001b[0m \u001b[0;31m#o print da erro pois esta tentando juntas uma string com um float\u001b[0m\u001b[0;34m\u001b[0m\u001b[0;34m\u001b[0m\u001b[0m\n",
            "\u001b[0;31mTypeError\u001b[0m: can only concatenate str (not \"int\") to str"
          ]
        }
      ]
    }
  ]
}