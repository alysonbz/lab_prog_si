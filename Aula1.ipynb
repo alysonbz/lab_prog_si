{
  "nbformat": 4,
  "nbformat_minor": 0,
  "metadata": {
    "colab": {
      "provenance": [],
      "authorship_tag": "ABX9TyNyfoh1Ew2J40dJg6b1Qobd"
    },
    "kernelspec": {
      "name": "python3",
      "display_name": "Python 3"
    },
    "language_info": {
      "name": "python"
    }
  },
  "cells": [
    {
      "cell_type": "markdown",
      "source": [],
      "metadata": {
        "id": "kwJyuU8r7apO"
      }
    },
    {
      "cell_type": "code",
      "source": [
        "altura = 1.80\n",
        "peso = 79.7\n",
        "imc = peso / altura ** 2\n",
        "print(\"O IMC é\", imc)"
      ],
      "metadata": {
        "colab": {
          "base_uri": "https://localhost:8080/"
        },
        "id": "1G_nA_f27aaS",
        "outputId": "df72265d-53f9-40e5-828a-3c9e84c1dd86"
      },
      "execution_count": null,
      "outputs": [
        {
          "output_type": "stream",
          "name": "stdout",
          "text": [
            "O IMC é 24.598765432098766\n"
          ]
        }
      ]
    },
    {
      "cell_type": "code",
      "source": [
        "nome = input('Insira seu nome: ')\n",
        "if(nome == 'Alyson'):\n",
        "    print('Olá, Professor')\n",
        "else:\n",
        "    print('Olá, Aluno!')"
      ],
      "metadata": {
        "colab": {
          "base_uri": "https://localhost:8080/"
        },
        "id": "DoQxBDFgDlKT",
        "outputId": "ded9343e-aa74-4cf8-a3b0-3938ebd65b72"
      },
      "execution_count": null,
      "outputs": [
        {
          "output_type": "stream",
          "name": "stdout",
          "text": [
            "Insira seu nome: Alyson\n",
            "Olá, Professor\n"
          ]
        }
      ]
    },
    {
      "cell_type": "code",
      "source": [
        "num1 = input('Insira o primeiro número: ')\n",
        "num2 = input('Insira o segundo número: ')\n",
        "print(int(num1) + int(num2))"
      ],
      "metadata": {
        "colab": {
          "base_uri": "https://localhost:8080/"
        },
        "id": "c5Ce8_-dGloi",
        "outputId": "b56a67ab-81ed-4a40-ef59-b3e30ad9fea4"
      },
      "execution_count": null,
      "outputs": [
        {
          "output_type": "stream",
          "name": "stdout",
          "text": [
            "Insira o primeiro número: 5\n",
            "Insira o segundo número: 5\n",
            "10\n"
          ]
        }
      ]
    },
    {
      "cell_type": "code",
      "source": [
        "#exemplo 1\n",
        "print(5/8)\n",
        "\n",
        "#exemplo 2\n",
        "print(7+8)"
      ],
      "metadata": {
        "colab": {
          "base_uri": "https://localhost:8080/"
        },
        "id": "vysUxmB0IRiW",
        "outputId": "8292bbb2-4b91-44ca-df08-dac6ebe76ede"
      },
      "execution_count": null,
      "outputs": [
        {
          "output_type": "stream",
          "name": "stdout",
          "text": [
            "0.625\n",
            "15\n"
          ]
        }
      ]
    },
    {
      "cell_type": "code",
      "source": [
        "soma = (5+3)\n",
        "subtracao = (5-3)\n",
        "print(soma)\n",
        "print(subtracao)"
      ],
      "metadata": {
        "colab": {
          "base_uri": "https://localhost:8080/"
        },
        "id": "CakUT2kPKTAW",
        "outputId": "4a8ba2ed-1e58-4667-8dc4-10cf24ece947"
      },
      "execution_count": null,
      "outputs": [
        {
          "output_type": "stream",
          "name": "stdout",
          "text": [
            "8\n",
            "2\n"
          ]
        }
      ]
    },
    {
      "cell_type": "code",
      "source": [
        "multiplicacao = (5*3)\n",
        "potencia = (5**3)\n",
        "R_divisao = (5%3)\n",
        "print(multiplicacao)\n",
        "print(potencia)\n",
        "print(R_divisao)\n"
      ],
      "metadata": {
        "colab": {
          "base_uri": "https://localhost:8080/"
        },
        "id": "Y27SdTfwLLtr",
        "outputId": "20f270ac-163b-4ecd-f551-69b77f7306af"
      },
      "execution_count": null,
      "outputs": [
        {
          "output_type": "stream",
          "name": "stdout",
          "text": [
            "15\n",
            "125\n",
            "2\n"
          ]
        }
      ]
    },
    {
      "cell_type": "code",
      "source": [
        "ínicio = 100\n",
        "resultado = 100*(1.1**7)\n",
        "print('dinheiro total: ',resultado)\n",
        "print('dinheiro rendido: ', resultado - ínicio)"
      ],
      "metadata": {
        "colab": {
          "base_uri": "https://localhost:8080/"
        },
        "id": "R0vVfeQJLcHs",
        "outputId": "5f0fd281-5aef-462c-9277-4045b1b06abc"
      },
      "execution_count": null,
      "outputs": [
        {
          "output_type": "stream",
          "name": "stdout",
          "text": [
            "dinheiro total:  194.87171000000012\n",
            "dinheiro rendido:  94.87171000000012\n"
          ]
        }
      ]
    }
  ]
}