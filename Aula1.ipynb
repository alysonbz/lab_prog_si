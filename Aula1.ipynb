{
  "nbformat": 4,
  "nbformat_minor": 0,
  "metadata": {
    "colab": {
      "provenance": [],
      "authorship_tag": "ABX9TyN1kQUL20aDs4XCGr3U6GCD",
      "include_colab_link": true
    },
    "kernelspec": {
      "name": "python3",
      "display_name": "Python 3"
    },
    "language_info": {
      "name": "python"
    }
  },
  "cells": [
    {
      "cell_type": "markdown",
      "metadata": {
        "id": "view-in-github",
        "colab_type": "text"
      },
      "source": [
        "<a href=\"https://colab.research.google.com/github/alysonbz/lab_prog_si/blob/antonio_erick/Aula1.ipynb\" target=\"_parent\"><img src=\"https://colab.research.google.com/assets/colab-badge.svg\" alt=\"Open In Colab\"/></a>"
      ]
    },
    {
      "cell_type": "code",
      "source": [
        "nome='antonio'\n",
        "aluno=True\n",
        "professor=False\n",
        "peso=float(input('digite seu peso:'))\n",
        "altura=float(input('digite sua altura:'))\n",
        "imc= peso / altura **2\n",
        "print(imc)\n",
        "type(imc)"
      ],
      "metadata": {
        "id": "M_6mIak3Aj1L"
      },
      "execution_count": null,
      "outputs": []
    },
    {
      "cell_type": "code",
      "source": [
        "x=1+2\n",
        "o='a'+'b'+'c'\n",
        "print(x)\n",
        "print(o)"
      ],
      "metadata": {
        "colab": {
          "base_uri": "https://localhost:8080/"
        },
        "id": "QCoDLNxEGTa_",
        "outputId": "9890681a-e018-4bdc-9185-4d431a471d1b"
      },
      "execution_count": 8,
      "outputs": [
        {
          "output_type": "stream",
          "name": "stdout",
          "text": [
            "3\n",
            "abc\n"
          ]
        }
      ]
    },
    {
      "cell_type": "code",
      "source": [
        "#questão 1\n",
        "print(5/8)"
      ],
      "metadata": {
        "id": "Ls9A0PvQIVFM",
        "colab": {
          "base_uri": "https://localhost:8080/"
        },
        "outputId": "31f2bc99-311b-42ea-dff7-321836c573e6"
      },
      "execution_count": 4,
      "outputs": [
        {
          "output_type": "stream",
          "name": "stdout",
          "text": [
            "0.625\n"
          ]
        }
      ]
    },
    {
      "cell_type": "code",
      "source": [
        "#questão 2. soma de números inteiros\n",
        "print(7+8)"
      ],
      "metadata": {
        "id": "Z4dCDOyaIfel",
        "colab": {
          "base_uri": "https://localhost:8080/"
        },
        "outputId": "38b01886-a51b-4b76-810b-5e019a774e5f"
      },
      "execution_count": 3,
      "outputs": [
        {
          "output_type": "stream",
          "name": "stdout",
          "text": [
            "15\n"
          ]
        }
      ]
    },
    {
      "cell_type": "code",
      "source": [
        "#questão 3\n",
        "print(5+3)\n",
        "print(5-3)"
      ],
      "metadata": {
        "colab": {
          "base_uri": "https://localhost:8080/"
        },
        "id": "ZyIwbn7qKb0M",
        "outputId": "542e2b51-1a11-4368-e7da-41ed55a1e076"
      },
      "execution_count": 7,
      "outputs": [
        {
          "output_type": "stream",
          "name": "stdout",
          "text": [
            "8\n",
            "2\n"
          ]
        }
      ]
    },
    {
      "cell_type": "code",
      "source": [
        "#questão 4\n",
        "print(5 ** 3)\n",
        "print(5 * 3)\n",
        "print(5 % 3)"
      ],
      "metadata": {
        "id": "HrcbyVzKK09d",
        "colab": {
          "base_uri": "https://localhost:8080/"
        },
        "outputId": "3cba2840-9b46-4b9c-e576-b9590774a5dd"
      },
      "execution_count": 6,
      "outputs": [
        {
          "output_type": "stream",
          "name": "stdout",
          "text": [
            "125\n",
            "15\n",
            "2\n"
          ]
        }
      ]
    },
    {
      "cell_type": "code",
      "source": [
        "#questão 5\n",
        "result=100*1.10**7\n",
        "print(result)"
      ],
      "metadata": {
        "id": "CSw9gJjpLqyG",
        "colab": {
          "base_uri": "https://localhost:8080/"
        },
        "outputId": "663a44b6-d432-461a-c0a2-b0a11a63a949"
      },
      "execution_count": 5,
      "outputs": [
        {
          "output_type": "stream",
          "name": "stdout",
          "text": [
            "194.87171000000012\n"
          ]
        }
      ]
    },
    {
      "cell_type": "code",
      "source": [
        "#questão 6\n",
        "economia=100\n",
        "multplicador_cerss= 1.1\n",
        "desc='juros_compostos'\n",
        "ano1=100*1.1**1\n",
        "print(ano1)\n",
        "print(type(ano1))\n",
        "doubledesc= desc + desc\n",
        "print(doubledesc)"
      ],
      "metadata": {
        "id": "QAJc1FUNMtQB",
        "colab": {
          "base_uri": "https://localhost:8080/"
        },
        "outputId": "6b214077-7495-459b-849b-6d272c9e6af5"
      },
      "execution_count": null,
      "outputs": [
        {
          "output_type": "stream",
          "name": "stdout",
          "text": [
            "110.00000000000001\n",
            "<class 'float'>\n",
            "juros_compostosjuros_compostos\n"
          ]
        }
      ]
    },
    {
      "cell_type": "code",
      "source": [
        "#Questão 07\n",
        "pi_string=\"3.1415926\"\n",
        "#converter variáveis\n",
        "pi_float=float(pi_string)\n",
        "print(pi_float)\n",
        "type(pi_float)\n",
        "type(pi_string)"
      ],
      "metadata": {
        "colab": {
          "base_uri": "https://localhost:8080/"
        },
        "id": "thto0ys71bHl",
        "outputId": "dbe6b899-c56b-4236-ff1d-48116dacd537"
      },
      "execution_count": null,
      "outputs": [
        {
          "output_type": "stream",
          "name": "stdout",
          "text": [
            "3.1415926\n"
          ]
        },
        {
          "output_type": "execute_result",
          "data": {
            "text/plain": [
              "float"
            ]
          },
          "metadata": {},
          "execution_count": 6
        }
      ]
    },
    {
      "cell_type": "code",
      "source": [
        "#questão 08\n",
        "economia=100\n",
        "resultado=100*1.10**7\n",
        "print('Comecei com $'+ economia +' e agora tenho$ '+resultado+' incrível!')"
      ],
      "metadata": {
        "colab": {
          "base_uri": "https://localhost:8080/",
          "height": 176
        },
        "id": "GU9WD27E2i-6",
        "outputId": "899e73d7-e18d-47c2-b8ea-dcf44b04af96"
      },
      "execution_count": null,
      "outputs": [
        {
          "output_type": "error",
          "ename": "TypeError",
          "evalue": "can only concatenate str (not \"int\") to str",
          "traceback": [
            "\u001b[0;31m---------------------------------------------------------------------------\u001b[0m",
            "\u001b[0;31mTypeError\u001b[0m                                 Traceback (most recent call last)",
            "\u001b[0;32m<ipython-input-7-602f4d444a2e>\u001b[0m in \u001b[0;36m<cell line: 0>\u001b[0;34m()\u001b[0m\n\u001b[1;32m      2\u001b[0m \u001b[0meconomia\u001b[0m\u001b[0;34m=\u001b[0m\u001b[0;36m100\u001b[0m\u001b[0;34m\u001b[0m\u001b[0;34m\u001b[0m\u001b[0m\n\u001b[1;32m      3\u001b[0m \u001b[0mresultado\u001b[0m\u001b[0;34m=\u001b[0m\u001b[0;36m100\u001b[0m\u001b[0;34m*\u001b[0m\u001b[0;36m1.10\u001b[0m\u001b[0;34m**\u001b[0m\u001b[0;36m7\u001b[0m\u001b[0;34m\u001b[0m\u001b[0;34m\u001b[0m\u001b[0m\n\u001b[0;32m----> 4\u001b[0;31m \u001b[0mprint\u001b[0m\u001b[0;34m(\u001b[0m\u001b[0;34m'Comecei com $'\u001b[0m\u001b[0;34m+\u001b[0m \u001b[0meconomia\u001b[0m \u001b[0;34m+\u001b[0m\u001b[0;34m' e agora tenho$ '\u001b[0m\u001b[0;34m+\u001b[0m\u001b[0mresultado\u001b[0m\u001b[0;34m+\u001b[0m\u001b[0;34m' incrível!'\u001b[0m\u001b[0;34m)\u001b[0m\u001b[0;34m\u001b[0m\u001b[0;34m\u001b[0m\u001b[0m\n\u001b[0m",
            "\u001b[0;31mTypeError\u001b[0m: can only concatenate str (not \"int\") to str"
          ]
        }
      ]
    },
    {
      "cell_type": "code",
      "source": [
        "#questão 09\n",
        "economia=100\n",
        "resultado=100*1.10**7\n",
        "print('Comecei com $'+ str(economia) +' e agora tenho$ '+ str(resultado)+' incrível!')\n",
        "# ou #questão 09\n",
        "economia=100\n",
        "resultado=100*1.10**7\n",
        "print('Comecei com $', economia,' e agora tenho$ ',resultado,' incrível!')"
      ],
      "metadata": {
        "colab": {
          "base_uri": "https://localhost:8080/"
        },
        "id": "KQDeK5lU423U",
        "outputId": "278e967a-5491-4cf7-b2fb-062ef81cfc75"
      },
      "execution_count": null,
      "outputs": [
        {
          "output_type": "stream",
          "name": "stdout",
          "text": [
            "Comecei com $100 e agora tenho$ 194.87171000000012 incrível!\n",
            "Comecei com $ 100  e agora tenho$  194.87171000000012  incrível!\n"
          ]
        }
      ]
    },
    {
      "cell_type": "code",
      "source": [
        "#questão 10\n",
        "# C)The correct answer to this multiple choice exercise is answer number +2"
      ],
      "metadata": {
        "id": "Cf0mQ8hXhAab"
      },
      "execution_count": null,
      "outputs": []
    }
  ]
}