{
  "nbformat": 4,
  "nbformat_minor": 0,
  "metadata": {
    "colab": {
      "provenance": [],
      "authorship_tag": "ABX9TyNgfc03TG2T+UeXpVnwtg3p",
      "include_colab_link": true
    },
    "kernelspec": {
      "name": "python3",
      "display_name": "Python 3"
    },
    "language_info": {
      "name": "python"
    }
  },
  "cells": [
    {
      "cell_type": "markdown",
      "metadata": {
        "id": "view-in-github",
        "colab_type": "text"
      },
      "source": [
        "<a href=\"https://colab.research.google.com/github/alysonbz/lab_prog_si/blob/Emanuel_Oliveira/aula12.ipynb\" target=\"_parent\"><img src=\"https://colab.research.google.com/assets/colab-badge.svg\" alt=\"Open In Colab\"/></a>"
      ]
    },
    {
      "cell_type": "markdown",
      "source": [
        "Exercício:\n",
        "\n",
        "1)Para 1 valor de peso e um valor de altura, print na tela: Você está com sobrepeso se bmi > 30, caso contrário, você esta com peso adequado.\n",
        "\n",
        "2)Para o Array resposta do exemplo ao lado print, usando operador lógico, onde bmi é menor que 23.\n"
      ],
      "metadata": {
        "id": "mhpVz0GSKWI_"
      }
    },
    {
      "cell_type": "code",
      "execution_count": 1,
      "metadata": {
        "colab": {
          "base_uri": "https://localhost:8080/"
        },
        "id": "6qjYJmDQJY-A",
        "outputId": "4f3b220e-c976-432f-8f07-aa4044803fa6"
      },
      "outputs": [
        {
          "output_type": "execute_result",
          "data": {
            "text/plain": [
              "array([21.85171573, 20.97505669, 21.75028214, 24.7473475 , 21.44127836])"
            ]
          },
          "metadata": {},
          "execution_count": 1
        }
      ],
      "source": [
        "import numpy as np\n",
        "np_height = np.array([1.73, 1.68, 1.71, 1.89, 1.79])\n",
        "np_weight = np.array([65.4, 59.2, 63.6, 88.4, 68.7])\n",
        "bmi = np_weight / np_height ** 2\n",
        "bmi"
      ]
    },
    {
      "cell_type": "code",
      "source": [
        "bmi > 23"
      ],
      "metadata": {
        "colab": {
          "base_uri": "https://localhost:8080/"
        },
        "id": "RsKe8R9nKAH4",
        "outputId": "3abb83b0-84ba-4ad2-b321-bec7f5662406"
      },
      "execution_count": 2,
      "outputs": [
        {
          "output_type": "execute_result",
          "data": {
            "text/plain": [
              "array([False, False, False,  True, False])"
            ]
          },
          "metadata": {},
          "execution_count": 2
        }
      ]
    },
    {
      "cell_type": "code",
      "source": [
        "bmi[bmi > 23]"
      ],
      "metadata": {
        "colab": {
          "base_uri": "https://localhost:8080/"
        },
        "id": "baWIRxzeKEv-",
        "outputId": "bd71bdfb-03d3-41f9-9ddc-7826e995b343"
      },
      "execution_count": 3,
      "outputs": [
        {
          "output_type": "execute_result",
          "data": {
            "text/plain": [
              "array([24.7473475])"
            ]
          },
          "metadata": {},
          "execution_count": 3
        }
      ]
    },
    {
      "cell_type": "code",
      "source": [
        "#1)\n",
        "if bmi.all() > 30:\n",
        "  print(\"você está com sobrepeso\")\n",
        "else:\n",
        "  print(\"você está com o peso adequdo\")"
      ],
      "metadata": {
        "colab": {
          "base_uri": "https://localhost:8080/"
        },
        "id": "68GxL6nEKg3h",
        "outputId": "ac986bbe-82fa-4f19-d04b-9990cbf3dfbe"
      },
      "execution_count": 8,
      "outputs": [
        {
          "output_type": "stream",
          "name": "stdout",
          "text": [
            "você está com o peso adequdo\n"
          ]
        }
      ]
    },
    {
      "cell_type": "code",
      "source": [
        "#2)\n",
        "bmi < 23"
      ],
      "metadata": {
        "colab": {
          "base_uri": "https://localhost:8080/"
        },
        "id": "lCakpWhQLNvQ",
        "outputId": "9b50e4f5-4fd2-4f48-e7ad-779174485a2e"
      },
      "execution_count": 10,
      "outputs": [
        {
          "output_type": "execute_result",
          "data": {
            "text/plain": [
              "array([ True,  True,  True, False,  True])"
            ]
          },
          "metadata": {},
          "execution_count": 10
        }
      ]
    },
    {
      "cell_type": "code",
      "source": [
        "bmi[bmi<23]"
      ],
      "metadata": {
        "colab": {
          "base_uri": "https://localhost:8080/"
        },
        "id": "LDUPTVoIMxvX",
        "outputId": "e7784c68-b770-4199-8b3c-8d509192902c"
      },
      "execution_count": 11,
      "outputs": [
        {
          "output_type": "execute_result",
          "data": {
            "text/plain": [
              "array([21.85171573, 20.97505669, 21.75028214, 21.44127836])"
            ]
          },
          "metadata": {},
          "execution_count": 11
        }
      ]
    },
    {
      "cell_type": "markdown",
      "source": [
        "1)verifique a igualdade entre duas variáveis booleanas. Nesse caso, True e False.\n",
        "\n",
        "2)Verifique se a multiplicação -5 * 15 é igual a 75\n",
        "\n",
        "3)Verifique se as strings \"pyscript\" e  \"PyScript\"  são iguais.\n",
        "\n",
        "3)Verfiue se a variaável booleana True é igual a 1.\n"
      ],
      "metadata": {
        "id": "hM4rmLmTNXQ5"
      }
    },
    {
      "cell_type": "code",
      "source": [
        "# Comparison of booleans\n",
        "a = 1\n",
        "b = 2\n",
        "c = a == b\n",
        "print(c)\n",
        "# Comparison of integers\n",
        "d = -5\n",
        "e = 15\n",
        "mult = d * e\n",
        "compar = mult == 75\n",
        "print(compar)\n",
        "# Comparison of strings\n",
        "str1 = \"pyscript\"\n",
        "str2 = \"PyScript\"\n",
        "comparacao = str1 == str2\n",
        "print(comparacao)\n",
        "# Compare a boolean with an integer\n",
        "True == 1"
      ],
      "metadata": {
        "colab": {
          "base_uri": "https://localhost:8080/"
        },
        "id": "i2eDTFggNfV1",
        "outputId": "2f63f970-2633-4813-9e9c-569c20d98b82"
      },
      "execution_count": 21,
      "outputs": [
        {
          "output_type": "stream",
          "name": "stdout",
          "text": [
            "False\n",
            "False\n",
            "False\n"
          ]
        },
        {
          "output_type": "execute_result",
          "data": {
            "text/plain": [
              "True"
            ]
          },
          "metadata": {},
          "execution_count": 21
        }
      ]
    },
    {
      "cell_type": "markdown",
      "source": [
        "1)Print  a verificação de quais elementos são maiores que 18 no array my_house.\n",
        "\n",
        "2)Print  a verificação de quais elementos em my_house são menores que no arrray your_house.\n"
      ],
      "metadata": {
        "id": "7QcsSiUEQtqq"
      }
    },
    {
      "cell_type": "code",
      "source": [
        "# Create arrays\n",
        "import numpy as np\n",
        "my_house = np.array([18.0, 20.0, 10.75, 9.50])\n",
        "your_house = np.array([14.0, 24.0, 14.25, 9.0])\n",
        "#my_house greater than or equal to 18\n",
        "\n",
        "#my_house less than your_house\n"
      ],
      "metadata": {
        "id": "g2tUwuBRQcSb"
      },
      "execution_count": null,
      "outputs": []
    },
    {
      "cell_type": "code",
      "source": [
        "x = 12\n",
        "x > 5 and x < 15"
      ],
      "metadata": {
        "colab": {
          "base_uri": "https://localhost:8080/"
        },
        "id": "NoVoXx0xRMKc",
        "outputId": "4e0ad211-77b1-4070-e531-13488e9eb69f"
      },
      "execution_count": 22,
      "outputs": [
        {
          "output_type": "execute_result",
          "data": {
            "text/plain": [
              "True"
            ]
          },
          "metadata": {},
          "execution_count": 22
        }
      ]
    },
    {
      "cell_type": "code",
      "source": [
        "x = 15\n",
        "x > 5 and x < 15"
      ],
      "metadata": {
        "colab": {
          "base_uri": "https://localhost:8080/"
        },
        "id": "tIOR9rrZRW5H",
        "outputId": "e41d5fe1-c11e-4cf0-b2cb-6262a70667aa"
      },
      "execution_count": 23,
      "outputs": [
        {
          "output_type": "execute_result",
          "data": {
            "text/plain": [
              "False"
            ]
          },
          "metadata": {},
          "execution_count": 23
        }
      ]
    },
    {
      "cell_type": "code",
      "source": [
        "y = 5\n",
        "y < 7 or y > 13"
      ],
      "metadata": {
        "colab": {
          "base_uri": "https://localhost:8080/"
        },
        "id": "MZmS0YMwRzTW",
        "outputId": "6ece4b3b-6332-490e-97d5-67d6fcb61aec"
      },
      "execution_count": 24,
      "outputs": [
        {
          "output_type": "execute_result",
          "data": {
            "text/plain": [
              "True"
            ]
          },
          "metadata": {},
          "execution_count": 24
        }
      ]
    },
    {
      "cell_type": "code",
      "source": [
        "y = 7\n",
        "y < 7 or y > 13"
      ],
      "metadata": {
        "colab": {
          "base_uri": "https://localhost:8080/"
        },
        "id": "0Ea94koCR9AS",
        "outputId": "207212de-62bb-466b-c040-cf44f6d7a2d0"
      },
      "execution_count": 25,
      "outputs": [
        {
          "output_type": "execute_result",
          "data": {
            "text/plain": [
              "False"
            ]
          },
          "metadata": {},
          "execution_count": 25
        }
      ]
    },
    {
      "cell_type": "code",
      "source": [
        "import numpy as np\n",
        "np_height = np.array([1.73, 1.68, 1.71, 1.89, 1.79])\n",
        "np_weight = np.array([65.4, 59.2, 63.6, 88.4, 68.7])\n",
        "bmi = np_weight / np_height ** 2\n",
        "bmi"
      ],
      "metadata": {
        "colab": {
          "base_uri": "https://localhost:8080/"
        },
        "id": "rTGCATpzT0TM",
        "outputId": "e52296d1-fd72-4ce7-a52c-1e1e8c3c6012"
      },
      "execution_count": 26,
      "outputs": [
        {
          "output_type": "execute_result",
          "data": {
            "text/plain": [
              "array([21.85171573, 20.97505669, 21.75028214, 24.7473475 , 21.44127836])"
            ]
          },
          "metadata": {},
          "execution_count": 26
        }
      ]
    },
    {
      "cell_type": "code",
      "source": [
        "np.logical_and(bmi > 21, bmi < 22)"
      ],
      "metadata": {
        "colab": {
          "base_uri": "https://localhost:8080/"
        },
        "id": "N58dAEx0T43W",
        "outputId": "19f1d69b-5f2b-4f59-ff22-4e1f2128c80a"
      },
      "execution_count": 27,
      "outputs": [
        {
          "output_type": "execute_result",
          "data": {
            "text/plain": [
              "array([ True, False,  True, False,  True])"
            ]
          },
          "metadata": {},
          "execution_count": 27
        }
      ]
    },
    {
      "cell_type": "code",
      "source": [
        "bmi[np.logical_and(bmi > 21, bmi < 22)]"
      ],
      "metadata": {
        "colab": {
          "base_uri": "https://localhost:8080/"
        },
        "id": "QiZV9FDOUAxt",
        "outputId": "7e764279-6c62-4f05-c546-1c44b29227bf"
      },
      "execution_count": 28,
      "outputs": [
        {
          "output_type": "execute_result",
          "data": {
            "text/plain": [
              "array([21.85171573, 21.75028214, 21.44127836])"
            ]
          },
          "metadata": {},
          "execution_count": 28
        }
      ]
    },
    {
      "cell_type": "markdown",
      "source": [
        "1)verifique se my_kitchen é maior que 10 e menor que 18.\n",
        "\n",
        "2)verifique se my_kitchen é menor que 14 e menor que 17.\n",
        "\n",
        "3)Verifique se o dobro de my_kitchen é menor que o triplo de your_kitchen.\n"
      ],
      "metadata": {
        "id": "FDYCGgIEUNhd"
      }
    },
    {
      "cell_type": "code",
      "source": [
        "# Define variables\n",
        "my_kitchen = 18.0\n",
        "your_kitchen = 14.0\n",
        "#my_kitchen bigger than 10 and smaller than 18?\n",
        "print(my_kitchen > 10 and my_kitchen < 18)\n",
        "# my_kitchen smaller than 14 or bigger than 17?\n",
        "print(my_kitchen > 14 and my_kitchen < 17)\n",
        "# Double my_kitchen smaller than triple your_kitchen?\n",
        "dobro_my_kitchen = my_kitchen*2\n",
        "print(dobro_my_kitchen)\n",
        "triplo_your_kitchen = your_kitchen*3\n",
        "print(triplo_your_kitchen)\n",
        "print(dobro_my_kitchen < triplo_your_kitchen)"
      ],
      "metadata": {
        "colab": {
          "base_uri": "https://localhost:8080/"
        },
        "id": "QRM1V6vgUSM_",
        "outputId": "9142cfd9-fd1c-4f69-f738-672f52944291"
      },
      "execution_count": 34,
      "outputs": [
        {
          "output_type": "stream",
          "name": "stdout",
          "text": [
            "False\n",
            "False\n",
            "36.0\n",
            "42.0\n",
            "True\n"
          ]
        }
      ]
    },
    {
      "cell_type": "markdown",
      "source": [
        "1)verifique quais elementos de my_house são maiores que 18.5 ou menores que 10.\n",
        "\n",
        "2)Verifique quis elementos das mesmas posições dos arrays possuem valor menor que 11\n"
      ],
      "metadata": {
        "id": "GuW2PCniV6Gf"
      }
    },
    {
      "cell_type": "code",
      "source": [
        "# Create arrays\n",
        "import numpy as np\n",
        "my_house = np.array([18.0, 20.0, 10.75, 9.50])\n",
        "your_house = np.array([14.0, 24.0, 14.25, 9.0])\n",
        "#my_house greater than 18.5 or smaller than 10\n",
        "print(my_house[np.logical_or(my_house > 18.5, my_house < 10)])\n",
        "# Both my_house and your_house smaller than 11\n",
        "print(np.logical_and(my_house < 11, your_house < 11))"
      ],
      "metadata": {
        "colab": {
          "base_uri": "https://localhost:8080/"
        },
        "id": "eqw_Q_vGV-EW",
        "outputId": "bd81375e-cafc-4ac4-81ac-3d6604968336"
      },
      "execution_count": 48,
      "outputs": [
        {
          "output_type": "stream",
          "name": "stdout",
          "text": [
            "[20.   9.5]\n",
            "[False False False  True]\n"
          ]
        }
      ]
    },
    {
      "cell_type": "code",
      "source": [
        "z = 4\n",
        "if z % 2 == 0:\n",
        "  print(f\"{z} é par\")\n",
        "else:\n",
        "  print(f\"{z} é impar\")"
      ],
      "metadata": {
        "colab": {
          "base_uri": "https://localhost:8080/"
        },
        "id": "2fw-cL9OZK4S",
        "outputId": "66677a0c-f373-407a-dbc3-2817dc5abfac"
      },
      "execution_count": 51,
      "outputs": [
        {
          "output_type": "stream",
          "name": "stdout",
          "text": [
            "4 é par\n"
          ]
        }
      ]
    },
    {
      "cell_type": "code",
      "source": [
        "z = 3\n",
        "if z % 2 == 0:\n",
        "  print(\"z is divisible by 2\")\n",
        "elif z % 3 == 0:\n",
        "  print(\"z is divisible by 3\")\n",
        "else:\n",
        "  print(\"z is neither divisible by 2 nor by 3\")"
      ],
      "metadata": {
        "colab": {
          "base_uri": "https://localhost:8080/"
        },
        "id": "JXfnJOp0ZtFg",
        "outputId": "87ed2024-f7e1-43ee-c555-6bca337caa80"
      },
      "execution_count": 52,
      "outputs": [
        {
          "output_type": "stream",
          "name": "stdout",
          "text": [
            "z is divisible by 3\n"
          ]
        }
      ]
    },
    {
      "cell_type": "markdown",
      "source": [
        "1)na linha 10 verifique que se area for maior que 15 print a mensage : “Big PLace”\n",
        "\n",
        "2)Apos á verificação, utilize o comando else para informar que se caso contrário, print “pretty small”.\n"
      ],
      "metadata": {
        "id": "Sw138vMiag3d"
      }
    },
    {
      "cell_type": "code",
      "source": [
        "#Define variables\n",
        "room = \"kit\"\n",
        "area = 14.0\n",
        "# if statement for room\n",
        "if room == \"kit\" :\n",
        "  print(\"looking around in the kitchen.\")\n",
        "# if statement for area\n",
        "if area > 15:\n",
        "  print(\"Big place\")\n",
        "else:\n",
        "  print(\"pretty small\")"
      ],
      "metadata": {
        "colab": {
          "base_uri": "https://localhost:8080/"
        },
        "id": "otQ6os7Bakwq",
        "outputId": "2521a182-0444-4742-aefa-2dfbc1b530a6"
      },
      "execution_count": 53,
      "outputs": [
        {
          "output_type": "stream",
          "name": "stdout",
          "text": [
            "looking around in the kitchen.\n",
            "pretty small\n"
          ]
        }
      ]
    }
  ]
}