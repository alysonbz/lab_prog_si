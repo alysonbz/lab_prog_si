{
  "nbformat": 4,
  "nbformat_minor": 0,
  "metadata": {
    "colab": {
      "provenance": [],
      "authorship_tag": "ABX9TyO1laR6e3RNw9dQAJUUI/6d",
      "include_colab_link": true
    },
    "kernelspec": {
      "name": "python3",
      "display_name": "Python 3"
    },
    "language_info": {
      "name": "python"
    }
  },
  "cells": [
    {
      "cell_type": "markdown",
      "metadata": {
        "id": "view-in-github",
        "colab_type": "text"
      },
      "source": [
        "<a href=\"https://colab.research.google.com/github/alysonbz/lab_prog_si/blob/levi_nascimento/Aula_1.ipynb\" target=\"_parent\"><img src=\"https://colab.research.google.com/assets/colab-badge.svg\" alt=\"Open In Colab\"/></a>"
      ]
    },
    {
      "cell_type": "markdown",
      "source": [
        "Primeiro Código"
      ],
      "metadata": {
        "id": "U525RhqbChq4"
      }
    },
    {
      "cell_type": "code",
      "execution_count": null,
      "metadata": {
        "colab": {
          "base_uri": "https://localhost:8080/"
        },
        "id": "_s8Stoa8AzZw",
        "outputId": "98815552-338e-4418-dd2e-0e173ff47f1a"
      },
      "outputs": [
        {
          "output_type": "execute_result",
          "data": {
            "text/plain": [
              "28.73174689021093"
            ]
          },
          "metadata": {},
          "execution_count": 1
        }
      ],
      "source": [
        "altura = 1.72\n",
        "peso = 85\n",
        "nome = \"Levi\"\n",
        "aluno = True\n",
        "professor = False\n",
        "imc = peso/altura**2\n",
        "imc"
      ]
    },
    {
      "cell_type": "code",
      "source": [
        "print(type(altura))\n",
        "print(type(peso))\n",
        "print(type(nome))\n",
        "print(type(aluno))\n",
        "print(type(professor))"
      ],
      "metadata": {
        "colab": {
          "base_uri": "https://localhost:8080/"
        },
        "id": "po4AxWVdDSjO",
        "outputId": "ff2a63b1-7d80-4b8f-c3df-ba1bcc1ef609"
      },
      "execution_count": null,
      "outputs": [
        {
          "output_type": "stream",
          "name": "stdout",
          "text": [
            "<class 'float'>\n",
            "<class 'int'>\n",
            "<class 'str'>\n",
            "<class 'bool'>\n",
            "<class 'bool'>\n"
          ]
        }
      ]
    },
    {
      "cell_type": "markdown",
      "source": [
        "Operações com números e Stringers"
      ],
      "metadata": {
        "id": "-42icFmzGYkf"
      }
    },
    {
      "cell_type": "code",
      "source": [
        "10*5"
      ],
      "metadata": {
        "colab": {
          "base_uri": "https://localhost:8080/"
        },
        "id": "uyuqKvV9GRLh",
        "outputId": "2069c1be-f3d5-49b3-8128-0af7fca3d571"
      },
      "execution_count": null,
      "outputs": [
        {
          "output_type": "execute_result",
          "data": {
            "text/plain": [
              "50"
            ]
          },
          "metadata": {},
          "execution_count": 12
        }
      ]
    },
    {
      "cell_type": "code",
      "source": [
        "\"abc\" + \"cde\""
      ],
      "metadata": {
        "colab": {
          "base_uri": "https://localhost:8080/",
          "height": 36
        },
        "id": "JA0qpBObGcd2",
        "outputId": "96aff698-287c-423c-ea8f-81fa6fc97ae3"
      },
      "execution_count": null,
      "outputs": [
        {
          "output_type": "execute_result",
          "data": {
            "text/plain": [
              "'abccde'"
            ],
            "application/vnd.google.colaboratory.intrinsic+json": {
              "type": "string"
            }
          },
          "metadata": {},
          "execution_count": 13
        }
      ]
    },
    {
      "cell_type": "code",
      "source": [
        "\"2\" + \"3\""
      ],
      "metadata": {
        "colab": {
          "base_uri": "https://localhost:8080/",
          "height": 36
        },
        "id": "Ad5xt7ACHIr5",
        "outputId": "93919d3b-161d-4e25-e907-d3c222caf24c"
      },
      "execution_count": null,
      "outputs": [
        {
          "output_type": "execute_result",
          "data": {
            "text/plain": [
              "'23'"
            ],
            "application/vnd.google.colaboratory.intrinsic+json": {
              "type": "string"
            }
          },
          "metadata": {},
          "execution_count": 14
        }
      ]
    },
    {
      "cell_type": "code",
      "source": [
        "#1)cole o seguinte comando na tela\n",
        "print(5/8)"
      ],
      "metadata": {
        "colab": {
          "base_uri": "https://localhost:8080/"
        },
        "id": "Ge9cXC3yuAa6",
        "outputId": "cb0fa2a8-1631-4210-fa0b-7ffd6678d5b5"
      },
      "execution_count": null,
      "outputs": [
        {
          "output_type": "stream",
          "name": "stdout",
          "text": [
            "0.625\n"
          ]
        }
      ]
    },
    {
      "cell_type": "code",
      "source": [
        "#2)\n",
        "#questão1\n",
        "print(7+8)"
      ],
      "metadata": {
        "colab": {
          "base_uri": "https://localhost:8080/"
        },
        "id": "XZLsd6GKISkR",
        "outputId": "3cebb6d4-86a5-40d4-b2e9-5aeb81e3a1d8"
      },
      "execution_count": null,
      "outputs": [
        {
          "output_type": "stream",
          "name": "stdout",
          "text": [
            "15\n"
          ]
        }
      ]
    },
    {
      "cell_type": "code",
      "source": [
        "#3)\n",
        "#em uma célula realize a operação de print da soma do número 5 e 3, logo após faça a subtração\n",
        "print(\"A soma de 5 e 3 é\",5+3)\n",
        "print(\"A subtração de 5 e 3 é\",5-3)"
      ],
      "metadata": {
        "colab": {
          "base_uri": "https://localhost:8080/"
        },
        "id": "Bsp7T8Q-KmQk",
        "outputId": "0b0e1cff-71b2-465e-f85a-0e6b3fd98931"
      },
      "execution_count": null,
      "outputs": [
        {
          "output_type": "stream",
          "name": "stdout",
          "text": [
            "A soma de 5 e 3 é 8\n",
            "A subtração de 5 e 3 é 2\n"
          ]
        }
      ]
    },
    {
      "cell_type": "markdown",
      "source": [],
      "metadata": {
        "id": "DEHvZthmBJ4F"
      }
    },
    {
      "cell_type": "code",
      "source": [
        "#4)\n",
        "#Em uma célula realize os prints das operações de potência, multilicação, resto da divisão entre 5 e 3\n",
        "print(5**3)\n",
        "print(5*3)\n",
        "print(5%3)"
      ],
      "metadata": {
        "colab": {
          "base_uri": "https://localhost:8080/"
        },
        "id": "e_FfzSQWLGi7",
        "outputId": "9f257312-e08d-418a-b9d7-d8cfe2694e13"
      },
      "execution_count": null,
      "outputs": [
        {
          "output_type": "stream",
          "name": "stdout",
          "text": [
            "125\n",
            "15\n",
            "2\n"
          ]
        }
      ]
    },
    {
      "cell_type": "code",
      "source": [
        "#5)\n",
        "#suponha que você tem 100 reais e esse dinheiro rende 1.1% ao ano. Quanto dinheiro você terá acumulado em 7 anos\n",
        "dinheiro = 100\n",
        "rendimento = 0.011\n",
        "ano = 7\n",
        "rend_7anos = dinheiro*rendimento*ano\n",
        "print(rend_7anos)"
      ],
      "metadata": {
        "colab": {
          "base_uri": "https://localhost:8080/"
        },
        "id": "FNZXeGLcLjuH",
        "outputId": "735b528a-5b29-41b2-935b-cbae4ff6ce3b"
      },
      "execution_count": null,
      "outputs": [
        {
          "output_type": "stream",
          "name": "stdout",
          "text": [
            "7.699999999999999\n"
          ]
        }
      ]
    },
    {
      "cell_type": "code",
      "source": [
        "#6)\n",
        "#Completar o código e rodar na célula\n",
        "savings = 100\n",
        "growth_multiplier = 1.1\n",
        "desc = \"Compund interest\"\n",
        "year1 = growth_multiplier*savings\n",
        "print(type(year1))\n",
        "doubledesc = desc + desc\n",
        "print(doubledesc)"
      ],
      "metadata": {
        "colab": {
          "base_uri": "https://localhost:8080/"
        },
        "id": "H3QaCyofpKvJ",
        "outputId": "5aadba76-0694-4d65-ba8a-aff377e7c28f"
      },
      "execution_count": null,
      "outputs": [
        {
          "output_type": "stream",
          "name": "stdout",
          "text": [
            "<class 'float'>\n",
            "Compund interestCompund interest\n"
          ]
        }
      ]
    },
    {
      "cell_type": "code",
      "source": [
        "#7)\n",
        "#completar código convertendo pi_string para float. Mostrar print das variáveis e seus tipos\n",
        "pi_string = \"3.1415926\"\n",
        "pi_float = float(pi_string)\n",
        "print(pi_float)\n",
        "print(type(pi_string))\n",
        "print(type(pi_float))"
      ],
      "metadata": {
        "colab": {
          "base_uri": "https://localhost:8080/"
        },
        "id": "uSk0KAzqqpzU",
        "outputId": "6b13369e-c0e7-4d5c-e09d-2b2b0063ff65"
      },
      "execution_count": null,
      "outputs": [
        {
          "output_type": "stream",
          "name": "stdout",
          "text": [
            "3.1415926\n",
            "<class 'str'>\n",
            "<class 'float'>\n"
          ]
        }
      ]
    },
    {
      "cell_type": "code",
      "source": [
        "#8)\n",
        "#informar o erro\n",
        "savings = 100\n",
        "result = 100*1.10**7\n",
        "\n",
        "print(\"I starded with $\"+savings+\" and now have $\"+result+\". Awesome\")\n",
        "\n",
        "#o erro é que não se pode concatenar uma string com um inteiro usando o operador +,\n",
        "#que é usado para juntar str, teria que transformar os int em str"
      ],
      "metadata": {
        "colab": {
          "base_uri": "https://localhost:8080/"
        },
        "id": "yUlMH4M4rt8B",
        "outputId": "d6561718-c879-4402-99c9-7a0769fd146e"
      },
      "execution_count": null,
      "outputs": [
        {
          "output_type": "stream",
          "name": "stdout",
          "text": [
            "I starded with $100 and now have $194.87171000000012. Awesome\n"
          ]
        }
      ]
    },
    {
      "cell_type": "code",
      "source": [
        "#9)\n",
        "#texto anterior corrigido\n",
        "avings = 100\n",
        "result = 100*1.10**7\n",
        "print(\"I starded with $\"+ str(savings)+\" and now have $\"+str(result)+\". Awesome\")"
      ],
      "metadata": {
        "colab": {
          "base_uri": "https://localhost:8080/"
        },
        "id": "hGin0OV3tISM",
        "outputId": "fc5cc09e-4f4c-42fa-f7bf-52b9c02ca35c"
      },
      "execution_count": null,
      "outputs": [
        {
          "output_type": "stream",
          "name": "stdout",
          "text": [
            "I starded with $100 and now have $194.87171000000012. Awesome\n"
          ]
        }
      ]
    },
    {
      "cell_type": "code",
      "source": [
        "#10) Qual dos textos seguintes apresenta erro se for executado em um comando print ? Porque?\n",
        "#a) \"I can add integers, like\" + str(5) + \" to strings.\"\n",
        "#b) \"I said + (\"Hey *2)+ \"Hey!\"\n",
        "#c) \"The correct answer to this multiple choice exercise is answer number \"+2\n",
        "#d) True + False\n",
        "\n",
        "print(\"The correct answer to this multiple choice exercise is answer number \"+2)\n",
        "#alternativa C) dá erro pois está tentando concatenar str e int"
      ],
      "metadata": {
        "colab": {
          "base_uri": "https://localhost:8080/"
        },
        "id": "bry7VRpmtibO",
        "outputId": "a8bef18a-6f38-4e23-a860-a0ce91bd9344"
      },
      "execution_count": null,
      "outputs": [
        {
          "output_type": "stream",
          "name": "stdout",
          "text": [
            "I saidhey hey hey!\n"
          ]
        }
      ]
    }
  ]
}