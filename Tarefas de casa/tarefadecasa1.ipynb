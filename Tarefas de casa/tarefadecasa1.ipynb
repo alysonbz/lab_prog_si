{
  "nbformat": 4,
  "nbformat_minor": 0,
  "metadata": {
    "colab": {
      "provenance": []
    },
    "kernelspec": {
      "name": "python3",
      "display_name": "Python 3"
    },
    "language_info": {
      "name": "python"
    }
  },
  "cells": [
    {
      "cell_type": "markdown",
      "source": [
        "Continuação das questões do slide"
      ],
      "metadata": {
        "id": "TrXk9hozw9kc"
      }
    },
    {
      "cell_type": "code",
      "execution_count": null,
      "metadata": {
        "id": "WEW2N1A1w4ss"
      },
      "outputs": [],
      "source": [
        "#Questão 6\n",
        "savings = 100\n",
        "growth_multiplier = 1.1\n",
        "desc = \"compound interest\"\n",
        "\n",
        "year1 = savings * growth_multiplier\n",
        "print(type(year1))\n",
        "\n",
        "doubledesc = desc + desc\n",
        "print(doubledesc)"
      ]
    },
    {
      "cell_type": "code",
      "source": [
        "#Questão 7\n",
        "pi_string = \"3.1415926\"\n",
        "pi_float = float(pi_string)\n",
        "print(pi_float)"
      ],
      "metadata": {
        "id": "c78GPd5qyHIa"
      },
      "execution_count": null,
      "outputs": []
    },
    {
      "cell_type": "code",
      "source": [
        "#Questão 8 e 9\n",
        "savings = 100\n",
        "result = 100 * 1.10 ** 7\n",
        "#print(\"I started with $\"+ savings + \" and now have $\" + result + \". Awesome!\")\n",
        "#O erro possível nessa linha é de que não é possível concatenar uma váriavel do tipo int, então devemos muda-la para str\n",
        "#Modo correto:\n",
        "print(\"I started with $\"+ str(savings) + \" and now have $\" + str(result)+ \". Awesome!\")"
      ],
      "metadata": {
        "colab": {
          "base_uri": "https://localhost:8080/"
        },
        "id": "M78tVpMKyVrT",
        "outputId": "fef40263-072b-45af-9db0-ce80b1514b7b"
      },
      "execution_count": 3,
      "outputs": [
        {
          "output_type": "stream",
          "name": "stdout",
          "text": [
            "I started with $100 and now have $194.87171000000012. Awesome!\n"
          ]
        }
      ]
    },
    {
      "cell_type": "code",
      "source": [
        "#Questão 10\n",
        "#print(\"The correct answer to this multiple choice exercise is answer number\"+2)\n",
        "#Não é possível executar pois esta somando número inteiro com str"
      ],
      "metadata": {
        "colab": {
          "base_uri": "https://localhost:8080/",
          "height": 180
        },
        "id": "ka1JZWmK0AWX",
        "outputId": "75b06a43-5812-44f0-d7b7-eb1eb4e99361"
      },
      "execution_count": 8,
      "outputs": [
        {
          "output_type": "error",
          "ename": "TypeError",
          "evalue": "can only concatenate str (not \"int\") to str",
          "traceback": [
            "\u001b[0;31m---------------------------------------------------------------------------\u001b[0m",
            "\u001b[0;31mTypeError\u001b[0m                                 Traceback (most recent call last)",
            "\u001b[0;32m<ipython-input-8-ef46f5f97a91>\u001b[0m in \u001b[0;36m<cell line: 0>\u001b[0;34m()\u001b[0m\n\u001b[1;32m      1\u001b[0m \u001b[0;31m#Questão 10\u001b[0m\u001b[0;34m\u001b[0m\u001b[0;34m\u001b[0m\u001b[0m\n\u001b[0;32m----> 2\u001b[0;31m \u001b[0mprint\u001b[0m\u001b[0;34m(\u001b[0m\u001b[0;34m\"The correct answer to this multiple choice exercise is answer number\"\u001b[0m\u001b[0;34m+\u001b[0m\u001b[0;36m2\u001b[0m\u001b[0;34m)\u001b[0m\u001b[0;34m\u001b[0m\u001b[0;34m\u001b[0m\u001b[0m\n\u001b[0m\u001b[1;32m      3\u001b[0m \u001b[0;31m#Não é possível executar pois o interpretador os entende como variáveis indefinidas\u001b[0m\u001b[0;34m\u001b[0m\u001b[0;34m\u001b[0m\u001b[0m\n",
            "\u001b[0;31mTypeError\u001b[0m: can only concatenate str (not \"int\") to str"
          ]
        }
      ]
    }
  ]
}