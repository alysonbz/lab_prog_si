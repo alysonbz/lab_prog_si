{
  "nbformat": 4,
  "nbformat_minor": 0,
  "metadata": {
    "colab": {
      "provenance": [],
      "authorship_tag": "ABX9TyN9c0loIRwvaaEIpXPF+NQq",
      "include_colab_link": true
    },
    "kernelspec": {
      "name": "python3",
      "display_name": "Python 3"
    },
    "language_info": {
      "name": "python"
    }
  },
  "cells": [
    {
      "cell_type": "markdown",
      "metadata": {
        "id": "view-in-github",
        "colab_type": "text"
      },
      "source": [
        "<a href=\"https://colab.research.google.com/github/alysonbz/lab_prog_si/blob/cauanrodrigues/aula3.ipynb\" target=\"_parent\"><img src=\"https://colab.research.google.com/assets/colab-badge.svg\" alt=\"Open In Colab\"/></a>"
      ]
    },
    {
      "cell_type": "code",
      "execution_count": 4,
      "metadata": {
        "colab": {
          "base_uri": "https://localhost:8080/"
        },
        "id": "zlz-T6xfGfUP",
        "outputId": "38743b6b-4402-4cea-b51b-7bf8f385696c"
      },
      "outputs": [
        {
          "output_type": "stream",
          "name": "stdout",
          "text": [
            "hall 11.25 \n",
            "kit 18.0 \n",
            "living room 28.0 \n",
            "bedroom 18.75 \n",
            "bathroom 9.5\n",
            "[['hallway', 11.25], ['kitchen', 18.0], ['living room', 28.0]]\n"
          ]
        },
        {
          "output_type": "execute_result",
          "data": {
            "text/plain": [
              "list"
            ]
          },
          "metadata": {},
          "execution_count": 4
        }
      ],
      "source": [
        "hall = 11.25\n",
        "kit = 18.0\n",
        "liv = 28.0\n",
        "bed = 18.75\n",
        "bath = 9.50\n",
        "\n",
        "print (\"hall\", hall,\"\\nkit\", kit, \"\\nliving room\", liv,\"\\nbedroom\", bed, \"\\nbathroom\", bath)\n"
      ]
    },
    {
      "cell_type": "code",
      "source": [
        "house = [['hallway', hall], ['kitchen', kit], ['living room', liv] ,['bedroom', bed], ['bathroom', bath]]\n",
        "print(house)\n",
        "type(house)"
      ],
      "metadata": {
        "colab": {
          "base_uri": "https://localhost:8080/"
        },
        "id": "orHDTEvKI6PM",
        "outputId": "4ba2f5a5-a747-4798-f900-22a8303dc6ee"
      },
      "execution_count": 65,
      "outputs": [
        {
          "output_type": "stream",
          "name": "stdout",
          "text": [
            "[['hallway', 11.25], ['kitchen', 18.0], ['living room', 28.0], ['bedroom', 18.75], ['bathroom', 9.5]]\n"
          ]
        },
        {
          "output_type": "execute_result",
          "data": {
            "text/plain": [
              "list"
            ]
          },
          "metadata": {},
          "execution_count": 65
        }
      ]
    },
    {
      "cell_type": "code",
      "source": [
        "fam = ['liz', 1.73, 'emma', 1.68, 'mom', 1.71, 'dad', 1.89]\n",
        "fam[3]\n",
        "print(\"O tamanho da família é:\",len(fam))"
      ],
      "metadata": {
        "colab": {
          "base_uri": "https://localhost:8080/"
        },
        "id": "XJrTdSfMJSQz",
        "outputId": "2e6e74e4-8fb0-43df-c5e0-409b16af7001"
      },
      "execution_count": 20,
      "outputs": [
        {
          "output_type": "stream",
          "name": "stdout",
          "text": [
            "O tamanho da família é: 8\n"
          ]
        }
      ]
    },
    {
      "cell_type": "markdown",
      "source": [
        "Acessando o terceiro elemento da lista"
      ],
      "metadata": {
        "id": "Rrca0ue1K66S"
      }
    },
    {
      "cell_type": "code",
      "source": [
        "#Acessando elementos\n",
        "t = fam[2]\n",
        "t"
      ],
      "metadata": {
        "colab": {
          "base_uri": "https://localhost:8080/",
          "height": 35
        },
        "id": "-i_nh9OpK_kJ",
        "outputId": "e1ce6509-2776-45a1-eb7c-556a0dee7307"
      },
      "execution_count": 21,
      "outputs": [
        {
          "output_type": "execute_result",
          "data": {
            "text/plain": [
              "'emma'"
            ],
            "application/vnd.google.colaboratory.intrinsic+json": {
              "type": "string"
            }
          },
          "metadata": {},
          "execution_count": 21
        }
      ]
    },
    {
      "cell_type": "markdown",
      "source": [
        "FAZENDO UM SLICE NAS LISTAS"
      ],
      "metadata": {
        "id": "r1n8rWGWLgdD"
      }
    },
    {
      "cell_type": "code",
      "source": [
        "#Slice é representado por :\n",
        "fam[2:6]"
      ],
      "metadata": {
        "colab": {
          "base_uri": "https://localhost:8080/"
        },
        "id": "jo0T8LEULdhJ",
        "outputId": "fe8bc1eb-b075-4667-b449-a50c1747bb54"
      },
      "execution_count": 23,
      "outputs": [
        {
          "output_type": "execute_result",
          "data": {
            "text/plain": [
              "['emma', 1.68, 'mom', 1.71]"
            ]
          },
          "metadata": {},
          "execution_count": 23
        }
      ]
    },
    {
      "cell_type": "code",
      "source": [
        "#Criando a lista das áreas\n",
        "areas = ['hallway', 11.25, 'kitchen', 18.0, 'living room', 20.0, 'bedroom', 18.75, 'bathroom', 9.50]\n",
        "\n",
        "#Mostrando posições\n",
        "print(areas[5])\n",
        "print(areas[-1])\n",
        "print(areas[-5])\n"
      ],
      "metadata": {
        "colab": {
          "base_uri": "https://localhost:8080/"
        },
        "id": "gCx0hDUHMCMq",
        "outputId": "866940d7-fea0-4e08-925b-64f12d5415a3"
      },
      "execution_count": 42,
      "outputs": [
        {
          "output_type": "stream",
          "name": "stdout",
          "text": [
            "20.0\n",
            "9.5\n",
            "20.0\n"
          ]
        }
      ]
    },
    {
      "cell_type": "code",
      "source": [
        "#Soma das áreas living e kitchen\n",
        "eat_sleep_area = areas[3] + areas[-5]\n",
        "eat_sleep_area"
      ],
      "metadata": {
        "colab": {
          "base_uri": "https://localhost:8080/"
        },
        "id": "DpTN4fN-N09w",
        "outputId": "2f19dbaf-a663-4641-8493-e373ff1e0c4f"
      },
      "execution_count": 43,
      "outputs": [
        {
          "output_type": "execute_result",
          "data": {
            "text/plain": [
              "38.0"
            ]
          },
          "metadata": {},
          "execution_count": 43
        }
      ]
    },
    {
      "cell_type": "code",
      "source": [
        "downstairs = areas[:6]\n",
        "upstairs = areas[6:]\n",
        "print(downstairs)\n",
        "print(upstairs)"
      ],
      "metadata": {
        "colab": {
          "base_uri": "https://localhost:8080/"
        },
        "id": "1ZIVmISLQsg1",
        "outputId": "f8886baf-870b-41d5-b3e2-f9b5771c5ed6"
      },
      "execution_count": 44,
      "outputs": [
        {
          "output_type": "stream",
          "name": "stdout",
          "text": [
            "['hallway', 11.25, 'kitchen', 18.0, 'living room', 20.0]\n",
            "['bedroom', 18.75, 'bathroom', 9.5]\n"
          ]
        }
      ]
    },
    {
      "cell_type": "markdown",
      "source": [
        "Acessando uma lista dentro de outra lista"
      ],
      "metadata": {
        "id": "E70jOvv9Sufq"
      }
    },
    {
      "cell_type": "code",
      "source": [
        "familia = [['son', 1.73], ['daugther', 1.68], ['mom', 1.71], ['dad', 1.89], ['grandma', 1.75], ['grandpa', 1.8]]\n",
        "familia[2][1]"
      ],
      "metadata": {
        "colab": {
          "base_uri": "https://localhost:8080/"
        },
        "id": "-AsIQTnfStRL",
        "outputId": "9b883d51-1a00-404c-abbf-264039d96ba7"
      },
      "execution_count": 62,
      "outputs": [
        {
          "output_type": "execute_result",
          "data": {
            "text/plain": [
              "1.71"
            ]
          },
          "metadata": {},
          "execution_count": 62
        }
      ]
    },
    {
      "cell_type": "markdown",
      "source": [
        "Acesse o 3 elemento da lista"
      ],
      "metadata": {
        "id": "VZ0P5eVwS3qK"
      }
    },
    {
      "cell_type": "code",
      "source": [
        "familia[1][0]"
      ],
      "metadata": {
        "colab": {
          "base_uri": "https://localhost:8080/",
          "height": 35
        },
        "id": "Z2wTz6BnS_Ni",
        "outputId": "ecd428d8-8b56-4c66-9fa3-3dc8c0cb053a"
      },
      "execution_count": 50,
      "outputs": [
        {
          "output_type": "execute_result",
          "data": {
            "text/plain": [
              "'daugther'"
            ],
            "application/vnd.google.colaboratory.intrinsic+json": {
              "type": "string"
            }
          },
          "metadata": {},
          "execution_count": 50
        }
      ]
    },
    {
      "cell_type": "markdown",
      "source": [
        "Acessar a altura do segundo elemento da lista"
      ],
      "metadata": {
        "id": "dHBS8-htS_ei"
      }
    },
    {
      "cell_type": "code",
      "source": [
        "familia[1][1]"
      ],
      "metadata": {
        "colab": {
          "base_uri": "https://localhost:8080/"
        },
        "id": "KU1hKkRLTFqq",
        "outputId": "d871c1de-f368-41d0-bd22-ed0bb64bb99f"
      },
      "execution_count": 61,
      "outputs": [
        {
          "output_type": "execute_result",
          "data": {
            "text/plain": [
              "1.68"
            ]
          },
          "metadata": {},
          "execution_count": 61
        }
      ]
    },
    {
      "cell_type": "markdown",
      "source": [
        "NOVA LISTA"
      ],
      "metadata": {
        "id": "q1uo2kZXVfeB"
      }
    },
    {
      "cell_type": "code",
      "source": [
        "house[-1][1]"
      ],
      "metadata": {
        "colab": {
          "base_uri": "https://localhost:8080/"
        },
        "id": "XuSEStVGVh7h",
        "outputId": "07dbbfa2-1f97-4567-e281-f0d6d0ec2fcf"
      },
      "execution_count": 66,
      "outputs": [
        {
          "output_type": "execute_result",
          "data": {
            "text/plain": [
              "9.5"
            ]
          },
          "metadata": {},
          "execution_count": 66
        }
      ]
    },
    {
      "cell_type": "markdown",
      "source": [
        "Manipulando listas"
      ],
      "metadata": {
        "id": "c-q3BwK8Wyc3"
      }
    },
    {
      "cell_type": "code",
      "source": [
        "fam = ['liz', 1.73, 'emma', 1.68, 'mom', 1.71, 'dad', 1.89]\n",
        "fam[7] = 1.86\n",
        "fam"
      ],
      "metadata": {
        "id": "YEWbONd-WyBf"
      },
      "execution_count": null,
      "outputs": []
    }
  ]
}