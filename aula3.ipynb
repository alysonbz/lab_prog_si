{
  "nbformat": 4,
  "nbformat_minor": 0,
  "metadata": {
    "colab": {
      "provenance": [],
      "authorship_tag": "ABX9TyNSQj4urSuoYGD+mSl+yls2",
      "include_colab_link": true
    },
    "kernelspec": {
      "name": "python3",
      "display_name": "Python 3"
    },
    "language_info": {
      "name": "python"
    }
  },
  "cells": [
    {
      "cell_type": "markdown",
      "metadata": {
        "id": "view-in-github",
        "colab_type": "text"
      },
      "source": [
        "<a href=\"https://colab.research.google.com/github/alysonbz/lab_prog_si/blob/habacuquidoglas/aula3.ipynb\" target=\"_parent\"><img src=\"https://colab.research.google.com/assets/colab-badge.svg\" alt=\"Open In Colab\"/></a>"
      ]
    },
    {
      "cell_type": "code",
      "execution_count": null,
      "metadata": {
        "colab": {
          "base_uri": "https://localhost:8080/"
        },
        "id": "srYZqCs5G_9z",
        "outputId": "5adba2b0-f137-4eed-93e4-7c15ee05dcbc"
      },
      "outputs": [
        {
          "output_type": "stream",
          "name": "stdout",
          "text": [
            "[['halllway', 11.25, 'kitchen', 18.0, 'living room', 20.0, 'bedroom', 10.75, 'bathroom', 9.5]]\n",
            "<class 'list'>\n"
          ]
        }
      ],
      "source": [
        "#questão 3\n",
        "hall = 11.25\n",
        "kit = 18.0\n",
        "liv = 20.0\n",
        "bed = 10.75\n",
        "bath = 9.50\n",
        "house = [[\"halllway\",hall,\n",
        "          \"kitchen\",kit,\n",
        "          \"living room\",liv,\n",
        "          \"bedroom\",bed,\n",
        "          \"bathroom\",bath]]\n",
        "print(house)\n",
        "type(house)\n",
        "print(type(house))"
      ]
    },
    {
      "cell_type": "code",
      "source": [
        "fam =[\"mãe\",1.52,\"pai\",1.78,\"habacuqui\",1.80,\"kolya\",1.44]\n",
        "len(fam)"
      ],
      "metadata": {
        "colab": {
          "base_uri": "https://localhost:8080/"
        },
        "id": "Ufg8CJ3FJRO0",
        "outputId": "12f65a63-2e76-4d91-b67b-f4b21d55221d"
      },
      "execution_count": null,
      "outputs": [
        {
          "output_type": "execute_result",
          "data": {
            "text/plain": [
              "8"
            ]
          },
          "metadata": {},
          "execution_count": 10
        }
      ]
    },
    {
      "cell_type": "code",
      "source": [
        "print(\"o tamanho da familia é\", len(fam))"
      ],
      "metadata": {
        "colab": {
          "base_uri": "https://localhost:8080/"
        },
        "id": "zaxACm1ZKt37",
        "outputId": "e8c1d94d-2f88-4dc7-b8b0-15fb7573c7fb"
      },
      "execution_count": null,
      "outputs": [
        {
          "output_type": "stream",
          "name": "stdout",
          "text": [
            "o tamanho da familia é 8\n"
          ]
        }
      ]
    },
    {
      "cell_type": "markdown",
      "source": [
        "fazendo um slice na lista\n",
        "\n",
        "```\n",
        "\n",
        "```\n",
        "\n"
      ],
      "metadata": {
        "id": "hfk2uhPnLk7D"
      }
    },
    {
      "cell_type": "code",
      "source": [
        "fam[:5]"
      ],
      "metadata": {
        "colab": {
          "base_uri": "https://localhost:8080/"
        },
        "id": "PdCAWpTVLMlv",
        "outputId": "846e58cc-50b8-44f6-9430-76984b498c91"
      },
      "execution_count": null,
      "outputs": [
        {
          "output_type": "execute_result",
          "data": {
            "text/plain": [
              "['mãe', 1.52, 'pai', 1.78, 'habacuqui']"
            ]
          },
          "metadata": {},
          "execution_count": 13
        }
      ]
    },
    {
      "cell_type": "code",
      "source": [
        "#questão 4\n",
        "areas = ['hallway',11.25,\"kitchen\",18.0,'living room',20.0,'bedroom',10.75,'bathroom',9.50]\n",
        "print(areas[1])\n",
        "print(areas[-1])\n",
        "print(areas[5])"
      ],
      "metadata": {
        "colab": {
          "base_uri": "https://localhost:8080/"
        },
        "id": "J0Rx6sYSMA4z",
        "outputId": "26da9a6e-e8da-40a3-ae69-d1131202926e"
      },
      "execution_count": null,
      "outputs": [
        {
          "output_type": "stream",
          "name": "stdout",
          "text": [
            "11.25\n",
            "9.5\n",
            "20.0\n"
          ]
        }
      ]
    },
    {
      "cell_type": "code",
      "source": [
        "#questão 5\n",
        "eat_sleep_area = areas[5]+areas[3]\n",
        "print(eat_sleep_area)"
      ],
      "metadata": {
        "colab": {
          "base_uri": "https://localhost:8080/"
        },
        "id": "_AC2ybcENmXL",
        "outputId": "58231e4b-a4c8-4b0f-ed5a-5953d8040964"
      },
      "execution_count": null,
      "outputs": [
        {
          "output_type": "stream",
          "name": "stdout",
          "text": [
            "38.0\n"
          ]
        }
      ]
    },
    {
      "cell_type": "code",
      "source": [
        "#questão 6\n",
        "downstairs = areas[:6]\n",
        "print(downstairs)\n",
        "upstairs = areas[-4:]\n",
        "print(upstairs)"
      ],
      "metadata": {
        "colab": {
          "base_uri": "https://localhost:8080/"
        },
        "id": "_Fkr97YgPpBj",
        "outputId": "e1421db7-f361-42af-bc4b-9241ad1e02d3"
      },
      "execution_count": null,
      "outputs": [
        {
          "output_type": "stream",
          "name": "stdout",
          "text": [
            "['hallway', 11.25, 'kitchen', 18.0, 'living room', 20.0]\n",
            "['bedroom', 10.75, 'bathroom', 9.5]\n"
          ]
        }
      ]
    },
    {
      "cell_type": "markdown",
      "source": [
        "Atividade de classe\n"
      ],
      "metadata": {
        "id": "pOwfhdp8SgF4"
      }
    },
    {
      "cell_type": "code",
      "source": [
        "#questão 1\n",
        "familia = [[\"mãe\",1.52,],[\"pai\",1.78],[\"habacuqui\",1.80],[\"kolya\",1.44],[\"einar\",1.39],[\"maya\",1.10]]\n",
        "familia [2]\n"
      ],
      "metadata": {
        "colab": {
          "base_uri": "https://localhost:8080/"
        },
        "id": "KD3giIAcRtca",
        "outputId": "1d89a78b-c718-4117-caec-1f4d787a1074"
      },
      "execution_count": null,
      "outputs": [
        {
          "output_type": "execute_result",
          "data": {
            "text/plain": [
              "['habacuqui', 1.8]"
            ]
          },
          "metadata": {},
          "execution_count": 24
        }
      ]
    },
    {
      "cell_type": "code",
      "source": [
        "familia[1][1]"
      ],
      "metadata": {
        "colab": {
          "base_uri": "https://localhost:8080/"
        },
        "id": "QC4KXQR8UCHQ",
        "outputId": "1b366493-079f-450f-8763-3b23ac9addfe"
      },
      "execution_count": null,
      "outputs": [
        {
          "output_type": "execute_result",
          "data": {
            "text/plain": [
              "1.78"
            ]
          },
          "metadata": {},
          "execution_count": 25
        }
      ]
    },
    {
      "cell_type": "code",
      "source": [
        "house = [[\"halllway\",hall], [\"kitchen\",kit], [\"living room\",liv],[\"bedroom\",bed], [\"bathroom\",bath]]\n"
      ],
      "metadata": {
        "id": "wVkQsI0mVdkL"
      },
      "execution_count": null,
      "outputs": []
    },
    {
      "cell_type": "code",
      "source": [
        "house[-1][1]"
      ],
      "metadata": {
        "colab": {
          "base_uri": "https://localhost:8080/"
        },
        "id": "U_jhYU-GVuXe",
        "outputId": "5d1076f0-9f15-4b31-9778-3d67b3389c86"
      },
      "execution_count": null,
      "outputs": [
        {
          "output_type": "execute_result",
          "data": {
            "text/plain": [
              "9.5"
            ]
          },
          "metadata": {},
          "execution_count": 30
        }
      ]
    },
    {
      "cell_type": "code",
      "source": [
        "x =[[\"a\",'b','c'], [\"d\",\"e\",\"f\"], [\"g\",'h',\"i\"]]"
      ],
      "metadata": {
        "id": "7H2-kcL9XE3C"
      },
      "execution_count": 3,
      "outputs": []
    },
    {
      "cell_type": "code",
      "source": [
        "x[2][0]\n",
        "x[2][:2]"
      ],
      "metadata": {
        "colab": {
          "base_uri": "https://localhost:8080/"
        },
        "id": "4_dwCHGAPihG",
        "outputId": "dd7d5289-5e41-468a-be74-2350512d7be1"
      },
      "execution_count": 6,
      "outputs": [
        {
          "output_type": "execute_result",
          "data": {
            "text/plain": [
              "['g', 'h']"
            ]
          },
          "metadata": {},
          "execution_count": 6
        }
      ]
    }
  ]
}