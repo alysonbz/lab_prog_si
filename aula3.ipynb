{
  "nbformat": 4,
  "nbformat_minor": 0,
  "metadata": {
    "colab": {
      "provenance": [],
      "authorship_tag": "ABX9TyOmqcB9DJ8KKBvnvKCIA2aO",
      "include_colab_link": true
    },
    "kernelspec": {
      "name": "python3",
      "display_name": "Python 3"
    },
    "language_info": {
      "name": "python"
    }
  },
  "cells": [
    {
      "cell_type": "markdown",
      "metadata": {
        "id": "view-in-github",
        "colab_type": "text"
      },
      "source": [
        "<a href=\"https://colab.research.google.com/github/alysonbz/lab_prog_si/blob/Emanuel_Oliveira/aula3.ipynb\" target=\"_parent\"><img src=\"https://colab.research.google.com/assets/colab-badge.svg\" alt=\"Open In Colab\"/></a>"
      ]
    },
    {
      "cell_type": "markdown",
      "source": [
        "aceesando elementos da lista"
      ],
      "metadata": {
        "id": "5bK55OUnJ3br"
      }
    },
    {
      "cell_type": "code",
      "execution_count": 9,
      "metadata": {
        "colab": {
          "base_uri": "https://localhost:8080/"
        },
        "id": "MuBOmDsaJgeK",
        "outputId": "a4347c08-269c-4893-8704-753fb1e9f428"
      },
      "outputs": [
        {
          "output_type": "stream",
          "name": "stdout",
          "text": [
            "['liz', 1.73, 'emma', 1.68, 'mom', 1.71, 'dad', 1.89]\n",
            "liz\n",
            "['emma', 1.68, 'mom', 1.71]\n"
          ]
        }
      ],
      "source": [
        "fam = [\"liz\", 1.73, \"emma\", 1.68, \"mom\", 1.71, \"dad\", 1.89]\n",
        "print(fam)\n",
        "print(fam[0])\n",
        "print(fam[2:6])"
      ]
    },
    {
      "cell_type": "markdown",
      "source": [
        "4) Exiba o segundo elemento da lista\n",
        "\n",
        "4.1) Exiba o último elemento da lista usando index negativo.\n",
        "\n",
        "4.2) Exiba o elemento que indica o valor da área de Livin room.\n"
      ],
      "metadata": {
        "id": "MIK7hj-5MEwH"
      }
    },
    {
      "cell_type": "code",
      "source": [
        "# Cria a lista de áreas\n",
        "areas = [\"hallway\", 11.25, \"kitchen\", 18.0, \"living room\", 20.0, \"bedroom\", 10.75, \"bathroom\", 9.50]\n",
        "# Imprima o segundo elemento das áreas\n",
        "print(areas[1])\n",
        "# Imprima o último elemento das áreas\n",
        "print(areas[-1])\n",
        "# Imprima a área da sala de estar\n",
        "print(areas[5])"
      ],
      "metadata": {
        "colab": {
          "base_uri": "https://localhost:8080/"
        },
        "id": "ACvZwObmMF9G",
        "outputId": "9b29c504-9025-4e17-f886-789788dc128e"
      },
      "execution_count": 10,
      "outputs": [
        {
          "output_type": "stream",
          "name": "stdout",
          "text": [
            "11.25\n",
            "9.5\n",
            "20.0\n"
          ]
        }
      ]
    },
    {
      "cell_type": "markdown",
      "source": [
        "5) Na linha 7, acessando os elementos da lista, realize a soma dos valores de Kitchen e living room e atribua em eat_sleep_area.\n",
        "\n",
        "5.1) Exiba a variável eat_sleep_area.\n"
      ],
      "metadata": {
        "id": "Y9ckVQPnNiOm"
      }
    },
    {
      "cell_type": "code",
      "source": [
        "#create the areas list\n",
        "areas = [\"hallway\", 11.25, \"kitchen\", 18.0, \"living room\", 20.0, \"bedroom\", 10.75, \"bathroom\", 9.50]\n",
        "#sum of kitchen and bedroom area: eat_sleep_area\n",
        "print(areas)\n",
        "eat_sleep_area = (areas[3] + areas[5])\n",
        "#print the variable eat_sleep_area\n",
        "print(eat_sleep_area)"
      ],
      "metadata": {
        "colab": {
          "base_uri": "https://localhost:8080/"
        },
        "id": "ONX1IqBKNsGv",
        "outputId": "aadf478c-5471-447e-9f38-220459924d3d"
      },
      "execution_count": 13,
      "outputs": [
        {
          "output_type": "stream",
          "name": "stdout",
          "text": [
            "['hallway', 11.25, 'kitchen', 18.0, 'living room', 20.0, 'bedroom', 10.75, 'bathroom', 9.5]\n",
            "38.0\n"
          ]
        }
      ]
    },
    {
      "cell_type": "markdown",
      "source": [
        "6) Acesse os 6 primeiros elemento de areas e atribua a uma nova lista: downstairs.\n",
        "\n",
        "6.1) Acesse os 4 últimos elemento de areas e atribua a uma nova lista: upstairs.\n",
        "\n",
        "6.2) Exiba downstairs e upstairs.\n"
      ],
      "metadata": {
        "id": "QR0hrilXQjqG"
      }
    },
    {
      "cell_type": "code",
      "source": [
        "#create the areas list\n",
        "areas = [\"hallway\", 11.25, \"kitchen\", 18.0, \"living room\", 20.0, \"bedroom\", 10.75, \"bathroom\", 9.50]\n",
        "#use slicing to create downstairs\n",
        "downstairs = [areas[0:6]]\n",
        "#use slicing to create upstairs\n",
        "upstairs = [areas[6:10]]\n",
        "#print out downstairs and upstairs\n",
        "print(downstairs)\n",
        "print(upstairs)"
      ],
      "metadata": {
        "colab": {
          "base_uri": "https://localhost:8080/"
        },
        "id": "UqGe2FfoQoPG",
        "outputId": "9fed1afa-d30b-49cc-cc3c-da64bd3940f2"
      },
      "execution_count": 22,
      "outputs": [
        {
          "output_type": "stream",
          "name": "stdout",
          "text": [
            "[['hallway', 11.25, 'kitchen', 18.0, 'living room', 20.0]]\n",
            "[['bedroom', 10.75, 'bathroom', 9.5]]\n"
          ]
        }
      ]
    },
    {
      "cell_type": "markdown",
      "source": [
        "Faça uma lista da sua familia ex: [[fulano, altura],[sicrano,altura]...]\n",
        "\n",
        "acesse o terceiro elemento da lista.\n",
        "\n",
        "acesse a altura do segundo eleemnto da lista."
      ],
      "metadata": {
        "id": "hVA6sz6DSiJn"
      }
    },
    {
      "cell_type": "code",
      "source": [
        "fam = [[\"Emanuel\", 1.81],[\"Clara\", 1.60], [\"Emanuele\", 1.50], [\"Gabriel\", 1.40]]\n",
        "print(fam[2])\n",
        "print(fam[1][1])"
      ],
      "metadata": {
        "colab": {
          "base_uri": "https://localhost:8080/"
        },
        "id": "YXlBgFJnS-uV",
        "outputId": "0174bdc1-8a49-45e2-9a57-a6b9e1718dc4"
      },
      "execution_count": 14,
      "outputs": [
        {
          "output_type": "stream",
          "name": "stdout",
          "text": [
            "['Emanuele', 1.5]\n",
            "1.6\n"
          ]
        }
      ]
    }
  ]
}