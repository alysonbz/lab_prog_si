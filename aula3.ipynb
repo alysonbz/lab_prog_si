{
  "nbformat": 4,
  "nbformat_minor": 0,
  "metadata": {
    "colab": {
      "provenance": [],
      "authorship_tag": "ABX9TyOd2fAJ2BeOIwLFsAn1cAOk",
      "include_colab_link": true
    },
    "kernelspec": {
      "name": "python3",
      "display_name": "Python 3"
    },
    "language_info": {
      "name": "python"
    }
  },
  "cells": [
    {
      "cell_type": "markdown",
      "metadata": {
        "id": "view-in-github",
        "colab_type": "text"
      },
      "source": [
        "<a href=\"https://colab.research.google.com/github/alysonbz/lab_prog_si/blob/gabriel_coelho/aula3.ipynb\" target=\"_parent\"><img src=\"https://colab.research.google.com/assets/colab-badge.svg\" alt=\"Open In Colab\"/></a>"
      ]
    },
    {
      "cell_type": "markdown",
      "source": [
        "#ACESSANDO ELEMENTOS DA LISTA"
      ],
      "metadata": {
        "id": "8amG4sP9FVO0"
      }
    },
    {
      "cell_type": "code",
      "execution_count": null,
      "metadata": {
        "colab": {
          "base_uri": "https://localhost:8080/"
        },
        "id": "bk-AhKt5JZC0",
        "outputId": "6421d51d-7952-4dfd-b972-a5ca378b1bb3"
      },
      "outputs": [
        {
          "output_type": "execute_result",
          "data": {
            "text/plain": [
              "['Abel', 35, 'Gabriel', 19, 'Miguel', 10, 'Matheus', 3, 'Dog', 5]"
            ]
          },
          "metadata": {},
          "execution_count": 1
        }
      ],
      "source": [
        "#MONTANDO UMA LISTA\n",
        "fam = ['Abel', 35, 'Gabriel', 19, 'Miguel', 10, 'Matheus', 3, 'Dog', 5]\n",
        "fam"
      ]
    },
    {
      "cell_type": "code",
      "source": [
        "#ACESSANDO UM ELEMENTO DA LISTA\n",
        "fam[2]"
      ],
      "metadata": {
        "colab": {
          "base_uri": "https://localhost:8080/",
          "height": 36
        },
        "id": "Pq_RHRCuGbWF",
        "outputId": "14a2bee8-bef3-44c1-a5a8-be69fb7f2419"
      },
      "execution_count": null,
      "outputs": [
        {
          "output_type": "execute_result",
          "data": {
            "text/plain": [
              "'Gabriel'"
            ],
            "application/vnd.google.colaboratory.intrinsic+json": {
              "type": "string"
            }
          },
          "metadata": {},
          "execution_count": 3
        }
      ]
    },
    {
      "cell_type": "code",
      "source": [
        "#ACESSANDO O ÚLTIMO ELEMENTO DA LISTA\n",
        "fam[9] or fam[-1]"
      ],
      "metadata": {
        "colab": {
          "base_uri": "https://localhost:8080/"
        },
        "id": "WGjbYMpxH4aD",
        "outputId": "ee0f757e-a50d-40df-8d8e-8441b9581e66"
      },
      "execution_count": null,
      "outputs": [
        {
          "output_type": "execute_result",
          "data": {
            "text/plain": [
              "5"
            ]
          },
          "metadata": {},
          "execution_count": 6
        }
      ]
    },
    {
      "cell_type": "code",
      "source": [
        "#ACESSANDO DO PRIMEIRO ELEMENTO P/ ELEMENTO CENTRAL (acrescenta +1)\n",
        "fam[:5] or fam[0:5]"
      ],
      "metadata": {
        "colab": {
          "base_uri": "https://localhost:8080/"
        },
        "id": "Uwwkleh0Iioo",
        "outputId": "18b081b9-679e-4798-eb8f-03c8dbf7b5ce"
      },
      "execution_count": null,
      "outputs": [
        {
          "output_type": "execute_result",
          "data": {
            "text/plain": [
              "['Abel', 35, 'Gabriel', 19, 'Miguel']"
            ]
          },
          "metadata": {},
          "execution_count": 10
        }
      ]
    },
    {
      "cell_type": "code",
      "source": [
        "#ACESSANDO DO ELEMENTO CENTRAL P/ ÚLTIMO ELEMENTO\n",
        "fam[4:] or fam[4:10]"
      ],
      "metadata": {
        "colab": {
          "base_uri": "https://localhost:8080/"
        },
        "id": "jfuG1klKJM_q",
        "outputId": "08aceba3-c7f2-4fd5-e6c9-d7b07bad3acf"
      },
      "execution_count": null,
      "outputs": [
        {
          "output_type": "execute_result",
          "data": {
            "text/plain": [
              "['Miguel', 10, 'Matheus', 3, 'Dog', 5]"
            ]
          },
          "metadata": {},
          "execution_count": 11
        }
      ]
    },
    {
      "cell_type": "markdown",
      "source": [
        "#ATIVIDADE\n",
        "1 - Faça uma lista da sua familia. EX: [[fulano, altura],[sicrano,altura]...]\n",
        "\n",
        "1.1 - Acesse o terceiro elemento da lista.\n",
        "\n",
        "1.2 - Acesse a altura do segundo elemento da lista."
      ],
      "metadata": {
        "id": "J-UJdvS_J07E"
      }
    },
    {
      "cell_type": "code",
      "source": [
        "#MONTANDO A LISTA COM NOMES E SUAS RESPECTIVAS ALTURAS\n",
        "fam = [['Gabriel', 1.60] , ['Lilian', 1.65] , ['Francisco', 1.70]]\n",
        "fam"
      ],
      "metadata": {
        "colab": {
          "base_uri": "https://localhost:8080/"
        },
        "id": "NmhE0DKiNNTj",
        "outputId": "aae6b039-621d-4161-953f-dfe4b4cc080d"
      },
      "execution_count": null,
      "outputs": [
        {
          "output_type": "execute_result",
          "data": {
            "text/plain": [
              "[['Gabriel', 1.6], ['Lilian', 1.65], ['Francisco', 1.7]]"
            ]
          },
          "metadata": {},
          "execution_count": 14
        }
      ]
    },
    {
      "cell_type": "code",
      "source": [
        "#ACESSANDO O TERCEIRO ELEMENTO DA LISTA\n",
        "fam[2]"
      ],
      "metadata": {
        "colab": {
          "base_uri": "https://localhost:8080/"
        },
        "id": "rCG2DctHN3EB",
        "outputId": "91cd3980-0987-4614-ae23-4ce44ebf67f3"
      },
      "execution_count": null,
      "outputs": [
        {
          "output_type": "execute_result",
          "data": {
            "text/plain": [
              "['Francisco', 1.7]"
            ]
          },
          "metadata": {},
          "execution_count": 15
        }
      ]
    },
    {
      "cell_type": "code",
      "source": [
        "#ACESSANDO A ALTURA DO SEGUNDO ELEMENTO DA LISTA\n",
        "fam[1][1]"
      ],
      "metadata": {
        "colab": {
          "base_uri": "https://localhost:8080/"
        },
        "id": "Kx7lWRIdOPMA",
        "outputId": "af4fde0b-1277-4576-9148-3344a66cb5c9"
      },
      "execution_count": null,
      "outputs": [
        {
          "output_type": "execute_result",
          "data": {
            "text/plain": [
              "1.65"
            ]
          },
          "metadata": {},
          "execution_count": 16
        }
      ]
    }
  ]
}