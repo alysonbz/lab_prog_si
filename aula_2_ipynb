{
  "nbformat": 4,
  "nbformat_minor": 0,
  "metadata": {
    "colab": {
      "provenance": [],
      "authorship_tag": "ABX9TyMiZphrp4ubNJqFrmOEKXcy",
      "include_colab_link": true
    },
    "kernelspec": {
      "name": "python3",
      "display_name": "Python 3"
    },
    "language_info": {
      "name": "python"
    }
  },
  "cells": [
    {
      "cell_type": "markdown",
      "metadata": {
        "id": "view-in-github",
        "colab_type": "text"
      },
      "source": [
        "<a href=\"https://colab.research.google.com/github/alysonbz/lab_prog_si/blob/levi_nascimento/aula_2_ipynb\" target=\"_parent\"><img src=\"https://colab.research.google.com/assets/colab-badge.svg\" alt=\"Open In Colab\"/></a>"
      ]
    },
    {
      "cell_type": "markdown",
      "source": [
        "Lista"
      ],
      "metadata": {
        "id": "rWvEN1wx970S"
      }
    },
    {
      "cell_type": "code",
      "execution_count": null,
      "metadata": {
        "colab": {
          "base_uri": "https://localhost:8080/"
        },
        "id": "l88xQgXIxytE",
        "outputId": "205164c3-05df-46fd-d0d2-c1c1b65b6c1b"
      },
      "outputs": [
        {
          "output_type": "stream",
          "name": "stdout",
          "text": [
            "[1.73, 1.68, 1.71, 1.89]\n"
          ]
        }
      ],
      "source": [
        "#conjunto de Lista\n",
        "fam = [1.73, 1.68, 1.71, 1.89]\n",
        "print(fam)"
      ]
    },
    {
      "cell_type": "code",
      "source": [
        "[1.73, 1.68, 1.71, 1.89]"
      ],
      "metadata": {
        "colab": {
          "base_uri": "https://localhost:8080/"
        },
        "id": "zmNd4LWOzDXU",
        "outputId": "1ee8dde0-ed4f-411f-c256-9db8850fee5f"
      },
      "execution_count": null,
      "outputs": [
        {
          "output_type": "execute_result",
          "data": {
            "text/plain": [
              "[1.73, 1.68, 1.71, 1.89]"
            ]
          },
          "metadata": {},
          "execution_count": 3
        }
      ]
    },
    {
      "cell_type": "code",
      "source": [
        "fam = [\"Liz\", 1.73, \"emma\", 1.68, \"mom\", 1.71, \"dad\", 1.89]\n",
        "fam"
      ],
      "metadata": {
        "colab": {
          "base_uri": "https://localhost:8080/"
        },
        "id": "QCiLBlfPzZ0Z",
        "outputId": "40ceca0f-45db-4187-b089-9b328bf1a87f"
      },
      "execution_count": null,
      "outputs": [
        {
          "output_type": "execute_result",
          "data": {
            "text/plain": [
              "['Liz', 1.73, 'emma', 1.68, 'mom', 1.71, 'dad', 1.89]"
            ]
          },
          "metadata": {},
          "execution_count": 4
        }
      ]
    },
    {
      "cell_type": "markdown",
      "source": [
        "Trabalhando com as listas"
      ],
      "metadata": {
        "id": "cXGhmM4k8eAH"
      }
    },
    {
      "cell_type": "code",
      "source": [
        "alunos = [\"Levi\", \"kemilly\", \"Laísa\"]\n",
        "#.append função que adiciona um item ao final da lista\n",
        "print(type(alunos))\n"
      ],
      "metadata": {
        "colab": {
          "base_uri": "https://localhost:8080/"
        },
        "id": "VlXVIJDP7IuY",
        "outputId": "09650e29-55e2-417f-cb80-6464644fb4b2"
      },
      "execution_count": null,
      "outputs": [
        {
          "output_type": "stream",
          "name": "stdout",
          "text": [
            "<class 'list'>\n"
          ]
        }
      ]
    },
    {
      "cell_type": "code",
      "source": [
        "alunos.append(\"Douglas\")"
      ],
      "metadata": {
        "id": "SF-Qo8187wNn"
      },
      "execution_count": null,
      "outputs": []
    },
    {
      "cell_type": "code",
      "source": [
        "alunos"
      ],
      "metadata": {
        "colab": {
          "base_uri": "https://localhost:8080/"
        },
        "id": "Jx5VbiOu7bjp",
        "outputId": "7af6ca92-c753-41ea-edc0-b47ab91684ad"
      },
      "execution_count": null,
      "outputs": [
        {
          "output_type": "execute_result",
          "data": {
            "text/plain": [
              "['Levi', 'kemilly', 'Laísa', 'Douglas']"
            ]
          },
          "metadata": {},
          "execution_count": 16
        }
      ]
    },
    {
      "cell_type": "markdown",
      "source": [
        "Adiconar Lista dentro de Lista"
      ],
      "metadata": {
        "id": "cc4Hu4Tp770A"
      }
    },
    {
      "cell_type": "code",
      "source": [
        "alunoss_com_notas = [[\"Levi\", 9.0],[\"Kemilly\", 8.5],[\"Laísa\",8],[\"Marcos\",9.5]]\n",
        "alunoss_com_notas"
      ],
      "metadata": {
        "colab": {
          "base_uri": "https://localhost:8080/"
        },
        "id": "sbcR5plj76qh",
        "outputId": "c7b58fa3-d680-450b-8066-dc73df82a722"
      },
      "execution_count": null,
      "outputs": [
        {
          "output_type": "execute_result",
          "data": {
            "text/plain": [
              "[['Levi', 9.0], ['Kemilly', 8.5], ['Laísa', 8], ['Marcos', 9.5]]"
            ]
          },
          "metadata": {},
          "execution_count": 17
        }
      ]
    },
    {
      "cell_type": "markdown",
      "source": [
        "Acessando Elementos dentro da Lista"
      ],
      "metadata": {
        "id": "9Gpc8bU7-DeK"
      }
    },
    {
      "cell_type": "code",
      "source": [
        "fam2 = [[\"Liz\", 1.73],\n",
        "        [\"emaa\", 1.68],\n",
        "        [\"mom\", 1.71],\n",
        "        [\"dad\", 1.89]]\n",
        "fam2\n"
      ],
      "metadata": {
        "colab": {
          "base_uri": "https://localhost:8080/"
        },
        "id": "annfnU-Vz1Hp",
        "outputId": "40059878-024c-4a45-8aff-97a6427ad5da"
      },
      "execution_count": null,
      "outputs": [
        {
          "output_type": "execute_result",
          "data": {
            "text/plain": [
              "[['Liz', 1.73], ['emaa', 1.68], ['mom', 1.71], ['dad', 1.89]]"
            ]
          },
          "metadata": {},
          "execution_count": 6
        }
      ]
    },
    {
      "cell_type": "code",
      "source": [
        "print(type(fam))\n",
        "print(type(fam2))"
      ],
      "metadata": {
        "colab": {
          "base_uri": "https://localhost:8080/"
        },
        "id": "W1CkQmsV0sQ2",
        "outputId": "f1ccae93-8a24-468a-b061-5b2f5401755b"
      },
      "execution_count": null,
      "outputs": [
        {
          "output_type": "stream",
          "name": "stdout",
          "text": [
            "<class 'list'>\n",
            "<class 'list'>\n"
          ]
        }
      ]
    },
    {
      "cell_type": "markdown",
      "source": [
        "PRÁTIQUE"
      ],
      "metadata": {
        "id": "-mSZZFoU09P3"
      }
    },
    {
      "cell_type": "code",
      "source": [
        "hall = 11.25\n",
        "kit = 18.0\n",
        "liv = 20.0\n",
        "bed = 10.75\n",
        "bath = 9.50\n",
        "#quando coloca [] entende-se como uma lista\n",
        "fam = [[\"hall\", hall],\n",
        "       [\"kit\", kit],\n",
        "       [\"liv\", liv],\n",
        "       [\"bed\", bed],\n",
        "       [\"bath\", bath]]\n",
        "fam"
      ],
      "metadata": {
        "colab": {
          "base_uri": "https://localhost:8080/"
        },
        "id": "-UvNSXvn0_yV",
        "outputId": "25db602e-9fba-4b1b-a199-8311095ef50c"
      },
      "execution_count": null,
      "outputs": [
        {
          "output_type": "execute_result",
          "data": {
            "text/plain": [
              "[['hall', 11.25], ['kit', 18.0], ['liv', 20.0], ['bed', 10.75], ['bath', 9.5]]"
            ]
          },
          "metadata": {},
          "execution_count": 9
        }
      ]
    },
    {
      "cell_type": "code",
      "source": [
        "hall = 11.25\n",
        "kit = 18.0\n",
        "liv = 20.0\n",
        "bed = 10.75\n",
        "bath = 9.50\n",
        "\n",
        "areas = [\"hallway\", hall,\"kitchen\", kit,\"living room\", liv,\"bedrom\", bed,\"bathroom\",  bath]\n",
        "\n",
        "areas"
      ],
      "metadata": {
        "colab": {
          "base_uri": "https://localhost:8080/"
        },
        "id": "PjcNRdLM2BqA",
        "outputId": "f21cfc3a-3643-4230-a6a9-1f0d31d4c14b"
      },
      "execution_count": null,
      "outputs": [
        {
          "output_type": "execute_result",
          "data": {
            "text/plain": [
              "['hallway',\n",
              " 11.25,\n",
              " 'kitchen',\n",
              " 18.0,\n",
              " 'living room',\n",
              " 20.0,\n",
              " 'bedrrom',\n",
              " 10.75,\n",
              " 'bathroom',\n",
              " 9.5]"
            ]
          },
          "metadata": {},
          "execution_count": 3
        }
      ]
    },
    {
      "cell_type": "code",
      "source": [
        "#2) suponha que as seguintes listas foram criadas.\n",
        "\n",
        "#A.[1, 2, 3, 4] B.[[1, 2, 3], [4, 5, 7]] C.[1 + 2, \"a\" * 5, 3]\n",
        "\n",
        "#Qual forma de criação de lista está correta ? Descreva o que contém nas listas definidas corretamente.\n",
        "print([1, 2, 3, 4])\n",
        "print([[1, 2, 3], [4, 5, 7]])\n",
        "print([1 + 2, \"a\" * 5, 3])"
      ],
      "metadata": {
        "colab": {
          "base_uri": "https://localhost:8080/"
        },
        "id": "9bvj_njUabcg",
        "outputId": "b2e08cad-30fe-4051-d4bc-f397e7b5ac9d"
      },
      "execution_count": null,
      "outputs": [
        {
          "output_type": "stream",
          "name": "stdout",
          "text": [
            "[1, 2, 3, 4]\n",
            "[[1, 2, 3], [4, 5, 7]]\n",
            "[3, 'aaaaa', 3]\n"
          ]
        }
      ]
    },
    {
      "cell_type": "code",
      "source": [
        "hall = 11.25\n",
        "kit = 18.0\n",
        "liv = 20.0\n",
        "bed = 10.75\n",
        "bath = 9.50\n",
        "\n",
        "#3) Complete a lista de listas com as informações de  bedroom e bathroom.\n",
        "\n",
        "house = [[\"hallway\", hall],\n",
        "         [\"kitchen\", kit],\n",
        "         [\"living room\", liv],\n",
        "         [\"bedroom\", bed],\n",
        "         [\"bathroom\", bath]]\n",
        "\n",
        "#3.1) Mostre a variável house.\n",
        "\n",
        "#3.2) Print o tipo da variável house.\n",
        "\n",
        "print(house)\n",
        "print(type(house))"
      ],
      "metadata": {
        "colab": {
          "base_uri": "https://localhost:8080/"
        },
        "id": "ODkZo3GlHhVS",
        "outputId": "4fc50f08-5fcd-488f-8eac-f6a247b37ae2"
      },
      "execution_count": 56,
      "outputs": [
        {
          "output_type": "stream",
          "name": "stdout",
          "text": [
            "[['hallway', 11.25], ['kitchen', 18.0], ['living room', 20.0], ['bedroom', 10.75], ['bathroom', 9.5]]\n",
            "<class 'list'>\n"
          ]
        }
      ]
    },
    {
      "cell_type": "markdown",
      "source": [
        "Acessando Elemento da Lista"
      ],
      "metadata": {
        "id": "b3HFaWLDK56K"
      }
    },
    {
      "cell_type": "code",
      "source": [
        "fam = [\"Levi\", 1.71, \"Mãe\", 1.63, \"Pai\", 1.66, \"Lucas\", 1.72 ]\n",
        "fam[3]\n",
        "fam[-1]"
      ],
      "metadata": {
        "colab": {
          "base_uri": "https://localhost:8080/"
        },
        "id": "UuuGbY4aJR0t",
        "outputId": "b67cfa08-aac3-4a36-b737-dcaf691fe1ae"
      },
      "execution_count": null,
      "outputs": [
        {
          "output_type": "execute_result",
          "data": {
            "text/plain": [
              "1.72"
            ]
          },
          "metadata": {},
          "execution_count": 33
        }
      ]
    },
    {
      "cell_type": "code",
      "source": [
        "#saber tamanho da lista\n",
        "len(fam)\n",
        "print(f\"O tamanho da lista é {len(fam)}\")"
      ],
      "metadata": {
        "colab": {
          "base_uri": "https://localhost:8080/"
        },
        "id": "rS4kx1M7KmdL",
        "outputId": "23f7ddd2-cc71-4dd3-ef9e-02236fbbddc7"
      },
      "execution_count": null,
      "outputs": [
        {
          "output_type": "stream",
          "name": "stdout",
          "text": [
            "O tamanho da lista é 8\n"
          ]
        }
      ]
    },
    {
      "cell_type": "markdown",
      "source": [
        "Fazendo um Slice na lista"
      ],
      "metadata": {
        "id": "KJv2teiSLhbE"
      }
    },
    {
      "cell_type": "code",
      "source": [
        "#Acessando de uma parte até outra da lista\n",
        "fam[0:4]"
      ],
      "metadata": {
        "colab": {
          "base_uri": "https://localhost:8080/"
        },
        "id": "jw0LE5ItLQdI",
        "outputId": "e81349ee-e0c4-4728-e739-dfb3ed55092d"
      },
      "execution_count": null,
      "outputs": [
        {
          "output_type": "execute_result",
          "data": {
            "text/plain": [
              "['Levi', 1.71, 'Mãe', 1.63]"
            ]
          },
          "metadata": {},
          "execution_count": 13
        }
      ]
    },
    {
      "cell_type": "code",
      "source": [
        "fam[4:8]"
      ],
      "metadata": {
        "colab": {
          "base_uri": "https://localhost:8080/"
        },
        "id": "9BZffgGVLx7y",
        "outputId": "0f966e07-faca-4502-e0dc-f1b647b56fbb"
      },
      "execution_count": null,
      "outputs": [
        {
          "output_type": "execute_result",
          "data": {
            "text/plain": [
              "['Pai', 1.66, 'Lucas', 1.72]"
            ]
          },
          "metadata": {},
          "execution_count": 14
        }
      ]
    },
    {
      "cell_type": "markdown",
      "source": [
        "PRATIQUE"
      ],
      "metadata": {
        "id": "SlFDqATCL9Ds"
      }
    },
    {
      "cell_type": "code",
      "source": [
        "areas = [\"hallway\", 11.25, \"kitchen\",\n",
        "         18.0, \"living room\", 20.0, \"bedroom\",\n",
        "         10.75, \"bathroom\", 9.50]\n",
        "\n",
        "print(areas[1])\n",
        "print(areas[-1])\n",
        "print(areas[5])\n",
        "#5)acessando os elementos da lista, realize a soma dos valores de Kitchen e living room e atribua em eat_sleep_area\n",
        "eat_sleep_area = areas[3] + areas[5]\n",
        "\n",
        "#5.1) Exiba a variável eat_sleep_area.\n",
        "print(eat_sleep_area)"
      ],
      "metadata": {
        "colab": {
          "base_uri": "https://localhost:8080/"
        },
        "id": "2K9asfjOL-du",
        "outputId": "ebcbc38e-37ba-473f-8043-6305bcc2a855"
      },
      "execution_count": null,
      "outputs": [
        {
          "output_type": "stream",
          "name": "stdout",
          "text": [
            "11.25\n",
            "9.5\n",
            "20.0\n",
            "38.0\n"
          ]
        }
      ]
    },
    {
      "cell_type": "code",
      "source": [
        "#6) Acesse os 6 primeiros elemento de areas e atribua a uma nova lista: downstairs.\n",
        "downstairs = [areas[0:6]]"
      ],
      "metadata": {
        "id": "Sl7FSNAQQlnZ"
      },
      "execution_count": null,
      "outputs": []
    },
    {
      "cell_type": "code",
      "source": [
        "#6.1) Acesse os 4 últimos elemento de areas e atribua a uma nova lista: upstairs.\n",
        "upstairs = [areas[6:10]]"
      ],
      "metadata": {
        "id": "tHL-H3cfRFsB"
      },
      "execution_count": null,
      "outputs": []
    },
    {
      "cell_type": "code",
      "source": [
        "#6.2) Exiba downstairs e upstairs.\n",
        "print(downstairs)\n",
        "print(upstairs)"
      ],
      "metadata": {
        "colab": {
          "base_uri": "https://localhost:8080/"
        },
        "id": "KahpCMqLRL-x",
        "outputId": "bf4ca530-7a79-4954-be9a-869a0ac845ea"
      },
      "execution_count": null,
      "outputs": [
        {
          "output_type": "stream",
          "name": "stdout",
          "text": [
            "[['hallway', 11.25, 'kitchen', 18.0, 'living room', 20.0]]\n",
            "[['bedroom', 10.75, 'bathroom', 9.5]]\n"
          ]
        }
      ]
    },
    {
      "cell_type": "markdown",
      "source": [
        "Faça lista da lista da sua família ex: [[fulano, altura], [sicrano, altura]......]"
      ],
      "metadata": {
        "id": "Xl-YHFXNSftY"
      }
    },
    {
      "cell_type": "code",
      "source": [
        "familia = [[\"Levi\", 1.71], [\"Mãe\", 1.63], [\"Pai\", 1.66], [\"Lucas\", 1.72], [\"Kemilly\", 1.50]]"
      ],
      "metadata": {
        "id": "lt1bF6bES-lX"
      },
      "execution_count": null,
      "outputs": []
    },
    {
      "cell_type": "markdown",
      "source": [
        "Acessar o terceiro elemento da lista"
      ],
      "metadata": {
        "id": "SmYIL521S2cx"
      }
    },
    {
      "cell_type": "code",
      "source": [
        "familia[2]"
      ],
      "metadata": {
        "colab": {
          "base_uri": "https://localhost:8080/"
        },
        "id": "iHzMU8U7TL0N",
        "outputId": "8a75b1b6-0d77-41b6-ea68-0963fbb7a0e2"
      },
      "execution_count": null,
      "outputs": [
        {
          "output_type": "execute_result",
          "data": {
            "text/plain": [
              "['Pai', 1.66]"
            ]
          },
          "metadata": {},
          "execution_count": 46
        }
      ]
    },
    {
      "cell_type": "markdown",
      "source": [
        "Acessar a altura do segundo elemento da lista"
      ],
      "metadata": {
        "id": "5a5RnbQ9TUOH"
      }
    },
    {
      "cell_type": "code",
      "source": [
        "familia[1][1]"
      ],
      "metadata": {
        "colab": {
          "base_uri": "https://localhost:8080/"
        },
        "id": "vaWSN_NuTYo1",
        "outputId": "6c01e5c5-c64c-47f0-b3ad-a41beca09f14"
      },
      "execution_count": null,
      "outputs": [
        {
          "output_type": "execute_result",
          "data": {
            "text/plain": [
              "1.63"
            ]
          },
          "metadata": {},
          "execution_count": 47
        }
      ]
    },
    {
      "cell_type": "code",
      "source": [
        "house =[[\"hall\", hall],\n",
        "       [\"kit\", kit],\n",
        "       [\"liv\", liv],\n",
        "       [\"bed\", bed],\n",
        "       [\"bath\", bath]]\n",
        "house[-1][1]"
      ],
      "metadata": {
        "colab": {
          "base_uri": "https://localhost:8080/"
        },
        "id": "3ksIek2mVvn-",
        "outputId": "5598a54a-a181-4370-cf84-262e2c2b844b"
      },
      "execution_count": null,
      "outputs": [
        {
          "output_type": "execute_result",
          "data": {
            "text/plain": [
              "9.5"
            ]
          },
          "metadata": {},
          "execution_count": 10
        }
      ]
    },
    {
      "cell_type": "markdown",
      "source": [
        "Manipulando Listas"
      ],
      "metadata": {
        "id": "QhpazJELzGig"
      }
    },
    {
      "cell_type": "code",
      "source": [
        "fam + [\"me\", 1.79]"
      ],
      "metadata": {
        "colab": {
          "base_uri": "https://localhost:8080/"
        },
        "id": "yIzt7PmyzLKB",
        "outputId": "1c30b552-a06f-4ce0-eeb5-f230551ff35b"
      },
      "execution_count": null,
      "outputs": [
        {
          "output_type": "execute_result",
          "data": {
            "text/plain": [
              "['Levi', 1.71, 'Mãe', 1.63, 'Pai', 1.66, 'Lucas', 'me', 1.79]"
            ]
          },
          "metadata": {},
          "execution_count": 27
        }
      ]
    },
    {
      "cell_type": "code",
      "source": [
        "fam_ext = fam + [\"me\", 1.79]\n",
        "del(fam_ext[2])\n",
        "fam_ext"
      ],
      "metadata": {
        "colab": {
          "base_uri": "https://localhost:8080/"
        },
        "id": "hIHztPbvzwJZ",
        "outputId": "3e9b17ae-5dc5-43e4-896b-fbfec02aa728"
      },
      "execution_count": null,
      "outputs": [
        {
          "output_type": "execute_result",
          "data": {
            "text/plain": [
              "['Levi', 1.71, 1.63, 'Pai', 1.66, 'Lucas', 1.72, 'me', 1.79]"
            ]
          },
          "metadata": {},
          "execution_count": 36
        }
      ]
    },
    {
      "cell_type": "markdown",
      "source": [
        "Informação importante sobre manipulaçao de listas"
      ],
      "metadata": {
        "id": "tiWmH_at1PXs"
      }
    },
    {
      "cell_type": "code",
      "source": [
        "x = [\"a\", \"b\", \"c\"]\n",
        "y = x\n",
        "y[1] = \"z\"\n",
        "y"
      ],
      "metadata": {
        "colab": {
          "base_uri": "https://localhost:8080/"
        },
        "id": "R7MNbksz1OO7",
        "outputId": "db4162c4-d80a-480b-edfd-7ddde0a23e28"
      },
      "execution_count": null,
      "outputs": [
        {
          "output_type": "execute_result",
          "data": {
            "text/plain": [
              "['a', 'z', 'c']"
            ]
          },
          "metadata": {},
          "execution_count": 37
        }
      ]
    },
    {
      "cell_type": "code",
      "source": [
        "#forma de preservar o valor de x\n",
        "x = [\"a\", \"b\", \"c\"]\n",
        "y = x.copy()\n",
        "y[1] = \"z\"\n",
        "print(y)\n",
        "print(x)"
      ],
      "metadata": {
        "colab": {
          "base_uri": "https://localhost:8080/"
        },
        "id": "KErNf_F918GQ",
        "outputId": "b0ea4a57-58a8-41af-e2a8-0a0485b7b52f"
      },
      "execution_count": null,
      "outputs": [
        {
          "output_type": "stream",
          "name": "stdout",
          "text": [
            "['a', 'z', 'c']\n",
            "['a', 'b', 'c']\n"
          ]
        }
      ]
    },
    {
      "cell_type": "code",
      "source": [
        "#forma de preservar o valor de x\n",
        "x = [\"a\", \"b\", \"c\"]\n",
        "y = list(x)\n",
        "y[1] = \"z\"\n",
        "print(y)\n",
        "print(x)"
      ],
      "metadata": {
        "colab": {
          "base_uri": "https://localhost:8080/"
        },
        "id": "NkQFrKqp5TNf",
        "outputId": "41903043-1d73-4df7-d5c7-2001a52dcaf7"
      },
      "execution_count": null,
      "outputs": [
        {
          "output_type": "stream",
          "name": "stdout",
          "text": [
            "['a', 'z', 'c']\n",
            "['a', 'b', 'c']\n"
          ]
        }
      ]
    },
    {
      "cell_type": "code",
      "source": [
        "#forma de preservar o valor de x\n",
        "x = [\"a\", \"b\", \"c\"]\n",
        "y = x[:]\n",
        "y[1] = \"z\"\n",
        "print(y)\n",
        "print(x)"
      ],
      "metadata": {
        "colab": {
          "base_uri": "https://localhost:8080/"
        },
        "id": "W7d9K9Yw5Y_r",
        "outputId": "dd0ef09d-2a4d-47ec-93a7-bc41d665d269"
      },
      "execution_count": null,
      "outputs": [
        {
          "output_type": "stream",
          "name": "stdout",
          "text": [
            "['a', 'z', 'c']\n",
            "['a', 'b', 'c']\n"
          ]
        }
      ]
    },
    {
      "cell_type": "markdown",
      "source": [
        "Pratique"
      ],
      "metadata": {
        "id": "oH3jfIK864Df"
      }
    },
    {
      "cell_type": "code",
      "source": [
        "#7 and 7.1\n",
        "areas = [\"hallway\", 11.25, \"kitchen\",\n",
        "         18.0, \"living room\", 20.0, \"bedroom\",\n",
        "         10.75, \"bathroom\", 9.50]\n",
        "#trocar o valor de bathroom de 9.5 para 10.5\n",
        "areas[-1] = 10.5\n",
        "areas\n",
        "#Substitua a string “Living room” por “chill zone”\n",
        "areas[4] = \"chill zone\"\n",
        "areas"
      ],
      "metadata": {
        "colab": {
          "base_uri": "https://localhost:8080/"
        },
        "id": "0K1p86w065RD",
        "outputId": "a7ff8d2c-ca62-4fe1-9a52-21688e015fca"
      },
      "execution_count": null,
      "outputs": [
        {
          "output_type": "execute_result",
          "data": {
            "text/plain": [
              "['hallway',\n",
              " 11.25,\n",
              " 'kitchen',\n",
              " 18.0,\n",
              " 'chill zone',\n",
              " 20.0,\n",
              " 'bedroom',\n",
              " 10.75,\n",
              " 'bathroom',\n",
              " 10.5]"
            ]
          },
          "metadata": {},
          "execution_count": 53
        }
      ]
    },
    {
      "cell_type": "code",
      "source": [
        "#8\n",
        "# Adicione [\"poolhouse\", 24.5] no fim da lista  e atribua em uma nova lista chamada de areas_1\n",
        "areas_1 = areas + [\"poolhouse\", 24.5]\n",
        "areas_1\n",
        "#8.1)Adicione [\"garage\", 15.5] no fim da lista areas_1  e atribua em uma nova lista chamada de areas_2\n",
        "areas_2 = areas_1 + [\"garage\", 15.5]\n",
        "#8.2) Exiba areas_2\n",
        "areas_2"
      ],
      "metadata": {
        "colab": {
          "base_uri": "https://localhost:8080/"
        },
        "id": "gItBij_775E1",
        "outputId": "10aec953-236e-4de3-8fb3-2439cca6d5ad"
      },
      "execution_count": null,
      "outputs": [
        {
          "output_type": "execute_result",
          "data": {
            "text/plain": [
              "['hallway',\n",
              " 11.25,\n",
              " 'kitchen',\n",
              " 18.0,\n",
              " 'chill zone',\n",
              " 20.0,\n",
              " 'bedroom',\n",
              " 10.75,\n",
              " 'bathroom',\n",
              " 10.5,\n",
              " 'poolhouse',\n",
              " 24.5,\n",
              " 'garage',\n",
              " 15.5]"
            ]
          },
          "metadata": {},
          "execution_count": 54
        }
      ]
    },
    {
      "cell_type": "code",
      "source": [
        "#9 Execute o código e observe que a modificação realizada em areas_copy afetou áreas. Corrija esse código e exiba areas e areas_copy no fim do código.\n",
        "areas = [11.25, 18.0, 20.0, 10.75, 9.50]\n",
        "areas_copy = areas.copy()\n",
        "areas_copy[0] = 5.0\n",
        "print(areas)\n",
        "print(areas_copy)"
      ],
      "metadata": {
        "colab": {
          "base_uri": "https://localhost:8080/"
        },
        "id": "mjntHGJV9Fwo",
        "outputId": "ea042f1d-ace4-4026-f9cc-0b673f399980"
      },
      "execution_count": null,
      "outputs": [
        {
          "output_type": "stream",
          "name": "stdout",
          "text": [
            "[11.25, 18.0, 20.0, 10.75, 9.5]\n",
            "[5.0, 18.0, 20.0, 10.75, 9.5]\n"
          ]
        }
      ]
    }
  ]
}