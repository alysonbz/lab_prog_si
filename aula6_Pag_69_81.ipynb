{
  "nbformat": 4,
  "nbformat_minor": 0,
  "metadata": {
    "colab": {
      "provenance": [],
      "authorship_tag": "ABX9TyPgHhr/6EAACG/JC/ZLIRkR",
      "include_colab_link": true
    },
    "kernelspec": {
      "name": "python3",
      "display_name": "Python 3"
    },
    "language_info": {
      "name": "python"
    }
  },
  "cells": [
    {
      "cell_type": "markdown",
      "metadata": {
        "id": "view-in-github",
        "colab_type": "text"
      },
      "source": [
        "<a href=\"https://colab.research.google.com/github/alysonbz/lab_prog_si/blob/antonio_erick/aula6_Pag_69_81.ipynb\" target=\"_parent\"><img src=\"https://colab.research.google.com/assets/colab-badge.svg\" alt=\"Open In Colab\"/></a>"
      ]
    },
    {
      "cell_type": "code",
      "execution_count": null,
      "metadata": {
        "id": "dMdESjIGN6Vg",
        "colab": {
          "base_uri": "https://localhost:8080/"
        },
        "outputId": "02f53281-61aa-4781-9ffe-b1ad03beedc3"
      },
      "outputs": [
        {
          "output_type": "stream",
          "name": "stdout",
          "text": [
            "[2.07 1.68 2.   2.01 1.51 1.96 1.76 2.06 2.09 1.97 1.65 1.5  1.62 1.83\n",
            " 1.6  1.52 1.84 1.59 1.75 1.79]\n",
            "[131  83 126  95  72 137  87 100 102  54  55  84  53 112 105  69 125 103\n",
            "  59  79]\n",
            "[False False False False False False False False False  True  True False\n",
            "  True False False False False False  True False]\n",
            "[13.91429823 20.2020202  20.19509221 19.26530612]\n",
            "[102  54  55  84  53 112 105  69]\n"
          ]
        }
      ],
      "source": [
        "import random as rd\n",
        "import numpy as np\n",
        "#height= autura\n",
        "#whight= peso\n",
        "#geração de numeros entre 150 e 209\n",
        "height = range(150,210)\n",
        "\n",
        "#geração de numeros entre 50 e 149\n",
        "weight = range(50,149)\n",
        "\n",
        "#amostra randomica de 20 numeros de height\n",
        "height=rd.sample(height,20)\n",
        "\n",
        "#amostra randomica de 20 numeros de weight\n",
        "weight = rd.sample(weight,20)\n",
        "\n",
        "#converter height em array e normalizar multiplicando por 0.01\n",
        "height_array = np.array(height)*0.01\n",
        "print(height_array)\n",
        "#converter weight em array\n",
        "weight_array=np.array(weight)\n",
        "print(weight_array)\n",
        "\n",
        " #calculo do BMI\n",
        "bmi = weight_array/(height_array**2)\n",
        "\n",
        "#verificação onde BMI é menor que 21\n",
        "light =bmi<21\n",
        "# print light\n",
        "print(light)\n",
        "\n",
        "#exibição dos valores de bmi com valor menor que 21\n",
        "print(f'{bmi[bmi<21]}')\n",
        "\n",
        "#Print o elementos de weight_array do index 8 até o index 15,\n",
        "#incluindo o index 15\n",
        "#slice wheight_array [8:15]\n",
        "print(f'{weight_array[8:16]}')\n",
        "\n",
        "#Print os elementos height_arra do index 11 até o index 19,\n",
        "#incluindo o index 19\n",
        "print(f'{height_array[11:20]}')"
      ]
    },
    {
      "cell_type": "code",
      "source": [
        "import random as rd\n",
        "import numpy as np\n",
        "city1=[5,10]\n",
        "city2=[8,20]\n",
        "city3=[4,15]\n",
        "np_city = np.array([city1,city2,city3])\n",
        "print(np_city)\n",
        "#mean média\n",
        "print(np.mean(np_city[:,0]))\n",
        "#média inteira\n",
        "print(np.median(np_city[:,0]))"
      ],
      "metadata": {
        "id": "TVZaynQuMt6T",
        "colab": {
          "base_uri": "https://localhost:8080/"
        },
        "collapsed": true,
        "outputId": "8d83f828-0c19-4603-fad8-cc1bbd63e346"
      },
      "execution_count": null,
      "outputs": [
        {
          "output_type": "stream",
          "name": "stdout",
          "text": [
            "[[ 5 10]\n",
            " [ 8 20]\n",
            " [ 4 15]]\n",
            "5.666666666666667\n",
            "5.0\n",
            "[[1.         0.72057669]\n",
            " [0.72057669 1.        ]]\n",
            "1.699673171197595\n"
          ]
        }
      ]
    },
    {
      "cell_type": "code",
      "source": [
        "print(np.corrcoef(np_city[:,0],np_city[:,1]))\n",
        "print(np.std(np_city[:,0]))"
      ],
      "metadata": {
        "colab": {
          "base_uri": "https://localhost:8080/"
        },
        "id": "g4meBvr51NRB",
        "outputId": "bc2692dc-8b58-4522-f3b5-3d33d0262f2c"
      },
      "execution_count": null,
      "outputs": [
        {
          "output_type": "stream",
          "name": "stdout",
          "text": [
            "[[1.         0.72057669]\n",
            " [0.72057669 1.        ]]\n",
            "1.699673171197595\n"
          ]
        }
      ]
    },
    {
      "cell_type": "code",
      "source": [
        "height1= np.round(np.random.normal(1.75,0.20,5000),2)\n",
        "print(height1)\n",
        "weight1=np.round(np.random.normal(60.32,15,5000),2)\n",
        "print(weight1)\n",
        "np_city2= np.column_stack((height1,weight1))\n",
        "print(np_city2)"
      ],
      "metadata": {
        "colab": {
          "base_uri": "https://localhost:8080/"
        },
        "id": "G7OBIZHdwyLw",
        "outputId": "945096e9-9e92-4ba2-e1f0-a7593bd84f4a"
      },
      "execution_count": null,
      "outputs": [
        {
          "output_type": "stream",
          "name": "stdout",
          "text": [
            "[1.91 1.8  1.13 ... 1.89 1.91 1.74]\n",
            "[60.7  55.03 44.83 ... 57.13 63.59 57.62]\n",
            "[[ 1.91 60.7 ]\n",
            " [ 1.8  55.03]\n",
            " [ 1.13 44.83]\n",
            " ...\n",
            " [ 1.89 57.13]\n",
            " [ 1.91 63.59]\n",
            " [ 1.74 57.62]]\n"
          ]
        }
      ]
    },
    {
      "cell_type": "markdown",
      "source": [
        "Pratique pag 72"
      ],
      "metadata": {
        "id": "4Pgi7HLL_Cxu"
      }
    },
    {
      "cell_type": "code",
      "source": [
        "import numpy as  np\n",
        "baseball=[[180, 78.4],\n",
        "          [215, 102.7],\n",
        "          [210, 98.5],\n",
        "          [188,75.2]]\n",
        "np_baseball = np.array(baseball)\n",
        "#1 Print a terceira linha de np_baseball na linha 14 do código.\n",
        "print(np_baseball[2])\n",
        "#2 Crie uma nova variável np_weight_lb que recebe toda a segunda coluna de np_baseball.\n",
        "np_weight_lb=np_baseball[:,1]\n",
        "print(np_weight_lb)\n",
        "#3 Print a primeira coluna da segunda linha de Np_baseball na linha  do código.\n",
        "print(np_baseball[1:2,0])\n",
        "#4 Calcule e exiba a média da primeira coluna de np_baseball.\n",
        "print(np.mean(np_baseball[:,0]))\n",
        "#5 Calcule e exiba a mediana da segunda linha de np_baseball.\n",
        "print(np.median(np_baseball[1:2]))\n"
      ],
      "metadata": {
        "id": "qlKTCgr8_I-0",
        "colab": {
          "base_uri": "https://localhost:8080/"
        },
        "outputId": "e376276c-e3cf-4dc4-e241-69545f6d2a9d"
      },
      "execution_count": 64,
      "outputs": [
        {
          "output_type": "stream",
          "name": "stdout",
          "text": [
            "[210.   98.5]\n",
            "[ 78.4 102.7  98.5  75.2]\n",
            "[215.]\n",
            "198.25\n",
            "158.85\n"
          ]
        }
      ]
    },
    {
      "cell_type": "markdown",
      "source": [
        "Exercício pag 73 até 81\n"
      ],
      "metadata": {
        "id": "RLTRNJpdQn_O"
      }
    },
    {
      "cell_type": "code",
      "source": [
        "#1 Qual linha de comando exibe a documentação da função len()\n",
        "help(len)"
      ],
      "metadata": {
        "id": "0JAKhvP1Q2F6"
      },
      "execution_count": null,
      "outputs": []
    },
    {
      "cell_type": "code",
      "source": [
        "#2 Qual dos 3 códigos printa o número 8?\n",
        "import numpy as np\n",
        "z=np.array([[9,9,3],\n",
        "            [8,5,4]])\n",
        "print(z[1,0])"
      ],
      "metadata": {
        "colab": {
          "base_uri": "https://localhost:8080/"
        },
        "id": "nNTBNBqkRHxp",
        "outputId": "c92c3bc2-7548-4a52-a839-6b615946d49c"
      },
      "execution_count": 68,
      "outputs": [
        {
          "output_type": "stream",
          "name": "stdout",
          "text": [
            "8\n"
          ]
        }
      ]
    },
    {
      "cell_type": "code",
      "source": [
        "#3\n",
        "foo=[0.2, 1.7, 'a', 'wed', '1.5']\n",
        "print(foo)\n",
        "foo[0:2]= [2.75, -1.5]\n",
        "print(foo)"
      ],
      "metadata": {
        "colab": {
          "base_uri": "https://localhost:8080/"
        },
        "id": "f-BvAXMhXq4f",
        "outputId": "b0ca3547-04a5-45a4-f9b3-4f65e7b4c7a2"
      },
      "execution_count": 69,
      "outputs": [
        {
          "output_type": "stream",
          "name": "stdout",
          "text": [
            "[0.2, 1.7, 'a', 'wed', '1.5']\n",
            "[2.75, -1.5, 'a', 'wed', '1.5']\n"
          ]
        }
      ]
    },
    {
      "cell_type": "code",
      "source": [
        "4# print('datascience'.replace('science','camp'))"
      ],
      "metadata": {
        "colab": {
          "base_uri": "https://localhost:8080/"
        },
        "id": "eohV0E0HYOki",
        "outputId": "2e1d8622-8352-4fde-f2ab-3bbcde2acbca"
      },
      "execution_count": 71,
      "outputs": [
        {
          "output_type": "stream",
          "name": "stdout",
          "text": [
            "datacamp\n"
          ]
        }
      ]
    },
    {
      "cell_type": "code",
      "source": [
        "#5) Qual linha de código apresenta erro ?\n",
        "print('Python' * int('2'))\n",
        "print('Python' * 2)\n",
        "#print('Python' * '2')\n",
        "print('Python * 2')"
      ],
      "metadata": {
        "colab": {
          "base_uri": "https://localhost:8080/"
        },
        "id": "NvPBv4snY2e3",
        "outputId": "df0cc209-c9b8-47c0-d1ab-32ee6bc15825"
      },
      "execution_count": 74,
      "outputs": [
        {
          "output_type": "stream",
          "name": "stdout",
          "text": [
            "PythonPython\n",
            "PythonPython\n",
            "Python * 2\n"
          ]
        }
      ]
    },
    {
      "cell_type": "code",
      "source": [
        "#6) Qual código retorna o texto: python data\n",
        "x= 'python'\n",
        "print(x + ' data')#esse\n",
        "x= 'r'\n",
        "print(x + ' data')\n",
        "x= 'sql'\n",
        "print(x + ' data')"
      ],
      "metadata": {
        "colab": {
          "base_uri": "https://localhost:8080/"
        },
        "id": "BsFYWIInZjPA",
        "outputId": "039d4f28-e25d-45af-f931-10b2e2eae3f9"
      },
      "execution_count": 76,
      "outputs": [
        {
          "output_type": "stream",
          "name": "stdout",
          "text": [
            "python data\n",
            "r data\n",
            "sql data\n"
          ]
        }
      ]
    },
    {
      "cell_type": "code",
      "source": [
        "#7) Considerando esse código\n",
        "np_2d=np.array([[1.5, 6.4, 7.8, 2.2],\n",
        "                [4.3, 8.7, 1.9, 3.4],\n",
        "                [5.3, 7.3, 9.4, 2.5]])\n",
        "#:Qual opção ao lado representa o comando:\n",
        "print(np_2d[2:,2:])\n",
        "#[[9.4 2.5]]"
      ],
      "metadata": {
        "colab": {
          "base_uri": "https://localhost:8080/"
        },
        "id": "y05v41R-aXkU",
        "outputId": "e9a606ab-1444-4466-ff32-e27e2b50f3e5"
      },
      "execution_count": 77,
      "outputs": [
        {
          "output_type": "stream",
          "name": "stdout",
          "text": [
            "[[9.4 2.5]]\n"
          ]
        }
      ]
    },
    {
      "cell_type": "code",
      "source": [
        "#8) Complete o código para a saída 6666\n",
        "print('6' * (2**2))"
      ],
      "metadata": {
        "colab": {
          "base_uri": "https://localhost:8080/"
        },
        "id": "xEOT6a3bbUbC",
        "outputId": "2dac39d0-b0db-4852-b6a5-68a324f1ccb3"
      },
      "execution_count": 81,
      "outputs": [
        {
          "output_type": "stream",
          "name": "stdout",
          "text": [
            "6666\n"
          ]
        }
      ]
    },
    {
      "cell_type": "code",
      "source": [
        "#9) Qual a saída do código ao lado ?\n",
        "import numpy as np\n",
        "m= np.array ([2,6,4])\n",
        "n= np.array ([2,1,1])\n",
        "print(m*n)\n",
        "#[4 6 4]"
      ],
      "metadata": {
        "colab": {
          "base_uri": "https://localhost:8080/"
        },
        "id": "5N1mFdFJbqXR",
        "outputId": "9e1be127-ff5e-4952-8d1c-0dc323f64f2f"
      },
      "execution_count": 82,
      "outputs": [
        {
          "output_type": "stream",
          "name": "stdout",
          "text": [
            "[4 6 4]\n"
          ]
        }
      ]
    }
  ]
}