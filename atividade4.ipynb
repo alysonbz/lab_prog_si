{
  "nbformat": 4,
  "nbformat_minor": 0,
  "metadata": {
    "colab": {
      "provenance": [],
      "authorship_tag": "ABX9TyPkPiIaPR6lLyE6J/FP5YEO",
      "include_colab_link": true
    },
    "kernelspec": {
      "name": "python3",
      "display_name": "Python 3"
    },
    "language_info": {
      "name": "python"
    }
  },
  "cells": [
    {
      "cell_type": "markdown",
      "metadata": {
        "id": "view-in-github",
        "colab_type": "text"
      },
      "source": [
        "<a href=\"https://colab.research.google.com/github/alysonbz/lab_prog_si/blob/gabriel_coelho/atividade4.ipynb\" target=\"_parent\"><img src=\"https://colab.research.google.com/assets/colab-badge.svg\" alt=\"Open In Colab\"/></a>"
      ]
    },
    {
      "cell_type": "markdown",
      "source": [
        "#ATIVIDADE DE CLASSE"
      ],
      "metadata": {
        "id": "F3FbcgRkSt2D"
      }
    },
    {
      "cell_type": "markdown",
      "source": [
        "1) Use o método upper() acessível pela variável place na linha 5 e e armazene a saída do método em uma nova variável, place_up.\n",
        "\n",
        "2) Realize o print de place e place_up nas linhas 8 e 9.\n",
        "\n",
        "3) Usando o método count, realize a contagem de quantas letras o tem na variável place."
      ],
      "metadata": {
        "id": "3o_QBzE5S1gj"
      }
    },
    {
      "cell_type": "code",
      "execution_count": null,
      "metadata": {
        "colab": {
          "base_uri": "https://localhost:8080/"
        },
        "id": "AXMI5uZHSoM5",
        "outputId": "74c74685-1b28-4797-cda8-1559d0978539"
      },
      "outputs": [
        {
          "output_type": "stream",
          "name": "stdout",
          "text": [
            "poolhouse\n",
            "POOLHOUSE\n",
            "3\n"
          ]
        }
      ],
      "source": [
        "#STRING TO EXPERIMENT WITH: PLACE\n",
        "place = 'poolhouse'\n",
        "\n",
        "#USE UPPER() ON PLACE: PLACE_UP\n",
        "place_up = place.upper()\n",
        "\n",
        "#PRINT OUT PLACE AND PLACE_UP\n",
        "print(place)\n",
        "print(place_up)\n",
        "\n",
        "#PRINT OUT THE NUMBER OF O'S IN PLACE\n",
        "print(place.count('o'))"
      ]
    },
    {
      "cell_type": "markdown",
      "source": [
        "4) Na linha 5 print o index que contem o numero 20 com o método index().\n",
        "\n",
        "5)Usando o método count(), mostre via print o numero de vezes que 9.5 aparece na lista."
      ],
      "metadata": {
        "id": "gdCTzfa5URHK"
      }
    },
    {
      "cell_type": "code",
      "source": [
        "#CREATE LIST AREAS\n",
        "areas = [11.25, 18.0, 20.0, 10.75, 9.50]\n",
        "\n",
        "#PRINT OUT THE INDEX OF THE ELEMENT 20.0\n",
        "print(areas.index(20.0))\n",
        "\n",
        "#PRINT OUT HOW OFTEN 9.50 APPEARS IN AREAS\n",
        "print(areas.count(9.50))"
      ],
      "metadata": {
        "colab": {
          "base_uri": "https://localhost:8080/"
        },
        "id": "bdkF1-s9UTgC",
        "outputId": "3745a8bf-13f7-4921-adcd-08dbbd648827"
      },
      "execution_count": null,
      "outputs": [
        {
          "output_type": "stream",
          "name": "stdout",
          "text": [
            "2\n",
            "1\n"
          ]
        }
      ]
    },
    {
      "cell_type": "markdown",
      "source": [
        "6) Na linha 7 use o método append() duas vezes para incluir os números 24.5 e 15.25 no fim da lista.\n",
        "\n",
        "7) print a lista areas na Linha 8.\n",
        "\n",
        "8) Use o método reverse() da lista para trocar a ordem dos elementos da lista.\n",
        "\n",
        "9)  Print novamente a ista areas."
      ],
      "metadata": {
        "id": "e8uEUKVrWDSf"
      }
    },
    {
      "cell_type": "code",
      "source": [
        "#CREATE LIST AREAS\n",
        "areas = [11.25, 18.0, 20.0, 10.75, 9.50]\n",
        "\n",
        "#USE APPEND TWICE TO ADD POOLHOUSE AND #GARAGE SIZE\n",
        "areas.append(24.50)\n",
        "areas.append(15.25)\n",
        "\n",
        "#PRINT OUT AREAS\n",
        "print(areas)\n",
        "\n",
        "#REVERSE THE ORDERS OF THE #ELEMENTS IN AREAS\n",
        "areas.reverse()\n",
        "\n",
        "#PRINT OUT AREAS\n",
        "print(areas)"
      ],
      "metadata": {
        "colab": {
          "base_uri": "https://localhost:8080/"
        },
        "id": "PPoz-nmTWCfo",
        "outputId": "dc68ad18-a104-47d4-a3af-3952ecd30bc2"
      },
      "execution_count": null,
      "outputs": [
        {
          "output_type": "stream",
          "name": "stdout",
          "text": [
            "[11.25, 18.0, 20.0, 10.75, 9.5, 24.5, 15.25]\n",
            "[15.25, 24.5, 9.5, 10.75, 20.0, 18.0, 11.25]\n"
          ]
        }
      ]
    }
  ]
}