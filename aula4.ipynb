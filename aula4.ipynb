{
  "nbformat": 4,
  "nbformat_minor": 0,
  "metadata": {
    "colab": {
      "provenance": [],
      "authorship_tag": "ABX9TyOduIwUVjvmFynwSLDg8hhE",
      "include_colab_link": true
    },
    "kernelspec": {
      "name": "python3",
      "display_name": "Python 3"
    },
    "language_info": {
      "name": "python"
    }
  },
  "cells": [
    {
      "cell_type": "markdown",
      "metadata": {
        "id": "view-in-github",
        "colab_type": "text"
      },
      "source": [
        "<a href=\"https://colab.research.google.com/github/alysonbz/lab_prog_si/blob/cauanrodrigues/aula4.ipynb\" target=\"_parent\"><img src=\"https://colab.research.google.com/assets/colab-badge.svg\" alt=\"Open In Colab\"/></a>"
      ]
    },
    {
      "cell_type": "markdown",
      "source": [
        "Manipulando lista e criando um loop com o \"FOR\""
      ],
      "metadata": {
        "id": "fySV8K1EB0r2"
      }
    },
    {
      "cell_type": "code",
      "execution_count": 51,
      "metadata": {
        "id": "Q0uNqGOy9PJq"
      },
      "outputs": [],
      "source": [
        "list_num = [2, 4, 20 ,11, 10, 5]"
      ]
    },
    {
      "cell_type": "code",
      "source": [
        "def max_valor_list(list_num):\n",
        "  maior_valor = None\n",
        "\n",
        "  for numero in list_num:\n",
        "    if maior_valor == None:\n",
        "      maior_valor = numero\n",
        "    if maior_valor < numero:\n",
        "      maior_valor = numero\n",
        "      print(\"durante o loop\", maior_valor)\n",
        "max_valor_list(list_num)\n"
      ],
      "metadata": {
        "colab": {
          "base_uri": "https://localhost:8080/"
        },
        "id": "zetbi3zU-D-L",
        "outputId": "4e776b2d-8234-4917-dd2a-f5533d3b77b3"
      },
      "execution_count": 77,
      "outputs": [
        {
          "output_type": "stream",
          "name": "stdout",
          "text": [
            "durante o loop 4\n",
            "durante o loop 20\n"
          ]
        }
      ]
    },
    {
      "cell_type": "markdown",
      "source": [
        "Criando uma função de contar os elementos de uma lista"
      ],
      "metadata": {
        "id": "1Pst7Iq_B8ol"
      }
    },
    {
      "cell_type": "code",
      "source": [
        "def quantidade_de_elementos(list_num):\n",
        "  quantidade_de_elementos = 0\n",
        "  for numero in list_num:\n",
        "    quantidade_de_elementos = quantidade_de_elementos + 1\n",
        "  return quantidade_de_elementos\n",
        "\n",
        "quantidade_de_elementos(list_num)\n"
      ],
      "metadata": {
        "colab": {
          "base_uri": "https://localhost:8080/"
        },
        "id": "YzO5l85r_8Hh",
        "outputId": "dc05ede8-2fe8-4765-90af-d620110cd2ad"
      },
      "execution_count": 85,
      "outputs": [
        {
          "output_type": "execute_result",
          "data": {
            "text/plain": [
              "6"
            ]
          },
          "metadata": {},
          "execution_count": 85
        }
      ]
    },
    {
      "cell_type": "markdown",
      "source": [
        "Utilizando função max e round\n",
        "\n"
      ],
      "metadata": {
        "id": "9d6aEVdTH7q5"
      }
    },
    {
      "cell_type": "code",
      "source": [
        "max(list_num)\n",
        "round(1.68)"
      ],
      "metadata": {
        "colab": {
          "base_uri": "https://localhost:8080/"
        },
        "id": "yMy2a7a4H-Yg",
        "outputId": "caf139d5-24ae-4a37-cd44-a05d5d8709fd"
      },
      "execution_count": 83,
      "outputs": [
        {
          "output_type": "execute_result",
          "data": {
            "text/plain": [
              "2"
            ]
          },
          "metadata": {},
          "execution_count": 83
        }
      ]
    },
    {
      "cell_type": "markdown",
      "source": [
        "QUESTÕES"
      ],
      "metadata": {
        "id": "KmXXmaKiI67Q"
      }
    },
    {
      "cell_type": "code",
      "source": [
        "#Create variables var1 and var2\n",
        "var1 = [1,2,3,4]\n",
        "var2 = True\n",
        "\n",
        "#Print out type of var1\n",
        "type(var1)\n",
        "\n",
        "#Print out lenght of var1\n",
        "len(var1)\n",
        "\n",
        "\n",
        "#Convert var 2 to an integer: out2\n",
        "out2 = int(var2)\n",
        "print(out2)\n",
        "\n"
      ],
      "metadata": {
        "colab": {
          "base_uri": "https://localhost:8080/"
        },
        "id": "9yhwBYaMI40x",
        "outputId": "3932d04b-c2ba-479f-ee58-b33d2557d62a"
      },
      "execution_count": 86,
      "outputs": [
        {
          "output_type": "stream",
          "name": "stdout",
          "text": [
            "1\n"
          ]
        }
      ]
    },
    {
      "cell_type": "code",
      "source": [
        "#Create lists first and second\n",
        "first = [11.25, 18.0, 20.0]\n",
        "second = [10.75, 9.50]\n",
        "\n",
        "#Paste together first and second: full\n",
        "full = first + second\n",
        "print(full)\n",
        "#Sort full in descending order: #fullsorted\n",
        "fullsorted = sorted(full, reverse=True)\n",
        "\n",
        "#Print out full_sorted\n",
        "print(fullsorted)\n"
      ],
      "metadata": {
        "colab": {
          "base_uri": "https://localhost:8080/"
        },
        "id": "1fCqoArAKO7n",
        "outputId": "c35f3701-1b82-4e13-caa8-d5e2bb058406"
      },
      "execution_count": 88,
      "outputs": [
        {
          "output_type": "stream",
          "name": "stdout",
          "text": [
            "[11.25, 18.0, 20.0, 10.75, 9.5]\n",
            "[20.0, 18.0, 11.25, 10.75, 9.5]\n"
          ]
        }
      ]
    }
  ]
}