{
  "nbformat": 4,
  "nbformat_minor": 0,
  "metadata": {
    "colab": {
      "provenance": [],
      "authorship_tag": "ABX9TyMb4g9taQOz3Wby2F3cKi6a",
      "include_colab_link": true
    },
    "kernelspec": {
      "name": "python3",
      "display_name": "Python 3"
    },
    "language_info": {
      "name": "python"
    }
  },
  "cells": [
    {
      "cell_type": "markdown",
      "metadata": {
        "id": "view-in-github",
        "colab_type": "text"
      },
      "source": [
        "<a href=\"https://colab.research.google.com/github/alysonbz/lab_prog_si/blob/gabriel_coelho/aula4.ipynb\" target=\"_parent\"><img src=\"https://colab.research.google.com/assets/colab-badge.svg\" alt=\"Open In Colab\"/></a>"
      ]
    },
    {
      "cell_type": "markdown",
      "source": [
        "#MANIPULANDO LISTAS"
      ],
      "metadata": {
        "id": "04OHNZC48bG6"
      }
    },
    {
      "cell_type": "code",
      "source": [
        "#MONTANDO UMA LISTA\n",
        "fam = ['Abel', 35, 'Gabriel', 19, 'Miguel', 10, 'Matheus', 3, 'Dog', 5]\n",
        "fam"
      ],
      "metadata": {
        "colab": {
          "base_uri": "https://localhost:8080/"
        },
        "id": "lUfwTMT79iof",
        "outputId": "3ac03e7e-a675-4c89-9e0e-6cdb4603c179"
      },
      "execution_count": null,
      "outputs": [
        {
          "output_type": "execute_result",
          "data": {
            "text/plain": [
              "['Abel', 35, 'Gabriel', 19, 'Miguel', 10, 'Matheus', 3, 'Dog', 5]"
            ]
          },
          "metadata": {},
          "execution_count": 22
        }
      ]
    },
    {
      "cell_type": "code",
      "source": [
        "#MODOFICANDO UM ELEMENTO DA LISTA\n",
        "fam[3] = 20\n",
        "fam"
      ],
      "metadata": {
        "colab": {
          "base_uri": "https://localhost:8080/"
        },
        "id": "rUzKGwfaHdF6",
        "outputId": "d0e8c7d5-5602-4520-9a4b-b25e2993434f"
      },
      "execution_count": null,
      "outputs": [
        {
          "output_type": "execute_result",
          "data": {
            "text/plain": [
              "['Abel', 35, 'Gabriel', 20, 'Miguel', 10, 'Matheus', 3, 'Dog', 5]"
            ]
          },
          "metadata": {},
          "execution_count": 24
        }
      ]
    },
    {
      "cell_type": "code",
      "source": [
        "##MODIFICANDO 2 OU MAIS ELEMENTOS DA LISTA\n",
        "fam[6:8] = ['Micael', 1]\n",
        "fam"
      ],
      "metadata": {
        "colab": {
          "base_uri": "https://localhost:8080/"
        },
        "id": "bTV-2z7GHgcp",
        "outputId": "01bc53d7-f9bd-4c5a-d369-d8925462e6d8"
      },
      "execution_count": null,
      "outputs": [
        {
          "output_type": "execute_result",
          "data": {
            "text/plain": [
              "['Abel', 35, 'Gabriel', 20, 'Miguel', 10, 'Micael', 1, 'Dog', 5]"
            ]
          },
          "metadata": {},
          "execution_count": 25
        }
      ]
    },
    {
      "cell_type": "code",
      "source": [
        "#DELETANDO ELEMENTOS DA LISTA\n",
        "del(fam[8:10])\n",
        "fam"
      ],
      "metadata": {
        "colab": {
          "base_uri": "https://localhost:8080/"
        },
        "id": "S3wNDND0HkTp",
        "outputId": "1754aa2b-eab3-4f25-c161-b91ebede6034"
      },
      "execution_count": null,
      "outputs": [
        {
          "output_type": "execute_result",
          "data": {
            "text/plain": [
              "['Abel', 35, 'Gabriel', 20, 'Miguel', 10, 'Micael', 1]"
            ]
          },
          "metadata": {},
          "execution_count": 26
        }
      ]
    },
    {
      "cell_type": "code",
      "source": [
        "#ADICIONANDO ELEMENTOS NA LISTA\n",
        "fam + ['Lilian', 45]"
      ],
      "metadata": {
        "colab": {
          "base_uri": "https://localhost:8080/"
        },
        "id": "FhVwLTI-Hoxx",
        "outputId": "d9abba39-1ecc-4336-fa9d-67569c8e4173"
      },
      "execution_count": null,
      "outputs": [
        {
          "output_type": "execute_result",
          "data": {
            "text/plain": [
              "['Abel', 35, 'Gabriel', 20, 'Miguel', 10, 'Micael', 1, 'Lilian', 45]"
            ]
          },
          "metadata": {},
          "execution_count": 27
        }
      ]
    }
  ]
}