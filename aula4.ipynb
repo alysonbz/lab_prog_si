{
  "nbformat": 4,
  "nbformat_minor": 0,
  "metadata": {
    "colab": {
      "provenance": [],
      "authorship_tag": "ABX9TyOv2sBCUCmhsxsuTDFECugb",
      "include_colab_link": true
    },
    "kernelspec": {
      "name": "python3",
      "display_name": "Python 3"
    },
    "language_info": {
      "name": "python"
    }
  },
  "cells": [
    {
      "cell_type": "markdown",
      "metadata": {
        "id": "view-in-github",
        "colab_type": "text"
      },
      "source": [
        "<a href=\"https://colab.research.google.com/github/alysonbz/lab_prog_si/blob/Kemilly_Mota/aula4.ipynb\" target=\"_parent\"><img src=\"https://colab.research.google.com/assets/colab-badge.svg\" alt=\"Open In Colab\"/></a>"
      ]
    },
    {
      "cell_type": "code",
      "source": [
        "irma = \"liz\""
      ],
      "metadata": {
        "id": "BHduylowPLkT"
      },
      "execution_count": null,
      "outputs": []
    },
    {
      "cell_type": "code",
      "execution_count": null,
      "metadata": {
        "colab": {
          "base_uri": "https://localhost:8080/"
        },
        "id": "L1JWIRDPMLU2",
        "outputId": "b7821e80-2a2b-45e7-efe7-6f4aa13a6b6c"
      },
      "outputs": [
        {
          "output_type": "stream",
          "name": "stdout",
          "text": [
            "['liz', 1.76, 'Kemilly', 1.65, 'Pai', 1.7, 'Mãe', 1.5, 'Andréa', 1.45]\n",
            "6\n"
          ]
        },
        {
          "output_type": "execute_result",
          "data": {
            "text/plain": [
              "1"
            ]
          },
          "metadata": {},
          "execution_count": 1
        }
      ],
      "source": [
        "fam = [\"liz\", 1.76,\"Kemilly\",1.65,\"Pai\",1.70,\"Mãe\",1.50,\"Andréa\",1.45]\n",
        "print(fam)\n",
        "print(fam.index (\"Mãe\")) #outra forma de mostrar a posição\n",
        "fam.count(\"Kemilly\") #Mostrar quantas vezes aparece um elemento na lista"
      ]
    },
    {
      "cell_type": "code",
      "source": [
        "fam.append(\"João\") #adicionar elementos na lista\n",
        "print(fam)"
      ],
      "metadata": {
        "colab": {
          "base_uri": "https://localhost:8080/"
        },
        "id": "v4yG9NBNOlQr",
        "outputId": "ce7ec240-1010-4f79-a90a-dcfaee25d4f6"
      },
      "execution_count": null,
      "outputs": [
        {
          "output_type": "stream",
          "name": "stdout",
          "text": [
            "['liz', 1.76, 'Kemilly', 1.65, 'Pai', 1.7, 'Mãe', 1.5, 'Andréa', 1.45, 'João']\n"
          ]
        }
      ]
    },
    {
      "cell_type": "code",
      "source": [
        "irma.capitalize()#Faz a primeira letra ser maiúscula"
      ],
      "metadata": {
        "colab": {
          "base_uri": "https://localhost:8080/",
          "height": 36
        },
        "id": "12-tIP8HPHCW",
        "outputId": "12fad8b4-736b-4971-9aed-f04abe2b4600"
      },
      "execution_count": null,
      "outputs": [
        {
          "output_type": "execute_result",
          "data": {
            "text/plain": [
              "'Liz'"
            ],
            "application/vnd.google.colaboratory.intrinsic+json": {
              "type": "string"
            }
          },
          "metadata": {},
          "execution_count": 26
        }
      ]
    },
    {
      "cell_type": "code",
      "source": [
        "irma.replace(\"z\", \"ceu\") #substitui uma letra por outra. \"Z\" virou \"CEU\"\n"
      ],
      "metadata": {
        "colab": {
          "base_uri": "https://localhost:8080/",
          "height": 36
        },
        "id": "XFHTVFk1PvVt",
        "outputId": "ba122fbc-d9bd-4aec-cf06-2120c235bfe2"
      },
      "execution_count": null,
      "outputs": [
        {
          "output_type": "execute_result",
          "data": {
            "text/plain": [
              "'liceu'"
            ],
            "application/vnd.google.colaboratory.intrinsic+json": {
              "type": "string"
            }
          },
          "metadata": {},
          "execution_count": 28
        }
      ]
    },
    {
      "cell_type": "code",
      "source": [
        "#questões 1, 2 e 3\n",
        "place = 'poolhouse'\n",
        "placeup = place.upper() #deixa todas as letras em caixa alta\n",
        "print(place)\n",
        "print(placeup)\n",
        "place.count(\"o\") #mostrar quantos 'o' tem na palavra 'poolhouse"
      ],
      "metadata": {
        "colab": {
          "base_uri": "https://localhost:8080/"
        },
        "id": "uw0AqgXEQP4f",
        "outputId": "8e99696b-be32-49fb-80ec-ad44860f2ee5"
      },
      "execution_count": null,
      "outputs": [
        {
          "output_type": "stream",
          "name": "stdout",
          "text": [
            "poolhouse\n",
            "POOLHOUSE\n"
          ]
        },
        {
          "output_type": "execute_result",
          "data": {
            "text/plain": [
              "3"
            ]
          },
          "metadata": {},
          "execution_count": 43
        }
      ]
    },
    {
      "cell_type": "code",
      "source": [
        "#questões 4 e 5\n",
        "areas = [11.25, 18.0, 20.0, 10.75, 9.5]\n",
        "print(areas)\n",
        "print(areas.index(20.0)) #posição que está algo\n",
        "areas.count(9.5) #quantas vezes um elemento aparece na lista\n"
      ],
      "metadata": {
        "colab": {
          "base_uri": "https://localhost:8080/"
        },
        "id": "8AQJfBxgRoRn",
        "outputId": "dec8c847-544e-4d0e-ad5d-da3f598c557c"
      },
      "execution_count": null,
      "outputs": [
        {
          "output_type": "stream",
          "name": "stdout",
          "text": [
            "[11.25, 18.0, 20.0, 10.75, 9.5]\n",
            "2\n"
          ]
        },
        {
          "output_type": "execute_result",
          "data": {
            "text/plain": [
              "1"
            ]
          },
          "metadata": {},
          "execution_count": 59
        }
      ]
    },
    {
      "cell_type": "code",
      "source": [
        "#questões 6, 7, 8 e 9\n",
        "areas2 = [11.25, 18.0, 20.0, 10.75, 9.5]\n",
        "areas.append(24.5) #adicionar mais dois números na lista\n",
        "areas.append(15.25)\n",
        "print(areas)\n",
        "areas.reverse() #reverter os números que foram adicionados\n",
        "print(areas2)"
      ],
      "metadata": {
        "colab": {
          "base_uri": "https://localhost:8080/"
        },
        "id": "Eh2sGCImSoak",
        "outputId": "d32527bb-2c48-405a-8dd2-35ed7e7bf021"
      },
      "execution_count": null,
      "outputs": [
        {
          "output_type": "stream",
          "name": "stdout",
          "text": [
            "[15.25, 24.5, 9.5, 10.75, 20.0, 18.0, 11.25, 24.5, 15.25]\n",
            "[11.25, 18.0, 20.0, 10.75, 9.5]\n"
          ]
        }
      ]
    }
  ]
}