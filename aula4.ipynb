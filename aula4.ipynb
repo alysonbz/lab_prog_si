{
  "nbformat": 4,
  "nbformat_minor": 0,
  "metadata": {
    "colab": {
      "provenance": [],
      "authorship_tag": "ABX9TyMERW138NCOSkS5FIOU46Dk",
      "include_colab_link": true
    },
    "kernelspec": {
      "name": "python3",
      "display_name": "Python 3"
    },
    "language_info": {
      "name": "python"
    }
  },
  "cells": [
    {
      "cell_type": "markdown",
      "metadata": {
        "id": "view-in-github",
        "colab_type": "text"
      },
      "source": [
        "<a href=\"https://colab.research.google.com/github/alysonbz/lab_prog_si/blob/hugo_alexandre/aula4.ipynb\" target=\"_parent\"><img src=\"https://colab.research.google.com/assets/colab-badge.svg\" alt=\"Open In Colab\"/></a>"
      ]
    },
    {
      "cell_type": "markdown",
      "source": [
        "# funcoes"
      ],
      "metadata": {
        "id": "8f7f5oFY_zB_"
      }
    },
    {
      "cell_type": "code",
      "execution_count": null,
      "metadata": {
        "id": "znyruU7T9lOc",
        "colab": {
          "base_uri": "https://localhost:8080/"
        },
        "outputId": "fce1632d-7405-45e1-deb4-cd703b4231ca"
      },
      "outputs": [
        {
          "output_type": "stream",
          "name": "stdout",
          "text": [
            "durante o loop: 2\n",
            "durante o loop: 5\n",
            "durante o loop: 10\n",
            "durante o loop: 20\n",
            "maior valor: 20\n"
          ]
        }
      ],
      "source": [
        "\n",
        "def max_valor_lista(lista):\n",
        "    maior_valor = None\n",
        "    for numero in lista:\n",
        "\n",
        "        if (maior_valor is None) or (numero > maior_valor):\n",
        "            maior_valor = numero\n",
        "            print(\"durante o loop:\", maior_valor)\n",
        "    return maior_valor\n",
        "\n",
        "lista = [2, 1, 5, 10, 5, 20]\n",
        "resultado = max_valor_lista(lista)\n",
        "print(\"maior valor:\", resultado)"
      ]
    },
    {
      "cell_type": "code",
      "source": [
        "# max\n",
        "fam = [1.73,1.68,1.71,1.89]\n",
        "max(fam)"
      ],
      "metadata": {
        "colab": {
          "base_uri": "https://localhost:8080/"
        },
        "id": "TjekXcWiIHne",
        "outputId": "d9f3938e-4550-4f94-8563-ebb903180a03"
      },
      "execution_count": null,
      "outputs": [
        {
          "output_type": "execute_result",
          "data": {
            "text/plain": [
              "1.89"
            ]
          },
          "metadata": {},
          "execution_count": 24
        }
      ]
    },
    {
      "cell_type": "code",
      "source": [
        "# round\n",
        "\n",
        "round(1.68,1)\n",
        "\n",
        "round(1.68)\n",
        "\n"
      ],
      "metadata": {
        "colab": {
          "base_uri": "https://localhost:8080/"
        },
        "id": "eOxxBNNLIp75",
        "outputId": "a072d3f4-8191-4b4f-84cc-f45f966404e6"
      },
      "execution_count": null,
      "outputs": [
        {
          "output_type": "execute_result",
          "data": {
            "text/plain": [
              "2"
            ]
          },
          "metadata": {},
          "execution_count": 28
        }
      ]
    },
    {
      "cell_type": "code",
      "source": [
        "\n",
        "# questao 1\n",
        "# create variables var1 and var2\n",
        "var1 = (1,2,3,4,5)\n",
        "var2 = True\n",
        "#print out type of var1\n",
        "type(var1)"
      ],
      "metadata": {
        "colab": {
          "base_uri": "https://localhost:8080/"
        },
        "id": "kx8yjgB9J0To",
        "outputId": "24302207-13b2-4b99-c150-4c2f1338089e"
      },
      "execution_count": null,
      "outputs": [
        {
          "output_type": "execute_result",
          "data": {
            "text/plain": [
              "tuple"
            ]
          },
          "metadata": {},
          "execution_count": 37
        }
      ]
    },
    {
      "cell_type": "code",
      "source": [
        "# questao 2\n",
        "#print out length of var1\n",
        "len(var1)"
      ],
      "metadata": {
        "colab": {
          "base_uri": "https://localhost:8080/"
        },
        "id": "Pg0KNE2_MCQG",
        "outputId": "43d7df76-8684-4afb-be25-2aa981a5f9d8"
      },
      "execution_count": null,
      "outputs": [
        {
          "output_type": "execute_result",
          "data": {
            "text/plain": [
              "5"
            ]
          },
          "metadata": {},
          "execution_count": 39
        }
      ]
    },
    {
      "cell_type": "code",
      "source": [
        "# questao 3\n",
        "#convert var2 to an integer: out 2\n",
        "out2 = int(var2)\n",
        "print(out2)"
      ],
      "metadata": {
        "colab": {
          "base_uri": "https://localhost:8080/"
        },
        "id": "BK6spKFILlNu",
        "outputId": "38a056de-8a09-4be3-bd4e-504a76e2a734"
      },
      "execution_count": null,
      "outputs": [
        {
          "output_type": "stream",
          "name": "stdout",
          "text": [
            "1\n"
          ]
        }
      ]
    },
    {
      "cell_type": "code",
      "source": [
        "#questao 4\n",
        "\n",
        "#create lists first and second\n",
        "first = [11.25,18.0, 20.0]\n",
        "second = [10.75,9.50]\n",
        "\n",
        "#paste together first and second: full\n",
        "full = first + second\n",
        "print(full)"
      ],
      "metadata": {
        "id": "9IhfnKo7MU6z",
        "colab": {
          "base_uri": "https://localhost:8080/"
        },
        "outputId": "47471506-0cf3-4fc5-809f-62065ab67f9a"
      },
      "execution_count": null,
      "outputs": [
        {
          "output_type": "stream",
          "name": "stdout",
          "text": [
            "[11.25, 18.0, 20.0, 10.75, 9.5]\n"
          ]
        }
      ]
    },
    {
      "cell_type": "code",
      "source": [
        "#questao 5\n",
        "\n",
        "full_sorted = sorted(full, reverse = True)\n"
      ],
      "metadata": {
        "id": "xg6VER0XMXbF"
      },
      "execution_count": null,
      "outputs": []
    },
    {
      "cell_type": "code",
      "source": [
        "#questao 6\n",
        "print(full_sorted)"
      ],
      "metadata": {
        "id": "depu3ozFMbWX",
        "colab": {
          "base_uri": "https://localhost:8080/"
        },
        "outputId": "1f455fd4-cdd6-4afc-8701-b05261986a0b"
      },
      "execution_count": null,
      "outputs": [
        {
          "output_type": "stream",
          "name": "stdout",
          "text": [
            "[20.0, 18.0, 11.25, 10.75, 9.5]\n"
          ]
        }
      ]
    }
  ]
}