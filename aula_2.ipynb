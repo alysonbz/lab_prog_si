{
  "nbformat": 4,
  "nbformat_minor": 0,
  "metadata": {
    "colab": {
      "provenance": [],
      "authorship_tag": "ABX9TyOZWg7oN6uCQX3R66o7c2vY",
      "include_colab_link": true
    },
    "kernelspec": {
      "name": "python3",
      "display_name": "Python 3"
    },
    "language_info": {
      "name": "python"
    }
  },
  "cells": [
    {
      "cell_type": "markdown",
      "metadata": {
        "id": "view-in-github",
        "colab_type": "text"
      },
      "source": [
        "<a href=\"https://colab.research.google.com/github/alysonbz/lab_prog_si/blob/Kemilly_Mota/aula_2.ipynb\" target=\"_parent\"><img src=\"https://colab.research.google.com/assets/colab-badge.svg\" alt=\"Open In Colab\"/></a>"
      ]
    },
    {
      "cell_type": "markdown",
      "source": [
        "#segunda aula"
      ],
      "metadata": {
        "id": "zHaWGjIixOXn"
      }
    },
    {
      "cell_type": "code",
      "source": [
        "#[] definir a função de uma variável em 'lista'.\n",
        "altura1 = 1.65\n",
        "altura2 = 1.68\n",
        "altura3 = 1.50\n",
        "altura4 = 1.45\n",
        "familia = ['andréa',altura4, 'mãe', altura3,'pai',altura2,'eu',altura1 ]\n",
        "familia"
      ],
      "metadata": {
        "colab": {
          "base_uri": "https://localhost:8080/"
        },
        "id": "dR4oeDgBxTTP",
        "outputId": "2d3184ad-89ee-45ff-f7bc-4fe0e721155d"
      },
      "execution_count": null,
      "outputs": [
        {
          "output_type": "execute_result",
          "data": {
            "text/plain": [
              "['andréa', 1.45, 'mãe', 1.5, 'pai', 1.68, 'eu', 1.65]"
            ]
          },
          "metadata": {},
          "execution_count": 34
        }
      ]
    },
    {
      "cell_type": "code",
      "source": [
        "fam = familia\n",
        "fam\n"
      ],
      "metadata": {
        "colab": {
          "base_uri": "https://localhost:8080/"
        },
        "id": "vdk1NBVNzrPU",
        "outputId": "627ccd50-f8f8-44c8-eb27-c2f62366f2ec"
      },
      "execution_count": null,
      "outputs": [
        {
          "output_type": "execute_result",
          "data": {
            "text/plain": [
              "['andréa', 1.45, 'mãe', 1.5, 'pai', 1.68, 'eu', 1.65]"
            ]
          },
          "metadata": {},
          "execution_count": 35
        }
      ]
    },
    {
      "cell_type": "code",
      "source": [
        "type(família)"
      ],
      "metadata": {
        "colab": {
          "base_uri": "https://localhost:8080/"
        },
        "id": "KF5hjuAv0ag0",
        "outputId": "016332e3-6940-4669-852b-ff4f398491b4"
      },
      "execution_count": null,
      "outputs": [
        {
          "output_type": "execute_result",
          "data": {
            "text/plain": [
              "list"
            ]
          },
          "metadata": {},
          "execution_count": 12
        }
      ]
    },
    {
      "cell_type": "code",
      "source": [
        "#Áreas.\n",
        "hall = 11.25\n",
        "kit = 18.0\n",
        "liv = 20.0\n",
        "bed = 10.75\n",
        "bath = 9.50\n",
        "\n",
        "#lista das áreas.\n",
        "area = [hall, kit, liv,bed, bath]\n",
        "area"
      ],
      "metadata": {
        "colab": {
          "base_uri": "https://localhost:8080/"
        },
        "id": "OoidngXt1Mkl",
        "outputId": "b546dfac-2677-4624-963d-2b0a0e6fd08e"
      },
      "execution_count": 1,
      "outputs": [
        {
          "output_type": "execute_result",
          "data": {
            "text/plain": [
              "[11.25, 18.0, 20.0, 10.75, 9.5]"
            ]
          },
          "metadata": {},
          "execution_count": 1
        }
      ]
    },
    {
      "cell_type": "code",
      "source": [
        "#notas dos alunos, criar uma lista da lista.\n",
        "alunos = ['levi', 'douglas', 'luan']\n",
        "type(alunos)\n",
        "alunos.append('kemilly')\n",
        "print(alunos)\n",
        "\n",
        "alunos_notas = [['levi',9],['douglas', 9],['luan',9],['kemilly', 9]]\n",
        "print(alunos_notas)"
      ],
      "metadata": {
        "colab": {
          "base_uri": "https://localhost:8080/"
        },
        "id": "4vHq7H_D7Juw",
        "outputId": "57054c31-2f89-49b1-caae-f04dbe11788e"
      },
      "execution_count": null,
      "outputs": [
        {
          "output_type": "stream",
          "name": "stdout",
          "text": [
            "['levi', 'douglas', 'luan', 'kemilly']\n",
            "[['levi', 9], ['douglas', 9], ['luan', 9], ['kemilly', 9]]\n"
          ]
        }
      ]
    },
    {
      "cell_type": "code",
      "source": [
        "#q_2\n",
        "lista_1 = [1,3,4,2]  #lista normal\n",
        "lista_2 = [[1,2,3,4,], [5,6,7,8]] #lista da lista\n",
        "#lista_3 = [1+2, \"a\", * 5, 3] # * não pode funcionar sozinho porque o operador precisa de algo antes pra operar\n",
        "type(lista_1)\n",
        "type(lista_2)\n",
        "#type (lista_3)"
      ],
      "metadata": {
        "id": "HJMdGozYW9Dr",
        "colab": {
          "base_uri": "https://localhost:8080/"
        },
        "outputId": "3f7f90ed-9b9a-499b-cc73-4a0c842b71cf"
      },
      "execution_count": 16,
      "outputs": [
        {
          "output_type": "execute_result",
          "data": {
            "text/plain": [
              "list"
            ]
          },
          "metadata": {},
          "execution_count": 16
        }
      ]
    },
    {
      "cell_type": "code",
      "source": [
        "#q_3\n",
        "#variaveis de area\n",
        "hall = 11.25\n",
        "kit = 18.0\n",
        "liv = 20.0\n",
        "bed = 10.75\n",
        "bath = 9.50\n",
        "\n",
        "#informações da casa\n",
        "casa =  [['corredor', hall],\n",
        "         ['cozinha', kit],\n",
        "         ['sala de estar', liv]]\n",
        "print(casa)\n",
        "type(casa)"
      ],
      "metadata": {
        "colab": {
          "base_uri": "https://localhost:8080/"
        },
        "id": "P5eE8NnqJwyn",
        "outputId": "f2c31c23-4668-4c5b-b675-aaeb4c21a03b"
      },
      "execution_count": 25,
      "outputs": [
        {
          "output_type": "stream",
          "name": "stdout",
          "text": [
            "[['corredor', 11.25], ['cozinha', 18.0], ['sala de estar', 20.0]]\n"
          ]
        },
        {
          "output_type": "execute_result",
          "data": {
            "text/plain": [
              "list"
            ]
          },
          "metadata": {},
          "execution_count": 25
        }
      ]
    }
  ]
}