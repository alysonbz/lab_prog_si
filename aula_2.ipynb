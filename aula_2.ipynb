{
  "nbformat": 4,
  "nbformat_minor": 0,
  "metadata": {
    "colab": {
      "provenance": [],
      "authorship_tag": "ABX9TyOElt7IhI9mPs/IWYOuL4pi",
      "include_colab_link": true
    },
    "kernelspec": {
      "name": "python3",
      "display_name": "Python 3"
    },
    "language_info": {
      "name": "python"
    }
  },
  "cells": [
    {
      "cell_type": "markdown",
      "metadata": {
        "id": "view-in-github",
        "colab_type": "text"
      },
      "source": [
        "<a href=\"https://colab.research.google.com/github/alysonbz/lab_prog_si/blob/Kemilly_Mota/aula_2.ipynb\" target=\"_parent\"><img src=\"https://colab.research.google.com/assets/colab-badge.svg\" alt=\"Open In Colab\"/></a>"
      ]
    },
    {
      "cell_type": "markdown",
      "source": [
        "#segunda aula"
      ],
      "metadata": {
        "id": "zHaWGjIixOXn"
      }
    },
    {
      "cell_type": "code",
      "source": [
        "#[] definir a função de uma variável em 'lista'.\n",
        "altura1 = 1.65\n",
        "altura2 = 1.68\n",
        "altura3 = 1.57\n",
        "altura4 = 1.45\n",
        "familia = ['andréa',altura4, 'mãe', altura3,'pai',altura2,'kemilly',altura1 ]\n",
        "familia"
      ],
      "metadata": {
        "colab": {
          "base_uri": "https://localhost:8080/"
        },
        "id": "dR4oeDgBxTTP",
        "outputId": "db0b0e60-40f2-4f10-b951-b79de0dd26ba"
      },
      "execution_count": 38,
      "outputs": [
        {
          "output_type": "execute_result",
          "data": {
            "text/plain": [
              "['andréa', 1.45, 'mãe', 1.57, 'pai', 1.68, 'kemilly', 1.65]"
            ]
          },
          "metadata": {},
          "execution_count": 38
        }
      ]
    },
    {
      "cell_type": "code",
      "source": [
        "fam = familia\n",
        "print(fam)\n",
        "\n"
      ],
      "metadata": {
        "colab": {
          "base_uri": "https://localhost:8080/"
        },
        "id": "vdk1NBVNzrPU",
        "outputId": "ac4702d0-8d4c-4b63-fb0b-a2ce66d76370"
      },
      "execution_count": 39,
      "outputs": [
        {
          "output_type": "stream",
          "name": "stdout",
          "text": [
            "['andréa', 1.45, 'mãe', 1.57, 'pai', 1.68, 'kemilly', 1.65]\n"
          ]
        }
      ]
    },
    {
      "cell_type": "code",
      "source": [
        "fam[5]\n",
        "print(\"o tamanho da lista é\", len(fam))\n",
        "len(fam) #mostrando o tamanho da lista"
      ],
      "metadata": {
        "colab": {
          "base_uri": "https://localhost:8080/"
        },
        "id": "_hyo4Ri6Jgqz",
        "outputId": "73c0b1e9-1a41-4129-e145-d426021061da"
      },
      "execution_count": 30,
      "outputs": [
        {
          "output_type": "stream",
          "name": "stdout",
          "text": [
            "o tamanho da lista é 8\n"
          ]
        },
        {
          "output_type": "execute_result",
          "data": {
            "text/plain": [
              "8"
            ]
          },
          "metadata": {},
          "execution_count": 30
        }
      ]
    },
    {
      "cell_type": "code",
      "source": [
        "t = fam[-2]\n",
        "print(t)\n",
        "fam[:6] #fazendo um slice na lista\n",
        "fam [2:6]"
      ],
      "metadata": {
        "colab": {
          "base_uri": "https://localhost:8080/"
        },
        "id": "6SQgnnWKK4iV",
        "outputId": "fd8ee86f-165d-44d3-96de-e30098862d43"
      },
      "execution_count": 42,
      "outputs": [
        {
          "output_type": "stream",
          "name": "stdout",
          "text": [
            "kemilly\n"
          ]
        },
        {
          "output_type": "execute_result",
          "data": {
            "text/plain": [
              "['mãe', 1.57, 'pai', 1.68]"
            ]
          },
          "metadata": {},
          "execution_count": 42
        }
      ]
    },
    {
      "cell_type": "code",
      "source": [
        "type(família)"
      ],
      "metadata": {
        "colab": {
          "base_uri": "https://localhost:8080/"
        },
        "id": "KF5hjuAv0ag0",
        "outputId": "016332e3-6940-4669-852b-ff4f398491b4"
      },
      "execution_count": null,
      "outputs": [
        {
          "output_type": "execute_result",
          "data": {
            "text/plain": [
              "list"
            ]
          },
          "metadata": {},
          "execution_count": 12
        }
      ]
    },
    {
      "cell_type": "code",
      "source": [
        "#Áreas.\n",
        "hall = 11.25\n",
        "kit = 18.0\n",
        "liv = 20.0\n",
        "bed = 10.75\n",
        "bath = 9.50\n",
        "\n",
        "#lista das áreas.\n",
        "area = [hall,\"hall\", kit,\"kit,\" ,liv,\"liv\",bed,\"bed\",bath, \"bath\"]\n",
        "area"
      ],
      "metadata": {
        "colab": {
          "base_uri": "https://localhost:8080/"
        },
        "id": "OoidngXt1Mkl",
        "outputId": "cc2d8075-a5eb-4c4c-dd37-b83cb9f96e14"
      },
      "execution_count": 5,
      "outputs": [
        {
          "output_type": "execute_result",
          "data": {
            "text/plain": [
              "[11.25, 'hall', 18.0, 'kit,', 20.0, 'liv', 10.75, 'bed', 9.5, 'bath']"
            ]
          },
          "metadata": {},
          "execution_count": 5
        }
      ]
    },
    {
      "cell_type": "code",
      "source": [
        "#notas dos alunos, criar uma lista da lista.\n",
        "alunos = ['levi', 'douglas', 'luan']\n",
        "type(alunos)\n",
        "alunos.append('kemilly')\n",
        "print(alunos)\n",
        "\n",
        "alunos_notas = [['levi',9],['douglas', 9],['luan',9],['kemilly', 9]]\n",
        "print(alunos_notas)"
      ],
      "metadata": {
        "colab": {
          "base_uri": "https://localhost:8080/"
        },
        "id": "4vHq7H_D7Juw",
        "outputId": "57054c31-2f89-49b1-caae-f04dbe11788e"
      },
      "execution_count": null,
      "outputs": [
        {
          "output_type": "stream",
          "name": "stdout",
          "text": [
            "['levi', 'douglas', 'luan', 'kemilly']\n",
            "[['levi', 9], ['douglas', 9], ['luan', 9], ['kemilly', 9]]\n"
          ]
        }
      ]
    },
    {
      "cell_type": "code",
      "source": [
        "#q_2\n",
        "lista_1 = [1,3,4,2]  #lista normal\n",
        "lista_2 = [[1,2,3,4,], [5,6,7,8]] #lista da lista\n",
        "#lista_3 = [1+2, \"a\", * 5, 3] # * não pode funcionar sozinho porque o operador precisa de algo antes pra operar\n",
        "type(lista_1)\n",
        "type(lista_2)\n",
        "#type (lista_3)"
      ],
      "metadata": {
        "id": "HJMdGozYW9Dr",
        "colab": {
          "base_uri": "https://localhost:8080/"
        },
        "outputId": "96ebadcb-59cd-4d1f-e019-7f1c1ab5c4ff"
      },
      "execution_count": 26,
      "outputs": [
        {
          "output_type": "execute_result",
          "data": {
            "text/plain": [
              "list"
            ]
          },
          "metadata": {},
          "execution_count": 26
        }
      ]
    },
    {
      "cell_type": "code",
      "source": [
        "#q_3\n",
        "#variaveis de area\n",
        "hall = 11.25\n",
        "kit = 18.0\n",
        "liv = 20.0\n",
        "bed = 10.75\n",
        "bath = 9.50\n",
        "\n",
        "#informações da casa\n",
        "casa =  [['corredor', hall],\n",
        "         ['cozinha', kit],\n",
        "         ['sala de estar', liv]]\n",
        "print(casa)\n",
        "type(casa)"
      ],
      "metadata": {
        "colab": {
          "base_uri": "https://localhost:8080/"
        },
        "id": "P5eE8NnqJwyn",
        "outputId": "b4c88fed-e1b7-4bab-e0d7-00804a831d2a"
      },
      "execution_count": 7,
      "outputs": [
        {
          "output_type": "stream",
          "name": "stdout",
          "text": [
            "[['corredor', 11.25], ['cozinha', 18.0], ['sala de estar', 20.0]]\n"
          ]
        },
        {
          "output_type": "execute_result",
          "data": {
            "text/plain": [
              "list"
            ]
          },
          "metadata": {},
          "execution_count": 7
        }
      ]
    },
    {
      "cell_type": "code",
      "source": [
        "areas = [[\"hallway\", 11.25,],\n",
        "         [\"kitchen\", 18.0],\n",
        "         [\"living room\", 20.0],\n",
        "         [\"bedroom\", 10.75],\n",
        "          [\"bathroom\", 9.50]]\n",
        "print(areas)\n",
        "print(areas [1])\n",
        "print(areas [-1])\n",
        "print(areas [2])"
      ],
      "metadata": {
        "colab": {
          "base_uri": "https://localhost:8080/"
        },
        "id": "ub5ba3-MMDyI",
        "outputId": "c893a73e-4caa-45ec-bc39-218a057b9fd5"
      },
      "execution_count": 67,
      "outputs": [
        {
          "output_type": "stream",
          "name": "stdout",
          "text": [
            "[['hallway', 11.25], ['kitchen', 18.0], ['living room', 20.0], ['bedroom', 10.75], ['bathroom', 9.5]]\n",
            "['kitchen', 18.0]\n",
            "['bathroom', 9.5]\n",
            "['living room', 20.0]\n"
          ]
        }
      ]
    },
    {
      "cell_type": "code",
      "source": [
        "areas = [\"hallway\", 11.25,\n",
        "         \"kitchen\", 18.0,\n",
        "         \"living room\", 20.0,\n",
        "         \"bedroom\", 10.75,\n",
        "          \"bathroom\", 9.50]\n",
        "sleep_eat_area = areas[3] + areas[5]\n",
        "print(sleep_eat_area)"
      ],
      "metadata": {
        "colab": {
          "base_uri": "https://localhost:8080/"
        },
        "id": "RA107nQFMDsT",
        "outputId": "24f07b80-c4b1-4052-c96a-adde735791a5"
      },
      "execution_count": 81,
      "outputs": [
        {
          "output_type": "stream",
          "name": "stdout",
          "text": [
            "38.0\n"
          ]
        }
      ]
    },
    {
      "cell_type": "code",
      "source": [
        "areas = [\"hallway\", 11.25,\n",
        "         \"kitchen\", 18.0,\n",
        "         \"living room\", 20.0,\n",
        "         \"bedroom\", 10.75,\n",
        "          \"bathroom\", 9.50]\n",
        "downstars = areas [0:9]\n",
        "downstars"
      ],
      "metadata": {
        "colab": {
          "base_uri": "https://localhost:8080/"
        },
        "id": "0nmVFplgQu6D",
        "outputId": "77ae3dab-3a3a-44db-94d2-c8ec833bb065"
      },
      "execution_count": 93,
      "outputs": [
        {
          "output_type": "execute_result",
          "data": {
            "text/plain": [
              "['hallway',\n",
              " 11.25,\n",
              " 'kitchen',\n",
              " 18.0,\n",
              " 'living room',\n",
              " 20.0,\n",
              " 'bedroom',\n",
              " 10.75,\n",
              " 'bathroom']"
            ]
          },
          "metadata": {},
          "execution_count": 93
        }
      ]
    },
    {
      "cell_type": "code",
      "source": [
        "aluno=[['kemilly', 'ufc'],['levi', 'uece']]\n",
        "aluno[0]\n",
        "aluno[0][1]"
      ],
      "metadata": {
        "colab": {
          "base_uri": "https://localhost:8080/",
          "height": 35
        },
        "id": "9XAgyR4ISfDL",
        "outputId": "17c7342f-4cc7-4a04-8e62-0a23fe7a8c26"
      },
      "execution_count": 98,
      "outputs": [
        {
          "output_type": "execute_result",
          "data": {
            "text/plain": [
              "'ufc'"
            ],
            "application/vnd.google.colaboratory.intrinsic+json": {
              "type": "string"
            }
          },
          "metadata": {},
          "execution_count": 98
        }
      ]
    },
    {
      "cell_type": "code",
      "source": [
        "#lista de família (fulano, altura), acesse o 3 elemento da lista, acessar a altura do segundo elemnto da lista\n",
        "familia_1 = [['kemilly', '1.65'],['levi', '1.30'],['douglas', '1.10'],['luan', '1.20'],['Laísa', '1.15']]\n",
        "fam = familia_1\n",
        "print(fam[3])\n",
        "print(fam[1][1])"
      ],
      "metadata": {
        "colab": {
          "base_uri": "https://localhost:8080/"
        },
        "id": "1pZCz-q3Sxbc",
        "outputId": "3bdbbc5e-a3d6-4af3-ce9e-4562b87728b7"
      },
      "execution_count": 109,
      "outputs": [
        {
          "output_type": "stream",
          "name": "stdout",
          "text": [
            "['luan', '1.20']\n",
            "1.30\n"
          ]
        }
      ]
    },
    {
      "cell_type": "code",
      "source": [
        "\n",
        "casasss= [[\"hallway\", 11.25,],\n",
        "         [\"kitchen\", 18.0],\n",
        "         [\"living room\", 20.0],\n",
        "         [\"bedroom\", 10.75],\n",
        "          [\"bathroom\", 9.50]]\n",
        "casasss[-1][1]"
      ],
      "metadata": {
        "colab": {
          "base_uri": "https://localhost:8080/"
        },
        "id": "hGHGkJAvVo7c",
        "outputId": "c2b8d30b-dc6c-4375-d00f-b07e239f239e"
      },
      "execution_count": 113,
      "outputs": [
        {
          "output_type": "execute_result",
          "data": {
            "text/plain": [
              "9.5"
            ]
          },
          "metadata": {},
          "execution_count": 113
        }
      ]
    }
  ]
}