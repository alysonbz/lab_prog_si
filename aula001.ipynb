{
  "nbformat": 4,
  "nbformat_minor": 0,
  "metadata": {
    "colab": {
      "provenance": [],
      "authorship_tag": "ABX9TyOF9BD3CWhbqfpwhqqgnB3p",
      "include_colab_link": true
    },
    "kernelspec": {
      "name": "python3",
      "display_name": "Python 3"
    },
    "language_info": {
      "name": "python"
    }
  },
  "cells": [
    {
      "cell_type": "markdown",
      "metadata": {
        "id": "view-in-github",
        "colab_type": "text"
      },
      "source": [
        "<a href=\"https://colab.research.google.com/github/alysonbz/lab_prog_si/blob/hugo_alexandre/aula001.ipynb\" target=\"_parent\"><img src=\"https://colab.research.google.com/assets/colab-badge.svg\" alt=\"Open In Colab\"/></a>"
      ]
    },
    {
      "cell_type": "code",
      "source": [
        "height = 1.72\n",
        "weight = 60\n",
        "nome= \"hugo\"\n",
        "idade = 18\n",
        "imc = weight/height**2\n",
        "print(imc)"
      ],
      "metadata": {
        "colab": {
          "base_uri": "https://localhost:8080/"
        },
        "id": "gvrVLkWPAxVF",
        "outputId": "14d4aa6f-7997-4f8d-a23c-f3ecc1c0059e"
      },
      "execution_count": null,
      "outputs": [
        {
          "output_type": "stream",
          "name": "stdout",
          "text": [
            "20.281233098972418\n"
          ]
        }
      ]
    },
    {
      "cell_type": "code",
      "source": [
        "type(imc)"
      ],
      "metadata": {
        "colab": {
          "base_uri": "https://localhost:8080/"
        },
        "id": "9vo-9SSYE8gZ",
        "outputId": "134430a8-80de-4bb7-956d-31b50993ac23"
      },
      "execution_count": null,
      "outputs": [
        {
          "output_type": "execute_result",
          "data": {
            "text/plain": [
              "float"
            ]
          },
          "metadata": {},
          "execution_count": 11
        }
      ]
    },
    {
      "cell_type": "code",
      "source": [
        "type(nome)"
      ],
      "metadata": {
        "colab": {
          "base_uri": "https://localhost:8080/"
        },
        "id": "UT6ZoUS3FK4c",
        "outputId": "60a4f0d1-5415-470b-9944-c1e3841492eb"
      },
      "execution_count": null,
      "outputs": [
        {
          "output_type": "execute_result",
          "data": {
            "text/plain": [
              "str"
            ]
          },
          "metadata": {},
          "execution_count": 15
        }
      ]
    },
    {
      "cell_type": "code",
      "execution_count": null,
      "metadata": {
        "colab": {
          "base_uri": "https://localhost:8080/"
        },
        "id": "2ecvHSxs76R8",
        "outputId": "f7d493b4-77cb-49db-d6c2-ede634a05d45"
      },
      "outputs": [
        {
          "output_type": "execute_result",
          "data": {
            "text/plain": [
              "int"
            ]
          },
          "metadata": {},
          "execution_count": 10
        }
      ],
      "source": [
        "type(18)\n",
        "\n"
      ]
    },
    {
      "cell_type": "code",
      "source": [
        "#soma entre strings\n",
        "result = 'ab'+ 'cd'\n",
        "print(result)\n",
        "#soma entre números inteiros\n",
        "resultnum = 2+2\n",
        "print(resultnum)\n",
        "#soma entre strings (números)\n",
        "resnumtext = '78' + '90'\n",
        "print(resnumtext)"
      ],
      "metadata": {
        "colab": {
          "base_uri": "https://localhost:8080/"
        },
        "id": "zjOkay5dGeSR",
        "outputId": "f389222a-1463-4550-ed07-e591e77d38bd"
      },
      "execution_count": null,
      "outputs": [
        {
          "output_type": "stream",
          "name": "stdout",
          "text": [
            "abcd\n",
            "4\n",
            "7890\n"
          ]
        }
      ]
    },
    {
      "cell_type": "code",
      "source": [
        "#EXAMPLE\n",
        "print(5/8)"
      ],
      "metadata": {
        "id": "MUIsGJDnMnl3"
      },
      "execution_count": null,
      "outputs": []
    },
    {
      "cell_type": "code",
      "source": [
        "print(7+8)"
      ],
      "metadata": {
        "colab": {
          "base_uri": "https://localhost:8080/"
        },
        "id": "20aoAYdlIUBU",
        "outputId": "5a4c7ea6-5621-4645-81ac-04f29fa5d824"
      },
      "execution_count": null,
      "outputs": [
        {
          "output_type": "stream",
          "name": "stdout",
          "text": [
            "15\n"
          ]
        }
      ]
    },
    {
      "cell_type": "code",
      "source": [
        "#questão 3\n",
        "print(5+3)\n",
        "print(5-3)"
      ],
      "metadata": {
        "colab": {
          "base_uri": "https://localhost:8080/"
        },
        "id": "0RzaswaXHVAK",
        "outputId": "40c0e09d-ff9f-426e-d126-bb25be46ebc7"
      },
      "execution_count": null,
      "outputs": [
        {
          "output_type": "stream",
          "name": "stdout",
          "text": [
            "8\n",
            "2\n"
          ]
        }
      ]
    },
    {
      "cell_type": "code",
      "source": [
        "#questão 4\n",
        "print(5**3)\n",
        "print(5*3)\n",
        "print(5%3)"
      ],
      "metadata": {
        "colab": {
          "base_uri": "https://localhost:8080/"
        },
        "id": "1xjYvU8MLVCG",
        "outputId": "7f23251a-8ba0-4438-d8c9-b22b0cd4aeb1"
      },
      "execution_count": null,
      "outputs": [
        {
          "output_type": "stream",
          "name": "stdout",
          "text": [
            "125\n",
            "15\n",
            "2\n"
          ]
        }
      ]
    },
    {
      "cell_type": "code",
      "source": [
        "#questao 5 sobre juros\n",
        "valor = 100\n",
        "juros= 1.1/100\n",
        "\n",
        "valorfim= valor*(1+juros)**7\n",
        "print(valorfim)"
      ],
      "metadata": {
        "colab": {
          "base_uri": "https://localhost:8080/"
        },
        "id": "jHyBzizT0gD5",
        "outputId": "5ef5e2ff-184a-4627-f310-dde53c6265c8"
      },
      "execution_count": null,
      "outputs": [
        {
          "output_type": "stream",
          "name": "stdout",
          "text": [
            "107.95881008294907\n"
          ]
        }
      ]
    },
    {
      "cell_type": "code",
      "source": [
        "#questao 6\n",
        "savings = 100\n",
        "growth_multiplier = 1.1\n",
        "desc = \"compound interest\"\n",
        "#Assign product of growth_multiplier and savings to year1\n",
        "year1 = savings*growth_multiplier\n",
        "#print The type of year1\n",
        "print(type(year1))\n",
        "# assign sum of desc and desc tô Doubledesc\n",
        "doubledesc = desc + desc\n",
        "print(doubledesc)"
      ],
      "metadata": {
        "colab": {
          "base_uri": "https://localhost:8080/"
        },
        "id": "7SarbH3o3PS_",
        "outputId": "7c7d0f92-c69c-4f25-f667-5c4454fa7cf6"
      },
      "execution_count": null,
      "outputs": [
        {
          "output_type": "stream",
          "name": "stdout",
          "text": [
            "<class 'float'>\n",
            "compound interestcompound interest\n"
          ]
        }
      ]
    },
    {
      "cell_type": "code",
      "source": [
        "# questao 7\n",
        "#valor de pi\n",
        "pi_string = \"3.1415926\"\n",
        "#conversao de pi string para float\n",
        "pi_float = float(pi_string)\n",
        "print(pi_float)"
      ],
      "metadata": {
        "colab": {
          "base_uri": "https://localhost:8080/"
        },
        "id": "6Jxxxz8U45hO",
        "outputId": "83840dc0-d6f3-43c1-b59b-7fc2b93dafd1"
      },
      "execution_count": null,
      "outputs": [
        {
          "output_type": "stream",
          "name": "stdout",
          "text": [
            "3.1415926\n"
          ]
        }
      ]
    },
    {
      "cell_type": "code",
      "source": [
        "#questao 8 e 9\n",
        "#definition of savings and result\n",
        "savings = 100\n",
        "result = 100 * 1.10 ** 7\n",
        "#fix the printout\n",
        "print(\"I started with $\" + str(savings) + \" and now have $\" + str(result) + \". Awesome!\")"
      ],
      "metadata": {
        "colab": {
          "base_uri": "https://localhost:8080/"
        },
        "id": "prl_9PaB5Gql",
        "outputId": "c95d3cb1-8009-4b6e-8ffe-c946815cebde"
      },
      "execution_count": null,
      "outputs": [
        {
          "output_type": "stream",
          "name": "stdout",
          "text": [
            "I started with $100 and now have $194.87171000000012. Awesome!\n"
          ]
        }
      ]
    },
    {
      "cell_type": "code",
      "source": [
        "# questao 10\n",
        "\n",
        "#\"The correct answer to this multiple choice exercise is answer number\" + 2\n",
        "\n",
        "#Incorreto. Não é possível concatenar str com int."
      ],
      "metadata": {
        "colab": {
          "base_uri": "https://localhost:8080/"
        },
        "id": "f1PMyCjW5aDZ",
        "outputId": "9315ae02-80df-43a1-dc59-81ba1dd95a56"
      },
      "execution_count": null,
      "outputs": [
        {
          "output_type": "stream",
          "name": "stdout",
          "text": [
            "true + false\n"
          ]
        }
      ]
    }
  ]
}