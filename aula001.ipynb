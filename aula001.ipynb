{
  "nbformat": 4,
  "nbformat_minor": 0,
  "metadata": {
    "colab": {
      "provenance": [],
      "authorship_tag": "ABX9TyOZIts1WzRC0ckPD0WG3lRi"
    },
    "kernelspec": {
      "name": "python3",
      "display_name": "Python 3"
    },
    "language_info": {
      "name": "python"
    }
  },
  "cells": [
    {
      "cell_type": "code",
      "source": [
        "height = 1.72\n",
        "weight = 60\n",
        "nome= \"hugo\"\n",
        "idade = 18\n",
        "imc = weight/height**2\n",
        "print(imc)"
      ],
      "metadata": {
        "colab": {
          "base_uri": "https://localhost:8080/"
        },
        "id": "gvrVLkWPAxVF",
        "outputId": "14d4aa6f-7997-4f8d-a23c-f3ecc1c0059e"
      },
      "execution_count": null,
      "outputs": [
        {
          "output_type": "stream",
          "name": "stdout",
          "text": [
            "20.281233098972418\n"
          ]
        }
      ]
    },
    {
      "cell_type": "code",
      "source": [
        "type(imc)"
      ],
      "metadata": {
        "colab": {
          "base_uri": "https://localhost:8080/"
        },
        "id": "9vo-9SSYE8gZ",
        "outputId": "134430a8-80de-4bb7-956d-31b50993ac23"
      },
      "execution_count": null,
      "outputs": [
        {
          "output_type": "execute_result",
          "data": {
            "text/plain": [
              "float"
            ]
          },
          "metadata": {},
          "execution_count": 11
        }
      ]
    },
    {
      "cell_type": "code",
      "source": [
        "type(nome)"
      ],
      "metadata": {
        "colab": {
          "base_uri": "https://localhost:8080/"
        },
        "id": "UT6ZoUS3FK4c",
        "outputId": "60a4f0d1-5415-470b-9944-c1e3841492eb"
      },
      "execution_count": null,
      "outputs": [
        {
          "output_type": "execute_result",
          "data": {
            "text/plain": [
              "str"
            ]
          },
          "metadata": {},
          "execution_count": 15
        }
      ]
    },
    {
      "cell_type": "code",
      "execution_count": null,
      "metadata": {
        "colab": {
          "base_uri": "https://localhost:8080/"
        },
        "id": "2ecvHSxs76R8",
        "outputId": "f7d493b4-77cb-49db-d6c2-ede634a05d45"
      },
      "outputs": [
        {
          "output_type": "execute_result",
          "data": {
            "text/plain": [
              "int"
            ]
          },
          "metadata": {},
          "execution_count": 10
        }
      ],
      "source": [
        "type(18)\n",
        "\n"
      ]
    },
    {
      "cell_type": "code",
      "source": [
        "result = 'ab'+ 'cd'\n",
        "print(result)\n",
        "resultnum = 2+2\n",
        "print(resultnum)\n",
        "resnumtext = '78' + '90'\n",
        "print(resnumtext)"
      ],
      "metadata": {
        "colab": {
          "base_uri": "https://localhost:8080/"
        },
        "id": "zjOkay5dGeSR",
        "outputId": "f389222a-1463-4550-ed07-e591e77d38bd"
      },
      "execution_count": null,
      "outputs": [
        {
          "output_type": "stream",
          "name": "stdout",
          "text": [
            "abcd\n",
            "4\n",
            "7890\n"
          ]
        }
      ]
    },
    {
      "cell_type": "code",
      "source": [
        "#EXAMPLE\n",
        "print(5/8)"
      ],
      "metadata": {
        "id": "MUIsGJDnMnl3"
      },
      "execution_count": null,
      "outputs": []
    },
    {
      "cell_type": "code",
      "source": [
        "print(7+8)\n",
        "#comentário"
      ],
      "metadata": {
        "colab": {
          "base_uri": "https://localhost:8080/"
        },
        "id": "20aoAYdlIUBU",
        "outputId": "5a4c7ea6-5621-4645-81ac-04f29fa5d824"
      },
      "execution_count": null,
      "outputs": [
        {
          "output_type": "stream",
          "name": "stdout",
          "text": [
            "15\n"
          ]
        }
      ]
    },
    {
      "cell_type": "code",
      "source": [
        "#questão 3\n",
        "print(5+3)\n",
        "print(5-3)\n"
      ],
      "metadata": {
        "colab": {
          "base_uri": "https://localhost:8080/"
        },
        "id": "0RzaswaXHVAK",
        "outputId": "40c0e09d-ff9f-426e-d126-bb25be46ebc7"
      },
      "execution_count": null,
      "outputs": [
        {
          "output_type": "stream",
          "name": "stdout",
          "text": [
            "8\n",
            "2\n"
          ]
        }
      ]
    },
    {
      "cell_type": "code",
      "source": [
        "#questão 4\n",
        "print(5**3)\n",
        "print(5*3)\n",
        "print(5%3)"
      ],
      "metadata": {
        "colab": {
          "base_uri": "https://localhost:8080/"
        },
        "id": "1xjYvU8MLVCG",
        "outputId": "7f23251a-8ba0-4438-d8c9-b22b0cd4aeb1"
      },
      "execution_count": null,
      "outputs": [
        {
          "output_type": "stream",
          "name": "stdout",
          "text": [
            "125\n",
            "15\n",
            "2\n"
          ]
        }
      ]
    },
    {
      "cell_type": "code",
      "source": [],
      "metadata": {
        "id": "jHyBzizT0gD5"
      },
      "execution_count": null,
      "outputs": []
    }
  ]
}