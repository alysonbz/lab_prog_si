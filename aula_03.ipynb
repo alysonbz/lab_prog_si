{
  "nbformat": 4,
  "nbformat_minor": 0,
  "metadata": {
    "colab": {
      "provenance": [],
      "authorship_tag": "ABX9TyMZSlotkvz6K9JJ0QCdetnm",
      "include_colab_link": true
    },
    "kernelspec": {
      "name": "python3",
      "display_name": "Python 3"
    },
    "language_info": {
      "name": "python"
    }
  },
  "cells": [
    {
      "cell_type": "markdown",
      "metadata": {
        "id": "view-in-github",
        "colab_type": "text"
      },
      "source": [
        "<a href=\"https://colab.research.google.com/github/alysonbz/lab_prog_si/blob/laisa_gomes/aula_03.ipynb\" target=\"_parent\"><img src=\"https://colab.research.google.com/assets/colab-badge.svg\" alt=\"Open In Colab\"/></a>"
      ]
    },
    {
      "cell_type": "code",
      "execution_count": null,
      "metadata": {
        "id": "tLawPQ5v-JRK"
      },
      "outputs": [],
      "source": [
        "# Função que retorna o maior valor de uma lista\n",
        "\n",
        "def max_valor_lista(list_num):\n",
        "  maior_valor = None\n",
        "  for numero in list_num:\n",
        "    if maior_valor== None:\n",
        "      maior_valor = numero\n",
        "    if numero > maior_valor:\n",
        "      maior_valor = numero\n",
        "  return maior_valor"
      ]
    },
    {
      "cell_type": "code",
      "source": [
        "lista_qualquer = [2,6,7,8,7,5,89]\n",
        "\n",
        "num = max_valor_lista(lista_qualquer)\n",
        "print(num)"
      ],
      "metadata": {
        "colab": {
          "base_uri": "https://localhost:8080/"
        },
        "id": "juxq7RCcA-Zn",
        "outputId": "4f191bed-ce5d-4f01-ae6d-38e38dd0be37"
      },
      "execution_count": null,
      "outputs": [
        {
          "output_type": "stream",
          "name": "stdout",
          "text": [
            "89\n"
          ]
        }
      ]
    },
    {
      "cell_type": "code",
      "source": [
        "# Faça uma função que retorne a quantidade de elementos de uma lista\n",
        "\n",
        "def qtidade_elementos(lista_num):\n",
        "  qtidade = 0\n",
        "  for elemento in lista_num:\n",
        "    qtidade = qtidade + 1\n",
        "  return qtidade"
      ],
      "metadata": {
        "id": "StASRmo3Ado0"
      },
      "execution_count": null,
      "outputs": []
    },
    {
      "cell_type": "code",
      "source": [
        "lista_num= [1,2,3,4,5]\n",
        "\n",
        "qtidade_elementos(lista_num)\n",
        "\n"
      ],
      "metadata": {
        "colab": {
          "base_uri": "https://localhost:8080/"
        },
        "id": "iczkskzgDLTK",
        "outputId": "9a8d8244-0e54-451f-87df-223f20dab311"
      },
      "execution_count": null,
      "outputs": [
        {
          "output_type": "execute_result",
          "data": {
            "text/plain": [
              "5"
            ]
          },
          "metadata": {},
          "execution_count": 38
        }
      ]
    },
    {
      "cell_type": "code",
      "source": [
        "# Função max\n",
        "\n",
        "num = [1,2,3,8,102,40]\n",
        "max(num)"
      ],
      "metadata": {
        "colab": {
          "base_uri": "https://localhost:8080/"
        },
        "id": "lP5LF-qUHyuz",
        "outputId": "0fe13dc4-3f12-416f-d59d-e3ebda5482c0"
      },
      "execution_count": null,
      "outputs": [
        {
          "output_type": "execute_result",
          "data": {
            "text/plain": [
              "102"
            ]
          },
          "metadata": {},
          "execution_count": 27
        }
      ]
    },
    {
      "cell_type": "code",
      "source": [
        "# Arredeondando número\n",
        "\n",
        "round(1.56, 1)"
      ],
      "metadata": {
        "colab": {
          "base_uri": "https://localhost:8080/"
        },
        "id": "tZ6CCGSrIFdk",
        "outputId": "34bc6c3d-3a49-47cb-d4a4-9b5e231fd2f7"
      },
      "execution_count": null,
      "outputs": [
        {
          "output_type": "execute_result",
          "data": {
            "text/plain": [
              "2"
            ]
          },
          "metadata": {},
          "execution_count": 30
        }
      ]
    },
    {
      "cell_type": "code",
      "source": [
        "# Realize o print do tipo de var1 usando a função type()\n",
        "\n",
        "var1= [1,2,3,4]\n",
        "var2= True\n",
        "\n",
        "# Mostre o tipo da variável var1\n",
        "print(type(var1))\n",
        "\n",
        "# Mostre o tamanho de var1 usando len\n",
        "print(len(var1))\n",
        "\n",
        "# Converta var2 (boleana) para inteiro\n",
        "out2= int (var2)\n",
        "print(type(out2))"
      ],
      "metadata": {
        "colab": {
          "base_uri": "https://localhost:8080/"
        },
        "id": "X2icnfpQJFhR",
        "outputId": "d2520afe-8a83-4fa1-d5b0-3a6aa3136645"
      },
      "execution_count": null,
      "outputs": [
        {
          "output_type": "stream",
          "name": "stdout",
          "text": [
            "<class 'list'>\n",
            "4\n",
            "<class 'int'>\n"
          ]
        }
      ]
    },
    {
      "cell_type": "code",
      "source": [
        "# Concatenando lista\n",
        "\n",
        "primeiro = [11.25, 18.0, 20.0]\n",
        "segundo = [10.75, 9.50]\n",
        "\n",
        "full= primeiro + segundo\n",
        "print(full)\n",
        "\n",
        "# Função sorted() para ordenar elementos\n",
        "\n",
        "full_sorted= sorted(full, reverse = True)\n",
        "print(full_sorted)"
      ],
      "metadata": {
        "colab": {
          "base_uri": "https://localhost:8080/"
        },
        "id": "81psiO4HLcdc",
        "outputId": "96118aad-a87e-489b-89a2-f0ed46cc6bbb"
      },
      "execution_count": null,
      "outputs": [
        {
          "output_type": "stream",
          "name": "stdout",
          "text": [
            "[11.25, 18.0, 20.0, 10.75, 9.5]\n",
            "[20.0, 18.0, 11.25, 10.75, 9.5]\n"
          ]
        }
      ]
    },
    {
      "cell_type": "code",
      "source": [
        "# Método upper()\n",
        "\n",
        "place = \"poolhouse\"\n",
        "place_up = place.upper()\n",
        "\n",
        "print(place)\n",
        "print(place_up)\n",
        "\n",
        "print(place.count(\"o\"))"
      ],
      "metadata": {
        "colab": {
          "base_uri": "https://localhost:8080/"
        },
        "id": "mQtA5AGfOLWG",
        "outputId": "acbca035-77d8-4419-e18e-0839bafb727e"
      },
      "execution_count": null,
      "outputs": [
        {
          "output_type": "stream",
          "name": "stdout",
          "text": [
            "poolhouse\n",
            "POOLHOUSE\n",
            "3\n"
          ]
        }
      ]
    },
    {
      "cell_type": "code",
      "source": [
        "# Método index()\n",
        "areas =  [11.25, 18.0, 20.0, 10.75, 9.50]\n",
        "\n",
        "print(areas.index(20.0))\n",
        "\n",
        "# Mostre via print o numero de vezes que 9.5 aparece na lista.\n",
        "print(areas.count(9.5))\n",
        "\n",
        "# Adicionando elementos na lista método append()\n",
        "areas.append(24.5)\n",
        "areas.append(15.25)\n",
        "print(areas)\n",
        "\n",
        "# Invertendo uma lista método reverse()\n",
        "areas.reverse()\n",
        "print(areas)"
      ],
      "metadata": {
        "colab": {
          "base_uri": "https://localhost:8080/"
        },
        "id": "6WYdPZzkPXbk",
        "outputId": "a5af6104-e094-497e-c8df-80d7d402e02f"
      },
      "execution_count": null,
      "outputs": [
        {
          "output_type": "stream",
          "name": "stdout",
          "text": [
            "2\n",
            "1\n",
            "[11.25, 18.0, 20.0, 10.75, 9.5, 24.5, 15.25]\n",
            "[15.25, 24.5, 9.5, 10.75, 20.0, 18.0, 11.25]\n"
          ]
        }
      ]
    }
  ]
}