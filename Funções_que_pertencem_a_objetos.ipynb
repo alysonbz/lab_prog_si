{
  "nbformat": 4,
  "nbformat_minor": 0,
  "metadata": {
    "colab": {
      "provenance": [],
      "authorship_tag": "ABX9TyOqUjl4L2h+GIZOiE1dXl1C",
      "include_colab_link": true
    },
    "kernelspec": {
      "name": "python3",
      "display_name": "Python 3"
    },
    "language_info": {
      "name": "python"
    }
  },
  "cells": [
    {
      "cell_type": "markdown",
      "metadata": {
        "id": "view-in-github",
        "colab_type": "text"
      },
      "source": [
        "<a href=\"https://colab.research.google.com/github/alysonbz/lab_prog_si/blob/antonio_erick/Fun%C3%A7%C3%B5es_que_pertencem_a_objetos.ipynb\" target=\"_parent\"><img src=\"https://colab.research.google.com/assets/colab-badge.svg\" alt=\"Open In Colab\"/></a>"
      ]
    },
    {
      "cell_type": "code",
      "execution_count": 6,
      "metadata": {
        "colab": {
          "base_uri": "https://localhost:8080/",
          "height": 140
        },
        "id": "gaXVphNiK-kH",
        "outputId": "eb896010-49c3-4467-a34f-ec5d8a3d43d6"
      },
      "outputs": [
        {
          "output_type": "stream",
          "name": "stdout",
          "text": [
            "4\n",
            "1\n",
            "['liz', 1.73, 'emma', 1.68, 'mom', 1.71, 'dad', 1.89, 'me']\n",
            "['liz', 1.73, 'emma', 1.68, 'mom', 1.71, 'dad', 1.89, 'me', 1.79]\n",
            "liz\n",
            "Liz\n"
          ]
        },
        {
          "output_type": "execute_result",
          "data": {
            "text/plain": [
              "'lisa'"
            ],
            "application/vnd.google.colaboratory.intrinsic+json": {
              "type": "string"
            }
          },
          "metadata": {},
          "execution_count": 6
        }
      ],
      "source": [
        "#Métodos de litas\n",
        "sister= 'liz'\n",
        "height= 1.73\n",
        "fam= ['liz',1.73,'emma',1.68,'mom',1.71,'dad',1.89]\n",
        "print(fam.index('mom'))\n",
        "print(fam.count(1.73))\n",
        "fam.append('me')\n",
        "print(fam)\n",
        "fam.append(1.79)\n",
        "print(fam)\n",
        "\n",
        "\n",
        "#Métodos de string\n",
        "print(sister)\n",
        "print(sister.capitalize())\n",
        "sister.replace('z','sa')"
      ]
    },
    {
      "cell_type": "markdown",
      "source": [
        "Pratique pag 50 até 52"
      ],
      "metadata": {
        "id": "NhQotRY7RTCe"
      }
    },
    {
      "cell_type": "code",
      "source": [
        "#q1\n",
        "place='pollhouse'\n",
        "place_up=place.upper()\n",
        "#na saída a variável vai estar em maiuscula\n",
        "#q2\n",
        "print(place_up)\n",
        "#place.count('o') irá mostrar a quantidade de 'o' tem na variável\n",
        "#q3\n",
        "print(place.count('o'))"
      ],
      "metadata": {
        "colab": {
          "base_uri": "https://localhost:8080/"
        },
        "id": "ItHVFGnZReXV",
        "outputId": "96da8b7c-b7d1-465e-a742-0b5c8bcc5164"
      },
      "execution_count": 12,
      "outputs": [
        {
          "output_type": "stream",
          "name": "stdout",
          "text": [
            "POLLHOUSE\n",
            "2\n"
          ]
        }
      ]
    },
    {
      "cell_type": "code",
      "source": [
        "#q4 Na linha 5 print o index que contem o numero 20 com o método index().\n",
        "areas=[11.25,18.0,20.0,10.75,9.50]\n",
        "print(areas.index(20))\n",
        "#q5 Usando o método count(), mostre via print o numero de vezes que 9.5 aparece na lista.\n",
        "print(areas.count(9.5))\n",
        "#6) Na linha 7 use o método append() duas vezes para incluir os números 24.5 e 15.25 no fim da lista.\n",
        "areas.append(24.5)\n",
        "areas.append(15.25)\n",
        "\n",
        "#7) print a lista areas na Linha 8\n",
        "print(areas)\n",
        "#8) Use o método reverse() da lista para trocar a ordem dos elementos da lista.\n",
        "areas.reverse()\n",
        "#9)  Print novamente a ista areas\n",
        "print(areas)"
      ],
      "metadata": {
        "colab": {
          "base_uri": "https://localhost:8080/"
        },
        "id": "eOtdjEnfTViG",
        "outputId": "b684d28f-ac19-44cb-a215-81fec1cc217a"
      },
      "execution_count": 19,
      "outputs": [
        {
          "output_type": "stream",
          "name": "stdout",
          "text": [
            "2\n",
            "1\n",
            "[11.25, 18.0, 20.0, 10.75, 9.5, 24.5, 15.25]\n",
            "[15.25, 24.5, 9.5, 10.75, 20.0, 18.0, 11.25]\n"
          ]
        }
      ]
    }
  ]
}