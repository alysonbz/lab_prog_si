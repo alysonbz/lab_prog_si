{
  "nbformat": 4,
  "nbformat_minor": 0,
  "metadata": {
    "colab": {
      "provenance": [],
      "toc_visible": true,
      "authorship_tag": "ABX9TyNH/sA5BvKohApy1mMJRm8M",
      "include_colab_link": true
    },
    "kernelspec": {
      "name": "python3",
      "display_name": "Python 3"
    },
    "language_info": {
      "name": "python"
    }
  },
  "cells": [
    {
      "cell_type": "markdown",
      "metadata": {
        "id": "view-in-github",
        "colab_type": "text"
      },
      "source": [
        "<a href=\"https://colab.research.google.com/github/alysonbz/lab_prog_si/blob/Jo%C3%A3o_Gilberto/Untitled2.ipynb\" target=\"_parent\"><img src=\"https://colab.research.google.com/assets/colab-badge.svg\" alt=\"Open In Colab\"/></a>"
      ]
    },
    {
      "cell_type": "code",
      "source": [
        "#5 questao\n",
        "print (1.1*100**7)"
      ],
      "metadata": {
        "colab": {
          "base_uri": "https://localhost:8080/"
        },
        "id": "ToxuyLLwM6XB",
        "outputId": "4ed10d5e-9590-42d2-90b1-4070b17f6696"
      },
      "execution_count": null,
      "outputs": [
        {
          "output_type": "stream",
          "name": "stdout",
          "text": [
            "110000000000000.02\n"
          ]
        }
      ]
    },
    {
      "cell_type": "code",
      "source": [
        "#4 questao\n",
        "print (5**3)\n",
        "print (5*3)\n",
        "print (5%3)"
      ],
      "metadata": {
        "id": "UPC1Xvn0M2TC"
      },
      "execution_count": null,
      "outputs": []
    },
    {
      "cell_type": "code",
      "source": [
        "#3 questao\n",
        "print (5+3)\n",
        "print (5-3)"
      ],
      "metadata": {
        "colab": {
          "base_uri": "https://localhost:8080/"
        },
        "id": "YOiqaooFMzgy",
        "outputId": "79e0c9b7-52dd-48e5-f9a1-28fb8b3515db"
      },
      "execution_count": null,
      "outputs": [
        {
          "output_type": "stream",
          "name": "stdout",
          "text": [
            "8\n",
            "2\n"
          ]
        }
      ]
    },
    {
      "cell_type": "code",
      "execution_count": null,
      "metadata": {
        "colab": {
          "base_uri": "https://localhost:8080/"
        },
        "id": "HkZx0Aa-Faas",
        "outputId": "4137c1dc-f561-4969-9b8f-ec5066ffe6df"
      },
      "outputs": [
        {
          "output_type": "stream",
          "name": "stdout",
          "text": [
            "15\n"
          ]
        }
      ],
      "source": [
        "5+5\n",
        "'ab'+'cd'\n",
        "'2'+'3'\n",
        "#soma 2 questao\n",
        "print (7+8)"
      ]
    },
    {
      "cell_type": "code",
      "source": [
        "#6 questao\n",
        "savings = 100\n",
        "growth_multiplier = 1.1\n",
        "desc = \"compound interest\"\n",
        "# Assign porduct of growth_multiplier and savings to year1\n",
        "year1 = savings * growth_multiplier\n",
        "# Print the type of year1\n",
        "print (type(year1))\n",
        "# Assign sum of desc and desc to doubledesc\n",
        "doubledesc = desc + desc\n",
        "# Print out doubledesc\n",
        "print (\"doubledesc\")"
      ],
      "metadata": {
        "colab": {
          "base_uri": "https://localhost:8080/"
        },
        "id": "FdHHPIi03IhM",
        "outputId": "f2f799ae-3925-40c1-d352-a2c0dcc3d425"
      },
      "execution_count": 4,
      "outputs": [
        {
          "output_type": "stream",
          "name": "stdout",
          "text": [
            "<class 'float'>\n",
            "doubledesc\n"
          ]
        }
      ]
    },
    {
      "cell_type": "code",
      "source": [
        "#7 questao\n",
        "\n",
        "# Definition of pi_sring\n",
        "pi_string = \"3.1415926\"\n",
        "# Convert pi_string into float: pi_float\n",
        "pi_float = float(pi_string)\n",
        "# Print the type of pi_float\n",
        "print (type(pi_float))"
      ],
      "metadata": {
        "colab": {
          "base_uri": "https://localhost:8080/"
        },
        "id": "PFPg1BUt5eC9",
        "outputId": "efa4fa10-a498-447c-8742-015b11fbc220"
      },
      "execution_count": 5,
      "outputs": [
        {
          "output_type": "stream",
          "name": "stdout",
          "text": [
            "<class 'float'>\n"
          ]
        }
      ]
    },
    {
      "cell_type": "code",
      "source": [
        "#8 questao\n",
        " # Definition of savings abd resut\n",
        " savings = 100\n",
        " result = 100*1.10*7\n",
        "\n",
        " # Fix the print out\n",
        " print(\"I started with $\" + str(savings) + \"and now have $\" + str(result) + \". Awesome!\") # savings and result variables need to be converted into string type before concatenating with other strings."
      ],
      "metadata": {
        "colab": {
          "base_uri": "https://localhost:8080/",
          "height": 106
        },
        "id": "VIiA8Mdc6R0q",
        "outputId": "6df78a1b-61ed-48ca-8905-9ba9e8aea6f7"
      },
      "execution_count": 13,
      "outputs": [
        {
          "output_type": "error",
          "ename": "IndentationError",
          "evalue": "unexpected indent (<ipython-input-13-ff4f2fe57b59>, line 3)",
          "traceback": [
            "\u001b[0;36m  File \u001b[0;32m\"<ipython-input-13-ff4f2fe57b59>\"\u001b[0;36m, line \u001b[0;32m3\u001b[0m\n\u001b[0;31m    savings = 100\u001b[0m\n\u001b[0m    ^\u001b[0m\n\u001b[0;31mIndentationError\u001b[0m\u001b[0;31m:\u001b[0m unexpected indent\n"
          ]
        }
      ]
    },
    {
      "cell_type": "code",
      "source": [],
      "metadata": {
        "id": "F4RT1SPy8UH-"
      },
      "execution_count": null,
      "outputs": []
    },
    {
      "cell_type": "code",
      "source": [],
      "metadata": {
        "id": "OmcSKJbj8slb"
      },
      "execution_count": null,
      "outputs": []
    },
    {
      "cell_type": "markdown",
      "source": [
        "aula 2\n"
      ],
      "metadata": {
        "id": "WIkOX9MG8sGs"
      }
    },
    {
      "cell_type": "code",
      "source": [
        "#6\n",
        "alunos = ['levi','hugo','gabi']\n"
      ],
      "metadata": {
        "id": "pFqIZ-ph8uUi"
      },
      "execution_count": null,
      "outputs": []
    },
    {
      "cell_type": "code",
      "source": [
        "#7\n",
        "type(alunos)"
      ],
      "metadata": {
        "id": "26V-A-If9AuS"
      },
      "execution_count": null,
      "outputs": []
    },
    {
      "cell_type": "code",
      "source": [
        "#9\n",
        "alunos.append?(cauan)\n"
      ],
      "metadata": {
        "id": "JFfvbN2R9GMx"
      },
      "execution_count": null,
      "outputs": []
    },
    {
      "cell_type": "code",
      "source": [
        "#10\n",
        "{'levi', 'hugo', 'gabi', 'cauan'}\n",
        "\n",
        "alunos_com_notas = [['levi,8'],['hugo',5],['gabi',7],['cauan',8]]"
      ],
      "metadata": {
        "id": "BFJ6keRH9XsR"
      },
      "execution_count": null,
      "outputs": []
    }
  ]
}