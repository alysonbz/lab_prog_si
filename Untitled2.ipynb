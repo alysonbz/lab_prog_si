{
  "nbformat": 4,
  "nbformat_minor": 0,
  "metadata": {
    "colab": {
      "provenance": [],
      "authorship_tag": "ABX9TyNFn9TGCS86gld3/Bb1zB++",
      "include_colab_link": true
    },
    "kernelspec": {
      "name": "python3",
      "display_name": "Python 3"
    },
    "language_info": {
      "name": "python"
    }
  },
  "cells": [
    {
      "cell_type": "markdown",
      "metadata": {
        "id": "view-in-github",
        "colab_type": "text"
      },
      "source": [
        "<a href=\"https://colab.research.google.com/github/alysonbz/lab_prog_si/blob/Jo%C3%A3o_Gilberto/Untitled2.ipynb\" target=\"_parent\"><img src=\"https://colab.research.google.com/assets/colab-badge.svg\" alt=\"Open In Colab\"/></a>"
      ]
    },
    {
      "cell_type": "code",
      "source": [
        "#5 questao\n",
        "print (1.1*100**7)"
      ],
      "metadata": {
        "colab": {
          "base_uri": "https://localhost:8080/"
        },
        "id": "ToxuyLLwM6XB",
        "outputId": "4ed10d5e-9590-42d2-90b1-4070b17f6696"
      },
      "execution_count": null,
      "outputs": [
        {
          "output_type": "stream",
          "name": "stdout",
          "text": [
            "110000000000000.02\n"
          ]
        }
      ]
    },
    {
      "cell_type": "code",
      "source": [
        "#4 questao\n",
        "print (5**3)\n",
        "print (5*3)\n",
        "print (5%3)"
      ],
      "metadata": {
        "id": "UPC1Xvn0M2TC"
      },
      "execution_count": null,
      "outputs": []
    },
    {
      "cell_type": "code",
      "source": [
        "#3 questao\n",
        "print (5+3)\n",
        "print (5-3)"
      ],
      "metadata": {
        "colab": {
          "base_uri": "https://localhost:8080/"
        },
        "id": "YOiqaooFMzgy",
        "outputId": "79e0c9b7-52dd-48e5-f9a1-28fb8b3515db"
      },
      "execution_count": null,
      "outputs": [
        {
          "output_type": "stream",
          "name": "stdout",
          "text": [
            "8\n",
            "2\n"
          ]
        }
      ]
    },
    {
      "cell_type": "code",
      "execution_count": null,
      "metadata": {
        "colab": {
          "base_uri": "https://localhost:8080/"
        },
        "id": "HkZx0Aa-Faas",
        "outputId": "4137c1dc-f561-4969-9b8f-ec5066ffe6df"
      },
      "outputs": [
        {
          "output_type": "stream",
          "name": "stdout",
          "text": [
            "15\n"
          ]
        }
      ],
      "source": [
        "5+5\n",
        "'ab'+'cd'\n",
        "'2'+'3'\n",
        "#soma 2 questao\n",
        "print (7+8)"
      ]
    }
  ]
}