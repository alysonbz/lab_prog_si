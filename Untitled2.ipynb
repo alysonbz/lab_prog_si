{
  "nbformat": 4,
  "nbformat_minor": 0,
  "metadata": {
    "colab": {
      "provenance": [],
      "authorship_tag": "ABX9TyM37XV6ibmrzm56aH/Pp4bS",
      "include_colab_link": true
    },
    "kernelspec": {
      "name": "python3",
      "display_name": "Python 3"
    },
    "language_info": {
      "name": "python"
    }
  },
  "cells": [
    {
      "cell_type": "markdown",
      "metadata": {
        "id": "view-in-github",
        "colab_type": "text"
      },
      "source": [
        "<a href=\"https://colab.research.google.com/github/alysonbz/lab_prog_si/blob/Francisco_Gomes/Untitled2.ipynb\" target=\"_parent\"><img src=\"https://colab.research.google.com/assets/colab-badge.svg\" alt=\"Open In Colab\"/></a>"
      ]
    },
    {
      "cell_type": "code",
      "execution_count": 6,
      "metadata": {
        "id": "BC4UGbDA-WOk"
      },
      "outputs": [],
      "source": [
        "list_num = [2,6,7,8,7,5,89]\n",
        "def max_valor_lista(list_num):\n",
        "  maior_valor = None\n",
        "  for numero in list_num:\n",
        "    if maior_valor == None:\n",
        "      maior_valor = numero\n",
        "    if numero > maior_valor:\n",
        "      maior_valor = numero\n",
        "  return maior_valor\n"
      ]
    },
    {
      "cell_type": "code",
      "source": [
        "print (max_valor_lista(list_num))"
      ],
      "metadata": {
        "colab": {
          "base_uri": "https://localhost:8080/"
        },
        "id": "njhplNavDc7E",
        "outputId": "4c23278e-eb9c-4513-c839-83f8ecd4eee3"
      },
      "execution_count": 7,
      "outputs": [
        {
          "output_type": "stream",
          "name": "stdout",
          "text": [
            "89\n"
          ]
        }
      ]
    },
    {
      "cell_type": "markdown",
      "source": [
        "função que retorne a quantidade de elementos de uma lista"
      ],
      "metadata": {
        "id": "PbagrcmrBGaU"
      }
    },
    {
      "cell_type": "code",
      "source": [
        "\n",
        "def quantidade_elementos_lista(lista):\n",
        "  quantidade_elementos = 0\n",
        "  for elemento in lista:\n",
        "    quantidade_elementos = quantidade_elementos + 1\n",
        "\n",
        "  return (quantidade_elementos_lista(lista))"
      ],
      "metadata": {
        "id": "n_jQzQVDBSLj"
      },
      "execution_count": 22,
      "outputs": []
    },
    {
      "cell_type": "markdown",
      "source": [],
      "metadata": {
        "id": "LUaoAuvNK_8x"
      }
    },
    {
      "cell_type": "code",
      "source": [
        "max (lista)"
      ],
      "metadata": {
        "colab": {
          "base_uri": "https://localhost:8080/"
        },
        "id": "N9DTCf-EK6Wl",
        "outputId": "a2bb33f7-94d8-4da7-f01e-f033cf2708ec"
      },
      "execution_count": 32,
      "outputs": [
        {
          "output_type": "execute_result",
          "data": {
            "text/plain": [
              "9"
            ]
          },
          "metadata": {},
          "execution_count": 32
        }
      ]
    },
    {
      "cell_type": "code",
      "source": [
        "fan = (1.73,1.68,1.71,1.89)\n",
        "[1.73, 1.78, 1.89]"
      ],
      "metadata": {
        "id": "zvJ2AaqlH0kB"
      },
      "execution_count": null,
      "outputs": []
    },
    {
      "cell_type": "code",
      "source": [
        "round(1.68, 1)\n"
      ],
      "metadata": {
        "colab": {
          "base_uri": "https://localhost:8080/"
        },
        "id": "xuyA1zW-IJci",
        "outputId": "55bd21b9-8e39-47e9-b17e-e88c4cf9cacc"
      },
      "execution_count": 24,
      "outputs": [
        {
          "output_type": "execute_result",
          "data": {
            "text/plain": [
              "1.7"
            ]
          },
          "metadata": {},
          "execution_count": 24
        }
      ]
    },
    {
      "cell_type": "code",
      "source": [
        "round(1.68)"
      ],
      "metadata": {
        "colab": {
          "base_uri": "https://localhost:8080/"
        },
        "id": "438A14lTFbFM",
        "outputId": "e13fddb4-37e2-4c31-9258-fc95c9484d26"
      },
      "execution_count": 25,
      "outputs": [
        {
          "output_type": "execute_result",
          "data": {
            "text/plain": [
              "2"
            ]
          },
          "metadata": {},
          "execution_count": 25
        }
      ]
    },
    {
      "cell_type": "markdown",
      "source": [
        "atividade"
      ],
      "metadata": {
        "id": "hCu4Q2udIeDq"
      }
    },
    {
      "cell_type": "code",
      "source": [
        "#create variables var1 and var?\n",
        "var1 = [1,2,3,4]\n",
        "var2 = True\n",
        "\n",
        "#print out type of var1 (questão 1)\n",
        "type (var1)\n",
        "\n",
        "#print out length of var1 (questão 2)\n",
        "len(var1)\n",
        "\n",
        "#convert var2 to an integer: out2 (questão 3)\n",
        "out2 = int (var2)\n",
        "print (out2)\n"
      ],
      "metadata": {
        "colab": {
          "base_uri": "https://localhost:8080/"
        },
        "id": "D5qiQsPKIiwC",
        "outputId": "62ba204b-e5b8-492a-ce69-8f408140d932"
      },
      "execution_count": 31,
      "outputs": [
        {
          "output_type": "stream",
          "name": "stdout",
          "text": [
            "1\n"
          ]
        }
      ]
    }
  ]
}