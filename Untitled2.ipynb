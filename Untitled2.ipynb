{
  "nbformat": 4,
  "nbformat_minor": 0,
  "metadata": {
    "colab": {
      "provenance": [],
      "authorship_tag": "ABX9TyN5nERWioHe31V7wdkoZHiF",
      "include_colab_link": true
    },
    "kernelspec": {
      "name": "python3",
      "display_name": "Python 3"
    },
    "language_info": {
      "name": "python"
    }
  },
  "cells": [
    {
      "cell_type": "markdown",
      "metadata": {
        "id": "view-in-github",
        "colab_type": "text"
      },
      "source": [
        "<a href=\"https://colab.research.google.com/github/alysonbz/lab_prog_si/blob/Jo%C3%A3o_Gilberto/Untitled2.ipynb\" target=\"_parent\"><img src=\"https://colab.research.google.com/assets/colab-badge.svg\" alt=\"Open In Colab\"/></a>"
      ]
    },
    {
      "cell_type": "markdown",
      "source": [
        "1° - 3° questão"
      ],
      "metadata": {
        "id": "OaaPeEfN7AXI"
      }
    },
    {
      "cell_type": "code",
      "execution_count": 4,
      "metadata": {
        "colab": {
          "base_uri": "https://localhost:8080/"
        },
        "id": "Sh6Swmxk5Lmg",
        "outputId": "53db29be-163c-4551-d68b-b7b0f3acde34"
      },
      "outputs": [
        {
          "output_type": "stream",
          "name": "stdout",
          "text": [
            "poolhouse\n",
            "POOLHOUSE\n"
          ]
        },
        {
          "output_type": "execute_result",
          "data": {
            "text/plain": [
              "Counter({'p': 1, 'o': 3, 'l': 1, 'h': 1, 'u': 1, 's': 1, 'e': 1})"
            ]
          },
          "metadata": {},
          "execution_count": 4
        }
      ],
      "source": [
        "from typing import Counter\n",
        "place = \"poolhouse\"\n",
        "place.upper()\n",
        "place_up = place.upper()\n",
        "print(place)\n",
        "print(place_up)\n",
        "Counter(place)"
      ]
    },
    {
      "cell_type": "markdown",
      "source": [
        "4° - 5° questão"
      ],
      "metadata": {
        "id": "SDJhUzCt7Gev"
      }
    },
    {
      "cell_type": "code",
      "source": [
        "areas = [11.25, 18.0, 20.0, 10.75, 9.50]\n",
        "print ((areas.index(20)))\n",
        "print (areas.count(9.50))"
      ],
      "metadata": {
        "colab": {
          "base_uri": "https://localhost:8080/"
        },
        "id": "zbM4FD1X7IRG",
        "outputId": "94415032-9fca-4a0d-9b58-a1cfc65ee214"
      },
      "execution_count": 11,
      "outputs": [
        {
          "output_type": "stream",
          "name": "stdout",
          "text": [
            "2\n",
            "1\n"
          ]
        }
      ]
    },
    {
      "cell_type": "markdown",
      "source": [
        "6° - 9° questão"
      ],
      "metadata": {
        "id": "z1neWRJW87I2"
      }
    },
    {
      "cell_type": "code",
      "source": [
        "areas.append(24.5)\n",
        "areas.append(15.25)\n",
        "print(areas)\n",
        "areas.reverse()\n",
        "print(areas)\n"
      ],
      "metadata": {
        "colab": {
          "base_uri": "https://localhost:8080/"
        },
        "id": "Ibc0lUtU8_2l",
        "outputId": "82f587d5-1eb7-47a9-b4e6-bdb03535c660"
      },
      "execution_count": 18,
      "outputs": [
        {
          "output_type": "stream",
          "name": "stdout",
          "text": [
            "[15.25, 24.5, 15.25, 24.5, 15.25, 24.5, 15.25, 24.5, 15.25, 24.5, 9.5, 10.75, 20.0, 18.0, 11.25, 24.5, 15.25]\n",
            "[15.25, 24.5, 11.25, 18.0, 20.0, 10.75, 9.5, 24.5, 15.25, 24.5, 15.25, 24.5, 15.25, 24.5, 15.25, 24.5, 15.25]\n"
          ]
        }
      ]
    }
  ]
}