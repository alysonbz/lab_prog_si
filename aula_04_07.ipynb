{
  "nbformat": 4,
  "nbformat_minor": 0,
  "metadata": {
    "colab": {
      "provenance": [],
      "authorship_tag": "ABX9TyNXkY4zd4uaGvPuVVQbwF2F",
      "include_colab_link": true
    },
    "kernelspec": {
      "name": "python3",
      "display_name": "Python 3"
    },
    "language_info": {
      "name": "python"
    }
  },
  "cells": [
    {
      "cell_type": "markdown",
      "metadata": {
        "id": "view-in-github",
        "colab_type": "text"
      },
      "source": [
        "<a href=\"https://colab.research.google.com/github/alysonbz/lab_prog_si/blob/kauan_lima/aula_04_07.ipynb\" target=\"_parent\"><img src=\"https://colab.research.google.com/assets/colab-badge.svg\" alt=\"Open In Colab\"/></a>"
      ]
    },
    {
      "cell_type": "markdown",
      "source": [
        "Pratique"
      ],
      "metadata": {
        "id": "cSWnUTK7Qy25"
      }
    },
    {
      "cell_type": "code",
      "source": [
        "#1\n",
        "True==False"
      ],
      "metadata": {
        "colab": {
          "base_uri": "https://localhost:8080/"
        },
        "id": "FJFt3ak2RJ_m",
        "outputId": "9846f864-c98e-4557-b38e-a4baeeea444b"
      },
      "execution_count": 2,
      "outputs": [
        {
          "output_type": "execute_result",
          "data": {
            "text/plain": [
              "False"
            ]
          },
          "metadata": {},
          "execution_count": 2
        }
      ]
    },
    {
      "cell_type": "code",
      "execution_count": 4,
      "metadata": {
        "colab": {
          "base_uri": "https://localhost:8080/"
        },
        "id": "LmSz1F_CQcXG",
        "outputId": "916a36c6-1efc-461a-ab13-6d35b502c965"
      },
      "outputs": [
        {
          "output_type": "execute_result",
          "data": {
            "text/plain": [
              "False"
            ]
          },
          "metadata": {},
          "execution_count": 4
        }
      ],
      "source": [
        "#2\n",
        "-5 * 15 == 75"
      ]
    },
    {
      "cell_type": "code",
      "source": [
        "#3\n",
        "\"pyscript\"==\"pyScript\""
      ],
      "metadata": {
        "colab": {
          "base_uri": "https://localhost:8080/"
        },
        "id": "2dvVuxJYRE2Q",
        "outputId": "68cdcc7c-dc55-42f2-be96-5f17424d31f8"
      },
      "execution_count": 5,
      "outputs": [
        {
          "output_type": "execute_result",
          "data": {
            "text/plain": [
              "False"
            ]
          },
          "metadata": {},
          "execution_count": 5
        }
      ]
    },
    {
      "cell_type": "code",
      "source": [
        "#4\n",
        "True==1"
      ],
      "metadata": {
        "colab": {
          "base_uri": "https://localhost:8080/"
        },
        "id": "UbmqpXJIRYwm",
        "outputId": "ef842296-5332-4c7c-e749-637a8d4b1c78"
      },
      "execution_count": 6,
      "outputs": [
        {
          "output_type": "execute_result",
          "data": {
            "text/plain": [
              "True"
            ]
          },
          "metadata": {},
          "execution_count": 6
        }
      ]
    },
    {
      "cell_type": "markdown",
      "source": [
        "Pratique"
      ],
      "metadata": {
        "id": "eq8lVYgUS4hL"
      }
    },
    {
      "cell_type": "code",
      "source": [
        "#1\n",
        "import numpy as np\n",
        "my_house=np.array([18.0,20.0,10.75,9.50])\n",
        "your_house=np.array([14.0,24.0,14.25,9.0])\n",
        "my_house[my_house>18]"
      ],
      "metadata": {
        "colab": {
          "base_uri": "https://localhost:8080/"
        },
        "id": "ySx6YEKlRh_H",
        "outputId": "6f10053a-a68a-46a1-eb09-e6dc402803ce"
      },
      "execution_count": 10,
      "outputs": [
        {
          "output_type": "execute_result",
          "data": {
            "text/plain": [
              "array([20.])"
            ]
          },
          "metadata": {},
          "execution_count": 10
        }
      ]
    },
    {
      "cell_type": "code",
      "source": [
        "#2\n",
        "my_house[my_house > your_house]"
      ],
      "metadata": {
        "colab": {
          "base_uri": "https://localhost:8080/"
        },
        "id": "AVsqeBSqS7Bj",
        "outputId": "107f204e-42e9-46d2-bbc5-05c965fe9cd2"
      },
      "execution_count": 30,
      "outputs": [
        {
          "output_type": "execute_result",
          "data": {
            "text/plain": [
              "array([18. ,  9.5])"
            ]
          },
          "metadata": {},
          "execution_count": 30
        }
      ]
    },
    {
      "cell_type": "code",
      "source": [
        "y=5\n",
        "y > 5 or y > 13"
      ],
      "metadata": {
        "colab": {
          "base_uri": "https://localhost:8080/"
        },
        "id": "ul9iTNvyTdEa",
        "outputId": "ae080832-52e8-4dc2-b6b6-2558b184a12c"
      },
      "execution_count": 13,
      "outputs": [
        {
          "output_type": "execute_result",
          "data": {
            "text/plain": [
              "False"
            ]
          },
          "metadata": {},
          "execution_count": 13
        }
      ]
    },
    {
      "cell_type": "code",
      "source": [
        "import numpy as np\n",
        "np_height=np.array([1.73,1.68,1.71,1.89,1.79])\n",
        "np_weight=np.array([65.4,59.2,63.6,88.4,68.7])\n",
        "bmi=np_weight/np_height**2\n",
        "print(bmi)"
      ],
      "metadata": {
        "colab": {
          "base_uri": "https://localhost:8080/"
        },
        "id": "yeRjeiGhTlnS",
        "outputId": "d4b4f662-ca0b-4f6b-ec9b-d06fa30c4744"
      },
      "execution_count": 14,
      "outputs": [
        {
          "output_type": "stream",
          "name": "stdout",
          "text": [
            "[21.85171573 20.97505669 21.75028214 24.7473475  21.44127836]\n"
          ]
        }
      ]
    },
    {
      "cell_type": "code",
      "source": [
        "bmi > 30"
      ],
      "metadata": {
        "colab": {
          "base_uri": "https://localhost:8080/"
        },
        "id": "Zj_E6hhUUAxa",
        "outputId": "be3f5028-1acf-4175-b6a7-3d446f2a2f61"
      },
      "execution_count": 15,
      "outputs": [
        {
          "output_type": "execute_result",
          "data": {
            "text/plain": [
              "array([False, False, False, False, False])"
            ]
          },
          "metadata": {},
          "execution_count": 15
        }
      ]
    },
    {
      "cell_type": "code",
      "source": [
        "bmi[bmi < 23]"
      ],
      "metadata": {
        "colab": {
          "base_uri": "https://localhost:8080/"
        },
        "id": "zC2tZ1MWUI1Z",
        "outputId": "62601619-4ea9-4d39-9c9a-0d2f70f8c8cb"
      },
      "execution_count": 20,
      "outputs": [
        {
          "output_type": "execute_result",
          "data": {
            "text/plain": [
              "array([21.85171573, 20.97505669, 21.75028214, 21.44127836])"
            ]
          },
          "metadata": {},
          "execution_count": 20
        }
      ]
    },
    {
      "cell_type": "code",
      "source": [
        "np.logical_and(bmi > 21,bmi < 22)"
      ],
      "metadata": {
        "colab": {
          "base_uri": "https://localhost:8080/"
        },
        "id": "KS-fxGVlUWCh",
        "outputId": "c1ff6998-0ae1-47e5-ade2-c0324ac6526f"
      },
      "execution_count": 18,
      "outputs": [
        {
          "output_type": "execute_result",
          "data": {
            "text/plain": [
              "array([ True, False,  True, False,  True])"
            ]
          },
          "metadata": {},
          "execution_count": 18
        }
      ]
    },
    {
      "cell_type": "code",
      "source": [
        "bmi[np.logical_and(bmi >21, bmi < 22)]"
      ],
      "metadata": {
        "colab": {
          "base_uri": "https://localhost:8080/"
        },
        "id": "nfq15v0QUhsR",
        "outputId": "387fd78b-fca6-4fe9-e060-3a3838fd94b9"
      },
      "execution_count": 19,
      "outputs": [
        {
          "output_type": "execute_result",
          "data": {
            "text/plain": [
              "array([21.85171573, 21.75028214, 21.44127836])"
            ]
          },
          "metadata": {},
          "execution_count": 19
        }
      ]
    },
    {
      "cell_type": "markdown",
      "source": [
        "Pratique"
      ],
      "metadata": {
        "id": "m5h-gQRpVYk3"
      }
    },
    {
      "cell_type": "code",
      "source": [
        "my_kitchen=18.0\n",
        "your_kitchen=14.0"
      ],
      "metadata": {
        "id": "-yQ5J4z2UzuI"
      },
      "execution_count": 23,
      "outputs": []
    },
    {
      "cell_type": "code",
      "source": [
        "#1\n",
        "my_kitchen > 10 and my_kitchen < 18"
      ],
      "metadata": {
        "colab": {
          "base_uri": "https://localhost:8080/"
        },
        "id": "PqHDwvr7VhNe",
        "outputId": "ede440a5-8919-453c-9af8-97f6deb90ad8"
      },
      "execution_count": 22,
      "outputs": [
        {
          "output_type": "execute_result",
          "data": {
            "text/plain": [
              "False"
            ]
          },
          "metadata": {},
          "execution_count": 22
        }
      ]
    },
    {
      "cell_type": "code",
      "source": [
        "#2\n",
        "my_kitchen < 14 and my_kitchen < 17"
      ],
      "metadata": {
        "colab": {
          "base_uri": "https://localhost:8080/"
        },
        "id": "Vy2pwnLHViee",
        "outputId": "4645e99a-97a4-4e22-b375-b6bfa9958683"
      },
      "execution_count": 24,
      "outputs": [
        {
          "output_type": "execute_result",
          "data": {
            "text/plain": [
              "False"
            ]
          },
          "metadata": {},
          "execution_count": 24
        }
      ]
    },
    {
      "cell_type": "code",
      "source": [
        "#3\n",
        "my_kitchen*2 < your_kitchen*3"
      ],
      "metadata": {
        "colab": {
          "base_uri": "https://localhost:8080/"
        },
        "id": "YRavBlJRVrg2",
        "outputId": "a298e296-f9c5-45c9-a230-d82f7614ec4c"
      },
      "execution_count": 25,
      "outputs": [
        {
          "output_type": "execute_result",
          "data": {
            "text/plain": [
              "True"
            ]
          },
          "metadata": {},
          "execution_count": 25
        }
      ]
    },
    {
      "cell_type": "code",
      "source": [
        "#4\n",
        "my_house.all() > 18.5 or my_house.all() < 10\n",
        "print(my_house[my_house > 18.5])\n",
        "print(my_house[my_house < 10])"
      ],
      "metadata": {
        "colab": {
          "base_uri": "https://localhost:8080/"
        },
        "id": "tCrrK43DWBa2",
        "outputId": "1edde49e-c1cb-4814-a228-31427f93a30f"
      },
      "execution_count": 27,
      "outputs": [
        {
          "output_type": "stream",
          "name": "stdout",
          "text": [
            "[20.]\n",
            "[9.5]\n"
          ]
        }
      ]
    },
    {
      "cell_type": "code",
      "source": [
        "#5\n",
        "np.logical_and(my_house < 11, your_house < 11)"
      ],
      "metadata": {
        "colab": {
          "base_uri": "https://localhost:8080/"
        },
        "id": "9eUE8BleWz8M",
        "outputId": "efe6bf3b-f089-493c-dcd3-801ce14534a9"
      },
      "execution_count": 28,
      "outputs": [
        {
          "output_type": "execute_result",
          "data": {
            "text/plain": [
              "array([False, False, False,  True])"
            ]
          },
          "metadata": {},
          "execution_count": 28
        }
      ]
    },
    {
      "cell_type": "markdown",
      "source": [
        "Operadores condicionais"
      ],
      "metadata": {
        "id": "Jx1jJTgdaStG"
      }
    },
    {
      "cell_type": "code",
      "source": [
        "z = 5\n",
        "if z % 2 == 0:\n",
        "  print(\"z is even\")\n",
        "else:\n",
        "  print(\"z is odd\")"
      ],
      "metadata": {
        "colab": {
          "base_uri": "https://localhost:8080/"
        },
        "id": "TNMpKsTjYYnk",
        "outputId": "c3f86402-f904-4ea9-dda0-fe22e49e1b3f"
      },
      "execution_count": 31,
      "outputs": [
        {
          "output_type": "stream",
          "name": "stdout",
          "text": [
            "z is odd\n"
          ]
        }
      ]
    },
    {
      "cell_type": "code",
      "source": [
        "x=3\n",
        "if x % 2 == 0:\n",
        "  print(\"x é divisível por 2\")\n",
        "elif x % 3 == 0:\n",
        "  print(\"x é divisível por 3\")\n",
        "else:\n",
        "  print(\"x não é divisível por 2 nem por 3\")"
      ],
      "metadata": {
        "colab": {
          "base_uri": "https://localhost:8080/"
        },
        "id": "o627gLkkZqXX",
        "outputId": "9a139fd2-d392-441c-8bea-2885308aa6fd"
      },
      "execution_count": 32,
      "outputs": [
        {
          "output_type": "stream",
          "name": "stdout",
          "text": [
            "x é divisível por 3\n"
          ]
        }
      ]
    },
    {
      "cell_type": "markdown",
      "source": [
        "Questões"
      ],
      "metadata": {
        "id": "ahz7FAjvaPHm"
      }
    },
    {
      "cell_type": "code",
      "source": [
        "#1\n",
        "room= 'kit'\n",
        "area = 14.0"
      ],
      "metadata": {
        "id": "erwTFEY2aVP2"
      },
      "execution_count": 34,
      "outputs": []
    },
    {
      "cell_type": "code",
      "source": [
        "if room == \"kit\":\n",
        "  print(\"Looking around in the kitchen.\")"
      ],
      "metadata": {
        "colab": {
          "base_uri": "https://localhost:8080/"
        },
        "id": "cl-rrnUya0zF",
        "outputId": "5e1092fc-f268-48b7-cb02-f71acacdd455"
      },
      "execution_count": 35,
      "outputs": [
        {
          "output_type": "stream",
          "name": "stdout",
          "text": [
            "Looking around in the kitchen.\n"
          ]
        }
      ]
    },
    {
      "cell_type": "code",
      "source": [
        "if area > 15:\n",
        "  print(\"Big Place\")\n",
        "else:\n",
        "  print(\"Pretty Small\")"
      ],
      "metadata": {
        "colab": {
          "base_uri": "https://localhost:8080/"
        },
        "id": "uV3elMU9bF3N",
        "outputId": "6f942af3-b4e5-401a-a87f-cde29ed66041"
      },
      "execution_count": 36,
      "outputs": [
        {
          "output_type": "stream",
          "name": "stdout",
          "text": [
            "Pretty Small\n"
          ]
        }
      ]
    }
  ]
}