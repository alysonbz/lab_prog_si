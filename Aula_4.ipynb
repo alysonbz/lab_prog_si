{
  "nbformat": 4,
  "nbformat_minor": 0,
  "metadata": {
    "colab": {
      "provenance": [],
      "authorship_tag": "ABX9TyOOntCTATcFojSWgWN9hC5F",
      "include_colab_link": true
    },
    "kernelspec": {
      "name": "python3",
      "display_name": "Python 3"
    },
    "language_info": {
      "name": "python"
    }
  },
  "cells": [
    {
      "cell_type": "markdown",
      "metadata": {
        "id": "view-in-github",
        "colab_type": "text"
      },
      "source": [
        "<a href=\"https://colab.research.google.com/github/alysonbz/lab_prog_si/blob/levi_nascimento/Aula_4.ipynb\" target=\"_parent\"><img src=\"https://colab.research.google.com/assets/colab-badge.svg\" alt=\"Open In Colab\"/></a>"
      ]
    },
    {
      "cell_type": "markdown",
      "source": [
        "Experimentando as Funções"
      ],
      "metadata": {
        "id": "pupxXPZ8MUud"
      }
    },
    {
      "cell_type": "code",
      "source": [
        "sister = 'liz'"
      ],
      "metadata": {
        "id": "yoQpD2nNNJ21"
      },
      "execution_count": 1,
      "outputs": []
    },
    {
      "cell_type": "code",
      "source": [
        "heigth = 1.73"
      ],
      "metadata": {
        "id": "7z4BfLwcNSFE"
      },
      "execution_count": 2,
      "outputs": []
    },
    {
      "cell_type": "code",
      "source": [
        "fam = [\"liz\", 1.73, \"emma\", 1.68, \"mom\", 1.71, \"dad\", 1.89]"
      ],
      "metadata": {
        "id": "Q2vbjkGINUlX"
      },
      "execution_count": 3,
      "outputs": []
    },
    {
      "cell_type": "code",
      "source": [
        "fam"
      ],
      "metadata": {
        "colab": {
          "base_uri": "https://localhost:8080/"
        },
        "id": "K8dw5YDqNczn",
        "outputId": "d70d507d-1756-4a8a-d92e-39bead33ee76"
      },
      "execution_count": 4,
      "outputs": [
        {
          "output_type": "execute_result",
          "data": {
            "text/plain": [
              "['liz', 1.73, 'emma', 1.68, 'mom', 1.71, 'dad', 1.89]"
            ]
          },
          "metadata": {},
          "execution_count": 4
        }
      ]
    },
    {
      "cell_type": "code",
      "source": [
        "#.index() localiza na lista\n",
        "fam.index('mom')"
      ],
      "metadata": {
        "colab": {
          "base_uri": "https://localhost:8080/"
        },
        "id": "yX4vJ_XeNfAA",
        "outputId": "4c222489-c97e-4428-b719-610a0e09c878"
      },
      "execution_count": 5,
      "outputs": [
        {
          "output_type": "execute_result",
          "data": {
            "text/plain": [
              "4"
            ]
          },
          "metadata": {},
          "execution_count": 5
        }
      ]
    },
    {
      "cell_type": "code",
      "source": [
        "#.count() conta quantas coisas tem em algo\n",
        "fam.count(1.73)"
      ],
      "metadata": {
        "colab": {
          "base_uri": "https://localhost:8080/"
        },
        "id": "MGlBR_7UNpz-",
        "outputId": "71f1681b-5600-4f4d-b15b-376e5a037fc2"
      },
      "execution_count": 6,
      "outputs": [
        {
          "output_type": "execute_result",
          "data": {
            "text/plain": [
              "1"
            ]
          },
          "metadata": {},
          "execution_count": 6
        }
      ]
    },
    {
      "cell_type": "code",
      "source": [
        "#.append() adiciona elemento na lista\n",
        "fam.append('me')\n",
        "fam"
      ],
      "metadata": {
        "colab": {
          "base_uri": "https://localhost:8080/"
        },
        "id": "Y8yujGYrN6cK",
        "outputId": "8b337ae8-2bed-4900-c35f-17f6056f7ee3"
      },
      "execution_count": 7,
      "outputs": [
        {
          "output_type": "execute_result",
          "data": {
            "text/plain": [
              "['liz', 1.73, 'emma', 1.68, 'mom', 1.71, 'dad', 1.89, 'me']"
            ]
          },
          "metadata": {},
          "execution_count": 7
        }
      ]
    },
    {
      "cell_type": "code",
      "source": [
        "fam.append(1.72)\n",
        "fam"
      ],
      "metadata": {
        "colab": {
          "base_uri": "https://localhost:8080/"
        },
        "id": "U75z_oWQOGqd",
        "outputId": "11f03121-0dac-420c-b354-c91c5bd166e2"
      },
      "execution_count": 11,
      "outputs": [
        {
          "output_type": "execute_result",
          "data": {
            "text/plain": [
              "['liz', 1.73, 'emma', 1.68, 'mom', 1.71, 'dad', 1.89, 'me', 1.72]"
            ]
          },
          "metadata": {},
          "execution_count": 11
        }
      ]
    },
    {
      "cell_type": "code",
      "source": [
        "sister"
      ],
      "metadata": {
        "colab": {
          "base_uri": "https://localhost:8080/",
          "height": 36
        },
        "id": "WG7b9LksOOZW",
        "outputId": "b1896865-6160-4e3a-f4db-a536d62b3199"
      },
      "execution_count": 12,
      "outputs": [
        {
          "output_type": "execute_result",
          "data": {
            "text/plain": [
              "'liz'"
            ],
            "application/vnd.google.colaboratory.intrinsic+json": {
              "type": "string"
            }
          },
          "metadata": {},
          "execution_count": 12
        }
      ]
    },
    {
      "cell_type": "code",
      "source": [
        "#.capitaliza() primeira letra maiúscula\n",
        "sister.capitalize()"
      ],
      "metadata": {
        "colab": {
          "base_uri": "https://localhost:8080/",
          "height": 36
        },
        "id": "61p0fzu6OcpE",
        "outputId": "8f071f60-5c2f-4ca9-a41c-0c8805b81a3a"
      },
      "execution_count": 13,
      "outputs": [
        {
          "output_type": "execute_result",
          "data": {
            "text/plain": [
              "'Liz'"
            ],
            "application/vnd.google.colaboratory.intrinsic+json": {
              "type": "string"
            }
          },
          "metadata": {},
          "execution_count": 13
        }
      ]
    },
    {
      "cell_type": "code",
      "source": [
        "#.replace() muda letras por outras\n",
        "sister.replace('z', 'sa')"
      ],
      "metadata": {
        "colab": {
          "base_uri": "https://localhost:8080/",
          "height": 36
        },
        "id": "0mnsdgoROjOo",
        "outputId": "bce4e34a-ba51-4a8c-8b37-b1165241c961"
      },
      "execution_count": 17,
      "outputs": [
        {
          "output_type": "execute_result",
          "data": {
            "text/plain": [
              "'lisa'"
            ],
            "application/vnd.google.colaboratory.intrinsic+json": {
              "type": "string"
            }
          },
          "metadata": {},
          "execution_count": 17
        }
      ]
    },
    {
      "cell_type": "markdown",
      "source": [
        "PRATIQUE"
      ],
      "metadata": {
        "id": "6_7z8ar9O3G7"
      }
    },
    {
      "cell_type": "code",
      "source": [
        "#1) Use o método upper() acessível pela variável place na e armazene a saída do método em uma nova variável, place_up.\n",
        "place = 'poolhouse'\n",
        "place_up = place.upper()\n",
        "\n",
        "#2) Realize o print de place e place_up nas linhas\n",
        "print(place)\n",
        "print(place_up)\n",
        "\n",
        "#3) Usando o método count, realize a contagem de quantas letras o tem na variável place.\n",
        "print(place.count('o'))"
      ],
      "metadata": {
        "colab": {
          "base_uri": "https://localhost:8080/"
        },
        "id": "89Wjg2QsO1nn",
        "outputId": "872a9ad9-c323-45d7-8a44-552bc1071da0"
      },
      "execution_count": 22,
      "outputs": [
        {
          "output_type": "stream",
          "name": "stdout",
          "text": [
            "poolhouse\n",
            "POOLHOUSE\n",
            "3\n"
          ]
        }
      ]
    },
    {
      "cell_type": "code",
      "source": [
        "areas = [11.25, 18.0, 20.0, 10.75, 9.50]\n",
        "\n",
        "#4) Print o index que contem o numero 20 com o método index().\n",
        "print(areas.index(20))\n",
        "\n",
        "#5) Usando o método count(), mostre via print o numero de vezes que 9.5 aparece na lista.\n",
        "print(areas.count(9.50))"
      ],
      "metadata": {
        "colab": {
          "base_uri": "https://localhost:8080/"
        },
        "id": "IGc2thrYMUH5",
        "outputId": "2794a87e-37b8-4b71-df20-2b370c0ae075"
      },
      "execution_count": 24,
      "outputs": [
        {
          "output_type": "stream",
          "name": "stdout",
          "text": [
            "2\n",
            "1\n"
          ]
        }
      ]
    },
    {
      "cell_type": "code",
      "source": [
        "areas = [11.25, 18.0, 20.0, 10.75, 9.50]\n",
        "\n",
        "#6) Use o método append() duas vezes para incluir os números 24.5 e 15.25 no fim da lista.\n",
        "areas.append(24.5)\n",
        "areas.append(15.25)\n",
        "\n",
        "#7) Print a lista areas\n",
        "print(areas)\n",
        "\n",
        "#8) Use o método reverse() da lista para trocar a ordem dos elementos da lista.\n",
        "areas.reverse()\n",
        "\n",
        "#9) Print novamente a lista areas\n",
        "print(areas)"
      ],
      "metadata": {
        "colab": {
          "base_uri": "https://localhost:8080/"
        },
        "id": "df7ZHxWkQTtD",
        "outputId": "1c78a516-92ee-468c-b3f5-ac97c28d2b38"
      },
      "execution_count": 27,
      "outputs": [
        {
          "output_type": "stream",
          "name": "stdout",
          "text": [
            "[11.25, 18.0, 20.0, 10.75, 9.5, 24.5, 15.25]\n",
            "[15.25, 24.5, 9.5, 10.75, 20.0, 18.0, 11.25]\n"
          ]
        }
      ]
    }
  ]
}