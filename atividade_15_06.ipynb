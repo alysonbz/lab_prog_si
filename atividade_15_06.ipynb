{
  "nbformat": 4,
  "nbformat_minor": 0,
  "metadata": {
    "colab": {
      "provenance": [],
      "authorship_tag": "ABX9TyOdB1prmGYTVWSwCehQ7NfG",
      "include_colab_link": true
    },
    "kernelspec": {
      "name": "python3",
      "display_name": "Python 3"
    },
    "language_info": {
      "name": "python"
    }
  },
  "cells": [
    {
      "cell_type": "markdown",
      "metadata": {
        "id": "view-in-github",
        "colab_type": "text"
      },
      "source": [
        "<a href=\"https://colab.research.google.com/github/alysonbz/lab_prog_si/blob/Francisco_Gomes/atividade_15_06.ipynb\" target=\"_parent\"><img src=\"https://colab.research.google.com/assets/colab-badge.svg\" alt=\"Open In Colab\"/></a>"
      ]
    },
    {
      "cell_type": "code",
      "execution_count": 5,
      "metadata": {
        "colab": {
          "base_uri": "https://localhost:8080/"
        },
        "id": "KcHA92GQBE31",
        "outputId": "d0ae63fe-04e6-4c91-b9cc-4ac91a3f3b05"
      },
      "outputs": [
        {
          "output_type": "stream",
          "name": "stdout",
          "text": [
            "[['hallway', 11.25], ['kitchen', 18.0], ['living room', 20.0]]\n",
            "<class 'list'>\n"
          ]
        }
      ],
      "source": [
        "hall = 11.25\n",
        "Kit = 18.0\n",
        "liv = 20.0\n",
        "bed = 10.75\n",
        "bath = 9.50\n",
        "\n",
        "house = [[\"hallway\", hall], [\"kitchen\", Kit], [\"living room\", liv]]\n",
        "print(house)\n",
        "print(type(house))"
      ]
    },
    {
      "cell_type": "code",
      "source": [
        "fam =  [\"filho\", 1.73, \"francisco\", 1.68, \"mae\", 1.71, \"dad\", 1.89]\n",
        "fam[3]\n",
        "fam[-1]"
      ],
      "metadata": {
        "colab": {
          "base_uri": "https://localhost:8080/"
        },
        "id": "1yziv0EuDkbb",
        "outputId": "e2d64cfd-0f89-45cd-ea60-a53386c4e2fa"
      },
      "execution_count": 7,
      "outputs": [
        {
          "output_type": "execute_result",
          "data": {
            "text/plain": [
              "1.89"
            ]
          },
          "metadata": {},
          "execution_count": 7
        }
      ]
    },
    {
      "cell_type": "code",
      "source": [
        "fam =  [\"filho\", 1.73, \"francisco\", 1.68, \"mae\", 1.71, \"dad\", 1.89]\n",
        "print(\"o tamanho da lista é\", len(fam))"
      ],
      "metadata": {
        "colab": {
          "base_uri": "https://localhost:8080/"
        },
        "id": "kC_RgGzmEcpq",
        "outputId": "08079a2a-c610-431e-d0a2-fa7f7802456a"
      },
      "execution_count": 8,
      "outputs": [
        {
          "output_type": "stream",
          "name": "stdout",
          "text": [
            "o tamanho da lista é 8\n"
          ]
        }
      ]
    },
    {
      "cell_type": "code",
      "source": [
        "t = fam[2]\n",
        "t"
      ],
      "metadata": {
        "colab": {
          "base_uri": "https://localhost:8080/",
          "height": 35
        },
        "id": "iZrP-lroFEhB",
        "outputId": "d0727a5b-a23a-469c-fd5b-c3f0a6af84f2"
      },
      "execution_count": 11,
      "outputs": [
        {
          "output_type": "execute_result",
          "data": {
            "text/plain": [
              "'francisco'"
            ],
            "application/vnd.google.colaboratory.intrinsic+json": {
              "type": "string"
            }
          },
          "metadata": {},
          "execution_count": 11
        }
      ]
    },
    {
      "cell_type": "code",
      "source": [
        "#fAZENDO UM SLICE NA LISTA\n",
        "fam[:6]"
      ],
      "metadata": {
        "colab": {
          "base_uri": "https://localhost:8080/"
        },
        "id": "aFPiWdFPFWHJ",
        "outputId": "ee872d2d-ac8e-483d-e23f-bf45d46f1ab5"
      },
      "execution_count": 12,
      "outputs": [
        {
          "output_type": "execute_result",
          "data": {
            "text/plain": [
              "['filho', 1.73, 'francisco', 1.68, 'mae', 1.71]"
            ]
          },
          "metadata": {},
          "execution_count": 12
        }
      ]
    },
    {
      "cell_type": "code",
      "source": [
        "fam[2:6]"
      ],
      "metadata": {
        "colab": {
          "base_uri": "https://localhost:8080/"
        },
        "id": "lkYS-y7QFxTY",
        "outputId": "eb4d1d1d-fdf5-4a42-ccc4-94537d8a8b00"
      },
      "execution_count": 13,
      "outputs": [
        {
          "output_type": "execute_result",
          "data": {
            "text/plain": [
              "['francisco', 1.68, 'mae', 1.71]"
            ]
          },
          "metadata": {},
          "execution_count": 13
        }
      ]
    },
    {
      "cell_type": "markdown",
      "source": [],
      "metadata": {
        "id": "RII9n4RXGxQ_"
      }
    },
    {
      "cell_type": "code",
      "source": [
        "areas = [\"hallway\", 11.25, \"kitchen\", 18.0, \"living room\", 20.0, \"bedroom\", 10.75, \"bathroom\", 9.50]\n",
        "#segundo elemento da lista\n",
        "print(areas[2])\n",
        "print(areas[-1])\n",
        "print(areas[5])\n"
      ],
      "metadata": {
        "colab": {
          "base_uri": "https://localhost:8080/"
        },
        "id": "ypRGhGKJGCYQ",
        "outputId": "54b477d2-ccaa-48ae-8db7-d3bc0ea068a7"
      },
      "execution_count": 20,
      "outputs": [
        {
          "output_type": "stream",
          "name": "stdout",
          "text": [
            "kitchen\n",
            "9.5\n",
            "20.0\n"
          ]
        }
      ]
    },
    {
      "cell_type": "code",
      "source": [
        "areas = [\"hallway\", 11.25, \"kitchen\", 18.0, \"living room\", 20.0, \"bedroom\", 10.75, \"bathroom\", 9.50]\n",
        "eat_sleep_areas = areas[3] +  areas[5]\n",
        "print(eat_sleep_areas)"
      ],
      "metadata": {
        "colab": {
          "base_uri": "https://localhost:8080/"
        },
        "id": "rG8jz7ZRHjtu",
        "outputId": "a7f2746f-196d-4958-e283-c98093f78dab"
      },
      "execution_count": 21,
      "outputs": [
        {
          "output_type": "stream",
          "name": "stdout",
          "text": [
            "38.0\n"
          ]
        }
      ]
    },
    {
      "cell_type": "code",
      "source": [
        "areas = [\"hallway\", 11.25, \"kitchen\", 18.0, \"living room\", 20.0, \"bedroom\", 10.75, \"bathroom\", 9.50]\n",
        "downstairs = areas[:6]\n",
        "upstairs = areas[6:10]\n",
        "print(downstairs)\n",
        "print(upstairs)"
      ],
      "metadata": {
        "colab": {
          "base_uri": "https://localhost:8080/"
        },
        "id": "w6zYFRpeKtgm",
        "outputId": "346890c7-f5b6-4355-e19b-9064c5acb29b"
      },
      "execution_count": 22,
      "outputs": [
        {
          "output_type": "stream",
          "name": "stdout",
          "text": [
            "['hallway', 11.25, 'kitchen', 18.0, 'living room', 20.0]\n",
            "['bedroom', 10.75, 'bathroom', 9.5]\n"
          ]
        }
      ]
    },
    {
      "cell_type": "code",
      "source": [
        "alunos = [[\"francisco\", \"ufc\"], [\"toin\", \"uninta\"]]\n",
        "alunos[0][1]"
      ],
      "metadata": {
        "colab": {
          "base_uri": "https://localhost:8080/",
          "height": 35
        },
        "id": "BV_Bum4qL78O",
        "outputId": "97c25963-7e1c-4e0b-d039-3cdb06760dea"
      },
      "execution_count": 24,
      "outputs": [
        {
          "output_type": "execute_result",
          "data": {
            "text/plain": [
              "'ufc'"
            ],
            "application/vnd.google.colaboratory.intrinsic+json": {
              "type": "string"
            }
          },
          "metadata": {},
          "execution_count": 24
        }
      ]
    },
    {
      "cell_type": "markdown",
      "source": [
        "faça lista da lista da sua familia ex: [[fulano, altura], 5...\n",
        "acesse o 3 elemento da lista e depois acessa a altura do segundo elemento da lista\n"
      ],
      "metadata": {
        "id": "ecSGuin9Mt2S"
      }
    },
    {
      "cell_type": "code",
      "source": [
        "familia = [[\"francisco\", 1.70], [\"elenilce\", 1.62], [\"chaga\", 1.74], [\"rosalice\", 1.63], [\"rosalia\", 1.65]]"
      ],
      "metadata": {
        "colab": {
          "base_uri": "https://localhost:8080/"
        },
        "id": "Zx65gMLVNMlb",
        "outputId": "da376a9e-4190-410a-f8f0-9eb0ef51a42a"
      },
      "execution_count": 31,
      "outputs": [
        {
          "output_type": "execute_result",
          "data": {
            "text/plain": [
              "['rosalice', 1.63]"
            ]
          },
          "metadata": {},
          "execution_count": 31
        }
      ]
    },
    {
      "cell_type": "code",
      "source": [
        "familia[3]"
      ],
      "metadata": {
        "colab": {
          "base_uri": "https://localhost:8080/"
        },
        "id": "EMRvdYFMOvO5",
        "outputId": "06347a8f-5fb8-46a2-a688-29e8068e9a80"
      },
      "execution_count": 33,
      "outputs": [
        {
          "output_type": "execute_result",
          "data": {
            "text/plain": [
              "['rosalice', 1.63]"
            ]
          },
          "metadata": {},
          "execution_count": 33
        }
      ]
    },
    {
      "cell_type": "code",
      "source": [
        "familia[2][1]"
      ],
      "metadata": {
        "colab": {
          "base_uri": "https://localhost:8080/"
        },
        "id": "rVMeR7rwOZEz",
        "outputId": "92c37278-904f-442a-a724-540d0d7d3c07"
      },
      "execution_count": 32,
      "outputs": [
        {
          "output_type": "execute_result",
          "data": {
            "text/plain": [
              "1.74"
            ]
          },
          "metadata": {},
          "execution_count": 32
        }
      ]
    },
    {
      "cell_type": "code",
      "source": [
        "house[-1][-1]"
      ],
      "metadata": {
        "colab": {
          "base_uri": "https://localhost:8080/",
          "height": 35
        },
        "id": "S8tDWdo-Pl4i",
        "outputId": "31c9d2a5-75c2-4c4c-a675-6bfeef0ae20a"
      },
      "execution_count": 38,
      "outputs": [
        {
          "output_type": "execute_result",
          "data": {
            "text/plain": [
              "'living room'"
            ],
            "application/vnd.google.colaboratory.intrinsic+json": {
              "type": "string"
            }
          },
          "metadata": {},
          "execution_count": 38
        }
      ]
    },
    {
      "cell_type": "code",
      "source": [],
      "metadata": {
        "id": "H-Sz7aOwQ4ih"
      },
      "execution_count": null,
      "outputs": []
    }
  ]
}