{
  "nbformat": 4,
  "nbformat_minor": 0,
  "metadata": {
    "colab": {
      "provenance": [],
      "authorship_tag": "ABX9TyPfaI0OdD0BrtPXruCPvVBv",
      "include_colab_link": true
    },
    "kernelspec": {
      "name": "python3",
      "display_name": "Python 3"
    },
    "language_info": {
      "name": "python"
    }
  },
  "cells": [
    {
      "cell_type": "markdown",
      "metadata": {
        "id": "view-in-github",
        "colab_type": "text"
      },
      "source": [
        "<a href=\"https://colab.research.google.com/github/alysonbz/lab_prog_si/blob/yana_karen/Aula2305.ipynb\" target=\"_parent\"><img src=\"https://colab.research.google.com/assets/colab-badge.svg\" alt=\"Open In Colab\"/></a>"
      ]
    },
    {
      "cell_type": "code",
      "execution_count": null,
      "metadata": {
        "colab": {
          "base_uri": "https://localhost:8080/"
        },
        "id": "wgBHpva98mkL",
        "outputId": "bb3698b0-014c-4c3e-9d1b-2da378c24072"
      },
      "outputs": [
        {
          "output_type": "execute_result",
          "data": {
            "text/plain": [
              "[1.73, 1.68, 1.71, 1.89]"
            ]
          },
          "metadata": {},
          "execution_count": 1
        }
      ],
      "source": [
        "fam = [1.73, 1.68, 1.71, 1.89]\n",
        "fam"
      ]
    },
    {
      "cell_type": "code",
      "source": [
        "max(fam)"
      ],
      "metadata": {
        "colab": {
          "base_uri": "https://localhost:8080/"
        },
        "id": "eQZus3ur8_ax",
        "outputId": "75b2c29d-c09b-4ca1-a0bd-063117d3e6d4"
      },
      "execution_count": null,
      "outputs": [
        {
          "output_type": "execute_result",
          "data": {
            "text/plain": [
              "1.89"
            ]
          },
          "metadata": {},
          "execution_count": 2
        }
      ]
    },
    {
      "cell_type": "code",
      "source": [
        "round(1.68, 1)"
      ],
      "metadata": {
        "colab": {
          "base_uri": "https://localhost:8080/"
        },
        "id": "o_r_CWUkIFxK",
        "outputId": "41f841f9-602d-4eb1-99c1-29150d5afa3e"
      },
      "execution_count": null,
      "outputs": [
        {
          "output_type": "execute_result",
          "data": {
            "text/plain": [
              "1.7"
            ]
          },
          "metadata": {},
          "execution_count": 11
        }
      ]
    },
    {
      "cell_type": "code",
      "source": [
        "round(1.68)"
      ],
      "metadata": {
        "colab": {
          "base_uri": "https://localhost:8080/"
        },
        "id": "nwu0RDLdIK8K",
        "outputId": "da6d8cf3-e809-404c-bc62-c01ff1b1f4aa"
      },
      "execution_count": null,
      "outputs": [
        {
          "output_type": "execute_result",
          "data": {
            "text/plain": [
              "2"
            ]
          },
          "metadata": {},
          "execution_count": 12
        }
      ]
    },
    {
      "cell_type": "markdown",
      "source": [
        "1"
      ],
      "metadata": {
        "id": "4_swhn3pGjj9"
      }
    },
    {
      "cell_type": "code",
      "source": [
        "def max_valor_lista(list_num):\n",
        "  maior_valor = None\n",
        "  for numero in list_num:\n",
        "    if maior_valor == None:\n",
        "        maior_valor = numero\n",
        "    if numero > maior_valor:\n",
        "        maior_valor = numero\n",
        "  return maior_valor"
      ],
      "metadata": {
        "id": "Hwcv-wSH_8gF"
      },
      "execution_count": null,
      "outputs": []
    },
    {
      "cell_type": "code",
      "source": [
        "lista_qualquer = [2, 6, 7, 8, 7, 5, 89]\n",
        "num = max_valor_lista(lista_qualquer)\n",
        "print(\"Maior valor:\", num)"
      ],
      "metadata": {
        "colab": {
          "base_uri": "https://localhost:8080/"
        },
        "id": "4p45xDagAnmk",
        "outputId": "15cfa86f-34f0-4cf9-bc7a-058604a70ed0"
      },
      "execution_count": null,
      "outputs": [
        {
          "output_type": "stream",
          "name": "stdout",
          "text": [
            "Maior valor: 89\n"
          ]
        }
      ]
    },
    {
      "cell_type": "markdown",
      "source": [
        "2 - Faça uma função que retorne a quantidade de elementos de uma lista"
      ],
      "metadata": {
        "id": "JyfgH_XvFZyW"
      }
    },
    {
      "cell_type": "code",
      "source": [
        "def quantidade_elementos_lista(lista):\n",
        "  quantidade_elementos = 0\n",
        "  for elemento in lista:\n",
        "    quantidade_elementos = quantidade_elementos + 1\n",
        "  return quantidade_elementos\n"
      ],
      "metadata": {
        "id": "A20IWy5qFeAe"
      },
      "execution_count": null,
      "outputs": []
    },
    {
      "cell_type": "code",
      "source": [
        "lista = [1, 2, 3, 4, 5, 6, 7, 8, 9]\n",
        "print(quantidade_elementos_lista(lista))"
      ],
      "metadata": {
        "colab": {
          "base_uri": "https://localhost:8080/"
        },
        "id": "pweYa8IMHaqb",
        "outputId": "ee403fa3-275c-4bec-88b5-07d3c9d05262"
      },
      "execution_count": null,
      "outputs": [
        {
          "output_type": "stream",
          "name": "stdout",
          "text": [
            "9\n"
          ]
        }
      ]
    },
    {
      "cell_type": "markdown",
      "source": [
        "Questão 1"
      ],
      "metadata": {
        "id": "aLj2J5TvIe_6"
      }
    },
    {
      "cell_type": "code",
      "source": [
        "var1 = [1, 2, 3, 4]\n",
        "var2 = True\n",
        "\n",
        "type(var1)"
      ],
      "metadata": {
        "colab": {
          "base_uri": "https://localhost:8080/"
        },
        "id": "42w5vHj-IhZR",
        "outputId": "28b3f9d7-05bd-4f5d-e15c-d44eb9b04aa7"
      },
      "execution_count": null,
      "outputs": [
        {
          "output_type": "execute_result",
          "data": {
            "text/plain": [
              "list"
            ]
          },
          "metadata": {},
          "execution_count": 13
        }
      ]
    },
    {
      "cell_type": "markdown",
      "source": [
        "Questão 2"
      ],
      "metadata": {
        "id": "6wDS9zxWIwBJ"
      }
    },
    {
      "cell_type": "code",
      "source": [
        "len(var1)"
      ],
      "metadata": {
        "colab": {
          "base_uri": "https://localhost:8080/"
        },
        "id": "ivdWxUE4IyYh",
        "outputId": "ea759ee1-c6f5-4158-e7c3-65ef9b701c06"
      },
      "execution_count": null,
      "outputs": [
        {
          "output_type": "execute_result",
          "data": {
            "text/plain": [
              "4"
            ]
          },
          "metadata": {},
          "execution_count": 14
        }
      ]
    },
    {
      "cell_type": "markdown",
      "source": [
        "Questão 3"
      ],
      "metadata": {
        "id": "dhWoRe5gI3JR"
      }
    },
    {
      "cell_type": "code",
      "source": [
        "out2 = int(var2)\n",
        "out2"
      ],
      "metadata": {
        "colab": {
          "base_uri": "https://localhost:8080/"
        },
        "id": "QRDZ3ZbOI4m6",
        "outputId": "32ddbed8-a3df-4528-ffc8-0e4e721953bd"
      },
      "execution_count": null,
      "outputs": [
        {
          "output_type": "execute_result",
          "data": {
            "text/plain": [
              "1"
            ]
          },
          "metadata": {},
          "execution_count": 16
        }
      ]
    },
    {
      "cell_type": "markdown",
      "source": [
        "Questão 4"
      ],
      "metadata": {
        "id": "SZAmilQOJjmJ"
      }
    },
    {
      "cell_type": "code",
      "source": [
        "first = [11.25, 18.0, 20.0]\n",
        "second = [10.75, 9.50]\n",
        "\n",
        "full = first + second\n",
        "full"
      ],
      "metadata": {
        "colab": {
          "base_uri": "https://localhost:8080/"
        },
        "id": "mcwpoO7wJk54",
        "outputId": "708bcd10-3368-4e9a-ffb8-2c4bfb43996e"
      },
      "execution_count": 9,
      "outputs": [
        {
          "output_type": "execute_result",
          "data": {
            "text/plain": [
              "[11.25, 18.0, 20.0, 10.75, 9.5]"
            ]
          },
          "metadata": {},
          "execution_count": 9
        }
      ]
    },
    {
      "cell_type": "markdown",
      "source": [
        "Questão 5"
      ],
      "metadata": {
        "id": "nDxIn2CLKFWQ"
      }
    },
    {
      "cell_type": "code",
      "source": [
        "full_sorted = sorted(full, reverse=True)"
      ],
      "metadata": {
        "id": "r7F88jwLKGsQ"
      },
      "execution_count": 10,
      "outputs": []
    },
    {
      "cell_type": "markdown",
      "source": [
        "Questão 6"
      ],
      "metadata": {
        "id": "TGsxgY60LKB-"
      }
    },
    {
      "cell_type": "code",
      "source": [
        "full_sorted"
      ],
      "metadata": {
        "colab": {
          "base_uri": "https://localhost:8080/"
        },
        "id": "WKvtvSZULLiW",
        "outputId": "716a5638-aa3b-4958-fba5-783c163d9938"
      },
      "execution_count": 11,
      "outputs": [
        {
          "output_type": "execute_result",
          "data": {
            "text/plain": [
              "[20.0, 18.0, 11.25, 10.75, 9.5]"
            ]
          },
          "metadata": {},
          "execution_count": 11
        }
      ]
    }
  ]
}