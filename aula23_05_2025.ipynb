{
  "nbformat": 4,
  "nbformat_minor": 0,
  "metadata": {
    "colab": {
      "provenance": [],
      "authorship_tag": "ABX9TyOV48dqfacIrTiqlZhxK4Y0",
      "include_colab_link": true
    },
    "kernelspec": {
      "name": "python3",
      "display_name": "Python 3"
    },
    "language_info": {
      "name": "python"
    }
  },
  "cells": [
    {
      "cell_type": "markdown",
      "metadata": {
        "id": "view-in-github",
        "colab_type": "text"
      },
      "source": [
        "<a href=\"https://colab.research.google.com/github/alysonbz/lab_prog_si/blob/kauan_lima/aula23_05_2025.ipynb\" target=\"_parent\"><img src=\"https://colab.research.google.com/assets/colab-badge.svg\" alt=\"Open In Colab\"/></a>"
      ]
    },
    {
      "cell_type": "code",
      "execution_count": null,
      "metadata": {
        "id": "61FV6TAu9UiW"
      },
      "outputs": [],
      "source": [
        "def max_valor_lista(list_num):\n",
        "  maior_valor = None\n",
        "  for numero in list_num:\n",
        "    if maior_valor == None:\n",
        "       maior_valor  = numero\n",
        "    if numero > maior_valor:\n",
        "      maior_valor = numero\n",
        "  return maior_valor\n"
      ]
    },
    {
      "cell_type": "code",
      "source": [
        "max_valor_lista([1,7,8,50])"
      ],
      "metadata": {
        "colab": {
          "base_uri": "https://localhost:8080/"
        },
        "id": "K4-r1UMFGVCi",
        "outputId": "914bcf40-39e7-4f55-be3e-1cd6b5b9c900"
      },
      "execution_count": null,
      "outputs": [
        {
          "output_type": "execute_result",
          "data": {
            "text/plain": [
              "1"
            ]
          },
          "metadata": {},
          "execution_count": 75
        }
      ]
    },
    {
      "cell_type": "markdown",
      "source": [
        "Atividades"
      ],
      "metadata": {
        "id": "m0pG86G0S9Hn"
      }
    },
    {
      "cell_type": "code",
      "source": [
        "#questão 1\n",
        "var1= [1, 2, 3, 4]\n",
        "var2 = True\n",
        "print(type(var1))\n",
        "#questão 2\n",
        "print(len(var1))\n",
        "#questão 3\n",
        "print(int(var2))\n",
        "#questão 4\n",
        "first=[11.25, 18.0, 20.0]\n",
        "second=[10.75, 9.50]\n",
        "full=first+second\n",
        "print(full)\n",
        "#questão 5\n",
        "sorted(full)\n",
        "full_sorted=sorted(full)\n",
        "reverse=True\n",
        "#questão 6\n",
        "print(full_sorted)"
      ],
      "metadata": {
        "id": "d44h5NExGt_J",
        "colab": {
          "base_uri": "https://localhost:8080/"
        },
        "outputId": "4407ba41-477b-4a05-8616-e3a79d32efe7"
      },
      "execution_count": 1,
      "outputs": [
        {
          "output_type": "stream",
          "name": "stdout",
          "text": [
            "<class 'list'>\n",
            "4\n",
            "1\n",
            "[11.25, 18.0, 20.0, 10.75, 9.5]\n",
            "[9.5, 10.75, 11.25, 18.0, 20.0]\n"
          ]
        }
      ]
    }
  ]
}