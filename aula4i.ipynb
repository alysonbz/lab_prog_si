{
  "nbformat": 4,
  "nbformat_minor": 0,
  "metadata": {
    "colab": {
      "provenance": [],
      "authorship_tag": "ABX9TyOj3jEQJH+U7V87P+pHDWPh",
      "include_colab_link": true
    },
    "kernelspec": {
      "name": "python3",
      "display_name": "Python 3"
    },
    "language_info": {
      "name": "python"
    }
  },
  "cells": [
    {
      "cell_type": "markdown",
      "metadata": {
        "id": "view-in-github",
        "colab_type": "text"
      },
      "source": [
        "<a href=\"https://colab.research.google.com/github/alysonbz/lab_prog_si/blob/Emanuel_Oliveira/aula4i.ipynb\" target=\"_parent\"><img src=\"https://colab.research.google.com/assets/colab-badge.svg\" alt=\"Open In Colab\"/></a>"
      ]
    },
    {
      "cell_type": "markdown",
      "source": [
        "manipulando listas"
      ],
      "metadata": {
        "id": "ak-51SXh6FYO"
      }
    },
    {
      "cell_type": "code",
      "execution_count": 10,
      "metadata": {
        "colab": {
          "base_uri": "https://localhost:8080/"
        },
        "id": "0h-JEVFizVwA",
        "outputId": "d70f6386-1859-490f-fb2f-02b798bd9fb8"
      },
      "outputs": [
        {
          "output_type": "stream",
          "name": "stdout",
          "text": [
            "['sala', 'cozinha']\n",
            "['sala', 'cozinha', 'namheiro']\n"
          ]
        }
      ],
      "source": [
        "casa = [\"sala\", \"cozinha\"]\n",
        "print(casa)\n",
        "casa2 = casa + [\"namheiro\"]\n",
        "print(casa2)"
      ]
    },
    {
      "cell_type": "code",
      "source": [
        "x = [\"a\",\"b\",\"c\",\"d\"]\n",
        "y = x.copy()\n",
        "y[1] = \"0\"\n",
        "print(f\"lista X{x}\")\n",
        "print(f\"lista Y{y}\")"
      ],
      "metadata": {
        "colab": {
          "base_uri": "https://localhost:8080/"
        },
        "id": "_k88WM3l1qCX",
        "outputId": "c9ff9a30-042e-4e10-d6b3-eaa95793e0c4"
      },
      "execution_count": 13,
      "outputs": [
        {
          "output_type": "stream",
          "name": "stdout",
          "text": [
            "['a', 'b', 'c', 'd']\n",
            "['a', '0', 'c', 'd']\n"
          ]
        }
      ]
    },
    {
      "cell_type": "code",
      "source": [
        "x = [\"a\",\"b\",\"c\",\"d\"]\n",
        "y = list(x)\n",
        "y[1] = 0\n",
        "print(f\"lista X{x}\")\n",
        "print(f\"lista Y{y}\")"
      ],
      "metadata": {
        "colab": {
          "base_uri": "https://localhost:8080/"
        },
        "id": "Vpg-t-yC58K6",
        "outputId": "5e67afc0-4348-4b3c-b04f-5e18ba26b941"
      },
      "execution_count": 16,
      "outputs": [
        {
          "output_type": "stream",
          "name": "stdout",
          "text": [
            "lista X['a', 'b', 'c', 'd']\n",
            "lista Y['a', 0, 'c', 'd']\n"
          ]
        }
      ]
    },
    {
      "cell_type": "code",
      "source": [
        "x = [\"a\",\"b\",\"c\",\"d\"]\n",
        "y = x[:]\n",
        "y[1] = 0\n",
        "print(f\"lista X{x}\")\n",
        "print(f\"lista Y{y}\")"
      ],
      "metadata": {
        "colab": {
          "base_uri": "https://localhost:8080/"
        },
        "id": "rxCDDFFX5_s_",
        "outputId": "b7be9f14-d3e9-4ed1-c5a9-0c6bfb0d9e46"
      },
      "execution_count": 15,
      "outputs": [
        {
          "output_type": "stream",
          "name": "stdout",
          "text": [
            "['a', 'b', 'c', 'd']\n",
            "['a', 0, 'c', 'd']\n"
          ]
        }
      ]
    },
    {
      "cell_type": "markdown",
      "source": [
        "7) Troque o valor de bathroom de 9.50 para 10.50.\n",
        "\n",
        "7.1) Substitua a string “Living room” por “chill zone”\n"
      ],
      "metadata": {
        "id": "Xwo0E5Do62aw"
      }
    },
    {
      "cell_type": "code",
      "source": [
        "#create the areas list\n",
        "areas = [\"hallway\", 11.25, \"kitchen\", 18.0, \"living room\", 20.0, \"bedroom\", 10.75, \"bathroom\", 9.50]\n",
        "#correct the bathroom area\n",
        "areas[-1] = 10.50\n",
        "#change \"living room\" to \"chill zone\"\n",
        "areas[4] = \"chill zone\"\n",
        "#print\n",
        "print(areas)"
      ],
      "metadata": {
        "colab": {
          "base_uri": "https://localhost:8080/"
        },
        "id": "Us0Shqf6677g",
        "outputId": "c3c744dc-d722-43f8-96de-1ae8394a0b92"
      },
      "execution_count": 17,
      "outputs": [
        {
          "output_type": "stream",
          "name": "stdout",
          "text": [
            "['hallway', 11.25, 'kitchen', 18.0, 'chill zone', 20.0, 'bedroom', 10.75, 'bathroom', 10.5]\n"
          ]
        }
      ]
    },
    {
      "cell_type": "markdown",
      "source": [
        "8) Adicione [\"poolhouse\", 24.5] no fim da lista  e atribua em uma nova lista chamada de areas_1\n",
        "\n",
        "8.1) Adicione [\"garage\", 15.5] no fim da lista areas_1  e atribua em uma nova lista chamada de areas_2\n",
        "\n",
        "8.2) Exiba areas_2\n"
      ],
      "metadata": {
        "id": "EX7_tAH677zv"
      }
    },
    {
      "cell_type": "code",
      "source": [
        "#Adicione [\"poolhouse\", 24.5] no fim da lista  e atribua em uma nova lista chamada de areas_1\n",
        "areas_1 = areas + [\"poolhouse\",24.5]\n",
        "#Adicione [\"garage\", 15.5] no fim da lista areas_1  e atribua em uma nova lista chamada de areas_2\n",
        "areas_2 = areas_1 + [\"garage\", 15.5]\n",
        "#Exiba areas_2\n",
        "print(areas_2)"
      ],
      "metadata": {
        "colab": {
          "base_uri": "https://localhost:8080/"
        },
        "id": "sDqVRcDi8EbP",
        "outputId": "acf8707f-c932-486d-d461-ff993e203815"
      },
      "execution_count": 18,
      "outputs": [
        {
          "output_type": "stream",
          "name": "stdout",
          "text": [
            "['hallway', 11.25, 'kitchen', 18.0, 'chill zone', 20.0, 'bedroom', 10.75, 'bathroom', 10.5, 'poolhouse', 24.5, 'garage', 15.5]\n"
          ]
        }
      ]
    },
    {
      "cell_type": "markdown",
      "source": [
        "9) Execute o código e observe que a modificação realizada em areas_copy afetou areas. Corrija esse código e exiba areas e areas_copy no fim do código."
      ],
      "metadata": {
        "id": "GrRmvthX9Q04"
      }
    },
    {
      "cell_type": "code",
      "source": [
        "#create list\n",
        "areas = [11.25,18.0,20.0,10.75,9.50]\n",
        "#creaty areeas_copy\n",
        "areas_copy = areas\n",
        "#change areas_copy\n",
        "areas_copy[0] = 5.0\n",
        "#print areas\n",
        "print(areas)"
      ],
      "metadata": {
        "colab": {
          "base_uri": "https://localhost:8080/"
        },
        "id": "vIgHYTMz9VRX",
        "outputId": "0d19bd2d-0646-4935-b326-ed8d0d190b58"
      },
      "execution_count": 21,
      "outputs": [
        {
          "output_type": "stream",
          "name": "stdout",
          "text": [
            "[5.0, 18.0, 20.0, 10.75, 9.5]\n"
          ]
        }
      ]
    },
    {
      "cell_type": "markdown",
      "source": [
        "9) codigo corrigido"
      ],
      "metadata": {
        "id": "5tg3Z1doBGgq"
      }
    },
    {
      "cell_type": "code",
      "source": [
        "#create list\n",
        "areas = [11.25,18.0,20.0,10.75,9.50]\n",
        "#creaty areeas_copy\n",
        "areas_copy = areas.copy()\n",
        "#change areas_copy\n",
        "areas_copy[0] = 5.0\n",
        "#print areas\n",
        "print(f\"areas: {areas}\")\n",
        "print(f\"areas_copy: {areas_copy}\")"
      ],
      "metadata": {
        "colab": {
          "base_uri": "https://localhost:8080/"
        },
        "id": "sy6ea5-nBLa5",
        "outputId": "75b72b20-f4a6-4941-c913-b3d8b4a9becd"
      },
      "execution_count": 20,
      "outputs": [
        {
          "output_type": "stream",
          "name": "stdout",
          "text": [
            "areas: [11.25, 18.0, 20.0, 10.75, 9.5]\n",
            "areas_copy: [5.0, 18.0, 20.0, 10.75, 9.5]\n"
          ]
        }
      ]
    }
  ]
}