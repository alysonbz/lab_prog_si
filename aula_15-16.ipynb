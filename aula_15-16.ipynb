{
  "nbformat": 4,
  "nbformat_minor": 0,
  "metadata": {
    "colab": {
      "provenance": [],
      "authorship_tag": "ABX9TyPPS++cg2NKrNppWIphJ9Mz",
      "include_colab_link": true
    },
    "kernelspec": {
      "name": "python3",
      "display_name": "Python 3"
    },
    "language_info": {
      "name": "python"
    }
  },
  "cells": [
    {
      "cell_type": "markdown",
      "metadata": {
        "id": "view-in-github",
        "colab_type": "text"
      },
      "source": [
        "<a href=\"https://colab.research.google.com/github/alysonbz/lab_prog_si/blob/camila_araujo/aula_15-16.ipynb\" target=\"_parent\"><img src=\"https://colab.research.google.com/assets/colab-badge.svg\" alt=\"Open In Colab\"/></a>"
      ]
    },
    {
      "cell_type": "markdown",
      "source": [
        "Lista de lista"
      ],
      "metadata": {
        "id": "dr32J0Ay-cA0"
      }
    },
    {
      "cell_type": "code",
      "execution_count": null,
      "metadata": {
        "colab": {
          "base_uri": "https://localhost:8080/"
        },
        "id": "CLnPLvqRwUJJ",
        "outputId": "5e52781c-7f2d-45dd-f05f-6a34f162410c"
      },
      "outputs": [
        {
          "output_type": "stream",
          "name": "stdout",
          "text": [
            "[['hallway', 11.25], ['kitchen', 18.0], ['living room', 20.0]]\n",
            "<class 'list'>\n"
          ]
        }
      ],
      "source": [
        "hall = 11.25\n",
        "kit = 18.0\n",
        "liv = 20.0\n",
        "bed = 10.75\n",
        "bath = 9.50\n",
        "\n",
        "house = [[\"hallway\", hall], [\"kitchen\", kit], [\"living room\", liv]]\n",
        "\n",
        "print(house)\n",
        "\n",
        "print(type(house))"
      ]
    },
    {
      "cell_type": "markdown",
      "source": [
        "um elemento da Lista"
      ],
      "metadata": {
        "id": "ZrlGouPkzkdT"
      }
    },
    {
      "cell_type": "code",
      "source": [
        "fam = [\"Camila\", 1.60, \"Malco\", 1.80, \"Carol\", 1.65]\n",
        "fam[3]\n"
      ],
      "metadata": {
        "colab": {
          "base_uri": "https://localhost:8080/"
        },
        "id": "L7Af_tqRynCF",
        "outputId": "aa0690bd-4ff1-4199-edc7-7e377fae2414"
      },
      "execution_count": null,
      "outputs": [
        {
          "output_type": "execute_result",
          "data": {
            "text/plain": [
              "1.8"
            ]
          },
          "metadata": {},
          "execution_count": 6
        }
      ]
    },
    {
      "cell_type": "markdown",
      "source": [
        "Ultimo elemento da lista"
      ],
      "metadata": {
        "id": "DhYgKVQq4gHn"
      }
    },
    {
      "cell_type": "code",
      "source": [
        "fam = [\"Camila\", 1.60, \"Malco\", 1.80, \"Carol\", 1.65]\n",
        "fam[-1]"
      ],
      "metadata": {
        "colab": {
          "base_uri": "https://localhost:8080/"
        },
        "id": "Mj9BQlGCzN11",
        "outputId": "f2cb39d8-5e43-4cb8-c278-9ff02a732db9"
      },
      "execution_count": null,
      "outputs": [
        {
          "output_type": "execute_result",
          "data": {
            "text/plain": [
              "1.65"
            ]
          },
          "metadata": {},
          "execution_count": 7
        }
      ]
    },
    {
      "cell_type": "markdown",
      "source": [
        "Tamanho da lista"
      ],
      "metadata": {
        "id": "Lhq7nwKa1DjL"
      }
    },
    {
      "cell_type": "code",
      "source": [
        "fam = [\"Camila\", 1.60, \"Malco\", 1.80, \"Carol\", 1.65]\n",
        "print('o tamanho da lista é ', len(fam))"
      ],
      "metadata": {
        "colab": {
          "base_uri": "https://localhost:8080/"
        },
        "id": "AFOdAt9zz0NL",
        "outputId": "65cd5942-7ca7-4c30-e8d2-41df71064596"
      },
      "execution_count": null,
      "outputs": [
        {
          "output_type": "stream",
          "name": "stdout",
          "text": [
            "o tamanho da lista é  6\n"
          ]
        }
      ]
    },
    {
      "cell_type": "markdown",
      "source": [
        "Acessando o 3º elemento da lista"
      ],
      "metadata": {
        "id": "1xm1thab0C4D"
      }
    },
    {
      "cell_type": "code",
      "source": [
        "fam = [\"Camila\", 1.60, \"Malco\", 1.80, \"Carol\", 1.65]\n",
        "t= fam[3]\n",
        "print(t)"
      ],
      "metadata": {
        "colab": {
          "base_uri": "https://localhost:8080/"
        },
        "id": "UFGo11uY44fP",
        "outputId": "942fb8b6-b8e9-40f1-f58f-6ee5c3c5660b"
      },
      "execution_count": null,
      "outputs": [
        {
          "output_type": "stream",
          "name": "stdout",
          "text": [
            "1.8\n"
          ]
        }
      ]
    },
    {
      "cell_type": "markdown",
      "source": [
        "Fazendo um slice na lista"
      ],
      "metadata": {
        "id": "YZO8Yku10vbk"
      }
    },
    {
      "cell_type": "code",
      "source": [
        "fam[:6]"
      ],
      "metadata": {
        "colab": {
          "base_uri": "https://localhost:8080/"
        },
        "id": "hgOVnTeK0Z5s",
        "outputId": "2669d93f-8a0c-4523-f3a6-4344e0165780"
      },
      "execution_count": null,
      "outputs": [
        {
          "output_type": "execute_result",
          "data": {
            "text/plain": [
              "['Camila', 1.6, 'Malco', 1.8, 'Carol', 1.65]"
            ]
          },
          "metadata": {},
          "execution_count": 11
        }
      ]
    },
    {
      "cell_type": "code",
      "source": [
        "fam[2:6]"
      ],
      "metadata": {
        "colab": {
          "base_uri": "https://localhost:8080/"
        },
        "id": "5XOLf6t502l7",
        "outputId": "1aa1dbcf-778c-4535-a86e-7c07041758ac"
      },
      "execution_count": null,
      "outputs": [
        {
          "output_type": "execute_result",
          "data": {
            "text/plain": [
              "['Malco', 1.8, 'Carol', 1.65]"
            ]
          },
          "metadata": {},
          "execution_count": 12
        }
      ]
    },
    {
      "cell_type": "markdown",
      "source": [
        "quest 4"
      ],
      "metadata": {
        "id": "OW_cPn5kDPIu"
      }
    },
    {
      "cell_type": "code",
      "source": [
        "areas = [\"hallway\", 11.25, \"kitchen\", 18.0, \"living room\", 20.0, 'bedroom', 10.75, 'bathroom', 9.50]\n",
        "print(areas[2])\n",
        "print(areas[-1])\n",
        "print(areas[5])\n",
        "\n"
      ],
      "metadata": {
        "colab": {
          "base_uri": "https://localhost:8080/"
        },
        "id": "_kCBGfGb1Sla",
        "outputId": "9df35ac2-6994-4e0c-e174-96a21516837c"
      },
      "execution_count": null,
      "outputs": [
        {
          "output_type": "stream",
          "name": "stdout",
          "text": [
            "kitchen\n",
            "9.5\n",
            "20.0\n"
          ]
        }
      ]
    },
    {
      "cell_type": "markdown",
      "source": [
        "quest 5"
      ],
      "metadata": {
        "id": "MxYEUirFDCqh"
      }
    },
    {
      "cell_type": "code",
      "source": [
        "areas = [\"hallway\", 11.25, \"kitchen\", 18.0, \"living room\", 20.0, 'bedroom', 10.75, 'bathroom', 9.50]\n",
        "\n",
        "eat_sleep_area = areas[3] + areas[5]\n",
        "\n",
        "print(eat_sleep_area)"
      ],
      "metadata": {
        "colab": {
          "base_uri": "https://localhost:8080/"
        },
        "id": "YdJF2EHT20bu",
        "outputId": "26ddb348-5e78-48a9-de39-80541a51d0bb"
      },
      "execution_count": null,
      "outputs": [
        {
          "output_type": "stream",
          "name": "stdout",
          "text": [
            "38.0\n"
          ]
        }
      ]
    },
    {
      "cell_type": "markdown",
      "source": [
        "quest 6 - primeiros elementos e\n",
        "ultimos elementos"
      ],
      "metadata": {
        "id": "788jGnty63Bf"
      }
    },
    {
      "cell_type": "code",
      "source": [
        "areas = [\"hallway\", 11.25, \"kitchen\", 18.0, \"living room\", 20.0, 'bedroom', 10.75, 'bathroom', 9.50]\n",
        "\n",
        "downstairs = areas[:6]\n",
        "upstairs = areas[6:10]\n",
        "print(downstairs)\n",
        "print(upstairs)"
      ],
      "metadata": {
        "colab": {
          "base_uri": "https://localhost:8080/"
        },
        "id": "y6wVCMOE5yym",
        "outputId": "d7512637-41e0-4516-c389-b43dd645a03a"
      },
      "execution_count": null,
      "outputs": [
        {
          "output_type": "stream",
          "name": "stdout",
          "text": [
            "['hallway', 11.25, 'kitchen', 18.0, 'living room', 20.0]\n",
            "['bedroom', 10.75, 'bathroom', 9.5]\n"
          ]
        }
      ]
    },
    {
      "cell_type": "code",
      "source": [
        "alunos = [['camila', 'ufc'], ['Zé', 'uninta']]\n",
        "alunos[0][1]"
      ],
      "metadata": {
        "colab": {
          "base_uri": "https://localhost:8080/",
          "height": 35
        },
        "id": "5vHmrp2H7AxW",
        "outputId": "aee77bb0-0a96-4903-a314-54113724b251"
      },
      "execution_count": null,
      "outputs": [
        {
          "output_type": "execute_result",
          "data": {
            "text/plain": [
              "'ufc'"
            ],
            "application/vnd.google.colaboratory.intrinsic+json": {
              "type": "string"
            }
          },
          "metadata": {},
          "execution_count": 31
        }
      ]
    },
    {
      "cell_type": "markdown",
      "source": [
        "Faça lista da lista da sua familia ex: [[fulano, altura],[sicrano,altura]...] pelo menos 5 pessoas."
      ],
      "metadata": {
        "id": "If-FQy287u-e"
      }
    },
    {
      "cell_type": "code",
      "source": [
        "fami = [['camila', 1.60], ['malco', 1.90], ['dayana', 1.70], ['carol', 1.65], ['douglas', 1.90]]"
      ],
      "metadata": {
        "id": "8TY9V1PJ8OQt"
      },
      "execution_count": null,
      "outputs": []
    },
    {
      "cell_type": "markdown",
      "source": [
        "Acesse o terceiro elemento da lista"
      ],
      "metadata": {
        "id": "Tuiwox488D3F"
      }
    },
    {
      "cell_type": "code",
      "source": [
        "fami = [['camila', 1.60], ['malco', 1.90], ['dayana', 1.70], ['carol', 1.65], ['douglas', 1.90]]\n",
        "fami[3]"
      ],
      "metadata": {
        "colab": {
          "base_uri": "https://localhost:8080/"
        },
        "id": "6TJ5alvG8xwV",
        "outputId": "8046341f-ccea-4f8c-fc22-3195d1992788"
      },
      "execution_count": null,
      "outputs": [
        {
          "output_type": "execute_result",
          "data": {
            "text/plain": [
              "['carol', 1.65]"
            ]
          },
          "metadata": {},
          "execution_count": 36
        }
      ]
    },
    {
      "cell_type": "markdown",
      "source": [
        "Acesse a altura do segundo elemento da lista"
      ],
      "metadata": {
        "id": "zDrvpsyw8HKD"
      }
    },
    {
      "cell_type": "code",
      "source": [
        "fami = [['camila', 1.60], ['malco', 1.90], ['dayana', 1.70], ['carol', 1.65], ['douglas', 1.90]]\n",
        "fami[2][1]"
      ],
      "metadata": {
        "colab": {
          "base_uri": "https://localhost:8080/"
        },
        "id": "WSIvnZ7s87BN",
        "outputId": "62e814c5-f2bd-4cd7-ea32-7a7220ac4184"
      },
      "execution_count": null,
      "outputs": [
        {
          "output_type": "execute_result",
          "data": {
            "text/plain": [
              "1.7"
            ]
          },
          "metadata": {},
          "execution_count": 35
        }
      ]
    },
    {
      "cell_type": "code",
      "source": [
        "house[-1][1]"
      ],
      "metadata": {
        "colab": {
          "base_uri": "https://localhost:8080/"
        },
        "id": "071aLyOQ-rHs",
        "outputId": "8ec1c377-4820-4ef6-a4da-23e48b032b9e"
      },
      "execution_count": null,
      "outputs": [
        {
          "output_type": "execute_result",
          "data": {
            "text/plain": [
              "20.0"
            ]
          },
          "metadata": {},
          "execution_count": 38
        }
      ]
    },
    {
      "cell_type": "markdown",
      "source": [
        "Somar duas listas"
      ],
      "metadata": {
        "id": "LuusX3dS0Gas"
      }
    },
    {
      "cell_type": "code",
      "source": [
        "fami = [['camila', 1.60], ['malco', 1.90], ['dayana', 1.70], ['carol', 1.65], ['douglas', 1.90]]\n",
        "car = ['Troll', 2.0]\n",
        "\n",
        "fami + car"
      ],
      "metadata": {
        "colab": {
          "base_uri": "https://localhost:8080/"
        },
        "id": "-xfFbZU-zJBC",
        "outputId": "86cfc24c-041c-4b82-908f-35afd10c9d45"
      },
      "execution_count": 6,
      "outputs": [
        {
          "output_type": "execute_result",
          "data": {
            "text/plain": [
              "[['camila', 1.6],\n",
              " ['malco', 1.9],\n",
              " ['dayana', 1.7],\n",
              " ['carol', 1.65],\n",
              " ['douglas', 1.9],\n",
              " 'Troll',\n",
              " 2.0]"
            ]
          },
          "metadata": {},
          "execution_count": 6
        }
      ]
    },
    {
      "cell_type": "markdown",
      "source": [
        "Deletar um componente da lista"
      ],
      "metadata": {
        "id": "xPlUmedcz91F"
      }
    },
    {
      "cell_type": "code",
      "source": [
        "fami = [['camila', 1.60], ['malco', 1.90], ['dayana', 1.70], ['carol', 1.65], ['douglas', 1.90]]\n",
        "\n",
        "fam_ext = fami + ['Camila', 1.60]\n",
        "del(fami[2])\n",
        "fami"
      ],
      "metadata": {
        "colab": {
          "base_uri": "https://localhost:8080/"
        },
        "id": "vhx6izgmzg59",
        "outputId": "e00983c5-9c0a-48c2-8c4a-27267c61d36c"
      },
      "execution_count": 5,
      "outputs": [
        {
          "output_type": "execute_result",
          "data": {
            "text/plain": [
              "[['camila', 1.6], ['malco', 1.9], ['carol', 1.65], ['douglas', 1.9]]"
            ]
          },
          "metadata": {},
          "execution_count": 5
        }
      ]
    },
    {
      "cell_type": "markdown",
      "source": [
        "Manipulação de listas"
      ],
      "metadata": {
        "id": "uV53O3OB1LBV"
      }
    },
    {
      "cell_type": "code",
      "source": [
        "x = ['a', 'b', 'c']\n",
        "#y e x se tornam um só\n",
        "y = x\n",
        "y[2] = 'z'\n",
        "y"
      ],
      "metadata": {
        "colab": {
          "base_uri": "https://localhost:8080/"
        },
        "id": "cfkvoc1-1luT",
        "outputId": "08503d82-ee3b-4114-ebfc-accf68325e92"
      },
      "execution_count": 7,
      "outputs": [
        {
          "output_type": "execute_result",
          "data": {
            "text/plain": [
              "['a', 'b', 'z']"
            ]
          },
          "metadata": {},
          "execution_count": 7
        }
      ]
    },
    {
      "cell_type": "markdown",
      "source": [
        "quest 7"
      ],
      "metadata": {
        "id": "pMwxX2hPAVay"
      }
    },
    {
      "cell_type": "code",
      "source": [
        "areas = [\"hallway\", 11.25, \"kitchen\", 18.0, \"living room\", 20.0, 'bedroom', 10.75, 'bathroom', 9.50]\n",
        "areas[9] = 10.50\n",
        "areas[4] = 'Chill zone'\n",
        "print(areas)\n"
      ],
      "metadata": {
        "colab": {
          "base_uri": "https://localhost:8080/"
        },
        "id": "RM8m14N84L5p",
        "outputId": "ea42ccd8-34a3-4ea1-ecd6-bba2861bbb53"
      },
      "execution_count": 9,
      "outputs": [
        {
          "output_type": "stream",
          "name": "stdout",
          "text": [
            "['hallway', 11.25, 'kitchen', 18.0, 'Chill zone', 20.0, 'bedroom', 10.75, 'bathroom', 10.5]\n"
          ]
        }
      ]
    },
    {
      "cell_type": "markdown",
      "source": [
        "quest 8"
      ],
      "metadata": {
        "id": "9I1ORb4nAZU5"
      }
    },
    {
      "cell_type": "code",
      "source": [
        "areas = [\"hallway\", 11.25, \"kitchen\", 18.0, \"living room\", 20.0, 'bedroom', 10.75, 'bathroom', 9.50]\n",
        "areas_1 = areas + ['poolhouse', 24.5]\n",
        "areas_2 = areas_1 + ['Garage', 15.5]\n",
        "print(areas_2)"
      ],
      "metadata": {
        "colab": {
          "base_uri": "https://localhost:8080/"
        },
        "id": "FCxGpc7-AUT3",
        "outputId": "0c2b5571-a802-4b7a-b3ac-df925fcae176"
      },
      "execution_count": 10,
      "outputs": [
        {
          "output_type": "stream",
          "name": "stdout",
          "text": [
            "['hallway', 11.25, 'kitchen', 18.0, 'living room', 20.0, 'bedroom', 10.75, 'bathroom', 9.5, 'poolhouse', 24.5, 'Garage', 15.5]\n"
          ]
        }
      ]
    },
    {
      "cell_type": "markdown",
      "source": [
        "quest 9"
      ],
      "metadata": {
        "id": "7M1RbuZ6AXrU"
      }
    },
    {
      "cell_type": "code",
      "source": [
        "areas = [11.25, 18.0, 20.0, 10.75, 9.50]\n",
        "areas_copy = areas\n",
        "areas_copy[-1] = 5.0\n",
        "print(areas)"
      ],
      "metadata": {
        "colab": {
          "base_uri": "https://localhost:8080/"
        },
        "id": "cNMip75OBhof",
        "outputId": "aa40e128-4276-4d89-9dcc-66737ff02b95"
      },
      "execution_count": 12,
      "outputs": [
        {
          "output_type": "stream",
          "name": "stdout",
          "text": [
            "[11.25, 18.0, 20.0, 10.75, 5.0]\n"
          ]
        }
      ]
    },
    {
      "cell_type": "code",
      "source": [],
      "metadata": {
        "id": "zTSMKVhLCG4G"
      },
      "execution_count": null,
      "outputs": []
    }
  ]
}