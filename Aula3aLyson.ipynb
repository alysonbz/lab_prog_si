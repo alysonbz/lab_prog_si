{
  "nbformat": 4,
  "nbformat_minor": 0,
  "metadata": {
    "colab": {
      "provenance": [],
      "authorship_tag": "ABX9TyOJN+eRU3EfAoULWuv+RKaS",
      "include_colab_link": true
    },
    "kernelspec": {
      "name": "python3",
      "display_name": "Python 3"
    },
    "language_info": {
      "name": "python"
    }
  },
  "cells": [
    {
      "cell_type": "markdown",
      "metadata": {
        "id": "view-in-github",
        "colab_type": "text"
      },
      "source": [
        "<a href=\"https://colab.research.google.com/github/alysonbz/lab_prog_si/blob/camila_araujo/Aula3aLyson.ipynb\" target=\"_parent\"><img src=\"https://colab.research.google.com/assets/colab-badge.svg\" alt=\"Open In Colab\"/></a>"
      ]
    },
    {
      "cell_type": "code",
      "execution_count": 1,
      "metadata": {
        "id": "EoLWSg0981ap"
      },
      "outputs": [],
      "source": [
        "list_num =[2,1,5,10,5,20]\n",
        "\n",
        "def max_valor_list(list_num):\n",
        "    maior_valor = None\n",
        "    for numero in list_num:\n",
        "        if maior_valor == None:\n",
        "            maior_valor = numero\n",
        "        if numero > maior_valor:\n",
        "                maior_valor = numero\n",
        "    return maior_valor"
      ]
    },
    {
      "cell_type": "code",
      "source": [
        "print(max_valor_list(list_num))"
      ],
      "metadata": {
        "colab": {
          "base_uri": "https://localhost:8080/"
        },
        "id": "UGLoTuxSCUy9",
        "outputId": "37f223ca-bf0e-4732-9dc1-f835d094b1ed"
      },
      "execution_count": 2,
      "outputs": [
        {
          "output_type": "stream",
          "name": "stdout",
          "text": [
            "20\n"
          ]
        }
      ]
    },
    {
      "cell_type": "markdown",
      "source": [
        "Def cria uma função"
      ],
      "metadata": {
        "id": "YutzjeomFvcF"
      }
    },
    {
      "cell_type": "markdown",
      "source": [
        "faça uma função que retorne a quantidade de elementos de uma lista"
      ],
      "metadata": {
        "id": "kju8qvQNGlf1"
      }
    },
    {
      "cell_type": "code",
      "source": [
        "\n",
        "def quantidade_elementos_lista(lista):\n",
        "  quantidade_de_elementos = 0\n",
        "  for elemento in lista:\n",
        "    quantidade_de_elementos = quantidade_de_elementos + 1\n",
        "  return quantidade_de_elementos\n"
      ],
      "metadata": {
        "id": "x1TWgzZjBmpa"
      },
      "execution_count": 27,
      "outputs": []
    },
    {
      "cell_type": "code",
      "source": [
        "lista = [1,8,6,4,5]\n",
        "\n",
        "print(quantidade_elementos_lista(lista))"
      ],
      "metadata": {
        "colab": {
          "base_uri": "https://localhost:8080/"
        },
        "id": "JsHYIVl8HYTZ",
        "outputId": "4d67fa41-fb2b-4e2a-b56a-7f231af963f2"
      },
      "execution_count": 28,
      "outputs": [
        {
          "output_type": "stream",
          "name": "stdout",
          "text": [
            "5\n"
          ]
        }
      ]
    },
    {
      "cell_type": "markdown",
      "source": [
        "maior valor: função max()"
      ],
      "metadata": {
        "id": "QLjJ5DsRH4FN"
      }
    },
    {
      "cell_type": "code",
      "source": [
        "max(lista)"
      ],
      "metadata": {
        "colab": {
          "base_uri": "https://localhost:8080/"
        },
        "id": "38cZgDPKHxe1",
        "outputId": "96e42917-e7bd-419e-9fcb-fa4d84568432"
      },
      "execution_count": 11,
      "outputs": [
        {
          "output_type": "execute_result",
          "data": {
            "text/plain": [
              "8"
            ]
          },
          "metadata": {},
          "execution_count": 11
        }
      ]
    },
    {
      "cell_type": "markdown",
      "source": [
        "Arredondar"
      ],
      "metadata": {
        "id": "P5aTETCMIJHp"
      }
    },
    {
      "cell_type": "code",
      "source": [
        "round(2.8)"
      ],
      "metadata": {
        "colab": {
          "base_uri": "https://localhost:8080/"
        },
        "id": "hS5G2Q6cILxT",
        "outputId": "e4122aee-5450-4a21-c6f8-73283677e6ca"
      },
      "execution_count": 16,
      "outputs": [
        {
          "output_type": "execute_result",
          "data": {
            "text/plain": [
              "3"
            ]
          },
          "metadata": {},
          "execution_count": 16
        }
      ]
    },
    {
      "cell_type": "markdown",
      "source": [
        "quest 1"
      ],
      "metadata": {
        "id": "4o_oGNjaJ-6c"
      }
    },
    {
      "cell_type": "code",
      "source": [
        "var1 = [1,2,3,4]\n",
        "var2 = True\n",
        "\n",
        "print(type(var1))"
      ],
      "metadata": {
        "colab": {
          "base_uri": "https://localhost:8080/"
        },
        "id": "hm70qdQ9JUUk",
        "outputId": "1619cfb3-d6c5-4942-8846-45f7fc0adfdd"
      },
      "execution_count": 34,
      "outputs": [
        {
          "output_type": "stream",
          "name": "stdout",
          "text": [
            "<class 'list'>\n"
          ]
        }
      ]
    },
    {
      "cell_type": "markdown",
      "source": [
        "quest 2"
      ],
      "metadata": {
        "id": "0xBX4r-JKBY1"
      }
    },
    {
      "cell_type": "code",
      "source": [
        "print(len(var1))"
      ],
      "metadata": {
        "colab": {
          "base_uri": "https://localhost:8080/"
        },
        "id": "P8uh1on8KCd7",
        "outputId": "0a7d7c62-a1ae-4426-edd6-beb64acf9096"
      },
      "execution_count": 33,
      "outputs": [
        {
          "output_type": "stream",
          "name": "stdout",
          "text": [
            "4\n"
          ]
        }
      ]
    },
    {
      "cell_type": "markdown",
      "source": [
        "quest 3"
      ],
      "metadata": {
        "id": "-rq3tksJKKIK"
      }
    },
    {
      "cell_type": "code",
      "source": [
        "out2 = int(var2)\n",
        "print(out2)"
      ],
      "metadata": {
        "colab": {
          "base_uri": "https://localhost:8080/"
        },
        "id": "cA3ahwYVKLgu",
        "outputId": "8de8b186-29e7-4254-a6a6-05d45f8d844d"
      },
      "execution_count": 32,
      "outputs": [
        {
          "output_type": "stream",
          "name": "stdout",
          "text": [
            "1\n"
          ]
        }
      ]
    },
    {
      "cell_type": "markdown",
      "source": [
        "quest 4"
      ],
      "metadata": {
        "id": "w9stJYVCKUB5"
      }
    },
    {
      "cell_type": "code",
      "source": [
        "first = [11.25, 18.0, 20.0]\n",
        "second = [10.75, 9.50]\n",
        "\n",
        "full = first + second\n",
        "print(full)"
      ],
      "metadata": {
        "colab": {
          "base_uri": "https://localhost:8080/"
        },
        "id": "1RLO7PnqKXQX",
        "outputId": "ccd2293d-6f40-4b27-b562-d179b8cd37c4"
      },
      "execution_count": 36,
      "outputs": [
        {
          "output_type": "stream",
          "name": "stdout",
          "text": [
            "[11.25, 18.0, 20.0, 10.75, 9.5]\n"
          ]
        }
      ]
    },
    {
      "cell_type": "markdown",
      "source": [
        "quest 5"
      ],
      "metadata": {
        "id": "jVDO10klLVmr"
      }
    },
    {
      "cell_type": "code",
      "source": [
        "full_sorted = sorted(full)\n",
        "reverse = True"
      ],
      "metadata": {
        "id": "A9cnUgZhLUsE"
      },
      "execution_count": 39,
      "outputs": []
    },
    {
      "cell_type": "markdown",
      "source": [
        "quest 6"
      ],
      "metadata": {
        "id": "yfNIzeVJMDu4"
      }
    },
    {
      "cell_type": "code",
      "source": [
        "print(full_sorted)"
      ],
      "metadata": {
        "colab": {
          "base_uri": "https://localhost:8080/"
        },
        "id": "PKAJ8phZMDAo",
        "outputId": "bf3b9e08-fb84-4c09-f081-9553b5cf58c5"
      },
      "execution_count": 40,
      "outputs": [
        {
          "output_type": "stream",
          "name": "stdout",
          "text": [
            "[9.5, 10.75, 11.25, 18.0, 20.0]\n"
          ]
        }
      ]
    }
  ]
}