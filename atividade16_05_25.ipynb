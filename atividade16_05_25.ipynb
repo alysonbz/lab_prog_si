{
  "nbformat": 4,
  "nbformat_minor": 0,
  "metadata": {
    "colab": {
      "provenance": [],
      "authorship_tag": "ABX9TyO+WAR1JLjQl8d6IttZT5Qz",
      "include_colab_link": true
    },
    "kernelspec": {
      "name": "python3",
      "display_name": "Python 3"
    },
    "language_info": {
      "name": "python"
    }
  },
  "cells": [
    {
      "cell_type": "markdown",
      "metadata": {
        "id": "view-in-github",
        "colab_type": "text"
      },
      "source": [
        "<a href=\"https://colab.research.google.com/github/alysonbz/lab_prog_si/blob/kauan_lima/atividade16_05_25.ipynb\" target=\"_parent\"><img src=\"https://colab.research.google.com/assets/colab-badge.svg\" alt=\"Open In Colab\"/></a>"
      ]
    },
    {
      "cell_type": "markdown",
      "source": [
        "Questão 1"
      ],
      "metadata": {
        "id": "S1GFM5KUHjNw"
      }
    },
    {
      "cell_type": "code",
      "execution_count": 69,
      "metadata": {
        "colab": {
          "base_uri": "https://localhost:8080/"
        },
        "id": "bNgUYNAxGf6B",
        "outputId": "061ba15b-1e55-45d3-fd97-a8a67977f4a5"
      },
      "outputs": [
        {
          "output_type": "stream",
          "name": "stdout",
          "text": [
            "['hallway', 11.25, 'kitchen', 18.0, 'living room', 20.0, 'bedroom', 10.75, 'bathroom', 9.5]\n"
          ]
        }
      ],
      "source": [
        "\n",
        "hall=11.25\n",
        "kit=18.0\n",
        "liv=20.0\n",
        "bed=10.75\n",
        "bath=9.50\n",
        "areas=['hallway', hall, 'kitchen',kit, 'living room', liv, 'bedroom', bed, 'bathroom', bath]\n",
        "print(areas)"
      ]
    },
    {
      "cell_type": "markdown",
      "source": [
        "Questão 2\n",
        "\n",
        "A e B estão corretos"
      ],
      "metadata": {
        "id": "p-o9FXbDIig7"
      }
    },
    {
      "cell_type": "code",
      "source": [
        "a=[1, 2, 3, 4]\n",
        "b=[5, 6, 7, 8]\n",
        "print(a)\n",
        "print(b)"
      ],
      "metadata": {
        "colab": {
          "base_uri": "https://localhost:8080/"
        },
        "id": "t3ZP01stIkBz",
        "outputId": "5ed5afc0-6999-4c2c-8a12-29ad96311d04"
      },
      "execution_count": null,
      "outputs": [
        {
          "output_type": "stream",
          "name": "stdout",
          "text": [
            "[1, 2, 3, 4]\n",
            "[5, 6, 7, 8]\n"
          ]
        }
      ]
    },
    {
      "cell_type": "markdown",
      "source": [
        "Questão 3"
      ],
      "metadata": {
        "id": "xNpjpZiIHhng"
      }
    },
    {
      "cell_type": "code",
      "source": [
        "house = [['hallway', hall],\n",
        "       ['kitchen', kit],\n",
        "      ['living room', liv],\n",
        "      ['bedroom', bed],\n",
        "         ['bathroom', bath]]\n",
        "print(house)\n",
        "print(type(house))"
      ],
      "metadata": {
        "colab": {
          "base_uri": "https://localhost:8080/"
        },
        "id": "OShPHRXHIJiG",
        "outputId": "efeaaae6-92b1-47a9-d9a1-7ebf9cb19e0f"
      },
      "execution_count": null,
      "outputs": [
        {
          "output_type": "stream",
          "name": "stdout",
          "text": [
            "[['hallway', 11.25], ['kitchen', 18.0], ['living room', 20.0], ['bedroom', 10.75], ['bathroom', 9.5]]\n",
            "<class 'list'>\n"
          ]
        }
      ]
    },
    {
      "cell_type": "markdown",
      "source": [
        "Questão 4"
      ],
      "metadata": {
        "id": "Btu8U_vpL7_h"
      }
    },
    {
      "cell_type": "code",
      "source": [
        "areas[1]"
      ],
      "metadata": {
        "colab": {
          "base_uri": "https://localhost:8080/"
        },
        "id": "Gopc5aeYL-Rn",
        "outputId": "95024b14-b086-44a0-ba46-e9324b375863"
      },
      "execution_count": null,
      "outputs": [
        {
          "output_type": "execute_result",
          "data": {
            "text/plain": [
              "11.25"
            ]
          },
          "metadata": {},
          "execution_count": 13
        }
      ]
    },
    {
      "cell_type": "code",
      "source": [
        "areas[-1]"
      ],
      "metadata": {
        "colab": {
          "base_uri": "https://localhost:8080/"
        },
        "id": "DE8aNnMuMg66",
        "outputId": "ae59a9c5-767f-4012-bbc2-73a255247252"
      },
      "execution_count": null,
      "outputs": [
        {
          "output_type": "execute_result",
          "data": {
            "text/plain": [
              "9.5"
            ]
          },
          "metadata": {},
          "execution_count": 14
        }
      ]
    },
    {
      "cell_type": "code",
      "source": [
        "areas[5]"
      ],
      "metadata": {
        "colab": {
          "base_uri": "https://localhost:8080/"
        },
        "id": "Np9Niw3ZMqtt",
        "outputId": "cf324345-6ada-4042-c0fd-74f8ec5330d5"
      },
      "execution_count": null,
      "outputs": [
        {
          "output_type": "execute_result",
          "data": {
            "text/plain": [
              "20.0"
            ]
          },
          "metadata": {},
          "execution_count": 15
        }
      ]
    },
    {
      "cell_type": "markdown",
      "source": [
        "Questão 5"
      ],
      "metadata": {
        "id": "lhJOCf2xM2fa"
      }
    },
    {
      "cell_type": "code",
      "source": [
        "areas[3+5]\n",
        "eat_sleep_area = areas[3]+areas[5]\n",
        "print(eat_sleep_area)"
      ],
      "metadata": {
        "colab": {
          "base_uri": "https://localhost:8080/"
        },
        "id": "6Vyk6k-KNJLm",
        "outputId": "e8482fe3-75e0-4409-c51d-984e3ba7595d"
      },
      "execution_count": null,
      "outputs": [
        {
          "output_type": "stream",
          "name": "stdout",
          "text": [
            "38.0\n"
          ]
        }
      ]
    },
    {
      "cell_type": "markdown",
      "source": [
        "Questão 6"
      ],
      "metadata": {
        "id": "dus_3PBUOJyI"
      }
    },
    {
      "cell_type": "code",
      "source": [
        "downstairs=areas[:6]\n",
        "upstairs=areas[6:]\n",
        "print(downstairs)\n",
        "print(upstairs)\n"
      ],
      "metadata": {
        "colab": {
          "base_uri": "https://localhost:8080/"
        },
        "id": "RgsA6C4mOLk3",
        "outputId": "6118bc8b-a475-4290-8c59-13629c21a110"
      },
      "execution_count": null,
      "outputs": [
        {
          "output_type": "stream",
          "name": "stdout",
          "text": [
            "['hallway', 11.25, 'kitchen', 18.0, 'living', 20.0]\n",
            "['bedroom', 10.75, 'bathroom', 9.5]\n"
          ]
        }
      ]
    },
    {
      "cell_type": "markdown",
      "source": [
        "Questão 7"
      ],
      "metadata": {
        "id": "7_x0UgJ8yKvk"
      }
    },
    {
      "cell_type": "code",
      "execution_count": 70,
      "metadata": {
        "colab": {
          "base_uri": "https://localhost:8080/"
        },
        "outputId": "58c3465c-88d0-4771-b117-faf3c4e92321",
        "id": "8rh6KzKh0h-j"
      },
      "outputs": [
        {
          "output_type": "stream",
          "name": "stdout",
          "text": [
            "['hallway', 11.25, 'kitchen', 18.0, 'living room', 20.0, 'bedroom', 10.75, 'bathroom', '10.50']\n"
          ]
        }
      ],
      "source": [
        "areas_copy=list(areas)\n",
        "areas_copy[9]='10.50'\n",
        "print(areas_copy)"
      ]
    },
    {
      "cell_type": "markdown",
      "source": [
        "Questão 7.1"
      ],
      "metadata": {
        "id": "8Yao8Z2p7wbz"
      }
    },
    {
      "cell_type": "code",
      "source": [
        "areas_copy2=list(areas)\n",
        "areas_copy2[4]='chill zone'\n",
        "print(areas_copy2)"
      ],
      "metadata": {
        "colab": {
          "base_uri": "https://localhost:8080/"
        },
        "id": "nj4eqCJr7ydD",
        "outputId": "b1894922-8a91-4a30-b5b1-e45da8c02b87"
      },
      "execution_count": 71,
      "outputs": [
        {
          "output_type": "stream",
          "name": "stdout",
          "text": [
            "['hallway', 11.25, 'kitchen', 18.0, 'chill zone', 20.0, 'bedroom', 10.75, 'bathroom', 9.5]\n"
          ]
        }
      ]
    },
    {
      "cell_type": "markdown",
      "source": [
        "Questão 8"
      ],
      "metadata": {
        "id": "8AjLcKQn1Gze"
      }
    },
    {
      "cell_type": "code",
      "execution_count": 55,
      "metadata": {
        "colab": {
          "base_uri": "https://localhost:8080/"
        },
        "outputId": "244d514d-8af8-407c-87a5-6c207490fd7a",
        "id": "fk0n3DVl2RHm"
      },
      "outputs": [
        {
          "output_type": "stream",
          "name": "stdout",
          "text": [
            "['hallway', 11.25, 'kitchen', 18.0, 'living room', 20.0, 'bedroom', 10.75, 'bathroom', 9.5, 'poolhouse', 24.5]\n",
            "['hallway', 11.25, 'kitchen', 18.0, 'living room', 20.0, 'bedroom', 10.75, 'bathroom', 9.5, 'poolhouse', 24.5, 'garage', 15.45]\n"
          ]
        }
      ],
      "source": [
        "areas1=areas+['poolhouse', 24.5]\n",
        "print(areas1)\n",
        "#questão 8.1\n",
        "areas2=areas1+['garage', 15.45]\n",
        "#questão 8.2\n",
        "print(areas2)"
      ]
    },
    {
      "cell_type": "markdown",
      "source": [
        "Questão 9"
      ],
      "metadata": {
        "id": "lpSRffqg5ZM7"
      }
    },
    {
      "cell_type": "code",
      "source": [
        "areas9=[11.25, 18.0, 20.0, 10.75, 9.50]\n",
        "areas_copy9=areas.copy()\n",
        "areas_copy9[0]=5.0\n",
        "print(areas_copy9)\n",
        "print(areas9)"
      ],
      "metadata": {
        "colab": {
          "base_uri": "https://localhost:8080/"
        },
        "id": "NYV9y7XJ-1xI",
        "outputId": "b42d0b4f-f0e3-4800-bca3-dfe8fe81281b"
      },
      "execution_count": 63,
      "outputs": [
        {
          "output_type": "stream",
          "name": "stdout",
          "text": [
            "[5.0, 18.0, 20.0, 10.75, 9.5]\n",
            "[11.25, 18.0, 20.0, 10.75, 9.5]\n"
          ]
        }
      ]
    }
  ]
}