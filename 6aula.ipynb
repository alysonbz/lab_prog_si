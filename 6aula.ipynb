{
  "nbformat": 4,
  "nbformat_minor": 0,
  "metadata": {
    "colab": {
      "provenance": [],
      "authorship_tag": "ABX9TyOs02lkSqN6Q7LrykWm7Q4E",
      "include_colab_link": true
    },
    "kernelspec": {
      "name": "python3",
      "display_name": "Python 3"
    },
    "language_info": {
      "name": "python"
    }
  },
  "cells": [
    {
      "cell_type": "markdown",
      "metadata": {
        "id": "view-in-github",
        "colab_type": "text"
      },
      "source": [
        "<a href=\"https://colab.research.google.com/github/alysonbz/lab_prog_si/blob/Kemilly_Mota/6aula.ipynb\" target=\"_parent\"><img src=\"https://colab.research.google.com/assets/colab-badge.svg\" alt=\"Open In Colab\"/></a>"
      ]
    },
    {
      "cell_type": "code",
      "execution_count": null,
      "metadata": {
        "id": "GeaavoyuUpQN"
      },
      "outputs": [],
      "source": [
        "import random as rd\n",
        "import numpy as np\n",
        "\n",
        "#geração de números entre 150 e 209\n",
        "height = range(150,210)\n",
        "\n",
        "#geração de número entre 50 e 149\n",
        "weight = range(50,150)\n"
      ]
    },
    {
      "cell_type": "code",
      "source": [
        "#amostra randomica de 20 números de height\n",
        "height = rd.sample(height,20)\n",
        "\n",
        "#amostra ramdomica de 20 números de weight\n",
        "weight = rd.sample(weight,20)"
      ],
      "metadata": {
        "id": "HDCvHB1QUwQH"
      },
      "execution_count": null,
      "outputs": []
    },
    {
      "cell_type": "code",
      "source": [
        "#covertendo height em array e normalizando, fazendo a multiplicação por 0.01\n",
        "height_array = np.array(height)*0.01\n",
        "weight_array = np.array(weight)\n",
        "print(height_array)\n",
        "print(weight_array)"
      ],
      "metadata": {
        "colab": {
          "base_uri": "https://localhost:8080/"
        },
        "id": "Pa6DqElCUy7R",
        "outputId": "77cc0b31-d565-4e1d-937d-84de64d942aa"
      },
      "execution_count": null,
      "outputs": [
        {
          "output_type": "stream",
          "name": "stdout",
          "text": [
            "[1.63 1.56 2.03 1.52 1.53 2.08 1.9  1.99 1.72 1.5  1.96 1.81 1.75 1.64\n",
            " 1.6  1.57 1.97 1.93 2.05 2.02]\n",
            "[ 74 108  89  56 146 134 121 120 133 125  63  76  69  87  50  79 104 102\n",
            " 109  54]\n"
          ]
        }
      ]
    },
    {
      "cell_type": "code",
      "source": [
        "#cálculo do BMI\n",
        "bmi = weight_array / height_array**2\n",
        "bmi"
      ],
      "metadata": {
        "colab": {
          "base_uri": "https://localhost:8080/"
        },
        "id": "1vr7rnp2VISY",
        "outputId": "3523859c-9979-461d-dbfc-a3d2ffa308b4"
      },
      "execution_count": null,
      "outputs": [
        {
          "output_type": "execute_result",
          "data": {
            "text/plain": [
              "array([27.85200798, 44.37869822, 21.59722391, 24.23822715, 62.36917425,\n",
              "       30.97263314, 33.51800554, 30.30226509, 44.95673337, 55.55555556,\n",
              "       16.39941691, 23.19831507, 22.53061224, 32.34681737, 19.53125   ,\n",
              "       32.04998174, 26.7979077 , 27.38328546, 25.9369423 , 13.23399667])"
            ]
          },
          "metadata": {},
          "execution_count": 22
        }
      ]
    },
    {
      "cell_type": "code",
      "source": [
        "#verificação onde bmi é menor que 21\n",
        "light = bmi < 21\n",
        "light"
      ],
      "metadata": {
        "colab": {
          "base_uri": "https://localhost:8080/"
        },
        "id": "BAxKHNpXVMPW",
        "outputId": "7029c744-be33-4638-8848-42f9ebe2ec70"
      },
      "execution_count": null,
      "outputs": [
        {
          "output_type": "execute_result",
          "data": {
            "text/plain": [
              "array([False, False, False, False, False, False, False, False, False,\n",
              "       False,  True, False, False, False,  True, False, False, False,\n",
              "       False,  True])"
            ]
          },
          "metadata": {},
          "execution_count": 23
        }
      ]
    },
    {
      "cell_type": "code",
      "source": [
        "#exibição dos valores de bmi com valor menor que 21\n",
        "print(bmi[light])"
      ],
      "metadata": {
        "colab": {
          "base_uri": "https://localhost:8080/"
        },
        "id": "l239WEBVV6BH",
        "outputId": "9c026e8f-c5d9-4215-a239-122638dc3518"
      },
      "execution_count": null,
      "outputs": [
        {
          "output_type": "stream",
          "name": "stdout",
          "text": [
            "[16.39941691 19.53125    13.23399667]\n"
          ]
        }
      ]
    },
    {
      "cell_type": "code",
      "source": [
        "#print os elementos de weight_array do index 8 até o index 15, incluindo o index 15\n",
        "print(weight_array[8:16])"
      ],
      "metadata": {
        "colab": {
          "base_uri": "https://localhost:8080/"
        },
        "id": "dQyFOuluX2TR",
        "outputId": "cf01b8b2-5610-4ca8-d851-87facc6308a4"
      },
      "execution_count": null,
      "outputs": [
        {
          "output_type": "stream",
          "name": "stdout",
          "text": [
            "[133 125  63  76  69  87  50  79]\n"
          ]
        }
      ]
    },
    {
      "cell_type": "code",
      "source": [
        "#print os elementos do height_array doo index 11 até o index 19,  incluindo o index 19\n",
        "print(height_array[11:20])"
      ],
      "metadata": {
        "colab": {
          "base_uri": "https://localhost:8080/"
        },
        "id": "Nsw7o49HYJI-",
        "outputId": "1fa910e8-67fa-482e-df34-95621bc63c3f"
      },
      "execution_count": null,
      "outputs": [
        {
          "output_type": "stream",
          "name": "stdout",
          "text": [
            "[1.81 1.75 1.64 1.6  1.57 1.97 1.93 2.05 2.02]\n"
          ]
        }
      ]
    }
  ]
}