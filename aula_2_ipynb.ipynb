{
  "nbformat": 4,
  "nbformat_minor": 0,
  "metadata": {
    "colab": {
      "provenance": [],
      "authorship_tag": "ABX9TyNpfKLnInDEynlEwtDLfWCn",
      "include_colab_link": true
    },
    "kernelspec": {
      "name": "python3",
      "display_name": "Python 3"
    },
    "language_info": {
      "name": "python"
    }
  },
  "cells": [
    {
      "cell_type": "markdown",
      "metadata": {
        "id": "view-in-github",
        "colab_type": "text"
      },
      "source": [
        "<a href=\"https://colab.research.google.com/github/alysonbz/lab_prog_si/blob/levi_nascimento/aula_2_ipynb.ipynb\" target=\"_parent\"><img src=\"https://colab.research.google.com/assets/colab-badge.svg\" alt=\"Open In Colab\"/></a>"
      ]
    },
    {
      "cell_type": "markdown",
      "source": [
        "Lista"
      ],
      "metadata": {
        "id": "rWvEN1wx970S"
      }
    },
    {
      "cell_type": "code",
      "execution_count": 2,
      "metadata": {
        "colab": {
          "base_uri": "https://localhost:8080/"
        },
        "id": "l88xQgXIxytE",
        "outputId": "205164c3-05df-46fd-d0d2-c1c1b65b6c1b"
      },
      "outputs": [
        {
          "output_type": "stream",
          "name": "stdout",
          "text": [
            "[1.73, 1.68, 1.71, 1.89]\n"
          ]
        }
      ],
      "source": [
        "#conjunto de Lista\n",
        "fam = [1.73, 1.68, 1.71, 1.89]\n",
        "print(fam)"
      ]
    },
    {
      "cell_type": "code",
      "source": [
        "[1.73, 1.68, 1.71, 1.89]"
      ],
      "metadata": {
        "colab": {
          "base_uri": "https://localhost:8080/"
        },
        "id": "zmNd4LWOzDXU",
        "outputId": "1ee8dde0-ed4f-411f-c256-9db8850fee5f"
      },
      "execution_count": 3,
      "outputs": [
        {
          "output_type": "execute_result",
          "data": {
            "text/plain": [
              "[1.73, 1.68, 1.71, 1.89]"
            ]
          },
          "metadata": {},
          "execution_count": 3
        }
      ]
    },
    {
      "cell_type": "code",
      "source": [
        "fam = [\"Liz\", 1.73, \"emma\", 1.68, \"mom\", 1.71, \"dad\", 1.89]\n",
        "fam"
      ],
      "metadata": {
        "colab": {
          "base_uri": "https://localhost:8080/"
        },
        "id": "QCiLBlfPzZ0Z",
        "outputId": "40ceca0f-45db-4187-b089-9b328bf1a87f"
      },
      "execution_count": 4,
      "outputs": [
        {
          "output_type": "execute_result",
          "data": {
            "text/plain": [
              "['Liz', 1.73, 'emma', 1.68, 'mom', 1.71, 'dad', 1.89]"
            ]
          },
          "metadata": {},
          "execution_count": 4
        }
      ]
    },
    {
      "cell_type": "markdown",
      "source": [
        "Trabalhando com as listas"
      ],
      "metadata": {
        "id": "cXGhmM4k8eAH"
      }
    },
    {
      "cell_type": "code",
      "source": [
        "alunos = [\"Levi\", \"kemilly\", \"Laísa\"]\n",
        "#.append função que adiciona um item ao final da lista\n",
        "print(type(alunos))\n"
      ],
      "metadata": {
        "colab": {
          "base_uri": "https://localhost:8080/"
        },
        "id": "VlXVIJDP7IuY",
        "outputId": "09650e29-55e2-417f-cb80-6464644fb4b2"
      },
      "execution_count": 13,
      "outputs": [
        {
          "output_type": "stream",
          "name": "stdout",
          "text": [
            "<class 'list'>\n"
          ]
        }
      ]
    },
    {
      "cell_type": "code",
      "source": [
        "alunos.append(\"Douglas\")"
      ],
      "metadata": {
        "id": "SF-Qo8187wNn"
      },
      "execution_count": 15,
      "outputs": []
    },
    {
      "cell_type": "code",
      "source": [
        "alunos"
      ],
      "metadata": {
        "colab": {
          "base_uri": "https://localhost:8080/"
        },
        "id": "Jx5VbiOu7bjp",
        "outputId": "7af6ca92-c753-41ea-edc0-b47ab91684ad"
      },
      "execution_count": 16,
      "outputs": [
        {
          "output_type": "execute_result",
          "data": {
            "text/plain": [
              "['Levi', 'kemilly', 'Laísa', 'Douglas']"
            ]
          },
          "metadata": {},
          "execution_count": 16
        }
      ]
    },
    {
      "cell_type": "markdown",
      "source": [
        "Adiconar Lista dentro de Lista"
      ],
      "metadata": {
        "id": "cc4Hu4Tp770A"
      }
    },
    {
      "cell_type": "code",
      "source": [
        "alunoss_com_notas = [[\"Levi\", 9.0],[\"Kemilly\", 8.5],[\"Laísa\",8],[\"Marcos\",9.5]]\n",
        "alunoss_com_notas"
      ],
      "metadata": {
        "colab": {
          "base_uri": "https://localhost:8080/"
        },
        "id": "sbcR5plj76qh",
        "outputId": "c7b58fa3-d680-450b-8066-dc73df82a722"
      },
      "execution_count": 17,
      "outputs": [
        {
          "output_type": "execute_result",
          "data": {
            "text/plain": [
              "[['Levi', 9.0], ['Kemilly', 8.5], ['Laísa', 8], ['Marcos', 9.5]]"
            ]
          },
          "metadata": {},
          "execution_count": 17
        }
      ]
    },
    {
      "cell_type": "markdown",
      "source": [
        "Acessando Elementos dentro da Lista"
      ],
      "metadata": {
        "id": "9Gpc8bU7-DeK"
      }
    },
    {
      "cell_type": "code",
      "source": [
        "fam2 = [[\"Liz\", 1.73],\n",
        "        [\"emaa\", 1.68],\n",
        "        [\"mom\", 1.71],\n",
        "        [\"dad\", 1.89]]\n",
        "fam2\n"
      ],
      "metadata": {
        "colab": {
          "base_uri": "https://localhost:8080/"
        },
        "id": "annfnU-Vz1Hp",
        "outputId": "40059878-024c-4a45-8aff-97a6427ad5da"
      },
      "execution_count": 6,
      "outputs": [
        {
          "output_type": "execute_result",
          "data": {
            "text/plain": [
              "[['Liz', 1.73], ['emaa', 1.68], ['mom', 1.71], ['dad', 1.89]]"
            ]
          },
          "metadata": {},
          "execution_count": 6
        }
      ]
    },
    {
      "cell_type": "code",
      "source": [
        "print(type(fam))\n",
        "print(type(fam2))"
      ],
      "metadata": {
        "colab": {
          "base_uri": "https://localhost:8080/"
        },
        "id": "W1CkQmsV0sQ2",
        "outputId": "f1ccae93-8a24-468a-b061-5b2f5401755b"
      },
      "execution_count": 8,
      "outputs": [
        {
          "output_type": "stream",
          "name": "stdout",
          "text": [
            "<class 'list'>\n",
            "<class 'list'>\n"
          ]
        }
      ]
    },
    {
      "cell_type": "markdown",
      "source": [
        "PRÁTIQUE"
      ],
      "metadata": {
        "id": "-mSZZFoU09P3"
      }
    },
    {
      "cell_type": "code",
      "source": [
        "hall = 11.25\n",
        "kit = 18.0\n",
        "liv = 20.0\n",
        "bed = 10.75\n",
        "bath = 9.50\n",
        "#quando coloca [] entende-se como uma lista\n",
        "fam = [[\"hall\", hall],\n",
        "       [\"kit\", kit],\n",
        "       [\"liv\", liv],\n",
        "       [\"bed\", bed],\n",
        "       [\"bath\", bath]]\n",
        "fam"
      ],
      "metadata": {
        "colab": {
          "base_uri": "https://localhost:8080/"
        },
        "id": "-UvNSXvn0_yV",
        "outputId": "25db602e-9fba-4b1b-a199-8311095ef50c"
      },
      "execution_count": 9,
      "outputs": [
        {
          "output_type": "execute_result",
          "data": {
            "text/plain": [
              "[['hall', 11.25], ['kit', 18.0], ['liv', 20.0], ['bed', 10.75], ['bath', 9.5]]"
            ]
          },
          "metadata": {},
          "execution_count": 9
        }
      ]
    },
    {
      "cell_type": "code",
      "source": [
        "hall = 11.25\n",
        "kit = 18.0\n",
        "liv = 20.0\n",
        "bed = 10.75\n",
        "bath = 9.50\n",
        "\n",
        "areas = [\"hallway\", hall,\"kitchen\", kit,\"living room\", liv,\"bedrrom\", bed,\"bathroom\",  bath]\n",
        "\n",
        "areas"
      ],
      "metadata": {
        "colab": {
          "base_uri": "https://localhost:8080/"
        },
        "id": "PjcNRdLM2BqA",
        "outputId": "1296f621-4f27-454e-efad-3726320021ce"
      },
      "execution_count": 12,
      "outputs": [
        {
          "output_type": "execute_result",
          "data": {
            "text/plain": [
              "['hallway',\n",
              " 11.25,\n",
              " 'kitchen',\n",
              " 18.0,\n",
              " 'living room',\n",
              " 20.0,\n",
              " 'bedrrom',\n",
              " 10.75,\n",
              " 'bathroom',\n",
              " 9.5]"
            ]
          },
          "metadata": {},
          "execution_count": 12
        }
      ]
    }
  ]
}