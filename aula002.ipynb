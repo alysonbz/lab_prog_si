{
  "nbformat": 4,
  "nbformat_minor": 0,
  "metadata": {
    "colab": {
      "provenance": [],
      "authorship_tag": "ABX9TyOhXoiIaNspHwIW2Z7uTZW5",
      "include_colab_link": true
    },
    "kernelspec": {
      "name": "python3",
      "display_name": "Python 3"
    },
    "language_info": {
      "name": "python"
    }
  },
  "cells": [
    {
      "cell_type": "markdown",
      "metadata": {
        "id": "view-in-github",
        "colab_type": "text"
      },
      "source": [
        "<a href=\"https://colab.research.google.com/github/alysonbz/lab_prog_si/blob/hugo_alexandre/aula002.ipynb\" target=\"_parent\"><img src=\"https://colab.research.google.com/assets/colab-badge.svg\" alt=\"Open In Colab\"/></a>"
      ]
    },
    {
      "cell_type": "code",
      "execution_count": null,
      "metadata": {
        "colab": {
          "base_uri": "https://localhost:8080/"
        },
        "id": "bvgAq0nL74WT",
        "outputId": "921b563c-415f-4533-858c-943b06357b6a"
      },
      "outputs": [
        {
          "output_type": "stream",
          "name": "stdout",
          "text": [
            "['Melânia', 'Edu', 'Hugo']\n"
          ]
        }
      ],
      "source": [
        "alunos =  ['Melânia', 'Edu', 'Hugo']\n",
        "print(alunos)"
      ]
    },
    {
      "cell_type": "code",
      "source": [
        "aluno_notas = [['Melânia',2], ['Edu',3],['Hugo',10]]\n",
        "print(aluno_notas)"
      ],
      "metadata": {
        "colab": {
          "base_uri": "https://localhost:8080/"
        },
        "id": "3dHo6nJY9S0H",
        "outputId": "12ed834e-13b6-484b-95ec-2c6844651ff8"
      },
      "execution_count": null,
      "outputs": [
        {
          "output_type": "stream",
          "name": "stdout",
          "text": [
            "[['Melânia', 2], ['Edu', 3], ['Hugo', 10]]\n"
          ]
        }
      ]
    }
  ]
}