{
  "nbformat": 4,
  "nbformat_minor": 0,
  "metadata": {
    "colab": {
      "provenance": [],
      "authorship_tag": "ABX9TyMp0e4A1ddqJNdn/bkoI25x"
    },
    "kernelspec": {
      "name": "python3",
      "display_name": "Python 3"
    },
    "language_info": {
      "name": "python"
    }
  },
  "cells": [
    {
      "cell_type": "code",
      "execution_count": 2,
      "metadata": {
        "colab": {
          "base_uri": "https://localhost:8080/"
        },
        "id": "bvgAq0nL74WT",
        "outputId": "921b563c-415f-4533-858c-943b06357b6a"
      },
      "outputs": [
        {
          "output_type": "stream",
          "name": "stdout",
          "text": [
            "['Melânia', 'Edu', 'Hugo']\n"
          ]
        }
      ],
      "source": [
        "alunos =  ['Melânia', 'Edu', 'Hugo']\n",
        "print(alunos)\n"
      ]
    },
    {
      "cell_type": "code",
      "source": [
        "aluno_notas = [['Melânia',2], ['Edu',3],['Hugo',10]]\n",
        "print(aluno_notas)"
      ],
      "metadata": {
        "colab": {
          "base_uri": "https://localhost:8080/"
        },
        "id": "3dHo6nJY9S0H",
        "outputId": "12ed834e-13b6-484b-95ec-2c6844651ff8"
      },
      "execution_count": 7,
      "outputs": [
        {
          "output_type": "stream",
          "name": "stdout",
          "text": [
            "[['Melânia', 2], ['Edu', 3], ['Hugo', 10]]\n"
          ]
        }
      ]
    }
  ]
}