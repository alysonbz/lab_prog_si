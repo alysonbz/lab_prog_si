{
  "nbformat": 4,
  "nbformat_minor": 0,
  "metadata": {
    "colab": {
      "provenance": [],
      "authorship_tag": "ABX9TyNyJ3Fy/VPVrs2p2PSUPnEP",
      "include_colab_link": true
    },
    "kernelspec": {
      "name": "python3",
      "display_name": "Python 3"
    },
    "language_info": {
      "name": "python"
    }
  },
  "cells": [
    {
      "cell_type": "markdown",
      "metadata": {
        "id": "view-in-github",
        "colab_type": "text"
      },
      "source": [
        "<a href=\"https://colab.research.google.com/github/alysonbz/lab_prog_si/blob/saulo_brito/Atividade_dia_29.ipynb\" target=\"_parent\"><img src=\"https://colab.research.google.com/assets/colab-badge.svg\" alt=\"Open In Colab\"/></a>"
      ]
    },
    {
      "cell_type": "code",
      "execution_count": null,
      "metadata": {
        "id": "ehzCIqqtUYyH"
      },
      "outputs": [],
      "source": [
        "place = \"poolhouse\""
      ]
    },
    {
      "cell_type": "code",
      "source": [
        "place_up = place.upper()"
      ],
      "metadata": {
        "id": "26IamIYYVQPn"
      },
      "execution_count": null,
      "outputs": []
    },
    {
      "cell_type": "code",
      "source": [
        "print(place)"
      ],
      "metadata": {
        "colab": {
          "base_uri": "https://localhost:8080/"
        },
        "id": "sVdLF_YeVXMX",
        "outputId": "d1e95092-63c7-4447-ba55-d1f13d2c26a1"
      },
      "execution_count": null,
      "outputs": [
        {
          "output_type": "stream",
          "name": "stdout",
          "text": [
            "poolhouse\n"
          ]
        }
      ]
    },
    {
      "cell_type": "code",
      "source": [
        "print(place_up)"
      ],
      "metadata": {
        "colab": {
          "base_uri": "https://localhost:8080/"
        },
        "id": "voKwLTVnVhEF",
        "outputId": "15a2411b-e156-45dd-f307-31275591e1fc"
      },
      "execution_count": null,
      "outputs": [
        {
          "output_type": "stream",
          "name": "stdout",
          "text": [
            "POOLHOUSE\n"
          ]
        }
      ]
    },
    {
      "cell_type": "code",
      "source": [
        "count_o = place.count(\"o\")"
      ],
      "metadata": {
        "id": "LTxUv2ygVuqG"
      },
      "execution_count": null,
      "outputs": []
    },
    {
      "cell_type": "code",
      "source": [
        "print(f\"A letra 'o' aparece {count_o} vez(es) em '{place}'.\")"
      ],
      "metadata": {
        "colab": {
          "base_uri": "https://localhost:8080/"
        },
        "id": "L8mJt6UGVzKM",
        "outputId": "12ecb67d-700e-45c7-e3d7-b83ac389333a"
      },
      "execution_count": null,
      "outputs": [
        {
          "output_type": "stream",
          "name": "stdout",
          "text": [
            "A letra 'o' aparece 3 vez(es) em 'poolhouse'.\n"
          ]
        }
      ]
    },
    {
      "cell_type": "code",
      "source": [
        "#---------------------------------------------------------"
      ],
      "metadata": {
        "id": "vERNC_TxXA5_"
      },
      "execution_count": null,
      "outputs": []
    },
    {
      "cell_type": "code",
      "source": [
        "areas = [11.25, 18.0, 20.0, 10.75, 9.50]"
      ],
      "metadata": {
        "id": "lLGkCJwjXDP_"
      },
      "execution_count": null,
      "outputs": []
    },
    {
      "cell_type": "code",
      "source": [
        "print(areas.index(20.0))"
      ],
      "metadata": {
        "colab": {
          "base_uri": "https://localhost:8080/"
        },
        "id": "AO3ACel-Xd6w",
        "outputId": "04512123-d0c5-44d9-bbf1-92c03c35a413"
      },
      "execution_count": null,
      "outputs": [
        {
          "output_type": "stream",
          "name": "stdout",
          "text": [
            "2\n"
          ]
        }
      ]
    },
    {
      "cell_type": "code",
      "source": [
        "print(areas.count(9.50))"
      ],
      "metadata": {
        "colab": {
          "base_uri": "https://localhost:8080/"
        },
        "id": "ND6CTMcDXqrW",
        "outputId": "0d04d8ed-8b8b-4ab5-f707-c1ee96cbaae4"
      },
      "execution_count": null,
      "outputs": [
        {
          "output_type": "stream",
          "name": "stdout",
          "text": [
            "1\n"
          ]
        }
      ]
    },
    {
      "cell_type": "code",
      "source": [
        "#------------------------------------------------------------"
      ],
      "metadata": {
        "id": "x-wXkH9CX2ll"
      },
      "execution_count": null,
      "outputs": []
    },
    {
      "cell_type": "code",
      "source": [
        "areas.append(24.5)\n",
        "areas.append(15.25)"
      ],
      "metadata": {
        "id": "6qzPLFHLX8uk"
      },
      "execution_count": null,
      "outputs": []
    },
    {
      "cell_type": "code",
      "source": [
        "print(areas)"
      ],
      "metadata": {
        "colab": {
          "base_uri": "https://localhost:8080/"
        },
        "id": "YYaNlOkxYnp1",
        "outputId": "672135b0-12fb-4a69-d1ce-27b741ae339a"
      },
      "execution_count": null,
      "outputs": [
        {
          "output_type": "stream",
          "name": "stdout",
          "text": [
            "[11.25, 18.0, 20.0, 10.75, 9.5, 24.5, 24.5, 15.25]\n"
          ]
        }
      ]
    },
    {
      "cell_type": "code",
      "source": [
        "areas.reverse()"
      ],
      "metadata": {
        "id": "tGskh1d2Yv3_"
      },
      "execution_count": null,
      "outputs": []
    },
    {
      "cell_type": "code",
      "source": [
        "print(areas)"
      ],
      "metadata": {
        "colab": {
          "base_uri": "https://localhost:8080/"
        },
        "id": "H02_eqa-Y0AJ",
        "outputId": "1d4f0262-527b-41c1-c659-74f42213dd97"
      },
      "execution_count": null,
      "outputs": [
        {
          "output_type": "stream",
          "name": "stdout",
          "text": [
            "[15.25, 24.5, 24.5, 9.5, 10.75, 20.0, 18.0, 11.25]\n"
          ]
        }
      ]
    },
    {
      "cell_type": "code",
      "source": [
        "#------------------------------------------------------------------------------"
      ],
      "metadata": {
        "id": "WaaDUlOVY38H"
      },
      "execution_count": null,
      "outputs": []
    }
  ]
}