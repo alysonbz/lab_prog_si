{
  "nbformat": 4,
  "nbformat_minor": 0,
  "metadata": {
    "colab": {
      "provenance": [],
      "authorship_tag": "ABX9TyPQ82H1BQP0PZQEAjlIYyoo",
      "include_colab_link": true
    },
    "kernelspec": {
      "name": "python3",
      "display_name": "Python 3"
    },
    "language_info": {
      "name": "python"
    }
  },
  "cells": [
    {
      "cell_type": "markdown",
      "metadata": {
        "id": "view-in-github",
        "colab_type": "text"
      },
      "source": [
        "<a href=\"https://colab.research.google.com/github/alysonbz/lab_prog_si/blob/laisa_gomes/aula05.ipynb\" target=\"_parent\"><img src=\"https://colab.research.google.com/assets/colab-badge.svg\" alt=\"Open In Colab\"/></a>"
      ]
    },
    {
      "cell_type": "code",
      "execution_count": null,
      "metadata": {
        "colab": {
          "base_uri": "https://localhost:8080/"
        },
        "id": "8C-IWe--Vhi3",
        "outputId": "ad30640e-5667-4850-8abe-748ed83c3fe0"
      },
      "outputs": [
        {
          "output_type": "stream",
          "name": "stdout",
          "text": [
            "[180 215 210 210 188 176 209 200]\n",
            "<class 'numpy.ndarray'>\n",
            "(8,)\n"
          ]
        }
      ],
      "source": [
        "# Criar uma lista baseball\n",
        "\n",
        "baseball = [ 180, 215, 210, 210, 188, 176, 209, 200]\n",
        "\n",
        "import numpy as np\n",
        "\n",
        "np_baseball = np.array(baseball)\n",
        "print( np_baseball)\n",
        "\n",
        "# Mostrando o tipo\n",
        "print(type(np_baseball))\n",
        "\n",
        "# Mostrando as dimensões de np_baseball\n",
        "\n",
        "print(np_baseball.shape)"
      ]
    },
    {
      "cell_type": "code",
      "source": [
        "import random as rd\n",
        "import numpy as np\n",
        "\n",
        "# Geração de números entre 150 e 209\n",
        "height = range(150, 210)\n",
        "\n",
        "# Geração de números entre 50 e 149\n",
        "weight = range(50, 149)\n",
        "\n",
        "# Amostra  randomica de 20 numeros de height\n",
        "height_sample = rd.sample(height, 20)\n",
        "\n",
        "# Amostra  randomica de 20 numeros de weight\n",
        "weight_sample = rd.sample(weight, 20)\n",
        "\n",
        "# Converter height em array e normalizar multiplicando poe 0.01\n",
        "height_array = np.array(height_sample) * 0.01\n",
        "\n",
        "# Converter weight em array\n",
        "weight_array = np.array(weight_sample)\n",
        "\n",
        "# Cálculo do BMI\n",
        "bmi = weight_array / height_array ** 2\n",
        "\n",
        "print(bmi)\n",
        "\n",
        "# Verificação onde BMI é menor que 21\n",
        "light = bmi<21\n",
        "print(light)\n",
        "\n",
        "# Exibição dos valores de bmi com valor menor que 21\n",
        "print(bmi[light])\n",
        "\n",
        "# Print os elementos de weight_array do index 8 até o index 15, incluindo o index 15\n",
        "print(weight_array[8:15])\n",
        "\n",
        "# Print os elementos height_array do index 11 até o index 19, incluindo o index 19\n",
        "print(height_array[11:19])"
      ],
      "metadata": {
        "colab": {
          "base_uri": "https://localhost:8080/"
        },
        "id": "GksgJJ7dWylw",
        "outputId": "69260471-0c10-4e3c-c520-5cccf55d2529"
      },
      "execution_count": null,
      "outputs": [
        {
          "output_type": "stream",
          "name": "stdout",
          "text": [
            "[19.59645812 28.7132112  36.88888889 20.77061308 15.15113255 35.36668176\n",
            " 37.77117769 36.84210526 34.6318022  15.97567575 20.99054097 47.47732426\n",
            " 40.61482441 36.27095383 30.02659498 21.60493827 43.97978473 19.460881\n",
            " 13.63720414 27.85297793]\n",
            "[ True False False  True  True False False False False  True  True False\n",
            " False False False False False  True  True False]\n",
            "[19.59645812 20.77061308 15.15113255 15.97567575 20.99054097 19.460881\n",
            " 13.63720414]\n",
            "[129  62  79 134 116 148 105]\n",
            "[1.68 1.69 2.02 1.87 1.8  1.61 1.95 2.08]\n"
          ]
        }
      ]
    },
    {
      "cell_type": "code",
      "source": [
        "import random as rd\n",
        "import numpy as np"
      ],
      "metadata": {
        "id": "QxedisDRcHDi"
      },
      "execution_count": 16,
      "outputs": []
    },
    {
      "cell_type": "code",
      "source": [
        "city1 = [5,10]\n",
        "city2 = [8,20]\n",
        "city3 = [4,15]\n",
        "np_city = np.array([city1, city2, city3])"
      ],
      "metadata": {
        "id": "rPtWI7ZqQAo9"
      },
      "execution_count": 18,
      "outputs": []
    },
    {
      "cell_type": "code",
      "source": [
        "np.mean(np_city[:,0])"
      ],
      "metadata": {
        "colab": {
          "base_uri": "https://localhost:8080/"
        },
        "id": "wOCwfumXQMym",
        "outputId": "8ba42c46-ef31-4133-f6ef-597ac0384992"
      },
      "execution_count": 19,
      "outputs": [
        {
          "output_type": "execute_result",
          "data": {
            "text/plain": [
              "np.float64(5.666666666666667)"
            ]
          },
          "metadata": {},
          "execution_count": 19
        }
      ]
    },
    {
      "cell_type": "code",
      "source": [
        "np.median(np_city[:,0])"
      ],
      "metadata": {
        "colab": {
          "base_uri": "https://localhost:8080/"
        },
        "id": "NtatRZPNQRRK",
        "outputId": "d690932a-97da-4123-9200-97796a110979"
      },
      "execution_count": 21,
      "outputs": [
        {
          "output_type": "execute_result",
          "data": {
            "text/plain": [
              "np.float64(5.0)"
            ]
          },
          "metadata": {},
          "execution_count": 21
        }
      ]
    },
    {
      "cell_type": "code",
      "source": [
        "np.corrcoef(np_city[:,0], np_city[:,1])"
      ],
      "metadata": {
        "colab": {
          "base_uri": "https://localhost:8080/"
        },
        "id": "qTChtb8EQ5zh",
        "outputId": "9dcdfc49-ed3d-4e08-af0b-8d978e6b6814"
      },
      "execution_count": 22,
      "outputs": [
        {
          "output_type": "execute_result",
          "data": {
            "text/plain": [
              "array([[1.        , 0.72057669],\n",
              "       [0.72057669, 1.        ]])"
            ]
          },
          "metadata": {},
          "execution_count": 22
        }
      ]
    },
    {
      "cell_type": "code",
      "source": [
        "np.std(np_city[:,0])"
      ],
      "metadata": {
        "colab": {
          "base_uri": "https://localhost:8080/"
        },
        "id": "8yKHNT5mRBxF",
        "outputId": "45e4fdc3-1886-4f82-90b1-5021ce4d3f3c"
      },
      "execution_count": 23,
      "outputs": [
        {
          "output_type": "execute_result",
          "data": {
            "text/plain": [
              "np.float64(1.699673171197595)"
            ]
          },
          "metadata": {},
          "execution_count": 23
        }
      ]
    },
    {
      "cell_type": "code",
      "source": [
        "height = np.round(np.random.normal(1.75, 0.20, 5000), 2)\n",
        "weight = np.round(np.random.normal(60.32, 15, 5000), 2)\n",
        "\n",
        "np_city = np.column_stack((height, weight))\n",
        "\n",
        "print(np_city)"
      ],
      "metadata": {
        "colab": {
          "base_uri": "https://localhost:8080/"
        },
        "id": "4ITjC-MLSOaH",
        "outputId": "9bb52ad8-91d5-40cf-b1cd-c91b90980f4c"
      },
      "execution_count": 24,
      "outputs": [
        {
          "output_type": "stream",
          "name": "stdout",
          "text": [
            "[[ 1.66 82.69]\n",
            " [ 1.67 73.69]\n",
            " [ 1.53 69.24]\n",
            " ...\n",
            " [ 1.56 84.3 ]\n",
            " [ 1.68 67.35]\n",
            " [ 1.7  41.77]]\n"
          ]
        }
      ]
    }
  ]
}