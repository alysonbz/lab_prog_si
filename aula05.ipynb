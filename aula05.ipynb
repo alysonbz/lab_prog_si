{
  "nbformat": 4,
  "nbformat_minor": 0,
  "metadata": {
    "colab": {
      "provenance": [],
      "authorship_tag": "ABX9TyOgCPahHbl/ttwaI6/Glsx1",
      "include_colab_link": true
    },
    "kernelspec": {
      "name": "python3",
      "display_name": "Python 3"
    },
    "language_info": {
      "name": "python"
    }
  },
  "cells": [
    {
      "cell_type": "markdown",
      "metadata": {
        "id": "view-in-github",
        "colab_type": "text"
      },
      "source": [
        "<a href=\"https://colab.research.google.com/github/alysonbz/lab_prog_si/blob/laisa_gomes/aula05.ipynb\" target=\"_parent\"><img src=\"https://colab.research.google.com/assets/colab-badge.svg\" alt=\"Open In Colab\"/></a>"
      ]
    },
    {
      "cell_type": "code",
      "execution_count": null,
      "metadata": {
        "colab": {
          "base_uri": "https://localhost:8080/"
        },
        "id": "8C-IWe--Vhi3",
        "outputId": "ad30640e-5667-4850-8abe-748ed83c3fe0"
      },
      "outputs": [
        {
          "output_type": "stream",
          "name": "stdout",
          "text": [
            "[180 215 210 210 188 176 209 200]\n",
            "<class 'numpy.ndarray'>\n",
            "(8,)\n"
          ]
        }
      ],
      "source": [
        "# Criar uma lista baseball\n",
        "\n",
        "baseball = [ 180, 215, 210, 210, 188, 176, 209, 200]\n",
        "\n",
        "import numpy as np\n",
        "\n",
        "np_baseball = np.array(baseball)\n",
        "print( np_baseball)\n",
        "\n",
        "# Mostrando o tipo\n",
        "print(type(np_baseball))\n",
        "\n",
        "# Mostrando as dimensões de np_baseball\n",
        "\n",
        "print(np_baseball.shape)"
      ]
    },
    {
      "cell_type": "code",
      "source": [
        "import random as rd\n",
        "import numpy as np\n",
        "\n",
        "# Geração de números entre 150 e 209\n",
        "height = range(150, 210)\n",
        "\n",
        "# Geração de números entre 50 e 149\n",
        "weight = range(50, 149)\n",
        "\n",
        "# Amostra  randomica de 20 numeros de height\n",
        "height_sample = rd.sample(height, 20)\n",
        "\n",
        "# Amostra  randomica de 20 numeros de weight\n",
        "weight_sample = rd.sample(weight, 20)\n",
        "\n",
        "# Converter height em array e normalizar multiplicando poe 0.01\n",
        "height_array = np.array(height_sample) * 0.01\n",
        "\n",
        "# Converter weight em array\n",
        "weight_array = np.array(weight_sample)\n",
        "\n",
        "# Cálculo do BMI\n",
        "bmi = weight_array / height_array ** 2\n",
        "\n",
        "print(bmi)\n",
        "\n",
        "# Verificação onde BMI é menor que 21\n",
        "light = bmi<21\n",
        "print(light)\n",
        "\n",
        "# Exibição dos valores de bmi com valor menor que 21\n",
        "print(bmi[light])\n",
        "\n",
        "# Print os elementos de weight_array do index 8 até o index 15, incluindo o index 15\n",
        "print(weight_array[8:15])\n",
        "\n",
        "# Print os elementos height_array do index 11 até o index 19, incluindo o index 19\n",
        "print(height_array[11:19])"
      ],
      "metadata": {
        "colab": {
          "base_uri": "https://localhost:8080/"
        },
        "id": "GksgJJ7dWylw",
        "outputId": "69260471-0c10-4e3c-c520-5cccf55d2529"
      },
      "execution_count": null,
      "outputs": [
        {
          "output_type": "stream",
          "name": "stdout",
          "text": [
            "[19.59645812 28.7132112  36.88888889 20.77061308 15.15113255 35.36668176\n",
            " 37.77117769 36.84210526 34.6318022  15.97567575 20.99054097 47.47732426\n",
            " 40.61482441 36.27095383 30.02659498 21.60493827 43.97978473 19.460881\n",
            " 13.63720414 27.85297793]\n",
            "[ True False False  True  True False False False False  True  True False\n",
            " False False False False False  True  True False]\n",
            "[19.59645812 20.77061308 15.15113255 15.97567575 20.99054097 19.460881\n",
            " 13.63720414]\n",
            "[129  62  79 134 116 148 105]\n",
            "[1.68 1.69 2.02 1.87 1.8  1.61 1.95 2.08]\n"
          ]
        }
      ]
    },
    {
      "cell_type": "code",
      "source": [
        "import random as rd\n",
        "import numpy as np"
      ],
      "metadata": {
        "id": "QxedisDRcHDi"
      },
      "execution_count": null,
      "outputs": []
    },
    {
      "cell_type": "code",
      "source": [
        "city1 = [5, 10]\n",
        "city2 = [8, 20]\n",
        "city3 = [4, 15]"
      ],
      "metadata": {
        "id": "0j7jb-fD_X8i"
      },
      "execution_count": null,
      "outputs": []
    },
    {
      "cell_type": "code",
      "source": [
        "import random as rd\n",
        "dados =  np.random.randit(1, 100, 100)\n",
        "dados"
      ],
      "metadata": {
        "colab": {
          "base_uri": "https://localhost:8080/",
          "height": 176
        },
        "id": "tcHyaH02CsBq",
        "outputId": "e0af44c4-844e-4f34-fcc1-d5ffa46ac006"
      },
      "execution_count": null,
      "outputs": [
        {
          "output_type": "error",
          "ename": "AttributeError",
          "evalue": "module 'numpy.random' has no attribute 'randit'",
          "traceback": [
            "\u001b[0;31m---------------------------------------------------------------------------\u001b[0m",
            "\u001b[0;31mAttributeError\u001b[0m                            Traceback (most recent call last)",
            "\u001b[0;32m<ipython-input-4-027fa7ea07db>\u001b[0m in \u001b[0;36m<cell line: 0>\u001b[0;34m()\u001b[0m\n\u001b[1;32m      1\u001b[0m \u001b[0;32mimport\u001b[0m \u001b[0mrandom\u001b[0m \u001b[0;32mas\u001b[0m \u001b[0mrd\u001b[0m\u001b[0;34m\u001b[0m\u001b[0;34m\u001b[0m\u001b[0m\n\u001b[0;32m----> 2\u001b[0;31m \u001b[0mdados\u001b[0m \u001b[0;34m=\u001b[0m  \u001b[0mnp\u001b[0m\u001b[0;34m.\u001b[0m\u001b[0mrandom\u001b[0m\u001b[0;34m.\u001b[0m\u001b[0mrandit\u001b[0m\u001b[0;34m(\u001b[0m\u001b[0;36m1\u001b[0m\u001b[0;34m,\u001b[0m \u001b[0;36m100\u001b[0m\u001b[0;34m,\u001b[0m \u001b[0;36m100\u001b[0m\u001b[0;34m)\u001b[0m\u001b[0;34m\u001b[0m\u001b[0;34m\u001b[0m\u001b[0m\n\u001b[0m\u001b[1;32m      3\u001b[0m \u001b[0mdados\u001b[0m\u001b[0;34m\u001b[0m\u001b[0;34m\u001b[0m\u001b[0m\n",
            "\u001b[0;31mAttributeError\u001b[0m: module 'numpy.random' has no attribute 'randit'"
          ]
        }
      ]
    },
    {
      "cell_type": "code",
      "source": [
        "import matplotlib.pyplot as plt\n",
        "plt.hist(dados)"
      ],
      "metadata": {
        "colab": {
          "base_uri": "https://localhost:8080/",
          "height": 158
        },
        "id": "qI4PmFzdDSKx",
        "outputId": "53264c1b-42fb-474b-fce9-4e354197af13"
      },
      "execution_count": null,
      "outputs": [
        {
          "output_type": "error",
          "ename": "NameError",
          "evalue": "name 'dados' is not defined",
          "traceback": [
            "\u001b[0;31m---------------------------------------------------------------------------\u001b[0m",
            "\u001b[0;31mNameError\u001b[0m                                 Traceback (most recent call last)",
            "\u001b[0;32m<ipython-input-5-c765da9c8765>\u001b[0m in \u001b[0;36m<cell line: 0>\u001b[0;34m()\u001b[0m\n\u001b[1;32m      1\u001b[0m \u001b[0;32mimport\u001b[0m \u001b[0mmatplotlib\u001b[0m\u001b[0;34m.\u001b[0m\u001b[0mpyplot\u001b[0m \u001b[0;32mas\u001b[0m \u001b[0mplt\u001b[0m\u001b[0;34m\u001b[0m\u001b[0;34m\u001b[0m\u001b[0m\n\u001b[0;32m----> 2\u001b[0;31m \u001b[0mplt\u001b[0m\u001b[0;34m.\u001b[0m\u001b[0mhist\u001b[0m\u001b[0;34m(\u001b[0m\u001b[0mdados\u001b[0m\u001b[0;34m)\u001b[0m\u001b[0;34m\u001b[0m\u001b[0;34m\u001b[0m\u001b[0m\n\u001b[0m",
            "\u001b[0;31mNameError\u001b[0m: name 'dados' is not defined"
          ]
        }
      ]
    }
  ]
}