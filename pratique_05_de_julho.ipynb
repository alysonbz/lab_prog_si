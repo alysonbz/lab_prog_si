{
  "nbformat": 4,
  "nbformat_minor": 0,
  "metadata": {
    "colab": {
      "provenance": [],
      "authorship_tag": "ABX9TyO3tu5KPaU7ObnbylvqkeaW",
      "include_colab_link": true
    },
    "kernelspec": {
      "name": "python3",
      "display_name": "Python 3"
    },
    "language_info": {
      "name": "python"
    }
  },
  "cells": [
    {
      "cell_type": "markdown",
      "metadata": {
        "id": "view-in-github",
        "colab_type": "text"
      },
      "source": [
        "<a href=\"https://colab.research.google.com/github/alysonbz/lab_prog_si/blob/saulo_brito/pratique_05_de_julho.ipynb\" target=\"_parent\"><img src=\"https://colab.research.google.com/assets/colab-badge.svg\" alt=\"Open In Colab\"/></a>"
      ]
    },
    {
      "cell_type": "code",
      "execution_count": 1,
      "metadata": {
        "id": "Jag3k2rXQJwY"
      },
      "outputs": [],
      "source": [
        "import random as rd"
      ]
    },
    {
      "cell_type": "code",
      "source": [
        "import numpy as np"
      ],
      "metadata": {
        "id": "55cbq16-Qvjz"
      },
      "execution_count": 2,
      "outputs": []
    },
    {
      "cell_type": "code",
      "source": [
        "height = range(150,210)"
      ],
      "metadata": {
        "id": "96l1w-NLQ2yD"
      },
      "execution_count": 3,
      "outputs": []
    },
    {
      "cell_type": "code",
      "source": [
        "weight = range(50,150)"
      ],
      "metadata": {
        "id": "s8l9AFSYQ9DA"
      },
      "execution_count": 4,
      "outputs": []
    },
    {
      "cell_type": "code",
      "source": [
        "height = rd.sample(height,20)"
      ],
      "metadata": {
        "id": "qE0o4d40RExb"
      },
      "execution_count": 5,
      "outputs": []
    },
    {
      "cell_type": "code",
      "source": [
        "weight = rd.sample(weight,20)"
      ],
      "metadata": {
        "id": "lVRj21i7RNWc"
      },
      "execution_count": 6,
      "outputs": []
    },
    {
      "cell_type": "code",
      "source": [
        "height_array = np.array(height) * 0.01"
      ],
      "metadata": {
        "id": "pZWgqomCSjCu"
      },
      "execution_count": 7,
      "outputs": []
    },
    {
      "cell_type": "code",
      "source": [
        "weight_array = np.array(weight)"
      ],
      "metadata": {
        "id": "3_Cj2SphSvWb"
      },
      "execution_count": 8,
      "outputs": []
    },
    {
      "cell_type": "code",
      "source": [
        "bmi = weight_array / height_array ** 2"
      ],
      "metadata": {
        "id": "9Zhe1G0dSzdp"
      },
      "execution_count": 9,
      "outputs": []
    },
    {
      "cell_type": "code",
      "source": [
        "ligth = bmi < 21"
      ],
      "metadata": {
        "id": "ut7TDD5iS3qf"
      },
      "execution_count": 10,
      "outputs": []
    },
    {
      "cell_type": "code",
      "source": [
        "print(ligth)"
      ],
      "metadata": {
        "colab": {
          "base_uri": "https://localhost:8080/"
        },
        "id": "k-6GCc-WS9xj",
        "outputId": "682a466d-6715-43ff-b257-11d4799a2650"
      },
      "execution_count": 11,
      "outputs": [
        {
          "output_type": "stream",
          "name": "stdout",
          "text": [
            "[False False  True False  True False False False False  True False False\n",
            "  True False False False False False False False]\n"
          ]
        }
      ]
    },
    {
      "cell_type": "code",
      "source": [
        "print(bmi[ligth])"
      ],
      "metadata": {
        "colab": {
          "base_uri": "https://localhost:8080/"
        },
        "id": "L5CjVSPKTCvh",
        "outputId": "4aeac86f-bf94-40c4-c1a9-4c71837c2167"
      },
      "execution_count": 12,
      "outputs": [
        {
          "output_type": "stream",
          "name": "stdout",
          "text": [
            "[17.78970694 18.32242713 12.36235434 17.25      ]\n"
          ]
        }
      ]
    },
    {
      "cell_type": "code",
      "source": [
        "print(weight_array[8:16])"
      ],
      "metadata": {
        "colab": {
          "base_uri": "https://localhost:8080/"
        },
        "id": "lCLOXYjSTJNl",
        "outputId": "85288a8e-5c37-430f-945b-019e8991e377"
      },
      "execution_count": 13,
      "outputs": [
        {
          "output_type": "stream",
          "name": "stdout",
          "text": [
            "[123  54 106 134  69  56  86 141]\n"
          ]
        }
      ]
    },
    {
      "cell_type": "code",
      "source": [
        "print(height_array[11:20])"
      ],
      "metadata": {
        "colab": {
          "base_uri": "https://localhost:8080/"
        },
        "id": "sUXj6CKOTTiO",
        "outputId": "a5cacd6f-96fb-4b1b-b3e6-c4460fa73b8e"
      },
      "execution_count": 14,
      "outputs": [
        {
          "output_type": "stream",
          "name": "stdout",
          "text": [
            "[1.9  2.   1.56 1.63 1.98 1.88 2.02 1.86 1.73]\n"
          ]
        }
      ]
    },
    {
      "cell_type": "code",
      "source": [
        "height = np.round(np.random.normal(1.75, 0.20, 5000), 2)\n",
        "weight = np.round(np.random.normal(60.32, 15, 5000), 2)\n",
        "np_city = np.column_stack((height, weight))"
      ],
      "metadata": {
        "id": "eVMFmMEyVVI7"
      },
      "execution_count": 15,
      "outputs": []
    },
    {
      "cell_type": "code",
      "source": [
        "print(np_city)"
      ],
      "metadata": {
        "colab": {
          "base_uri": "https://localhost:8080/"
        },
        "id": "2zU2moVxVlLR",
        "outputId": "9a0a399a-e767-455c-ed97-085dc408e1f0"
      },
      "execution_count": 16,
      "outputs": [
        {
          "output_type": "stream",
          "name": "stdout",
          "text": [
            "[[ 1.48 70.39]\n",
            " [ 1.37 57.13]\n",
            " [ 1.74 67.35]\n",
            " ...\n",
            " [ 1.53 58.32]\n",
            " [ 2.02 65.82]\n",
            " [ 1.72 50.8 ]]\n"
          ]
        }
      ]
    }
  ]
}