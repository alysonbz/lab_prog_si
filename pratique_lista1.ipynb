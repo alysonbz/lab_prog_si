{
  "nbformat": 4,
  "nbformat_minor": 0,
  "metadata": {
    "colab": {
      "provenance": [],
      "authorship_tag": "ABX9TyMMjLyRZ5m9zoKGb9b9AjfN",
      "include_colab_link": true
    },
    "kernelspec": {
      "name": "python3",
      "display_name": "Python 3"
    },
    "language_info": {
      "name": "python"
    }
  },
  "cells": [
    {
      "cell_type": "markdown",
      "metadata": {
        "id": "view-in-github",
        "colab_type": "text"
      },
      "source": [
        "<a href=\"https://colab.research.google.com/github/alysonbz/lab_prog_si/blob/antonio_erick/pratique_lista1.ipynb\" target=\"_parent\"><img src=\"https://colab.research.google.com/assets/colab-badge.svg\" alt=\"Open In Colab\"/></a>"
      ]
    },
    {
      "cell_type": "code",
      "execution_count": null,
      "metadata": {
        "id": "t5zaYLECmuaR"
      },
      "outputs": [],
      "source": [
        "hall=11.25\n",
        "kit=18.0\n",
        "liv=20.0\n",
        "bed=10.75\n",
        "bath=9.50\n",
        "areas=[hall,kit,liv,bed,bath]\n",
        "print(areas)"
      ]
    },
    {
      "cell_type": "code",
      "source": [
        "#questão 1\n",
        "hall=11.25\n",
        "kit=18.0\n",
        "liv=20.0\n",
        "bed=10.75\n",
        "bath=9.50\n",
        "areas=['hall',11.25,'kit',18,'liv',20,'bed',10.75,'bath',9.50]\n",
        "areas.insert(0,'hallway')\n",
        "areas.insert(2,'kitchen')\n",
        "areas.insert(5,'bedroom')\n",
        "areas.insert(4,'linving romm')\n",
        "areas.insert(8,'bathromm')\n",
        "print(areas)"
      ],
      "metadata": {
        "colab": {
          "base_uri": "https://localhost:8080/"
        },
        "id": "NlSgZzlonAYS",
        "outputId": "670209f3-a1b8-44a6-bf3c-e951221bad6d"
      },
      "execution_count": null,
      "outputs": [
        {
          "output_type": "stream",
          "name": "stdout",
          "text": [
            "['hallway', 'hall', 'kitchen', 11.25, 'linving romm', 'kit', 'bedroom', 18, 'bathromm', 'liv', 20, 'bed', 10.75, 'bath', 9.5]\n"
          ]
        }
      ]
    },
    {
      "cell_type": "code",
      "source": [
        "#questão 2 suponha que as seguintes listas foram criadas.\n",
        "# A=[1,3,4,2] B=[[1,2,3],[4,5,7]] C=[1+2,\"a\" * 5,3]\n",
        "#Qual forma de criação de lista está correta ? Descreva o que contém nas listas definidas corretamente.\n",
        "\n",
        "A=[1,3,4,2]\n",
        "B=[[1,2,3],[4,5,7]]\n",
        "c=[1+2,\"a\" * 5,3]\n",
        "print(c)\n",
        "print(B)\n",
        "print(A)\n",
        "\n",
        "#todas estão corretas, na lista \"A\" contém 4 números inteiros,\n",
        "# na B contém uma lista de lista sendo a primeira '1,2,3' e a segunda '4,5,7'\n",
        "# na C contém  3,aaaaa,3 sendo o primeiro '3' resultado da equação 1+2 e o 'aaaaa' da multiplicação de string (\"a\"*5)"
      ],
      "metadata": {
        "id": "vklzoI4onJGx"
      },
      "execution_count": null,
      "outputs": []
    },
    {
      "cell_type": "code",
      "source": [
        "hall=11.25\n",
        "kit=18.0\n",
        "liv=20.0\n",
        "bath=9.50\n",
        "bed=10.75\n",
        "#3) Complete a lista de listas com as informações de  bedroom e bathroom.\n",
        "house=[['hallway,',hall],\n",
        "       ['kitchen',kit],\n",
        "       ['living room', liv]]\n",
        "#3.1) Mostre a variável house.\n",
        "print(house)\n",
        "#3.2) Print o tipo da variável house.\n",
        "print(type(house))\n"
      ],
      "metadata": {
        "colab": {
          "base_uri": "https://localhost:8080/"
        },
        "id": "I2YmxL59nTa3",
        "outputId": "16b5f3a7-8d9f-4b4a-9b16-39bdfb4b3882"
      },
      "execution_count": null,
      "outputs": [
        {
          "output_type": "stream",
          "name": "stdout",
          "text": [
            "[['hallway,', 11.25], ['kitchen', 18.0], ['living room', 20.0]]\n",
            "<class 'list'>\n"
          ]
        }
      ]
    },
    {
      "cell_type": "code",
      "source": [
        "# Crie a lista de áreas\n",
        "areas = [\"hallway\", 11.25, \"kitchen\", 18.0, \"living room\", 20.0, \"bedroom\", 10.75, \"bathroom\", 9.50]\n",
        "\n",
        "#4 Imprima o segundo elemento da lista areas\n",
        "print(areas[1])\n",
        "\n",
        "#4.1Exiba o último elemento da lista usando index negativo.\n",
        "print(areas[-1])\n",
        "\n",
        "#4.2 Imprima a área da sala de estar\n",
        "print(areas[5])\n"
      ],
      "metadata": {
        "colab": {
          "base_uri": "https://localhost:8080/"
        },
        "id": "fvQYjK07rYjQ",
        "outputId": "f2590546-4673-46e1-f637-5b95a4b80bf0"
      },
      "execution_count": null,
      "outputs": [
        {
          "output_type": "stream",
          "name": "stdout",
          "text": [
            "11.25\n",
            "9.5\n",
            "20.0\n"
          ]
        }
      ]
    },
    {
      "cell_type": "code",
      "source": [
        "areas=['hallway', 11.25,'kitchen', 18.0,'linving romm', 20.0, 'bedroom', 10.75,'bathromm', 9.5]\n",
        "#5) Na linha 7, acessando os elementos da lista, realize a soma dos valores de Kitchen e living room e atribua em eat_sleep_area.\n",
        "eat_sleep_area= areas[3] + areas[5]\n",
        "#5.1) Exiba a variável eat_sleep_area.\n",
        "print(eat_sleep_area)\n"
      ],
      "metadata": {
        "colab": {
          "base_uri": "https://localhost:8080/"
        },
        "id": "ho0SyfRntYnK",
        "outputId": "e1ea0c6a-3b2f-472a-c6b7-ecf2249e6658"
      },
      "execution_count": null,
      "outputs": [
        {
          "output_type": "stream",
          "name": "stdout",
          "text": [
            "38.0\n"
          ]
        }
      ]
    },
    {
      "cell_type": "code",
      "source": [
        "areas=['hallway', 11.25,'kitchen', 18.0,'linving romm', 20.0, 'bedroom', 10.75,'bathromm', 9.5]\n",
        "#6) Acesse os 6 primeiros elemento de areas e atribua a uma nova lista: downstairs.\n",
        "areas[0:6]\n",
        "downstairs=areas[0:6]\n",
        "#6.1) Acesse os 4 últimos elementos de areas e atribua a uma nova lista: upstairs.\n",
        "upstairs=areas[6:10]\n",
        "#6.2) Exiba downstairs e upstairs.\n",
        "print(downstairs)\n",
        "print(upstairs)"
      ],
      "metadata": {
        "colab": {
          "base_uri": "https://localhost:8080/"
        },
        "id": "dUUby4Lox5l3",
        "outputId": "efa67847-2c66-4a37-da47-ce8c26a27c4b"
      },
      "execution_count": null,
      "outputs": [
        {
          "output_type": "stream",
          "name": "stdout",
          "text": [
            "['hallway', 11.25, 'kitchen', 18.0, 'linving romm', 20.0]\n",
            "['bedroom', 10.75, 'bathromm', 9.5]\n"
          ]
        }
      ]
    },
    {
      "cell_type": "code",
      "source": [
        "fam=['lara',1.50, 'erly', 1.68, 'luiza', 1.20]\n",
        "fam[3]\n",
        "fam[-1]\n",
        "len(fam)\n",
        "print(' o tamanho da lista é', len(fam))\n",
        "#slice\n",
        "fam[2:6]"
      ],
      "metadata": {
        "id": "np4C-LqZzODW",
        "colab": {
          "base_uri": "https://localhost:8080/"
        },
        "outputId": "b5d7197f-5bbf-4497-d774-a0a721d44cc2"
      },
      "execution_count": null,
      "outputs": [
        {
          "output_type": "stream",
          "name": "stdout",
          "text": [
            " o tamanho da lista é 6\n"
          ]
        },
        {
          "output_type": "execute_result",
          "data": {
            "text/plain": [
              "['erly', 1.68, 'luiza', 1.2]"
            ]
          },
          "metadata": {},
          "execution_count": 5
        }
      ]
    },
    {
      "cell_type": "code",
      "source": [
        "#acessando elementos numa lista de listas\n",
        "alunos=[['hugo','UFC'],['Zé feitoza', 'UNINTA']]\n",
        "alunos[0][1]"
      ],
      "metadata": {
        "colab": {
          "base_uri": "https://localhost:8080/",
          "height": 35
        },
        "id": "-db0bB1PR29M",
        "outputId": "0b8fefdf-c621-4c23-a4fb-f8ac958f1ac8"
      },
      "execution_count": null,
      "outputs": [
        {
          "output_type": "execute_result",
          "data": {
            "text/plain": [
              "'UFC'"
            ],
            "application/vnd.google.colaboratory.intrinsic+json": {
              "type": "string"
            }
          },
          "metadata": {},
          "execution_count": 9
        }
      ]
    },
    {
      "cell_type": "code",
      "source": [
        "#uma lista da sua familia\n",
        "familia=[['lara',1.50],['erly', 1.68], ['luiza', 1.20]]\n",
        "print('O TERCEIRO ELEMANTO DA LISTA É ', fam[2])\n",
        "print('A ALTURA DO SEGUNDO ELEMENTO DA LISTA É ', fam[1][1])\n"
      ],
      "metadata": {
        "colab": {
          "base_uri": "https://localhost:8080/"
        },
        "id": "B7KZe9HzTk9z",
        "outputId": "7a82f12d-dc8f-4df1-f05d-8a7f811787cb"
      },
      "execution_count": null,
      "outputs": [
        {
          "output_type": "stream",
          "name": "stdout",
          "text": [
            "O TERCEIRO ELEMANTO DA LISTA É  ['luiza', 1.2]\n",
            "A ALTURA DO SEGUNDO ELEMENTO DA LISTA É  1.68\n"
          ]
        }
      ]
    },
    {
      "cell_type": "code",
      "source": [
        "hall=11.25\n",
        "kit=18.0\n",
        "liv=20.0\n",
        "bed=10.75\n",
        "bath=9.50\n",
        "x=[['hallway',hall],['kitchen',kit],['living room',liv],['bathromm',bath]]\n",
        "x=[2][0]"
      ],
      "metadata": {
        "id": "PEnM352NV8iK"
      },
      "execution_count": null,
      "outputs": []
    },
    {
      "cell_type": "markdown",
      "source": [
        "MANIPULANDO LISTAS"
      ],
      "metadata": {
        "id": "4uiqQC6T86_x"
      }
    },
    {
      "cell_type": "code",
      "source": [
        "\n",
        "fam= ['liz', 1.73,'emma',1.68,'mom',1.71,'dad',1.89]\n",
        "print(fam)\n",
        "#\n",
        "fam [7] = 1.86\n",
        "print(fam)\n",
        "#\n",
        "fam[0:2] = ['lisa', 1.74]\n",
        "print(fam)\n",
        "#\n",
        "fam +['me', 1.79]\n",
        "print(fam)\n",
        "#\n",
        "fam_ext =fam + ['me',1.79]\n",
        "del(fam[2])\n",
        "print(fam_ext)\n",
        "print(fam)\n"
      ],
      "metadata": {
        "colab": {
          "base_uri": "https://localhost:8080/"
        },
        "id": "hjmwioVO5Dqi",
        "outputId": "a0404d7a-9ed9-4a47-9b85-9ced96e91cd2"
      },
      "execution_count": null,
      "outputs": [
        {
          "output_type": "stream",
          "name": "stdout",
          "text": [
            "['liz', 1.73, 'emma', 1.68, 'mom', 1.71, 'dad', 1.89]\n",
            "['liz', 1.73, 'emma', 1.68, 'mom', 1.71, 'dad', 1.86]\n",
            "['lisa', 1.74, 'emma', 1.68, 'mom', 1.71, 'dad', 1.86]\n",
            "['lisa', 1.74, 'emma', 1.68, 'mom', 1.71, 'dad', 1.86]\n",
            "['lisa', 1.74, 'emma', 1.68, 'mom', 1.71, 'dad', 1.86, 'me', 1.79]\n",
            "['lisa', 1.74, 1.68, 'mom', 1.71, 'dad', 1.86]\n"
          ]
        }
      ]
    },
    {
      "cell_type": "markdown",
      "source": [
        "## Informação importante sobre manipulação de Listas"
      ],
      "metadata": {
        "id": "5lJRMLM5_fDl"
      }
    },
    {
      "cell_type": "code",
      "source": [
        "x=['a','b','c']\n",
        "y=x\n",
        "y[1]='z'\n",
        "print(y)\n",
        "print(x)"
      ],
      "metadata": {
        "colab": {
          "base_uri": "https://localhost:8080/"
        },
        "id": "CcLOUzbm6333",
        "outputId": "27ab5336-e5d8-4521-e9ea-718d86daaafe"
      },
      "execution_count": null,
      "outputs": [
        {
          "output_type": "stream",
          "name": "stdout",
          "text": [
            "['a', 'z', 'c']\n",
            "['a', 'z', 'c']\n"
          ]
        }
      ]
    },
    {
      "cell_type": "code",
      "source": [],
      "metadata": {
        "id": "cpcnPpNg_p89"
      },
      "execution_count": null,
      "outputs": []
    },
    {
      "cell_type": "markdown",
      "source": [
        "Criar uma lista a partir de outra lista. Sugestão de 2 maneiras."
      ],
      "metadata": {
        "id": "t9yk_1if_ylF"
      }
    },
    {
      "cell_type": "code",
      "source": [
        "x=['a','b','c']\n",
        "y = list(x)\n",
        "y=x[:]\n",
        "y[1] = 'z'\n",
        "print(x)\n",
        "print(y)"
      ],
      "metadata": {
        "colab": {
          "base_uri": "https://localhost:8080/"
        },
        "id": "Tq33MPt6_0-c",
        "outputId": "3caa60e7-bb19-4b40-fea2-761e0550083f"
      },
      "execution_count": null,
      "outputs": [
        {
          "output_type": "stream",
          "name": "stdout",
          "text": [
            "['a', 'b', 'c']\n",
            "['a', 'z', 'c']\n"
          ]
        }
      ]
    },
    {
      "cell_type": "markdown",
      "source": [
        "  PRATIQUE"
      ],
      "metadata": {
        "id": "mbAOQqMHAgzM"
      }
    },
    {
      "cell_type": "code",
      "source": [
        "#7.0Troque o valor de bathroom de 9.50 para 10.50.\n",
        "areas=['hallway', 11.25,\n",
        "       'kitchen', 18.0,'linving romm',\n",
        "       20.0, 'bedroom', 10.75,\n",
        "       'bathromm', 9.5]\n",
        "areas[-1] = 10.50\n",
        "print(areas)\n",
        "#7.1) Substitua a string “Living room” por “chill zone”\n",
        "areas[4]= 'chill zone'\n",
        "print(areas)"
      ],
      "metadata": {
        "colab": {
          "base_uri": "https://localhost:8080/"
        },
        "id": "OkoeuQjjAkXE",
        "outputId": "f6bde3cf-c57c-4b8d-804b-1085bd2a44f2"
      },
      "execution_count": null,
      "outputs": [
        {
          "output_type": "stream",
          "name": "stdout",
          "text": [
            "['hallway', 11.25, 'kitchen', 18.0, 'linving romm', 20.0, 'bedroom', 10.75, 'bathromm', 10.5]\n",
            "['hallway', 11.25, 'kitchen', 18.0, 'chill zone', 20.0, 'bedroom', 10.75, 'bathromm', 10.5]\n"
          ]
        }
      ]
    },
    {
      "cell_type": "code",
      "source": [
        "#8) Adicione [\"poolhouse\", 24.5] no fim da lista  e atribua em uma nova lista chamada de areas_1\n",
        "areas=['hallway', 11.25,\n",
        "       'kitchen', 18.0,'linving romm',\n",
        "       20.0, 'bedroom', 10.75,\n",
        "       'bathromm', 9.5]\n",
        "areas= areas +['poolhouse',24.51]\n",
        "print(areas)\n",
        "areas_1= areas\n",
        "print(areas_1)\n",
        "\n",
        "#8.1) 8) Adicione [\"garage\", 15.5] no fim da lista areas_1  e atribua em uma nova lista chamada de areas_2\n",
        "areas_1=areas_1 + ['garage', 15.5]\n",
        "print(areas_1)\n",
        "areas_2=areas_1 + ['garage', 15.5]\n",
        "#8.2) Exiba areas_2\n",
        "print(areas_2)\n",
        "\n"
      ],
      "metadata": {
        "colab": {
          "base_uri": "https://localhost:8080/"
        },
        "id": "ytOPauoICQ8j",
        "outputId": "4ab43cea-5954-4994-9304-1c03cb0ccb99"
      },
      "execution_count": null,
      "outputs": [
        {
          "output_type": "stream",
          "name": "stdout",
          "text": [
            "['hallway', 11.25, 'kitchen', 18.0, 'linving romm', 20.0, 'bedroom', 10.75, 'bathromm', 9.5, 'poolhouse', 24.51]\n",
            "['hallway', 11.25, 'kitchen', 18.0, 'linving romm', 20.0, 'bedroom', 10.75, 'bathromm', 9.5, 'poolhouse', 24.51]\n"
          ]
        }
      ]
    },
    {
      "cell_type": "code",
      "source": [
        "#9) Execute o código e observe que a modificação realizada em areas_copy afetou areas.\n",
        "#Corrija esse código e exiba areas e areas_copy no fim do código.\n",
        "areas=[11.25,18.0,20.0,10.75,9.50]\n",
        "# criar areas_copy\n",
        "areas_copy= areas\n",
        "# mudar areas_copy\n",
        "areas_copy[0] = 5.0\n",
        "print('areas',areas)\n",
        "print('areas_copy',areas_copy)\n"
      ],
      "metadata": {
        "colab": {
          "base_uri": "https://localhost:8080/"
        },
        "id": "WZJ0H-OpFR61",
        "outputId": "1002580b-8608-4410-c61b-21a13997995d"
      },
      "execution_count": null,
      "outputs": [
        {
          "output_type": "stream",
          "name": "stdout",
          "text": [
            "areas [5.0, 18.0, 20.0, 10.75, 9.5]\n",
            "areas_copy [5.0, 18.0, 20.0, 10.75, 9.5]\n"
          ]
        }
      ]
    },
    {
      "cell_type": "code",
      "source": [
        "#corrigindo a #9\n",
        "areas=[11.25,18.0,20.0,10.75,9.50]\n",
        "areas_copy= list(areas)\n",
        "y=x[:]\n",
        "areas_copy[0] = 5.0\n",
        "print('areas',areas)\n",
        "print('areas_copy',areas_copy)"
      ],
      "metadata": {
        "colab": {
          "base_uri": "https://localhost:8080/"
        },
        "id": "wZqb5L4SHoOS",
        "outputId": "201fd671-064b-4e10-b647-51f1dd6e0b55"
      },
      "execution_count": null,
      "outputs": [
        {
          "output_type": "stream",
          "name": "stdout",
          "text": [
            "areas [11.25, 18.0, 20.0, 10.75, 9.5]\n",
            "areas_copy [5.0, 18.0, 20.0, 10.75, 9.5]\n"
          ]
        }
      ]
    }
  ]
}